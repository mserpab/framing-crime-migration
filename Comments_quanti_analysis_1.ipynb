{
 "cells": [
  {
   "cell_type": "code",
   "execution_count": null,
   "metadata": {
    "id": "mMCn7r_Xn7TK"
   },
   "outputs": [],
   "source": [
    "import requests\n",
    "import pandas as pd\n",
    "from google.colab import drive\n",
    "from googleapiclient.discovery import build\n",
    "import time\n",
    "import json\n",
    "from google.colab import files\n",
    "from googleapiclient.errors import HttpError\n",
    "import re\n",
    "import matplotlib.pyplot as plt\n",
    "import seaborn as sns\n",
    "from bertopic import BERTopic\n",
    "\n",
    "# Packages for fine tuning BERTopic\n",
    "from bertopic.representation import KeyBERTInspired\n",
    "from bertopic.representation import PartOfSpeech\n",
    "\n",
    "import nltk\n",
    "from nltk.tokenize import word_tokenize\n",
    "import numpy as np\n",
    "from tqdm import tqdm\n",
    "from collections import defaultdict\n",
    "\n",
    "\n",
    "#Importing packages for LDA\n",
    "from gensim.corpora.dictionary import Dictionary  # You might need to install gensim first\n",
    "from gensim.models.ldamulticore import LdaMulticore\n",
    "\n",
    "import logging #This is to provide logging of information when running the LDA\n",
    "from sklearn.metrics.pairwise import cosine_similarity\n",
    "\n",
    "# Packages for fine tuning BERTopic\n",
    "from bertopic.representation import KeyBERTInspired\n",
    "from bertopic.representation import PartOfSpeech\n",
    "from hdbscan import HDBSCAN\n",
    "from sklearn.cluster import KMeans\n",
    "from sklearn.decomposition import PCA\n",
    "from umap import UMAP\n",
    "from sklearn.metrics import silhouette_score"
   ]
  },
  {
   "cell_type": "markdown",
   "metadata": {
    "id": "wpfdr7WIF6V7"
   },
   "source": [
    "# Installing packages"
   ]
  },
  {
   "cell_type": "code",
   "execution_count": null,
   "metadata": {
    "colab": {
     "base_uri": "https://localhost:8080/",
     "height": 894
    },
    "executionInfo": {
     "elapsed": 20388,
     "status": "ok",
     "timestamp": 1745408378096,
     "user": {
      "displayName": "Yana Kiprova",
      "userId": "05029747295494730402"
     },
     "user_tz": -120
    },
    "id": "x0PjmoAEPpYa",
    "outputId": "12cda44b-6836-413f-9fbc-169fb8b83bb2"
   },
   "outputs": [],
   "source": [
    "!pip install --upgrade --force-reinstall numpy gensim"
   ]
  },
  {
   "cell_type": "code",
   "execution_count": null,
   "metadata": {
    "colab": {
     "base_uri": "https://localhost:8080/"
    },
    "executionInfo": {
     "elapsed": 8444,
     "status": "ok",
     "timestamp": 1745133644644,
     "user": {
      "displayName": "Yana Kiprova",
      "userId": "05029747295494730402"
     },
     "user_tz": -120
    },
    "id": "_cxN-MqhF4SA",
    "outputId": "a5789f34-7983-4974-84e5-624c641add59"
   },
   "outputs": [],
   "source": [
    "!pip install nltk"
   ]
  },
  {
   "cell_type": "code",
   "execution_count": null,
   "metadata": {
    "id": "U8RSkdpmPwxe"
   },
   "outputs": [],
   "source": [
    "nltk.download('punkt')\n",
    "nltk.download('punkt_tab')\n",
    "nltk.download('stopwords')\n",
    "nltk.download('wordnet')\n",
    "nltk.download('averaged_perceptron_tagger')\n",
    "nltk.download('omw-1.4')\n",
    "nltk.download('averaged_perceptron_tagger_eng')"
   ]
  },
  {
   "cell_type": "code",
   "execution_count": null,
   "metadata": {
    "colab": {
     "base_uri": "https://localhost:8080/"
    },
    "executionInfo": {
     "elapsed": 3061,
     "status": "ok",
     "timestamp": 1743875852451,
     "user": {
      "displayName": "Yana Kiprova",
      "userId": "05029747295494730402"
     },
     "user_tz": -120
    },
    "id": "z7RLT_TqGaDr",
    "outputId": "82fc2cf5-3df5-42f8-b033-75dd24b9321d"
   },
   "outputs": [],
   "source": [
    "!pip install hdbscan"
   ]
  },
  {
   "cell_type": "code",
   "execution_count": null,
   "metadata": {
    "colab": {
     "base_uri": "https://localhost:8080/",
     "height": 1000
    },
    "executionInfo": {
     "elapsed": 97302,
     "status": "ok",
     "timestamp": 1748086025713,
     "user": {
      "displayName": "Yana Kiprova",
      "userId": "05029747295494730402"
     },
     "user_tz": -120
    },
    "id": "lDXwWaHuojld",
    "outputId": "83b7d14c-197d-4294-901e-b2936e6cc355"
   },
   "outputs": [],
   "source": [
    "!pip install bertopic"
   ]
  },
  {
   "cell_type": "markdown",
   "metadata": {
    "id": "pGRNtNNL_l3Q"
   },
   "source": [
    "# Importing data frames"
   ]
  },
  {
   "cell_type": "code",
   "execution_count": null,
   "metadata": {
    "colab": {
     "base_uri": "https://localhost:8080/"
    },
    "executionInfo": {
     "elapsed": 47532,
     "status": "ok",
     "timestamp": 1748681584584,
     "user": {
      "displayName": "Yana Kiprova",
      "userId": "05029747295494730402"
     },
     "user_tz": -120
    },
    "id": "Xf0c7pMPoE2s",
    "outputId": "6fbd0e90-7bc9-46f4-9c00-38e46212c498"
   },
   "outputs": [
    {
     "name": "stdout",
     "output_type": "stream",
     "text": [
      "Mounted at /gdrive\n"
     ]
    }
   ],
   "source": [
    "drive.mount('/gdrive', force_remount=True)"
   ]
  },
  {
   "cell_type": "code",
   "execution_count": null,
   "metadata": {
    "colab": {
     "base_uri": "https://localhost:8080/"
    },
    "executionInfo": {
     "elapsed": 1550,
     "status": "ok",
     "timestamp": 1748682326168,
     "user": {
      "displayName": "Yana Kiprova",
      "userId": "05029747295494730402"
     },
     "user_tz": -120
    },
    "id": "ZGBA6vFMn7TN",
    "outputId": "c635aeb0-2aa2-479a-8324-8abd8bf5a380"
   },
   "outputs": [],
   "source": [
    "%cd # Directory location removed"
   ]
  },
  {
   "cell_type": "code",
   "execution_count": null,
   "metadata": {
    "colab": {
     "base_uri": "https://localhost:8080/",
     "height": 504
    },
    "executionInfo": {
     "elapsed": 3116,
     "status": "ok",
     "timestamp": 1748086267999,
     "user": {
      "displayName": "Yana Kiprova",
      "userId": "05029747295494730402"
     },
     "user_tz": -120
    },
    "id": "mygRJb5TUcwv",
    "outputId": "ac183d85-a07b-4b9e-e858-d8642c99d276"
   },
   "outputs": [],
   "source": [
    "#df with translated and cleaned transcripts used for topic modeling\n",
    "df_cleaned = pd.read_csv() # File location removed\n",
    "df_cleaned.head()"
   ]
  },
  {
   "cell_type": "code",
   "execution_count": null,
   "metadata": {
    "colab": {
     "base_uri": "https://localhost:8080/",
     "height": 236
    },
    "executionInfo": {
     "elapsed": 2546,
     "status": "ok",
     "timestamp": 1748086113111,
     "user": {
      "displayName": "Yana Kiprova",
      "userId": "05029747295494730402"
     },
     "user_tz": -120
    },
    "id": "TXFRz7ZQiH9n",
    "outputId": "1dde523c-caf9-4984-8126-08e9f3f7aefd"
   },
   "outputs": [
    {
     "data": {
      "application/vnd.google.colaboratory.intrinsic+json": {
       "type": "dataframe",
       "variable_name": "embedding_df"
      },
      "text/html": [
       "\n",
       "  <div id=\"df-9fa685ce-84f7-4956-8b3c-b419b65af476\" class=\"colab-df-container\">\n",
       "    <div>\n",
       "<style scoped>\n",
       "    .dataframe tbody tr th:only-of-type {\n",
       "        vertical-align: middle;\n",
       "    }\n",
       "\n",
       "    .dataframe tbody tr th {\n",
       "        vertical-align: top;\n",
       "    }\n",
       "\n",
       "    .dataframe thead th {\n",
       "        text-align: right;\n",
       "    }\n",
       "</style>\n",
       "<table border=\"1\" class=\"dataframe\">\n",
       "  <thead>\n",
       "    <tr style=\"text-align: right;\">\n",
       "      <th></th>\n",
       "      <th>0</th>\n",
       "      <th>1</th>\n",
       "      <th>2</th>\n",
       "      <th>3</th>\n",
       "      <th>4</th>\n",
       "      <th>5</th>\n",
       "      <th>6</th>\n",
       "      <th>7</th>\n",
       "      <th>8</th>\n",
       "      <th>9</th>\n",
       "      <th>...</th>\n",
       "      <th>374</th>\n",
       "      <th>375</th>\n",
       "      <th>376</th>\n",
       "      <th>377</th>\n",
       "      <th>378</th>\n",
       "      <th>379</th>\n",
       "      <th>380</th>\n",
       "      <th>381</th>\n",
       "      <th>382</th>\n",
       "      <th>383</th>\n",
       "    </tr>\n",
       "  </thead>\n",
       "  <tbody>\n",
       "    <tr>\n",
       "      <th>0</th>\n",
       "      <td>0.069652</td>\n",
       "      <td>-0.115284</td>\n",
       "      <td>-0.018821</td>\n",
       "      <td>-0.145833</td>\n",
       "      <td>0.295005</td>\n",
       "      <td>-0.066359</td>\n",
       "      <td>-0.011431</td>\n",
       "      <td>-0.028900</td>\n",
       "      <td>0.079711</td>\n",
       "      <td>-0.027311</td>\n",
       "      <td>...</td>\n",
       "      <td>0.146651</td>\n",
       "      <td>-0.254471</td>\n",
       "      <td>0.134050</td>\n",
       "      <td>-0.215511</td>\n",
       "      <td>-0.067709</td>\n",
       "      <td>0.199671</td>\n",
       "      <td>0.078908</td>\n",
       "      <td>0.230968</td>\n",
       "      <td>-0.089152</td>\n",
       "      <td>0.138918</td>\n",
       "    </tr>\n",
       "    <tr>\n",
       "      <th>1</th>\n",
       "      <td>0.032234</td>\n",
       "      <td>-0.158599</td>\n",
       "      <td>-0.175157</td>\n",
       "      <td>0.148083</td>\n",
       "      <td>0.022659</td>\n",
       "      <td>-0.075285</td>\n",
       "      <td>0.293689</td>\n",
       "      <td>0.185292</td>\n",
       "      <td>0.074173</td>\n",
       "      <td>0.033734</td>\n",
       "      <td>...</td>\n",
       "      <td>-0.028924</td>\n",
       "      <td>-0.259362</td>\n",
       "      <td>0.232009</td>\n",
       "      <td>-0.000378</td>\n",
       "      <td>0.018417</td>\n",
       "      <td>0.184916</td>\n",
       "      <td>0.070820</td>\n",
       "      <td>0.116157</td>\n",
       "      <td>-0.155986</td>\n",
       "      <td>0.095746</td>\n",
       "    </tr>\n",
       "    <tr>\n",
       "      <th>2</th>\n",
       "      <td>-0.039689</td>\n",
       "      <td>0.191144</td>\n",
       "      <td>-0.339717</td>\n",
       "      <td>-0.094912</td>\n",
       "      <td>0.493698</td>\n",
       "      <td>0.030024</td>\n",
       "      <td>0.337703</td>\n",
       "      <td>0.215752</td>\n",
       "      <td>0.014599</td>\n",
       "      <td>0.119273</td>\n",
       "      <td>...</td>\n",
       "      <td>0.233327</td>\n",
       "      <td>0.026519</td>\n",
       "      <td>0.233623</td>\n",
       "      <td>0.182821</td>\n",
       "      <td>0.110865</td>\n",
       "      <td>0.119074</td>\n",
       "      <td>-0.281152</td>\n",
       "      <td>0.096418</td>\n",
       "      <td>-0.116570</td>\n",
       "      <td>-0.044387</td>\n",
       "    </tr>\n",
       "    <tr>\n",
       "      <th>3</th>\n",
       "      <td>-0.067146</td>\n",
       "      <td>0.086909</td>\n",
       "      <td>-0.182700</td>\n",
       "      <td>-0.090750</td>\n",
       "      <td>0.259385</td>\n",
       "      <td>-0.184687</td>\n",
       "      <td>0.185432</td>\n",
       "      <td>0.143752</td>\n",
       "      <td>0.162617</td>\n",
       "      <td>0.141343</td>\n",
       "      <td>...</td>\n",
       "      <td>-0.006580</td>\n",
       "      <td>-0.226544</td>\n",
       "      <td>0.143952</td>\n",
       "      <td>0.035424</td>\n",
       "      <td>-0.104191</td>\n",
       "      <td>0.023306</td>\n",
       "      <td>-0.165225</td>\n",
       "      <td>0.291774</td>\n",
       "      <td>-0.297519</td>\n",
       "      <td>-0.016801</td>\n",
       "    </tr>\n",
       "    <tr>\n",
       "      <th>4</th>\n",
       "      <td>0.129225</td>\n",
       "      <td>0.171033</td>\n",
       "      <td>-0.025118</td>\n",
       "      <td>0.008286</td>\n",
       "      <td>0.352300</td>\n",
       "      <td>-0.159025</td>\n",
       "      <td>0.217373</td>\n",
       "      <td>0.056504</td>\n",
       "      <td>0.110600</td>\n",
       "      <td>-0.027768</td>\n",
       "      <td>...</td>\n",
       "      <td>0.044196</td>\n",
       "      <td>-0.055489</td>\n",
       "      <td>0.134226</td>\n",
       "      <td>0.016897</td>\n",
       "      <td>0.205241</td>\n",
       "      <td>0.052132</td>\n",
       "      <td>0.097027</td>\n",
       "      <td>0.049950</td>\n",
       "      <td>-0.076142</td>\n",
       "      <td>0.113740</td>\n",
       "    </tr>\n",
       "  </tbody>\n",
       "</table>\n",
       "<p>5 rows × 384 columns</p>\n",
       "</div>\n",
       "    <div class=\"colab-df-buttons\">\n",
       "\n",
       "  <div class=\"colab-df-container\">\n",
       "    <button class=\"colab-df-convert\" onclick=\"convertToInteractive('df-9fa685ce-84f7-4956-8b3c-b419b65af476')\"\n",
       "            title=\"Convert this dataframe to an interactive table.\"\n",
       "            style=\"display:none;\">\n",
       "\n",
       "  <svg xmlns=\"http://www.w3.org/2000/svg\" height=\"24px\" viewBox=\"0 -960 960 960\">\n",
       "    <path d=\"M120-120v-720h720v720H120Zm60-500h600v-160H180v160Zm220 220h160v-160H400v160Zm0 220h160v-160H400v160ZM180-400h160v-160H180v160Zm440 0h160v-160H620v160ZM180-180h160v-160H180v160Zm440 0h160v-160H620v160Z\"/>\n",
       "  </svg>\n",
       "    </button>\n",
       "\n",
       "  <style>\n",
       "    .colab-df-container {\n",
       "      display:flex;\n",
       "      gap: 12px;\n",
       "    }\n",
       "\n",
       "    .colab-df-convert {\n",
       "      background-color: #E8F0FE;\n",
       "      border: none;\n",
       "      border-radius: 50%;\n",
       "      cursor: pointer;\n",
       "      display: none;\n",
       "      fill: #1967D2;\n",
       "      height: 32px;\n",
       "      padding: 0 0 0 0;\n",
       "      width: 32px;\n",
       "    }\n",
       "\n",
       "    .colab-df-convert:hover {\n",
       "      background-color: #E2EBFA;\n",
       "      box-shadow: 0px 1px 2px rgba(60, 64, 67, 0.3), 0px 1px 3px 1px rgba(60, 64, 67, 0.15);\n",
       "      fill: #174EA6;\n",
       "    }\n",
       "\n",
       "    .colab-df-buttons div {\n",
       "      margin-bottom: 4px;\n",
       "    }\n",
       "\n",
       "    [theme=dark] .colab-df-convert {\n",
       "      background-color: #3B4455;\n",
       "      fill: #D2E3FC;\n",
       "    }\n",
       "\n",
       "    [theme=dark] .colab-df-convert:hover {\n",
       "      background-color: #434B5C;\n",
       "      box-shadow: 0px 1px 3px 1px rgba(0, 0, 0, 0.15);\n",
       "      filter: drop-shadow(0px 1px 2px rgba(0, 0, 0, 0.3));\n",
       "      fill: #FFFFFF;\n",
       "    }\n",
       "  </style>\n",
       "\n",
       "    <script>\n",
       "      const buttonEl =\n",
       "        document.querySelector('#df-9fa685ce-84f7-4956-8b3c-b419b65af476 button.colab-df-convert');\n",
       "      buttonEl.style.display =\n",
       "        google.colab.kernel.accessAllowed ? 'block' : 'none';\n",
       "\n",
       "      async function convertToInteractive(key) {\n",
       "        const element = document.querySelector('#df-9fa685ce-84f7-4956-8b3c-b419b65af476');\n",
       "        const dataTable =\n",
       "          await google.colab.kernel.invokeFunction('convertToInteractive',\n",
       "                                                    [key], {});\n",
       "        if (!dataTable) return;\n",
       "\n",
       "        const docLinkHtml = 'Like what you see? Visit the ' +\n",
       "          '<a target=\"_blank\" href=https://colab.research.google.com/notebooks/data_table.ipynb>data table notebook</a>'\n",
       "          + ' to learn more about interactive tables.';\n",
       "        element.innerHTML = '';\n",
       "        dataTable['output_type'] = 'display_data';\n",
       "        await google.colab.output.renderOutput(dataTable, element);\n",
       "        const docLink = document.createElement('div');\n",
       "        docLink.innerHTML = docLinkHtml;\n",
       "        element.appendChild(docLink);\n",
       "      }\n",
       "    </script>\n",
       "  </div>\n",
       "\n",
       "\n",
       "    <div id=\"df-f45b35b3-38f0-45fb-a868-d9da3506e89e\">\n",
       "      <button class=\"colab-df-quickchart\" onclick=\"quickchart('df-f45b35b3-38f0-45fb-a868-d9da3506e89e')\"\n",
       "                title=\"Suggest charts\"\n",
       "                style=\"display:none;\">\n",
       "\n",
       "<svg xmlns=\"http://www.w3.org/2000/svg\" height=\"24px\"viewBox=\"0 0 24 24\"\n",
       "     width=\"24px\">\n",
       "    <g>\n",
       "        <path d=\"M19 3H5c-1.1 0-2 .9-2 2v14c0 1.1.9 2 2 2h14c1.1 0 2-.9 2-2V5c0-1.1-.9-2-2-2zM9 17H7v-7h2v7zm4 0h-2V7h2v10zm4 0h-2v-4h2v4z\"/>\n",
       "    </g>\n",
       "</svg>\n",
       "      </button>\n",
       "\n",
       "<style>\n",
       "  .colab-df-quickchart {\n",
       "      --bg-color: #E8F0FE;\n",
       "      --fill-color: #1967D2;\n",
       "      --hover-bg-color: #E2EBFA;\n",
       "      --hover-fill-color: #174EA6;\n",
       "      --disabled-fill-color: #AAA;\n",
       "      --disabled-bg-color: #DDD;\n",
       "  }\n",
       "\n",
       "  [theme=dark] .colab-df-quickchart {\n",
       "      --bg-color: #3B4455;\n",
       "      --fill-color: #D2E3FC;\n",
       "      --hover-bg-color: #434B5C;\n",
       "      --hover-fill-color: #FFFFFF;\n",
       "      --disabled-bg-color: #3B4455;\n",
       "      --disabled-fill-color: #666;\n",
       "  }\n",
       "\n",
       "  .colab-df-quickchart {\n",
       "    background-color: var(--bg-color);\n",
       "    border: none;\n",
       "    border-radius: 50%;\n",
       "    cursor: pointer;\n",
       "    display: none;\n",
       "    fill: var(--fill-color);\n",
       "    height: 32px;\n",
       "    padding: 0;\n",
       "    width: 32px;\n",
       "  }\n",
       "\n",
       "  .colab-df-quickchart:hover {\n",
       "    background-color: var(--hover-bg-color);\n",
       "    box-shadow: 0 1px 2px rgba(60, 64, 67, 0.3), 0 1px 3px 1px rgba(60, 64, 67, 0.15);\n",
       "    fill: var(--button-hover-fill-color);\n",
       "  }\n",
       "\n",
       "  .colab-df-quickchart-complete:disabled,\n",
       "  .colab-df-quickchart-complete:disabled:hover {\n",
       "    background-color: var(--disabled-bg-color);\n",
       "    fill: var(--disabled-fill-color);\n",
       "    box-shadow: none;\n",
       "  }\n",
       "\n",
       "  .colab-df-spinner {\n",
       "    border: 2px solid var(--fill-color);\n",
       "    border-color: transparent;\n",
       "    border-bottom-color: var(--fill-color);\n",
       "    animation:\n",
       "      spin 1s steps(1) infinite;\n",
       "  }\n",
       "\n",
       "  @keyframes spin {\n",
       "    0% {\n",
       "      border-color: transparent;\n",
       "      border-bottom-color: var(--fill-color);\n",
       "      border-left-color: var(--fill-color);\n",
       "    }\n",
       "    20% {\n",
       "      border-color: transparent;\n",
       "      border-left-color: var(--fill-color);\n",
       "      border-top-color: var(--fill-color);\n",
       "    }\n",
       "    30% {\n",
       "      border-color: transparent;\n",
       "      border-left-color: var(--fill-color);\n",
       "      border-top-color: var(--fill-color);\n",
       "      border-right-color: var(--fill-color);\n",
       "    }\n",
       "    40% {\n",
       "      border-color: transparent;\n",
       "      border-right-color: var(--fill-color);\n",
       "      border-top-color: var(--fill-color);\n",
       "    }\n",
       "    60% {\n",
       "      border-color: transparent;\n",
       "      border-right-color: var(--fill-color);\n",
       "    }\n",
       "    80% {\n",
       "      border-color: transparent;\n",
       "      border-right-color: var(--fill-color);\n",
       "      border-bottom-color: var(--fill-color);\n",
       "    }\n",
       "    90% {\n",
       "      border-color: transparent;\n",
       "      border-bottom-color: var(--fill-color);\n",
       "    }\n",
       "  }\n",
       "</style>\n",
       "\n",
       "      <script>\n",
       "        async function quickchart(key) {\n",
       "          const quickchartButtonEl =\n",
       "            document.querySelector('#' + key + ' button');\n",
       "          quickchartButtonEl.disabled = true;  // To prevent multiple clicks.\n",
       "          quickchartButtonEl.classList.add('colab-df-spinner');\n",
       "          try {\n",
       "            const charts = await google.colab.kernel.invokeFunction(\n",
       "                'suggestCharts', [key], {});\n",
       "          } catch (error) {\n",
       "            console.error('Error during call to suggestCharts:', error);\n",
       "          }\n",
       "          quickchartButtonEl.classList.remove('colab-df-spinner');\n",
       "          quickchartButtonEl.classList.add('colab-df-quickchart-complete');\n",
       "        }\n",
       "        (() => {\n",
       "          let quickchartButtonEl =\n",
       "            document.querySelector('#df-f45b35b3-38f0-45fb-a868-d9da3506e89e button');\n",
       "          quickchartButtonEl.style.display =\n",
       "            google.colab.kernel.accessAllowed ? 'block' : 'none';\n",
       "        })();\n",
       "      </script>\n",
       "    </div>\n",
       "\n",
       "    </div>\n",
       "  </div>\n"
      ],
      "text/plain": [
       "          0         1         2         3         4         5         6  \\\n",
       "0  0.069652 -0.115284 -0.018821 -0.145833  0.295005 -0.066359 -0.011431   \n",
       "1  0.032234 -0.158599 -0.175157  0.148083  0.022659 -0.075285  0.293689   \n",
       "2 -0.039689  0.191144 -0.339717 -0.094912  0.493698  0.030024  0.337703   \n",
       "3 -0.067146  0.086909 -0.182700 -0.090750  0.259385 -0.184687  0.185432   \n",
       "4  0.129225  0.171033 -0.025118  0.008286  0.352300 -0.159025  0.217373   \n",
       "\n",
       "          7         8         9  ...       374       375       376       377  \\\n",
       "0 -0.028900  0.079711 -0.027311  ...  0.146651 -0.254471  0.134050 -0.215511   \n",
       "1  0.185292  0.074173  0.033734  ... -0.028924 -0.259362  0.232009 -0.000378   \n",
       "2  0.215752  0.014599  0.119273  ...  0.233327  0.026519  0.233623  0.182821   \n",
       "3  0.143752  0.162617  0.141343  ... -0.006580 -0.226544  0.143952  0.035424   \n",
       "4  0.056504  0.110600 -0.027768  ...  0.044196 -0.055489  0.134226  0.016897   \n",
       "\n",
       "        378       379       380       381       382       383  \n",
       "0 -0.067709  0.199671  0.078908  0.230968 -0.089152  0.138918  \n",
       "1  0.018417  0.184916  0.070820  0.116157 -0.155986  0.095746  \n",
       "2  0.110865  0.119074 -0.281152  0.096418 -0.116570 -0.044387  \n",
       "3 -0.104191  0.023306 -0.165225  0.291774 -0.297519 -0.016801  \n",
       "4  0.205241  0.052132  0.097027  0.049950 -0.076142  0.113740  \n",
       "\n",
       "[5 rows x 384 columns]"
      ]
     },
     "execution_count": 5,
     "metadata": {},
     "output_type": "execute_result"
    }
   ],
   "source": [
    "# Df with embeddings\n",
    "\n",
    "embedding_df = pd.read_csv() # File location removed\n",
    "embedding_df.head()"
   ]
  },
  {
   "cell_type": "code",
   "execution_count": null,
   "metadata": {
    "colab": {
     "base_uri": "https://localhost:8080/"
    },
    "executionInfo": {
     "elapsed": 10507,
     "status": "ok",
     "timestamp": 1748030678980,
     "user": {
      "displayName": "Yana Kiprova",
      "userId": "05029747295494730402"
     },
     "user_tz": -120
    },
    "id": "FkpHpjFgazHy",
    "outputId": "dd3d3c96-5cfc-437a-a85d-9a79f8be8d8e"
   },
   "outputs": [
    {
     "data": {
      "text/plain": [
       "(1075103, 7)"
      ]
     },
     "execution_count": 33,
     "metadata": {},
     "output_type": "execute_result"
    }
   ],
   "source": [
    "# df with the collected comments\n",
    "\n",
    "df_comments = pd.read_csv() # File location removed\n",
    "df_comments.shape"
   ]
  },
  {
   "cell_type": "code",
   "execution_count": null,
   "metadata": {
    "id": "65iJWBlMXoZj"
   },
   "outputs": [],
   "source": [
    "# importing the df with data from the different news sources\n",
    "\n",
    "df_1 = pd.read_csv() # File location removed\n",
    "df_2 = pd.read_csv() # File location removed\n",
    "df_3 = pd.read_csv() # File location removed\n",
    "df_4 = pd.read_csv() # File location removed"
   ]
  },
  {
   "cell_type": "code",
   "execution_count": null,
   "metadata": {
    "colab": {
     "base_uri": "https://localhost:8080/"
    },
    "executionInfo": {
     "elapsed": 50,
     "status": "ok",
     "timestamp": 1748682337580,
     "user": {
      "displayName": "Yana Kiprova",
      "userId": "05029747295494730402"
     },
     "user_tz": -120
    },
    "id": "CCCchclsc9UX",
    "outputId": "fc12d83e-497a-4685-c86c-52c506f92e66"
   },
   "outputs": [
    {
     "data": {
      "text/plain": [
       "(16366, 6)"
      ]
     },
     "execution_count": 5,
     "metadata": {},
     "output_type": "execute_result"
    }
   ],
   "source": [
    "# Dropping unnecesary columns and merging all news sourcres\n",
    "\n",
    "# preparing the dfs to merge\n",
    "df_1 = df_1.drop(columns=['Unnamed: 0', 'Unnamed: 0.1'])\n",
    "df_2 = df_2.drop(columns=['Unnamed: 0', 'Unnamed: 0.1', 'Unnamed: 0.2'])\n",
    "df_3 = df_3.drop(columns=['Unnamed: 0'])\n",
    "df_4 = df_4.drop(columns=['Unnamed: 0', 'Unnamed: 0.1'])\n",
    "\n",
    "# Rename transcript column in df4\n",
    "df_4.rename(columns={\"transcripts\": \"transcript\"}, inplace=True)\n",
    "\n",
    "# Merging\n",
    "df_combined = pd.concat([df_1, df_2, df_3, df_4], axis=0, ignore_index=True)\n",
    "df_combined.shape"
   ]
  },
  {
   "cell_type": "code",
   "execution_count": null,
   "metadata": {
    "colab": {
     "base_uri": "https://localhost:8080/"
    },
    "executionInfo": {
     "elapsed": 70,
     "status": "ok",
     "timestamp": 1748682338235,
     "user": {
      "displayName": "Yana Kiprova",
      "userId": "05029747295494730402"
     },
     "user_tz": -120
    },
    "id": "5YYeyJt3dDAF",
    "outputId": "c81b0f3b-1f0a-44a5-c966-c1e0f746f838"
   },
   "outputs": [
    {
     "data": {
      "text/plain": [
       "(13524, 6)"
      ]
     },
     "execution_count": 6,
     "metadata": {},
     "output_type": "execute_result"
    }
   ],
   "source": [
    "# Drop duplicated video ids\n",
    "\n",
    "df_combined = df_combined.drop_duplicates(subset=['video_id'], keep='first')\n",
    "df_combined.shape"
   ]
  },
  {
   "cell_type": "code",
   "execution_count": null,
   "metadata": {
    "colab": {
     "base_uri": "https://localhost:8080/"
    },
    "executionInfo": {
     "elapsed": 79,
     "status": "ok",
     "timestamp": 1748682338888,
     "user": {
      "displayName": "Yana Kiprova",
      "userId": "05029747295494730402"
     },
     "user_tz": -120
    },
    "id": "IyIuj8vokAeT",
    "outputId": "36a7db2e-409e-4248-8daa-931fe6029204"
   },
   "outputs": [
    {
     "data": {
      "text/plain": [
       "(12531, 6)"
      ]
     },
     "execution_count": 7,
     "metadata": {},
     "output_type": "execute_result"
    }
   ],
   "source": [
    "# removing videos from 2025\n",
    "df_combined['video_date'] = pd.to_datetime(df_combined['video_date'])\n",
    "\n",
    "\n",
    "df_combined = df_combined[df_combined['video_date'].dt.year != 2025]\n",
    "df_combined.shape"
   ]
  },
  {
   "cell_type": "code",
   "execution_count": null,
   "metadata": {
    "colab": {
     "base_uri": "https://localhost:8080/"
    },
    "executionInfo": {
     "elapsed": 30,
     "status": "ok",
     "timestamp": 1748682339399,
     "user": {
      "displayName": "Yana Kiprova",
      "userId": "05029747295494730402"
     },
     "user_tz": -120
    },
    "id": "fT_Z9DXgdX-J",
    "outputId": "3590dc50-b3b5-4a9c-fa35-a6c2e993fa56"
   },
   "outputs": [
    {
     "name": "stdout",
     "output_type": "stream",
     "text": [
      "Number of error rows: 225\n"
     ]
    }
   ],
   "source": [
    "# Count transcripts with errors\n",
    "\n",
    "error_count = df_combined['transcript'].str.startswith(\"Error: \").sum()\n",
    "print(\"Number of error rows:\", error_count)"
   ]
  },
  {
   "cell_type": "code",
   "execution_count": null,
   "metadata": {
    "colab": {
     "base_uri": "https://localhost:8080/"
    },
    "executionInfo": {
     "elapsed": 31,
     "status": "ok",
     "timestamp": 1748682339991,
     "user": {
      "displayName": "Yana Kiprova",
      "userId": "05029747295494730402"
     },
     "user_tz": -120
    },
    "id": "G8iG8FM5gMQC",
    "outputId": "0e47c198-7d2e-4ed6-fc41-77fb42b3dc83"
   },
   "outputs": [
    {
     "data": {
      "text/plain": [
       "(12306, 6)"
      ]
     },
     "execution_count": 9,
     "metadata": {},
     "output_type": "execute_result"
    }
   ],
   "source": [
    "# Drop rows with errors\n",
    "\n",
    "mask = ~df_combined['transcript'].fillna(\"\").str.startswith(\"Error: \")\n",
    "df_combined = df_combined[mask]\n",
    "\n",
    "df_combined.shape"
   ]
  },
  {
   "cell_type": "code",
   "execution_count": null,
   "metadata": {
    "colab": {
     "base_uri": "https://localhost:8080/"
    },
    "executionInfo": {
     "elapsed": 64,
     "status": "ok",
     "timestamp": 1748682340555,
     "user": {
      "displayName": "Yana Kiprova",
      "userId": "05029747295494730402"
     },
     "user_tz": -120
    },
    "id": "3evX25P0gP3l",
    "outputId": "3dfce3fb-f138-496f-c00e-8bf9895de48a"
   },
   "outputs": [
    {
     "name": "stdout",
     "output_type": "stream",
     "text": [
      "Number of NaN values: 51\n",
      "Number of empty strings: 0\n",
      "Total count of NaN and empty strings: 51\n"
     ]
    }
   ],
   "source": [
    "# Chech for empty transcripts\n",
    "\n",
    "nan_count = df_combined[\"transcript\"].isna().sum()\n",
    "empty_string_count = (df_combined[\"transcript\"] == \"\").sum()\n",
    "total_count = nan_count + empty_string_count\n",
    "\n",
    "print(f\"Number of NaN values: {nan_count}\")\n",
    "print(f\"Number of empty strings: {empty_string_count}\")\n",
    "print(f\"Total count of NaN and empty strings: {total_count}\")"
   ]
  },
  {
   "cell_type": "code",
   "execution_count": null,
   "metadata": {
    "colab": {
     "base_uri": "https://localhost:8080/"
    },
    "executionInfo": {
     "elapsed": 146,
     "status": "ok",
     "timestamp": 1748682341212,
     "user": {
      "displayName": "Yana Kiprova",
      "userId": "05029747295494730402"
     },
     "user_tz": -120
    },
    "id": "jaqZPXQbgSy_",
    "outputId": "1a9669e3-ce60-4e74-ac15-f4083d1aacf5"
   },
   "outputs": [
    {
     "data": {
      "text/plain": [
       "(12255, 6)"
      ]
     },
     "execution_count": 11,
     "metadata": {},
     "output_type": "execute_result"
    }
   ],
   "source": [
    "# Drop NaN transcripts\n",
    "\n",
    "df_combined = df_combined.dropna(subset=['transcript'])\n",
    "df_combined.shape"
   ]
  },
  {
   "cell_type": "markdown",
   "metadata": {
    "id": "_bY2xyP7_-bj"
   },
   "source": [
    "# Exploratory analysis reports"
   ]
  },
  {
   "cell_type": "code",
   "execution_count": null,
   "metadata": {
    "colab": {
     "base_uri": "https://localhost:8080/",
     "height": 304
    },
    "executionInfo": {
     "elapsed": 29,
     "status": "ok",
     "timestamp": 1748682344651,
     "user": {
      "displayName": "Yana Kiprova",
      "userId": "05029747295494730402"
     },
     "user_tz": -120
    },
    "id": "PHZrkAdsW7uI",
    "outputId": "d7f9b867-54ce-47fa-f705-542945ce78e5"
   },
   "outputs": [
    {
     "data": {
      "text/html": [
       "<div>\n",
       "<style scoped>\n",
       "    .dataframe tbody tr th:only-of-type {\n",
       "        vertical-align: middle;\n",
       "    }\n",
       "\n",
       "    .dataframe tbody tr th {\n",
       "        vertical-align: top;\n",
       "    }\n",
       "\n",
       "    .dataframe thead th {\n",
       "        text-align: right;\n",
       "    }\n",
       "</style>\n",
       "<table border=\"1\" class=\"dataframe\">\n",
       "  <thead>\n",
       "    <tr style=\"text-align: right;\">\n",
       "      <th></th>\n",
       "      <th>count</th>\n",
       "    </tr>\n",
       "    <tr>\n",
       "      <th>channel</th>\n",
       "      <th></th>\n",
       "    </tr>\n",
       "  </thead>\n",
       "  <tbody>\n",
       "    <tr>\n",
       "      <th>Latina Noticias</th>\n",
       "      <td>4947</td>\n",
       "    </tr>\n",
       "    <tr>\n",
       "      <th>America Noticias</th>\n",
       "      <td>2833</td>\n",
       "    </tr>\n",
       "    <tr>\n",
       "      <th>ATV Noticias</th>\n",
       "      <td>2282</td>\n",
       "    </tr>\n",
       "    <tr>\n",
       "      <th>RPP Noticias</th>\n",
       "      <td>1298</td>\n",
       "    </tr>\n",
       "    <tr>\n",
       "      <th>La Republica</th>\n",
       "      <td>500</td>\n",
       "    </tr>\n",
       "    <tr>\n",
       "      <th>El Comercio</th>\n",
       "      <td>395</td>\n",
       "    </tr>\n",
       "  </tbody>\n",
       "</table>\n",
       "</div><br><label><b>dtype:</b> int64</label>"
      ],
      "text/plain": [
       "channel\n",
       "Latina Noticias     4947\n",
       "America Noticias    2833\n",
       "ATV Noticias        2282\n",
       "RPP Noticias        1298\n",
       "La Republica         500\n",
       "El Comercio          395\n",
       "Name: count, dtype: int64"
      ]
     },
     "execution_count": 12,
     "metadata": {},
     "output_type": "execute_result"
    }
   ],
   "source": [
    "# Adding channel names\n",
    "channel_mapping = {\n",
    "    'UCpSJ5fGhmAME9Kx2D3ZvN3Q': 'Latina Noticias',\n",
    "    'UCPhm2I2wk4vqjENwhn3px8A': 'America Noticias',\n",
    "    'UC-B7Xv56uNRDkj0vC3QW8Cg': 'La Republica',\n",
    "    'UCYG5uXS3xdsoaXIxum1pAEw': 'ATV Noticias',\n",
    "    'UCLtGUPjKLqa3zgdmhKCZONg': 'El Comercio',\n",
    "    'UC5j8-2FT0ZMMBkmK72R4aeA': 'RPP Noticias'\n",
    "    }\n",
    "#calculating number of videos per channel\n",
    "df_combined['channel'] = df_combined['channel'].map(channel_mapping)\n",
    "df_combined['channel'].value_counts()"
   ]
  },
  {
   "cell_type": "code",
   "execution_count": null,
   "metadata": {
    "colab": {
     "base_uri": "https://localhost:8080/",
     "height": 607
    },
    "executionInfo": {
     "elapsed": 582,
     "status": "ok",
     "timestamp": 1748682944753,
     "user": {
      "displayName": "Yana Kiprova",
      "userId": "05029747295494730402"
     },
     "user_tz": -120
    },
    "id": "DHhyJbMNYSHQ",
    "outputId": "8c53485f-2783-4a2d-bbfc-11ef58c97ae0"
   },
   "outputs": [
    {
     "data": {
      "image/png": "[encoded data removed]",
      "text/plain": [
       "<Figure size 1000x600 with 1 Axes>"
      ]
     },
     "metadata": {},
     "output_type": "display_data"
    }
   ],
   "source": [
    "channel_counts = df_combined['channel'].value_counts()\n",
    "\n",
    "# Vizualizing\n",
    "plt.figure(figsize=(10, 6))\n",
    "bars = plt.bar(channel_counts.index, channel_counts.values, color='skyblue', edgecolor='black')\n",
    "\n",
    "\n",
    "for bar in bars:\n",
    "    yval = bar.get_height()\n",
    "    plt.text(bar.get_x() + bar.get_width()/2, yval + 1, int(yval), ha='center', va='bottom')\n",
    "\n",
    "plt.title('Number of Videos per News Channel')\n",
    "plt.xlabel('News Channel')\n",
    "plt.ylabel('Number of Videos')\n",
    "plt.xticks(rotation=45)\n",
    "plt.grid(axis='y', linestyle='--', alpha=0.7)\n",
    "plt.tight_layout()\n",
    "plt.show()"
   ]
  },
  {
   "cell_type": "code",
   "execution_count": null,
   "metadata": {
    "id": "BfxCIkkdhZg4"
   },
   "outputs": [],
   "source": [
    "# Converting 'video_date' to a datetime format\n",
    "\n",
    "df_combined['video_date'] = pd.to_datetime(df_combined['video_date'])"
   ]
  },
  {
   "cell_type": "code",
   "execution_count": null,
   "metadata": {
    "colab": {
     "base_uri": "https://localhost:8080/",
     "height": 524
    },
    "executionInfo": {
     "elapsed": 1141,
     "status": "ok",
     "timestamp": 1748344056198,
     "user": {
      "displayName": "Yana Kiprova",
      "userId": "05029747295494730402"
     },
     "user_tz": -120
    },
    "id": "vwP_Z2HwhwRL",
    "outputId": "e27d05b1-b92d-4d79-c9cd-85c1f799f350"
   },
   "outputs": [
    {
     "data": {
      "text/plain": [
       "<Figure size 600x400 with 0 Axes>"
      ]
     },
     "metadata": {},
     "output_type": "display_data"
    },
    {
     "data": {
      "image/png": "[encoded data removed]",
      "text/plain": [
       "<Figure size 1200x500 with 1 Axes>"
      ]
     },
     "metadata": {},
     "output_type": "display_data"
    }
   ],
   "source": [
    "# Year granularity\n",
    "\n",
    "df_combined['year'] = df_combined['video_date'].dt.year\n",
    "\n",
    "\n",
    "report_counts = df_combined.groupby(['year', 'channel']).size().reset_index(name='count')\n",
    "\n",
    "# Pivot the data for plotting\n",
    "df_pivot = report_counts.pivot(index='year', columns='channel', values='count').fillna(0)\n",
    "\n",
    "# Plot\n",
    "plt.figure(figsize=(6, 4))\n",
    "df_pivot.plot(kind='line', marker='o', figsize=(12, 5), cmap='tab10')\n",
    "\n",
    "plt.title(\"Number of News Reports Over Time by Channel\")\n",
    "plt.xlabel(\"Year\")\n",
    "plt.ylabel(\"Number of Reports\")\n",
    "plt.legend(title=\"Channel\", bbox_to_anchor=(1.05, 1), loc='upper left')\n",
    "plt.tight_layout()\n",
    "plt.grid(True)\n",
    "plt.show()"
   ]
  },
  {
   "cell_type": "code",
   "execution_count": null,
   "metadata": {
    "colab": {
     "base_uri": "https://localhost:8080/",
     "height": 507
    },
    "executionInfo": {
     "elapsed": 823,
     "status": "ok",
     "timestamp": 1748344060283,
     "user": {
      "displayName": "Yana Kiprova",
      "userId": "05029747295494730402"
     },
     "user_tz": -120
    },
    "id": "ZgbeSPrZimbL",
    "outputId": "878d9a72-883c-401c-9bee-3a5c341942ad"
   },
   "outputs": [
    {
     "data": {
      "image/png": "[encoded data removed]",
      "text/plain": [
       "<Figure size 1200x500 with 1 Axes>"
      ]
     },
     "metadata": {},
     "output_type": "display_data"
    }
   ],
   "source": [
    "# Unique markers\n",
    "\n",
    "markers = ['o', 's', 'x', 'P', 'v', 'd']\n",
    "colors = plt.get_cmap('tab10').colors\n",
    "\n",
    "# Plot each line individually with a unique marker\n",
    "plt.figure(figsize=(12, 5))\n",
    "for i, column in enumerate(df_pivot.columns):\n",
    "    plt.plot(df_pivot.index, df_pivot[column],\n",
    "             label=column,\n",
    "             marker=markers[i % len(markers)],\n",
    "             color=colors[i % len(colors)])\n",
    "\n",
    "plt.title(\"Number of News Reports Over Time by Channel\")\n",
    "plt.xlabel(\"Year\")\n",
    "plt.ylabel(\"Number of Reports\")\n",
    "plt.legend(title=\"Channel\", bbox_to_anchor=(1.05, 1), loc='upper left')\n",
    "plt.grid(True)\n",
    "plt.tight_layout()\n",
    "plt.show()\n"
   ]
  },
  {
   "cell_type": "code",
   "execution_count": null,
   "metadata": {
    "colab": {
     "base_uri": "https://localhost:8080/"
    },
    "executionInfo": {
     "elapsed": 6723,
     "status": "ok",
     "timestamp": 1747994578090,
     "user": {
      "displayName": "Yana Kiprova",
      "userId": "05029747295494730402"
     },
     "user_tz": -120
    },
    "id": "wAmDlGZmmBBA",
    "outputId": "675e049d-f51e-40ad-f687-c29efefcf2c4"
   },
   "outputs": [
    {
     "name": "stdout",
     "output_type": "stream",
     "text": [
      "Average transcript length (in words): 1133.30\n"
     ]
    }
   ],
   "source": [
    "# average transcript lenght in words\n",
    "\n",
    "df_combined['word_count'] = df_combined['transcript'].str.split().str.len()\n",
    "\n",
    "\n",
    "average_word_count = df_combined['word_count'].mean()\n",
    "print(f\"Average transcript length (in words): {average_word_count:.2f}\")"
   ]
  },
  {
   "cell_type": "code",
   "execution_count": null,
   "metadata": {
    "colab": {
     "base_uri": "https://localhost:8080/"
    },
    "executionInfo": {
     "elapsed": 73,
     "status": "ok",
     "timestamp": 1747994652187,
     "user": {
      "displayName": "Yana Kiprova",
      "userId": "05029747295494730402"
     },
     "user_tz": -120
    },
    "id": "atP5OI19mWuZ",
    "outputId": "54ac390f-2207-4e80-ab07-55ac4ab4c65e"
   },
   "outputs": [
    {
     "name": "stdout",
     "output_type": "stream",
     "text": [
      "Average transcript length (in characters): 6432.76\n"
     ]
    }
   ],
   "source": [
    "#Average transcript lenght in characters\n",
    "\n",
    "df_combined['char_count'] = df_combined['transcript'].str.len()\n",
    "\n",
    "average_char_count = df_combined['char_count'].mean()\n",
    "print(f\"Average transcript length (in characters): {average_char_count:.2f}\")"
   ]
  },
  {
   "cell_type": "code",
   "execution_count": null,
   "metadata": {
    "colab": {
     "base_uri": "https://localhost:8080/",
     "height": 499
    },
    "executionInfo": {
     "elapsed": 523,
     "status": "ok",
     "timestamp": 1747995188022,
     "user": {
      "displayName": "Yana Kiprova",
      "userId": "05029747295494730402"
     },
     "user_tz": -120
    },
    "id": "s7loYMComoyt",
    "outputId": "5e95f8d0-ad25-4b8c-9c86-55fed3ab8170"
   },
   "outputs": [
    {
     "data": {
      "image/png": "[encoded data removed]",
      "text/plain": [
       "<Figure size 640x480 with 1 Axes>"
      ]
     },
     "metadata": {},
     "output_type": "display_data"
    }
   ],
   "source": [
    "# Checking transcripts length\n",
    "\n",
    "df_combined['transcript_length'] = df_combined['transcript'].str.len()\n",
    "\n",
    "df_filtered = df_combined[df_combined['transcript_length']<=20000]\n",
    "\n",
    "\n",
    "plt.hist(df_filtered['transcript_length'], bins=50, edgecolor='black')\n",
    "plt.xlabel('Length')\n",
    "plt.ylabel('Frequency')\n",
    "xticks = np.arange(0, max_len + 1000, 1000)\n",
    "plt.xticks(rotation=45)  # Rotates x-axis labels\n",
    "plt.title('Histogram of Transcript Length')\n",
    "plt.show()"
   ]
  },
  {
   "cell_type": "code",
   "execution_count": null,
   "metadata": {
    "colab": {
     "base_uri": "https://localhost:8080/",
     "height": 507
    },
    "executionInfo": {
     "elapsed": 437,
     "status": "ok",
     "timestamp": 1748682401037,
     "user": {
      "displayName": "Yana Kiprova",
      "userId": "05029747295494730402"
     },
     "user_tz": -120
    },
    "id": "ItGqRrjVl561",
    "outputId": "5315b9eb-6336-4ee7-b1a2-fabd79aa46f4"
   },
   "outputs": [
    {
     "data": {
      "image/png": "[encoded data removed]",
      "text/plain": [
       "<Figure size 800x500 with 1 Axes>"
      ]
     },
     "metadata": {},
     "output_type": "display_data"
    }
   ],
   "source": [
    "# Group by year and count the number of videos\n",
    "\n",
    "videos_per_year = df_combined['year'].value_counts().sort_index()\n",
    "\n",
    "# Visualize\n",
    "plt.figure(figsize=(8, 5))\n",
    "bars = plt.bar(videos_per_year.index.astype(str), videos_per_year.values, color='skyblue', edgecolor='black')\n",
    "\n",
    "for bar in bars:\n",
    "    height = bar.get_height()\n",
    "    plt.text(bar.get_x() + bar.get_width() / 2, height + 1, str(int(height)),\n",
    "             ha='center', va='bottom', fontsize=10)\n",
    "\n",
    "plt.title(\"Total Number of Reports per Year\")\n",
    "plt.xlabel(\"Year\")\n",
    "plt.ylabel(\"Number of Reports\")\n",
    "plt.xticks(rotation=45)\n",
    "plt.grid(axis='y', linestyle='--', alpha=0.7)\n",
    "plt.tight_layout()\n",
    "plt.show()"
   ]
  },
  {
   "cell_type": "markdown",
   "metadata": {
    "id": "Iio5GxmrZ_dV"
   },
   "source": [
    "# Comments data cleaning"
   ]
  },
  {
   "cell_type": "code",
   "execution_count": null,
   "metadata": {
    "colab": {
     "base_uri": "https://localhost:8080/"
    },
    "executionInfo": {
     "elapsed": 267,
     "status": "ok",
     "timestamp": 1748030738122,
     "user": {
      "displayName": "Yana Kiprova",
      "userId": "05029747295494730402"
     },
     "user_tz": -120
    },
    "id": "fBDnNnpwvoBk",
    "outputId": "e16baca6-4f0d-42d9-9d01-e752e602809f"
   },
   "outputs": [
    {
     "data": {
      "text/plain": [
       "(994141, 7)"
      ]
     },
     "execution_count": 35,
     "metadata": {},
     "output_type": "execute_result"
    }
   ],
   "source": [
    "# Remove 2025\n",
    "df_comments['published_at'] = pd.to_datetime(df_comments['published_at'])\n",
    "\n",
    "df_comments = df_comments[df_comments['published_at'].dt.year != 2025]\n",
    "df_comments.shape"
   ]
  },
  {
   "cell_type": "code",
   "execution_count": null,
   "metadata": {
    "colab": {
     "base_uri": "https://localhost:8080/",
     "height": 206
    },
    "executionInfo": {
     "elapsed": 71,
     "status": "ok",
     "timestamp": 1748030850779,
     "user": {
      "displayName": "Yana Kiprova",
      "userId": "05029747295494730402"
     },
     "user_tz": -120
    },
    "id": "zQ5S7Sswboe9",
    "outputId": "d1af02d0-db3c-40dd-e821-c7d06b8b3c74"
   },
   "outputs": [],
   "source": [
    "df_comments.head()"
   ]
  },
  {
   "cell_type": "code",
   "execution_count": null,
   "metadata": {
    "colab": {
     "base_uri": "https://localhost:8080/"
    },
    "executionInfo": {
     "elapsed": 126,
     "status": "ok",
     "timestamp": 1748030970700,
     "user": {
      "displayName": "Yana Kiprova",
      "userId": "05029747295494730402"
     },
     "user_tz": -120
    },
    "id": "G6KqNnlEw1S8",
    "outputId": "eb2f780f-ac95-4cc4-ff1c-81a2772b3477"
   },
   "outputs": [
    {
     "name": "stdout",
     "output_type": "stream",
     "text": [
      "Number of unique video_ids: 9379\n"
     ]
    }
   ],
   "source": [
    "num_unique_ids = df_comments['video_id'].nunique()\n",
    "print(f\"Number of unique video_ids: {num_unique_ids}\")"
   ]
  },
  {
   "cell_type": "code",
   "execution_count": null,
   "metadata": {
    "colab": {
     "base_uri": "https://localhost:8080/"
    },
    "executionInfo": {
     "elapsed": 57,
     "status": "ok",
     "timestamp": 1748031027403,
     "user": {
      "displayName": "Yana Kiprova",
      "userId": "05029747295494730402"
     },
     "user_tz": -120
    },
    "id": "JmRoa4wQe3HY",
    "outputId": "9564047f-3d05-489d-cf0e-f16307a50656"
   },
   "outputs": [
    {
     "data": {
      "text/plain": [
       "array(['UC-B7Xv56uNRDkj0vC3QW8Cg', 'UCPhm2I2wk4vqjENwhn3px8A',\n",
       "       'UCpSJ5fGhmAME9Kx2D3ZvN3Q', 'UC5j8-2FT0ZMMBkmK72R4aeA',\n",
       "       'UCYG5uXS3xdsoaXIxum1pAEw', 'UCLtGUPjKLqa3zgdmhKCZONg'],\n",
       "      dtype=object)"
      ]
     },
     "execution_count": 40,
     "metadata": {},
     "output_type": "execute_result"
    }
   ],
   "source": [
    "df_combined['channel'].unique()"
   ]
  },
  {
   "cell_type": "code",
   "execution_count": null,
   "metadata": {
    "colab": {
     "base_uri": "https://localhost:8080/"
    },
    "executionInfo": {
     "elapsed": 516,
     "status": "ok",
     "timestamp": 1748031066913,
     "user": {
      "displayName": "Yana Kiprova",
      "userId": "05029747295494730402"
     },
     "user_tz": -120
    },
    "id": "nkaFg2bSf1If",
    "outputId": "9e273204-1278-4475-cea7-a1fc5a1bec61"
   },
   "outputs": [
    {
     "data": {
      "text/plain": [
       "(993602, 7)"
      ]
     },
     "execution_count": 44,
     "metadata": {},
     "output_type": "execute_result"
    }
   ],
   "source": [
    "# Removing comments made by the news souces\n",
    "\n",
    "newssources = ['@LaRepublica','@americanoticiaspe', '@RPPNoticias',\t'@latinanoticias', '@atvnoticias','@DiarioElComercio']\n",
    "df_comments = df_comments[~df_comments['author'].isin(newssources)]\n",
    "df_comments.shape"
   ]
  },
  {
   "cell_type": "code",
   "execution_count": null,
   "metadata": {
    "id": "LtGYD8DtqLzS"
   },
   "outputs": [],
   "source": [
    "# removing htm tags, URLs and extra spaces\n",
    "\n",
    "def clean_text(comment):\n",
    "    comment = re.sub(r'<.*?>', '', comment)\n",
    "    comment = re.sub(r'http\\S+', '', comment)\n",
    "    comment = re.sub(r'\\s+', ' ', comment).strip()\n",
    "    return comment\n",
    "\n",
    "df_comments['comment'] = df_comments['comment'].apply(clean_text)"
   ]
  },
  {
   "cell_type": "code",
   "execution_count": null,
   "metadata": {
    "id": "zZVfW4S9qUHW"
   },
   "outputs": [],
   "source": [
    "# only keep necesary columns\n",
    "\n",
    "df_comments = df_comments.drop(['author', 'like_count', 'reply_to'], axis=1)"
   ]
  },
  {
   "cell_type": "markdown",
   "metadata": {
    "id": "azidz3B-3h0k"
   },
   "source": [
    "# Exploratory analysis comments"
   ]
  },
  {
   "cell_type": "code",
   "execution_count": null,
   "metadata": {
    "colab": {
     "base_uri": "https://localhost:8080/",
     "height": 81
    },
    "executionInfo": {
     "elapsed": 32,
     "status": "ok",
     "timestamp": 1748029432744,
     "user": {
      "displayName": "Yana Kiprova",
      "userId": "05029747295494730402"
     },
     "user_tz": -120
    },
    "id": "X1AbH5ADrCzC",
    "outputId": "7bb6bbd8-20bc-4a3c-a19d-b9875d303f01"
   },
   "outputs": [],
   "source": [
    "df_comments.head(1)"
   ]
  },
  {
   "cell_type": "code",
   "execution_count": null,
   "metadata": {
    "colab": {
     "base_uri": "https://localhost:8080/"
    },
    "executionInfo": {
     "elapsed": 11681,
     "status": "ok",
     "timestamp": 1748031092477,
     "user": {
      "displayName": "Yana Kiprova",
      "userId": "05029747295494730402"
     },
     "user_tz": -120
    },
    "id": "8wNbw_pxrKvr",
    "outputId": "c1016da7-613f-4f99-a27f-3d4c5f865db3"
   },
   "outputs": [
    {
     "name": "stdout",
     "output_type": "stream",
     "text": [
      "Average transcript length (in words): 19.69\n"
     ]
    }
   ],
   "source": [
    "# average comment lenght in words\n",
    "df_comments['word_count'] = df_comments['comment'].str.split().str.len()\n",
    "\n",
    "average_word_count = df_comments['word_count'].mean()\n",
    "print(f\"Average transcript length (in words): {average_word_count:.2f}\")"
   ]
  },
  {
   "cell_type": "code",
   "execution_count": null,
   "metadata": {
    "colab": {
     "base_uri": "https://localhost:8080/"
    },
    "executionInfo": {
     "elapsed": 411,
     "status": "ok",
     "timestamp": 1748031092891,
     "user": {
      "displayName": "Yana Kiprova",
      "userId": "05029747295494730402"
     },
     "user_tz": -120
    },
    "id": "k4B5FdK0rsz4",
    "outputId": "e2dee0d9-9e79-4eb2-c9df-d80400ee7d62"
   },
   "outputs": [
    {
     "name": "stdout",
     "output_type": "stream",
     "text": [
      "Average transcript length (in characters): 113.28\n"
     ]
    }
   ],
   "source": [
    "#Average comment lenght in characters\n",
    "df_comments['char_count'] = df_comments['comment'].str.len()\n",
    "\n",
    "average_char_count = df_comments['char_count'].mean()\n",
    "print(f\"Average transcript length (in characters): {average_char_count:.2f}\")"
   ]
  },
  {
   "cell_type": "code",
   "execution_count": null,
   "metadata": {
    "colab": {
     "base_uri": "https://localhost:8080/",
     "height": 507
    },
    "executionInfo": {
     "elapsed": 610,
     "status": "ok",
     "timestamp": 1748031271848,
     "user": {
      "displayName": "Yana Kiprova",
      "userId": "05029747295494730402"
     },
     "user_tz": -120
    },
    "id": "h-vQkVejyGgS",
    "outputId": "71309905-87b5-4903-935c-6447216d3775"
   },
   "outputs": [
    {
     "data": {
      "image/png": "[encoded data removed]",
      "text/plain": [
       "<Figure size 800x500 with 1 Axes>"
      ]
     },
     "metadata": {},
     "output_type": "display_data"
    }
   ],
   "source": [
    "# Extract year from published_at\n",
    "df_comments['year'] = df_comments['published_at'].dt.year\n",
    "\n",
    "videos_per_year = df_comments['year'].value_counts().sort_index()\n",
    "\n",
    "# Visualize\n",
    "plt.figure(figsize=(8, 5))\n",
    "ax = videos_per_year.plot(kind='bar', color='skyblue', edgecolor='black')\n",
    "\n",
    "for i, value in enumerate(videos_per_year):\n",
    "    plt.text(i, value + max(videos_per_year)*0.01, f\"{value:,}\", ha='center', va='bottom', fontsize=10)\n",
    "\n",
    "plt.title(\"Total Number of Comments per Year\")\n",
    "plt.xlabel(\"Year\")\n",
    "plt.ylabel(\"Number of Comments\")\n",
    "plt.xticks(rotation=45)\n",
    "plt.grid(axis='y', linestyle='--', alpha=0.7)\n",
    "plt.tight_layout()\n",
    "plt.show()"
   ]
  },
  {
   "cell_type": "markdown",
   "metadata": {
    "id": "A4Lfi9CVYU_D"
   },
   "source": [
    "# Visualizing BERT results"
   ]
  },
  {
   "cell_type": "code",
   "execution_count": null,
   "metadata": {
    "id": "8gMAnu56YUIq"
   },
   "outputs": [],
   "source": [
    "#defining the model\n",
    "# Initialize K-Means\n",
    "kmeans_model = KMeans(n_clusters=11, init = 'k-means++', random_state = 42)\n",
    "\n",
    "representation_model = PartOfSpeech(\"en_core_web_sm\")\n",
    "\n",
    "# Initializing UMAP\n",
    "umap_model = UMAP(n_neighbors=15, n_components=5, min_dist=0.0, metric=\"cosine\", random_state = 42)\n",
    "\n",
    "kmeans_BERT = BERTopic(representation_model=representation_model\n",
    "                       , umap_model=umap_model\n",
    "                       #, umap_model = None\n",
    "                       )\n",
    "\n",
    "# Replace HDBSCAN with K-Means\n",
    "kmeans_BERT.hdbscan_model = kmeans_model"
   ]
  },
  {
   "cell_type": "code",
   "execution_count": null,
   "metadata": {
    "id": "5Th7L3K1ac3D"
   },
   "outputs": [],
   "source": [
    "embeddings = embedding_df.to_numpy()\n",
    "\n",
    "topics3, probs3 = kmeans_BERT.fit_transform(df_cleaned[\"filtered_transcript\"].tolist(), embeddings)"
   ]
  },
  {
   "cell_type": "code",
   "execution_count": null,
   "metadata": {
    "id": "-LmZ4yAiIGNs"
   },
   "outputs": [],
   "source": [
    "# Saving the topics and topic info\n",
    "df_cleaned[\"topic\"] = topics3\n",
    "topic_info = kmeans_BERT.get_topic_info()\n",
    "df_cleaned = df_cleaned.merge(topic_info[['Topic', 'Name']], left_on='topic', right_on='Topic', how='left')\n",
    "df_cleaned.drop(columns=['Topic'], inplace=True)\n",
    "df_cleaned.rename(columns={'Name': 'topic_keywords'}, inplace=True)"
   ]
  },
  {
   "cell_type": "code",
   "execution_count": null,
   "metadata": {
    "colab": {
     "base_uri": "https://localhost:8080/",
     "height": 667
    },
    "executionInfo": {
     "elapsed": 13271,
     "status": "ok",
     "timestamp": 1745412548994,
     "user": {
      "displayName": "Yana Kiprova",
      "userId": "05029747295494730402"
     },
     "user_tz": -120
    },
    "id": "5YuUuo1obLKZ",
    "outputId": "8f323b74-69fc-4bdf-d492-ce1011666231"
   },
   "outputs": [],
   "source": [
    "#distance map from BERT\n",
    "kmeans_BERT.visualize_topics()"
   ]
  },
  {
   "cell_type": "code",
   "execution_count": null,
   "metadata": {
    "colab": {
     "base_uri": "https://localhost:8080/",
     "height": 310
    },
    "executionInfo": {
     "elapsed": 17152,
     "status": "ok",
     "timestamp": 1745133971271,
     "user": {
      "displayName": "Yana Kiprova",
      "userId": "05029747295494730402"
     },
     "user_tz": -120
    },
    "id": "jzn7HnUeb0lU",
    "outputId": "7e976caa-92ea-4a34-9875-7231594a1b1d"
   },
   "outputs": [],
   "source": [
    "# Saving\n",
    "distance_df = pd.read_excel() # File location removed\n",
    "distance_df.head()"
   ]
  },
  {
   "cell_type": "code",
   "execution_count": null,
   "metadata": {
    "id": "LGRCsNatmSsM"
   },
   "outputs": [],
   "source": [
    "# Create softmax probabilities\n",
    "from scipy.special import softmax\n",
    "\n",
    "# Drop the first NaN row\n",
    "distance_df = distance_df.dropna(subset=[\"video_id\"])\n",
    "\n",
    "# Rename the column names\n",
    "distance_df = distance_df.rename(columns={'Distance to topic centroid': 'Topic_0', 'Unnamed: 5': 'Topic_1', 'Unnamed: 6': 'Topic_2', 'Unnamed: 7': 'Topic_3', 'Unnamed: 8': 'Topic_4', 'Unnamed: 9': 'Topic_5',  'Unnamed: 10': 'Topic_6', 'Unnamed: 11': 'Topic_7', 'Unnamed: 12': 'Topic_8', 'Unnamed: 13': 'Topic_9', 'Unnamed: 14': 'Topic_10'})\n",
    "\n",
    "# Select topic distance columns\n",
    "topic_cols = [col for col in distance_df.columns if str(col).startswith(\"Topic_\")]\n",
    "\n",
    "# Convert distances to similarity\n",
    "similarity_df = 1 - distance_df[topic_cols].astype(float)\n",
    "\n",
    "# Apply softmax per row\n",
    "prob_df = similarity_df.apply(softmax, axis=1)\n",
    "\n",
    "# Rename columns\n",
    "prob_df.columns = [f\"Prob_{col}\" for col in topic_cols]"
   ]
  },
  {
   "cell_type": "code",
   "execution_count": null,
   "metadata": {
    "colab": {
     "base_uri": "https://localhost:8080/"
    },
    "executionInfo": {
     "elapsed": 28,
     "status": "ok",
     "timestamp": 1744820757494,
     "user": {
      "displayName": "Yana Kiprova",
      "userId": "05029747295494730402"
     },
     "user_tz": -120
    },
    "id": "RfMb-n2fms1A",
    "outputId": "7cce9b0b-3771-45d9-a5bb-0718272e8d6b"
   },
   "outputs": [
    {
     "name": "stdout",
     "output_type": "stream",
     "text": [
      "1    [0.34125506122834, 0.012540332848906849, 0.028...\n",
      "2    [0.04691944727468032, 0.018934179795176455, 0....\n",
      "3    [0.02634625922453483, 0.05200568814464649, 0.0...\n",
      "4    [0.04398997872351872, 0.03560749508145057, 0.0...\n",
      "5    [0.017653135712803598, 0.17470297188917833, 0....\n",
      "dtype: object\n"
     ]
    }
   ],
   "source": [
    "print(prob_df.head())"
   ]
  },
  {
   "cell_type": "code",
   "execution_count": null,
   "metadata": {
    "colab": {
     "base_uri": "https://localhost:8080/",
     "height": 211
    },
    "executionInfo": {
     "elapsed": 53,
     "status": "error",
     "timestamp": 1748684611406,
     "user": {
      "displayName": "Yana Kiprova",
      "userId": "05029747295494730402"
     },
     "user_tz": -120
    },
    "id": "0USMfaQmfrCY",
    "outputId": "8d520141-f67e-4c10-ec80-f33ad66523e6"
   },
   "outputs": [],
   "source": [
    "# Pribbility matrix\n",
    "prob_matrix = pd.DataFrame(prob_df.apply(pd.Series))\n",
    "\n",
    "# Rename the columns\n",
    "prob_matrix.columns = [f\"Prob_Topic_{i}\" for i in prob_matrix.columns]\n",
    "\n",
    "# Show a preview\n",
    "prob_matrix.head()"
   ]
  },
  {
   "cell_type": "code",
   "execution_count": null,
   "metadata": {
    "id": "cSvYwDVyf6jk"
   },
   "outputs": [],
   "source": [
    "# coocurance matrix\n",
    "# Create a binary topic-document matrix (1 if prob > threshold, else 0)\n",
    "threshold = 0.2\n",
    "binary_topic_matrix = (prob_matrix > threshold).astype(int)\n",
    "\n",
    "# Compute co-occurrence by multiplying matrix with its transpose\n",
    "cooccurrence_matrix = binary_topic_matrix.T @ binary_topic_matrix\n",
    "\n",
    "# Remove self-cooccurrence if you don't want loops\n",
    "np.fill_diagonal(cooccurrence_matrix.values, 0)\n",
    "\n",
    "# Convert to DataFrame\n",
    "cooccurrence_df = pd.DataFrame(cooccurrence_matrix,\n",
    "                               index=cooccurrence_matrix.columns,\n",
    "                               columns=cooccurrence_matrix.columns)"
   ]
  },
  {
   "cell_type": "code",
   "execution_count": null,
   "metadata": {
    "colab": {
     "base_uri": "https://localhost:8080/",
     "height": 394
    },
    "executionInfo": {
     "elapsed": 80,
     "status": "ok",
     "timestamp": 1744820794181,
     "user": {
      "displayName": "Yana Kiprova",
      "userId": "05029747295494730402"
     },
     "user_tz": -120
    },
    "id": "Q05oufA6bCWc",
    "outputId": "2744a72e-2096-46b7-bbf6-b20bdfe5f1a9"
   },
   "outputs": [
    {
     "data": {
      "application/vnd.google.colaboratory.intrinsic+json": {
       "summary": "{\n  \"name\": \"cooccurrence_df\",\n  \"rows\": 11,\n  \"fields\": [\n    {\n      \"column\": \"Prob_Topic_0\",\n      \"properties\": {\n        \"dtype\": \"number\",\n        \"std\": 406,\n        \"min\": 0,\n        \"max\": 1351,\n        \"num_unique_values\": 4,\n        \"samples\": [\n          1351,\n          106,\n          0\n        ],\n        \"semantic_type\": \"\",\n        \"description\": \"\"\n      }\n    },\n    {\n      \"column\": \"Prob_Topic_1\",\n      \"properties\": {\n        \"dtype\": \"number\",\n        \"std\": 257,\n        \"min\": 0,\n        \"max\": 844,\n        \"num_unique_values\": 4,\n        \"samples\": [\n          844,\n          107,\n          0\n        ],\n        \"semantic_type\": \"\",\n        \"description\": \"\"\n      }\n    },\n    {\n      \"column\": \"Prob_Topic_2\",\n      \"properties\": {\n        \"dtype\": \"number\",\n        \"std\": 252,\n        \"min\": 0,\n        \"max\": 844,\n        \"num_unique_values\": 7,\n        \"samples\": [\n          0,\n          844,\n          39\n        ],\n        \"semantic_type\": \"\",\n        \"description\": \"\"\n      }\n    },\n    {\n      \"column\": \"Prob_Topic_3\",\n      \"properties\": {\n        \"dtype\": \"number\",\n        \"std\": 408,\n        \"min\": 0,\n        \"max\": 1351,\n        \"num_unique_values\": 4,\n        \"samples\": [\n          0,\n          299,\n          1351\n        ],\n        \"semantic_type\": \"\",\n        \"description\": \"\"\n      }\n    },\n    {\n      \"column\": \"Prob_Topic_4\",\n      \"properties\": {\n        \"dtype\": \"number\",\n        \"std\": 74,\n        \"min\": 0,\n        \"max\": 238,\n        \"num_unique_values\": 6,\n        \"samples\": [\n          0,\n          2,\n          14\n        ],\n        \"semantic_type\": \"\",\n        \"description\": \"\"\n      }\n    },\n    {\n      \"column\": \"Prob_Topic_5\",\n      \"properties\": {\n        \"dtype\": \"number\",\n        \"std\": 79,\n        \"min\": 0,\n        \"max\": 268,\n        \"num_unique_values\": 5,\n        \"samples\": [\n          268,\n          19,\n          25\n        ],\n        \"semantic_type\": \"\",\n        \"description\": \"\"\n      }\n    },\n    {\n      \"column\": \"Prob_Topic_6\",\n      \"properties\": {\n        \"dtype\": \"number\",\n        \"std\": 71,\n        \"min\": 0,\n        \"max\": 238,\n        \"num_unique_values\": 4,\n        \"samples\": [\n          39,\n          19,\n          0\n        ],\n        \"semantic_type\": \"\",\n        \"description\": \"\"\n      }\n    },\n    {\n      \"column\": \"Prob_Topic_7\",\n      \"properties\": {\n        \"dtype\": \"number\",\n        \"std\": 125,\n        \"min\": 0,\n        \"max\": 332,\n        \"num_unique_values\": 5,\n        \"samples\": [\n          0,\n          66,\n          299\n        ],\n        \"semantic_type\": \"\",\n        \"description\": \"\"\n      }\n    },\n    {\n      \"column\": \"Prob_Topic_8\",\n      \"properties\": {\n        \"dtype\": \"number\",\n        \"std\": 31,\n        \"min\": 0,\n        \"max\": 107,\n        \"num_unique_values\": 4,\n        \"samples\": [\n          107,\n          14,\n          0\n        ],\n        \"semantic_type\": \"\",\n        \"description\": \"\"\n      }\n    },\n    {\n      \"column\": \"Prob_Topic_9\",\n      \"properties\": {\n        \"dtype\": \"number\",\n        \"std\": 35,\n        \"min\": 0,\n        \"max\": 106,\n        \"num_unique_values\": 3,\n        \"samples\": [\n          106,\n          0,\n          66\n        ],\n        \"semantic_type\": \"\",\n        \"description\": \"\"\n      }\n    },\n    {\n      \"column\": \"Prob_Topic_10\",\n      \"properties\": {\n        \"dtype\": \"number\",\n        \"std\": 0,\n        \"min\": 0,\n        \"max\": 0,\n        \"num_unique_values\": 1,\n        \"samples\": [\n          0\n        ],\n        \"semantic_type\": \"\",\n        \"description\": \"\"\n      }\n    }\n  ]\n}",
       "type": "dataframe",
       "variable_name": "cooccurrence_df"
      },
      "text/html": [
       "\n",
       "  <div id=\"df-2edb437b-5e02-4e07-b87f-3ce1eadab976\" class=\"colab-df-container\">\n",
       "    <div>\n",
       "<style scoped>\n",
       "    .dataframe tbody tr th:only-of-type {\n",
       "        vertical-align: middle;\n",
       "    }\n",
       "\n",
       "    .dataframe tbody tr th {\n",
       "        vertical-align: top;\n",
       "    }\n",
       "\n",
       "    .dataframe thead th {\n",
       "        text-align: right;\n",
       "    }\n",
       "</style>\n",
       "<table border=\"1\" class=\"dataframe\">\n",
       "  <thead>\n",
       "    <tr style=\"text-align: right;\">\n",
       "      <th></th>\n",
       "      <th>Prob_Topic_0</th>\n",
       "      <th>Prob_Topic_1</th>\n",
       "      <th>Prob_Topic_2</th>\n",
       "      <th>Prob_Topic_3</th>\n",
       "      <th>Prob_Topic_4</th>\n",
       "      <th>Prob_Topic_5</th>\n",
       "      <th>Prob_Topic_6</th>\n",
       "      <th>Prob_Topic_7</th>\n",
       "      <th>Prob_Topic_8</th>\n",
       "      <th>Prob_Topic_9</th>\n",
       "      <th>Prob_Topic_10</th>\n",
       "    </tr>\n",
       "  </thead>\n",
       "  <tbody>\n",
       "    <tr>\n",
       "      <th>Prob_Topic_0</th>\n",
       "      <td>0</td>\n",
       "      <td>0</td>\n",
       "      <td>0</td>\n",
       "      <td>1351</td>\n",
       "      <td>0</td>\n",
       "      <td>0</td>\n",
       "      <td>0</td>\n",
       "      <td>332</td>\n",
       "      <td>0</td>\n",
       "      <td>106</td>\n",
       "      <td>0</td>\n",
       "    </tr>\n",
       "    <tr>\n",
       "      <th>Prob_Topic_1</th>\n",
       "      <td>0</td>\n",
       "      <td>0</td>\n",
       "      <td>844</td>\n",
       "      <td>0</td>\n",
       "      <td>0</td>\n",
       "      <td>268</td>\n",
       "      <td>0</td>\n",
       "      <td>0</td>\n",
       "      <td>107</td>\n",
       "      <td>0</td>\n",
       "      <td>0</td>\n",
       "    </tr>\n",
       "    <tr>\n",
       "      <th>Prob_Topic_2</th>\n",
       "      <td>0</td>\n",
       "      <td>844</td>\n",
       "      <td>0</td>\n",
       "      <td>1</td>\n",
       "      <td>2</td>\n",
       "      <td>25</td>\n",
       "      <td>39</td>\n",
       "      <td>0</td>\n",
       "      <td>6</td>\n",
       "      <td>0</td>\n",
       "      <td>0</td>\n",
       "    </tr>\n",
       "    <tr>\n",
       "      <th>Prob_Topic_3</th>\n",
       "      <td>1351</td>\n",
       "      <td>0</td>\n",
       "      <td>1</td>\n",
       "      <td>0</td>\n",
       "      <td>0</td>\n",
       "      <td>0</td>\n",
       "      <td>0</td>\n",
       "      <td>299</td>\n",
       "      <td>0</td>\n",
       "      <td>0</td>\n",
       "      <td>0</td>\n",
       "    </tr>\n",
       "    <tr>\n",
       "      <th>Prob_Topic_4</th>\n",
       "      <td>0</td>\n",
       "      <td>0</td>\n",
       "      <td>2</td>\n",
       "      <td>0</td>\n",
       "      <td>0</td>\n",
       "      <td>46</td>\n",
       "      <td>238</td>\n",
       "      <td>112</td>\n",
       "      <td>14</td>\n",
       "      <td>0</td>\n",
       "      <td>0</td>\n",
       "    </tr>\n",
       "    <tr>\n",
       "      <th>Prob_Topic_5</th>\n",
       "      <td>0</td>\n",
       "      <td>268</td>\n",
       "      <td>25</td>\n",
       "      <td>0</td>\n",
       "      <td>46</td>\n",
       "      <td>0</td>\n",
       "      <td>19</td>\n",
       "      <td>0</td>\n",
       "      <td>0</td>\n",
       "      <td>0</td>\n",
       "      <td>0</td>\n",
       "    </tr>\n",
       "    <tr>\n",
       "      <th>Prob_Topic_6</th>\n",
       "      <td>0</td>\n",
       "      <td>0</td>\n",
       "      <td>39</td>\n",
       "      <td>0</td>\n",
       "      <td>238</td>\n",
       "      <td>19</td>\n",
       "      <td>0</td>\n",
       "      <td>0</td>\n",
       "      <td>0</td>\n",
       "      <td>0</td>\n",
       "      <td>0</td>\n",
       "    </tr>\n",
       "    <tr>\n",
       "      <th>Prob_Topic_7</th>\n",
       "      <td>332</td>\n",
       "      <td>0</td>\n",
       "      <td>0</td>\n",
       "      <td>299</td>\n",
       "      <td>112</td>\n",
       "      <td>0</td>\n",
       "      <td>0</td>\n",
       "      <td>0</td>\n",
       "      <td>0</td>\n",
       "      <td>66</td>\n",
       "      <td>0</td>\n",
       "    </tr>\n",
       "    <tr>\n",
       "      <th>Prob_Topic_8</th>\n",
       "      <td>0</td>\n",
       "      <td>107</td>\n",
       "      <td>6</td>\n",
       "      <td>0</td>\n",
       "      <td>14</td>\n",
       "      <td>0</td>\n",
       "      <td>0</td>\n",
       "      <td>0</td>\n",
       "      <td>0</td>\n",
       "      <td>0</td>\n",
       "      <td>0</td>\n",
       "    </tr>\n",
       "    <tr>\n",
       "      <th>Prob_Topic_9</th>\n",
       "      <td>106</td>\n",
       "      <td>0</td>\n",
       "      <td>0</td>\n",
       "      <td>0</td>\n",
       "      <td>0</td>\n",
       "      <td>0</td>\n",
       "      <td>0</td>\n",
       "      <td>66</td>\n",
       "      <td>0</td>\n",
       "      <td>0</td>\n",
       "      <td>0</td>\n",
       "    </tr>\n",
       "    <tr>\n",
       "      <th>Prob_Topic_10</th>\n",
       "      <td>0</td>\n",
       "      <td>0</td>\n",
       "      <td>0</td>\n",
       "      <td>0</td>\n",
       "      <td>0</td>\n",
       "      <td>0</td>\n",
       "      <td>0</td>\n",
       "      <td>0</td>\n",
       "      <td>0</td>\n",
       "      <td>0</td>\n",
       "      <td>0</td>\n",
       "    </tr>\n",
       "  </tbody>\n",
       "</table>\n",
       "</div>\n",
       "    <div class=\"colab-df-buttons\">\n",
       "\n",
       "  <div class=\"colab-df-container\">\n",
       "    <button class=\"colab-df-convert\" onclick=\"convertToInteractive('df-2edb437b-5e02-4e07-b87f-3ce1eadab976')\"\n",
       "            title=\"Convert this dataframe to an interactive table.\"\n",
       "            style=\"display:none;\">\n",
       "\n",
       "  <svg xmlns=\"http://www.w3.org/2000/svg\" height=\"24px\" viewBox=\"0 -960 960 960\">\n",
       "    <path d=\"M120-120v-720h720v720H120Zm60-500h600v-160H180v160Zm220 220h160v-160H400v160Zm0 220h160v-160H400v160ZM180-400h160v-160H180v160Zm440 0h160v-160H620v160ZM180-180h160v-160H180v160Zm440 0h160v-160H620v160Z\"/>\n",
       "  </svg>\n",
       "    </button>\n",
       "\n",
       "  <style>\n",
       "    .colab-df-container {\n",
       "      display:flex;\n",
       "      gap: 12px;\n",
       "    }\n",
       "\n",
       "    .colab-df-convert {\n",
       "      background-color: #E8F0FE;\n",
       "      border: none;\n",
       "      border-radius: 50%;\n",
       "      cursor: pointer;\n",
       "      display: none;\n",
       "      fill: #1967D2;\n",
       "      height: 32px;\n",
       "      padding: 0 0 0 0;\n",
       "      width: 32px;\n",
       "    }\n",
       "\n",
       "    .colab-df-convert:hover {\n",
       "      background-color: #E2EBFA;\n",
       "      box-shadow: 0px 1px 2px rgba(60, 64, 67, 0.3), 0px 1px 3px 1px rgba(60, 64, 67, 0.15);\n",
       "      fill: #174EA6;\n",
       "    }\n",
       "\n",
       "    .colab-df-buttons div {\n",
       "      margin-bottom: 4px;\n",
       "    }\n",
       "\n",
       "    [theme=dark] .colab-df-convert {\n",
       "      background-color: #3B4455;\n",
       "      fill: #D2E3FC;\n",
       "    }\n",
       "\n",
       "    [theme=dark] .colab-df-convert:hover {\n",
       "      background-color: #434B5C;\n",
       "      box-shadow: 0px 1px 3px 1px rgba(0, 0, 0, 0.15);\n",
       "      filter: drop-shadow(0px 1px 2px rgba(0, 0, 0, 0.3));\n",
       "      fill: #FFFFFF;\n",
       "    }\n",
       "  </style>\n",
       "\n",
       "    <script>\n",
       "      const buttonEl =\n",
       "        document.querySelector('#df-2edb437b-5e02-4e07-b87f-3ce1eadab976 button.colab-df-convert');\n",
       "      buttonEl.style.display =\n",
       "        google.colab.kernel.accessAllowed ? 'block' : 'none';\n",
       "\n",
       "      async function convertToInteractive(key) {\n",
       "        const element = document.querySelector('#df-2edb437b-5e02-4e07-b87f-3ce1eadab976');\n",
       "        const dataTable =\n",
       "          await google.colab.kernel.invokeFunction('convertToInteractive',\n",
       "                                                    [key], {});\n",
       "        if (!dataTable) return;\n",
       "\n",
       "        const docLinkHtml = 'Like what you see? Visit the ' +\n",
       "          '<a target=\"_blank\" href=https://colab.research.google.com/notebooks/data_table.ipynb>data table notebook</a>'\n",
       "          + ' to learn more about interactive tables.';\n",
       "        element.innerHTML = '';\n",
       "        dataTable['output_type'] = 'display_data';\n",
       "        await google.colab.output.renderOutput(dataTable, element);\n",
       "        const docLink = document.createElement('div');\n",
       "        docLink.innerHTML = docLinkHtml;\n",
       "        element.appendChild(docLink);\n",
       "      }\n",
       "    </script>\n",
       "  </div>\n",
       "\n",
       "\n",
       "<div id=\"df-549ddcd5-c7bc-4057-b439-247e84d8ed2f\">\n",
       "  <button class=\"colab-df-quickchart\" onclick=\"quickchart('df-549ddcd5-c7bc-4057-b439-247e84d8ed2f')\"\n",
       "            title=\"Suggest charts\"\n",
       "            style=\"display:none;\">\n",
       "\n",
       "<svg xmlns=\"http://www.w3.org/2000/svg\" height=\"24px\"viewBox=\"0 0 24 24\"\n",
       "     width=\"24px\">\n",
       "    <g>\n",
       "        <path d=\"M19 3H5c-1.1 0-2 .9-2 2v14c0 1.1.9 2 2 2h14c1.1 0 2-.9 2-2V5c0-1.1-.9-2-2-2zM9 17H7v-7h2v7zm4 0h-2V7h2v10zm4 0h-2v-4h2v4z\"/>\n",
       "    </g>\n",
       "</svg>\n",
       "  </button>\n",
       "\n",
       "<style>\n",
       "  .colab-df-quickchart {\n",
       "      --bg-color: #E8F0FE;\n",
       "      --fill-color: #1967D2;\n",
       "      --hover-bg-color: #E2EBFA;\n",
       "      --hover-fill-color: #174EA6;\n",
       "      --disabled-fill-color: #AAA;\n",
       "      --disabled-bg-color: #DDD;\n",
       "  }\n",
       "\n",
       "  [theme=dark] .colab-df-quickchart {\n",
       "      --bg-color: #3B4455;\n",
       "      --fill-color: #D2E3FC;\n",
       "      --hover-bg-color: #434B5C;\n",
       "      --hover-fill-color: #FFFFFF;\n",
       "      --disabled-bg-color: #3B4455;\n",
       "      --disabled-fill-color: #666;\n",
       "  }\n",
       "\n",
       "  .colab-df-quickchart {\n",
       "    background-color: var(--bg-color);\n",
       "    border: none;\n",
       "    border-radius: 50%;\n",
       "    cursor: pointer;\n",
       "    display: none;\n",
       "    fill: var(--fill-color);\n",
       "    height: 32px;\n",
       "    padding: 0;\n",
       "    width: 32px;\n",
       "  }\n",
       "\n",
       "  .colab-df-quickchart:hover {\n",
       "    background-color: var(--hover-bg-color);\n",
       "    box-shadow: 0 1px 2px rgba(60, 64, 67, 0.3), 0 1px 3px 1px rgba(60, 64, 67, 0.15);\n",
       "    fill: var(--button-hover-fill-color);\n",
       "  }\n",
       "\n",
       "  .colab-df-quickchart-complete:disabled,\n",
       "  .colab-df-quickchart-complete:disabled:hover {\n",
       "    background-color: var(--disabled-bg-color);\n",
       "    fill: var(--disabled-fill-color);\n",
       "    box-shadow: none;\n",
       "  }\n",
       "\n",
       "  .colab-df-spinner {\n",
       "    border: 2px solid var(--fill-color);\n",
       "    border-color: transparent;\n",
       "    border-bottom-color: var(--fill-color);\n",
       "    animation:\n",
       "      spin 1s steps(1) infinite;\n",
       "  }\n",
       "\n",
       "  @keyframes spin {\n",
       "    0% {\n",
       "      border-color: transparent;\n",
       "      border-bottom-color: var(--fill-color);\n",
       "      border-left-color: var(--fill-color);\n",
       "    }\n",
       "    20% {\n",
       "      border-color: transparent;\n",
       "      border-left-color: var(--fill-color);\n",
       "      border-top-color: var(--fill-color);\n",
       "    }\n",
       "    30% {\n",
       "      border-color: transparent;\n",
       "      border-left-color: var(--fill-color);\n",
       "      border-top-color: var(--fill-color);\n",
       "      border-right-color: var(--fill-color);\n",
       "    }\n",
       "    40% {\n",
       "      border-color: transparent;\n",
       "      border-right-color: var(--fill-color);\n",
       "      border-top-color: var(--fill-color);\n",
       "    }\n",
       "    60% {\n",
       "      border-color: transparent;\n",
       "      border-right-color: var(--fill-color);\n",
       "    }\n",
       "    80% {\n",
       "      border-color: transparent;\n",
       "      border-right-color: var(--fill-color);\n",
       "      border-bottom-color: var(--fill-color);\n",
       "    }\n",
       "    90% {\n",
       "      border-color: transparent;\n",
       "      border-bottom-color: var(--fill-color);\n",
       "    }\n",
       "  }\n",
       "</style>\n",
       "\n",
       "  <script>\n",
       "    async function quickchart(key) {\n",
       "      const quickchartButtonEl =\n",
       "        document.querySelector('#' + key + ' button');\n",
       "      quickchartButtonEl.disabled = true;  // To prevent multiple clicks.\n",
       "      quickchartButtonEl.classList.add('colab-df-spinner');\n",
       "      try {\n",
       "        const charts = await google.colab.kernel.invokeFunction(\n",
       "            'suggestCharts', [key], {});\n",
       "      } catch (error) {\n",
       "        console.error('Error during call to suggestCharts:', error);\n",
       "      }\n",
       "      quickchartButtonEl.classList.remove('colab-df-spinner');\n",
       "      quickchartButtonEl.classList.add('colab-df-quickchart-complete');\n",
       "    }\n",
       "    (() => {\n",
       "      let quickchartButtonEl =\n",
       "        document.querySelector('#df-549ddcd5-c7bc-4057-b439-247e84d8ed2f button');\n",
       "      quickchartButtonEl.style.display =\n",
       "        google.colab.kernel.accessAllowed ? 'block' : 'none';\n",
       "    })();\n",
       "  </script>\n",
       "</div>\n",
       "\n",
       "  <div id=\"id_735e7af9-10d5-4b6d-997b-72a0c53beead\">\n",
       "    <style>\n",
       "      .colab-df-generate {\n",
       "        background-color: #E8F0FE;\n",
       "        border: none;\n",
       "        border-radius: 50%;\n",
       "        cursor: pointer;\n",
       "        display: none;\n",
       "        fill: #1967D2;\n",
       "        height: 32px;\n",
       "        padding: 0 0 0 0;\n",
       "        width: 32px;\n",
       "      }\n",
       "\n",
       "      .colab-df-generate:hover {\n",
       "        background-color: #E2EBFA;\n",
       "        box-shadow: 0px 1px 2px rgba(60, 64, 67, 0.3), 0px 1px 3px 1px rgba(60, 64, 67, 0.15);\n",
       "        fill: #174EA6;\n",
       "      }\n",
       "\n",
       "      [theme=dark] .colab-df-generate {\n",
       "        background-color: #3B4455;\n",
       "        fill: #D2E3FC;\n",
       "      }\n",
       "\n",
       "      [theme=dark] .colab-df-generate:hover {\n",
       "        background-color: #434B5C;\n",
       "        box-shadow: 0px 1px 3px 1px rgba(0, 0, 0, 0.15);\n",
       "        filter: drop-shadow(0px 1px 2px rgba(0, 0, 0, 0.3));\n",
       "        fill: #FFFFFF;\n",
       "      }\n",
       "    </style>\n",
       "    <button class=\"colab-df-generate\" onclick=\"generateWithVariable('cooccurrence_df')\"\n",
       "            title=\"Generate code using this dataframe.\"\n",
       "            style=\"display:none;\">\n",
       "\n",
       "  <svg xmlns=\"http://www.w3.org/2000/svg\" height=\"24px\"viewBox=\"0 0 24 24\"\n",
       "       width=\"24px\">\n",
       "    <path d=\"M7,19H8.4L18.45,9,17,7.55,7,17.6ZM5,21V16.75L18.45,3.32a2,2,0,0,1,2.83,0l1.4,1.43a1.91,1.91,0,0,1,.58,1.4,1.91,1.91,0,0,1-.58,1.4L9.25,21ZM18.45,9,17,7.55Zm-12,3A5.31,5.31,0,0,0,4.9,8.1,5.31,5.31,0,0,0,1,6.5,5.31,5.31,0,0,0,4.9,4.9,5.31,5.31,0,0,0,6.5,1,5.31,5.31,0,0,0,8.1,4.9,5.31,5.31,0,0,0,12,6.5,5.46,5.46,0,0,0,6.5,12Z\"/>\n",
       "  </svg>\n",
       "    </button>\n",
       "    <script>\n",
       "      (() => {\n",
       "      const buttonEl =\n",
       "        document.querySelector('#id_735e7af9-10d5-4b6d-997b-72a0c53beead button.colab-df-generate');\n",
       "      buttonEl.style.display =\n",
       "        google.colab.kernel.accessAllowed ? 'block' : 'none';\n",
       "\n",
       "      buttonEl.onclick = () => {\n",
       "        google.colab.notebook.generateWithVariable('cooccurrence_df');\n",
       "      }\n",
       "      })();\n",
       "    </script>\n",
       "  </div>\n",
       "\n",
       "    </div>\n",
       "  </div>\n"
      ],
      "text/plain": [
       "               Prob_Topic_0  Prob_Topic_1  Prob_Topic_2  Prob_Topic_3  \\\n",
       "Prob_Topic_0              0             0             0          1351   \n",
       "Prob_Topic_1              0             0           844             0   \n",
       "Prob_Topic_2              0           844             0             1   \n",
       "Prob_Topic_3           1351             0             1             0   \n",
       "Prob_Topic_4              0             0             2             0   \n",
       "Prob_Topic_5              0           268            25             0   \n",
       "Prob_Topic_6              0             0            39             0   \n",
       "Prob_Topic_7            332             0             0           299   \n",
       "Prob_Topic_8              0           107             6             0   \n",
       "Prob_Topic_9            106             0             0             0   \n",
       "Prob_Topic_10             0             0             0             0   \n",
       "\n",
       "               Prob_Topic_4  Prob_Topic_5  Prob_Topic_6  Prob_Topic_7  \\\n",
       "Prob_Topic_0              0             0             0           332   \n",
       "Prob_Topic_1              0           268             0             0   \n",
       "Prob_Topic_2              2            25            39             0   \n",
       "Prob_Topic_3              0             0             0           299   \n",
       "Prob_Topic_4              0            46           238           112   \n",
       "Prob_Topic_5             46             0            19             0   \n",
       "Prob_Topic_6            238            19             0             0   \n",
       "Prob_Topic_7            112             0             0             0   \n",
       "Prob_Topic_8             14             0             0             0   \n",
       "Prob_Topic_9              0             0             0            66   \n",
       "Prob_Topic_10             0             0             0             0   \n",
       "\n",
       "               Prob_Topic_8  Prob_Topic_9  Prob_Topic_10  \n",
       "Prob_Topic_0              0           106              0  \n",
       "Prob_Topic_1            107             0              0  \n",
       "Prob_Topic_2              6             0              0  \n",
       "Prob_Topic_3              0             0              0  \n",
       "Prob_Topic_4             14             0              0  \n",
       "Prob_Topic_5              0             0              0  \n",
       "Prob_Topic_6              0             0              0  \n",
       "Prob_Topic_7              0            66              0  \n",
       "Prob_Topic_8              0             0              0  \n",
       "Prob_Topic_9              0             0              0  \n",
       "Prob_Topic_10             0             0              0  "
      ]
     },
     "execution_count": 15,
     "metadata": {},
     "output_type": "execute_result"
    }
   ],
   "source": [
    "cooccurrence_df"
   ]
  },
  {
   "cell_type": "code",
   "execution_count": null,
   "metadata": {
    "colab": {
     "base_uri": "https://localhost:8080/",
     "height": 607
    },
    "executionInfo": {
     "elapsed": 689,
     "status": "ok",
     "timestamp": 1744807559333,
     "user": {
      "displayName": "Yana Kiprova",
      "userId": "05029747295494730402"
     },
     "user_tz": -120
    },
    "id": "Nb0zgNGLkb0a",
    "outputId": "9ae6b58b-e872-4a73-d8ca-9758d5432967"
   },
   "outputs": [
    {
     "data": {
      "image/png": "[encoded data removed]",
      "text/plain": [
       "<Figure size 1600x600 with 1 Axes>"
      ]
     },
     "metadata": {},
     "output_type": "display_data"
    }
   ],
   "source": [
    "import networkx as nx\n",
    "\n",
    "# Create graph from co-occurrence matrix\n",
    "G = nx.from_pandas_adjacency(cooccurrence_df)\n",
    "\n",
    "# Draw the network\n",
    "plt.figure(figsize=(16, 6))\n",
    "pos = nx.spring_layout(G, k=3.5, seed=42)\n",
    "edges = G.edges(data=True)\n",
    "\n",
    "nx.draw_networkx_nodes(G, pos, node_size=700, node_color='skyblue')\n",
    "nx.draw_networkx_edges(G, pos, width=1.5, alpha=0.7)\n",
    "nx.draw_networkx_labels(G, pos, font_size=12, font_weight='bold')\n",
    "\n",
    "plt.title(\"Topic Co-occurrence Network\", fontsize=16)\n",
    "plt.axis(\"off\")\n",
    "plt.tight_layout()\n",
    "plt.show()"
   ]
  },
  {
   "cell_type": "markdown",
   "metadata": {
    "id": "dfouUzB9ITCS"
   },
   "source": [
    "#Vizualising topic development"
   ]
  },
  {
   "cell_type": "markdown",
   "metadata": {
    "id": "QqOXEWVix3vF"
   },
   "source": [
    "praparing the df - adding time period and topic names"
   ]
  },
  {
   "cell_type": "code",
   "execution_count": null,
   "metadata": {
    "id": "9b1id9aTyAos"
   },
   "outputs": [],
   "source": [
    "#remove 2025\n",
    "df_cleaned['video_date'] = pd.to_datetime(df_cleaned['video_date'])\n",
    "df_cleaned = df_cleaned[df_cleaned['video_date'].dt.year != 2025]"
   ]
  },
  {
   "cell_type": "code",
   "execution_count": null,
   "metadata": {
    "id": "C6TUFvILz_Rv"
   },
   "outputs": [],
   "source": [
    "#adding the topic names\n",
    "topic_names = {\n",
    "    0: \"0: Armed theft to businesses captured on security cameras\",\n",
    "    1: \"1: Crime stories through interviews with victims' families\",\n",
    "    2: \"2: Motorcycle crimes and witness involvement\",\n",
    "    3: \"3: Neighborhood crime stories and self-organized measures\",\n",
    "    4: \"4: Police intervention and gang capture cases\",\n",
    "    5: \"5: Crimes linked to politics and public protests\",\n",
    "    6: \"6: Extortion crimes and violent retaliation\",\n",
    "    7: \"7: Robberies executed by organized crime groups\",\n",
    "    8: \"8: Kidnapping crimes and police intervention\",\n",
    "    9: \"9: Cybertheft through stolen devices\",\n",
    "    10: \"10: Crimes involving dogs as victims, perpetrators or protectors\",\n",
    "}\n",
    "\n",
    "df_cleaned['topic_name'] = df_cleaned['topic'].map(topic_names)"
   ]
  },
  {
   "cell_type": "code",
   "execution_count": null,
   "metadata": {
    "colab": {
     "base_uri": "https://localhost:8080/"
    },
    "executionInfo": {
     "elapsed": 43,
     "status": "ok",
     "timestamp": 1748086625292,
     "user": {
      "displayName": "Yana Kiprova",
      "userId": "05029747295494730402"
     },
     "user_tz": -120
    },
    "id": "aIISTpfz4NWY",
    "outputId": "a86bef4e-8ef2-475d-99de-67fa717d604f"
   },
   "outputs": [
    {
     "data": {
      "text/plain": [
       "array(['2019–2021', '2023', '2024', '2022'], dtype=object)"
      ]
     },
     "execution_count": 27,
     "metadata": {},
     "output_type": "execute_result"
    }
   ],
   "source": [
    "# datetime format\n",
    "df_cleaned['video_date'] = pd.to_datetime(df_cleaned['video_date'], errors='coerce')\n",
    "\n",
    "df_cleaned['year'] = df_cleaned['video_date'].dt.year\n",
    "\n",
    "# Define groups\n",
    "def year_group(year):\n",
    "    if 2019 <= year <= 2021:\n",
    "        return '2019–2021'\n",
    "    elif year == 2022:\n",
    "        return '2022'\n",
    "    elif year == 2023:\n",
    "        return '2023'\n",
    "    elif year == 2024:\n",
    "        return '2024'\n",
    "    else:\n",
    "        return 'Other'  # In case there are years outside this range\n",
    "\n",
    "# Apply the function\n",
    "df_cleaned['year_group'] = df_cleaned['year'].apply(year_group)\n",
    "df_cleaned['year_group'].unique()"
   ]
  },
  {
   "cell_type": "markdown",
   "metadata": {
    "id": "SBDrk5G-0AVL"
   },
   "source": [
    "Visualizations:"
   ]
  },
  {
   "cell_type": "code",
   "execution_count": null,
   "metadata": {
    "colab": {
     "base_uri": "https://localhost:8080/",
     "height": 467
    },
    "executionInfo": {
     "elapsed": 94,
     "status": "ok",
     "timestamp": 1745136965607,
     "user": {
      "displayName": "Yana Kiprova",
      "userId": "05029747295494730402"
     },
     "user_tz": -120
    },
    "id": "fSRgpsrMQFyc",
    "outputId": "78c90582-213a-4fbf-b366-f74242f7af1e"
   },
   "outputs": [],
   "source": [
    "import plotly.express as px\n",
    "import plotly.colors as pc\n",
    "\n",
    "# Generate distinct colors\n",
    "topic_ids = sorted(topics_over_time[\"Topic\"].unique())\n",
    "color_map = {topic: px.colors.qualitative.Plotly[i % len(px.colors.qualitative.Plotly)] for i, topic in enumerate(topic_ids)}\n",
    "\n",
    "# Update colors in the figure\n",
    "for trace in fig.data:\n",
    "    topic_number = int(trace.name.split(\"_\")[0])  # Extract just the leading topic number\n",
    "    if topic_number in color_map:\n",
    "        trace.line.color = color_map[topic_number]\n",
    "\n",
    "fig.show()"
   ]
  },
  {
   "cell_type": "markdown",
   "metadata": {
    "id": "gLadd0d7ScDK"
   },
   "source": [
    "Occurance of articles about Venezuelans within each topic"
   ]
  },
  {
   "cell_type": "code",
   "execution_count": null,
   "metadata": {
    "colab": {
     "base_uri": "https://localhost:8080/",
     "height": 394
    },
    "executionInfo": {
     "elapsed": 43,
     "status": "ok",
     "timestamp": 1748086702097,
     "user": {
      "displayName": "Yana Kiprova",
      "userId": "05029747295494730402"
     },
     "user_tz": -120
    },
    "id": "5UTVhO_l-WYS",
    "outputId": "94219da3-3b2d-4e08-8988-c79daeebb84d"
   },
   "outputs": [
    {
     "data": {
      "application/vnd.google.colaboratory.intrinsic+json": {
       "summary": "{\n  \"name\": \"topic_venezuelan_stats_df\",\n  \"rows\": 11,\n  \"fields\": [\n    {\n      \"column\": \"topic_name\",\n      \"properties\": {\n        \"dtype\": \"string\",\n        \"num_unique_values\": 11,\n        \"samples\": [\n          \"5: Crimes linked to politics and public protests\",\n          \"3: Neighborhood crime stories and self-organized measures\",\n          \"0: Armed theft to businesses captured on security cameras\"\n        ],\n        \"semantic_type\": \"\",\n        \"description\": \"\"\n      }\n    },\n    {\n      \"column\": \"%_reports_Venezuelan\",\n      \"properties\": {\n        \"dtype\": \"string\",\n        \"num_unique_values\": 11,\n        \"samples\": [\n          \"9.7%\",\n          \"25.8%\",\n          \"6.0%\"\n        ],\n        \"semantic_type\": \"\",\n        \"description\": \"\"\n      }\n    },\n    {\n      \"column\": \"venezuelan_video_count\",\n      \"properties\": {\n        \"dtype\": \"number\",\n        \"std\": 64,\n        \"min\": 1,\n        \"max\": 242,\n        \"num_unique_values\": 11,\n        \"samples\": [\n          77,\n          242,\n          138\n        ],\n        \"semantic_type\": \"\",\n        \"description\": \"\"\n      }\n    }\n  ]\n}",
       "type": "dataframe",
       "variable_name": "topic_venezuelan_stats_df"
      },
      "text/html": [
       "\n",
       "  <div id=\"df-9daebf54-0c86-42a2-b62d-dd6658428494\" class=\"colab-df-container\">\n",
       "    <div>\n",
       "<style scoped>\n",
       "    .dataframe tbody tr th:only-of-type {\n",
       "        vertical-align: middle;\n",
       "    }\n",
       "\n",
       "    .dataframe tbody tr th {\n",
       "        vertical-align: top;\n",
       "    }\n",
       "\n",
       "    .dataframe thead th {\n",
       "        text-align: right;\n",
       "    }\n",
       "</style>\n",
       "<table border=\"1\" class=\"dataframe\">\n",
       "  <thead>\n",
       "    <tr style=\"text-align: right;\">\n",
       "      <th></th>\n",
       "      <th>topic_name</th>\n",
       "      <th>%_reports_Venezuelan</th>\n",
       "      <th>venezuelan_video_count</th>\n",
       "    </tr>\n",
       "  </thead>\n",
       "  <tbody>\n",
       "    <tr>\n",
       "      <th>4</th>\n",
       "      <td>3: Neighborhood crime stories and self-organiz...</td>\n",
       "      <td>25.8%</td>\n",
       "      <td>242</td>\n",
       "    </tr>\n",
       "    <tr>\n",
       "      <th>8</th>\n",
       "      <td>7: Robberies executed by organized crime groups</td>\n",
       "      <td>23.2%</td>\n",
       "      <td>157</td>\n",
       "    </tr>\n",
       "    <tr>\n",
       "      <th>10</th>\n",
       "      <td>9: Cybertheft through stolen devices</td>\n",
       "      <td>22.8%</td>\n",
       "      <td>103</td>\n",
       "    </tr>\n",
       "    <tr>\n",
       "      <th>5</th>\n",
       "      <td>4: Police intervention and gang capture cases</td>\n",
       "      <td>13.4%</td>\n",
       "      <td>127</td>\n",
       "    </tr>\n",
       "    <tr>\n",
       "      <th>3</th>\n",
       "      <td>2: Motorcycle crimes and witness involvement</td>\n",
       "      <td>11.3%</td>\n",
       "      <td>111</td>\n",
       "    </tr>\n",
       "    <tr>\n",
       "      <th>6</th>\n",
       "      <td>5: Crimes linked to politics and public protests</td>\n",
       "      <td>9.7%</td>\n",
       "      <td>77</td>\n",
       "    </tr>\n",
       "    <tr>\n",
       "      <th>7</th>\n",
       "      <td>6: Extortion crimes and violent retaliation</td>\n",
       "      <td>9.2%</td>\n",
       "      <td>71</td>\n",
       "    </tr>\n",
       "    <tr>\n",
       "      <th>2</th>\n",
       "      <td>1: Crime stories through interviews with victi...</td>\n",
       "      <td>7.0%</td>\n",
       "      <td>86</td>\n",
       "    </tr>\n",
       "    <tr>\n",
       "      <th>9</th>\n",
       "      <td>8: Kidnapping crimes and police intervention</td>\n",
       "      <td>6.3%</td>\n",
       "      <td>32</td>\n",
       "    </tr>\n",
       "    <tr>\n",
       "      <th>0</th>\n",
       "      <td>0: Armed theft to businesses captured on secur...</td>\n",
       "      <td>6.0%</td>\n",
       "      <td>138</td>\n",
       "    </tr>\n",
       "    <tr>\n",
       "      <th>1</th>\n",
       "      <td>10: Crimes involving dogs as victims, perpetra...</td>\n",
       "      <td>1.4%</td>\n",
       "      <td>1</td>\n",
       "    </tr>\n",
       "  </tbody>\n",
       "</table>\n",
       "</div>\n",
       "    <div class=\"colab-df-buttons\">\n",
       "\n",
       "  <div class=\"colab-df-container\">\n",
       "    <button class=\"colab-df-convert\" onclick=\"convertToInteractive('df-9daebf54-0c86-42a2-b62d-dd6658428494')\"\n",
       "            title=\"Convert this dataframe to an interactive table.\"\n",
       "            style=\"display:none;\">\n",
       "\n",
       "  <svg xmlns=\"http://www.w3.org/2000/svg\" height=\"24px\" viewBox=\"0 -960 960 960\">\n",
       "    <path d=\"M120-120v-720h720v720H120Zm60-500h600v-160H180v160Zm220 220h160v-160H400v160Zm0 220h160v-160H400v160ZM180-400h160v-160H180v160Zm440 0h160v-160H620v160ZM180-180h160v-160H180v160Zm440 0h160v-160H620v160Z\"/>\n",
       "  </svg>\n",
       "    </button>\n",
       "\n",
       "  <style>\n",
       "    .colab-df-container {\n",
       "      display:flex;\n",
       "      gap: 12px;\n",
       "    }\n",
       "\n",
       "    .colab-df-convert {\n",
       "      background-color: #E8F0FE;\n",
       "      border: none;\n",
       "      border-radius: 50%;\n",
       "      cursor: pointer;\n",
       "      display: none;\n",
       "      fill: #1967D2;\n",
       "      height: 32px;\n",
       "      padding: 0 0 0 0;\n",
       "      width: 32px;\n",
       "    }\n",
       "\n",
       "    .colab-df-convert:hover {\n",
       "      background-color: #E2EBFA;\n",
       "      box-shadow: 0px 1px 2px rgba(60, 64, 67, 0.3), 0px 1px 3px 1px rgba(60, 64, 67, 0.15);\n",
       "      fill: #174EA6;\n",
       "    }\n",
       "\n",
       "    .colab-df-buttons div {\n",
       "      margin-bottom: 4px;\n",
       "    }\n",
       "\n",
       "    [theme=dark] .colab-df-convert {\n",
       "      background-color: #3B4455;\n",
       "      fill: #D2E3FC;\n",
       "    }\n",
       "\n",
       "    [theme=dark] .colab-df-convert:hover {\n",
       "      background-color: #434B5C;\n",
       "      box-shadow: 0px 1px 3px 1px rgba(0, 0, 0, 0.15);\n",
       "      filter: drop-shadow(0px 1px 2px rgba(0, 0, 0, 0.3));\n",
       "      fill: #FFFFFF;\n",
       "    }\n",
       "  </style>\n",
       "\n",
       "    <script>\n",
       "      const buttonEl =\n",
       "        document.querySelector('#df-9daebf54-0c86-42a2-b62d-dd6658428494 button.colab-df-convert');\n",
       "      buttonEl.style.display =\n",
       "        google.colab.kernel.accessAllowed ? 'block' : 'none';\n",
       "\n",
       "      async function convertToInteractive(key) {\n",
       "        const element = document.querySelector('#df-9daebf54-0c86-42a2-b62d-dd6658428494');\n",
       "        const dataTable =\n",
       "          await google.colab.kernel.invokeFunction('convertToInteractive',\n",
       "                                                    [key], {});\n",
       "        if (!dataTable) return;\n",
       "\n",
       "        const docLinkHtml = 'Like what you see? Visit the ' +\n",
       "          '<a target=\"_blank\" href=https://colab.research.google.com/notebooks/data_table.ipynb>data table notebook</a>'\n",
       "          + ' to learn more about interactive tables.';\n",
       "        element.innerHTML = '';\n",
       "        dataTable['output_type'] = 'display_data';\n",
       "        await google.colab.output.renderOutput(dataTable, element);\n",
       "        const docLink = document.createElement('div');\n",
       "        docLink.innerHTML = docLinkHtml;\n",
       "        element.appendChild(docLink);\n",
       "      }\n",
       "    </script>\n",
       "  </div>\n",
       "\n",
       "\n",
       "    <div id=\"df-f70d4270-c767-497d-8093-0fb41778604d\">\n",
       "      <button class=\"colab-df-quickchart\" onclick=\"quickchart('df-f70d4270-c767-497d-8093-0fb41778604d')\"\n",
       "                title=\"Suggest charts\"\n",
       "                style=\"display:none;\">\n",
       "\n",
       "<svg xmlns=\"http://www.w3.org/2000/svg\" height=\"24px\"viewBox=\"0 0 24 24\"\n",
       "     width=\"24px\">\n",
       "    <g>\n",
       "        <path d=\"M19 3H5c-1.1 0-2 .9-2 2v14c0 1.1.9 2 2 2h14c1.1 0 2-.9 2-2V5c0-1.1-.9-2-2-2zM9 17H7v-7h2v7zm4 0h-2V7h2v10zm4 0h-2v-4h2v4z\"/>\n",
       "    </g>\n",
       "</svg>\n",
       "      </button>\n",
       "\n",
       "<style>\n",
       "  .colab-df-quickchart {\n",
       "      --bg-color: #E8F0FE;\n",
       "      --fill-color: #1967D2;\n",
       "      --hover-bg-color: #E2EBFA;\n",
       "      --hover-fill-color: #174EA6;\n",
       "      --disabled-fill-color: #AAA;\n",
       "      --disabled-bg-color: #DDD;\n",
       "  }\n",
       "\n",
       "  [theme=dark] .colab-df-quickchart {\n",
       "      --bg-color: #3B4455;\n",
       "      --fill-color: #D2E3FC;\n",
       "      --hover-bg-color: #434B5C;\n",
       "      --hover-fill-color: #FFFFFF;\n",
       "      --disabled-bg-color: #3B4455;\n",
       "      --disabled-fill-color: #666;\n",
       "  }\n",
       "\n",
       "  .colab-df-quickchart {\n",
       "    background-color: var(--bg-color);\n",
       "    border: none;\n",
       "    border-radius: 50%;\n",
       "    cursor: pointer;\n",
       "    display: none;\n",
       "    fill: var(--fill-color);\n",
       "    height: 32px;\n",
       "    padding: 0;\n",
       "    width: 32px;\n",
       "  }\n",
       "\n",
       "  .colab-df-quickchart:hover {\n",
       "    background-color: var(--hover-bg-color);\n",
       "    box-shadow: 0 1px 2px rgba(60, 64, 67, 0.3), 0 1px 3px 1px rgba(60, 64, 67, 0.15);\n",
       "    fill: var(--button-hover-fill-color);\n",
       "  }\n",
       "\n",
       "  .colab-df-quickchart-complete:disabled,\n",
       "  .colab-df-quickchart-complete:disabled:hover {\n",
       "    background-color: var(--disabled-bg-color);\n",
       "    fill: var(--disabled-fill-color);\n",
       "    box-shadow: none;\n",
       "  }\n",
       "\n",
       "  .colab-df-spinner {\n",
       "    border: 2px solid var(--fill-color);\n",
       "    border-color: transparent;\n",
       "    border-bottom-color: var(--fill-color);\n",
       "    animation:\n",
       "      spin 1s steps(1) infinite;\n",
       "  }\n",
       "\n",
       "  @keyframes spin {\n",
       "    0% {\n",
       "      border-color: transparent;\n",
       "      border-bottom-color: var(--fill-color);\n",
       "      border-left-color: var(--fill-color);\n",
       "    }\n",
       "    20% {\n",
       "      border-color: transparent;\n",
       "      border-left-color: var(--fill-color);\n",
       "      border-top-color: var(--fill-color);\n",
       "    }\n",
       "    30% {\n",
       "      border-color: transparent;\n",
       "      border-left-color: var(--fill-color);\n",
       "      border-top-color: var(--fill-color);\n",
       "      border-right-color: var(--fill-color);\n",
       "    }\n",
       "    40% {\n",
       "      border-color: transparent;\n",
       "      border-right-color: var(--fill-color);\n",
       "      border-top-color: var(--fill-color);\n",
       "    }\n",
       "    60% {\n",
       "      border-color: transparent;\n",
       "      border-right-color: var(--fill-color);\n",
       "    }\n",
       "    80% {\n",
       "      border-color: transparent;\n",
       "      border-right-color: var(--fill-color);\n",
       "      border-bottom-color: var(--fill-color);\n",
       "    }\n",
       "    90% {\n",
       "      border-color: transparent;\n",
       "      border-bottom-color: var(--fill-color);\n",
       "    }\n",
       "  }\n",
       "</style>\n",
       "\n",
       "      <script>\n",
       "        async function quickchart(key) {\n",
       "          const quickchartButtonEl =\n",
       "            document.querySelector('#' + key + ' button');\n",
       "          quickchartButtonEl.disabled = true;  // To prevent multiple clicks.\n",
       "          quickchartButtonEl.classList.add('colab-df-spinner');\n",
       "          try {\n",
       "            const charts = await google.colab.kernel.invokeFunction(\n",
       "                'suggestCharts', [key], {});\n",
       "          } catch (error) {\n",
       "            console.error('Error during call to suggestCharts:', error);\n",
       "          }\n",
       "          quickchartButtonEl.classList.remove('colab-df-spinner');\n",
       "          quickchartButtonEl.classList.add('colab-df-quickchart-complete');\n",
       "        }\n",
       "        (() => {\n",
       "          let quickchartButtonEl =\n",
       "            document.querySelector('#df-f70d4270-c767-497d-8093-0fb41778604d button');\n",
       "          quickchartButtonEl.style.display =\n",
       "            google.colab.kernel.accessAllowed ? 'block' : 'none';\n",
       "        })();\n",
       "      </script>\n",
       "    </div>\n",
       "\n",
       "  <div id=\"id_aa8dbd50-697a-4367-90e8-8d6456f7f484\">\n",
       "    <style>\n",
       "      .colab-df-generate {\n",
       "        background-color: #E8F0FE;\n",
       "        border: none;\n",
       "        border-radius: 50%;\n",
       "        cursor: pointer;\n",
       "        display: none;\n",
       "        fill: #1967D2;\n",
       "        height: 32px;\n",
       "        padding: 0 0 0 0;\n",
       "        width: 32px;\n",
       "      }\n",
       "\n",
       "      .colab-df-generate:hover {\n",
       "        background-color: #E2EBFA;\n",
       "        box-shadow: 0px 1px 2px rgba(60, 64, 67, 0.3), 0px 1px 3px 1px rgba(60, 64, 67, 0.15);\n",
       "        fill: #174EA6;\n",
       "      }\n",
       "\n",
       "      [theme=dark] .colab-df-generate {\n",
       "        background-color: #3B4455;\n",
       "        fill: #D2E3FC;\n",
       "      }\n",
       "\n",
       "      [theme=dark] .colab-df-generate:hover {\n",
       "        background-color: #434B5C;\n",
       "        box-shadow: 0px 1px 3px 1px rgba(0, 0, 0, 0.15);\n",
       "        filter: drop-shadow(0px 1px 2px rgba(0, 0, 0, 0.3));\n",
       "        fill: #FFFFFF;\n",
       "      }\n",
       "    </style>\n",
       "    <button class=\"colab-df-generate\" onclick=\"generateWithVariable('topic_venezuelan_stats_df')\"\n",
       "            title=\"Generate code using this dataframe.\"\n",
       "            style=\"display:none;\">\n",
       "\n",
       "  <svg xmlns=\"http://www.w3.org/2000/svg\" height=\"24px\"viewBox=\"0 0 24 24\"\n",
       "       width=\"24px\">\n",
       "    <path d=\"M7,19H8.4L18.45,9,17,7.55,7,17.6ZM5,21V16.75L18.45,3.32a2,2,0,0,1,2.83,0l1.4,1.43a1.91,1.91,0,0,1,.58,1.4,1.91,1.91,0,0,1-.58,1.4L9.25,21ZM18.45,9,17,7.55Zm-12,3A5.31,5.31,0,0,0,4.9,8.1,5.31,5.31,0,0,0,1,6.5,5.31,5.31,0,0,0,4.9,4.9,5.31,5.31,0,0,0,6.5,1,5.31,5.31,0,0,0,8.1,4.9,5.31,5.31,0,0,0,12,6.5,5.46,5.46,0,0,0,6.5,12Z\"/>\n",
       "  </svg>\n",
       "    </button>\n",
       "    <script>\n",
       "      (() => {\n",
       "      const buttonEl =\n",
       "        document.querySelector('#id_aa8dbd50-697a-4367-90e8-8d6456f7f484 button.colab-df-generate');\n",
       "      buttonEl.style.display =\n",
       "        google.colab.kernel.accessAllowed ? 'block' : 'none';\n",
       "\n",
       "      buttonEl.onclick = () => {\n",
       "        google.colab.notebook.generateWithVariable('topic_venezuelan_stats_df');\n",
       "      }\n",
       "      })();\n",
       "    </script>\n",
       "  </div>\n",
       "\n",
       "    </div>\n",
       "  </div>\n"
      ],
      "text/plain": [
       "                                           topic_name %_reports_Venezuelan  \\\n",
       "4   3: Neighborhood crime stories and self-organiz...                25.8%   \n",
       "8     7: Robberies executed by organized crime groups                23.2%   \n",
       "10               9: Cybertheft through stolen devices                22.8%   \n",
       "5       4: Police intervention and gang capture cases                13.4%   \n",
       "3        2: Motorcycle crimes and witness involvement                11.3%   \n",
       "6    5: Crimes linked to politics and public protests                 9.7%   \n",
       "7         6: Extortion crimes and violent retaliation                 9.2%   \n",
       "2   1: Crime stories through interviews with victi...                 7.0%   \n",
       "9        8: Kidnapping crimes and police intervention                 6.3%   \n",
       "0   0: Armed theft to businesses captured on secur...                 6.0%   \n",
       "1   10: Crimes involving dogs as victims, perpetra...                 1.4%   \n",
       "\n",
       "    venezuelan_video_count  \n",
       "4                      242  \n",
       "8                      157  \n",
       "10                     103  \n",
       "5                      127  \n",
       "3                      111  \n",
       "6                       77  \n",
       "7                       71  \n",
       "2                       86  \n",
       "9                       32  \n",
       "0                      138  \n",
       "1                        1  "
      ]
     },
     "execution_count": 32,
     "metadata": {},
     "output_type": "execute_result"
    }
   ],
   "source": [
    "# Group by topic and calculate both percentage and count of Venezuelan-related videos\n",
    "grouped = df_cleaned.groupby('topic_name')\n",
    "\n",
    "percentage = grouped['bin_venezuelan'].mean() * 100\n",
    "\n",
    "count_true = grouped['bin_venezuelan'].sum()\n",
    "\n",
    "# Combine\n",
    "topic_venezuelan_stats_df = pd.DataFrame({\n",
    "    '%_reports_Venezuelan': percentage,\n",
    "    'venezuelan_video_count': count_true\n",
    "}).reset_index()\n",
    "\n",
    "# Sort by percentage descending\n",
    "topic_venezuelan_stats_df = topic_venezuelan_stats_df.sort_values(by='%_reports_Venezuelan', ascending=False)\n",
    "topic_venezuelan_stats_df['%_reports_Venezuelan'] = topic_venezuelan_stats_df['%_reports_Venezuelan'].map(lambda x: f\"{x:.1f}%\")\n",
    "\n",
    "topic_venezuelan_stats_df\n"
   ]
  },
  {
   "cell_type": "markdown",
   "metadata": {
    "id": "EyimSBBptFLs"
   },
   "source": [
    "Visualizing topic per year groups"
   ]
  },
  {
   "cell_type": "code",
   "execution_count": null,
   "metadata": {
    "colab": {
     "base_uri": "https://localhost:8080/",
     "height": 607
    },
    "executionInfo": {
     "elapsed": 948,
     "status": "ok",
     "timestamp": 1747916872418,
     "user": {
      "displayName": "Yana Kiprova",
      "userId": "05029747295494730402"
     },
     "user_tz": -120
    },
    "id": "aphtB4mtvmDl",
    "outputId": "83bbd6a8-a6fb-4110-9d2c-202cf8547ee9"
   },
   "outputs": [
    {
     "data": {
      "image/png": "[encoded data removed]",
      "text/plain": [
       "<Figure size 1200x600 with 1 Axes>"
      ]
     },
     "metadata": {},
     "output_type": "display_data"
    }
   ],
   "source": [
    "# Normalize counts to percentages\n",
    "topic_counts = df_cleaned.groupby(['year_group', 'topic']).size().unstack(fill_value=0)\n",
    "\n",
    "topic_percent = topic_counts.div(topic_counts.sum(axis=1), axis=0) * 100\n",
    "\n",
    "# Plot\n",
    "topic_percent.plot(kind='bar', stacked=True, figsize=(12, 6), colormap='tab20')\n",
    "\n",
    "\n",
    "plt.title('Percentage of Articles by Topic Within Each Year Group')\n",
    "plt.xlabel('Year Group')\n",
    "plt.ylabel('Percentage of Articles')\n",
    "plt.xticks(rotation=0)\n",
    "plt.legend(title='Topic', bbox_to_anchor=(1.05, 1), loc='upper left')\n",
    "plt.tight_layout()\n",
    "plt.grid(axis='y', linestyle='--', alpha=0.7)\n",
    "plt.show()\n"
   ]
  },
  {
   "cell_type": "markdown",
   "metadata": {
    "id": "bQaNiVIWIcyT"
   },
   "source": [
    "Visualizing Venezuelan group per year group"
   ]
  },
  {
   "cell_type": "code",
   "execution_count": null,
   "metadata": {
    "colab": {
     "base_uri": "https://localhost:8080/",
     "height": 607
    },
    "executionInfo": {
     "elapsed": 341,
     "status": "ok",
     "timestamp": 1748086386539,
     "user": {
      "displayName": "Yana Kiprova",
      "userId": "05029747295494730402"
     },
     "user_tz": -120
    },
    "id": "TLSILdJoCfOf",
    "outputId": "2eaa60c5-7623-4032-c185-824edca7f023"
   },
   "outputs": [
    {
     "data": {
      "image/png": "[encoded data removed]",
      "text/plain": [
       "<Figure size 1000x600 with 1 Axes>"
      ]
     },
     "metadata": {},
     "output_type": "display_data"
    }
   ],
   "source": [
    "\n",
    "# Group by year_group and binary flag\n",
    "ven_counts = df_cleaned.groupby(['year_group', 'bin_venezuelan']).size().unstack(fill_value=0)\n",
    "\n",
    "# Sort year groups\n",
    "ordered_groups = ['2019–2021', '2022', '2023', '2024']\n",
    "ven_counts = ven_counts.reindex(ordered_groups)\n",
    "\n",
    "# percentage\n",
    "ven_percent = ven_counts.div(ven_counts.sum(axis=1), axis=0) * 100\n",
    "\n",
    "# Rename columns\n",
    "ven_percent.columns = ['No', 'Yes'] if 0 in ven_percent.columns else ven_percent.columns\n",
    "\n",
    "# Visualize\n",
    "ax = ven_percent.plot(kind='bar', stacked=True, figsize=(10, 6), color=['#d3d3d3', '#1f77b4'])\n",
    "\n",
    "plt.title('Percentage of Articles With and Without Venezuelan Criminals')\n",
    "plt.xlabel('Year Group')\n",
    "plt.ylabel('Percentage of Articles')\n",
    "plt.xticks(rotation=0)\n",
    "plt.legend(title='Venezuelan Criminal', bbox_to_anchor=(1.05, 1), loc='upper left')\n",
    "plt.tight_layout()\n",
    "plt.grid(axis='y', linestyle='--', alpha=0.7)\n",
    "\n",
    "# Add percentage labels\n",
    "for i, row in ven_percent.iterrows():\n",
    "    bottom = 0\n",
    "    for col in ven_percent.columns:\n",
    "        value = row[col]\n",
    "        if value > 0:\n",
    "            ax.text(\n",
    "                x=list(ven_percent.index).index(i),\n",
    "                y=bottom + value / 2,\n",
    "                s=f\"{value:.1f}%\",\n",
    "                ha='center',\n",
    "                va='center',\n",
    "                fontsize=9,\n",
    "                color='black'\n",
    "            )\n",
    "            bottom += value\n",
    "\n",
    "plt.show()"
   ]
  },
  {
   "cell_type": "code",
   "execution_count": null,
   "metadata": {
    "colab": {
     "base_uri": "https://localhost:8080/",
     "height": 607
    },
    "executionInfo": {
     "elapsed": 483,
     "status": "ok",
     "timestamp": 1745524256522,
     "user": {
      "displayName": "Yana Kiprova",
      "userId": "05029747295494730402"
     },
     "user_tz": -120
    },
    "id": "e_ySkSUrWbSo",
    "outputId": "03b9dbd4-6770-49bb-82c0-00782beff243"
   },
   "outputs": [
    {
     "data": {
      "image/png": "[encoded data removed]",
      "text/plain": [
       "<Figure size 1000x600 with 1 Axes>"
      ]
     },
     "metadata": {},
     "output_type": "display_data"
    }
   ],
   "source": [
    "# Group by year_group and binary flag\n",
    "ven_counts = df_cleaned.groupby(['year_group', 'bin_foreigner']).size().unstack(fill_value=0)\n",
    "\n",
    "# Sort year groups if needed\n",
    "ordered_groups = ['2019–2021', '2022', '2023', '2024–2025']\n",
    "ven_counts = ven_counts.reindex(ordered_groups)\n",
    "\n",
    "# Normalize to get percentage\n",
    "ven_percent = ven_counts.div(ven_counts.sum(axis=1), axis=0) * 100\n",
    "\n",
    "# Rename columns for clarity (optional)\n",
    "ven_percent.columns = ['No Mention', 'Mentions Venezuelans'] if 0 in ven_percent.columns else ven_percent.columns\n",
    "\n",
    "# Plot\n",
    "ven_percent.plot(kind='bar', stacked=True, figsize=(10, 6), color=['#d3d3d3', '#1f77b4'])\n",
    "\n",
    "plt.title('Percentage of Articles Mentioning Foreigners by Year Group')\n",
    "plt.xlabel('Year Group')\n",
    "plt.ylabel('Percentage of Articles')\n",
    "plt.xticks(rotation=0)\n",
    "plt.legend(title='Mentions Foreigners', bbox_to_anchor=(1.05, 1), loc='upper left')\n",
    "plt.tight_layout()\n",
    "plt.grid(axis='y', linestyle='--', alpha=0.7)\n",
    "plt.show()"
   ]
  }
 ],
 "metadata": {
  "colab": {
   "provenance": [],
   "toc_visible": true
  },
  "kernelspec": {
   "display_name": "Python 3 (ipykernel)",
   "language": "python",
   "name": "python3"
  },
  "language_info": {
   "codemirror_mode": {
    "name": "ipython",
    "version": 3
   },
   "file_extension": ".py",
   "mimetype": "text/x-python",
   "name": "python",
   "nbconvert_exporter": "python",
   "pygments_lexer": "ipython3",
   "version": "3.11.4"
  }
 },
 "nbformat": 4,
 "nbformat_minor": 1
}
