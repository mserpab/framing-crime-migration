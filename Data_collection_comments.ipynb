{
 "cells": [
  {
   "cell_type": "code",
   "execution_count": null,
   "metadata": {
    "id": "cfZoc12-v87H"
   },
   "outputs": [],
   "source": [
    "import requests\n",
    "import pandas as pd\n",
    "from google.colab import drive\n",
    "from googleapiclient.discovery import build\n",
    "import time\n",
    "import json\n",
    "from google.colab import files\n",
    "from googleapiclient.errors import HttpError\n",
    "import re\n",
    "import matplotlib.pyplot as plt"
   ]
  },
  {
   "cell_type": "markdown",
   "metadata": {
    "id": "J73qfqQy0jov"
   },
   "source": [
    "# Importing collected transcripts"
   ]
  },
  {
   "cell_type": "code",
   "execution_count": null,
   "metadata": {
    "colab": {
     "base_uri": "https://localhost:8080/"
    },
    "executionInfo": {
     "elapsed": 30010,
     "status": "ok",
     "timestamp": 1743876728904,
     "user": {
      "displayName": "Yana Kiprova",
      "userId": "05029747295494730402"
     },
     "user_tz": -120
    },
    "id": "B-JPfHddwLZe",
    "outputId": "7c054a3b-2640-4135-f318-54bd1de4fe0d"
   },
   "outputs": [
    {
     "name": "stdout",
     "output_type": "stream",
     "text": [
      "Mounted at /gdrive\n"
     ]
    }
   ],
   "source": [
    "drive.mount('/gdrive', force_remount=True)"
   ]
  },
  {
   "cell_type": "code",
   "execution_count": null,
   "metadata": {
    "colab": {
     "base_uri": "https://localhost:8080/"
    },
    "executionInfo": {
     "elapsed": 6,
     "status": "ok",
     "timestamp": 1743876731684,
     "user": {
      "displayName": "Yana Kiprova",
      "userId": "05029747295494730402"
     },
     "user_tz": -120
    },
    "id": "1Vt6dkP5wjgr",
    "outputId": "11b95212-7619-4f7f-b8d3-a6534da10e51"
   },
   "outputs": [],
   "source": [
    "%cd # Directory location removed"
   ]
  },
  {
   "cell_type": "code",
   "execution_count": null,
   "metadata": {
    "colab": {
     "base_uri": "https://localhost:8080/"
    },
    "executionInfo": {
     "elapsed": 3832,
     "status": "ok",
     "timestamp": 1743412413349,
     "user": {
      "displayName": "Yana Kiprova",
      "userId": "05029747295494730402"
     },
     "user_tz": -120
    },
    "id": "J74TUbsNCJ5t",
    "outputId": "80cbb7e0-eccd-4605-a86f-9fe7dec86f84"
   },
   "outputs": [
    {
     "data": {
      "text/plain": [
       "(10366, 13)"
      ]
     },
     "execution_count": 4,
     "metadata": {},
     "output_type": "execute_result"
    }
   ],
   "source": [
    "df_combined = pd.read_csv() # File location removed\n",
    "df_combined.shape"
   ]
  },
  {
   "cell_type": "code",
   "execution_count": null,
   "metadata": {
    "colab": {
     "base_uri": "https://localhost:8080/"
    },
    "executionInfo": {
     "elapsed": 16362,
     "status": "ok",
     "timestamp": 1743412478278,
     "user": {
      "displayName": "Yana Kiprova",
      "userId": "05029747295494730402"
     },
     "user_tz": -120
    },
    "id": "-25zYf1Esg-P",
    "outputId": "d9577401-2743-499d-b905-1feb05894161"
   },
   "outputs": [
    {
     "data": {
      "text/plain": [
       "(1034050, 7)"
      ]
     },
     "execution_count": 5,
     "metadata": {},
     "output_type": "execute_result"
    }
   ],
   "source": [
    "df_comments = pd.read_csv() # File location removed\n",
    "df_comments.shape"
   ]
  },
  {
   "cell_type": "markdown",
   "metadata": {
    "id": "iOidPkw_AYXf"
   },
   "source": [
    "# Collecting comments"
   ]
  },
  {
   "cell_type": "code",
   "execution_count": null,
   "metadata": {
    "id": "VNFBApojAlHJ"
   },
   "outputs": [],
   "source": [
    "# API Keys have been removed"
   ]
  },
  {
   "cell_type": "code",
   "execution_count": null,
   "metadata": {
    "id": "ozusLnYwAkHt"
   },
   "outputs": [],
   "source": [
    "youtube = build(\"youtube\", \"v3\", developerKey=api_key)"
   ]
  },
  {
   "cell_type": "code",
   "execution_count": null,
   "metadata": {
    "id": "i-N3nfTr0fdi"
   },
   "outputs": [],
   "source": [
    "# Initial function for collection of comments and replies\n",
    "def get_comments_and_replies(video_id):\n",
    "    \"\"\"Fetch all comments and replies for a given video.\"\"\"\n",
    "    comments = []\n",
    "    next_page_token = None\n",
    "\n",
    "    while True:\n",
    "        request = youtube.commentThreads().list(\n",
    "            part=\"snippet\",\n",
    "            videoId=video_id,\n",
    "            maxResults=100,\n",
    "            pageToken=next_page_token\n",
    "        )\n",
    "        response = request.execute()\n",
    "\n",
    "        for item in response.get(\"items\", []):\n",
    "            top_comment = item[\"snippet\"][\"topLevelComment\"][\"snippet\"]\n",
    "\n",
    "            # Store top-level comment\n",
    "            comment_id = item[\"id\"]\n",
    "            comments.append({\n",
    "                \"video_id\": video_id,\n",
    "                \"comment_id\": comment_id,\n",
    "                \"author\": top_comment[\"authorDisplayName\"],\n",
    "                \"comment\": top_comment[\"textDisplay\"],\n",
    "                \"published_at\": top_comment[\"publishedAt\"],\n",
    "                \"like_count\": top_comment[\"likeCount\"],\n",
    "                \"reply_to\": None  # Top-level comment\n",
    "            })\n",
    "\n",
    "            # Fetch replies if available\n",
    "            if item[\"snippet\"][\"totalReplyCount\"] > 0:\n",
    "                replies_request = youtube.comments().list(\n",
    "                    part=\"snippet\",\n",
    "                    parentId=comment_id,\n",
    "                    maxResults=100\n",
    "                )\n",
    "                replies_response = replies_request.execute()\n",
    "\n",
    "                for reply in replies_response.get(\"items\", []):\n",
    "                    reply_snippet = reply[\"snippet\"]\n",
    "                    comments.append({\n",
    "                        \"video_id\": video_id,\n",
    "                        \"comment_id\": reply[\"id\"],\n",
    "                        \"author\": reply_snippet[\"authorDisplayName\"],\n",
    "                        \"comment\": reply_snippet[\"textDisplay\"],\n",
    "                        \"published_at\": reply_snippet[\"publishedAt\"],\n",
    "                        \"like_count\": reply_snippet[\"likeCount\"],\n",
    "                        \"reply_to\": comment_id  # Reply to this comment\n",
    "                    })\n",
    "\n",
    "        # Handle pagination\n",
    "        next_page_token = response.get(\"nextPageToken\")\n",
    "        if not next_page_token:\n",
    "            break\n",
    "\n",
    "        # Prevent hitting API limits\n",
    "        time.sleep(1)\n",
    "\n",
    "    return comments"
   ]
  },
  {
   "cell_type": "code",
   "execution_count": null,
   "metadata": {
    "colab": {
     "base_uri": "https://localhost:8080/",
     "height": 1000
    },
    "executionInfo": {
     "elapsed": 1398927,
     "status": "error",
     "timestamp": 1742919799911,
     "user": {
      "displayName": "Yana Kiprova",
      "userId": "05029747295494730402"
     },
     "user_tz": -60
    },
    "id": "N7a2ngJ3BkM_",
    "outputId": "40c361d2-edca-4202-b18e-be7852f63ad5"
   },
   "outputs": [],
   "source": [
    "# Load video IDs from CSV (Ensure there's a \"video_id\" column)\n",
    "\n",
    "all_comments = []\n",
    "for video_id in df_combined[\"video_id\"]:\n",
    "    print(f\"Fetching comments for video: {video_id}\")\n",
    "    all_comments.extend(get_comments_and_replies(video_id))\n",
    "\n",
    "df_comments = pd.DataFrame(all_comments)"
   ]
  },
  {
   "cell_type": "code",
   "execution_count": null,
   "metadata": {
    "colab": {
     "base_uri": "https://localhost:8080/"
    },
    "executionInfo": {
     "elapsed": 8,
     "status": "ok",
     "timestamp": 1742920128066,
     "user": {
      "displayName": "Yana Kiprova",
      "userId": "05029747295494730402"
     },
     "user_tz": -60
    },
    "id": "Idtw8dtmIg7y",
    "outputId": "9e199447-2333-425a-ce98-ed16997d51fc"
   },
   "outputs": [
    {
     "data": {
      "text/plain": [
       "1095"
      ]
     },
     "execution_count": 27,
     "metadata": {},
     "output_type": "execute_result"
    }
   ],
   "source": [
    "n = len(pd.unique(df_comments['video_id']))\n",
    "n"
   ]
  },
  {
   "cell_type": "code",
   "execution_count": null,
   "metadata": {
    "colab": {
     "base_uri": "https://localhost:8080/"
    },
    "executionInfo": {
     "elapsed": 474,
     "status": "ok",
     "timestamp": 1742919987339,
     "user": {
      "displayName": "Yana Kiprova",
      "userId": "05029747295494730402"
     },
     "user_tz": -60
    },
    "id": "HDULNFkaCDp-",
    "outputId": "3200b37c-be75-4dc7-baba-f28bf501fef0"
   },
   "outputs": [
    {
     "data": {
      "text/plain": [
       "(103785, 7)"
      ]
     },
     "execution_count": 25,
     "metadata": {},
     "output_type": "execute_result"
    }
   ],
   "source": [
    "df_comments = pd.DataFrame(all_comments)\n",
    "df_comments.shape"
   ]
  },
  {
   "cell_type": "code",
   "execution_count": null,
   "metadata": {
    "colab": {
     "base_uri": "https://localhost:8080/",
     "height": 71
    },
    "executionInfo": {
     "elapsed": 494451,
     "status": "ok",
     "timestamp": 1743255454235,
     "user": {
      "displayName": "Yana Kiprova",
      "userId": "05029747295494730402"
     },
     "user_tz": -60
    },
    "id": "sQODBPFcTTbR",
    "outputId": "4f30a1c4-4456-4a7a-d1bd-e9e912059af7"
   },
   "outputs": [
    {
     "data": {
      "text/html": [
       "\n",
       "     <input type=\"file\" id=\"files-c89b9998-71c1-4997-9025-3fb22ffb7c03\" name=\"files[]\" multiple disabled\n",
       "        style=\"border:none\" />\n",
       "     <output id=\"result-c89b9998-71c1-4997-9025-3fb22ffb7c03\">\n",
       "      Upload widget is only available when the cell has been executed in the\n",
       "      current browser session. Please rerun this cell to enable.\n",
       "      </output>\n",
       "      <script>// Copyright 2017 Google LLC\n",
       "//\n",
       "// Licensed under the Apache License, Version 2.0 (the \"License\");\n",
       "// you may not use this file except in compliance with the License.\n",
       "// You may obtain a copy of the License at\n",
       "//\n",
       "//      http://www.apache.org/licenses/LICENSE-2.0\n",
       "//\n",
       "// Unless required by applicable law or agreed to in writing, software\n",
       "// distributed under the License is distributed on an \"AS IS\" BASIS,\n",
       "// WITHOUT WARRANTIES OR CONDITIONS OF ANY KIND, either express or implied.\n",
       "// See the License for the specific language governing permissions and\n",
       "// limitations under the License.\n",
       "\n",
       "/**\n",
       " * @fileoverview Helpers for google.colab Python module.\n",
       " */\n",
       "(function(scope) {\n",
       "function span(text, styleAttributes = {}) {\n",
       "  const element = document.createElement('span');\n",
       "  element.textContent = text;\n",
       "  for (const key of Object.keys(styleAttributes)) {\n",
       "    element.style[key] = styleAttributes[key];\n",
       "  }\n",
       "  return element;\n",
       "}\n",
       "\n",
       "// Max number of bytes which will be uploaded at a time.\n",
       "const MAX_PAYLOAD_SIZE = 100 * 1024;\n",
       "\n",
       "function _uploadFiles(inputId, outputId) {\n",
       "  const steps = uploadFilesStep(inputId, outputId);\n",
       "  const outputElement = document.getElementById(outputId);\n",
       "  // Cache steps on the outputElement to make it available for the next call\n",
       "  // to uploadFilesContinue from Python.\n",
       "  outputElement.steps = steps;\n",
       "\n",
       "  return _uploadFilesContinue(outputId);\n",
       "}\n",
       "\n",
       "// This is roughly an async generator (not supported in the browser yet),\n",
       "// where there are multiple asynchronous steps and the Python side is going\n",
       "// to poll for completion of each step.\n",
       "// This uses a Promise to block the python side on completion of each step,\n",
       "// then passes the result of the previous step as the input to the next step.\n",
       "function _uploadFilesContinue(outputId) {\n",
       "  const outputElement = document.getElementById(outputId);\n",
       "  const steps = outputElement.steps;\n",
       "\n",
       "  const next = steps.next(outputElement.lastPromiseValue);\n",
       "  return Promise.resolve(next.value.promise).then((value) => {\n",
       "    // Cache the last promise value to make it available to the next\n",
       "    // step of the generator.\n",
       "    outputElement.lastPromiseValue = value;\n",
       "    return next.value.response;\n",
       "  });\n",
       "}\n",
       "\n",
       "/**\n",
       " * Generator function which is called between each async step of the upload\n",
       " * process.\n",
       " * @param {string} inputId Element ID of the input file picker element.\n",
       " * @param {string} outputId Element ID of the output display.\n",
       " * @return {!Iterable<!Object>} Iterable of next steps.\n",
       " */\n",
       "function* uploadFilesStep(inputId, outputId) {\n",
       "  const inputElement = document.getElementById(inputId);\n",
       "  inputElement.disabled = false;\n",
       "\n",
       "  const outputElement = document.getElementById(outputId);\n",
       "  outputElement.innerHTML = '';\n",
       "\n",
       "  const pickedPromise = new Promise((resolve) => {\n",
       "    inputElement.addEventListener('change', (e) => {\n",
       "      resolve(e.target.files);\n",
       "    });\n",
       "  });\n",
       "\n",
       "  const cancel = document.createElement('button');\n",
       "  inputElement.parentElement.appendChild(cancel);\n",
       "  cancel.textContent = 'Cancel upload';\n",
       "  const cancelPromise = new Promise((resolve) => {\n",
       "    cancel.onclick = () => {\n",
       "      resolve(null);\n",
       "    };\n",
       "  });\n",
       "\n",
       "  // Wait for the user to pick the files.\n",
       "  const files = yield {\n",
       "    promise: Promise.race([pickedPromise, cancelPromise]),\n",
       "    response: {\n",
       "      action: 'starting',\n",
       "    }\n",
       "  };\n",
       "\n",
       "  cancel.remove();\n",
       "\n",
       "  // Disable the input element since further picks are not allowed.\n",
       "  inputElement.disabled = true;\n",
       "\n",
       "  if (!files) {\n",
       "    return {\n",
       "      response: {\n",
       "        action: 'complete',\n",
       "      }\n",
       "    };\n",
       "  }\n",
       "\n",
       "  for (const file of files) {\n",
       "    const li = document.createElement('li');\n",
       "    li.append(span(file.name, {fontWeight: 'bold'}));\n",
       "    li.append(span(\n",
       "        `(${file.type || 'n/a'}) - ${file.size} bytes, ` +\n",
       "        `last modified: ${\n",
       "            file.lastModifiedDate ? file.lastModifiedDate.toLocaleDateString() :\n",
       "                                    'n/a'} - `));\n",
       "    const percent = span('0% done');\n",
       "    li.appendChild(percent);\n",
       "\n",
       "    outputElement.appendChild(li);\n",
       "\n",
       "    const fileDataPromise = new Promise((resolve) => {\n",
       "      const reader = new FileReader();\n",
       "      reader.onload = (e) => {\n",
       "        resolve(e.target.result);\n",
       "      };\n",
       "      reader.readAsArrayBuffer(file);\n",
       "    });\n",
       "    // Wait for the data to be ready.\n",
       "    let fileData = yield {\n",
       "      promise: fileDataPromise,\n",
       "      response: {\n",
       "        action: 'continue',\n",
       "      }\n",
       "    };\n",
       "\n",
       "    // Use a chunked sending to avoid message size limits. See b/62115660.\n",
       "    let position = 0;\n",
       "    do {\n",
       "      const length = Math.min(fileData.byteLength - position, MAX_PAYLOAD_SIZE);\n",
       "      const chunk = new Uint8Array(fileData, position, length);\n",
       "      position += length;\n",
       "\n",
       "      const base64 = btoa(String.fromCharCode.apply(null, chunk));\n",
       "      yield {\n",
       "        response: {\n",
       "          action: 'append',\n",
       "          file: file.name,\n",
       "          data: base64,\n",
       "        },\n",
       "      };\n",
       "\n",
       "      let percentDone = fileData.byteLength === 0 ?\n",
       "          100 :\n",
       "          Math.round((position / fileData.byteLength) * 100);\n",
       "      percent.textContent = `${percentDone}% done`;\n",
       "\n",
       "    } while (position < fileData.byteLength);\n",
       "  }\n",
       "\n",
       "  // All done.\n",
       "  yield {\n",
       "    response: {\n",
       "      action: 'complete',\n",
       "    }\n",
       "  };\n",
       "}\n",
       "\n",
       "scope.google = scope.google || {};\n",
       "scope.google.colab = scope.google.colab || {};\n",
       "scope.google.colab._files = {\n",
       "  _uploadFiles,\n",
       "  _uploadFilesContinue,\n",
       "};\n",
       "})(self);\n",
       "</script> "
      ],
      "text/plain": [
       "<IPython.core.display.HTML object>"
      ]
     },
     "metadata": {},
     "output_type": "display_data"
    },
    {
     "name": "stdout",
     "output_type": "stream",
     "text": [
      "Saving youtube_comments_with_replies7.csv to youtube_comments_with_replies7 (1).csv\n"
     ]
    }
   ],
   "source": [
    "uploaded = files.upload()"
   ]
  },
  {
   "cell_type": "code",
   "execution_count": null,
   "metadata": {
    "id": "gxQ6R_yJUZ_H"
   },
   "outputs": [],
   "source": [
    "df_comments = pd.read_csv(\"youtube_comments_with_replies7.csv\")"
   ]
  },
  {
   "cell_type": "code",
   "execution_count": null,
   "metadata": {
    "id": "_x7OHtPbMSS7"
   },
   "outputs": [],
   "source": [
    "#add saving for comments diabled"
   ]
  },
  {
   "cell_type": "code",
   "execution_count": null,
   "metadata": {
    "colab": {
     "base_uri": "https://localhost:8080/"
    },
    "executionInfo": {
     "elapsed": 14796615,
     "status": "ok",
     "timestamp": 1743427322121,
     "user": {
      "displayName": "Yana Kiprova",
      "userId": "05029747295494730402"
     },
     "user_tz": -120
    },
    "id": "xHsqIJ92NfeH",
    "outputId": "b0eac4b1-4b88-4855-cead-648ed3e2b37b"
   },
   "outputs": [],
   "source": [
    "#Function that collects the comments and replies that have not been collected yet\n",
    "\n",
    "# Load video IDs from CSV (Ensure there's a \"video_id\" column)\n",
    "df_videos = df_combined\n",
    "processed_videos = set()\n",
    "\n",
    "# Try to load checkpoint file (if exists)\n",
    "try:\n",
    "    with open(\"checkpoint.json\", \"r\") as f:\n",
    "        checkpoint = json.load(f)\n",
    "        last_processed_video = checkpoint.get(\"video_id\", None)\n",
    "        last_page_token = checkpoint.get(\"nextPageToken\", None)\n",
    "except FileNotFoundError:\n",
    "    last_processed_video = None\n",
    "    last_page_token = None\n",
    "\n",
    "# Load already processed comments to avoid duplicates\n",
    "try:\n",
    "    existing_df = df_comments\n",
    "    processed_videos.update(existing_df[\"video_id\"].unique())\n",
    "except FileNotFoundError:\n",
    "    existing_df = pd.DataFrame()\n",
    "\n",
    "def get_comments_and_replies(video_id, last_page_token=None):\n",
    "    \"\"\"Fetch all comments and replies for a given video, resuming from last_page_token if needed.\"\"\"\n",
    "    comments = []\n",
    "    next_page_token = last_page_token\n",
    "\n",
    "    while True:\n",
    "      try:\n",
    "        request = youtube.commentThreads().list(\n",
    "            part=\"snippet\",\n",
    "            videoId=video_id,\n",
    "            maxResults=100,\n",
    "            pageToken=next_page_token\n",
    "        )\n",
    "        response = request.execute()\n",
    "\n",
    "        for item in response.get(\"items\", []):\n",
    "            top_comment = item[\"snippet\"][\"topLevelComment\"][\"snippet\"]\n",
    "\n",
    "            # Store top-level comment\n",
    "            comment_id = item[\"id\"]\n",
    "            comments.append({\n",
    "                \"video_id\": video_id,\n",
    "                \"comment_id\": comment_id,\n",
    "                \"author\": top_comment[\"authorDisplayName\"],\n",
    "                \"comment\": top_comment[\"textDisplay\"],\n",
    "                \"published_at\": top_comment[\"publishedAt\"],\n",
    "                \"like_count\": top_comment[\"likeCount\"],\n",
    "                \"reply_to\": None  # Top-level comment\n",
    "            })\n",
    "\n",
    "            # Fetch replies if available\n",
    "            if item[\"snippet\"][\"totalReplyCount\"] > 0:\n",
    "                replies_request = youtube.comments().list(\n",
    "                    part=\"snippet\",\n",
    "                    parentId=comment_id,\n",
    "                    maxResults=100\n",
    "                )\n",
    "                replies_response = replies_request.execute()\n",
    "\n",
    "                for reply in replies_response.get(\"items\", []):\n",
    "                    reply_snippet = reply[\"snippet\"]\n",
    "                    comments.append({\n",
    "                        \"video_id\": video_id,\n",
    "                        \"comment_id\": reply[\"id\"],\n",
    "                        \"author\": reply_snippet[\"authorDisplayName\"],\n",
    "                        \"comment\": reply_snippet[\"textDisplay\"],\n",
    "                        \"published_at\": reply_snippet[\"publishedAt\"],\n",
    "                        \"like_count\": reply_snippet[\"likeCount\"],\n",
    "                        \"reply_to\": comment_id  # Reply to this comment\n",
    "                    })\n",
    "\n",
    "        # Save progress\n",
    "        with open(\"checkpoint.json\", \"w\") as f:\n",
    "            json.dump({\"video_id\": video_id, \"nextPageToken\": next_page_token}, f)\n",
    "\n",
    "        # Handle pagination\n",
    "        next_page_token = response.get(\"nextPageToken\")\n",
    "        if not next_page_token:\n",
    "            break\n",
    "\n",
    "        # Prevent hitting API limits\n",
    "        #time.sleep(1)\n",
    "      except HttpError as e:\n",
    "            error_message = str(e)\n",
    "            if \"commentsDisabled\" in error_message:\n",
    "                print(f\" Skipping video {video_id}: Comments are disabled.\")\n",
    "                break\n",
    "            elif e.resp.status in [403, 429]:  # Quota exceeded or too many requests\n",
    "                wait_time = (2 ** retries) * 30  # Exponential backoff\n",
    "                print(f\" Rate limit reached. Retrying in {wait_time} seconds...\")\n",
    "                time.sleep(wait_time)\n",
    "                retries += 1\n",
    "                if retries > 5:\n",
    "                    print(\"Too many retries. Skipping this video.\")\n",
    "                    break\n",
    "            else:\n",
    "                raise e\n",
    "\n",
    "\n",
    "    return comments\n",
    "\n",
    "# Fetch comments for remaining videos\n",
    "all_comments = df_comments.to_dict(orient=\"records\")  # Load previous data\n",
    "\n",
    "for video_id in df_videos[\"video_id\"]:\n",
    "    if video_id in processed_videos:\n",
    "        print(f\"Skipping already processed video: {video_id}\")\n",
    "        continue\n",
    "\n",
    "    print(f\"Fetching comments for video: {video_id}\")\n",
    "\n",
    "    # Resume from last_page_token if this is the last processed video\n",
    "    page_token = last_page_token if video_id == last_processed_video else None\n",
    "\n",
    "    comments = get_comments_and_replies(video_id, page_token)\n",
    "    all_comments.extend(comments)\n",
    "\n",
    "    # Save progress\n",
    "    df_comments = pd.DataFrame(all_comments)\n",
    "\n",
    "    pd.DataFrame(all_comments).to_csv(\"youtube_comments_with_replies.csv\", index=False)\n",
    "    print(f\"Saved progress for video: {video_id}\")\n",
    "\n",
    "# Delete checkpoint when done\n",
    "import os\n",
    "if os.path.exists(\"checkpoint.json\"):\n",
    "    os.remove(\"checkpoint.json\")\n",
    "\n",
    "print(\"All comments and replies saved successfully.\")"
   ]
  }
 ],
 "metadata": {
  "colab": {
   "provenance": [],
   "toc_visible": true
  },
  "kernelspec": {
   "display_name": "Python 3 (ipykernel)",
   "language": "python",
   "name": "python3"
  },
  "language_info": {
   "codemirror_mode": {
    "name": "ipython",
    "version": 3
   },
   "file_extension": ".py",
   "mimetype": "text/x-python",
   "name": "python",
   "nbconvert_exporter": "python",
   "pygments_lexer": "ipython3",
   "version": "3.11.4"
  }
 },
 "nbformat": 4,
 "nbformat_minor": 1
}
