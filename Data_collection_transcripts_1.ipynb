{
 "cells": [
  {
   "cell_type": "markdown",
   "metadata": {
    "id": "tO-3mukMLFVj"
   },
   "source": [
    "# Installing and importing packages"
   ]
  },
  {
   "cell_type": "code",
   "execution_count": null,
   "metadata": {
    "colab": {
     "base_uri": "https://localhost:8080/"
    },
    "executionInfo": {
     "elapsed": 10503,
     "status": "ok",
     "timestamp": 1741875468019,
     "user": {
      "displayName": "Yana Kiprova",
      "userId": "05029747295494730402"
     },
     "user_tz": -60
    },
    "id": "QtUNOAkR7K9e",
    "outputId": "2744156d-3bee-4654-b7a9-b75932c27498"
   },
   "outputs": [],
   "source": [
    "! pip install deepl"
   ]
  },
  {
   "cell_type": "code",
   "execution_count": null,
   "metadata": {
    "colab": {
     "base_uri": "https://localhost:8080/"
    },
    "executionInfo": {
     "elapsed": 9094,
     "status": "ok",
     "timestamp": 1742503390670,
     "user": {
      "displayName": "Yana Kiprova",
      "userId": "05029747295494730402"
     },
     "user_tz": -60
    },
    "id": "Au3ZB8dSXtG-",
    "outputId": "ad88e42b-cf91-4e9b-d7a0-9fe6e40f8c57"
   },
   "outputs": [],
   "source": [
    "!pip install youtube-transcript-api"
   ]
  },
  {
   "cell_type": "code",
   "execution_count": null,
   "metadata": {
    "id": "092ulVr_7Doi"
   },
   "outputs": [],
   "source": [
    "import requests\n",
    "import pandas as pd\n",
    "from datetime import datetime, timedelta\n",
    "import numpy as np\n",
    "from google.colab import files\n",
    "from tqdm.notebook import tqdm\n",
    "import time\n",
    "\n",
    "tqdm.pandas()"
   ]
  },
  {
   "cell_type": "code",
   "execution_count": null,
   "metadata": {
    "id": "BzDWKVrS7Doj"
   },
   "outputs": [],
   "source": [
    "from googleapiclient.discovery import build\n",
    "\n",
    "from youtube_transcript_api import YouTubeTranscriptApi"
   ]
  },
  {
   "cell_type": "code",
   "execution_count": null,
   "metadata": {
    "id": "0-maQ1W97Dok"
   },
   "outputs": [],
   "source": [
    "# API key was removed"
   ]
  },
  {
   "cell_type": "code",
   "execution_count": null,
   "metadata": {
    "id": "MExzYsdV7Doq"
   },
   "outputs": [],
   "source": [
    "youtube = build(\"youtube\", \"v3\", developerKey=api_key)"
   ]
  },
  {
   "cell_type": "markdown",
   "metadata": {
    "id": "E4InoaNe7Dol"
   },
   "source": [
    "# Channel ID finder"
   ]
  },
  {
   "cell_type": "code",
   "execution_count": null,
   "metadata": {
    "colab": {
     "base_uri": "https://localhost:8080/"
    },
    "executionInfo": {
     "elapsed": 995,
     "status": "ok",
     "timestamp": 1741619643576,
     "user": {
      "displayName": "Yana Kiprova",
      "userId": "05029747295494730402"
     },
     "user_tz": -60
    },
    "id": "R9GM3RXC7Dom",
    "outputId": "1f562ef7-0fc0-4573-d623-9fc91552a380"
   },
   "outputs": [],
   "source": [
    "CHANNEL_NAMES = [\"@latinanoticias\", \"@americanoticiaspe\",\"@LaRepublica\"]\n",
    "\n",
    "\n",
    "# Defining function that fetches channel IDs\n",
    "def get_channel_ids(api_key, channel_names):\n",
    "\n",
    "    base_url = \"https://www.googleapis.com/youtube/v3/search\"\n",
    "    results = {}\n",
    "\n",
    "    for name in channel_names:\n",
    "        params = {\n",
    "            \"part\": \"snippet\",\n",
    "            \"q\": name,\n",
    "            \"type\": \"channel\",\n",
    "            \"key\": api_key\n",
    "        }\n",
    "\n",
    "        response = requests.get(base_url, params=params).json()\n",
    "\n",
    "        if \"items\" in response and response[\"items\"]:\n",
    "            channel_id = response[\"items\"][0][\"id\"][\"channelId\"]\n",
    "            results[name] = channel_id\n",
    "        else:\n",
    "            results[name] = \"Not Found\"\n",
    "\n",
    "    return results\n",
    "\n",
    "\n",
    "\n",
    "# Fetch Channel IDs\n",
    "channel_ids = get_channel_ids(api_key, CHANNEL_NAMES)\n",
    "\n",
    "for name, channel_id in channel_ids.items():\n",
    "    print(f\"{name} - Channel ID: {channel_id}\")\n"
   ]
  },
  {
   "cell_type": "markdown",
   "metadata": {
    "id": "3YO3FIrW7Doo"
   },
   "source": [
    "# Collecting videos IDs for Latina Noticias\n",
    "\n",
    "\n",
    "\n"
   ]
  },
  {
   "cell_type": "markdown",
   "metadata": {
    "id": "uv7IsfPXefOd"
   },
   "source": [
    "## Full month periods"
   ]
  },
  {
   "cell_type": "code",
   "execution_count": null,
   "metadata": {
    "colab": {
     "base_uri": "https://localhost:8080/",
     "height": 424
    },
    "executionInfo": {
     "elapsed": 105,
     "status": "ok",
     "timestamp": 1741465652369,
     "user": {
      "displayName": "Yana Kiprova",
      "userId": "05029747295494730402"
     },
     "user_tz": -60
    },
    "id": "fEAODZKTS8kB",
    "outputId": "6e93b4b6-86c3-467a-bec6-db401b19a6bb"
   },
   "outputs": [],
   "source": [
    "#Dataframe with full month periods\n",
    "\n",
    "# Define the start and end dates\n",
    "start_date = datetime(2019, 2, 1)\n",
    "end_date = datetime(2025, 3, 1)\n",
    "\n",
    "data = []\n",
    "\n",
    "# Generate the start and end date-times for each full month period\n",
    "current_date = start_date\n",
    "while current_date < end_date:\n",
    "    start_date_str = current_date.strftime(\"%Y-%m-%dT%H:%M:%S-05:00\")\n",
    "\n",
    "    next_month = current_date.replace(day=28) + timedelta(days=4)\n",
    "    end_date_str = next_month.replace(day=1) - timedelta(seconds=1)\n",
    "    end_date_str = end_date_str.strftime(\"%Y-%m-%dT%H:%M:%S-05:00\")\n",
    "\n",
    "    data.append([start_date_str, end_date_str])\n",
    "\n",
    "    # Move to the first day of the next month\n",
    "    current_date = next_month.replace(day=1)\n",
    "\n",
    "# Create a df\n",
    "date_ranges = pd.DataFrame(data, columns=[\"start\", \"end\"])\n",
    "\n",
    "date_ranges\n"
   ]
  },
  {
   "cell_type": "code",
   "execution_count": null,
   "metadata": {
    "id": "P20t6hqg7Dor"
   },
   "outputs": [],
   "source": [
    "# Initial test\n",
    "channel_id = \"UCpSJ5fGhmAME9Kx2D3ZvN3Q\"\n",
    "\n",
    "# Defined keywords\n",
    "keyword = \"robo|robó|roban|robaron|delincuentes|criminales|asalto|asaltó|asaltan|asaltaron|matan|mató|mataron|ladrón|asesinato|asesinado|asesinan|asesinaron|extorsionadores|extorsionador|extorsionan|extorsionaron|extorsionó|secuestro|secuestradores|secuestrada|secuestrado|secuestró|secuestraron|balacera|balean|balearon|balazos|sicariato|mafias|mafia|sicarios\""
   ]
  },
  {
   "cell_type": "code",
   "execution_count": null,
   "metadata": {
    "id": "8RwC7U_86-1z"
   },
   "outputs": [],
   "source": [
    "# Function used for the first sample\n",
    "# Function for getting video info for one channel id, one keyword, one time frame\n",
    "# Returns dictionary of all videos found, and prints number\n",
    "\n",
    "def get_youtube_videos(api_key, channel_id, keyword, max_results=50, order=\"date\",\n",
    "                       published_after=None, published_before=None):\n",
    "\n",
    "    videos = []\n",
    "    # Prepare API request parameters\n",
    "    params = {\n",
    "        \"part\": \"snippet\",\n",
    "        \"channelId\": channel_id,\n",
    "        \"q\": keyword,\n",
    "        \"type\": \"video\",\n",
    "        \"maxResults\": max_results,\n",
    "        \"order\": order,\n",
    "    }\n",
    "\n",
    "    if published_after:\n",
    "        params[\"publishedAfter\"] = published_after\n",
    "\n",
    "    if published_before:\n",
    "        params[\"publishedBefore\"] = published_before\n",
    "\n",
    "    # Execute API request\n",
    "    request = youtube.search().list(**params)\n",
    "    response = request.execute()\n",
    "\n",
    "    # Extract video details\n",
    "    for item in response.get(\"items\", []):\n",
    "        video_id = item[\"id\"][\"videoId\"]\n",
    "        video_title = item[\"snippet\"][\"title\"]\n",
    "        video_url = f\"https://www.youtube.com/watch?v={video_id}\"\n",
    "        video_date = item[\"snippet\"][\"publishedAt\"]\n",
    "\n",
    "        videos.append({\n",
    "            \"video_id\": video_id,\n",
    "            \"title\": video_title,\n",
    "            \"url\": video_url,\n",
    "            \"channel\": channel_id,\n",
    "            \"keyword\": keyword,\n",
    "            \"video_date\": video_date})\n",
    "\n",
    "    print(\"Number of videos found between \" + published_after + \" and \" + published_before + \": \" + str(len(videos)))\n",
    "\n",
    "    return videos"
   ]
  },
  {
   "cell_type": "code",
   "execution_count": null,
   "metadata": {
    "id": "LLjTn6cn7Dos",
    "outputId": "36659d61-4bf2-4422-e60a-83462d2897b8"
   },
   "outputs": [],
   "source": [
    "# First saample creation\n",
    "# Create a for loop that goes through each time frame\n",
    "    # gets all youtube videos and store them in a dataframe\n",
    "\n",
    "channel_id = \"UCpSJ5fGhmAME9Kx2D3ZvN3Q\" # Latina Noticias\n",
    "max_results = 50\n",
    "order = \"date\"\n",
    "keyword = \"robo|robó|roban|robaron|delincuentes|criminales|asalto|asaltó|asaltan|asaltaron|matan|mató|mataron|ladrón|asesinato|asesinado|asesinan|asesinaron|extorsionadores|extorsionador|extorsionan|extorsionaron|extorsionó|secuestro|secuestradores|secuestrada|secuestrado|secuestró|secuestraron|balacera|balean|balearon|balazos|sicariato|mafias|mafia|sicarios\"\n",
    "\n",
    "# Create empty dataframe for first time running it\n",
    "df = pd.DataFrame(columns=['video_id','title','url','channel','keyword','video_date'])\n",
    "\n",
    "for index, row in date_ranges.iterrows():\n",
    "    published_after = row['start']\n",
    "    published_before = row['end']\n",
    "\n",
    "    df_new = pd.DataFrame.from_records(get_youtube_videos(api_key, channel_id, keyword, max_results,\n",
    "                                                          order, published_after, published_before))\n",
    "    df = pd.concat([df, df_new], ignore_index=True)"
   ]
  },
  {
   "cell_type": "code",
   "execution_count": null,
   "metadata": {
    "id": "Z0pvTGGZ7Dot",
    "outputId": "8995f8a7-8b14-4a09-eb23-89190c217b03"
   },
   "outputs": [],
   "source": [
    "df.shape"
   ]
  },
  {
   "cell_type": "code",
   "execution_count": null,
   "metadata": {
    "id": "9Ng_t5NY7Dot"
   },
   "outputs": [],
   "source": [
    "# Save df as csv\n",
    "df.to_csv(\"video_titles.csv\")"
   ]
  },
  {
   "cell_type": "code",
   "execution_count": null,
   "metadata": {
    "id": "Bdnz0pR87Dor"
   },
   "outputs": [],
   "source": [
    "# new function\n",
    "#Function for getting video info for one channel id, one keyword, one time frame\n",
    "# Returns dictionary of all videos found and number of videos, and prints number\n",
    "#\n",
    "\n",
    "def get_youtube_videos(api_key, channel_id, keyword, max_results=50, order=\"date\",\n",
    "                       published_after=None, published_before=None):\n",
    "\n",
    "    videos = []\n",
    "\n",
    "    # Prepare API request parameters\n",
    "    params = {\n",
    "        \"part\": \"snippet\",\n",
    "        \"channelId\": channel_id,\n",
    "        \"q\": keyword,\n",
    "        \"type\": \"video\",\n",
    "        \"maxResults\": max_results,\n",
    "        \"order\": order,\n",
    "    }\n",
    "\n",
    "    if published_after:\n",
    "        params[\"publishedAfter\"] = published_after\n",
    "\n",
    "    if published_before:\n",
    "        params[\"publishedBefore\"] = published_before\n",
    "\n",
    "    # Execute API request\n",
    "    request = youtube.search().list(**params)\n",
    "    response = request.execute()\n",
    "\n",
    "    # Extract video details\n",
    "    for item in response.get(\"items\", []):\n",
    "        video_id = item[\"id\"][\"videoId\"]\n",
    "        video_title = item[\"snippet\"][\"title\"]\n",
    "        video_url = f\"https://www.youtube.com/watch?v={video_id}\"\n",
    "        video_date = item[\"snippet\"][\"publishedAt\"]\n",
    "\n",
    "        videos.append({\n",
    "            \"video_id\": video_id,\n",
    "            \"title\": video_title,\n",
    "            \"url\": video_url,\n",
    "            \"channel\": channel_id,\n",
    "            \"keyword\": keyword,\n",
    "            \"video_date\": video_date})\n",
    "\n",
    "\n",
    "    print(\"Number of videos found between \" + published_after + \" and \" + published_before + \": \" + str(len(videos)))\n",
    "\n",
    "\n",
    "\n",
    "    return videos, len(videos)"
   ]
  },
  {
   "cell_type": "code",
   "execution_count": null,
   "metadata": {
    "colab": {
     "base_uri": "https://localhost:8080/"
    },
    "executionInfo": {
     "elapsed": 12324,
     "status": "ok",
     "timestamp": 1741467854545,
     "user": {
      "displayName": "Yana Kiprova",
      "userId": "05029747295494730402"
     },
     "user_tz": -60
    },
    "id": "zrDSvFfn5N8O",
    "outputId": "206deea9-0441-4034-9146-4fa0bb9fea78"
   },
   "outputs": [],
   "source": [
    "# applying new function\n",
    "# Create a for loop that goes through each time frame\n",
    "    # gets all youtube videos and store them in a dataframe\n",
    "\n",
    "channel_id = \"UCpSJ5fGhmAME9Kx2D3ZvN3Q\" # Latina Noticias\n",
    "max_results = 50\n",
    "order = \"date\"\n",
    "keyword = \"robo|robó|roban|robaron|delincuentes|criminales|asalto|asaltó|asaltan|asaltaron|matan|mató|mataron|ladrón|asesinato|asesinado|asesinan|asesinaron|extorsionadores|extorsionador|extorsionan|extorsionaron|extorsionó|secuestro|secuestradores|secuestrada|secuestrado|secuestró|secuestraron|balacera|balean|balearon|balazos|sicariato|mafias|mafia|sicarios\"\n",
    "\n",
    "# Create empty dataframe for first time running it\n",
    "df = pd.DataFrame(columns=['video_id','title','url','channel','keyword','video_date'])\n",
    "videos_list = []\n",
    "videos_count_list = []\n",
    "\n",
    "for index, row in date_ranges.iterrows():\n",
    "    published_after = row['start']\n",
    "    published_before = row['end']\n",
    "\n",
    "\n",
    "    all = get_youtube_videos(api_key, channel_id, keyword, max_results,\n",
    "                                                          order, published_after, published_before)\n",
    "    videos = all[0]\n",
    "    video_count = all[1]\n",
    "    videos_list.append(videos)\n",
    "    videos_count_list.append(video_count)\n"
   ]
  },
  {
   "cell_type": "code",
   "execution_count": null,
   "metadata": {
    "id": "QESYOJYbZF4I"
   },
   "outputs": [],
   "source": [
    "flattened_list = np.concatenate(videos_list).tolist()\n",
    "df1 = pd.DataFrame(flattened_list)\n",
    "df1.drop(columns=['keywords'], inplace=True)"
   ]
  },
  {
   "cell_type": "code",
   "execution_count": null,
   "metadata": {
    "id": "K2nYELKsauA-"
   },
   "outputs": [],
   "source": [
    "df1.to_csv(\"videos.csv\")\n",
    "files.download('videos.csv')"
   ]
  },
  {
   "cell_type": "code",
   "execution_count": null,
   "metadata": {
    "id": "aWLStJC4bULY"
   },
   "outputs": [],
   "source": [
    "date_ranges['videos_count'] = videos_count_list"
   ]
  },
  {
   "cell_type": "code",
   "execution_count": null,
   "metadata": {
    "id": "5vIwmOnmbdmA"
   },
   "outputs": [],
   "source": [
    "date_ranges.to_csv(\"date_ranges.csv\")\n",
    "files.download('date_ranges.csv')"
   ]
  },
  {
   "cell_type": "code",
   "execution_count": null,
   "metadata": {
    "colab": {
     "base_uri": "https://localhost:8080/",
     "height": 88
    },
    "executionInfo": {
     "elapsed": 78679,
     "status": "ok",
     "timestamp": 1741539140725,
     "user": {
      "displayName": "Yana Kiprova",
      "userId": "05029747295494730402"
     },
     "user_tz": -60
    },
    "id": "xBfQwhYKcTDE",
    "outputId": "0bd4cdcb-0dda-4550-e93a-a11964b82b6a"
   },
   "outputs": [],
   "source": [
    "uploaded = files.upload()"
   ]
  },
  {
   "cell_type": "code",
   "execution_count": null,
   "metadata": {
    "id": "-kehogO4bq6Z"
   },
   "outputs": [],
   "source": [
    "df2 = pd.read_csv(\"video_titles_03.08.csv\")\n",
    "df1 = pd.read_csv(\"video_titles.csv\")\n",
    "date_ranges_df = pd.read_csv(\"date_ranges.csv\")"
   ]
  },
  {
   "cell_type": "code",
   "execution_count": null,
   "metadata": {
    "colab": {
     "base_uri": "https://localhost:8080/",
     "height": 667
    },
    "executionInfo": {
     "elapsed": 538,
     "status": "ok",
     "timestamp": 1741539168931,
     "user": {
      "displayName": "Yana Kiprova",
      "userId": "05029747295494730402"
     },
     "user_tz": -60
    },
    "id": "FI4YW96LdH50",
    "outputId": "b0fa4315-d009-4096-b8cb-55d00bba90ca"
   },
   "outputs": [],
   "source": [
    "# checking which videos are overlaping in the two dfs\n",
    "\n",
    "df1_only = df1[~df1['video_id'].isin(df2['video_id'])]\n",
    "df1_only"
   ]
  },
  {
   "cell_type": "code",
   "execution_count": null,
   "metadata": {
    "colab": {
     "base_uri": "https://localhost:8080/",
     "height": 424
    },
    "executionInfo": {
     "elapsed": 79,
     "status": "ok",
     "timestamp": 1741516728853,
     "user": {
      "displayName": "Yana Kiprova",
      "userId": "05029747295494730402"
     },
     "user_tz": -60
    },
    "id": "OSgztYejeWIr",
    "outputId": "c41679ba-e6ee-410a-e025-e48fdb1f64fb"
   },
   "outputs": [],
   "source": [
    "df2_only = df2[~df2['video_id'].isin(df1['video_id'])]\n",
    "df2_only"
   ]
  },
  {
   "cell_type": "code",
   "execution_count": null,
   "metadata": {
    "colab": {
     "base_uri": "https://localhost:8080/",
     "height": 424
    },
    "executionInfo": {
     "elapsed": 98,
     "status": "ok",
     "timestamp": 1741539554632,
     "user": {
      "displayName": "Yana Kiprova",
      "userId": "05029747295494730402"
     },
     "user_tz": -60
    },
    "id": "KZ8PjOuyOk03",
    "outputId": "46e24eee-9152-4c1e-fa52-7fe834abd1a7"
   },
   "outputs": [],
   "source": [
    "date_ranges_df.drop(columns=['Unnamed: 0'], inplace=True)\n",
    "date_ranges_df"
   ]
  },
  {
   "cell_type": "markdown",
   "metadata": {
    "id": "qryYCJJ9ZgXY"
   },
   "source": [
    "## Half-month periods"
   ]
  },
  {
   "cell_type": "code",
   "execution_count": null,
   "metadata": {
    "colab": {
     "base_uri": "https://localhost:8080/"
    },
    "executionInfo": {
     "elapsed": 30,
     "status": "ok",
     "timestamp": 1741540013162,
     "user": {
      "displayName": "Yana Kiprova",
      "userId": "05029747295494730402"
     },
     "user_tz": -60
    },
    "id": "iLgoCXyU1e3u",
    "outputId": "0e8d9493-3d9f-4e2b-fda7-4c4114a59e61"
   },
   "outputs": [],
   "source": [
    "#creating a new df where the time ranges of those that have vidoe count == 50 are split in half\n",
    "\n",
    "# Convert start and end columns to datetime\n",
    "date_ranges_df[\"start\"] = pd.to_datetime(date_ranges_df[\"start\"])\n",
    "date_ranges_df[\"end\"] = pd.to_datetime(date_ranges_df[\"end\"])\n",
    "\n",
    "df_filtered = date_ranges_df[date_ranges_df[\"videos_count\"] == 50].copy()\n",
    "\n",
    "# Create new DataFrame for half-month periods\n",
    "split_periods = []\n",
    "\n",
    "for _, row in df_filtered.iterrows():\n",
    "    start_date = row[\"start\"]\n",
    "    mid_date = start_date + timedelta(days=15)  # Mid-month\n",
    "    end_date = row[\"end\"]\n",
    "\n",
    "    # Ensure mid_date does not exceed end_date\n",
    "    if mid_date > end_date:\n",
    "        mid_date = end_date\n",
    "\n",
    "    # First half\n",
    "    split_periods.append({\"start\": start_date, \"end\": mid_date - timedelta(seconds=1)})\n",
    "\n",
    "    # Second half\n",
    "    split_periods.append({\"start\": mid_date, \"end\": end_date})\n",
    "\n",
    "# Create new DataFrame with split periods\n",
    "df_half_months = pd.DataFrame(split_periods)\n",
    "\n",
    "# Convert back to the required format\n",
    "df_half_months[\"start\"] = df_half_months[\"start\"].dt.strftime(\"%Y-%m-%dT%H:%M:%S-05:00\")\n",
    "df_half_months[\"end\"] = df_half_months[\"end\"].dt.strftime(\"%Y-%m-%dT%H:%M:%S-05:00\")\n",
    "\n",
    "# Display result\n",
    "print(df_half_months)"
   ]
  },
  {
   "cell_type": "code",
   "execution_count": null,
   "metadata": {
    "colab": {
     "base_uri": "https://localhost:8080/"
    },
    "executionInfo": {
     "elapsed": 18788,
     "status": "ok",
     "timestamp": 1741540732710,
     "user": {
      "displayName": "Yana Kiprova",
      "userId": "05029747295494730402"
     },
     "user_tz": -60
    },
    "id": "M6HJEtku4FIq",
    "outputId": "53936e46-6013-470b-cbde-3fb77f1a6f7b"
   },
   "outputs": [],
   "source": [
    "# Getting the youtube videos for the split periods\n",
    "channel_id = \"UCpSJ5fGhmAME9Kx2D3ZvN3Q\" # Latina Noticias\n",
    "max_results = 50\n",
    "order = \"date\"\n",
    "keyword = \"robo|robó|roban|robaron|delincuentes|criminales|asalto|asaltó|asaltan|asaltaron|matan|mató|mataron|ladrón|asesinato|asesinado|asesinan|asesinaron|extorsionadores|extorsionador|extorsionan|extorsionaron|extorsionó|secuestro|secuestradores|secuestrada|secuestrado|secuestró|secuestraron|balacera|balean|balearon|balazos|sicariato|mafias|mafia|sicarios\"\n",
    "\n",
    "# Create empty dataframe for first time running it\n",
    "df = pd.DataFrame(columns=['video_id','title','url','channel','keyword','video_date'])\n",
    "videos_list = []\n",
    "videos_count_list = []\n",
    "\n",
    "for index, row in df_half_months.iterrows():\n",
    "    published_after = row['start']\n",
    "    published_before = row['end']\n",
    "\n",
    "\n",
    "    all = get_youtube_videos(api_key, channel_id, keyword, max_results,\n",
    "                                                          order, published_after, published_before)\n",
    "    videos = all[0]\n",
    "    video_count = all[1]\n",
    "    videos_list.append(videos)\n",
    "    videos_count_list.append(video_count)"
   ]
  },
  {
   "cell_type": "code",
   "execution_count": null,
   "metadata": {
    "id": "qsPpYmhN-l-D"
   },
   "outputs": [],
   "source": [
    "#creating a df with the outputs\n",
    "\n",
    "flattened_list = np.concatenate(videos_list).tolist()\n",
    "df3 = pd.DataFrame(flattened_list)\n",
    "df3.drop(columns=['keyword'], inplace=True)"
   ]
  },
  {
   "cell_type": "code",
   "execution_count": null,
   "metadata": {
    "id": "0LgGodue-4Oc"
   },
   "outputs": [],
   "source": [
    "#adding the video counts to the date ranges table\n",
    "\n",
    "df_half_months['videos_count'] = videos_count_list"
   ]
  },
  {
   "cell_type": "code",
   "execution_count": null,
   "metadata": {
    "colab": {
     "base_uri": "https://localhost:8080/",
     "height": 17
    },
    "executionInfo": {
     "elapsed": 18,
     "status": "ok",
     "timestamp": 1741543612877,
     "user": {
      "displayName": "Yana Kiprova",
      "userId": "05029747295494730402"
     },
     "user_tz": -60
    },
    "id": "-UM7R4BmFeOl",
    "outputId": "82cd04a0-8047-40d8-81a1-4ca538d389ce"
   },
   "outputs": [],
   "source": [
    "df3.to_csv(\"video_titles_03.09.csv\")\n",
    "files.download('video_titles_03.09.csv')"
   ]
  },
  {
   "cell_type": "code",
   "execution_count": null,
   "metadata": {
    "colab": {
     "base_uri": "https://localhost:8080/",
     "height": 17
    },
    "executionInfo": {
     "elapsed": 45,
     "status": "ok",
     "timestamp": 1741543664303,
     "user": {
      "displayName": "Yana Kiprova",
      "userId": "05029747295494730402"
     },
     "user_tz": -60
    },
    "id": "w19tk4YMFrsD",
    "outputId": "ac05a4f4-99e3-47fc-9529-840675389311"
   },
   "outputs": [],
   "source": [
    "df_half_months.to_csv(\"date_ranges_2.csv\")\n",
    "files.download('date_ranges_2.csv')"
   ]
  },
  {
   "cell_type": "code",
   "execution_count": null,
   "metadata": {
    "colab": {
     "base_uri": "https://localhost:8080/",
     "height": 424
    },
    "executionInfo": {
     "elapsed": 108,
     "status": "ok",
     "timestamp": 1741543904874,
     "user": {
      "displayName": "Yana Kiprova",
      "userId": "05029747295494730402"
     },
     "user_tz": -60
    },
    "id": "OcKMLKlUCP9u",
    "outputId": "ba74c619-243e-4e49-867c-aae3f261a2a6"
   },
   "outputs": [],
   "source": [
    "df_half_months"
   ]
  },
  {
   "cell_type": "code",
   "execution_count": null,
   "metadata": {
    "colab": {
     "base_uri": "https://localhost:8080/"
    },
    "executionInfo": {
     "elapsed": 36,
     "status": "ok",
     "timestamp": 1741543878511,
     "user": {
      "displayName": "Yana Kiprova",
      "userId": "05029747295494730402"
     },
     "user_tz": -60
    },
    "id": "_6T2dSHj_f10",
    "outputId": "9fb125a6-5b2b-4ad9-9d8e-7c1b717ecebe"
   },
   "outputs": [],
   "source": [
    "count50 = df_half_months[df_half_months[\"videos_count\"] == 50]\n",
    "count50.shape"
   ]
  },
  {
   "cell_type": "markdown",
   "metadata": {
    "id": "8UK1joU5Zp3h"
   },
   "source": [
    "## Week periods"
   ]
  },
  {
   "cell_type": "code",
   "execution_count": null,
   "metadata": {
    "colab": {
     "base_uri": "https://localhost:8080/"
    },
    "executionInfo": {
     "elapsed": 44,
     "status": "ok",
     "timestamp": 1741544038441,
     "user": {
      "displayName": "Yana Kiprova",
      "userId": "05029747295494730402"
     },
     "user_tz": -60
    },
    "id": "AgzXtgZkF9nf",
    "outputId": "3e6ee901-ed26-44ee-eb0f-90bd24d135ac"
   },
   "outputs": [],
   "source": [
    "#splitting to weekly periods\n",
    "split_periods = []\n",
    "\n",
    "df_filtered = df_half_months[df_half_months[\"videos_count\"] == 50].copy()\n",
    "\n",
    "# Create new DataFrame for half-month periods\n",
    "split_periods = []\n",
    "\n",
    "for _, row in df_filtered.iterrows():\n",
    "    start_date = row[\"start\"]\n",
    "    mid_date = start_date + timedelta(days=7)\n",
    "    end_date = row[\"end\"]\n",
    "\n",
    "    # Ensure mid_date does not exceed end_date\n",
    "    if mid_date > end_date:\n",
    "        mid_date = end_date\n",
    "\n",
    "    # First half\n",
    "    split_periods.append({\"start\": start_date, \"end\": mid_date - timedelta(seconds=1)})\n",
    "\n",
    "    # Second half\n",
    "    split_periods.append({\"start\": mid_date, \"end\": end_date})\n",
    "\n",
    "# Create new df\n",
    "df_weeks = pd.DataFrame(split_periods)\n",
    "\n",
    "# required format\n",
    "df_weeks[\"start\"] = df_weeks[\"start\"].dt.strftime(\"%Y-%m-%dT%H:%M:%S-05:00\")\n",
    "df_weeks[\"end\"] = df_weeks[\"end\"].dt.strftime(\"%Y-%m-%dT%H:%M:%S-05:00\")\n",
    "\n",
    "print(df_weeks)"
   ]
  },
  {
   "cell_type": "code",
   "execution_count": null,
   "metadata": {
    "colab": {
     "base_uri": "https://localhost:8080/"
    },
    "executionInfo": {
     "elapsed": 25377,
     "status": "ok",
     "timestamp": 1741544328499,
     "user": {
      "displayName": "Yana Kiprova",
      "userId": "05029747295494730402"
     },
     "user_tz": -60
    },
    "id": "qoAHWm5sHwyf",
    "outputId": "e2024849-7141-4c82-ce3b-51671d965065"
   },
   "outputs": [],
   "source": [
    "# Getting the youtube videos for the weekly periods\n",
    "channel_id = \"UCpSJ5fGhmAME9Kx2D3ZvN3Q\" # Latina Noticias\n",
    "max_results = 50\n",
    "order = \"date\"\n",
    "keyword = \"robo|robó|roban|robaron|delincuentes|criminales|asalto|asaltó|asaltan|asaltaron|matan|mató|mataron|ladrón|asesinato|asesinado|asesinan|asesinaron|extorsionadores|extorsionador|extorsionan|extorsionaron|extorsionó|secuestro|secuestradores|secuestrada|secuestrado|secuestró|secuestraron|balacera|balean|balearon|balazos|sicariato|mafias|mafia|sicarios\"\n",
    "\n",
    "# Create empty dataframe for first time running it\n",
    "df = pd.DataFrame(columns=['video_id','title','url','channel','keyword','video_date'])\n",
    "videos_list = []\n",
    "videos_count_list = []\n",
    "\n",
    "for index, row in df_weeks.iterrows():\n",
    "    published_after = row['start']\n",
    "    published_before = row['end']\n",
    "\n",
    "\n",
    "    all = get_youtube_videos(api_key, channel_id, keyword, max_results,\n",
    "                                                          order, published_after, published_before)\n",
    "    videos = all[0]\n",
    "    video_count = all[1]\n",
    "    videos_list.append(videos)\n",
    "    videos_count_list.append(video_count)"
   ]
  },
  {
   "cell_type": "code",
   "execution_count": null,
   "metadata": {
    "id": "yu6QZ262IiB0"
   },
   "outputs": [],
   "source": [
    "# creating a df with the outputs\n",
    "flattened_list = np.concatenate(videos_list).tolist()\n",
    "df4 = pd.DataFrame(flattened_list)\n",
    "df4.drop(columns=['keyword'], inplace=True)"
   ]
  },
  {
   "cell_type": "code",
   "execution_count": null,
   "metadata": {
    "id": "NafzUxKAIsWS"
   },
   "outputs": [],
   "source": [
    "# adding the video counts to the date ranges table\n",
    "df_weeks['videos_count'] = videos_count_list"
   ]
  },
  {
   "cell_type": "code",
   "execution_count": null,
   "metadata": {
    "colab": {
     "base_uri": "https://localhost:8080/",
     "height": 17
    },
    "executionInfo": {
     "elapsed": 103,
     "status": "ok",
     "timestamp": 1741545728970,
     "user": {
      "displayName": "Yana Kiprova",
      "userId": "05029747295494730402"
     },
     "user_tz": -60
    },
    "id": "7t6WvqRcI3P4",
    "outputId": "3f2984ef-bc4a-4cf0-ddbe-28769a5ff956"
   },
   "outputs": [],
   "source": [
    "df_weeks.to_csv(\"date_ranges_3.csv\")\n",
    "files.download('date_ranges_3.csv')\n",
    "df4.to_csv(\"video_titles_03.09.2.csv\")\n",
    "files.download('video_titles_03.09.2.csv')"
   ]
  },
  {
   "cell_type": "markdown",
   "metadata": {
    "id": "L12W0vuhLumc"
   },
   "source": [
    "## Half-week periods"
   ]
  },
  {
   "cell_type": "code",
   "execution_count": null,
   "metadata": {
    "colab": {
     "base_uri": "https://localhost:8080/"
    },
    "executionInfo": {
     "elapsed": 59,
     "status": "ok",
     "timestamp": 1741544971205,
     "user": {
      "displayName": "Yana Kiprova",
      "userId": "05029747295494730402"
     },
     "user_tz": -60
    },
    "id": "busMRzZMKP6a",
    "outputId": "21f5fee6-3c82-4923-98ee-d8b17ff37a20"
   },
   "outputs": [],
   "source": [
    "#splitting to half-weekly periods\n",
    "split_periods = []\n",
    "\n",
    "df_filtered = df_weeks[df_weeks[\"videos_count\"] == 50].copy()\n",
    "\n",
    "# Convert 'start' and 'end' to datetime\n",
    "df_filtered[\"start\"] = pd.to_datetime(df_filtered[\"start\"])\n",
    "df_filtered[\"end\"] = pd.to_datetime(df_filtered[\"end\"])\n",
    "\n",
    "# Create new DataFrame for half-month periods\n",
    "split_periods = []\n",
    "\n",
    "for _, row in df_filtered.iterrows():\n",
    "    start_date = row[\"start\"]\n",
    "    mid_date = start_date + timedelta(days=4)  # Mid-month\n",
    "    end_date = row[\"end\"]\n",
    "\n",
    "    # Ensure mid_date does not exceed end_date\n",
    "    if mid_date > end_date:\n",
    "        mid_date = end_date\n",
    "\n",
    "    # First half\n",
    "    split_periods.append({\"start\": start_date, \"end\": mid_date - timedelta(seconds=1)})\n",
    "\n",
    "    # Second half\n",
    "    split_periods.append({\"start\": mid_date, \"end\": end_date})\n",
    "\n",
    "# Create new df\n",
    "df_half_weeks = pd.DataFrame(split_periods)\n",
    "\n",
    "# Convert back to the required format\n",
    "df_half_weeks[\"start\"] = df_half_weeks[\"start\"].dt.strftime(\"%Y-%m-%dT%H:%M:%S-05:00\")\n",
    "df_half_weeks[\"end\"] = df_half_weeks[\"end\"].dt.strftime(\"%Y-%m-%dT%H:%M:%S-05:00\")\n",
    "\n",
    "print(df_half_weeks)"
   ]
  },
  {
   "cell_type": "code",
   "execution_count": null,
   "metadata": {
    "colab": {
     "base_uri": "https://localhost:8080/"
    },
    "executionInfo": {
     "elapsed": 86,
     "status": "ok",
     "timestamp": 1741545287002,
     "user": {
      "displayName": "Yana Kiprova",
      "userId": "05029747295494730402"
     },
     "user_tz": -60
    },
    "id": "KbNWBCxZLqaL",
    "outputId": "c536042d-7700-4bb0-bd8d-52261e4080e6"
   },
   "outputs": [],
   "source": [
    "count50 = df_weeks[df_weeks[\"videos_count\"] == 50]\n",
    "count50.shape"
   ]
  },
  {
   "cell_type": "code",
   "execution_count": null,
   "metadata": {
    "colab": {
     "base_uri": "https://localhost:8080/"
    },
    "executionInfo": {
     "elapsed": 21392,
     "status": "ok",
     "timestamp": 1741545442650,
     "user": {
      "displayName": "Yana Kiprova",
      "userId": "05029747295494730402"
     },
     "user_tz": -60
    },
    "id": "9Aya1moBMIrC",
    "outputId": "68d7b2df-c675-4a1c-b1b3-1e3c22b6e4e4"
   },
   "outputs": [],
   "source": [
    "# Getting the youtube videos for the half weekly periods\n",
    "channel_id = \"UCpSJ5fGhmAME9Kx2D3ZvN3Q\" # Latina Noticias\n",
    "max_results = 50\n",
    "order = \"date\"\n",
    "keyword = \"robo|robó|roban|robaron|delincuentes|criminales|asalto|asaltó|asaltan|asaltaron|matan|mató|mataron|ladrón|asesinato|asesinado|asesinan|asesinaron|extorsionadores|extorsionador|extorsionan|extorsionaron|extorsionó|secuestro|secuestradores|secuestrada|secuestrado|secuestró|secuestraron|balacera|balean|balearon|balazos|sicariato|mafias|mafia|sicarios\"\n",
    "\n",
    "# Create empty dataframe for first time running it\n",
    "df = pd.DataFrame(columns=['video_id','title','url','channel','keyword','video_date'])\n",
    "videos_list = []\n",
    "videos_count_list = []\n",
    "\n",
    "for index, row in df_half_weeks.iterrows():\n",
    "    published_after = row['start']\n",
    "    published_before = row['end']\n",
    "\n",
    "\n",
    "    all = get_youtube_videos(api_key, channel_id, keyword, max_results,\n",
    "                                                          order, published_after, published_before)\n",
    "    videos = all[0]\n",
    "    video_count = all[1]\n",
    "    videos_list.append(videos)\n",
    "    videos_count_list.append(video_count)"
   ]
  },
  {
   "cell_type": "code",
   "execution_count": null,
   "metadata": {
    "id": "aLCI6Yr1M6eQ"
   },
   "outputs": [],
   "source": [
    "#creating a df with the outputs\n",
    "flattened_list = np.concatenate(videos_list).tolist()\n",
    "df5 = pd.DataFrame(flattened_list)\n",
    "df5.drop(columns=['keyword'], inplace=True)"
   ]
  },
  {
   "cell_type": "code",
   "execution_count": null,
   "metadata": {
    "id": "tGwQLQ4vNPRF"
   },
   "outputs": [],
   "source": [
    "#adding the video counts to the date ranges table\n",
    "df_half_weeks['videos_count'] = videos_count_list"
   ]
  },
  {
   "cell_type": "code",
   "execution_count": null,
   "metadata": {
    "colab": {
     "base_uri": "https://localhost:8080/",
     "height": 17
    },
    "executionInfo": {
     "elapsed": 12,
     "status": "ok",
     "timestamp": 1741545966451,
     "user": {
      "displayName": "Yana Kiprova",
      "userId": "05029747295494730402"
     },
     "user_tz": -60
    },
    "id": "R9RwQuDVNYnc",
    "outputId": "51cfdc0e-14e4-40d2-feb1-9d67219d37cf"
   },
   "outputs": [],
   "source": [
    "df_half_weeks.to_csv(\"date_ranges_4.csv\")\n",
    "files.download('date_ranges_4.csv')\n",
    "#df5.to_csv(\"video_titles_03.09.3.csv\")\n",
    "#files.download('video_titles_03.09.3.csv')"
   ]
  },
  {
   "cell_type": "markdown",
   "metadata": {
    "id": "QswdLNGAN-ja"
   },
   "source": [
    "## Couple days periods"
   ]
  },
  {
   "cell_type": "code",
   "execution_count": null,
   "metadata": {
    "colab": {
     "base_uri": "https://localhost:8080/",
     "height": 53
    },
    "executionInfo": {
     "elapsed": 67354,
     "status": "ok",
     "timestamp": 1741616053415,
     "user": {
      "displayName": "Yana Kiprova",
      "userId": "05029747295494730402"
     },
     "user_tz": -60
    },
    "id": "rB8JqfQwYbLQ",
    "outputId": "1e68eac6-faa3-4c09-bb86-c188103466f4"
   },
   "outputs": [],
   "source": [
    "uploaded = files.upload()"
   ]
  },
  {
   "cell_type": "code",
   "execution_count": null,
   "metadata": {
    "id": "P2uymZ60aFmr"
   },
   "outputs": [],
   "source": [
    "df_half_weeks = pd.read_csv(\"date_ranges_4.csv\")"
   ]
  },
  {
   "cell_type": "code",
   "execution_count": null,
   "metadata": {
    "colab": {
     "base_uri": "https://localhost:8080/"
    },
    "executionInfo": {
     "elapsed": 37,
     "status": "ok",
     "timestamp": 1741616234727,
     "user": {
      "displayName": "Yana Kiprova",
      "userId": "05029747295494730402"
     },
     "user_tz": -60
    },
    "id": "KRrQd8AFN90C",
    "outputId": "1395769a-42e0-4362-a856-17209bd021ad"
   },
   "outputs": [],
   "source": [
    "#splitting to half-weekly periods\n",
    "split_periods = []\n",
    "\n",
    "df_filtered = df_half_weeks[df_half_weeks[\"videos_count\"] == 50].copy()\n",
    "\n",
    "# Convert 'start' and 'end' to datetime\n",
    "df_filtered[\"start\"] = pd.to_datetime(df_filtered[\"start\"])\n",
    "df_filtered[\"end\"] = pd.to_datetime(df_filtered[\"end\"])\n",
    "\n",
    "# Create new DataFrame for half-month periods\n",
    "split_periods = []\n",
    "\n",
    "for _, row in df_filtered.iterrows():\n",
    "    start_date = row[\"start\"]\n",
    "    mid_date = start_date + timedelta(days=2)\n",
    "    end_date = row[\"end\"]\n",
    "\n",
    "    # Ensure mid_date does not exceed end_date\n",
    "    if mid_date > end_date:\n",
    "        mid_date = end_date\n",
    "\n",
    "    # First half\n",
    "    split_periods.append({\"start\": start_date, \"end\": mid_date - timedelta(seconds=1)})\n",
    "\n",
    "    # Second half\n",
    "    split_periods.append({\"start\": mid_date, \"end\": end_date})\n",
    "\n",
    "# Create new df\n",
    "df_couple_days = pd.DataFrame(split_periods)\n",
    "\n",
    "# Convert back to the required format\n",
    "df_couple_days[\"start\"] = df_couple_days[\"start\"].dt.strftime(\"%Y-%m-%dT%H:%M:%S-05:00\")\n",
    "df_couple_days[\"end\"] = df_couple_days[\"end\"].dt.strftime(\"%Y-%m-%dT%H:%M:%S-05:00\")\n",
    "\n",
    "print(df_couple_days)"
   ]
  },
  {
   "cell_type": "code",
   "execution_count": null,
   "metadata": {
    "colab": {
     "base_uri": "https://localhost:8080/"
    },
    "executionInfo": {
     "elapsed": 15,
     "status": "ok",
     "timestamp": 1741616296254,
     "user": {
      "displayName": "Yana Kiprova",
      "userId": "05029747295494730402"
     },
     "user_tz": -60
    },
    "id": "T1K538Hla1K9",
    "outputId": "961b5742-1690-4a35-9add-3404f15e6149"
   },
   "outputs": [],
   "source": [
    "#validating that the number of periods id correct\n",
    "count50 = df_half_weeks[df_half_weeks[\"videos_count\"] == 50]\n",
    "count50.shape"
   ]
  },
  {
   "cell_type": "code",
   "execution_count": null,
   "metadata": {
    "colab": {
     "base_uri": "https://localhost:8080/"
    },
    "executionInfo": {
     "elapsed": 5306,
     "status": "ok",
     "timestamp": 1741616461194,
     "user": {
      "displayName": "Yana Kiprova",
      "userId": "05029747295494730402"
     },
     "user_tz": -60
    },
    "id": "A2aCIsrdbEcE",
    "outputId": "34c1272f-c970-4f70-ff1c-6de54fbad525"
   },
   "outputs": [],
   "source": [
    "# Getting the youtube videos for the half weekly periods\n",
    "channel_id = \"UCpSJ5fGhmAME9Kx2D3ZvN3Q\" # Latina Noticias\n",
    "max_results = 50\n",
    "order = \"date\"\n",
    "keyword = \"robo|robó|roban|robaron|delincuentes|criminales|asalto|asaltó|asaltan|asaltaron|matan|mató|mataron|ladrón|asesinato|asesinado|asesinan|asesinaron|extorsionadores|extorsionador|extorsionan|extorsionaron|extorsionó|secuestro|secuestradores|secuestrada|secuestrado|secuestró|secuestraron|balacera|balean|balearon|balazos|sicariato|mafias|mafia|sicarios\"\n",
    "\n",
    "# Create empty dataframe for first time running it\n",
    "df = pd.DataFrame(columns=['video_id','title','url','channel','keyword','video_date'])\n",
    "videos_list = []\n",
    "videos_count_list = []\n",
    "\n",
    "for index, row in df_couple_days.iterrows():\n",
    "    published_after = row['start']\n",
    "    published_before = row['end']\n",
    "\n",
    "\n",
    "    all = get_youtube_videos(api_key, channel_id, keyword, max_results,\n",
    "                                                          order, published_after, published_before)\n",
    "    videos = all[0]\n",
    "    video_count = all[1]\n",
    "    videos_list.append(videos)\n",
    "    videos_count_list.append(video_count)"
   ]
  },
  {
   "cell_type": "code",
   "execution_count": null,
   "metadata": {
    "id": "YFnWSPOKbpX0"
   },
   "outputs": [],
   "source": [
    "#creating a df with the outputs\n",
    "flattened_list = np.concatenate(videos_list).tolist()\n",
    "df6 = pd.DataFrame(flattened_list)\n",
    "df6.drop(columns=['keyword'], inplace=True)"
   ]
  },
  {
   "cell_type": "code",
   "execution_count": null,
   "metadata": {
    "id": "SLxEz6v3bzGX"
   },
   "outputs": [],
   "source": [
    "#adding the video counts to the date ranges table\n",
    "df_couple_days['videos_count'] = videos_count_list"
   ]
  },
  {
   "cell_type": "code",
   "execution_count": null,
   "metadata": {
    "colab": {
     "base_uri": "https://localhost:8080/",
     "height": 17
    },
    "executionInfo": {
     "elapsed": 80,
     "status": "ok",
     "timestamp": 1741616646397,
     "user": {
      "displayName": "Yana Kiprova",
      "userId": "05029747295494730402"
     },
     "user_tz": -60
    },
    "id": "AFl2M34Sb7qw",
    "outputId": "5b6da2c6-ca79-4703-8c47-89a8cf85a341"
   },
   "outputs": [],
   "source": [
    "df_couple_days.to_csv(\"date_ranges_5.csv\")\n",
    "files.download('date_ranges_5.csv')\n",
    "df6.to_csv(\"video_titles_03.09.4.csv\")\n",
    "files.download('video_titles_03.09.4.csv')"
   ]
  },
  {
   "cell_type": "markdown",
   "metadata": {
    "id": "UBj6b0SWcf1C"
   },
   "source": [
    "## Combining all the video that have not already been collected"
   ]
  },
  {
   "cell_type": "code",
   "execution_count": null,
   "metadata": {
    "colab": {
     "base_uri": "https://localhost:8080/",
     "height": 210
    },
    "executionInfo": {
     "elapsed": 93573,
     "status": "ok",
     "timestamp": 1741617364958,
     "user": {
      "displayName": "Yana Kiprova",
      "userId": "05029747295494730402"
     },
     "user_tz": -60
    },
    "id": "tWsdIm0BcfOw",
    "outputId": "0dcaadae-65a6-4cad-9596-746c5f792df5"
   },
   "outputs": [],
   "source": [
    "uploaded = files.upload()"
   ]
  },
  {
   "cell_type": "code",
   "execution_count": null,
   "metadata": {
    "id": "bCYQ-bejfpoh"
   },
   "outputs": [],
   "source": [
    "df1 = pd.read_csv(\"video_titles.csv\")\n",
    "df2 = pd.read_csv(\"video_titles_03.09.csv\")\n",
    "df3 = pd.read_csv(\"video_titles_03.09.2.csv\")\n",
    "df4 = pd.read_csv(\"video_titles_03.09.3.csv\")\n",
    "df5 = pd.read_csv(\"video_titles_03.09.4.csv\")"
   ]
  },
  {
   "cell_type": "code",
   "execution_count": null,
   "metadata": {
    "id": "1OKx6JNhgpNV"
   },
   "outputs": [],
   "source": [
    "combined_df = pd.concat([df2, df3, df4, df5])\n",
    "combined_df= combined_df.drop(columns=['Unnamed: 0'])"
   ]
  },
  {
   "cell_type": "code",
   "execution_count": null,
   "metadata": {
    "colab": {
     "base_uri": "https://localhost:8080/",
     "height": 424
    },
    "executionInfo": {
     "elapsed": 15,
     "status": "ok",
     "timestamp": 1741618208681,
     "user": {
      "displayName": "Yana Kiprova",
      "userId": "05029747295494730402"
     },
     "user_tz": -60
    },
    "id": "hJLRD59ihhHv",
    "outputId": "916e59f2-bf8a-43be-a121-e90cd06891cb"
   },
   "outputs": [],
   "source": [
    "#removing duplicates\n",
    "combined_df = combined_df.drop_duplicates(subset=\"video_id\", keep=\"first\")\n",
    "combined_df = combined_df.reset_index(drop=True)\n",
    "combined_df"
   ]
  },
  {
   "cell_type": "code",
   "execution_count": null,
   "metadata": {
    "colab": {
     "base_uri": "https://localhost:8080/",
     "height": 17
    },
    "executionInfo": {
     "elapsed": 75,
     "status": "ok",
     "timestamp": 1741620430365,
     "user": {
      "displayName": "Yana Kiprova",
      "userId": "05029747295494730402"
     },
     "user_tz": -60
    },
    "id": "g7sCa2CBqc3-",
    "outputId": "94ba02be-37a6-48f7-f7ba-fcf499952be5"
   },
   "outputs": [],
   "source": [
    "combined_df.to_csv(\"combined_df_L.csv\")\n",
    "files.download('combined_df_L.csv')"
   ]
  },
  {
   "cell_type": "code",
   "execution_count": null,
   "metadata": {
    "id": "Hx4V8MIJigws"
   },
   "outputs": [],
   "source": [
    "combined_test = pd.concat([df1,combined_df])\n",
    "combined_test = combined_test.drop_duplicates(subset=\"video_id\", keep=\"first\")\n",
    "combined_test = combined_test.reset_index(drop=True)"
   ]
  },
  {
   "cell_type": "code",
   "execution_count": null,
   "metadata": {
    "colab": {
     "base_uri": "https://localhost:8080/",
     "height": 614
    },
    "executionInfo": {
     "elapsed": 301,
     "status": "ok",
     "timestamp": 1741618372105,
     "user": {
      "displayName": "Yana Kiprova",
      "userId": "05029747295494730402"
     },
     "user_tz": -60
    },
    "id": "C-weMGwdizpl",
    "outputId": "bfed67d0-d435-4a16-dbf8-5a073d943bbd"
   },
   "outputs": [],
   "source": [
    "combined_test"
   ]
  },
  {
   "cell_type": "markdown",
   "metadata": {
    "id": "KKwDKslGkIAN"
   },
   "source": [
    "#Collecting video IDs for LaRepublica"
   ]
  },
  {
   "cell_type": "markdown",
   "metadata": {
    "id": "mZwzjqq0kq3D"
   },
   "source": [
    "## Full month periods"
   ]
  },
  {
   "cell_type": "code",
   "execution_count": null,
   "metadata": {
    "colab": {
     "base_uri": "https://localhost:8080/",
     "height": 424
    },
    "executionInfo": {
     "elapsed": 207,
     "status": "ok",
     "timestamp": 1742503414775,
     "user": {
      "displayName": "Yana Kiprova",
      "userId": "05029747295494730402"
     },
     "user_tz": -60
    },
    "id": "hqtRq_bNkuCZ",
    "outputId": "bcac7076-2a20-451a-a585-20b8fcc12b84"
   },
   "outputs": [],
   "source": [
    "#df with full month periods\n",
    "\n",
    "# Define the start and end dates\n",
    "start_date = datetime(2019, 2, 1)\n",
    "end_date = datetime(2025, 3, 1)\n",
    "\n",
    "# Create a list to hold the data\n",
    "data = []\n",
    "\n",
    "# Generate the start and end date-times for each full month period\n",
    "current_date = start_date\n",
    "while current_date < end_date:\n",
    "    # cet the start date of the current month\n",
    "    start_date_str = current_date.strftime(\"%Y-%m-%dT%H:%M:%S-05:00\")\n",
    "\n",
    "    # calculate the next month's first day for the end date\n",
    "    next_month = current_date.replace(day=28) + timedelta(days=4)  # this gives us the next month\n",
    "    end_date_str = next_month.replace(day=1) - timedelta(seconds=1)\n",
    "    end_date_str = end_date_str.strftime(\"%Y-%m-%dT%H:%M:%S-05:00\")\n",
    "\n",
    "    # Append to the data list\n",
    "    data.append([start_date_str, end_date_str])\n",
    "\n",
    "    # Move to the first day of the next month\n",
    "    current_date = next_month.replace(day=1)\n",
    "\n",
    "# Create a DataFrame\n",
    "date_ranges = pd.DataFrame(data, columns=[\"start\", \"end\"])\n",
    "\n",
    "date_ranges\n"
   ]
  },
  {
   "cell_type": "code",
   "execution_count": null,
   "metadata": {
    "id": "5BXMFuLek-KL"
   },
   "outputs": [],
   "source": [
    "#Function for getting video info for one channel id, one keyword, one time frame\n",
    "# Returns dictionary of all videos found and number of videos, and prints number\n",
    "#\n",
    "\n",
    "def get_youtube_videos(api_key, channel_id, keyword, max_results=50, order=\"date\",\n",
    "                       published_after=None, published_before=None):\n",
    "\n",
    "    videos = []\n",
    "\n",
    "    # Prepare API request parameters\n",
    "    params = {\n",
    "        \"part\": \"snippet\",\n",
    "        \"channelId\": channel_id,\n",
    "        \"q\": keyword,\n",
    "        \"type\": \"video\",\n",
    "        \"maxResults\": max_results,\n",
    "        \"order\": order,\n",
    "    }\n",
    "\n",
    "    if published_after:\n",
    "        params[\"publishedAfter\"] = published_after\n",
    "\n",
    "    if published_before:\n",
    "        params[\"publishedBefore\"] = published_before\n",
    "\n",
    "    # Execute API request\n",
    "    request = youtube.search().list(**params)\n",
    "    response = request.execute()\n",
    "\n",
    "    # Extract video details\n",
    "    for item in response.get(\"items\", []):\n",
    "        video_id = item[\"id\"][\"videoId\"]\n",
    "        video_title = item[\"snippet\"][\"title\"]\n",
    "        video_url = f\"https://www.youtube.com/watch?v={video_id}\"\n",
    "        video_date = item[\"snippet\"][\"publishedAt\"]\n",
    "\n",
    "        videos.append({\n",
    "            \"video_id\": video_id,\n",
    "            \"title\": video_title,\n",
    "            \"url\": video_url,\n",
    "            \"channel\": channel_id,\n",
    "            \"keyword\": keyword,\n",
    "            \"video_date\": video_date})\n",
    "\n",
    "\n",
    "    print(\"Number of videos found between \" + published_after + \" and \" + published_before + \": \" + str(len(videos)))\n",
    "\n",
    "\n",
    "\n",
    "    return videos, len(videos)"
   ]
  },
  {
   "cell_type": "code",
   "execution_count": null,
   "metadata": {
    "colab": {
     "base_uri": "https://localhost:8080/"
    },
    "executionInfo": {
     "elapsed": 18896,
     "status": "ok",
     "timestamp": 1741619749363,
     "user": {
      "displayName": "Yana Kiprova",
      "userId": "05029747295494730402"
     },
     "user_tz": -60
    },
    "id": "NqVCgAvZlKW8",
    "outputId": "da769e43-58d5-4ee3-a8c3-f369151af963"
   },
   "outputs": [],
   "source": [
    "# applying new function\n",
    "# Create a for loop that goes through each time frame\n",
    "    # gets all youtube videos and store them in a dataframe\n",
    "\n",
    "channel_id = \"UC-B7Xv56uNRDkj0vC3QW8Cg\" # LaRepublica\n",
    "max_results = 50\n",
    "order = \"date\"\n",
    "keyword = \"robo|robó|roban|robaron|delincuentes|criminales|asalto|asaltó|asaltan|asaltaron|matan|mató|mataron|ladrón|asesinato|asesinado|asesinan|asesinaron|extorsionadores|extorsionador|extorsionan|extorsionaron|extorsionó|secuestro|secuestradores|secuestrada|secuestrado|secuestró|secuestraron|balacera|balean|balearon|balazos|sicariato|mafias|mafia|sicarios\"\n",
    "\n",
    "# Create empty dataframe for first time running it\n",
    "df = pd.DataFrame(columns=['video_id','title','url','channel','keyword','video_date'])\n",
    "videos_list = []\n",
    "videos_count_list = []\n",
    "\n",
    "for index, row in date_ranges.iterrows():\n",
    "    published_after = row['start']\n",
    "    published_before = row['end']\n",
    "\n",
    "\n",
    "    all = get_youtube_videos(api_key, channel_id, keyword, max_results,\n",
    "                                                          order, published_after, published_before)\n",
    "    videos = all[0]\n",
    "    video_count = all[1]\n",
    "    videos_list.append(videos)\n",
    "    videos_count_list.append(video_count)\n"
   ]
  },
  {
   "cell_type": "code",
   "execution_count": null,
   "metadata": {
    "colab": {
     "base_uri": "https://localhost:8080/"
    },
    "executionInfo": {
     "elapsed": 17506,
     "status": "ok",
     "timestamp": 1742503448038,
     "user": {
      "displayName": "Yana Kiprova",
      "userId": "05029747295494730402"
     },
     "user_tz": -60
    },
    "id": "0NBUgcpJSmms",
    "outputId": "53d92343-342a-4606-c756-362711b4a65a"
   },
   "outputs": [],
   "source": [
    "# another attempt on 20.03\n",
    "# Create a for loop that goes through each time frame\n",
    "    # gets all youtube videos and store them in a dataframe\n",
    "\n",
    "channel_id = \"UC-B7Xv56uNRDkj0vC3QW8Cg\" # LaRepublica\n",
    "max_results = 50\n",
    "order = \"date\"\n",
    "keyword = \"robo|robó|roban|robaron|delincuentes|criminales|asalto|asaltó|asaltan|asaltaron|matan|mató|mataron|ladrón|asesinato|asesinado|asesinan|asesinaron|extorsionadores|extorsionador|extorsionan|extorsionaron|extorsionó|secuestro|secuestradores|secuestrada|secuestrado|secuestró|secuestraron|balacera|balean|balearon|balazos|sicariato|mafias|mafia|sicarios\"\n",
    "\n",
    "# Create empty dataframe for first time running it\n",
    "df = pd.DataFrame(columns=['video_id','title','url','channel','keyword','video_date'])\n",
    "videos_list = []\n",
    "videos_count_list = []\n",
    "\n",
    "for index, row in date_ranges.iterrows():\n",
    "    published_after = row['start']\n",
    "    published_before = row['end']\n",
    "\n",
    "\n",
    "    all = get_youtube_videos(api_key, channel_id, keyword, max_results,\n",
    "                                                          order, published_after, published_before)\n",
    "    videos = all[0]\n",
    "    video_count = all[1]\n",
    "    videos_list.append(videos)\n",
    "    videos_count_list.append(video_count)\n"
   ]
  },
  {
   "cell_type": "code",
   "execution_count": null,
   "metadata": {
    "id": "xXhKk4Hzo2aX"
   },
   "outputs": [],
   "source": [
    "flattened_list = np.concatenate(videos_list).tolist()\n",
    "df_R_1 = pd.DataFrame(flattened_list)\n",
    "df_R_1.drop(columns=['keyword'], inplace=True)\n",
    "\n",
    "date_ranges['videos_count'] = videos_count_list"
   ]
  },
  {
   "cell_type": "code",
   "execution_count": null,
   "metadata": {
    "colab": {
     "base_uri": "https://localhost:8080/",
     "height": 17
    },
    "executionInfo": {
     "elapsed": 69,
     "status": "ok",
     "timestamp": 1741620329930,
     "user": {
      "displayName": "Yana Kiprova",
      "userId": "05029747295494730402"
     },
     "user_tz": -60
    },
    "id": "kA3dqYNRplys",
    "outputId": "befbef6a-e66c-4f5f-df8d-67745d2afdc3"
   },
   "outputs": [],
   "source": [
    "df_R_1.to_csv(\"videos_titles_R1.csv\")\n",
    "files.download('videos_titles_R1.csv')\n",
    "date_ranges.to_csv(\"date_ranges_R1.csv\")\n",
    "files.download('date_ranges_R1.csv')"
   ]
  },
  {
   "cell_type": "code",
   "execution_count": null,
   "metadata": {
    "colab": {
     "base_uri": "https://localhost:8080/",
     "height": 71
    },
    "executionInfo": {
     "elapsed": 38653,
     "status": "ok",
     "timestamp": 1741723620688,
     "user": {
      "displayName": "Yana Kiprova",
      "userId": "05029747295494730402"
     },
     "user_tz": -60
    },
    "id": "8sUeBdgC0JgO",
    "outputId": "04a0adda-417e-41fe-e633-aa1919fc0145"
   },
   "outputs": [],
   "source": [
    "uploaded = files.upload()"
   ]
  },
  {
   "cell_type": "code",
   "execution_count": null,
   "metadata": {
    "id": "0C3jENxF0Eou"
   },
   "outputs": [],
   "source": [
    "date_ranges = pd.read_csv(\"date_ranges_R1.csv\")"
   ]
  },
  {
   "cell_type": "markdown",
   "metadata": {
    "id": "6bGFfG880Yua"
   },
   "source": [
    "## Week periods"
   ]
  },
  {
   "cell_type": "code",
   "execution_count": null,
   "metadata": {
    "colab": {
     "base_uri": "https://localhost:8080/"
    },
    "executionInfo": {
     "elapsed": 49,
     "status": "ok",
     "timestamp": 1741723704523,
     "user": {
      "displayName": "Yana Kiprova",
      "userId": "05029747295494730402"
     },
     "user_tz": -60
    },
    "id": "lQZE0IOC0h_-",
    "outputId": "e1b2be67-97fa-4bf2-f187-5abe7c263485"
   },
   "outputs": [],
   "source": [
    "#splitting to weekly periods\n",
    "split_periods = []\n",
    "\n",
    "df_filtered = date_ranges[date_ranges[\"videos_count\"] == 50].copy()\n",
    "\n",
    "\n",
    "# Convert to datetime format\n",
    "df_filtered[\"start\"] = pd.to_datetime(df_filtered[\"start\"])\n",
    "df_filtered[\"end\"] = pd.to_datetime(df_filtered[\"end\"])\n",
    "\n",
    "# Create a new list to store weekly periods\n",
    "weekly_periods = []\n",
    "\n",
    "# Loop through each full-month period and split into weeks\n",
    "for _, row in df_filtered.iterrows():\n",
    "    start_date = row[\"start\"]\n",
    "    end_date = row[\"end\"]\n",
    "\n",
    "    current_date = start_date\n",
    "\n",
    "    while current_date < end_date:\n",
    "        next_week = current_date + timedelta(days=7)\n",
    "        if next_week > end_date:\n",
    "            next_week = end_date  # Ensure the last week aligns with the month's end\n",
    "\n",
    "        weekly_periods.append({\n",
    "            \"start\": current_date,\n",
    "            \"end\": next_week - timedelta(seconds=1)  # End at 23:59:59 of the previous day\n",
    "        })\n",
    "\n",
    "        current_date = next_week  # Move to the next week\n",
    "\n",
    "# Create new DataFrame for weekly periods\n",
    "week_ranges = pd.DataFrame(weekly_periods)\n",
    "\n",
    "# Convert datetime format back to string\n",
    "week_ranges[\"start\"] = week_ranges[\"start\"].dt.strftime(\"%Y-%m-%dT%H:%M:%S-05:00\")\n",
    "week_ranges[\"end\"] = week_ranges[\"end\"].dt.strftime(\"%Y-%m-%dT%H:%M:%S-05:00\")\n",
    "\n",
    "# Display the result\n",
    "print(week_ranges)"
   ]
  },
  {
   "cell_type": "code",
   "execution_count": null,
   "metadata": {
    "colab": {
     "base_uri": "https://localhost:8080/"
    },
    "executionInfo": {
     "elapsed": 20799,
     "status": "ok",
     "timestamp": 1741724146420,
     "user": {
      "displayName": "Yana Kiprova",
      "userId": "05029747295494730402"
     },
     "user_tz": -60
    },
    "id": "_L4AaU7F007W",
    "outputId": "5114d63a-8c9a-41b5-c920-44884e6cce54"
   },
   "outputs": [],
   "source": [
    "#Going through week_ranges\n",
    "# Create a for loop that goes through each time frame\n",
    "    # gets all youtube videos and store them in a dataframe\n",
    "\n",
    "channel_id = \"UCPhm2I2wk4vqjENwhn3px8A\" # América Noticias\n",
    "max_results = 50\n",
    "order = \"date\"\n",
    "keyword = \"robo|robó|roban|robaron|delincuentes|criminales|asalto|asaltó|asaltan|asaltaron|matan|mató|mataron|ladrón|asesinato|asesinado|asesinan|asesinaron|extorsionadores|extorsionador|extorsionan|extorsionaron|extorsionó|secuestro|secuestradores|secuestrada|secuestrado|secuestró|secuestraron|balacera|balean|balearon|balazos|sicariato|mafias|mafia|sicarios\"\n",
    "\n",
    "# Create empty dataframe for first time running it\n",
    "df = pd.DataFrame(columns=['video_id','title','url','channel','keyword','video_date'])\n",
    "videos_list = []\n",
    "videos_count_list = []\n",
    "\n",
    "for index, row in week_ranges.iterrows():\n",
    "    published_after = row['start']\n",
    "    published_before = row['end']\n",
    "\n",
    "\n",
    "    all = get_youtube_videos(api_key, channel_id, keyword, max_results,\n",
    "                                                          order, published_after, published_before)\n",
    "    videos = all[0]\n",
    "    video_count = all[1]\n",
    "    videos_list.append(videos)\n",
    "    videos_count_list.append(video_count)\n"
   ]
  },
  {
   "cell_type": "code",
   "execution_count": null,
   "metadata": {
    "id": "5YmacAQY2eka"
   },
   "outputs": [],
   "source": [
    "flattened_list = np.concatenate(videos_list).tolist()\n",
    "df_R_2 = pd.DataFrame(flattened_list)\n",
    "df_R_2.drop(columns=['keyword'], inplace=True)\n",
    "\n",
    "week_ranges['videos_count'] = videos_count_list"
   ]
  },
  {
   "cell_type": "code",
   "execution_count": null,
   "metadata": {
    "colab": {
     "base_uri": "https://localhost:8080/",
     "height": 17
    },
    "executionInfo": {
     "elapsed": 163,
     "status": "ok",
     "timestamp": 1741724411174,
     "user": {
      "displayName": "Yana Kiprova",
      "userId": "05029747295494730402"
     },
     "user_tz": -60
    },
    "id": "3UOKHTO-28A1",
    "outputId": "db684164-21ba-4105-9eea-dad727435b04"
   },
   "outputs": [],
   "source": [
    "df_R_2.to_csv(\"videos_titles_R2.csv\")\n",
    "files.download('videos_titles_R2.csv')\n",
    "week_ranges.to_csv(\"date_ranges_R2.csv\")\n",
    "files.download('date_ranges_R2.csv')"
   ]
  },
  {
   "cell_type": "markdown",
   "metadata": {
    "id": "slCkHNgesggU"
   },
   "source": [
    "# Collecting videos IDs for América Noticias"
   ]
  },
  {
   "cell_type": "markdown",
   "metadata": {
    "id": "C_mdLhrFtLHu"
   },
   "source": [
    "## Full month periods"
   ]
  },
  {
   "cell_type": "code",
   "execution_count": null,
   "metadata": {
    "colab": {
     "base_uri": "https://localhost:8080/"
    },
    "executionInfo": {
     "elapsed": 18912,
     "status": "ok",
     "timestamp": 1741722122235,
     "user": {
      "displayName": "Yana Kiprova",
      "userId": "05029747295494730402"
     },
     "user_tz": -60
    },
    "id": "SUY9E4f-sqf3",
    "outputId": "a7ec09d7-cd2e-4071-9d0c-55e988004fe1"
   },
   "outputs": [],
   "source": [
    "# applying new function\n",
    "# Create a for loop that goes through each time frame\n",
    "    # gets all youtube videos and store them in a dataframe\n",
    "\n",
    "channel_id = \"UCPhm2I2wk4vqjENwhn3px8A\" # América Noticias\n",
    "max_results = 50\n",
    "order = \"date\"\n",
    "keyword = \"robo|robó|roban|robaron|delincuentes|criminales|asalto|asaltó|asaltan|asaltaron|matan|mató|mataron|ladrón|asesinato|asesinado|asesinan|asesinaron|extorsionadores|extorsionador|extorsionan|extorsionaron|extorsionó|secuestro|secuestradores|secuestrada|secuestrado|secuestró|secuestraron|balacera|balean|balearon|balazos|sicariato|mafias|mafia|sicarios\"\n",
    "\n",
    "# Create empty dataframe for first time running it\n",
    "df = pd.DataFrame(columns=['video_id','title','url','channel','keyword','video_date'])\n",
    "videos_list = []\n",
    "videos_count_list = []\n",
    "\n",
    "for index, row in date_ranges.iterrows():\n",
    "    published_after = row['start']\n",
    "    published_before = row['end']\n",
    "\n",
    "\n",
    "    all = get_youtube_videos(api_key, channel_id, keyword, max_results,\n",
    "                                                          order, published_after, published_before)\n",
    "    videos = all[0]\n",
    "    video_count = all[1]\n",
    "    videos_list.append(videos)\n",
    "    videos_count_list.append(video_count)\n"
   ]
  },
  {
   "cell_type": "code",
   "execution_count": null,
   "metadata": {
    "id": "XMVLqYspveu_"
   },
   "outputs": [],
   "source": [
    "flattened_list = np.concatenate(videos_list).tolist()\n",
    "df_A_1 = pd.DataFrame(flattened_list)\n",
    "df_A_1.drop(columns=['keyword'], inplace=True)\n",
    "\n",
    "date_ranges['videos_count2'] = videos_count_list"
   ]
  },
  {
   "cell_type": "code",
   "execution_count": null,
   "metadata": {
    "colab": {
     "base_uri": "https://localhost:8080/",
     "height": 17
    },
    "executionInfo": {
     "elapsed": 47,
     "status": "ok",
     "timestamp": 1741722190229,
     "user": {
      "displayName": "Yana Kiprova",
      "userId": "05029747295494730402"
     },
     "user_tz": -60
    },
    "id": "I3cXqDwgt_kY",
    "outputId": "28d3a90a-9f87-4c44-be51-d34641ed9672"
   },
   "outputs": [],
   "source": [
    "df_A_1.to_csv(\"videos_titles_A1.csv\")\n",
    "files.download('videos_titles_A1.csv')\n",
    "#date_ranges.to_csv(\"date_ranges_A1.csv\")\n",
    "#files.download('date_ranges_A1.csv')"
   ]
  },
  {
   "cell_type": "markdown",
   "metadata": {
    "id": "2ApOYihTw-oF"
   },
   "source": [
    "## Week periods"
   ]
  },
  {
   "cell_type": "code",
   "execution_count": null,
   "metadata": {
    "colab": {
     "base_uri": "https://localhost:8080/",
     "height": 71
    },
    "executionInfo": {
     "elapsed": 21505,
     "status": "ok",
     "timestamp": 1741721481658,
     "user": {
      "displayName": "Yana Kiprova",
      "userId": "05029747295494730402"
     },
     "user_tz": -60
    },
    "id": "AbGhttC-ryyM",
    "outputId": "4f482ec7-1457-4a05-9695-351ce4ac835c"
   },
   "outputs": [],
   "source": [
    "uploaded = files.upload()"
   ]
  },
  {
   "cell_type": "code",
   "execution_count": null,
   "metadata": {
    "id": "fVEC9dQ_sMJW"
   },
   "outputs": [],
   "source": [
    "date_ranges = pd.read_csv(\"date_ranges_A1.csv\")"
   ]
  },
  {
   "cell_type": "code",
   "execution_count": null,
   "metadata": {
    "colab": {
     "base_uri": "https://localhost:8080/"
    },
    "executionInfo": {
     "elapsed": 46,
     "status": "ok",
     "timestamp": 1741721517562,
     "user": {
      "displayName": "Yana Kiprova",
      "userId": "05029747295494730402"
     },
     "user_tz": -60
    },
    "id": "BaytgQYdw7_O",
    "outputId": "d720b7fb-de88-4dae-d60c-41ead2d33508"
   },
   "outputs": [],
   "source": [
    "#splitting to weekly periods\n",
    "split_periods = []\n",
    "\n",
    "df_filtered = date_ranges[date_ranges[\"videos_count\"] == 50].copy()\n",
    "\n",
    "\n",
    "# Convert to datetime format\n",
    "df_filtered[\"start\"] = pd.to_datetime(df_filtered[\"start\"])\n",
    "df_filtered[\"end\"] = pd.to_datetime(df_filtered[\"end\"])\n",
    "\n",
    "# Create a new list to store weekly periods\n",
    "weekly_periods = []\n",
    "\n",
    "# Loop through each full-month period and split into weeks\n",
    "for _, row in df_filtered.iterrows():\n",
    "    start_date = row[\"start\"]\n",
    "    end_date = row[\"end\"]\n",
    "\n",
    "    current_date = start_date\n",
    "\n",
    "    while current_date < end_date:\n",
    "        next_week = current_date + timedelta(days=7)\n",
    "        if next_week > end_date:\n",
    "            next_week = end_date  # Ensure the last week aligns with the month's end\n",
    "\n",
    "        weekly_periods.append({\n",
    "            \"start\": current_date,\n",
    "            \"end\": next_week - timedelta(seconds=1)  # End at 23:59:59 of the previous day\n",
    "        })\n",
    "\n",
    "        current_date = next_week  # Move to the next week\n",
    "\n",
    "# Create new DataFrame for weekly periods\n",
    "week_ranges = pd.DataFrame(weekly_periods)\n",
    "\n",
    "# Convert datetime format back to string\n",
    "week_ranges[\"start\"] = week_ranges[\"start\"].dt.strftime(\"%Y-%m-%dT%H:%M:%S-05:00\")\n",
    "week_ranges[\"end\"] = week_ranges[\"end\"].dt.strftime(\"%Y-%m-%dT%H:%M:%S-05:00\")\n",
    "\n",
    "print(week_ranges)"
   ]
  },
  {
   "cell_type": "code",
   "execution_count": null,
   "metadata": {
    "colab": {
     "base_uri": "https://localhost:8080/"
    },
    "executionInfo": {
     "elapsed": 80,
     "status": "ok",
     "timestamp": 1741721610373,
     "user": {
      "displayName": "Yana Kiprova",
      "userId": "05029747295494730402"
     },
     "user_tz": -60
    },
    "id": "w4Wq8-602Bpy",
    "outputId": "11689a06-fe09-4495-e1da-7039080aabd4"
   },
   "outputs": [],
   "source": [
    "## split the df in half as it has too many rows\n",
    "\n",
    "split_index = len(week_ranges) // 2\n",
    "\n",
    "week_ranges1 = week_ranges.iloc[:split_index]\n",
    "week_ranges2 = week_ranges.iloc[split_index:]\n",
    "\n",
    "print(\"First DataFrame:\")\n",
    "print(week_ranges1)\n",
    "print(\"\\nSecond DataFrame:\")\n",
    "print(week_ranges2)"
   ]
  },
  {
   "cell_type": "code",
   "execution_count": null,
   "metadata": {
    "colab": {
     "base_uri": "https://localhost:8080/"
    },
    "executionInfo": {
     "elapsed": 18265,
     "status": "ok",
     "timestamp": 1741721692714,
     "user": {
      "displayName": "Yana Kiprova",
      "userId": "05029747295494730402"
     },
     "user_tz": -60
    },
    "id": "06DmqOXL0v7W",
    "outputId": "c7c7342f-4ebd-4079-b8a9-6b3c71e4565c"
   },
   "outputs": [],
   "source": [
    "#Going through week_ranges1\n",
    "# Create a for loop that goes through each time frame\n",
    "    # gets all youtube videos and store them in a dataframe\n",
    "\n",
    "channel_id = \"UCPhm2I2wk4vqjENwhn3px8A\" # América Noticias\n",
    "max_results = 50\n",
    "order = \"date\"\n",
    "keyword = \"robo|robó|roban|robaron|delincuentes|criminales|asalto|asaltó|asaltan|asaltaron|matan|mató|mataron|ladrón|asesinato|asesinado|asesinan|asesinaron|extorsionadores|extorsionador|extorsionan|extorsionaron|extorsionó|secuestro|secuestradores|secuestrada|secuestrado|secuestró|secuestraron|balacera|balean|balearon|balazos|sicariato|mafias|mafia|sicarios\"\n",
    "\n",
    "# Create empty dataframe for first time running it\n",
    "df = pd.DataFrame(columns=['video_id','title','url','channel','keyword','video_date'])\n",
    "videos_list = []\n",
    "videos_count_list = []\n",
    "\n",
    "for index, row in week_ranges1.iterrows():\n",
    "    published_after = row['start']\n",
    "    published_before = row['end']\n",
    "\n",
    "\n",
    "    all = get_youtube_videos(api_key, channel_id, keyword, max_results,\n",
    "                                                          order, published_after, published_before)\n",
    "    videos = all[0]\n",
    "    video_count = all[1]\n",
    "    videos_list.append(videos)\n",
    "    videos_count_list.append(video_count)\n"
   ]
  },
  {
   "cell_type": "code",
   "execution_count": null,
   "metadata": {
    "colab": {
     "base_uri": "https://localhost:8080/"
    },
    "executionInfo": {
     "elapsed": 109,
     "status": "ok",
     "timestamp": 1741721805543,
     "user": {
      "displayName": "Yana Kiprova",
      "userId": "05029747295494730402"
     },
     "user_tz": -60
    },
    "id": "gYEY1WmltFrA",
    "outputId": "d08eaf5c-6b71-4225-eeae-22197a3135fb"
   },
   "outputs": [],
   "source": [
    "flattened_list = np.concatenate(videos_list).tolist()\n",
    "df_A_2 = pd.DataFrame(flattened_list)\n",
    "df_A_2.drop(columns=['keyword'], inplace=True)\n",
    "\n",
    "week_ranges1['videos_count'] = videos_count_list"
   ]
  },
  {
   "cell_type": "code",
   "execution_count": null,
   "metadata": {
    "colab": {
     "base_uri": "https://localhost:8080/",
     "height": 17
    },
    "executionInfo": {
     "elapsed": 41,
     "status": "ok",
     "timestamp": 1741722025147,
     "user": {
      "displayName": "Yana Kiprova",
      "userId": "05029747295494730402"
     },
     "user_tz": -60
    },
    "id": "TxgNKWyhtiGW",
    "outputId": "8ed7a330-d548-41c0-b8c5-0c512f4cb82d"
   },
   "outputs": [],
   "source": [
    "df_A_2.to_csv(\"videos_titles_A2.csv\")\n",
    "files.download('videos_titles_A2.csv')\n",
    "week_ranges1.to_csv(\"date_ranges_A2.csv\")\n",
    "files.download('date_ranges_A2.csv')"
   ]
  },
  {
   "cell_type": "code",
   "execution_count": null,
   "metadata": {
    "colab": {
     "base_uri": "https://localhost:8080/"
    },
    "executionInfo": {
     "elapsed": 17507,
     "status": "ok",
     "timestamp": 1741722473624,
     "user": {
      "displayName": "Yana Kiprova",
      "userId": "05029747295494730402"
     },
     "user_tz": -60
    },
    "id": "a2cGe7lQvjee",
    "outputId": "406168e9-29ef-4e6e-9dc0-712f9112da1b"
   },
   "outputs": [],
   "source": [
    "#Going through week_ranges2\n",
    "# Create a for loop that goes through each time frame\n",
    "    # gets all youtube videos and store them in a dataframe\n",
    "\n",
    "channel_id = \"UCPhm2I2wk4vqjENwhn3px8A\" # América Noticias\n",
    "max_results = 50\n",
    "order = \"date\"\n",
    "keyword = \"robo|robó|roban|robaron|delincuentes|criminales|asalto|asaltó|asaltan|asaltaron|matan|mató|mataron|ladrón|asesinato|asesinado|asesinan|asesinaron|extorsionadores|extorsionador|extorsionan|extorsionaron|extorsionó|secuestro|secuestradores|secuestrada|secuestrado|secuestró|secuestraron|balacera|balean|balearon|balazos|sicariato|mafias|mafia|sicarios\"\n",
    "\n",
    "# Create empty dataframe for first time running it\n",
    "df = pd.DataFrame(columns=['video_id','title','url','channel','keyword','video_date'])\n",
    "videos_list = []\n",
    "videos_count_list = []\n",
    "\n",
    "for index, row in week_ranges2.iterrows():\n",
    "    published_after = row['start']\n",
    "    published_before = row['end']\n",
    "\n",
    "\n",
    "    all = get_youtube_videos(api_key, channel_id, keyword, max_results,\n",
    "                                                          order, published_after, published_before)\n",
    "    videos = all[0]\n",
    "    video_count = all[1]\n",
    "    videos_list.append(videos)\n",
    "    videos_count_list.append(video_count)"
   ]
  },
  {
   "cell_type": "code",
   "execution_count": null,
   "metadata": {
    "colab": {
     "base_uri": "https://localhost:8080/"
    },
    "executionInfo": {
     "elapsed": 19,
     "status": "ok",
     "timestamp": 1741722551537,
     "user": {
      "displayName": "Yana Kiprova",
      "userId": "05029747295494730402"
     },
     "user_tz": -60
    },
    "id": "cuYOfbPkwGBy",
    "outputId": "927ca6ed-f0fd-4ab9-c905-f1c670f9c843"
   },
   "outputs": [],
   "source": [
    "flattened_list = np.concatenate(videos_list).tolist()\n",
    "df_A_3 = pd.DataFrame(flattened_list)\n",
    "df_A_3.drop(columns=['keyword'], inplace=True)\n",
    "\n",
    "week_ranges2['videos_count'] = videos_count_list"
   ]
  },
  {
   "cell_type": "code",
   "execution_count": null,
   "metadata": {
    "colab": {
     "base_uri": "https://localhost:8080/",
     "height": 17
    },
    "executionInfo": {
     "elapsed": 38,
     "status": "ok",
     "timestamp": 1741722640750,
     "user": {
      "displayName": "Yana Kiprova",
      "userId": "05029747295494730402"
     },
     "user_tz": -60
    },
    "id": "09elE5LpwRLi",
    "outputId": "4fa4305a-d156-4d8f-e5d8-57752516240e"
   },
   "outputs": [],
   "source": [
    "df_A_3.to_csv(\"videos_titles_A3.csv\")\n",
    "files.download('videos_titles_A3.csv')\n",
    "week_ranges2.to_csv(\"date_ranges_A3.csv\")\n",
    "files.download('date_ranges_A3.csv')"
   ]
  },
  {
   "cell_type": "markdown",
   "metadata": {
    "id": "NUtDVFzc3bbE"
   },
   "source": [
    "# Combining all videos"
   ]
  },
  {
   "cell_type": "code",
   "execution_count": null,
   "metadata": {
    "colab": {
     "base_uri": "https://localhost:8080/",
     "height": 279
    },
    "executionInfo": {
     "elapsed": 111500,
     "status": "ok",
     "timestamp": 1741772042110,
     "user": {
      "displayName": "Yana Kiprova",
      "userId": "05029747295494730402"
     },
     "user_tz": -60
    },
    "id": "IvH6yZh45Xun",
    "outputId": "3d6fef1e-80f7-4e85-b810-06ef75e67626"
   },
   "outputs": [],
   "source": [
    "uploaded = files.upload()"
   ]
  },
  {
   "cell_type": "code",
   "execution_count": null,
   "metadata": {
    "id": "AIecbTaQ7LLL"
   },
   "outputs": [],
   "source": [
    "df1 = pd.read_csv(\"videos_titles_R1.csv\")\n",
    "df2 = pd.read_csv(\"videos_titles_R2.csv\")\n",
    "df3 = pd.read_csv(\"videos_titles_A1 (1).csv\")\n",
    "df4 = pd.read_csv(\"videos_titles_A2.csv\")\n",
    "df5 = pd.read_csv(\"videos_titles_A3.csv\")\n",
    "df6 = pd.read_csv(\"videos_titles_A1(probably a mistake).csv\")\n",
    "df7 = pd.read_csv(\"combined_df_L.csv\")"
   ]
  },
  {
   "cell_type": "code",
   "execution_count": null,
   "metadata": {
    "colab": {
     "base_uri": "https://localhost:8080/",
     "height": 424
    },
    "executionInfo": {
     "elapsed": 15,
     "status": "ok",
     "timestamp": 1741776206821,
     "user": {
      "displayName": "Yana Kiprova",
      "userId": "05029747295494730402"
     },
     "user_tz": -60
    },
    "id": "-8Whq9s87xaP",
    "outputId": "fef720b8-19dc-4c8b-f4d9-cf66cbad8c71"
   },
   "outputs": [],
   "source": [
    "#combining all, except LN\n",
    "combined_df = pd.concat([df1, df2, df3, df4, df5, df6])\n",
    "combined_df= combined_df.drop(columns=['Unnamed: 0'])\n",
    "combined_df"
   ]
  },
  {
   "cell_type": "code",
   "execution_count": null,
   "metadata": {
    "colab": {
     "base_uri": "https://localhost:8080/",
     "height": 424
    },
    "executionInfo": {
     "elapsed": 57,
     "status": "ok",
     "timestamp": 1741776224725,
     "user": {
      "displayName": "Yana Kiprova",
      "userId": "05029747295494730402"
     },
     "user_tz": -60
    },
    "id": "w1tix-7a8Lnt",
    "outputId": "47dccbe7-1db0-44ad-d0cf-68d0de33794e"
   },
   "outputs": [],
   "source": [
    "#removing duplicates\n",
    "combined_df = combined_df.drop_duplicates(subset=\"video_id\", keep=\"first\")\n",
    "combined_df = combined_df.reset_index(drop=True)\n",
    "combined_df"
   ]
  },
  {
   "cell_type": "markdown",
   "metadata": {
    "id": "yN8c_Nt-7Dou"
   },
   "source": [
    "# Transripts"
   ]
  },
  {
   "cell_type": "markdown",
   "metadata": {
    "id": "KMmU59lV81yx"
   },
   "source": [
    "## Initial sample"
   ]
  },
  {
   "cell_type": "code",
   "execution_count": null,
   "metadata": {
    "id": "TLNYZ7bH7Dou"
   },
   "outputs": [],
   "source": [
    "# for test\n",
    "video_id = # Video ID removed"
   ]
  },
  {
   "cell_type": "code",
   "execution_count": null,
   "metadata": {
    "id": "Zv2tOovx7Dou"
   },
   "outputs": [],
   "source": [
    "# without timestamp\n",
    "\n",
    "def get_transcript(video_id, language='es'):\n",
    "    try:\n",
    "        transcript = YouTubeTranscriptApi.get_transcript(video_id, languages=[language])\n",
    "        return [line['text'] for line in transcript]\n",
    "\n",
    "    except Exception as e:\n",
    "        print(\"Error:\", e)"
   ]
  },
  {
   "cell_type": "code",
   "execution_count": null,
   "metadata": {
    "id": "ue4fCgvf7Dou"
   },
   "outputs": [],
   "source": [
    "test_transcript = get_transcript(video_id)"
   ]
  },
  {
   "cell_type": "code",
   "execution_count": null,
   "metadata": {
    "id": "7e_p21n-7Dou",
    "scrolled": false
   },
   "outputs": [],
   "source": [
    "# Go through dataframe and request transcripts for each video\n",
    "\n",
    "# Doesnt consume youtube api quota\n",
    "# find a way to count errors (seems like only 130 videos didnt get transcripts)\n",
    "\n",
    "df['transcript'] = df['video_id'].apply(get_transcript)"
   ]
  },
  {
   "cell_type": "code",
   "execution_count": null,
   "metadata": {
    "id": "MK1juft47Dov",
    "outputId": "c7e4dd6c-6f87-4018-8f5b-dd52b16940d4",
    "scrolled": true
   },
   "outputs": [],
   "source": [
    "df.tail()"
   ]
  },
  {
   "cell_type": "code",
   "execution_count": null,
   "metadata": {
    "id": "5AY4gTL37Dov"
   },
   "outputs": [],
   "source": [
    "# Save df as csv\n",
    "df.to_csv(\"video_titles.csv\")"
   ]
  },
  {
   "cell_type": "code",
   "execution_count": null,
   "metadata": {
    "id": "GCe3ZWns7Dov",
    "outputId": "98da2e39-698c-48ab-a063-7836862c1bf9"
   },
   "outputs": [],
   "source": [
    "test_transcript"
   ]
  },
  {
   "cell_type": "code",
   "execution_count": null,
   "metadata": {
    "id": "Covl4sxM7Dov"
   },
   "outputs": [],
   "source": [
    "#removing 'sounds'\n",
    "\n",
    "cleaned_lines = [line for line in test_transcript if not line.startswith(\"[\")]\n",
    "\n",
    "#merging into a single text block\n",
    "clean_transcript = \" \".join(cleaned_lines)"
   ]
  },
  {
   "cell_type": "markdown",
   "metadata": {
    "id": "3UBejhHy8-nG"
   },
   "source": [
    "## Secondary sample"
   ]
  },
  {
   "cell_type": "code",
   "execution_count": null,
   "metadata": {
    "id": "1Q8ccG-sAoNf"
   },
   "outputs": [],
   "source": [
    "# trnascript function that stores also the error messages\n",
    "\n",
    "def get_transcript(video_id, language='es'):\n",
    "    try:\n",
    "        transcript = YouTubeTranscriptApi.get_transcript(video_id, languages=[language])\n",
    "        return \" \".join([line['text'] for line in transcript])  # Join transcript into a single string\n",
    "    except Exception as e:\n",
    "        return f\"Error: {e}\"  # Return error message"
   ]
  },
  {
   "cell_type": "code",
   "execution_count": null,
   "metadata": {
    "colab": {
     "base_uri": "https://localhost:8080/",
     "height": 49,
     "referenced_widgets": [
      "bff119a263f34dc2bc160e40d2c1fc73",
      "2465b4b8d0b54f13a4395329f12a23bb",
      "ebf0612fe20040fbba9d3b815beadc14",
      "a8bfe89a89d74bf99abf95359016f0fd",
      "e4868061d2494ae9a504a78f2171386c",
      "946d258faeac45d48db894d4b7c19e7d",
      "f497f1637c2d4f2b9f98a5be37579cdb",
      "56605fbff8294b8c91304a707a61325c",
      "0d528647d4ec4159aa065f2a389ef35d",
      "75cc97ffd8184db3a329e6c448ea7376",
      "b281e2914b4949519263c97a62d1cd6b"
     ]
    },
    "executionInfo": {
     "elapsed": 1521030,
     "status": "ok",
     "timestamp": 1741776021599,
     "user": {
      "displayName": "Yana Kiprova",
      "userId": "05029747295494730402"
     },
     "user_tz": -60
    },
    "id": "eoCTbuQJ9SsI",
    "outputId": "6f9c02ad-b336-4aab-97f7-df64ecf579eb"
   },
   "outputs": [],
   "source": [
    "# getting transcripts for videos from Latina Noticias\n",
    "df7['transcript'] = df7['video_id'].progress_apply(get_transcript)"
   ]
  },
  {
   "cell_type": "code",
   "execution_count": null,
   "metadata": {
    "colab": {
     "base_uri": "https://localhost:8080/",
     "height": 17
    },
    "executionInfo": {
     "elapsed": 452,
     "status": "ok",
     "timestamp": 1741776164399,
     "user": {
      "displayName": "Yana Kiprova",
      "userId": "05029747295494730402"
     },
     "user_tz": -60
    },
    "id": "cgZrz7lm8QX9",
    "outputId": "4ae9734c-c47b-4626-b588-0d28fb832971"
   },
   "outputs": [],
   "source": [
    "df7= df7.drop(columns=['Unnamed: 0'])\n",
    "df7.to_csv(\"transcripts_L.csv\")\n",
    "files.download('transcripts_L.csv')"
   ]
  },
  {
   "cell_type": "code",
   "execution_count": null,
   "metadata": {
    "colab": {
     "base_uri": "https://localhost:8080/",
     "height": 49,
     "referenced_widgets": [
      "3d1fc16cb3394fbf9e5fe1ea04a8de4d",
      "9ed84c474b0e40ba8ad5d11ebe7ce7be",
      "e4f0e296f8b84ab281b10a5562165d0e",
      "c57cdec0693043f3bcc6877bb0d1cde5",
      "f8b734961152438d8e3d336ebc39e9c3",
      "ca25eeee5545427ba4c0b80461a7b05a",
      "2f974ed68d5443e3ae5a66d0339cf335",
      "33850b277eb7459cb97dab0c69407a1c",
      "84458f06b17f4838ad287c0f54e72f26",
      "1c4a93688ef94ce081dfc4f1d8a88307",
      "0b48456dd84741608426a085c30d8127"
     ]
    },
    "executionInfo": {
     "elapsed": 2770128,
     "status": "ok",
     "timestamp": 1741779134002,
     "user": {
      "displayName": "Yana Kiprova",
      "userId": "05029747295494730402"
     },
     "user_tz": -60
    },
    "id": "dzgWC_ih9FA_",
    "outputId": "50b9a800-b2bc-4114-9b3b-523da87e683d"
   },
   "outputs": [],
   "source": [
    "# getting transcripts for videos from AN and La Republica\n",
    "combined_df['transcript'] = combined_df['video_id'].progress_apply(get_transcript)"
   ]
  },
  {
   "cell_type": "code",
   "execution_count": null,
   "metadata": {
    "colab": {
     "base_uri": "https://localhost:8080/",
     "height": 17
    },
    "executionInfo": {
     "elapsed": 78,
     "status": "ok",
     "timestamp": 1741783160673,
     "user": {
      "displayName": "Yana Kiprova",
      "userId": "05029747295494730402"
     },
     "user_tz": -60
    },
    "id": "O5I-pKTEWAo7",
    "outputId": "fecefc80-3c44-4e9c-efc6-f61ad9aeae8c"
   },
   "outputs": [],
   "source": [
    "combined_df.to_csv(\"transcripts_R&A.csv\")\n",
    "files.download('transcripts_R&A.csv')"
   ]
  },
  {
   "cell_type": "code",
   "execution_count": null,
   "metadata": {
    "colab": {
     "base_uri": "https://localhost:8080/",
     "height": 140
    },
    "executionInfo": {
     "elapsed": 137597,
     "status": "ok",
     "timestamp": 1741875854659,
     "user": {
      "displayName": "Yana Kiprova",
      "userId": "05029747295494730402"
     },
     "user_tz": -60
    },
    "id": "8GYUyNvdeXH2",
    "outputId": "32bcfddb-0b98-4dd7-d250-7dd1951f790f"
   },
   "outputs": [],
   "source": [
    "uploaded = files.upload()"
   ]
  },
  {
   "cell_type": "code",
   "execution_count": null,
   "metadata": {
    "id": "9pYyUE-QgbsC"
   },
   "outputs": [],
   "source": [
    "df1 = pd.read_csv(\"transcripts_R&A.csv\")\n",
    "df2 = pd.read_csv(\"transcripts_L.csv\")\n",
    "df3 = pd.read_csv(\"video_titles.csv\")"
   ]
  },
  {
   "cell_type": "code",
   "execution_count": null,
   "metadata": {
    "id": "teUWIb4aguDL"
   },
   "outputs": [],
   "source": [
    "combined_df = pd.concat([df1, df2, df3])\n",
    "combined_df= combined_df.drop(columns=['Unnamed: 0'])\n",
    "combined_df.drop(columns=['keyword'], inplace=True)"
   ]
  },
  {
   "cell_type": "code",
   "execution_count": null,
   "metadata": {
    "colab": {
     "base_uri": "https://localhost:8080/",
     "height": 597
    },
    "executionInfo": {
     "elapsed": 422,
     "status": "ok",
     "timestamp": 1741875965908,
     "user": {
      "displayName": "Yana Kiprova",
      "userId": "05029747295494730402"
     },
     "user_tz": -60
    },
    "id": "tnjJBpc0hqfB",
    "outputId": "55d8ddd1-7292-489f-ef80-0a53a2ef8fb2"
   },
   "outputs": [],
   "source": [
    "#removing duplicates\n",
    "combined_df = combined_df.drop_duplicates(subset=\"video_id\", keep=\"first\")\n",
    "combined_df = combined_df.reset_index(drop=True)\n",
    "combined_df"
   ]
  },
  {
   "cell_type": "code",
   "execution_count": null,
   "metadata": {
    "colab": {
     "base_uri": "https://localhost:8080/",
     "height": 17
    },
    "executionInfo": {
     "elapsed": 932,
     "status": "ok",
     "timestamp": 1741803034971,
     "user": {
      "displayName": "Yana Kiprova",
      "userId": "05029747295494730402"
     },
     "user_tz": -60
    },
    "id": "rjaqfrh9isS6",
    "outputId": "19828b35-ad57-4648-af9f-df970a784271"
   },
   "outputs": [],
   "source": [
    "combined_df.to_csv(\"all_videos_transcript.csv\")\n",
    "files.download('all_videos_transcript.csv')"
   ]
  },
  {
   "cell_type": "code",
   "execution_count": null,
   "metadata": {
    "id": "kDRvoZq0513N"
   },
   "outputs": [],
   "source": [
    "# Filter out rows where the transcript contains an error message\n",
    "df_errors = combined_df[combined_df['transcript'].str.contains(\"Error:\", na=False)].copy()"
   ]
  },
  {
   "cell_type": "code",
   "execution_count": null,
   "metadata": {
    "id": "538Ii1l3tjvl"
   },
   "outputs": [],
   "source": [
    "# function for fetching the data inc. the errors\n",
    "def get_transcript(video_id, language='es'):\n",
    "    try:\n",
    "        transcript = YouTubeTranscriptApi.get_transcript(video_id, languages=[language])\n",
    "        return \" \".join([line['text'] for line in transcript])  # Convert list to string\n",
    "    except Exception as e:\n",
    "        return f\"Error: {e}\""
   ]
  },
  {
   "cell_type": "code",
   "execution_count": null,
   "metadata": {
    "id": "vmyVBrR4wSXa"
   },
   "outputs": [],
   "source": [
    "#testing on a smaller sample\n",
    "dfs = [df_errors.iloc[i:i + 100].copy() for i in range(0, len(df_errors), 100)]\n",
    "df_test = dfs[0]"
   ]
  },
  {
   "cell_type": "code",
   "execution_count": null,
   "metadata": {
    "colab": {
     "base_uri": "https://localhost:8080/",
     "height": 49,
     "referenced_widgets": [
      "88d8590ccd5d40e585ec2035db2a5729",
      "b80287e41e684a438010ecf3fe5ae431",
      "d312a28b35dd4b74ab9abb92afee5428",
      "3cef630a1d264a59a1971224d7f26253",
      "90c90ee199db4fbfbf6181ad195d0e4b",
      "b8f4f51a49c2421ba4cd21ec69f71f22",
      "44faea495fbf4b5989310ed8b9cec4d4",
      "e5415cd08e094cdeb4fe72a6a54bc066",
      "720a78ae1bdb4890bf3bd7df2eff6c3a",
      "07eddc64f2e14a159a321f9f926c6b0c",
      "afe8e9ae50b84cd0bafa53ea0c5b25af"
     ]
    },
    "executionInfo": {
     "elapsed": 554349,
     "status": "ok",
     "timestamp": 1741807093846,
     "user": {
      "displayName": "Yana Kiprova",
      "userId": "05029747295494730402"
     },
     "user_tz": -60
    },
    "id": "zCcnbAXUwlX0",
    "outputId": "85d093a5-0a68-4588-e455-60f6e74210ae"
   },
   "outputs": [],
   "source": [
    "# Attempt to retrieve transcripts for failed cases\n",
    "for index, row in tqdm(df_test.iterrows(), total=df_test.shape[0], desc=\"Retrying transcripts\"):\n",
    "    time.sleep(5)\n",
    "\n",
    "    df_test.at[index, 'new_transcript'] = get_transcript(row['video_id'])"
   ]
  },
  {
   "cell_type": "code",
   "execution_count": null,
   "metadata": {
    "colab": {
     "base_uri": "https://localhost:8080/"
    },
    "executionInfo": {
     "elapsed": 88,
     "status": "ok",
     "timestamp": 1741809507818,
     "user": {
      "displayName": "Yana Kiprova",
      "userId": "05029747295494730402"
     },
     "user_tz": -60
    },
    "id": "fsT68I1-zPfV",
    "outputId": "1164945e-2624-472d-b38c-4bb8c505b9ab"
   },
   "outputs": [],
   "source": [
    "error_count = df_test[df_test['new_transcript'].str.startswith(\"Error\", na=False)].shape[0]\n",
    "print(f\"Total transcripts with errors: {error_count}\")\n",
    "error_count = df_test[df_test['new_transcript'].str.contains('age-restricted', case=False, na=False)].shape[0]\n",
    "print(f\"Total transcripts with age-restricted errors: {error_count}\")\n",
    "error_count = df_test[df_test['new_transcript'].str.contains('Subtitles are disabled', case=False, na=False)].shape[0]\n",
    "print(f\"Total transcripts with subtitles are disabled errors: {error_count}\")\n",
    "error_count = df_test[df_test['new_transcript'].str.contains('video is unplayable', case=False, na=False)].shape[0]\n",
    "print(f\"Total transcripts with video is unplayable errors: {error_count}\")\n",
    "error_count = df_test[df_test['new_transcript'].str.contains('requested language codes:', case=False, na=False)].shape[0]\n",
    "print(f\"Total transcripts with requested language codes: ['es'] errors: {error_count}\")"
   ]
  },
  {
   "cell_type": "code",
   "execution_count": null,
   "metadata": {
    "colab": {
     "base_uri": "https://localhost:8080/",
     "height": 70
    },
    "executionInfo": {
     "elapsed": 31,
     "status": "ok",
     "timestamp": 1741809050961,
     "user": {
      "displayName": "Yana Kiprova",
      "userId": "05029747295494730402"
     },
     "user_tz": -60
    },
    "id": "3qlP0-sbzkqC",
    "outputId": "2d3b7cd0-f7f4-43f5-a53b-5317e0d7b7ed"
   },
   "outputs": [],
   "source": [
    "df_test.iloc[32]['new_transcript']"
   ]
  },
  {
   "cell_type": "code",
   "execution_count": null,
   "metadata": {
    "id": "Xnd5t9AK0oDZ"
   },
   "outputs": [],
   "source": [
    "#removing age restricted errors\n",
    "df_age_restricted = df_errors[df_errors['transcript'].str.contains('age-restricted', case=False, na=False)]\n",
    "\n",
    "# Remove the age-restricted rows from the original df_errors\n",
    "df_errors2 = df_errors[~df_errors['transcript'].str.contains('age-restricted', case=False, na=False)]"
   ]
  },
  {
   "cell_type": "code",
   "execution_count": null,
   "metadata": {
    "id": "zqNS4KSQ_pnM"
   },
   "outputs": [],
   "source": [
    "#removing Subtitles are disabled errors\n",
    "df_sub_disabled = df_errors2[df_errors2['transcript'].str.contains('Subtitles are disabled', case=False, na=False)]\n",
    "\n",
    "# Remove the rows from the original df_errors\n",
    "df_errors3 = df_errors2[~df_errors2['transcript'].str.contains('Subtitles are disabled', case=False, na=False)]"
   ]
  },
  {
   "cell_type": "code",
   "execution_count": null,
   "metadata": {
    "id": "JS6ROujABC_T"
   },
   "outputs": [],
   "source": [
    "#removing video is unplayable errors\n",
    "df_unplayable = df_errors3[df_errors3['transcript'].str.contains('video is unplayable', case=False, na=False)]\n",
    "\n",
    "# Remove the rows from the original df_errors\n",
    "df_errors4 = df_errors3[~df_errors3['transcript'].str.contains('video is unplayable', case=False, na=False)]"
   ]
  },
  {
   "cell_type": "code",
   "execution_count": null,
   "metadata": {
    "id": "AxJpMhjUBqwN"
   },
   "outputs": [],
   "source": [
    "#removing video is requested language codes: errors\n",
    "df_language_code = df_errors4[df_errors4['transcript'].str.contains('requested language codes:', case=False, na=False)]\n",
    "\n",
    "# Remove the rows from the original df_errors\n",
    "df_errors5 = df_errors4[~df_errors4['transcript'].str.contains('requested language codes:', case=False, na=False)]"
   ]
  },
  {
   "cell_type": "code",
   "execution_count": null,
   "metadata": {
    "id": "PGzZ-_i5J8T4"
   },
   "outputs": [],
   "source": [
    "#removing video is IP errors\n",
    "df_IP = df_errors5[df_errors5['transcript'].str.contains('YouTube is blocking requests from your IP', case=False, na=False)]\n",
    "\n",
    "# Remove the rows from the original df_errors\n",
    "df_errors6 = df_errors5[~df_errors5['transcript'].str.contains('YouTube is blocking requests from your IP', case=False, na=False)]"
   ]
  },
  {
   "cell_type": "code",
   "execution_count": null,
   "metadata": {
    "colab": {
     "base_uri": "https://localhost:8080/"
    },
    "executionInfo": {
     "elapsed": 28,
     "status": "ok",
     "timestamp": 1741876077847,
     "user": {
      "displayName": "Yana Kiprova",
      "userId": "05029747295494730402"
     },
     "user_tz": -60
    },
    "id": "u7jmrsY31uk5",
    "outputId": "5b9db499-21c3-4e66-de54-000a2524cb8f"
   },
   "outputs": [],
   "source": [
    "print(df_age_restricted.shape,df_sub_disabled.shape,df_unplayable.shape,df_errors4.shape,df_language_code.shape,df_IP.shape,df_errors6.shape)"
   ]
  },
  {
   "cell_type": "code",
   "execution_count": null,
   "metadata": {
    "colab": {
     "base_uri": "https://localhost:8080/",
     "height": 293
    },
    "executionInfo": {
     "elapsed": 123,
     "status": "ok",
     "timestamp": 1741876088805,
     "user": {
      "displayName": "Yana Kiprova",
      "userId": "05029747295494730402"
     },
     "user_tz": -60
    },
    "id": "M8QXJ6Yk1yLx",
    "outputId": "998ef227-7b85-4d2c-c302-6300a767c177"
   },
   "outputs": [],
   "source": [
    "df_errors5.tail(5)"
   ]
  },
  {
   "cell_type": "code",
   "execution_count": null,
   "metadata": {
    "colab": {
     "base_uri": "https://localhost:8080/",
     "height": 49,
     "referenced_widgets": [
      "0d097e72045547e8b743f9cc84699bfa",
      "c14d299a610545b78680087d1cb7e9c8",
      "ecdde67f3fa349748381a153eb327a81",
      "e5c7810972a142cd80544c5a9a8f360d",
      "63de0247d191448282ea12ac4ab52581",
      "6b429adf10824cc0af4bf2c0e73ce3e9",
      "6f1f802ab08f41eeb7c0fe852d285da5",
      "77e9924cfdb04167b4f53bf84c51c8d8",
      "57b165d8ac414a978fcf99241bb949cd",
      "7d3c38d8cccd4295b80b7c3377f42669",
      "e75c9270cc364af79a6a52ad0466631b"
     ]
    },
    "executionInfo": {
     "elapsed": 825078,
     "status": "ok",
     "timestamp": 1741877228586,
     "user": {
      "displayName": "Yana Kiprova",
      "userId": "05029747295494730402"
     },
     "user_tz": -60
    },
    "id": "ZU1q4KvK6aaX",
    "outputId": "10cb51d8-9e2d-4f3c-8e47-fd910bed2b23"
   },
   "outputs": [],
   "source": [
    "# Attempt to retrieve transcripts for first 1000 failed cases\n",
    "\n",
    "for index, row in tqdm(df_IP.iloc[:1000].iterrows(), total=1000, desc=\"Retrying transcripts\"):\n",
    "    #time.sleep(5)\n",
    "    df_IP.at[index, 'new_transcript'] = get_transcript(row['video_id'])"
   ]
  },
  {
   "cell_type": "code",
   "execution_count": null,
   "metadata": {
    "colab": {
     "base_uri": "https://localhost:8080/",
     "height": 49,
     "referenced_widgets": [
      "b52fbec8e1ab4065b91a7b4003461705",
      "4c945860fbdb459d81c1ce8ae7f67d19",
      "161b1aa20f9c4e4db1f9b5d116e08140",
      "de8901a9dabf46d3be8b0a4caef467cc",
      "5bcd639297304280be165b9404867314",
      "ba438483d1234c10b71668f72a9c77aa",
      "b0ee65e5961141beaddcafcb9004d0b4",
      "2328448f0b7547218e391ed777c29f85",
      "52ba0ca29276433787065e2d027dbe74",
      "0efdedcc94334299ba30b7f985d5b8ce",
      "bc22be5bb5ba4df68ed6550a1741cd3a"
     ]
    },
    "executionInfo": {
     "elapsed": 2584682,
     "status": "ok",
     "timestamp": 1741955297431,
     "user": {
      "displayName": "Yana Kiprova",
      "userId": "05029747295494730402"
     },
     "user_tz": -60
    },
    "id": "PWl0zEaJAXJ0",
    "outputId": "3f77699b-1b2d-4d82-f661-3ecec83ac964"
   },
   "outputs": [],
   "source": [
    "# running the function through all the rows in batches\n",
    "\n",
    "for index, row in tqdm(df_IP.iloc[7000:].iterrows(), total=1000, desc=\"Retrying transcripts\"):\n",
    "    time.sleep(3)\n",
    "    df_IP.at[index, 'new_transcript'] = get_transcript(row['video_id'])"
   ]
  },
  {
   "cell_type": "code",
   "execution_count": null,
   "metadata": {
    "colab": {
     "base_uri": "https://localhost:8080/"
    },
    "executionInfo": {
     "elapsed": 63,
     "status": "ok",
     "timestamp": 1741956075694,
     "user": {
      "displayName": "Yana Kiprova",
      "userId": "05029747295494730402"
     },
     "user_tz": -60
    },
    "id": "77ZfyLuM-zqI",
    "outputId": "d54e943f-1b7d-4c04-d6d0-3e35dd7f120a"
   },
   "outputs": [],
   "source": [
    "x = df_IP.iloc[7000:]\n",
    "error_count = x[x['new_transcript'].str.startswith(\"Error\", na=False)].shape[0]\n",
    "print(f\"Total transcripts with errors: {error_count}\")\n",
    "error_count = df_IP[df_IP['new_transcript'].str.startswith(\"Error\", na=False)].shape[0]\n",
    "print(f\"Total transcripts with errors: {error_count}\")"
   ]
  },
  {
   "cell_type": "code",
   "execution_count": null,
   "metadata": {
    "colab": {
     "base_uri": "https://localhost:8080/",
     "height": 34
    },
    "executionInfo": {
     "elapsed": 2293,
     "status": "ok",
     "timestamp": 1741956098270,
     "user": {
      "displayName": "Yana Kiprova",
      "userId": "05029747295494730402"
     },
     "user_tz": -60
    },
    "id": "_h-KADfWbMAH",
    "outputId": "448ea8b1-25d4-4268-bca1-e83db42c45df"
   },
   "outputs": [],
   "source": [
    "df_IP.to_csv(\"IP_errors3.csv\")\n",
    "files.download('IP_errors3.csv')"
   ]
  },
  {
   "cell_type": "code",
   "execution_count": null,
   "metadata": {
    "colab": {
     "base_uri": "https://localhost:8080/",
     "height": 71
    },
    "executionInfo": {
     "elapsed": 205521,
     "status": "ok",
     "timestamp": 1741958675572,
     "user": {
      "displayName": "Yana Kiprova",
      "userId": "05029747295494730402"
     },
     "user_tz": -60
    },
    "id": "C9wzqbmevDQJ",
    "outputId": "137c3fb7-e375-4cad-b767-446663668c33"
   },
   "outputs": [],
   "source": [
    "uploaded = files.upload()"
   ]
  },
  {
   "cell_type": "code",
   "execution_count": null,
   "metadata": {
    "id": "yTKVZ4xb-zS0"
   },
   "outputs": [],
   "source": [
    "df_IP = pd.read_csv(\"IP_errors3.csv\")"
   ]
  },
  {
   "cell_type": "code",
   "execution_count": null,
   "metadata": {
    "id": "UPy1PNwNzjcZ"
   },
   "outputs": [],
   "source": [
    "all_transcripts = pd.read_csv(\"all_videos_transcript.csv\")\n",
    "all_transcripts_old = pd.read_csv(\"all_videos_transcript.csv\")"
   ]
  },
  {
   "cell_type": "code",
   "execution_count": null,
   "metadata": {
    "id": "FM09AFHL0SzK"
   },
   "outputs": [],
   "source": [
    "df_IP = df_IP.drop(columns=['transcript'])\n",
    "df_IP = df_IP.rename(columns={'new_transcript': 'transcript'})  # Rename column"
   ]
  },
  {
   "cell_type": "code",
   "execution_count": null,
   "metadata": {
    "id": "c88EQUDQ1sGE"
   },
   "outputs": [],
   "source": [
    "# Merging the two dataframes\n",
    "all_transcripts.update(df_IP)"
   ]
  },
  {
   "cell_type": "code",
   "execution_count": null,
   "metadata": {
    "colab": {
     "base_uri": "https://localhost:8080/"
    },
    "executionInfo": {
     "elapsed": 12,
     "status": "ok",
     "timestamp": 1741958948287,
     "user": {
      "displayName": "Yana Kiprova",
      "userId": "05029747295494730402"
     },
     "user_tz": -60
    },
    "id": "nlKZQKhi1IXV",
    "outputId": "64174d9f-bd90-46fe-ddd3-2dabe07350f2"
   },
   "outputs": [],
   "source": [
    "all_transcripts.shape"
   ]
  },
  {
   "cell_type": "code",
   "execution_count": null,
   "metadata": {
    "colab": {
     "base_uri": "https://localhost:8080/"
    },
    "executionInfo": {
     "elapsed": 108,
     "status": "ok",
     "timestamp": 1741959103227,
     "user": {
      "displayName": "Yana Kiprova",
      "userId": "05029747295494730402"
     },
     "user_tz": -60
    },
    "id": "aF_mdnqr2M_d",
    "outputId": "7bbf69a7-f4b7-42b9-abd7-7d917747bf32"
   },
   "outputs": [],
   "source": [
    "error_count = all_transcripts[all_transcripts['transcript'].str.startswith(\"Error\", na=False)].shape[0]\n",
    "print(f\"Total transcripts with errors: {error_count}\")\n",
    "error_count = df_IP[df_IP['transcript'].str.startswith(\"Error\", na=False)].shape[0]\n",
    "print(f\"Total transcripts with errors: {error_count}\")"
   ]
  },
  {
   "cell_type": "code",
   "execution_count": null,
   "metadata": {
    "colab": {
     "base_uri": "https://localhost:8080/"
    },
    "executionInfo": {
     "elapsed": 5576,
     "status": "ok",
     "timestamp": 1741959388237,
     "user": {
      "displayName": "Yana Kiprova",
      "userId": "05029747295494730402"
     },
     "user_tz": -60
    },
    "id": "3QPnMkhf2aK7",
    "outputId": "5021de40-c979-46aa-8065-f81bbbc0ecfd"
   },
   "outputs": [],
   "source": [
    "error_count = all_transcripts[all_transcripts['transcript'].str.startswith(\"Error\", na=False)].shape[0]\n",
    "print(f\"Total transcripts with errors: {error_count}\")\n",
    "error_count = all_transcripts[all_transcripts['transcript'].str.contains('age-restricted', case=False, na=False)].shape[0]\n",
    "print(f\"Total transcripts with age-restricted errors: {error_count}\")\n",
    "error_count = all_transcripts[all_transcripts['transcript'].str.contains('Subtitles are disabled', case=False, na=False)].shape[0]\n",
    "print(f\"Total transcripts with subtitles are disabled errors: {error_count}\")\n",
    "error_count = all_transcripts[all_transcripts['transcript'].str.contains('video is unplayable', case=False, na=False)].shape[0]\n",
    "print(f\"Total transcripts with video is unplayable errors: {error_count}\")\n",
    "error_count = all_transcripts[all_transcripts['transcript'].str.contains('requested language codes:', case=False, na=False)].shape[0]\n",
    "print(f\"Total transcripts with requested language codes: ['es'] errors: {error_count}\")\n",
    "error_count = all_transcripts[all_transcripts['transcript'].str.contains('YouTube is blocking requests from your IP', case=False, na=False)].shape[0]\n",
    "print(f\"Total transcripts with IP errors: {error_count}\")\n"
   ]
  },
  {
   "cell_type": "code",
   "execution_count": null,
   "metadata": {
    "id": "MBNWI5uuOU9I"
   },
   "outputs": [],
   "source": [
    "# Merging the two dataframes\n",
    "all_transcripts.update(df_IP)"
   ]
  },
  {
   "cell_type": "code",
   "execution_count": null,
   "metadata": {
    "colab": {
     "base_uri": "https://localhost:8080/",
     "height": 17
    },
    "executionInfo": {
     "elapsed": 2345,
     "status": "ok",
     "timestamp": 1741966233837,
     "user": {
      "displayName": "Yana Kiprova",
      "userId": "05029747295494730402"
     },
     "user_tz": -60
    },
    "id": "GrO1yWzhReeu",
    "outputId": "50b2645e-56fa-4fe3-9701-0d6132cb2f67"
   },
   "outputs": [],
   "source": [
    "all_transcripts.to_csv(\"all_transcripts2.csv\")\n",
    "files.download('all_transcripts2.csv')"
   ]
  },
  {
   "cell_type": "code",
   "execution_count": null,
   "metadata": {
    "colab": {
     "base_uri": "https://localhost:8080/",
     "height": 158
    },
    "executionInfo": {
     "elapsed": 28,
     "status": "error",
     "timestamp": 1742033728063,
     "user": {
      "displayName": "Maricruz Serpa",
      "userId": "11370590112332842903"
     },
     "user_tz": -60
    },
    "id": "gfqjKIJzR6F8",
    "outputId": "559d4523-c79f-4696-c326-e83d34dc8dde"
   },
   "outputs": [],
   "source": [
    "uploaded = files.upload()"
   ]
  },
  {
   "cell_type": "code",
   "execution_count": null,
   "metadata": {
    "colab": {
     "base_uri": "https://localhost:8080/",
     "height": 304
    },
    "executionInfo": {
     "elapsed": 77,
     "status": "error",
     "timestamp": 1742033803354,
     "user": {
      "displayName": "Maricruz Serpa",
      "userId": "11370590112332842903"
     },
     "user_tz": -60
    },
    "id": "WB-rP3BOSG_F",
    "outputId": "4560f24b-a71f-457b-d4f2-1d19158af0c5"
   },
   "outputs": [],
   "source": [
    "all_transcripts = pd.read_csv(\"/all_transcripts2.csv\")"
   ]
  },
  {
   "cell_type": "code",
   "execution_count": null,
   "metadata": {
    "colab": {
     "base_uri": "https://localhost:8080/"
    },
    "executionInfo": {
     "elapsed": 740,
     "status": "ok",
     "timestamp": 1741968627414,
     "user": {
      "displayName": "Maricruz Serpa",
      "userId": "11370590112332842903"
     },
     "user_tz": -60
    },
    "id": "BmXxpB-K33lD",
    "outputId": "d2d0d96e-5ca4-4398-8821-283f996710e1"
   },
   "outputs": [],
   "source": [
    "# separating the errors\n",
    "df_IP2 = all_transcripts[all_transcripts['transcript'].str.contains('YouTube is blocking requests from your IP', case=False, na=False)]\n",
    "df_IP2.shape"
   ]
  },
  {
   "cell_type": "code",
   "execution_count": null,
   "metadata": {
    "id": "Ooq7L173Sc73"
   },
   "outputs": [],
   "source": [
    "# function for fetching the data inc. the errors\n",
    "def get_transcript(video_id, language='es'):\n",
    "    try:\n",
    "        transcript = YouTubeTranscriptApi.get_transcript(video_id, languages=[language])\n",
    "        return \" \".join([line['text'] for line in transcript])\n",
    "    except Exception as e:\n",
    "        return f\"Error: {e}\""
   ]
  },
  {
   "cell_type": "code",
   "execution_count": null,
   "metadata": {
    "colab": {
     "base_uri": "https://localhost:8080/",
     "height": 49,
     "referenced_widgets": [
      "f4daf7e9735c45bdae5879700305d58d",
      "96eb737c0e51426ea2cefe331c1c0906",
      "074861e87899499aa5f76c87d0da1069",
      "f20c96b869134acfb05e0bb510afab06",
      "925e1159ceb24e55946e0ec64197ee63",
      "8937595ff9f044feb6d330b6445a9141",
      "b9ad63fa65414b0b89dcd7fea52ea2f7",
      "4d448d0719714f4a897f79436c90d1cd",
      "0a9a81de45a9417f9f38d7ac2be6fd26",
      "ce10a7ee217c424686da22854b281259",
      "87005c3fead545c0825582b44176dca2"
     ]
    },
    "executionInfo": {
     "elapsed": 5826870,
     "status": "ok",
     "timestamp": 1741976445820,
     "user": {
      "displayName": "Maricruz Serpa",
      "userId": "11370590112332842903"
     },
     "user_tz": -60
    },
    "id": "sOzV9Va14P-A",
    "outputId": "90c18562-3fc2-4455-a8a3-753f0e02d3c6"
   },
   "outputs": [],
   "source": [
    "# applying the function,\n",
    "for index, row in tqdm(df_IP2.iterrows(), total = 1421, desc=\"Retrying transcripts\"):\n",
    "    time.sleep(3)\n",
    "    df_IP2.at[index, 'new_transcript'] = get_transcript(row['video_id'])"
   ]
  },
  {
   "cell_type": "code",
   "execution_count": null,
   "metadata": {
    "colab": {
     "base_uri": "https://localhost:8080/",
     "height": 590
    },
    "executionInfo": {
     "elapsed": 48,
     "status": "ok",
     "timestamp": 1741976555411,
     "user": {
      "displayName": "Maricruz Serpa",
      "userId": "11370590112332842903"
     },
     "user_tz": -60
    },
    "id": "fSMKh2Cnhh-L",
    "outputId": "f8551b29-b744-4ed5-f608-98d8329150c0"
   },
   "outputs": [],
   "source": [
    "df_IP2.head()"
   ]
  },
  {
   "cell_type": "code",
   "execution_count": null,
   "metadata": {
    "colab": {
     "base_uri": "https://localhost:8080/"
    },
    "executionInfo": {
     "elapsed": 5,
     "status": "ok",
     "timestamp": 1741976564706,
     "user": {
      "displayName": "Maricruz Serpa",
      "userId": "11370590112332842903"
     },
     "user_tz": -60
    },
    "id": "8YlVbUkRFvqO",
    "outputId": "7832807e-fc4d-4f1d-9b57-3fbd04c6e3a6"
   },
   "outputs": [],
   "source": [
    "#testing the performance\n",
    "x = df_IP2.iloc[:60]\n",
    "error_count = x[x['new_transcript'].str.startswith(\"Error\", na=False)].shape[0]\n",
    "print(f\"Total transcripts with errors: {error_count}\")\n",
    "error_count = df_IP2[df_IP2['new_transcript'].str.startswith(\"Error\", na=False)].shape[0]\n",
    "print(f\"Total transcripts with errors: {error_count}\")"
   ]
  },
  {
   "cell_type": "code",
   "execution_count": null,
   "metadata": {
    "id": "qo8FPJfmGOxI"
   },
   "outputs": [],
   "source": [
    "# preparing the df to merge with the whole corpus\n",
    "df_IP2 = df_IP2.drop(columns=['transcript'])\n",
    "df_IP2 = df_IP2.rename(columns={'new_transcript': 'transcript'})  # Rename column"
   ]
  },
  {
   "cell_type": "code",
   "execution_count": null,
   "metadata": {
    "id": "l_Xl_6lY5U-I"
   },
   "outputs": [],
   "source": [
    "df_IP2.to_csv(\"/df_IP2.csv\")"
   ]
  },
  {
   "cell_type": "code",
   "execution_count": null,
   "metadata": {
    "id": "qVGzsID3Osmz"
   },
   "outputs": [],
   "source": [
    "# Merging the two dataframes\n",
    "all_transcripts.update(df_IP2)"
   ]
  }
 ],
 "metadata": {
  "colab": {
   "provenance": [],
   "toc_visible": true
  },
  "kernelspec": {
   "display_name": "Python 3 (ipykernel)",
   "language": "python",
   "name": "python3"
  },
  "language_info": {
   "codemirror_mode": {
    "name": "ipython",
    "version": 3
   },
   "file_extension": ".py",
   "mimetype": "text/x-python",
   "name": "python",
   "nbconvert_exporter": "python",
   "pygments_lexer": "ipython3",
   "version": "3.11.4"
  },
  "widgets": {
   "application/vnd.jupyter.widget-state+json": {
    "074861e87899499aa5f76c87d0da1069": {
     "model_module": "@jupyter-widgets/controls",
     "model_module_version": "1.5.0",
     "model_name": "FloatProgressModel",
     "state": {
      "_dom_classes": [],
      "_model_module": "@jupyter-widgets/controls",
      "_model_module_version": "1.5.0",
      "_model_name": "FloatProgressModel",
      "_view_count": null,
      "_view_module": "@jupyter-widgets/controls",
      "_view_module_version": "1.5.0",
      "_view_name": "ProgressView",
      "bar_style": "success",
      "description": "",
      "description_tooltip": null,
      "layout": "IPY_MODEL_4d448d0719714f4a897f79436c90d1cd",
      "max": 1421,
      "min": 0,
      "orientation": "horizontal",
      "style": "IPY_MODEL_0a9a81de45a9417f9f38d7ac2be6fd26",
      "value": 1421
     }
    },
    "07eddc64f2e14a159a321f9f926c6b0c": {
     "model_module": "@jupyter-widgets/base",
     "model_module_version": "1.2.0",
     "model_name": "LayoutModel",
     "state": {
      "_model_module": "@jupyter-widgets/base",
      "_model_module_version": "1.2.0",
      "_model_name": "LayoutModel",
      "_view_count": null,
      "_view_module": "@jupyter-widgets/base",
      "_view_module_version": "1.2.0",
      "_view_name": "LayoutView",
      "align_content": null,
      "align_items": null,
      "align_self": null,
      "border": null,
      "bottom": null,
      "display": null,
      "flex": null,
      "flex_flow": null,
      "grid_area": null,
      "grid_auto_columns": null,
      "grid_auto_flow": null,
      "grid_auto_rows": null,
      "grid_column": null,
      "grid_gap": null,
      "grid_row": null,
      "grid_template_areas": null,
      "grid_template_columns": null,
      "grid_template_rows": null,
      "height": null,
      "justify_content": null,
      "justify_items": null,
      "left": null,
      "margin": null,
      "max_height": null,
      "max_width": null,
      "min_height": null,
      "min_width": null,
      "object_fit": null,
      "object_position": null,
      "order": null,
      "overflow": null,
      "overflow_x": null,
      "overflow_y": null,
      "padding": null,
      "right": null,
      "top": null,
      "visibility": null,
      "width": null
     }
    },
    "0a9a81de45a9417f9f38d7ac2be6fd26": {
     "model_module": "@jupyter-widgets/controls",
     "model_module_version": "1.5.0",
     "model_name": "ProgressStyleModel",
     "state": {
      "_model_module": "@jupyter-widgets/controls",
      "_model_module_version": "1.5.0",
      "_model_name": "ProgressStyleModel",
      "_view_count": null,
      "_view_module": "@jupyter-widgets/base",
      "_view_module_version": "1.2.0",
      "_view_name": "StyleView",
      "bar_color": null,
      "description_width": ""
     }
    },
    "0b48456dd84741608426a085c30d8127": {
     "model_module": "@jupyter-widgets/controls",
     "model_module_version": "1.5.0",
     "model_name": "DescriptionStyleModel",
     "state": {
      "_model_module": "@jupyter-widgets/controls",
      "_model_module_version": "1.5.0",
      "_model_name": "DescriptionStyleModel",
      "_view_count": null,
      "_view_module": "@jupyter-widgets/base",
      "_view_module_version": "1.2.0",
      "_view_name": "StyleView",
      "description_width": ""
     }
    },
    "0d097e72045547e8b743f9cc84699bfa": {
     "model_module": "@jupyter-widgets/controls",
     "model_module_version": "1.5.0",
     "model_name": "HBoxModel",
     "state": {
      "_dom_classes": [],
      "_model_module": "@jupyter-widgets/controls",
      "_model_module_version": "1.5.0",
      "_model_name": "HBoxModel",
      "_view_count": null,
      "_view_module": "@jupyter-widgets/controls",
      "_view_module_version": "1.5.0",
      "_view_name": "HBoxView",
      "box_style": "",
      "children": [
       "IPY_MODEL_c14d299a610545b78680087d1cb7e9c8",
       "IPY_MODEL_ecdde67f3fa349748381a153eb327a81",
       "IPY_MODEL_e5c7810972a142cd80544c5a9a8f360d"
      ],
      "layout": "IPY_MODEL_63de0247d191448282ea12ac4ab52581"
     }
    },
    "0d528647d4ec4159aa065f2a389ef35d": {
     "model_module": "@jupyter-widgets/controls",
     "model_module_version": "1.5.0",
     "model_name": "ProgressStyleModel",
     "state": {
      "_model_module": "@jupyter-widgets/controls",
      "_model_module_version": "1.5.0",
      "_model_name": "ProgressStyleModel",
      "_view_count": null,
      "_view_module": "@jupyter-widgets/base",
      "_view_module_version": "1.2.0",
      "_view_name": "StyleView",
      "bar_color": null,
      "description_width": ""
     }
    },
    "0efdedcc94334299ba30b7f985d5b8ce": {
     "model_module": "@jupyter-widgets/base",
     "model_module_version": "1.2.0",
     "model_name": "LayoutModel",
     "state": {
      "_model_module": "@jupyter-widgets/base",
      "_model_module_version": "1.2.0",
      "_model_name": "LayoutModel",
      "_view_count": null,
      "_view_module": "@jupyter-widgets/base",
      "_view_module_version": "1.2.0",
      "_view_name": "LayoutView",
      "align_content": null,
      "align_items": null,
      "align_self": null,
      "border": null,
      "bottom": null,
      "display": null,
      "flex": null,
      "flex_flow": null,
      "grid_area": null,
      "grid_auto_columns": null,
      "grid_auto_flow": null,
      "grid_auto_rows": null,
      "grid_column": null,
      "grid_gap": null,
      "grid_row": null,
      "grid_template_areas": null,
      "grid_template_columns": null,
      "grid_template_rows": null,
      "height": null,
      "justify_content": null,
      "justify_items": null,
      "left": null,
      "margin": null,
      "max_height": null,
      "max_width": null,
      "min_height": null,
      "min_width": null,
      "object_fit": null,
      "object_position": null,
      "order": null,
      "overflow": null,
      "overflow_x": null,
      "overflow_y": null,
      "padding": null,
      "right": null,
      "top": null,
      "visibility": null,
      "width": null
     }
    },
    "161b1aa20f9c4e4db1f9b5d116e08140": {
     "model_module": "@jupyter-widgets/controls",
     "model_module_version": "1.5.0",
     "model_name": "FloatProgressModel",
     "state": {
      "_dom_classes": [],
      "_model_module": "@jupyter-widgets/controls",
      "_model_module_version": "1.5.0",
      "_model_name": "FloatProgressModel",
      "_view_count": null,
      "_view_module": "@jupyter-widgets/controls",
      "_view_module_version": "1.5.0",
      "_view_name": "ProgressView",
      "bar_style": "danger",
      "description": "",
      "description_tooltip": null,
      "layout": "IPY_MODEL_2328448f0b7547218e391ed777c29f85",
      "max": 1000,
      "min": 0,
      "orientation": "horizontal",
      "style": "IPY_MODEL_52ba0ca29276433787065e2d027dbe74",
      "value": 674
     }
    },
    "1c4a93688ef94ce081dfc4f1d8a88307": {
     "model_module": "@jupyter-widgets/base",
     "model_module_version": "1.2.0",
     "model_name": "LayoutModel",
     "state": {
      "_model_module": "@jupyter-widgets/base",
      "_model_module_version": "1.2.0",
      "_model_name": "LayoutModel",
      "_view_count": null,
      "_view_module": "@jupyter-widgets/base",
      "_view_module_version": "1.2.0",
      "_view_name": "LayoutView",
      "align_content": null,
      "align_items": null,
      "align_self": null,
      "border": null,
      "bottom": null,
      "display": null,
      "flex": null,
      "flex_flow": null,
      "grid_area": null,
      "grid_auto_columns": null,
      "grid_auto_flow": null,
      "grid_auto_rows": null,
      "grid_column": null,
      "grid_gap": null,
      "grid_row": null,
      "grid_template_areas": null,
      "grid_template_columns": null,
      "grid_template_rows": null,
      "height": null,
      "justify_content": null,
      "justify_items": null,
      "left": null,
      "margin": null,
      "max_height": null,
      "max_width": null,
      "min_height": null,
      "min_width": null,
      "object_fit": null,
      "object_position": null,
      "order": null,
      "overflow": null,
      "overflow_x": null,
      "overflow_y": null,
      "padding": null,
      "right": null,
      "top": null,
      "visibility": null,
      "width": null
     }
    },
    "2328448f0b7547218e391ed777c29f85": {
     "model_module": "@jupyter-widgets/base",
     "model_module_version": "1.2.0",
     "model_name": "LayoutModel",
     "state": {
      "_model_module": "@jupyter-widgets/base",
      "_model_module_version": "1.2.0",
      "_model_name": "LayoutModel",
      "_view_count": null,
      "_view_module": "@jupyter-widgets/base",
      "_view_module_version": "1.2.0",
      "_view_name": "LayoutView",
      "align_content": null,
      "align_items": null,
      "align_self": null,
      "border": null,
      "bottom": null,
      "display": null,
      "flex": null,
      "flex_flow": null,
      "grid_area": null,
      "grid_auto_columns": null,
      "grid_auto_flow": null,
      "grid_auto_rows": null,
      "grid_column": null,
      "grid_gap": null,
      "grid_row": null,
      "grid_template_areas": null,
      "grid_template_columns": null,
      "grid_template_rows": null,
      "height": null,
      "justify_content": null,
      "justify_items": null,
      "left": null,
      "margin": null,
      "max_height": null,
      "max_width": null,
      "min_height": null,
      "min_width": null,
      "object_fit": null,
      "object_position": null,
      "order": null,
      "overflow": null,
      "overflow_x": null,
      "overflow_y": null,
      "padding": null,
      "right": null,
      "top": null,
      "visibility": null,
      "width": null
     }
    },
    "2465b4b8d0b54f13a4395329f12a23bb": {
     "model_module": "@jupyter-widgets/controls",
     "model_module_version": "1.5.0",
     "model_name": "HTMLModel",
     "state": {
      "_dom_classes": [],
      "_model_module": "@jupyter-widgets/controls",
      "_model_module_version": "1.5.0",
      "_model_name": "HTMLModel",
      "_view_count": null,
      "_view_module": "@jupyter-widgets/controls",
      "_view_module_version": "1.5.0",
      "_view_name": "HTMLView",
      "description": "",
      "description_tooltip": null,
      "layout": "IPY_MODEL_946d258faeac45d48db894d4b7c19e7d",
      "placeholder": "​",
      "style": "IPY_MODEL_f497f1637c2d4f2b9f98a5be37579cdb",
      "value": "100%"
     }
    },
    "2f974ed68d5443e3ae5a66d0339cf335": {
     "model_module": "@jupyter-widgets/controls",
     "model_module_version": "1.5.0",
     "model_name": "DescriptionStyleModel",
     "state": {
      "_model_module": "@jupyter-widgets/controls",
      "_model_module_version": "1.5.0",
      "_model_name": "DescriptionStyleModel",
      "_view_count": null,
      "_view_module": "@jupyter-widgets/base",
      "_view_module_version": "1.2.0",
      "_view_name": "StyleView",
      "description_width": ""
     }
    },
    "33850b277eb7459cb97dab0c69407a1c": {
     "model_module": "@jupyter-widgets/base",
     "model_module_version": "1.2.0",
     "model_name": "LayoutModel",
     "state": {
      "_model_module": "@jupyter-widgets/base",
      "_model_module_version": "1.2.0",
      "_model_name": "LayoutModel",
      "_view_count": null,
      "_view_module": "@jupyter-widgets/base",
      "_view_module_version": "1.2.0",
      "_view_name": "LayoutView",
      "align_content": null,
      "align_items": null,
      "align_self": null,
      "border": null,
      "bottom": null,
      "display": null,
      "flex": null,
      "flex_flow": null,
      "grid_area": null,
      "grid_auto_columns": null,
      "grid_auto_flow": null,
      "grid_auto_rows": null,
      "grid_column": null,
      "grid_gap": null,
      "grid_row": null,
      "grid_template_areas": null,
      "grid_template_columns": null,
      "grid_template_rows": null,
      "height": null,
      "justify_content": null,
      "justify_items": null,
      "left": null,
      "margin": null,
      "max_height": null,
      "max_width": null,
      "min_height": null,
      "min_width": null,
      "object_fit": null,
      "object_position": null,
      "order": null,
      "overflow": null,
      "overflow_x": null,
      "overflow_y": null,
      "padding": null,
      "right": null,
      "top": null,
      "visibility": null,
      "width": null
     }
    },
    "3cef630a1d264a59a1971224d7f26253": {
     "model_module": "@jupyter-widgets/controls",
     "model_module_version": "1.5.0",
     "model_name": "HTMLModel",
     "state": {
      "_dom_classes": [],
      "_model_module": "@jupyter-widgets/controls",
      "_model_module_version": "1.5.0",
      "_model_name": "HTMLModel",
      "_view_count": null,
      "_view_module": "@jupyter-widgets/controls",
      "_view_module_version": "1.5.0",
      "_view_name": "HTMLView",
      "description": "",
      "description_tooltip": null,
      "layout": "IPY_MODEL_07eddc64f2e14a159a321f9f926c6b0c",
      "placeholder": "​",
      "style": "IPY_MODEL_afe8e9ae50b84cd0bafa53ea0c5b25af",
      "value": " 100/100 [09:14&lt;00:00,  5.55s/it]"
     }
    },
    "3d1fc16cb3394fbf9e5fe1ea04a8de4d": {
     "model_module": "@jupyter-widgets/controls",
     "model_module_version": "1.5.0",
     "model_name": "HBoxModel",
     "state": {
      "_dom_classes": [],
      "_model_module": "@jupyter-widgets/controls",
      "_model_module_version": "1.5.0",
      "_model_name": "HBoxModel",
      "_view_count": null,
      "_view_module": "@jupyter-widgets/controls",
      "_view_module_version": "1.5.0",
      "_view_name": "HBoxView",
      "box_style": "",
      "children": [
       "IPY_MODEL_9ed84c474b0e40ba8ad5d11ebe7ce7be",
       "IPY_MODEL_e4f0e296f8b84ab281b10a5562165d0e",
       "IPY_MODEL_c57cdec0693043f3bcc6877bb0d1cde5"
      ],
      "layout": "IPY_MODEL_f8b734961152438d8e3d336ebc39e9c3"
     }
    },
    "44faea495fbf4b5989310ed8b9cec4d4": {
     "model_module": "@jupyter-widgets/controls",
     "model_module_version": "1.5.0",
     "model_name": "DescriptionStyleModel",
     "state": {
      "_model_module": "@jupyter-widgets/controls",
      "_model_module_version": "1.5.0",
      "_model_name": "DescriptionStyleModel",
      "_view_count": null,
      "_view_module": "@jupyter-widgets/base",
      "_view_module_version": "1.2.0",
      "_view_name": "StyleView",
      "description_width": ""
     }
    },
    "4c945860fbdb459d81c1ce8ae7f67d19": {
     "model_module": "@jupyter-widgets/controls",
     "model_module_version": "1.5.0",
     "model_name": "HTMLModel",
     "state": {
      "_dom_classes": [],
      "_model_module": "@jupyter-widgets/controls",
      "_model_module_version": "1.5.0",
      "_model_name": "HTMLModel",
      "_view_count": null,
      "_view_module": "@jupyter-widgets/controls",
      "_view_module_version": "1.5.0",
      "_view_name": "HTMLView",
      "description": "",
      "description_tooltip": null,
      "layout": "IPY_MODEL_ba438483d1234c10b71668f72a9c77aa",
      "placeholder": "​",
      "style": "IPY_MODEL_b0ee65e5961141beaddcafcb9004d0b4",
      "value": "Retrying transcripts:  67%"
     }
    },
    "4d448d0719714f4a897f79436c90d1cd": {
     "model_module": "@jupyter-widgets/base",
     "model_module_version": "1.2.0",
     "model_name": "LayoutModel",
     "state": {
      "_model_module": "@jupyter-widgets/base",
      "_model_module_version": "1.2.0",
      "_model_name": "LayoutModel",
      "_view_count": null,
      "_view_module": "@jupyter-widgets/base",
      "_view_module_version": "1.2.0",
      "_view_name": "LayoutView",
      "align_content": null,
      "align_items": null,
      "align_self": null,
      "border": null,
      "bottom": null,
      "display": null,
      "flex": null,
      "flex_flow": null,
      "grid_area": null,
      "grid_auto_columns": null,
      "grid_auto_flow": null,
      "grid_auto_rows": null,
      "grid_column": null,
      "grid_gap": null,
      "grid_row": null,
      "grid_template_areas": null,
      "grid_template_columns": null,
      "grid_template_rows": null,
      "height": null,
      "justify_content": null,
      "justify_items": null,
      "left": null,
      "margin": null,
      "max_height": null,
      "max_width": null,
      "min_height": null,
      "min_width": null,
      "object_fit": null,
      "object_position": null,
      "order": null,
      "overflow": null,
      "overflow_x": null,
      "overflow_y": null,
      "padding": null,
      "right": null,
      "top": null,
      "visibility": null,
      "width": null
     }
    },
    "52ba0ca29276433787065e2d027dbe74": {
     "model_module": "@jupyter-widgets/controls",
     "model_module_version": "1.5.0",
     "model_name": "ProgressStyleModel",
     "state": {
      "_model_module": "@jupyter-widgets/controls",
      "_model_module_version": "1.5.0",
      "_model_name": "ProgressStyleModel",
      "_view_count": null,
      "_view_module": "@jupyter-widgets/base",
      "_view_module_version": "1.2.0",
      "_view_name": "StyleView",
      "bar_color": null,
      "description_width": ""
     }
    },
    "56605fbff8294b8c91304a707a61325c": {
     "model_module": "@jupyter-widgets/base",
     "model_module_version": "1.2.0",
     "model_name": "LayoutModel",
     "state": {
      "_model_module": "@jupyter-widgets/base",
      "_model_module_version": "1.2.0",
      "_model_name": "LayoutModel",
      "_view_count": null,
      "_view_module": "@jupyter-widgets/base",
      "_view_module_version": "1.2.0",
      "_view_name": "LayoutView",
      "align_content": null,
      "align_items": null,
      "align_self": null,
      "border": null,
      "bottom": null,
      "display": null,
      "flex": null,
      "flex_flow": null,
      "grid_area": null,
      "grid_auto_columns": null,
      "grid_auto_flow": null,
      "grid_auto_rows": null,
      "grid_column": null,
      "grid_gap": null,
      "grid_row": null,
      "grid_template_areas": null,
      "grid_template_columns": null,
      "grid_template_rows": null,
      "height": null,
      "justify_content": null,
      "justify_items": null,
      "left": null,
      "margin": null,
      "max_height": null,
      "max_width": null,
      "min_height": null,
      "min_width": null,
      "object_fit": null,
      "object_position": null,
      "order": null,
      "overflow": null,
      "overflow_x": null,
      "overflow_y": null,
      "padding": null,
      "right": null,
      "top": null,
      "visibility": null,
      "width": null
     }
    },
    "57b165d8ac414a978fcf99241bb949cd": {
     "model_module": "@jupyter-widgets/controls",
     "model_module_version": "1.5.0",
     "model_name": "ProgressStyleModel",
     "state": {
      "_model_module": "@jupyter-widgets/controls",
      "_model_module_version": "1.5.0",
      "_model_name": "ProgressStyleModel",
      "_view_count": null,
      "_view_module": "@jupyter-widgets/base",
      "_view_module_version": "1.2.0",
      "_view_name": "StyleView",
      "bar_color": null,
      "description_width": ""
     }
    },
    "5bcd639297304280be165b9404867314": {
     "model_module": "@jupyter-widgets/base",
     "model_module_version": "1.2.0",
     "model_name": "LayoutModel",
     "state": {
      "_model_module": "@jupyter-widgets/base",
      "_model_module_version": "1.2.0",
      "_model_name": "LayoutModel",
      "_view_count": null,
      "_view_module": "@jupyter-widgets/base",
      "_view_module_version": "1.2.0",
      "_view_name": "LayoutView",
      "align_content": null,
      "align_items": null,
      "align_self": null,
      "border": null,
      "bottom": null,
      "display": null,
      "flex": null,
      "flex_flow": null,
      "grid_area": null,
      "grid_auto_columns": null,
      "grid_auto_flow": null,
      "grid_auto_rows": null,
      "grid_column": null,
      "grid_gap": null,
      "grid_row": null,
      "grid_template_areas": null,
      "grid_template_columns": null,
      "grid_template_rows": null,
      "height": null,
      "justify_content": null,
      "justify_items": null,
      "left": null,
      "margin": null,
      "max_height": null,
      "max_width": null,
      "min_height": null,
      "min_width": null,
      "object_fit": null,
      "object_position": null,
      "order": null,
      "overflow": null,
      "overflow_x": null,
      "overflow_y": null,
      "padding": null,
      "right": null,
      "top": null,
      "visibility": null,
      "width": null
     }
    },
    "63de0247d191448282ea12ac4ab52581": {
     "model_module": "@jupyter-widgets/base",
     "model_module_version": "1.2.0",
     "model_name": "LayoutModel",
     "state": {
      "_model_module": "@jupyter-widgets/base",
      "_model_module_version": "1.2.0",
      "_model_name": "LayoutModel",
      "_view_count": null,
      "_view_module": "@jupyter-widgets/base",
      "_view_module_version": "1.2.0",
      "_view_name": "LayoutView",
      "align_content": null,
      "align_items": null,
      "align_self": null,
      "border": null,
      "bottom": null,
      "display": null,
      "flex": null,
      "flex_flow": null,
      "grid_area": null,
      "grid_auto_columns": null,
      "grid_auto_flow": null,
      "grid_auto_rows": null,
      "grid_column": null,
      "grid_gap": null,
      "grid_row": null,
      "grid_template_areas": null,
      "grid_template_columns": null,
      "grid_template_rows": null,
      "height": null,
      "justify_content": null,
      "justify_items": null,
      "left": null,
      "margin": null,
      "max_height": null,
      "max_width": null,
      "min_height": null,
      "min_width": null,
      "object_fit": null,
      "object_position": null,
      "order": null,
      "overflow": null,
      "overflow_x": null,
      "overflow_y": null,
      "padding": null,
      "right": null,
      "top": null,
      "visibility": null,
      "width": null
     }
    },
    "6b429adf10824cc0af4bf2c0e73ce3e9": {
     "model_module": "@jupyter-widgets/base",
     "model_module_version": "1.2.0",
     "model_name": "LayoutModel",
     "state": {
      "_model_module": "@jupyter-widgets/base",
      "_model_module_version": "1.2.0",
      "_model_name": "LayoutModel",
      "_view_count": null,
      "_view_module": "@jupyter-widgets/base",
      "_view_module_version": "1.2.0",
      "_view_name": "LayoutView",
      "align_content": null,
      "align_items": null,
      "align_self": null,
      "border": null,
      "bottom": null,
      "display": null,
      "flex": null,
      "flex_flow": null,
      "grid_area": null,
      "grid_auto_columns": null,
      "grid_auto_flow": null,
      "grid_auto_rows": null,
      "grid_column": null,
      "grid_gap": null,
      "grid_row": null,
      "grid_template_areas": null,
      "grid_template_columns": null,
      "grid_template_rows": null,
      "height": null,
      "justify_content": null,
      "justify_items": null,
      "left": null,
      "margin": null,
      "max_height": null,
      "max_width": null,
      "min_height": null,
      "min_width": null,
      "object_fit": null,
      "object_position": null,
      "order": null,
      "overflow": null,
      "overflow_x": null,
      "overflow_y": null,
      "padding": null,
      "right": null,
      "top": null,
      "visibility": null,
      "width": null
     }
    },
    "6f1f802ab08f41eeb7c0fe852d285da5": {
     "model_module": "@jupyter-widgets/controls",
     "model_module_version": "1.5.0",
     "model_name": "DescriptionStyleModel",
     "state": {
      "_model_module": "@jupyter-widgets/controls",
      "_model_module_version": "1.5.0",
      "_model_name": "DescriptionStyleModel",
      "_view_count": null,
      "_view_module": "@jupyter-widgets/base",
      "_view_module_version": "1.2.0",
      "_view_name": "StyleView",
      "description_width": ""
     }
    },
    "720a78ae1bdb4890bf3bd7df2eff6c3a": {
     "model_module": "@jupyter-widgets/controls",
     "model_module_version": "1.5.0",
     "model_name": "ProgressStyleModel",
     "state": {
      "_model_module": "@jupyter-widgets/controls",
      "_model_module_version": "1.5.0",
      "_model_name": "ProgressStyleModel",
      "_view_count": null,
      "_view_module": "@jupyter-widgets/base",
      "_view_module_version": "1.2.0",
      "_view_name": "StyleView",
      "bar_color": null,
      "description_width": ""
     }
    },
    "75cc97ffd8184db3a329e6c448ea7376": {
     "model_module": "@jupyter-widgets/base",
     "model_module_version": "1.2.0",
     "model_name": "LayoutModel",
     "state": {
      "_model_module": "@jupyter-widgets/base",
      "_model_module_version": "1.2.0",
      "_model_name": "LayoutModel",
      "_view_count": null,
      "_view_module": "@jupyter-widgets/base",
      "_view_module_version": "1.2.0",
      "_view_name": "LayoutView",
      "align_content": null,
      "align_items": null,
      "align_self": null,
      "border": null,
      "bottom": null,
      "display": null,
      "flex": null,
      "flex_flow": null,
      "grid_area": null,
      "grid_auto_columns": null,
      "grid_auto_flow": null,
      "grid_auto_rows": null,
      "grid_column": null,
      "grid_gap": null,
      "grid_row": null,
      "grid_template_areas": null,
      "grid_template_columns": null,
      "grid_template_rows": null,
      "height": null,
      "justify_content": null,
      "justify_items": null,
      "left": null,
      "margin": null,
      "max_height": null,
      "max_width": null,
      "min_height": null,
      "min_width": null,
      "object_fit": null,
      "object_position": null,
      "order": null,
      "overflow": null,
      "overflow_x": null,
      "overflow_y": null,
      "padding": null,
      "right": null,
      "top": null,
      "visibility": null,
      "width": null
     }
    },
    "77e9924cfdb04167b4f53bf84c51c8d8": {
     "model_module": "@jupyter-widgets/base",
     "model_module_version": "1.2.0",
     "model_name": "LayoutModel",
     "state": {
      "_model_module": "@jupyter-widgets/base",
      "_model_module_version": "1.2.0",
      "_model_name": "LayoutModel",
      "_view_count": null,
      "_view_module": "@jupyter-widgets/base",
      "_view_module_version": "1.2.0",
      "_view_name": "LayoutView",
      "align_content": null,
      "align_items": null,
      "align_self": null,
      "border": null,
      "bottom": null,
      "display": null,
      "flex": null,
      "flex_flow": null,
      "grid_area": null,
      "grid_auto_columns": null,
      "grid_auto_flow": null,
      "grid_auto_rows": null,
      "grid_column": null,
      "grid_gap": null,
      "grid_row": null,
      "grid_template_areas": null,
      "grid_template_columns": null,
      "grid_template_rows": null,
      "height": null,
      "justify_content": null,
      "justify_items": null,
      "left": null,
      "margin": null,
      "max_height": null,
      "max_width": null,
      "min_height": null,
      "min_width": null,
      "object_fit": null,
      "object_position": null,
      "order": null,
      "overflow": null,
      "overflow_x": null,
      "overflow_y": null,
      "padding": null,
      "right": null,
      "top": null,
      "visibility": null,
      "width": null
     }
    },
    "7d3c38d8cccd4295b80b7c3377f42669": {
     "model_module": "@jupyter-widgets/base",
     "model_module_version": "1.2.0",
     "model_name": "LayoutModel",
     "state": {
      "_model_module": "@jupyter-widgets/base",
      "_model_module_version": "1.2.0",
      "_model_name": "LayoutModel",
      "_view_count": null,
      "_view_module": "@jupyter-widgets/base",
      "_view_module_version": "1.2.0",
      "_view_name": "LayoutView",
      "align_content": null,
      "align_items": null,
      "align_self": null,
      "border": null,
      "bottom": null,
      "display": null,
      "flex": null,
      "flex_flow": null,
      "grid_area": null,
      "grid_auto_columns": null,
      "grid_auto_flow": null,
      "grid_auto_rows": null,
      "grid_column": null,
      "grid_gap": null,
      "grid_row": null,
      "grid_template_areas": null,
      "grid_template_columns": null,
      "grid_template_rows": null,
      "height": null,
      "justify_content": null,
      "justify_items": null,
      "left": null,
      "margin": null,
      "max_height": null,
      "max_width": null,
      "min_height": null,
      "min_width": null,
      "object_fit": null,
      "object_position": null,
      "order": null,
      "overflow": null,
      "overflow_x": null,
      "overflow_y": null,
      "padding": null,
      "right": null,
      "top": null,
      "visibility": null,
      "width": null
     }
    },
    "84458f06b17f4838ad287c0f54e72f26": {
     "model_module": "@jupyter-widgets/controls",
     "model_module_version": "1.5.0",
     "model_name": "ProgressStyleModel",
     "state": {
      "_model_module": "@jupyter-widgets/controls",
      "_model_module_version": "1.5.0",
      "_model_name": "ProgressStyleModel",
      "_view_count": null,
      "_view_module": "@jupyter-widgets/base",
      "_view_module_version": "1.2.0",
      "_view_name": "StyleView",
      "bar_color": null,
      "description_width": ""
     }
    },
    "87005c3fead545c0825582b44176dca2": {
     "model_module": "@jupyter-widgets/controls",
     "model_module_version": "1.5.0",
     "model_name": "DescriptionStyleModel",
     "state": {
      "_model_module": "@jupyter-widgets/controls",
      "_model_module_version": "1.5.0",
      "_model_name": "DescriptionStyleModel",
      "_view_count": null,
      "_view_module": "@jupyter-widgets/base",
      "_view_module_version": "1.2.0",
      "_view_name": "StyleView",
      "description_width": ""
     }
    },
    "88d8590ccd5d40e585ec2035db2a5729": {
     "model_module": "@jupyter-widgets/controls",
     "model_module_version": "1.5.0",
     "model_name": "HBoxModel",
     "state": {
      "_dom_classes": [],
      "_model_module": "@jupyter-widgets/controls",
      "_model_module_version": "1.5.0",
      "_model_name": "HBoxModel",
      "_view_count": null,
      "_view_module": "@jupyter-widgets/controls",
      "_view_module_version": "1.5.0",
      "_view_name": "HBoxView",
      "box_style": "",
      "children": [
       "IPY_MODEL_b80287e41e684a438010ecf3fe5ae431",
       "IPY_MODEL_d312a28b35dd4b74ab9abb92afee5428",
       "IPY_MODEL_3cef630a1d264a59a1971224d7f26253"
      ],
      "layout": "IPY_MODEL_90c90ee199db4fbfbf6181ad195d0e4b"
     }
    },
    "8937595ff9f044feb6d330b6445a9141": {
     "model_module": "@jupyter-widgets/base",
     "model_module_version": "1.2.0",
     "model_name": "LayoutModel",
     "state": {
      "_model_module": "@jupyter-widgets/base",
      "_model_module_version": "1.2.0",
      "_model_name": "LayoutModel",
      "_view_count": null,
      "_view_module": "@jupyter-widgets/base",
      "_view_module_version": "1.2.0",
      "_view_name": "LayoutView",
      "align_content": null,
      "align_items": null,
      "align_self": null,
      "border": null,
      "bottom": null,
      "display": null,
      "flex": null,
      "flex_flow": null,
      "grid_area": null,
      "grid_auto_columns": null,
      "grid_auto_flow": null,
      "grid_auto_rows": null,
      "grid_column": null,
      "grid_gap": null,
      "grid_row": null,
      "grid_template_areas": null,
      "grid_template_columns": null,
      "grid_template_rows": null,
      "height": null,
      "justify_content": null,
      "justify_items": null,
      "left": null,
      "margin": null,
      "max_height": null,
      "max_width": null,
      "min_height": null,
      "min_width": null,
      "object_fit": null,
      "object_position": null,
      "order": null,
      "overflow": null,
      "overflow_x": null,
      "overflow_y": null,
      "padding": null,
      "right": null,
      "top": null,
      "visibility": null,
      "width": null
     }
    },
    "90c90ee199db4fbfbf6181ad195d0e4b": {
     "model_module": "@jupyter-widgets/base",
     "model_module_version": "1.2.0",
     "model_name": "LayoutModel",
     "state": {
      "_model_module": "@jupyter-widgets/base",
      "_model_module_version": "1.2.0",
      "_model_name": "LayoutModel",
      "_view_count": null,
      "_view_module": "@jupyter-widgets/base",
      "_view_module_version": "1.2.0",
      "_view_name": "LayoutView",
      "align_content": null,
      "align_items": null,
      "align_self": null,
      "border": null,
      "bottom": null,
      "display": null,
      "flex": null,
      "flex_flow": null,
      "grid_area": null,
      "grid_auto_columns": null,
      "grid_auto_flow": null,
      "grid_auto_rows": null,
      "grid_column": null,
      "grid_gap": null,
      "grid_row": null,
      "grid_template_areas": null,
      "grid_template_columns": null,
      "grid_template_rows": null,
      "height": null,
      "justify_content": null,
      "justify_items": null,
      "left": null,
      "margin": null,
      "max_height": null,
      "max_width": null,
      "min_height": null,
      "min_width": null,
      "object_fit": null,
      "object_position": null,
      "order": null,
      "overflow": null,
      "overflow_x": null,
      "overflow_y": null,
      "padding": null,
      "right": null,
      "top": null,
      "visibility": null,
      "width": null
     }
    },
    "925e1159ceb24e55946e0ec64197ee63": {
     "model_module": "@jupyter-widgets/base",
     "model_module_version": "1.2.0",
     "model_name": "LayoutModel",
     "state": {
      "_model_module": "@jupyter-widgets/base",
      "_model_module_version": "1.2.0",
      "_model_name": "LayoutModel",
      "_view_count": null,
      "_view_module": "@jupyter-widgets/base",
      "_view_module_version": "1.2.0",
      "_view_name": "LayoutView",
      "align_content": null,
      "align_items": null,
      "align_self": null,
      "border": null,
      "bottom": null,
      "display": null,
      "flex": null,
      "flex_flow": null,
      "grid_area": null,
      "grid_auto_columns": null,
      "grid_auto_flow": null,
      "grid_auto_rows": null,
      "grid_column": null,
      "grid_gap": null,
      "grid_row": null,
      "grid_template_areas": null,
      "grid_template_columns": null,
      "grid_template_rows": null,
      "height": null,
      "justify_content": null,
      "justify_items": null,
      "left": null,
      "margin": null,
      "max_height": null,
      "max_width": null,
      "min_height": null,
      "min_width": null,
      "object_fit": null,
      "object_position": null,
      "order": null,
      "overflow": null,
      "overflow_x": null,
      "overflow_y": null,
      "padding": null,
      "right": null,
      "top": null,
      "visibility": null,
      "width": null
     }
    },
    "946d258faeac45d48db894d4b7c19e7d": {
     "model_module": "@jupyter-widgets/base",
     "model_module_version": "1.2.0",
     "model_name": "LayoutModel",
     "state": {
      "_model_module": "@jupyter-widgets/base",
      "_model_module_version": "1.2.0",
      "_model_name": "LayoutModel",
      "_view_count": null,
      "_view_module": "@jupyter-widgets/base",
      "_view_module_version": "1.2.0",
      "_view_name": "LayoutView",
      "align_content": null,
      "align_items": null,
      "align_self": null,
      "border": null,
      "bottom": null,
      "display": null,
      "flex": null,
      "flex_flow": null,
      "grid_area": null,
      "grid_auto_columns": null,
      "grid_auto_flow": null,
      "grid_auto_rows": null,
      "grid_column": null,
      "grid_gap": null,
      "grid_row": null,
      "grid_template_areas": null,
      "grid_template_columns": null,
      "grid_template_rows": null,
      "height": null,
      "justify_content": null,
      "justify_items": null,
      "left": null,
      "margin": null,
      "max_height": null,
      "max_width": null,
      "min_height": null,
      "min_width": null,
      "object_fit": null,
      "object_position": null,
      "order": null,
      "overflow": null,
      "overflow_x": null,
      "overflow_y": null,
      "padding": null,
      "right": null,
      "top": null,
      "visibility": null,
      "width": null
     }
    },
    "96eb737c0e51426ea2cefe331c1c0906": {
     "model_module": "@jupyter-widgets/controls",
     "model_module_version": "1.5.0",
     "model_name": "HTMLModel",
     "state": {
      "_dom_classes": [],
      "_model_module": "@jupyter-widgets/controls",
      "_model_module_version": "1.5.0",
      "_model_name": "HTMLModel",
      "_view_count": null,
      "_view_module": "@jupyter-widgets/controls",
      "_view_module_version": "1.5.0",
      "_view_name": "HTMLView",
      "description": "",
      "description_tooltip": null,
      "layout": "IPY_MODEL_8937595ff9f044feb6d330b6445a9141",
      "placeholder": "​",
      "style": "IPY_MODEL_b9ad63fa65414b0b89dcd7fea52ea2f7",
      "value": "Retrying transcripts: 100%"
     }
    },
    "9ed84c474b0e40ba8ad5d11ebe7ce7be": {
     "model_module": "@jupyter-widgets/controls",
     "model_module_version": "1.5.0",
     "model_name": "HTMLModel",
     "state": {
      "_dom_classes": [],
      "_model_module": "@jupyter-widgets/controls",
      "_model_module_version": "1.5.0",
      "_model_name": "HTMLModel",
      "_view_count": null,
      "_view_module": "@jupyter-widgets/controls",
      "_view_module_version": "1.5.0",
      "_view_name": "HTMLView",
      "description": "",
      "description_tooltip": null,
      "layout": "IPY_MODEL_ca25eeee5545427ba4c0b80461a7b05a",
      "placeholder": "​",
      "style": "IPY_MODEL_2f974ed68d5443e3ae5a66d0339cf335",
      "value": "100%"
     }
    },
    "a8bfe89a89d74bf99abf95359016f0fd": {
     "model_module": "@jupyter-widgets/controls",
     "model_module_version": "1.5.0",
     "model_name": "HTMLModel",
     "state": {
      "_dom_classes": [],
      "_model_module": "@jupyter-widgets/controls",
      "_model_module_version": "1.5.0",
      "_model_name": "HTMLModel",
      "_view_count": null,
      "_view_module": "@jupyter-widgets/controls",
      "_view_module_version": "1.5.0",
      "_view_name": "HTMLView",
      "description": "",
      "description_tooltip": null,
      "layout": "IPY_MODEL_75cc97ffd8184db3a329e6c448ea7376",
      "placeholder": "​",
      "style": "IPY_MODEL_b281e2914b4949519263c97a62d1cd6b",
      "value": " 5296/5296 [56:59&lt;00:00,  1.29it/s]"
     }
    },
    "afe8e9ae50b84cd0bafa53ea0c5b25af": {
     "model_module": "@jupyter-widgets/controls",
     "model_module_version": "1.5.0",
     "model_name": "DescriptionStyleModel",
     "state": {
      "_model_module": "@jupyter-widgets/controls",
      "_model_module_version": "1.5.0",
      "_model_name": "DescriptionStyleModel",
      "_view_count": null,
      "_view_module": "@jupyter-widgets/base",
      "_view_module_version": "1.2.0",
      "_view_name": "StyleView",
      "description_width": ""
     }
    },
    "b0ee65e5961141beaddcafcb9004d0b4": {
     "model_module": "@jupyter-widgets/controls",
     "model_module_version": "1.5.0",
     "model_name": "DescriptionStyleModel",
     "state": {
      "_model_module": "@jupyter-widgets/controls",
      "_model_module_version": "1.5.0",
      "_model_name": "DescriptionStyleModel",
      "_view_count": null,
      "_view_module": "@jupyter-widgets/base",
      "_view_module_version": "1.2.0",
      "_view_name": "StyleView",
      "description_width": ""
     }
    },
    "b281e2914b4949519263c97a62d1cd6b": {
     "model_module": "@jupyter-widgets/controls",
     "model_module_version": "1.5.0",
     "model_name": "DescriptionStyleModel",
     "state": {
      "_model_module": "@jupyter-widgets/controls",
      "_model_module_version": "1.5.0",
      "_model_name": "DescriptionStyleModel",
      "_view_count": null,
      "_view_module": "@jupyter-widgets/base",
      "_view_module_version": "1.2.0",
      "_view_name": "StyleView",
      "description_width": ""
     }
    },
    "b52fbec8e1ab4065b91a7b4003461705": {
     "model_module": "@jupyter-widgets/controls",
     "model_module_version": "1.5.0",
     "model_name": "HBoxModel",
     "state": {
      "_dom_classes": [],
      "_model_module": "@jupyter-widgets/controls",
      "_model_module_version": "1.5.0",
      "_model_name": "HBoxModel",
      "_view_count": null,
      "_view_module": "@jupyter-widgets/controls",
      "_view_module_version": "1.5.0",
      "_view_name": "HBoxView",
      "box_style": "",
      "children": [
       "IPY_MODEL_4c945860fbdb459d81c1ce8ae7f67d19",
       "IPY_MODEL_161b1aa20f9c4e4db1f9b5d116e08140",
       "IPY_MODEL_de8901a9dabf46d3be8b0a4caef467cc"
      ],
      "layout": "IPY_MODEL_5bcd639297304280be165b9404867314"
     }
    },
    "b80287e41e684a438010ecf3fe5ae431": {
     "model_module": "@jupyter-widgets/controls",
     "model_module_version": "1.5.0",
     "model_name": "HTMLModel",
     "state": {
      "_dom_classes": [],
      "_model_module": "@jupyter-widgets/controls",
      "_model_module_version": "1.5.0",
      "_model_name": "HTMLModel",
      "_view_count": null,
      "_view_module": "@jupyter-widgets/controls",
      "_view_module_version": "1.5.0",
      "_view_name": "HTMLView",
      "description": "",
      "description_tooltip": null,
      "layout": "IPY_MODEL_b8f4f51a49c2421ba4cd21ec69f71f22",
      "placeholder": "​",
      "style": "IPY_MODEL_44faea495fbf4b5989310ed8b9cec4d4",
      "value": "Retrying transcripts: 100%"
     }
    },
    "b8f4f51a49c2421ba4cd21ec69f71f22": {
     "model_module": "@jupyter-widgets/base",
     "model_module_version": "1.2.0",
     "model_name": "LayoutModel",
     "state": {
      "_model_module": "@jupyter-widgets/base",
      "_model_module_version": "1.2.0",
      "_model_name": "LayoutModel",
      "_view_count": null,
      "_view_module": "@jupyter-widgets/base",
      "_view_module_version": "1.2.0",
      "_view_name": "LayoutView",
      "align_content": null,
      "align_items": null,
      "align_self": null,
      "border": null,
      "bottom": null,
      "display": null,
      "flex": null,
      "flex_flow": null,
      "grid_area": null,
      "grid_auto_columns": null,
      "grid_auto_flow": null,
      "grid_auto_rows": null,
      "grid_column": null,
      "grid_gap": null,
      "grid_row": null,
      "grid_template_areas": null,
      "grid_template_columns": null,
      "grid_template_rows": null,
      "height": null,
      "justify_content": null,
      "justify_items": null,
      "left": null,
      "margin": null,
      "max_height": null,
      "max_width": null,
      "min_height": null,
      "min_width": null,
      "object_fit": null,
      "object_position": null,
      "order": null,
      "overflow": null,
      "overflow_x": null,
      "overflow_y": null,
      "padding": null,
      "right": null,
      "top": null,
      "visibility": null,
      "width": null
     }
    },
    "b9ad63fa65414b0b89dcd7fea52ea2f7": {
     "model_module": "@jupyter-widgets/controls",
     "model_module_version": "1.5.0",
     "model_name": "DescriptionStyleModel",
     "state": {
      "_model_module": "@jupyter-widgets/controls",
      "_model_module_version": "1.5.0",
      "_model_name": "DescriptionStyleModel",
      "_view_count": null,
      "_view_module": "@jupyter-widgets/base",
      "_view_module_version": "1.2.0",
      "_view_name": "StyleView",
      "description_width": ""
     }
    },
    "ba438483d1234c10b71668f72a9c77aa": {
     "model_module": "@jupyter-widgets/base",
     "model_module_version": "1.2.0",
     "model_name": "LayoutModel",
     "state": {
      "_model_module": "@jupyter-widgets/base",
      "_model_module_version": "1.2.0",
      "_model_name": "LayoutModel",
      "_view_count": null,
      "_view_module": "@jupyter-widgets/base",
      "_view_module_version": "1.2.0",
      "_view_name": "LayoutView",
      "align_content": null,
      "align_items": null,
      "align_self": null,
      "border": null,
      "bottom": null,
      "display": null,
      "flex": null,
      "flex_flow": null,
      "grid_area": null,
      "grid_auto_columns": null,
      "grid_auto_flow": null,
      "grid_auto_rows": null,
      "grid_column": null,
      "grid_gap": null,
      "grid_row": null,
      "grid_template_areas": null,
      "grid_template_columns": null,
      "grid_template_rows": null,
      "height": null,
      "justify_content": null,
      "justify_items": null,
      "left": null,
      "margin": null,
      "max_height": null,
      "max_width": null,
      "min_height": null,
      "min_width": null,
      "object_fit": null,
      "object_position": null,
      "order": null,
      "overflow": null,
      "overflow_x": null,
      "overflow_y": null,
      "padding": null,
      "right": null,
      "top": null,
      "visibility": null,
      "width": null
     }
    },
    "bc22be5bb5ba4df68ed6550a1741cd3a": {
     "model_module": "@jupyter-widgets/controls",
     "model_module_version": "1.5.0",
     "model_name": "DescriptionStyleModel",
     "state": {
      "_model_module": "@jupyter-widgets/controls",
      "_model_module_version": "1.5.0",
      "_model_name": "DescriptionStyleModel",
      "_view_count": null,
      "_view_module": "@jupyter-widgets/base",
      "_view_module_version": "1.2.0",
      "_view_name": "StyleView",
      "description_width": ""
     }
    },
    "bff119a263f34dc2bc160e40d2c1fc73": {
     "model_module": "@jupyter-widgets/controls",
     "model_module_version": "1.5.0",
     "model_name": "HBoxModel",
     "state": {
      "_dom_classes": [],
      "_model_module": "@jupyter-widgets/controls",
      "_model_module_version": "1.5.0",
      "_model_name": "HBoxModel",
      "_view_count": null,
      "_view_module": "@jupyter-widgets/controls",
      "_view_module_version": "1.5.0",
      "_view_name": "HBoxView",
      "box_style": "",
      "children": [
       "IPY_MODEL_2465b4b8d0b54f13a4395329f12a23bb",
       "IPY_MODEL_ebf0612fe20040fbba9d3b815beadc14",
       "IPY_MODEL_a8bfe89a89d74bf99abf95359016f0fd"
      ],
      "layout": "IPY_MODEL_e4868061d2494ae9a504a78f2171386c"
     }
    },
    "c14d299a610545b78680087d1cb7e9c8": {
     "model_module": "@jupyter-widgets/controls",
     "model_module_version": "1.5.0",
     "model_name": "HTMLModel",
     "state": {
      "_dom_classes": [],
      "_model_module": "@jupyter-widgets/controls",
      "_model_module_version": "1.5.0",
      "_model_name": "HTMLModel",
      "_view_count": null,
      "_view_module": "@jupyter-widgets/controls",
      "_view_module_version": "1.5.0",
      "_view_name": "HTMLView",
      "description": "",
      "description_tooltip": null,
      "layout": "IPY_MODEL_6b429adf10824cc0af4bf2c0e73ce3e9",
      "placeholder": "​",
      "style": "IPY_MODEL_6f1f802ab08f41eeb7c0fe852d285da5",
      "value": "Retrying transcripts: 100%"
     }
    },
    "c57cdec0693043f3bcc6877bb0d1cde5": {
     "model_module": "@jupyter-widgets/controls",
     "model_module_version": "1.5.0",
     "model_name": "HTMLModel",
     "state": {
      "_dom_classes": [],
      "_model_module": "@jupyter-widgets/controls",
      "_model_module_version": "1.5.0",
      "_model_name": "HTMLModel",
      "_view_count": null,
      "_view_module": "@jupyter-widgets/controls",
      "_view_module_version": "1.5.0",
      "_view_name": "HTMLView",
      "description": "",
      "description_tooltip": null,
      "layout": "IPY_MODEL_1c4a93688ef94ce081dfc4f1d8a88307",
      "placeholder": "​",
      "style": "IPY_MODEL_0b48456dd84741608426a085c30d8127",
      "value": " 4190/4190 [46:10&lt;00:00,  1.48it/s]"
     }
    },
    "ca25eeee5545427ba4c0b80461a7b05a": {
     "model_module": "@jupyter-widgets/base",
     "model_module_version": "1.2.0",
     "model_name": "LayoutModel",
     "state": {
      "_model_module": "@jupyter-widgets/base",
      "_model_module_version": "1.2.0",
      "_model_name": "LayoutModel",
      "_view_count": null,
      "_view_module": "@jupyter-widgets/base",
      "_view_module_version": "1.2.0",
      "_view_name": "LayoutView",
      "align_content": null,
      "align_items": null,
      "align_self": null,
      "border": null,
      "bottom": null,
      "display": null,
      "flex": null,
      "flex_flow": null,
      "grid_area": null,
      "grid_auto_columns": null,
      "grid_auto_flow": null,
      "grid_auto_rows": null,
      "grid_column": null,
      "grid_gap": null,
      "grid_row": null,
      "grid_template_areas": null,
      "grid_template_columns": null,
      "grid_template_rows": null,
      "height": null,
      "justify_content": null,
      "justify_items": null,
      "left": null,
      "margin": null,
      "max_height": null,
      "max_width": null,
      "min_height": null,
      "min_width": null,
      "object_fit": null,
      "object_position": null,
      "order": null,
      "overflow": null,
      "overflow_x": null,
      "overflow_y": null,
      "padding": null,
      "right": null,
      "top": null,
      "visibility": null,
      "width": null
     }
    },
    "ce10a7ee217c424686da22854b281259": {
     "model_module": "@jupyter-widgets/base",
     "model_module_version": "1.2.0",
     "model_name": "LayoutModel",
     "state": {
      "_model_module": "@jupyter-widgets/base",
      "_model_module_version": "1.2.0",
      "_model_name": "LayoutModel",
      "_view_count": null,
      "_view_module": "@jupyter-widgets/base",
      "_view_module_version": "1.2.0",
      "_view_name": "LayoutView",
      "align_content": null,
      "align_items": null,
      "align_self": null,
      "border": null,
      "bottom": null,
      "display": null,
      "flex": null,
      "flex_flow": null,
      "grid_area": null,
      "grid_auto_columns": null,
      "grid_auto_flow": null,
      "grid_auto_rows": null,
      "grid_column": null,
      "grid_gap": null,
      "grid_row": null,
      "grid_template_areas": null,
      "grid_template_columns": null,
      "grid_template_rows": null,
      "height": null,
      "justify_content": null,
      "justify_items": null,
      "left": null,
      "margin": null,
      "max_height": null,
      "max_width": null,
      "min_height": null,
      "min_width": null,
      "object_fit": null,
      "object_position": null,
      "order": null,
      "overflow": null,
      "overflow_x": null,
      "overflow_y": null,
      "padding": null,
      "right": null,
      "top": null,
      "visibility": null,
      "width": null
     }
    },
    "d312a28b35dd4b74ab9abb92afee5428": {
     "model_module": "@jupyter-widgets/controls",
     "model_module_version": "1.5.0",
     "model_name": "FloatProgressModel",
     "state": {
      "_dom_classes": [],
      "_model_module": "@jupyter-widgets/controls",
      "_model_module_version": "1.5.0",
      "_model_name": "FloatProgressModel",
      "_view_count": null,
      "_view_module": "@jupyter-widgets/controls",
      "_view_module_version": "1.5.0",
      "_view_name": "ProgressView",
      "bar_style": "success",
      "description": "",
      "description_tooltip": null,
      "layout": "IPY_MODEL_e5415cd08e094cdeb4fe72a6a54bc066",
      "max": 100,
      "min": 0,
      "orientation": "horizontal",
      "style": "IPY_MODEL_720a78ae1bdb4890bf3bd7df2eff6c3a",
      "value": 100
     }
    },
    "de8901a9dabf46d3be8b0a4caef467cc": {
     "model_module": "@jupyter-widgets/controls",
     "model_module_version": "1.5.0",
     "model_name": "HTMLModel",
     "state": {
      "_dom_classes": [],
      "_model_module": "@jupyter-widgets/controls",
      "_model_module_version": "1.5.0",
      "_model_name": "HTMLModel",
      "_view_count": null,
      "_view_module": "@jupyter-widgets/controls",
      "_view_module_version": "1.5.0",
      "_view_name": "HTMLView",
      "description": "",
      "description_tooltip": null,
      "layout": "IPY_MODEL_0efdedcc94334299ba30b7f985d5b8ce",
      "placeholder": "​",
      "style": "IPY_MODEL_bc22be5bb5ba4df68ed6550a1741cd3a",
      "value": " 674/1000 [43:04&lt;20:57,  3.86s/it]"
     }
    },
    "e4868061d2494ae9a504a78f2171386c": {
     "model_module": "@jupyter-widgets/base",
     "model_module_version": "1.2.0",
     "model_name": "LayoutModel",
     "state": {
      "_model_module": "@jupyter-widgets/base",
      "_model_module_version": "1.2.0",
      "_model_name": "LayoutModel",
      "_view_count": null,
      "_view_module": "@jupyter-widgets/base",
      "_view_module_version": "1.2.0",
      "_view_name": "LayoutView",
      "align_content": null,
      "align_items": null,
      "align_self": null,
      "border": null,
      "bottom": null,
      "display": null,
      "flex": null,
      "flex_flow": null,
      "grid_area": null,
      "grid_auto_columns": null,
      "grid_auto_flow": null,
      "grid_auto_rows": null,
      "grid_column": null,
      "grid_gap": null,
      "grid_row": null,
      "grid_template_areas": null,
      "grid_template_columns": null,
      "grid_template_rows": null,
      "height": null,
      "justify_content": null,
      "justify_items": null,
      "left": null,
      "margin": null,
      "max_height": null,
      "max_width": null,
      "min_height": null,
      "min_width": null,
      "object_fit": null,
      "object_position": null,
      "order": null,
      "overflow": null,
      "overflow_x": null,
      "overflow_y": null,
      "padding": null,
      "right": null,
      "top": null,
      "visibility": null,
      "width": null
     }
    },
    "e4f0e296f8b84ab281b10a5562165d0e": {
     "model_module": "@jupyter-widgets/controls",
     "model_module_version": "1.5.0",
     "model_name": "FloatProgressModel",
     "state": {
      "_dom_classes": [],
      "_model_module": "@jupyter-widgets/controls",
      "_model_module_version": "1.5.0",
      "_model_name": "FloatProgressModel",
      "_view_count": null,
      "_view_module": "@jupyter-widgets/controls",
      "_view_module_version": "1.5.0",
      "_view_name": "ProgressView",
      "bar_style": "success",
      "description": "",
      "description_tooltip": null,
      "layout": "IPY_MODEL_33850b277eb7459cb97dab0c69407a1c",
      "max": 4190,
      "min": 0,
      "orientation": "horizontal",
      "style": "IPY_MODEL_84458f06b17f4838ad287c0f54e72f26",
      "value": 4190
     }
    },
    "e5415cd08e094cdeb4fe72a6a54bc066": {
     "model_module": "@jupyter-widgets/base",
     "model_module_version": "1.2.0",
     "model_name": "LayoutModel",
     "state": {
      "_model_module": "@jupyter-widgets/base",
      "_model_module_version": "1.2.0",
      "_model_name": "LayoutModel",
      "_view_count": null,
      "_view_module": "@jupyter-widgets/base",
      "_view_module_version": "1.2.0",
      "_view_name": "LayoutView",
      "align_content": null,
      "align_items": null,
      "align_self": null,
      "border": null,
      "bottom": null,
      "display": null,
      "flex": null,
      "flex_flow": null,
      "grid_area": null,
      "grid_auto_columns": null,
      "grid_auto_flow": null,
      "grid_auto_rows": null,
      "grid_column": null,
      "grid_gap": null,
      "grid_row": null,
      "grid_template_areas": null,
      "grid_template_columns": null,
      "grid_template_rows": null,
      "height": null,
      "justify_content": null,
      "justify_items": null,
      "left": null,
      "margin": null,
      "max_height": null,
      "max_width": null,
      "min_height": null,
      "min_width": null,
      "object_fit": null,
      "object_position": null,
      "order": null,
      "overflow": null,
      "overflow_x": null,
      "overflow_y": null,
      "padding": null,
      "right": null,
      "top": null,
      "visibility": null,
      "width": null
     }
    },
    "e5c7810972a142cd80544c5a9a8f360d": {
     "model_module": "@jupyter-widgets/controls",
     "model_module_version": "1.5.0",
     "model_name": "HTMLModel",
     "state": {
      "_dom_classes": [],
      "_model_module": "@jupyter-widgets/controls",
      "_model_module_version": "1.5.0",
      "_model_name": "HTMLModel",
      "_view_count": null,
      "_view_module": "@jupyter-widgets/controls",
      "_view_module_version": "1.5.0",
      "_view_name": "HTMLView",
      "description": "",
      "description_tooltip": null,
      "layout": "IPY_MODEL_7d3c38d8cccd4295b80b7c3377f42669",
      "placeholder": "​",
      "style": "IPY_MODEL_e75c9270cc364af79a6a52ad0466631b",
      "value": " 1000/1000 [13:45&lt;00:00,  1.06it/s]"
     }
    },
    "e75c9270cc364af79a6a52ad0466631b": {
     "model_module": "@jupyter-widgets/controls",
     "model_module_version": "1.5.0",
     "model_name": "DescriptionStyleModel",
     "state": {
      "_model_module": "@jupyter-widgets/controls",
      "_model_module_version": "1.5.0",
      "_model_name": "DescriptionStyleModel",
      "_view_count": null,
      "_view_module": "@jupyter-widgets/base",
      "_view_module_version": "1.2.0",
      "_view_name": "StyleView",
      "description_width": ""
     }
    },
    "ebf0612fe20040fbba9d3b815beadc14": {
     "model_module": "@jupyter-widgets/controls",
     "model_module_version": "1.5.0",
     "model_name": "FloatProgressModel",
     "state": {
      "_dom_classes": [],
      "_model_module": "@jupyter-widgets/controls",
      "_model_module_version": "1.5.0",
      "_model_name": "FloatProgressModel",
      "_view_count": null,
      "_view_module": "@jupyter-widgets/controls",
      "_view_module_version": "1.5.0",
      "_view_name": "ProgressView",
      "bar_style": "success",
      "description": "",
      "description_tooltip": null,
      "layout": "IPY_MODEL_56605fbff8294b8c91304a707a61325c",
      "max": 5296,
      "min": 0,
      "orientation": "horizontal",
      "style": "IPY_MODEL_0d528647d4ec4159aa065f2a389ef35d",
      "value": 5296
     }
    },
    "ecdde67f3fa349748381a153eb327a81": {
     "model_module": "@jupyter-widgets/controls",
     "model_module_version": "1.5.0",
     "model_name": "FloatProgressModel",
     "state": {
      "_dom_classes": [],
      "_model_module": "@jupyter-widgets/controls",
      "_model_module_version": "1.5.0",
      "_model_name": "FloatProgressModel",
      "_view_count": null,
      "_view_module": "@jupyter-widgets/controls",
      "_view_module_version": "1.5.0",
      "_view_name": "ProgressView",
      "bar_style": "success",
      "description": "",
      "description_tooltip": null,
      "layout": "IPY_MODEL_77e9924cfdb04167b4f53bf84c51c8d8",
      "max": 1000,
      "min": 0,
      "orientation": "horizontal",
      "style": "IPY_MODEL_57b165d8ac414a978fcf99241bb949cd",
      "value": 1000
     }
    },
    "f20c96b869134acfb05e0bb510afab06": {
     "model_module": "@jupyter-widgets/controls",
     "model_module_version": "1.5.0",
     "model_name": "HTMLModel",
     "state": {
      "_dom_classes": [],
      "_model_module": "@jupyter-widgets/controls",
      "_model_module_version": "1.5.0",
      "_model_name": "HTMLModel",
      "_view_count": null,
      "_view_module": "@jupyter-widgets/controls",
      "_view_module_version": "1.5.0",
      "_view_name": "HTMLView",
      "description": "",
      "description_tooltip": null,
      "layout": "IPY_MODEL_ce10a7ee217c424686da22854b281259",
      "placeholder": "​",
      "style": "IPY_MODEL_87005c3fead545c0825582b44176dca2",
      "value": " 1421/1421 [1:37:06&lt;00:00,  4.16s/it]"
     }
    },
    "f497f1637c2d4f2b9f98a5be37579cdb": {
     "model_module": "@jupyter-widgets/controls",
     "model_module_version": "1.5.0",
     "model_name": "DescriptionStyleModel",
     "state": {
      "_model_module": "@jupyter-widgets/controls",
      "_model_module_version": "1.5.0",
      "_model_name": "DescriptionStyleModel",
      "_view_count": null,
      "_view_module": "@jupyter-widgets/base",
      "_view_module_version": "1.2.0",
      "_view_name": "StyleView",
      "description_width": ""
     }
    },
    "f4daf7e9735c45bdae5879700305d58d": {
     "model_module": "@jupyter-widgets/controls",
     "model_module_version": "1.5.0",
     "model_name": "HBoxModel",
     "state": {
      "_dom_classes": [],
      "_model_module": "@jupyter-widgets/controls",
      "_model_module_version": "1.5.0",
      "_model_name": "HBoxModel",
      "_view_count": null,
      "_view_module": "@jupyter-widgets/controls",
      "_view_module_version": "1.5.0",
      "_view_name": "HBoxView",
      "box_style": "",
      "children": [
       "IPY_MODEL_96eb737c0e51426ea2cefe331c1c0906",
       "IPY_MODEL_074861e87899499aa5f76c87d0da1069",
       "IPY_MODEL_f20c96b869134acfb05e0bb510afab06"
      ],
      "layout": "IPY_MODEL_925e1159ceb24e55946e0ec64197ee63"
     }
    },
    "f8b734961152438d8e3d336ebc39e9c3": {
     "model_module": "@jupyter-widgets/base",
     "model_module_version": "1.2.0",
     "model_name": "LayoutModel",
     "state": {
      "_model_module": "@jupyter-widgets/base",
      "_model_module_version": "1.2.0",
      "_model_name": "LayoutModel",
      "_view_count": null,
      "_view_module": "@jupyter-widgets/base",
      "_view_module_version": "1.2.0",
      "_view_name": "LayoutView",
      "align_content": null,
      "align_items": null,
      "align_self": null,
      "border": null,
      "bottom": null,
      "display": null,
      "flex": null,
      "flex_flow": null,
      "grid_area": null,
      "grid_auto_columns": null,
      "grid_auto_flow": null,
      "grid_auto_rows": null,
      "grid_column": null,
      "grid_gap": null,
      "grid_row": null,
      "grid_template_areas": null,
      "grid_template_columns": null,
      "grid_template_rows": null,
      "height": null,
      "justify_content": null,
      "justify_items": null,
      "left": null,
      "margin": null,
      "max_height": null,
      "max_width": null,
      "min_height": null,
      "min_width": null,
      "object_fit": null,
      "object_position": null,
      "order": null,
      "overflow": null,
      "overflow_x": null,
      "overflow_y": null,
      "padding": null,
      "right": null,
      "top": null,
      "visibility": null,
      "width": null
     }
    }
   }
  }
 },
 "nbformat": 4,
 "nbformat_minor": 1
}
