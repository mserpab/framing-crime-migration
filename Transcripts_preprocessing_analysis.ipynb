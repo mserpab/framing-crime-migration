{
 "cells": [
  {
   "cell_type": "markdown",
   "metadata": {
    "id": "oWcPxQoY8vIG"
   },
   "source": [
    "# Installations and imports"
   ]
  },
  {
   "cell_type": "code",
   "execution_count": null,
   "metadata": {
    "id": "cdvq2bet2pzq"
   },
   "outputs": [],
   "source": [
    "!pip install tensorflow tensorflow-hub pandas"
   ]
  },
  {
   "cell_type": "code",
   "execution_count": null,
   "metadata": {
    "id": "7v40iEP_DBYL"
   },
   "outputs": [],
   "source": [
    "!pip install --upgrade transformers"
   ]
  },
  {
   "cell_type": "code",
   "execution_count": null,
   "metadata": {
    "id": "hM4bL7jVUm-G"
   },
   "outputs": [],
   "source": [
    "!pip install bertopic"
   ]
  },
  {
   "cell_type": "code",
   "execution_count": null,
   "metadata": {
    "id": "LTFbTxfXpRfy"
   },
   "outputs": [],
   "source": [
    "!pip install nltk"
   ]
  },
  {
   "cell_type": "code",
   "execution_count": null,
   "metadata": {
    "id": "vQbxIRcFt0Cm"
   },
   "outputs": [],
   "source": [
    "!pip install gensim"
   ]
  },
  {
   "cell_type": "code",
   "execution_count": null,
   "metadata": {
    "id": "nk5KVVqFzz6S"
   },
   "outputs": [],
   "source": [
    "pip install numpy==1.26.4"
   ]
  },
  {
   "cell_type": "code",
   "execution_count": null,
   "metadata": {
    "id": "Awfn4ch70XCH"
   },
   "outputs": [],
   "source": [
    "!pip install pandas==2.2.2"
   ]
  },
  {
   "cell_type": "code",
   "execution_count": null,
   "metadata": {
    "id": "b6Pd4tG-QsIy"
   },
   "outputs": [],
   "source": [
    "!pip install google-cloud-translate"
   ]
  },
  {
   "cell_type": "code",
   "execution_count": null,
   "metadata": {
    "id": "1IBVYdsydCx4"
   },
   "outputs": [],
   "source": [
    "!pip install --upgrade httpx"
   ]
  },
  {
   "cell_type": "code",
   "execution_count": null,
   "metadata": {
    "id": "TpE_Qnx8QVcW"
   },
   "outputs": [],
   "source": [
    "!pip install googletrans==4.0.0-rc1"
   ]
  },
  {
   "cell_type": "code",
   "execution_count": null,
   "metadata": {
    "id": "62_LbVg9cE-5"
   },
   "outputs": [],
   "source": [
    "!pip install --upgrade httpx"
   ]
  },
  {
   "cell_type": "code",
   "execution_count": null,
   "metadata": {
    "id": "rwlZEOKhAZa1"
   },
   "outputs": [],
   "source": [
    "import pandas as pd\n",
    "import numpy as np\n",
    "from ast import literal_eval\n",
    "import os\n",
    "import time\n",
    "import csv\n",
    "import requests\n",
    "from google.cloud import translate_v2 as translate\n",
    "from googletrans import Translator\n",
    "from tqdm.auto import tqdm\n",
    "import re\n",
    "import ast\n",
    "import string\n",
    "import nltk\n",
    "from nltk.tokenize import word_tokenize\n",
    "nltk.download('punkt_tab')\n",
    "from collections import defaultdict\n",
    "nltk.download('wordnet')\n",
    "nltk.download('averaged_perceptron_tagger_eng')\n",
    "nltk.download('stopwords')\n",
    "import html\n",
    "from google.colab import drive\n",
    "from sklearn.metrics.pairwise import cosine_similarity\n",
    "import spacy\n",
    "\n",
    "#Importing packages for LDA\n",
    "from gensim.corpora.dictionary import Dictionary\n",
    "from gensim.models.ldamulticore import LdaMulticore\n",
    "import logging\n",
    "import sys\n",
    "import matplotlib.pyplot as plt\n",
    "from bertopic import BERTopic\n",
    "from sentence_transformers import SentenceTransformer\n",
    "from nltk.corpus import stopwords\n",
    "import networkx as nx\n",
    "\n",
    "# Packages for fine tuning BERTopic\n",
    "from bertopic.representation import KeyBERTInspired\n",
    "from bertopic.representation import PartOfSpeech\n",
    "from hdbscan import HDBSCAN\n",
    "from sklearn.cluster import KMeans\n",
    "from sklearn.decomposition import PCA\n",
    "from umap import UMAP\n",
    "from sklearn.metrics import silhouette_score\n",
    "from sklearn.metrics.pairwise import cosine_distances\n",
    "\n",
    "# For punctuation\n",
    "from transformers import pipeline\n",
    "from nltk.tokenize import sent_tokenize\n",
    "from transformers import AutoTokenizer, AutoModelForTokenClassification\n",
    "import torch\n",
    "\n",
    "# For embeddings visualization\n",
    "import umap\n",
    "from sklearn.manifold import TSNE"
   ]
  },
  {
   "cell_type": "markdown",
   "metadata": {
    "id": "bsYcshIJ81Z8"
   },
   "source": [
    "# Importing collected transcripts"
   ]
  },
  {
   "cell_type": "code",
   "execution_count": null,
   "metadata": {
    "id": "7FL5ntahAPB6"
   },
   "outputs": [],
   "source": [
    "# Read all collected dfs\n",
    "df_1 = pd.read_csv() # File location was removed\n",
    "df_1.head(1)"
   ]
  },
  {
   "cell_type": "code",
   "execution_count": null,
   "metadata": {
    "id": "SVrVx637WJRK"
   },
   "outputs": [],
   "source": [
    "df_2 = pd.read_csv() # File location was removed\n",
    "df_2.head(1)"
   ]
  },
  {
   "cell_type": "code",
   "execution_count": null,
   "metadata": {
    "id": "LHMASoO15qea"
   },
   "outputs": [],
   "source": [
    "df_3 = pd.read_csv() # File location was removed\n",
    "df_3.head(1)"
   ]
  },
  {
   "cell_type": "code",
   "execution_count": null,
   "metadata": {
    "id": "BOJ6m4dJ5y-r"
   },
   "outputs": [],
   "source": [
    "df_4 = pd.read_csv() # File location was removed\n",
    "df_4.head(1)"
   ]
  },
  {
   "cell_type": "code",
   "execution_count": null,
   "metadata": {
    "colab": {
     "base_uri": "https://localhost:8080/"
    },
    "executionInfo": {
     "elapsed": 9,
     "status": "ok",
     "timestamp": 1742915254840,
     "user": {
      "displayName": "Maricruz Serpa",
      "userId": "11370590112332842903"
     },
     "user_tz": -60
    },
    "id": "aNeR9CBuXJXR",
    "outputId": "74c8fb37-93d4-4093-8ce7-446623ae4cd8"
   },
   "outputs": [],
   "source": [
    "print(df_1.shape)\n",
    "print(df_2.shape)\n",
    "print(df_3.shape)\n",
    "print(df_4.shape)"
   ]
  },
  {
   "cell_type": "code",
   "execution_count": null,
   "metadata": {
    "colab": {
     "base_uri": "https://localhost:8080/"
    },
    "executionInfo": {
     "elapsed": 19,
     "status": "ok",
     "timestamp": 1742915257182,
     "user": {
      "displayName": "Maricruz Serpa",
      "userId": "11370590112332842903"
     },
     "user_tz": -60
    },
    "id": "irrTmnrs6Az_",
    "outputId": "def57fe3-42b7-4bb4-a267-d7afde61a069"
   },
   "outputs": [],
   "source": [
    "# Drop unnecesary columns and merge dfs\n",
    "\n",
    "# Preparing the dfs for merge\n",
    "df_1 = df_1.drop(columns=['Unnamed: 0', 'Unnamed: 0.1'])\n",
    "df_2 = df_2.drop(columns=['Unnamed: 0', 'Unnamed: 0.1', 'Unnamed: 0.2'])\n",
    "df_3 = df_3.drop(columns=['Unnamed: 0'])\n",
    "df_4 = df_4.drop(columns=['Unnamed: 0', 'Unnamed: 0.1'])\n",
    "\n",
    "# Rename transcript column in df4\n",
    "df_4.rename(columns={\"transcripts\": \"transcript\"}, inplace=True)\n",
    "\n",
    "# Merging\n",
    "df_combined = pd.concat([df_1, df_2, df_3, df_4], axis=0, ignore_index=True)\n",
    "df_combined.shape"
   ]
  },
  {
   "cell_type": "code",
   "execution_count": null,
   "metadata": {
    "colab": {
     "base_uri": "https://localhost:8080/"
    },
    "executionInfo": {
     "elapsed": 75,
     "status": "ok",
     "timestamp": 1742915259036,
     "user": {
      "displayName": "Maricruz Serpa",
      "userId": "11370590112332842903"
     },
     "user_tz": -60
    },
    "id": "JaLnhwGlY1jb",
    "outputId": "47a97aa8-52c9-43ca-800b-7dddd930444b"
   },
   "outputs": [],
   "source": [
    "# Counting the duplicated video ids\n",
    "\n",
    "value_counts = df_combined['video_id'].value_counts()\n",
    "duplicates = value_counts[value_counts > 1]\n",
    "print(len(duplicates))"
   ]
  },
  {
   "cell_type": "code",
   "execution_count": null,
   "metadata": {
    "colab": {
     "base_uri": "https://localhost:8080/"
    },
    "executionInfo": {
     "elapsed": 5,
     "status": "ok",
     "timestamp": 1742915260402,
     "user": {
      "displayName": "Maricruz Serpa",
      "userId": "11370590112332842903"
     },
     "user_tz": -60
    },
    "id": "Ep6FdrrL6vks",
    "outputId": "e8369208-9bb0-4e47-dac3-f3fe04bccc24"
   },
   "outputs": [],
   "source": [
    "# Drop duplicated video ids\n",
    "\n",
    "df_combined = df_combined.drop_duplicates(subset=['video_id'], keep='first')\n",
    "df_combined.shape"
   ]
  },
  {
   "cell_type": "code",
   "execution_count": null,
   "metadata": {
    "colab": {
     "base_uri": "https://localhost:8080/"
    },
    "executionInfo": {
     "elapsed": 33,
     "status": "ok",
     "timestamp": 1742915262262,
     "user": {
      "displayName": "Maricruz Serpa",
      "userId": "11370590112332842903"
     },
     "user_tz": -60
    },
    "id": "QxRgIy_vZYXX",
    "outputId": "633ac561-3bfd-4d84-d197-ab65c670e108"
   },
   "outputs": [],
   "source": [
    "# Count transcripts with errors\n",
    "error_count = df_combined['transcript'].str.startswith(\"Error: \").sum()\n",
    "print(\"Number of error rows:\", error_count)"
   ]
  },
  {
   "cell_type": "code",
   "execution_count": null,
   "metadata": {
    "colab": {
     "base_uri": "https://localhost:8080/"
    },
    "executionInfo": {
     "elapsed": 24,
     "status": "ok",
     "timestamp": 1742915264164,
     "user": {
      "displayName": "Maricruz Serpa",
      "userId": "11370590112332842903"
     },
     "user_tz": -60
    },
    "id": "xqZBDPhM6_1D",
    "outputId": "0de78bd1-3f7b-4a20-eba6-c59b62ce9a4a"
   },
   "outputs": [],
   "source": [
    "# Drop rows with errors\n",
    "mask = ~df_combined['transcript'].fillna(\"\").str.startswith(\"Error: \")\n",
    "df_combined = df_combined[mask]\n",
    "\n",
    "df_combined.shape"
   ]
  },
  {
   "cell_type": "code",
   "execution_count": null,
   "metadata": {
    "id": "MBncSMXN7oRg"
   },
   "outputs": [],
   "source": [
    "df_combined.head()"
   ]
  },
  {
   "cell_type": "code",
   "execution_count": null,
   "metadata": {
    "colab": {
     "base_uri": "https://localhost:8080/"
    },
    "executionInfo": {
     "elapsed": 10,
     "status": "ok",
     "timestamp": 1742915268433,
     "user": {
      "displayName": "Maricruz Serpa",
      "userId": "11370590112332842903"
     },
     "user_tz": -60
    },
    "id": "Va7o1mm77wOz",
    "outputId": "41fceb6f-a90d-4c85-f605-60bffa350d6a"
   },
   "outputs": [],
   "source": [
    "# Chech for empty transcripts\n",
    "\n",
    "nan_count = df_combined[\"transcript\"].isna().sum()\n",
    "empty_string_count = (df_combined[\"transcript\"] == \"\").sum()\n",
    "total_count = nan_count + empty_string_count\n",
    "\n",
    "print(f\"Number of NaN values: {nan_count}\")\n",
    "print(f\"Number of empty strings: {empty_string_count}\")\n",
    "print(f\"Total count of NaN and empty strings: {total_count}\")"
   ]
  },
  {
   "cell_type": "code",
   "execution_count": null,
   "metadata": {
    "colab": {
     "base_uri": "https://localhost:8080/"
    },
    "executionInfo": {
     "elapsed": 22,
     "status": "ok",
     "timestamp": 1742915269730,
     "user": {
      "displayName": "Maricruz Serpa",
      "userId": "11370590112332842903"
     },
     "user_tz": -60
    },
    "id": "bEFMPdb17_Kg",
    "outputId": "3ed90525-49fd-456d-cc4e-80d652586582"
   },
   "outputs": [],
   "source": [
    "# Drop NaN transcripts\n",
    "\n",
    "df_combined = df_combined.dropna(subset=['transcript'])\n",
    "df_combined.shape"
   ]
  },
  {
   "cell_type": "markdown",
   "metadata": {
    "id": "zwfdLbV_8-OE"
   },
   "source": [
    "# Exploratory data analysis"
   ]
  },
  {
   "cell_type": "code",
   "execution_count": null,
   "metadata": {
    "colab": {
     "base_uri": "https://localhost:8080/",
     "height": 303
    },
    "executionInfo": {
     "elapsed": 17,
     "status": "ok",
     "timestamp": 1742904488842,
     "user": {
      "displayName": "Maricruz Serpa",
      "userId": "11370590112332842903"
     },
     "user_tz": -60
    },
    "id": "G4VoNdRr9_u6",
    "outputId": "d3f7e789-acdd-4352-cd62-efbbe6ab7af8"
   },
   "outputs": [],
   "source": [
    "df_combined['channel'].value_counts()"
   ]
  },
  {
   "cell_type": "code",
   "execution_count": null,
   "metadata": {
    "colab": {
     "base_uri": "https://localhost:8080/",
     "height": 303
    },
    "executionInfo": {
     "elapsed": 28,
     "status": "ok",
     "timestamp": 1742904491889,
     "user": {
      "displayName": "Maricruz Serpa",
      "userId": "11370590112332842903"
     },
     "user_tz": -60
    },
    "id": "O81IfFQN9AqH",
    "outputId": "1b7bf9a3-f55a-493b-ed03-962a74783d85"
   },
   "outputs": [],
   "source": [
    "# Replace channel ids by channel name\n",
    "\n",
    "channel_mapping = {\n",
    "    'UCpSJ5fGhmAME9Kx2D3ZvN3Q': 'Latina Noticias',\n",
    "    'UCPhm2I2wk4vqjENwhn3px8A': 'America Noticias',\n",
    "    'UC-B7Xv56uNRDkj0vC3QW8Cg': 'La Republica',\n",
    "    'UCYG5uXS3xdsoaXIxum1pAEw': 'ATV Noticias',\n",
    "    'UCLtGUPjKLqa3zgdmhKCZONg': 'El Comercio',\n",
    "    'UC5j8-2FT0ZMMBkmK72R4aeA': 'RPP Noticias'\n",
    "    }\n",
    "\n",
    "df_combined['channel'] = df_combined['channel'].map(channel_mapping)\n",
    "df_combined['channel'].value_counts()"
   ]
  },
  {
   "cell_type": "code",
   "execution_count": null,
   "metadata": {
    "colab": {
     "base_uri": "https://localhost:8080/",
     "height": 442
    },
    "executionInfo": {
     "elapsed": 1562,
     "status": "ok",
     "timestamp": 1742904496713,
     "user": {
      "displayName": "Maricruz Serpa",
      "userId": "11370590112332842903"
     },
     "user_tz": -60
    },
    "id": "3eHDObGv-e-z",
    "outputId": "56d7a29d-f848-4777-e7b0-836766657899"
   },
   "outputs": [],
   "source": [
    "# Overview of monthly videos per channel\n",
    "\n",
    "# Pre processing and grouping\n",
    "df_combined['video_date'] = pd.to_datetime(df_combined['video_date'])\n",
    "df_combined['month_year'] = df_combined['video_date'].dt.to_period('M')\n",
    "grouped = df_combined.groupby(['month_year', 'channel']).agg({'video_id': 'count'}).reset_index()\n",
    "pivot_table = grouped.pivot(index='month_year', columns='channel', values='video_id').fillna(0)\n",
    "pivot_table.index = pivot_table.index.astype(str)\n",
    "\n",
    "# Plot\n",
    "pivot_table.plot(kind='bar', figsize=(12, 6), width=0.8)\n",
    "plt.title('Number of Video IDs by Month-Year and Channel', fontsize=16)\n",
    "plt.xlabel('Month-Year', fontsize=14)\n",
    "plt.ylabel('Number of Videos', fontsize=14)\n",
    "plt.xticks(rotation=45, fontsize=8)\n",
    "plt.legend(title='Channel ID', fontsize=12)\n",
    "plt.tight_layout()\n",
    "\n",
    "plt.show()"
   ]
  },
  {
   "cell_type": "code",
   "execution_count": null,
   "metadata": {
    "colab": {
     "base_uri": "https://localhost:8080/",
     "height": 472
    },
    "executionInfo": {
     "elapsed": 433,
     "status": "ok",
     "timestamp": 1742915288799,
     "user": {
      "displayName": "Maricruz Serpa",
      "userId": "11370590112332842903"
     },
     "user_tz": -60
    },
    "id": "BCeSm-L0vvpH",
    "outputId": "4191e6cd-e00b-4263-bf5e-4f3f8173dfb8"
   },
   "outputs": [],
   "source": [
    "# Checking transcripts length\n",
    "\n",
    "df_combined['transcript_length'] = df_combined['transcript'].str.len()\n",
    "\n",
    "\n",
    "plt.hist(df_combined['transcript_length'], bins=20, edgecolor='black')\n",
    "plt.xlabel('Length')\n",
    "plt.ylabel('Frequency')\n",
    "plt.title('Histogram of Transcript Length')\n",
    "plt.show()"
   ]
  },
  {
   "cell_type": "code",
   "execution_count": null,
   "metadata": {
    "colab": {
     "base_uri": "https://localhost:8080/",
     "height": 472
    },
    "executionInfo": {
     "elapsed": 305,
     "status": "ok",
     "timestamp": 1742904505202,
     "user": {
      "displayName": "Maricruz Serpa",
      "userId": "11370590112332842903"
     },
     "user_tz": -60
    },
    "id": "odEVQdARwSmI",
    "outputId": "c7bb809f-89f3-4aca-8cfe-9d3c12ed6969"
   },
   "outputs": [],
   "source": [
    "# Checking transcripts length\n",
    "\n",
    "df_combined['transcript_length'] = df_combined['transcript'].str.len()\n",
    "\n",
    "df_filtered = df_combined[df_combined['transcript_length']<=20000]\n",
    "\n",
    "plt.hist(df_filtered['transcript_length'], bins=30, edgecolor='black')\n",
    "plt.xlabel('Length')\n",
    "plt.ylabel('Frequency')\n",
    "plt.title('Histogram of Transcript Length')\n",
    "plt.show()"
   ]
  },
  {
   "cell_type": "code",
   "execution_count": null,
   "metadata": {
    "colab": {
     "base_uri": "https://localhost:8080/"
    },
    "executionInfo": {
     "elapsed": 5,
     "status": "ok",
     "timestamp": 1742915291862,
     "user": {
      "displayName": "Maricruz Serpa",
      "userId": "11370590112332842903"
     },
     "user_tz": -60
    },
    "id": "aJLFgFi9wqj8",
    "outputId": "1b5aeacd-43e9-43d2-ab42-c51d4cdbb19f"
   },
   "outputs": [],
   "source": [
    "# Cutting down to videos below 10k characters (to avoid full tv show episodes and other longer videos)\n",
    "\n",
    "len(df_combined[df_combined['transcript_length'] <= 10000])"
   ]
  },
  {
   "cell_type": "code",
   "execution_count": null,
   "metadata": {
    "colab": {
     "base_uri": "https://localhost:8080/"
    },
    "executionInfo": {
     "elapsed": 5,
     "status": "ok",
     "timestamp": 1742904553048,
     "user": {
      "displayName": "Maricruz Serpa",
      "userId": "11370590112332842903"
     },
     "user_tz": -60
    },
    "id": "oQGoBVTexIGo",
    "outputId": "6ab1207e-bdec-4b30-ebdb-580e7e28c72b"
   },
   "outputs": [],
   "source": [
    "df_combined.shape"
   ]
  },
  {
   "cell_type": "code",
   "execution_count": null,
   "metadata": {
    "colab": {
     "base_uri": "https://localhost:8080/"
    },
    "executionInfo": {
     "elapsed": 50,
     "status": "ok",
     "timestamp": 1742915298044,
     "user": {
      "displayName": "Maricruz Serpa",
      "userId": "11370590112332842903"
     },
     "user_tz": -60
    },
    "id": "2lO-K8Q-yMFX",
    "outputId": "9a6ff237-efe1-411a-888a-3e1901c948cd"
   },
   "outputs": [],
   "source": [
    "df_combined = df_combined[df_combined['transcript_length'] <= 10000]\n",
    "df_combined.shape"
   ]
  },
  {
   "cell_type": "code",
   "execution_count": null,
   "metadata": {
    "colab": {
     "base_uri": "https://localhost:8080/"
    },
    "executionInfo": {
     "elapsed": 22,
     "status": "ok",
     "timestamp": 1742904639389,
     "user": {
      "displayName": "Maricruz Serpa",
      "userId": "11370590112332842903"
     },
     "user_tz": -60
    },
    "id": "y11WlCm2NQAE",
    "outputId": "2e5ef6eb-c304-48db-f372-4d8f500d0b35"
   },
   "outputs": [],
   "source": [
    "# Checking the numbers of shorts\n",
    "\n",
    "count = df_combined['title'].str.contains('#short', case=False, na=False).sum()\n",
    "print(f\"Number of titles containing '#short': {count}\")"
   ]
  },
  {
   "cell_type": "code",
   "execution_count": null,
   "metadata": {
    "colab": {
     "base_uri": "https://localhost:8080/"
    },
    "executionInfo": {
     "elapsed": 60,
     "status": "ok",
     "timestamp": 1742904775428,
     "user": {
      "displayName": "Maricruz Serpa",
      "userId": "11370590112332842903"
     },
     "user_tz": -60
    },
    "id": "T72QDc7AN3Y2",
    "outputId": "9d0acd75-ef16-45c6-9e10-4e1075cbaaab"
   },
   "outputs": [],
   "source": [
    "# Checking if all shorts include #short in their title\n",
    "\n",
    "# API credentials\n",
    "API_KEY = # API Key was removed\n",
    "VIDEO_ID = # Video ID was removed\n",
    "\n",
    "# Create API endpoint\n",
    "url = f\"https://www.googleapis.com/youtube/v3/videos?part=snippet&id={VIDEO_ID}&key={API_KEY}\"\n",
    "\n",
    "# Make the request\n",
    "response = requests.get(url)\n",
    "data = response.json()\n",
    "\n",
    "# Extract the title\n",
    "if 'items' in data and len(data['items']) > 0:\n",
    "    video_title = data['items'][0]['snippet']['title']\n",
    "    print(f\"Video Title: {video_title}\")\n",
    "else:\n",
    "    print(\"Video not found or invalid ID.\")"
   ]
  },
  {
   "cell_type": "code",
   "execution_count": null,
   "metadata": {
    "colab": {
     "base_uri": "https://localhost:8080/",
     "height": 472
    },
    "executionInfo": {
     "elapsed": 412,
     "status": "ok",
     "timestamp": 1742905017014,
     "user": {
      "displayName": "Maricruz Serpa",
      "userId": "11370590112332842903"
     },
     "user_tz": -60
    },
    "id": "K1Vul5SEOlUf",
    "outputId": "1bd73bd5-a162-4d8e-d42b-88e486c0d313"
   },
   "outputs": [],
   "source": [
    "# Checking length of videos with '#short' in their title\n",
    "\n",
    "short_videos = df_combined[df_combined[\"title\"].str.contains(\"#short\", case=False, na=False)]\n",
    "\n",
    "# Calculate the length of the transcript\n",
    "short_videos[\"transcript_length\"] = short_videos[\"transcript\"].apply(len)\n",
    "\n",
    "# Plot the histogram\n",
    "plt.hist(short_videos[\"transcript_length\"], bins=10, color='skyblue', edgecolor='black')\n",
    "plt.title(\"Histogram of Transcript Lengths for '#short' Videos\")\n",
    "plt.xlabel(\"Transcript Length\")\n",
    "plt.ylabel(\"Frequency\")\n",
    "plt.show()"
   ]
  },
  {
   "cell_type": "code",
   "execution_count": null,
   "metadata": {
    "colab": {
     "base_uri": "https://localhost:8080/"
    },
    "executionInfo": {
     "elapsed": 40,
     "status": "ok",
     "timestamp": 1742906006916,
     "user": {
      "displayName": "Maricruz Serpa",
      "userId": "11370590112332842903"
     },
     "user_tz": -60
    },
    "id": "quDmDeS9PFJy",
    "outputId": "acbf8c02-5d69-430f-d941-73434a250f36"
   },
   "outputs": [],
   "source": [
    "# Testing how big would the sample be if we remove videos below 1k characters transcripts\n",
    "# 82% of original dataset\n",
    "\n",
    "filtered_df = df_combined[df_combined[\"transcript_length\"] >= 1000]\n",
    "remaining_rows = len(filtered_df)\n",
    "print(f\"Number of rows remaining: {remaining_rows}\")"
   ]
  },
  {
   "cell_type": "code",
   "execution_count": null,
   "metadata": {
    "id": "4RauBTqNTAPS"
   },
   "outputs": [],
   "source": [
    "# Removing shorts\n",
    "\n",
    "df_combined = df_combined[df_combined[\"transcript_length\"] >= 1000]"
   ]
  },
  {
   "cell_type": "code",
   "execution_count": null,
   "metadata": {
    "colab": {
     "base_uri": "https://localhost:8080/"
    },
    "executionInfo": {
     "elapsed": 23,
     "status": "ok",
     "timestamp": 1742915316228,
     "user": {
      "displayName": "Maricruz Serpa",
      "userId": "11370590112332842903"
     },
     "user_tz": -60
    },
    "id": "I5qZMkXo2RC6",
    "outputId": "302b90c8-f5bc-4410-a3f8-a759f22473fa"
   },
   "outputs": [],
   "source": [
    "df_combined.shape"
   ]
  },
  {
   "cell_type": "markdown",
   "metadata": {
    "id": "Q72pkjZt_KWE"
   },
   "source": [
    "# Preprocessing transcripts in Spanish"
   ]
  },
  {
   "cell_type": "code",
   "execution_count": null,
   "metadata": {
    "id": "KkAlNr_NAInE"
   },
   "outputs": [],
   "source": [
    "df_combined.head()"
   ]
  },
  {
   "cell_type": "code",
   "execution_count": null,
   "metadata": {
    "id": "9BxHFGD3_Pcm"
   },
   "outputs": [],
   "source": [
    "# Function for cleaning the transcripts\n",
    "\n",
    "def preprocess_spanish(text):\n",
    "\n",
    "    # Remove \"[Música]\" (music)\n",
    "    text = re.sub(r'\\[Música\\]', ' ', text)\n",
    "\n",
    "    # Remove \"[Aplausos]\" (applause)\n",
    "    text = re.sub(r'\\[Aplausos\\]', ' ', text)\n",
    "\n",
    "    # Join transcripts that are lists into a single string\n",
    "    if isinstance(text, str) and text.startswith(\"[\") and text.endswith(\"]\"):\n",
    "        try:\n",
    "            text = ast.literal_eval(text)\n",
    "        except ValueError:\n",
    "            pass\n",
    "    if isinstance(text, list):\n",
    "        text = \" \".join(text)\n",
    "    if not isinstance(text, str):\n",
    "        text = str(text)\n",
    "\n",
    "    # Split at capital letters (some sentences are together)\n",
    "    text = \" \".join(re.split(r'(?=[A-Z])', text))\n",
    "\n",
    "    # Split at commas and dots, then join back with a space\n",
    "    text = ''.join(part for part in re.split(r'([.,])', text) if part).replace(',', ', ').replace('.', '. ')\n",
    "\n",
    "    # Remove double spaces\n",
    "    text = re.sub(r'\\s+', ' ', text).strip()\n",
    "\n",
    "    return text"
   ]
  },
  {
   "cell_type": "code",
   "execution_count": null,
   "metadata": {
    "id": "ItlOYbupAVba"
   },
   "outputs": [],
   "source": [
    "tqdm.pandas()\n",
    "df_combined['clean_transcript']=df_combined['transcript'].progress_apply(lambda x:preprocess_spanish(x))\n",
    "df_combined.head()"
   ]
  },
  {
   "cell_type": "code",
   "execution_count": null,
   "metadata": {
    "id": "Q1B0YDxOBpHg"
   },
   "outputs": [],
   "source": [
    "# Sample the df to try punctuation first\n",
    "\n",
    "sample_df = df_combined.sample(n=1000, random_state=42)\n",
    "sample_df.head()"
   ]
  },
  {
   "cell_type": "code",
   "execution_count": null,
   "metadata": {
    "colab": {
     "base_uri": "https://localhost:8080/",
     "height": 209,
     "referenced_widgets": [
      "053e3a85aa964695aacc6dafe363fc76",
      "240677342ec046ecbfda5faee79ee298",
      "51ca473ea88b42cfbd27966d57b4fd3e",
      "cbad4cc1911848c8b692483cf84f1af9",
      "5eda19a85f1340c1bb34bd7f61ae08f7",
      "28b31a2020ec43baaa7d643bf8f6323d",
      "e8b51cd5e98e49df81ca4ce028b1a045",
      "9bf0a8a1c78c4bea9d47d3ffa47f2b20",
      "59f6a85970024c3f9b4c6949a83c3567",
      "857161a7990d40a98c30e59a760cd461",
      "491726b3e9a04d2b86d42eaa842651f6",
      "537faff4ecb64580a150bef7b77965dd",
      "8045c39f72c2473786a55866d7d1373c",
      "cc1829ad4b674dd0857824483301682b",
      "c8f8ca066f5944bca2d6d1113dff8e69",
      "dc25d82d45be4585850b600d8af204ba",
      "ee16ff7c84df43de87f5094f41772073",
      "c8d5222e28264f7885801addb225ca2f",
      "fb5ab1ccceff4e249c229ee22572e3da",
      "56335ba9b5f3431fa66ae5e694ab5b40",
      "500bef1f519449b2b7f61d3ee63535b8",
      "51d7d4df5366408c8047300ba7376abb",
      "cde4396ccee64565bb61dbb5531cfc59",
      "f06bdd95f43d40c383bfdc125baa3ffc",
      "6f48bc628ead41a6ba2ccc829a51ddfa",
      "897027a3f942433884f955eeac6b18d9",
      "0ecd2fb3aa3d4bc0b906d8fe077583aa",
      "e3ac0e4a485d48cdb81bb31e5e27ab71",
      "b6ad81753dc848e2ab87f4bc25b2663d",
      "52fad80bc56544169ab05bdd34055fa6",
      "fc848fabcd2948cf966206b60eb47f8d",
      "140496ce6ec747d0b54fc59a9a5da7f6",
      "ade20906fae04163a741cc28d9c9914e",
      "3a1b395f4abc4337b9d753302a074e49",
      "9ab3e67153be4d4d94fc88afc655287d",
      "a19bf62f3eba470fa5b3b60c244f8989",
      "c594d8f7916546158dfaabc006d5e5cd",
      "36fa3c6d389d4a07af4fccc9c78b017f",
      "2b516b8b8fcd4a8d86703350686584ba",
      "bfe322df2f004f5fad00b95e74286741",
      "ca496d6a65c64d05864137f5b1418a21",
      "ffea917c233145fc84592980506112fb",
      "9d2394c338e34e26ae88a50fe4bc3b95",
      "9451f3eeef854504822f033593f6bf9b",
      "6879da5b604a45d39ecd1aad3049cfa5",
      "7fb3c11fc3f145f5a5363fd1377cb6bd",
      "47f9e01c41c94c3b99b4a6ea43fbb2e6",
      "aac8285ff10b4f2dba6cc9a0c9f64d70",
      "836886c86c0d47758d215810fb04964f",
      "2d32422fad2347a38fec7bc5d93f6a0a",
      "afc71c7cd3484f89be193f7f4999f97e",
      "52a01908dbe842fe948ca0a79f5d047a",
      "8bab1e78bed74c4394f02e258468e811",
      "2860303b43dd4b74b008ab9e71d84cb5",
      "58ed10a0eee94404a4703df24f975ab2",
      "3799189e4aff43578017e1f026be7641",
      "4d30c2cffe28441dbda8a7b4d2da9f12",
      "471e7af09bf84368b405932e7ea1d5e6",
      "5a8654c234364064a1849df0a4773616",
      "a3302a2174534881914a349b1223bcce",
      "4855e575a74f4fc0acda7268e5dfa7bc",
      "02ff276333fd4ae4ab15e8b1d9bfa02e",
      "91b09da162eb409cb126d1ab14a4b30e",
      "ab65ea6d634d4c7d931cb64759923290",
      "211848d4ccc84e1db1d56d0fb35af631",
      "e02e7eb2ffdb4365866121703d26d88d"
     ]
    },
    "executionInfo": {
     "elapsed": 22590,
     "status": "ok",
     "timestamp": 1743067792904,
     "user": {
      "displayName": "Maricruz Serpa",
      "userId": "11370590112332842903"
     },
     "user_tz": -60
    },
    "id": "8GLKATbOPSwq",
    "outputId": "928a941c-6439-4f7a-eb5e-f44eff2d2af0"
   },
   "outputs": [],
   "source": [
    "# Pre trained model for adding punctuation to transcripts\n",
    "\n",
    "tokenizer = AutoTokenizer.from_pretrained(\"kredor/punctuate-all\")\n",
    "model = AutoModelForTokenClassification.from_pretrained(\"kredor/punctuate-all\")\n",
    "\n",
    "def restore_punctuation_raw(text):\n",
    "    inputs = tokenizer(text, return_tensors=\"pt\", truncation=True, max_length=512)\n",
    "    outputs = model(**inputs)\n",
    "    predictions = torch.argmax(outputs.logits, dim=2)\n",
    "\n",
    "    tokens = tokenizer.convert_ids_to_tokens(inputs[\"input_ids\"][0])\n",
    "    raw_output = \" \".join([\n",
    "        tokens[i] if pred == 0 else tokens[i] + tokenizer.decode([pred]).strip()\n",
    "        for i, pred in enumerate(predictions[0])\n",
    "    ])\n",
    "\n",
    "    return raw_output\n",
    "\n",
    "def restore_punctuation_large_text(text, max_length=2500):\n",
    "    chunks = [text[i:i + max_length] for i in range(0, len(text), max_length)]\n",
    "\n",
    "    restored_chunks = []\n",
    "    for chunk in chunks:\n",
    "        tokenized_chunk = tokenizer.encode(chunk, truncation=True, max_length=512)\n",
    "        decoded_chunk = tokenizer.decode(tokenized_chunk)\n",
    "\n",
    "        try:\n",
    "            restored_chunks.append(restore_punctuation_raw(decoded_chunk))\n",
    "        except Exception as e:\n",
    "            print(f\"Error processing chunk: {e}\")\n",
    "            restored_chunks.append(decoded_chunk)\n",
    "\n",
    "    restored_text = ' '.join(restored_chunks)\n",
    "\n",
    "    return restored_text"
   ]
  },
  {
   "cell_type": "code",
   "execution_count": null,
   "metadata": {
    "id": "fixTVsLs9qnv"
   },
   "outputs": [],
   "source": [
    "# New version of punctuation for large texts\n",
    "\n",
    "def new_restore_punctuation_large_text(text, max_length=2500):\n",
    "    overlap = 200\n",
    "    chunks = [text[i:i + max_length] for i in range(0, len(text), max_length - overlap)]\n",
    "\n",
    "    restored_chunks = []\n",
    "    for chunk in chunks:\n",
    "        try:\n",
    "            restored_chunks.append(restore_punctuation_raw(chunk))\n",
    "        except Exception as e:\n",
    "            print(f\"Error processing chunk: {e}\")\n",
    "            restored_chunks.append(chunk)\n",
    "\n",
    "    restored_text = ' '.join(restored_chunks)\n",
    "    return restored_text"
   ]
  },
  {
   "cell_type": "code",
   "execution_count": null,
   "metadata": {
    "id": "__Ne8wWfR-fo"
   },
   "outputs": [],
   "source": [
    "# Function for cleaning up punctuated output\n",
    "\n",
    "def clean_punctuated_output(raw_output):\n",
    "    # Replace <pad> with dots\n",
    "    output_with_dots = raw_output.replace(\"<pad>\", \".\")\n",
    "\n",
    "    # Remove special tokens\n",
    "    output_without_special_tokens = re.sub(r'<[^>]+>', '', output_with_dots)\n",
    "\n",
    "    # Remove all whitespaces\n",
    "    output_without_whitespaces = re.sub(r'\\s+', '', output_without_special_tokens)\n",
    "\n",
    "    # Remove subword markers (▁)\n",
    "    output_without_subwords = output_without_whitespaces.replace(\"▁\", \" \")\n",
    "\n",
    "    # Remove unintended periods within words\n",
    "    fixed_inner_dots = re.sub(r'(?<!\\s)\\.(?!\\s)', '', output_without_subwords)\n",
    "\n",
    "    # Remove unintended commas within words\n",
    "    fixed_inner_commas = re.sub(r'(?<!\\s)\\,(?!\\s)', '', fixed_inner_dots)\n",
    "\n",
    "    # Normalize spaces\n",
    "    final_output = re.sub(r'\\s+', ' ', fixed_inner_commas).strip()\n",
    "\n",
    "    return final_output"
   ]
  },
  {
   "cell_type": "code",
   "execution_count": null,
   "metadata": {
    "id": "K2QE_yXkXVHY"
   },
   "outputs": [],
   "source": [
    "def process_punctuation(row):\n",
    "    raw_result = restore_punctuation_large_text(row)\n",
    "    cleaned_result = clean_punctuated_output(raw_result)\n",
    "    return cleaned_result"
   ]
  },
  {
   "cell_type": "code",
   "execution_count": null,
   "metadata": {
    "id": "XdRcBbz7--LI"
   },
   "outputs": [],
   "source": [
    "# New version for validation\n",
    "\n",
    "def new_process_punctuation(row):\n",
    "    raw_result = new_restore_punctuation_large_text(row)\n",
    "    cleaned_result = clean_punctuated_output(raw_result)\n",
    "    return cleaned_result"
   ]
  },
  {
   "cell_type": "code",
   "execution_count": null,
   "metadata": {
    "id": "ij6k79AXSKUI"
   },
   "outputs": [],
   "source": [
    "sample_df['punctuated_transcript_2'] = sample_df['clean_transcript'].progress_apply(process_punctuation)\n",
    "\n",
    "sample_df.head()"
   ]
  },
  {
   "cell_type": "code",
   "execution_count": null,
   "metadata": {
    "id": "xJu8jDr8HdCT"
   },
   "outputs": [],
   "source": [
    "# Download file to validate\n",
    "\n",
    "sample_df.to_csv(\"sample_df.csv\", encoding='utf-8-sig')"
   ]
  },
  {
   "cell_type": "code",
   "execution_count": null,
   "metadata": {
    "id": "ENflRFrTUAJG"
   },
   "outputs": [],
   "source": [
    "# Splitting df in four parts to run punctuation\n",
    "\n",
    "split_df = np.array_split(df_combined, 10)\n",
    "\n",
    "df_combined_1 = split_df[0]\n",
    "df_combined_2 = split_df[1]\n",
    "df_combined_3 = split_df[2]\n",
    "df_combined_4 = split_df[3]\n",
    "df_combined_5 = split_df[4]\n",
    "df_combined_6 = split_df[5]\n",
    "df_combined_7 = split_df[6]\n",
    "df_combined_8 = split_df[7]\n",
    "df_combined_9 = split_df[8]\n",
    "df_combined_10 = split_df[9]"
   ]
  },
  {
   "cell_type": "code",
   "execution_count": null,
   "metadata": {
    "colab": {
     "base_uri": "https://localhost:8080/",
     "height": 49,
     "referenced_widgets": [
      "1441bd3c67264d77acef7c84c4cdb2ab",
      "bacde0c7d32a40de9194dd912bcb201d",
      "362229ea33404634acba3458783f92c3",
      "cf7ec23e4bb649ac86ab91c4f043c721",
      "2885ab3e5447487c90afd699997ef862",
      "00f8f499b57a41b6868e4615d9d5ba2c",
      "3db0312e2d474ed0b0d31e0dcbea46e2",
      "38b4b6f58d214740845885b35933bd61",
      "f14edcf33b71449db63728dfe49d8e5a",
      "220015a745c44d83bdd9c4b62e907e03",
      "cba5e24def0240c38cf6b03a60df9920"
     ]
    },
    "executionInfo": {
     "elapsed": 3006000,
     "status": "ok",
     "timestamp": 1742918400726,
     "user": {
      "displayName": "Maricruz Serpa",
      "userId": "11370590112332842903"
     },
     "user_tz": -60
    },
    "id": "8r9_dWKxUqv-",
    "outputId": "eefe0964-b015-4964-db29-5800b7b78f1f"
   },
   "outputs": [],
   "source": [
    "# Run punctuation function on first part\n",
    "\n",
    "df_combined_1['punctuated_transcript'] = df_combined_1['clean_transcript'].progress_apply(process_punctuation)"
   ]
  },
  {
   "cell_type": "code",
   "execution_count": null,
   "metadata": {
    "id": "3pKhy_kRU5pu"
   },
   "outputs": [],
   "source": [
    "# Download first part as backup\n",
    "\n",
    "df_combined_1.to_csv() # File location was removed"
   ]
  },
  {
   "cell_type": "code",
   "execution_count": null,
   "metadata": {
    "colab": {
     "base_uri": "https://localhost:8080/",
     "height": 49,
     "referenced_widgets": [
      "4f4e101bde6e4e3882bcfa9daa5c5b72",
      "b23af113dd6841e29ab0391dff8fb3e2",
      "149723f1490e495488b45c50d2705e82",
      "bcfabf37d581425ea00c9170a20569a0",
      "43d8a1763d1049038840e7ba16714006",
      "f617f21ece364c1fafea9b64e14127cd",
      "206632f2228c4241906b496082bc80b5",
      "fefe96ccf4f3427eab8a5deff9d7c8f0",
      "4deb509d2f694cf6800240544ccfbeeb",
      "6d442e67056c4df8a169019ae2da444c",
      "307c03e4864a4e80a460774100b9e257"
     ]
    },
    "executionInfo": {
     "elapsed": 2621486,
     "status": "ok",
     "timestamp": 1742921223030,
     "user": {
      "displayName": "Maricruz Serpa",
      "userId": "11370590112332842903"
     },
     "user_tz": -60
    },
    "id": "PSGP09pLU28D",
    "outputId": "4fbc3dea-127b-4dcc-daff-a62cb2a43795"
   },
   "outputs": [],
   "source": [
    "# Run punctuation function on second part\n",
    "\n",
    "df_combined_2['punctuated_transcript'] = df_combined_2['clean_transcript'].progress_apply(process_punctuation)"
   ]
  },
  {
   "cell_type": "code",
   "execution_count": null,
   "metadata": {
    "id": "eHB463eaVHgq"
   },
   "outputs": [],
   "source": [
    "df_combined_2.to_csv() # File location was removed"
   ]
  },
  {
   "cell_type": "code",
   "execution_count": null,
   "metadata": {
    "colab": {
     "base_uri": "https://localhost:8080/",
     "height": 49,
     "referenced_widgets": [
      "5d8943f68d85417c8070b645905ef811",
      "21970db6caf34df8a0e2994c86505cdd",
      "fd4c5fe9e77e46a6b1831633ee792331",
      "a44212aa9bfc4c658751cbcc1a382dc8",
      "e0f89e83187c4e20bdab70d8f6324d4f",
      "a02ec70537924bb2b19ac8eb0218f0de",
      "8080f63323294a0e8d51877d653eca12",
      "50c3857fadaa426e859bafe83cef5aaf",
      "07500fb888884ae095db2f82331b81b8",
      "425957b1c76a446b8126cd79eebe5656",
      "9b317731951449f28b05daee7397535f"
     ]
    },
    "executionInfo": {
     "elapsed": 2986934,
     "status": "ok",
     "timestamp": 1742924218767,
     "user": {
      "displayName": "Maricruz Serpa",
      "userId": "11370590112332842903"
     },
     "user_tz": -60
    },
    "id": "hiFF6GsyVHcU",
    "outputId": "caa91c1f-1be9-418f-d304-38c386e8e543"
   },
   "outputs": [],
   "source": [
    "# Run punctuation function on third part\n",
    "\n",
    "df_combined_3['punctuated_transcript'] = df_combined_3['clean_transcript'].progress_apply(process_punctuation)"
   ]
  },
  {
   "cell_type": "code",
   "execution_count": null,
   "metadata": {
    "id": "EJOtZsMiVHXC"
   },
   "outputs": [],
   "source": [
    "df_combined_3.to_csv() # File location was removed"
   ]
  },
  {
   "cell_type": "code",
   "execution_count": null,
   "metadata": {
    "colab": {
     "base_uri": "https://localhost:8080/",
     "height": 49,
     "referenced_widgets": [
      "958928474f8649c9b7069630feef063c",
      "72e1209805b24583862cb112aea74cc8",
      "df132c7b98b942fcb7207e5512324b97",
      "7c529d35c57645ecb20762b07943b3f7",
      "5fb5000a909644c492bbd7827b280991",
      "18a3edf4623046a2ab165855b809e898",
      "718f62f3338945489131e3574d631723",
      "c6584c7d44274b688a4bde8f5614e3f2",
      "e34ff954fff4415d8d65e93a7ce5000f",
      "42eefd453df4442d8dc487d758243624",
      "7247368b58a5479dbc2af37b032926fe"
     ]
    },
    "executionInfo": {
     "elapsed": 3580472,
     "status": "ok",
     "timestamp": 1742927823019,
     "user": {
      "displayName": "Maricruz Serpa",
      "userId": "11370590112332842903"
     },
     "user_tz": -60
    },
    "id": "8vQUHNXvVHQp",
    "outputId": "2c027cc3-0871-4741-c47f-b273bd70c54a"
   },
   "outputs": [],
   "source": [
    "# Run punctuation function on fourth part\n",
    "\n",
    "df_combined_4['punctuated_transcript'] = df_combined_4['clean_transcript'].progress_apply(process_punctuation)"
   ]
  },
  {
   "cell_type": "code",
   "execution_count": null,
   "metadata": {
    "id": "9AyLppwjVHJL"
   },
   "outputs": [],
   "source": [
    "df_combined_4.to_csv() # File location was removed"
   ]
  },
  {
   "cell_type": "code",
   "execution_count": null,
   "metadata": {
    "colab": {
     "base_uri": "https://localhost:8080/",
     "height": 49,
     "referenced_widgets": [
      "450508d920ea40aeb9f6b6285b3f357d",
      "051dcbde27d04fedbbe280bb6859d042",
      "2b13ac1d127f45cdabd84b631f957aea",
      "3bf97be8d35c4a73bf83aeca52efa4ca",
      "874c4a69a63d4a498d47b02c60e6d77a",
      "d90406c6eefb4bab8c4a8da0487e9748",
      "964b4edde45743e2b4087e21016130c8",
      "05107dbd063948b6a7fb8b639ac4b29d",
      "2c3a6e4ae4154fd580c602b218f8977a",
      "fc5911233c4e4006969b9a8b6972ac94",
      "3c7b38085d864cd1b8f893a4eabe195d"
     ]
    },
    "executionInfo": {
     "elapsed": 3378453,
     "status": "ok",
     "timestamp": 1742931238271,
     "user": {
      "displayName": "Maricruz Serpa",
      "userId": "11370590112332842903"
     },
     "user_tz": -60
    },
    "id": "gyRC8Mg8NCsZ",
    "outputId": "f3817c50-74db-43a6-844d-ec2586042b0b"
   },
   "outputs": [],
   "source": [
    "# Run punctuation function on 5th part\n",
    "\n",
    "df_combined_5['punctuated_transcript'] = df_combined_5['clean_transcript'].progress_apply(process_punctuation)"
   ]
  },
  {
   "cell_type": "code",
   "execution_count": null,
   "metadata": {
    "id": "ODtfR_nGNdhT"
   },
   "outputs": [],
   "source": [
    "df_combined_5.to_csv() # File location was removed"
   ]
  },
  {
   "cell_type": "code",
   "execution_count": null,
   "metadata": {
    "colab": {
     "base_uri": "https://localhost:8080/",
     "height": 49,
     "referenced_widgets": [
      "1c48b4256a364da79bbbdcb17f34ce24",
      "27bc6955ff7847cab68dac8083f61803",
      "424713ec0f1d43b99f0eb3ea119fc2c8",
      "fcac655717ee4a14a329e52af909e980",
      "d18142d1a92b45f6a8e87cb7cd9729f5",
      "2ffe3b1769024d2b8db09cc805a072f2",
      "db168c06df9b40439fa300fc8b1b5839",
      "b3fec80addde4d328709dfc5b784f92d",
      "ee8af1f2a6874cc8a2c8d94e4a7c1799",
      "ba934ac33fac4df6877c31363538a74a",
      "42b7e911696c4b87843149c73243be8a"
     ]
    },
    "executionInfo": {
     "elapsed": 3501482,
     "status": "ok",
     "timestamp": 1742934934243,
     "user": {
      "displayName": "Maricruz Serpa",
      "userId": "11370590112332842903"
     },
     "user_tz": -60
    },
    "id": "U8fpx2A7VfcX",
    "outputId": "8ec98d18-b697-4ac8-f8ae-112b0cf828d1"
   },
   "outputs": [],
   "source": [
    "# Run punctuation function on 6th part\n",
    "\n",
    "df_combined_6['punctuated_transcript'] = df_combined_6['clean_transcript'].progress_apply(process_punctuation)"
   ]
  },
  {
   "cell_type": "code",
   "execution_count": null,
   "metadata": {
    "id": "HOGaTIQvNeQD"
   },
   "outputs": [],
   "source": [
    "df_combined_6.to_csv() # File location was removed"
   ]
  },
  {
   "cell_type": "code",
   "execution_count": null,
   "metadata": {
    "colab": {
     "base_uri": "https://localhost:8080/",
     "height": 49,
     "referenced_widgets": [
      "9d33a4ca8149423ebd477f9fd856d015",
      "4023e63282974435ae8f7adbbe84c4cc",
      "f5b2d687051f4591b87d5e66a4cd7a7e",
      "2a2d8c4e8f9c48858744c81a2e8cf534",
      "b18c340d638e45bb8e8e35006d5f7269",
      "cabe65c9fc9a4b9a971f7f917cb67009",
      "705b1ed582814b1fb637b9969d9d1568",
      "cc15cffcf1774debb4d7d2d6d509c4c0",
      "50484d96c22b410eb9ab6787f327e640",
      "e30b0544958f45cdb960439f6547ceb5",
      "a423d37636054f15b1a838d7f18feca3"
     ]
    },
    "executionInfo": {
     "elapsed": 2610209,
     "status": "ok",
     "timestamp": 1742937584968,
     "user": {
      "displayName": "Maricruz Serpa",
      "userId": "11370590112332842903"
     },
     "user_tz": -60
    },
    "id": "-9WOjm9zNFwo",
    "outputId": "b01eb306-242a-4192-f443-f00a4a0bd39a"
   },
   "outputs": [],
   "source": [
    "# Run punctuation function on 7th part\n",
    "df_combined_7['punctuated_transcript'] = df_combined_7['clean_transcript'].progress_apply(process_punctuation)"
   ]
  },
  {
   "cell_type": "code",
   "execution_count": null,
   "metadata": {
    "id": "rZpjcjEaNfW3"
   },
   "outputs": [],
   "source": [
    "df_combined_7.to_csv() # File location was removed"
   ]
  },
  {
   "cell_type": "code",
   "execution_count": null,
   "metadata": {
    "id": "0YiVBmlwTsRc"
   },
   "outputs": [],
   "source": [
    "# Read file with 8th part\n",
    "\n",
    "df_combined_8 = pd.read_csv() # File location was removed\n",
    "df_combined_8.head()"
   ]
  },
  {
   "cell_type": "code",
   "execution_count": null,
   "metadata": {
    "colab": {
     "base_uri": "https://localhost:8080/",
     "height": 49,
     "referenced_widgets": [
      "baa4b8e17e454c5aa91b5ac60b3b8673",
      "ec2cbb50cf5844b2837ca5b5538ba244",
      "9058f721b6994c7bab9ffd71a8977302",
      "4c50be57b83946f489e5be02d74a0e15",
      "8a006025f88548f3b783abb010949617",
      "689dd6a7bac14eb2aaf2d351a29d57b8",
      "703898df209e499c9a25996433bd5409",
      "311391985293419c8f2ad4b61ac08656",
      "62478e7d8653424588e9a845abfa9c04",
      "6c1601b11e584eeab6b126a928611a18",
      "a55e249317404d149d67db7dd8cfef41"
     ]
    },
    "executionInfo": {
     "elapsed": 3348865,
     "status": "ok",
     "timestamp": 1743010451306,
     "user": {
      "displayName": "Maricruz Serpa",
      "userId": "11370590112332842903"
     },
     "user_tz": -60
    },
    "id": "JGZ-7xU6NGf-",
    "outputId": "600ff5a3-a534-4642-e5c9-b46a4683cb06"
   },
   "outputs": [],
   "source": [
    "# Run punctuation function on 8th part\n",
    "\n",
    "tqdm.pandas()\n",
    "df_combined_8['punctuated_transcript'] = df_combined_8['clean_transcript'].progress_apply(process_punctuation)"
   ]
  },
  {
   "cell_type": "code",
   "execution_count": null,
   "metadata": {
    "id": "GvLJlUuFNgBN"
   },
   "outputs": [],
   "source": [
    "# Saved non punctuated yet\n",
    "\n",
    "df_combined_8.to_csv() # File location was removed"
   ]
  },
  {
   "cell_type": "code",
   "execution_count": null,
   "metadata": {
    "colab": {
     "base_uri": "https://localhost:8080/"
    },
    "executionInfo": {
     "elapsed": 924,
     "status": "ok",
     "timestamp": 1743010510860,
     "user": {
      "displayName": "Maricruz Serpa",
      "userId": "11370590112332842903"
     },
     "user_tz": -60
    },
    "id": "CkOfr7XbhVhF",
    "outputId": "b3ff3bbf-4f82-449f-89c5-f36f4e97e161"
   },
   "outputs": [],
   "source": [
    "# Read file with 9th part\n",
    "\n",
    "df_combined_9 = pd.read_csv() # File location was removed\n",
    "df_combined_9.shape"
   ]
  },
  {
   "cell_type": "code",
   "execution_count": null,
   "metadata": {
    "colab": {
     "base_uri": "https://localhost:8080/",
     "height": 49,
     "referenced_widgets": [
      "960ec0afac3a47adbbf63e3356a452a9",
      "f437fcd4005b4f3cb6217fdeac094d9d",
      "4f066b5754584bd495e6c8937372d40f",
      "e405be752e9f4eaabb6ce1756f08186f",
      "4e0588ba38f24f93a90b697862058a5b",
      "a974c6e277f64556a7a84b4c0c8de59f",
      "3c3a998db76c427b9582f8ec0a1f0ddd",
      "cdad773a82034b9abcdf096da6b3f999",
      "b1f59d0cadb74b5889739979a5352399",
      "5ff28679c3404d7aa5edd10ef69b82c7",
      "97c3544304bc454cac0980dbe58a6e33"
     ]
    },
    "executionInfo": {
     "elapsed": 3065541,
     "status": "ok",
     "timestamp": 1743013583199,
     "user": {
      "displayName": "Maricruz Serpa",
      "userId": "11370590112332842903"
     },
     "user_tz": -60
    },
    "id": "Etv_8NglNG_m",
    "outputId": "95a1566c-3802-45b9-e576-232732c51616"
   },
   "outputs": [],
   "source": [
    "# Run punctuation function on 9th part\n",
    "df_combined_9['punctuated_transcript'] = df_combined_9['clean_transcript'].progress_apply(process_punctuation)"
   ]
  },
  {
   "cell_type": "code",
   "execution_count": null,
   "metadata": {
    "id": "n3mpmpmONgkA"
   },
   "outputs": [],
   "source": [
    "# Saved non punctuated yet\n",
    "\n",
    "df_combined_9.to_csv() # File location was removed"
   ]
  },
  {
   "cell_type": "code",
   "execution_count": null,
   "metadata": {
    "colab": {
     "base_uri": "https://localhost:8080/"
    },
    "executionInfo": {
     "elapsed": 906,
     "status": "ok",
     "timestamp": 1743013638759,
     "user": {
      "displayName": "Maricruz Serpa",
      "userId": "11370590112332842903"
     },
     "user_tz": -60
    },
    "id": "DvPBXY57tPb0",
    "outputId": "eaab0d6a-9b24-4021-94a1-34fc93dc804e"
   },
   "outputs": [],
   "source": [
    "# Read file with 10th part\n",
    "\n",
    "df_combined_10 = pd.read_csv() # File location was removed\n",
    "df_combined_10.shape"
   ]
  },
  {
   "cell_type": "code",
   "execution_count": null,
   "metadata": {
    "colab": {
     "base_uri": "https://localhost:8080/",
     "height": 49,
     "referenced_widgets": [
      "3cbe169494ce4579ba389014f9f340e4",
      "b979c57d99c74e45b73cf90912620015",
      "0cf50b2a3c8f4dcea93ded1d4d3e1b96",
      "2909ef9f841b4010a5fd386eaaa64d91",
      "1842c837b09d44969cff930ad3ae213e",
      "a95365ec1fe447c0ba00a9f230362210",
      "d8085dff43864e47af9c9af810e949c1",
      "93d7c360fdf14f8d88b038b118c8d986",
      "67821ef4f10c40daa477e9e49653d797",
      "b06f643892104b169c776e5d73b72144",
      "fb3f9a8d90a74a199c04062810fa6777"
     ]
    },
    "executionInfo": {
     "elapsed": 2974446,
     "status": "ok",
     "timestamp": 1743016622977,
     "user": {
      "displayName": "Maricruz Serpa",
      "userId": "11370590112332842903"
     },
     "user_tz": -60
    },
    "id": "yYwOYcGJNHxU",
    "outputId": "4a5c56ab-889c-4cd3-cf0a-79d80159a85e"
   },
   "outputs": [],
   "source": [
    "# Run punctuation function on 10th part\n",
    "\n",
    "df_combined_10['punctuated_transcript'] = df_combined_10['clean_transcript'].progress_apply(process_punctuation)"
   ]
  },
  {
   "cell_type": "code",
   "execution_count": null,
   "metadata": {
    "id": "gdC_m5UANhDN"
   },
   "outputs": [],
   "source": [
    "# Saved non punctuated yet\n",
    "\n",
    "df_combined_10.to_csv() # File location was removed"
   ]
  },
  {
   "cell_type": "markdown",
   "metadata": {
    "id": "Op3kkuAXziQs"
   },
   "source": [
    "Validating punctuation in full df"
   ]
  },
  {
   "cell_type": "code",
   "execution_count": null,
   "metadata": {
    "id": "P2X8T7EdzmSc"
   },
   "outputs": [],
   "source": [
    "# Read all punctuated files\n",
    "\n",
    "df_combined_1 = pd.read_csv() # File location was removed\n",
    "df_combined_2 = pd.read_csv() # File location was removed\n",
    "df_combined_3 = pd.read_csv() # File location was removed\n",
    "df_combined_4 = pd.read_csv() # File location was removed\n",
    "df_combined_5 = pd.read_csv() # File location was removed\n",
    "df_combined_6 = pd.read_csv() # File location was removed\n",
    "df_combined_7 = pd.read_csv() # File location was removed\n",
    "df_combined_8 = pd.read_csv() # File location was removed\n",
    "df_combined_9 = pd.read_csv() # File location was removed\n",
    "df_combined_10 = pd.read_csv() # File location was removed"
   ]
  },
  {
   "cell_type": "code",
   "execution_count": null,
   "metadata": {
    "colab": {
     "base_uri": "https://localhost:8080/"
    },
    "executionInfo": {
     "elapsed": 19,
     "status": "ok",
     "timestamp": 1743065772301,
     "user": {
      "displayName": "Maricruz Serpa",
      "userId": "11370590112332842903"
     },
     "user_tz": -60
    },
    "id": "024rpTjZzmLX",
    "outputId": "bf41e685-126f-401a-eb22-6e8f8e775fbf"
   },
   "outputs": [],
   "source": [
    "# Validate structure\n",
    "\n",
    "print(df_combined_1.shape)\n",
    "print(df_combined_2.shape)\n",
    "print(df_combined_3.shape)\n",
    "print(df_combined_4.shape)\n",
    "print(df_combined_5.shape)\n",
    "print(df_combined_6.shape)\n",
    "print(df_combined_7.shape)\n",
    "print(df_combined_8.shape)\n",
    "print(df_combined_9.shape)\n",
    "print(df_combined_10.shape)"
   ]
  },
  {
   "cell_type": "code",
   "execution_count": null,
   "metadata": {
    "id": "lSJ-66HizmDK"
   },
   "outputs": [],
   "source": [
    "df_combined_7.head(1)"
   ]
  },
  {
   "cell_type": "code",
   "execution_count": null,
   "metadata": {
    "id": "RDlBQ8wA0V1p"
   },
   "outputs": [],
   "source": [
    "# For files 1-7, remove Unnamed:0 (make it index)\n",
    "\n",
    "df_combined_1.set_index('Unnamed: 0', inplace=True)\n",
    "df_combined_2.set_index('Unnamed: 0', inplace=True)\n",
    "df_combined_3.set_index('Unnamed: 0', inplace=True)\n",
    "df_combined_4.set_index('Unnamed: 0', inplace=True)\n",
    "df_combined_5.set_index('Unnamed: 0', inplace=True)\n",
    "df_combined_6.set_index('Unnamed: 0', inplace=True)\n",
    "df_combined_7.set_index('Unnamed: 0', inplace=True)\n",
    "\n",
    "print(df_combined_4.shape)\n",
    "df_combined_7.head(1)"
   ]
  },
  {
   "cell_type": "code",
   "execution_count": null,
   "metadata": {
    "id": "vJuS-36A1aQL"
   },
   "outputs": [],
   "source": [
    "df_combined_10.head(1)"
   ]
  },
  {
   "cell_type": "code",
   "execution_count": null,
   "metadata": {
    "id": "EH54lfSA1Y10"
   },
   "outputs": [],
   "source": [
    "# For files 8-10, remove Unnamed:0 (make it index), remove Unnamed: 0.1\n",
    "\n",
    "df_combined_8.set_index('Unnamed: 0', inplace=True)\n",
    "df_combined_9.set_index('Unnamed: 0', inplace=True)\n",
    "df_combined_10.set_index('Unnamed: 0', inplace=True)\n",
    "\n",
    "df_combined_8.drop(columns=['Unnamed: 0.1'], inplace=True)\n",
    "df_combined_9.drop(columns=['Unnamed: 0.1'], inplace=True)\n",
    "df_combined_10.drop(columns=['Unnamed: 0.1'], inplace=True)\n",
    "\n",
    "print(df_combined_9.shape)\n",
    "df_combined_10.head(1)"
   ]
  },
  {
   "cell_type": "code",
   "execution_count": null,
   "metadata": {
    "id": "C7X2yB_B12WT"
   },
   "outputs": [],
   "source": [
    "# Merge all files\n",
    "\n",
    "dfs = [df_combined_1, df_combined_2, df_combined_3, df_combined_4, df_combined_5, df_combined_6, df_combined_7,\n",
    "       df_combined_8, df_combined_9, df_combined_10]\n",
    "\n",
    "df_combined = pd.concat(dfs)\n",
    "df_combined.index.name = 'index'\n",
    "\n",
    "print(df_combined.shape)\n",
    "df_combined.tail()"
   ]
  },
  {
   "cell_type": "code",
   "execution_count": null,
   "metadata": {
    "id": "bVZjD2f45Fjn"
   },
   "outputs": [],
   "source": [
    "# Create column with length of clean transcript\n",
    "\n",
    "df_combined['clean_transcript_length'] = df_combined['clean_transcript'].apply(len)\n",
    "df_combined.head(1)"
   ]
  },
  {
   "cell_type": "code",
   "execution_count": null,
   "metadata": {
    "id": "2gQLrjCt3A8s"
   },
   "outputs": [],
   "source": [
    "# Create column with length of punctuated transcript\n",
    "\n",
    "df_combined['punct_transcript_length'] = df_combined['punctuated_transcript'].apply(len)\n",
    "df_combined.head(1)"
   ]
  },
  {
   "cell_type": "code",
   "execution_count": null,
   "metadata": {
    "colab": {
     "base_uri": "https://localhost:8080/"
    },
    "executionInfo": {
     "elapsed": 27,
     "status": "ok",
     "timestamp": 1743067089013,
     "user": {
      "displayName": "Maricruz Serpa",
      "userId": "11370590112332842903"
     },
     "user_tz": -60
    },
    "id": "-XCETNx1ec44",
    "outputId": "edff1c7e-6ed8-4c0c-d4c1-49d6e2d93d5a"
   },
   "outputs": [],
   "source": [
    "# Count how many rows have shorter puncuated than non punctuated transcripts\n",
    "# In many cases brackets or other symbols are removed, so being shorter is not necessarily bad\n",
    "# (around a 10% longer or shorter range)\n",
    "\n",
    "count = len(df_combined[df_combined['punct_transcript_length'] < df_combined['clean_transcript_length']])\n",
    "count"
   ]
  },
  {
   "cell_type": "code",
   "execution_count": null,
   "metadata": {
    "colab": {
     "base_uri": "https://localhost:8080/"
    },
    "executionInfo": {
     "elapsed": 21,
     "status": "ok",
     "timestamp": 1743067111487,
     "user": {
      "displayName": "Maricruz Serpa",
      "userId": "11370590112332842903"
     },
     "user_tz": -60
    },
    "id": "P5f77WXjN_2v",
    "outputId": "0fae0f8a-3214-438f-ecea-76a96f916711"
   },
   "outputs": [],
   "source": [
    "# Counting rows with over 10% difference in length between clean and punctuated transcripts\n",
    "\n",
    "df_combined['length_difference_ratio'] = (\n",
    "    df_combined['clean_transcript_length'] -\n",
    "    df_combined['punct_transcript_length']) / df_combined['clean_transcript_length']\n",
    "\n",
    "row_count = len(df_combined[df_combined['length_difference_ratio'] > 0.1])\n",
    "row_count"
   ]
  },
  {
   "cell_type": "code",
   "execution_count": null,
   "metadata": {
    "id": "2kXU89Wv4C6C"
   },
   "outputs": [],
   "source": [
    "# Download file to manually validate cases with big differences\n",
    "\n",
    "df_combined.to_csv() # File location was removed"
   ]
  },
  {
   "cell_type": "code",
   "execution_count": null,
   "metadata": {
    "id": "2F2pB0t-BTGM"
   },
   "outputs": [],
   "source": [
    "# From manual validation: some transcripts were being cut-off of middle of the text section\n",
    "# This was due to the punctuation model max tokens of 512\n",
    "# Overlap was added to a new version of the function to keep tokens that fall between the 512 max tokens and 2500 characters cutoff"
   ]
  },
  {
   "cell_type": "code",
   "execution_count": null,
   "metadata": {
    "id": "SREklU9x7f8I"
   },
   "outputs": [],
   "source": [
    "# Testing re-running punctuation on one transcript\n",
    "\n",
    "test_transcript = df_combined.loc[9304, 'clean_transcript']\n",
    "test_transcript"
   ]
  },
  {
   "cell_type": "code",
   "execution_count": null,
   "metadata": {
    "id": "yASiuWs97fza"
   },
   "outputs": [],
   "source": [
    "# Running punctuation with new function for large texts\n",
    "\n",
    "print(new_process_punctuation(test_transcript))"
   ]
  },
  {
   "cell_type": "code",
   "execution_count": null,
   "metadata": {
    "colab": {
     "base_uri": "https://localhost:8080/",
     "height": 49,
     "referenced_widgets": [
      "3a0d9745f1574fde8da0ac8c39ca9720",
      "5123dc163c6f47fba159ead4539e3411",
      "b0c70f96889a4b028bb2401dbcf0f4e4",
      "d5ed78eee205488b846ef518fdeec540",
      "753c99a2e7484a47beaa4e60c8bbde58",
      "b19f7d0fd090418aa25fec25dd78fde2",
      "93aac4fb5f954fb5bd253d774892a873",
      "025ac9b28f244034994b7d742a91470c",
      "6ec651824fbb4b7cb8adca2577f1703d",
      "26cef967a04941369eb3f3e0f2662561",
      "227310aae9494554881e004cc7706d5a"
     ]
    },
    "executionInfo": {
     "elapsed": 3148813,
     "status": "ok",
     "timestamp": 1743073658009,
     "user": {
      "displayName": "Maricruz Serpa",
      "userId": "11370590112332842903"
     },
     "user_tz": -60
    },
    "id": "d8aakjR57frm",
    "outputId": "cd1f66d3-c354-4414-95b9-9ec5f107842e"
   },
   "outputs": [],
   "source": [
    "# Re-running punctuation with improved large text handling in top 1000 videos with highest length ratio\n",
    "\n",
    "top_1000 = df_combined.sort_values(by='length_difference_ratio', ascending=False).head(1000)\n",
    "tqdm.pandas()\n",
    "top_1000['punctuated_transcript'] = top_1000['clean_transcript'].progress_apply(new_process_punctuation)\n",
    "\n",
    "df_combined.loc[top_1000.index, 'punctuated_transcript'] = top_1000['punctuated_transcript']"
   ]
  },
  {
   "cell_type": "code",
   "execution_count": null,
   "metadata": {
    "colab": {
     "base_uri": "https://localhost:8080/"
    },
    "executionInfo": {
     "elapsed": 43,
     "status": "ok",
     "timestamp": 1743073707956,
     "user": {
      "displayName": "Maricruz Serpa",
      "userId": "11370590112332842903"
     },
     "user_tz": -60
    },
    "id": "E1T7BslR7fi-",
    "outputId": "c0b5c6dc-8813-46ee-ce42-d4236a6ea55f"
   },
   "outputs": [],
   "source": [
    "# Counting rows with over 10% difference in length between clean and punctuated transcripts\n",
    "\n",
    "df_combined['punct_transcript_length'] = df_combined['punctuated_transcript'].apply(len)\n",
    "\n",
    "df_combined['length_difference_ratio'] = (\n",
    "    df_combined['clean_transcript_length'] -\n",
    "    df_combined['punct_transcript_length']) / df_combined['clean_transcript_length']\n",
    "\n",
    "row_count = len(df_combined[df_combined['length_difference_ratio'] > 0.1])\n",
    "row_count"
   ]
  },
  {
   "cell_type": "code",
   "execution_count": null,
   "metadata": {
    "id": "I4y2XgKNSSqA"
   },
   "outputs": [],
   "source": [
    "# Download file\n",
    "\n",
    "df_combined.to_csv() # File location was removed"
   ]
  },
  {
   "cell_type": "markdown",
   "metadata": {
    "id": "71Z_59sSTWnL"
   },
   "source": [
    "# Removing videos with other relevant topics (not crime related) found in first sample"
   ]
  },
  {
   "cell_type": "code",
   "execution_count": null,
   "metadata": {
    "id": "GmHqFYZjTgFj"
   },
   "outputs": [],
   "source": [
    "# Creating list of keywords\n",
    "# Clean up topics: ukraine, russia, israel, netanyahu, palestine, trump, kamala\n",
    "# Keywords \"israel\" and \"harris\" are left out as they are common terms that could appear in crime related topics\n",
    "\n",
    "other_topics_keywords = [\"ucrania\", \"rusia\", \"netanyahu\", \"palestina\", \"trump\", \"kamala\", \"joe biden\", \"elon musk\"]"
   ]
  },
  {
   "cell_type": "code",
   "execution_count": null,
   "metadata": {
    "id": "S5Hfq6yiUZGo"
   },
   "outputs": [],
   "source": [
    "# Define function for counting rows\n",
    "\n",
    "def contains_keywords(text, keywords):\n",
    "    pattern = r'\\b(?:' + '|'.join(map(re.escape, keywords)) + r')\\b'\n",
    "    return bool(re.search(pattern, text.lower()))"
   ]
  },
  {
   "cell_type": "code",
   "execution_count": null,
   "metadata": {
    "colab": {
     "base_uri": "https://localhost:8080/"
    },
    "executionInfo": {
     "elapsed": 2417,
     "status": "ok",
     "timestamp": 1743075005589,
     "user": {
      "displayName": "Maricruz Serpa",
      "userId": "11370590112332842903"
     },
     "user_tz": -60
    },
    "id": "iKzxlLcwUY9z",
    "outputId": "6558557b-11b1-42bf-f758-d9ec346fd131"
   },
   "outputs": [],
   "source": [
    "# Apply function to df\n",
    "\n",
    "count = df_combined['punctuated_transcript'].apply(lambda x: contains_keywords(x, other_topics_keywords)).sum()\n",
    "count"
   ]
  },
  {
   "cell_type": "code",
   "execution_count": null,
   "metadata": {
    "colab": {
     "base_uri": "https://localhost:8080/"
    },
    "executionInfo": {
     "elapsed": 9852,
     "status": "ok",
     "timestamp": 1743075044885,
     "user": {
      "displayName": "Maricruz Serpa",
      "userId": "11370590112332842903"
     },
     "user_tz": -60
    },
    "id": "WfbMs-t4U6D8",
    "outputId": "70909eb2-7575-430b-d2bb-5d8eaa485398"
   },
   "outputs": [],
   "source": [
    "# Create subset of rows with keywords, remove them from main df\n",
    "\n",
    "print(df_combined.shape)\n",
    "\n",
    "matching_rows = df_combined[df_combined['punctuated_transcript'].apply(lambda x: contains_keywords(x, other_topics_keywords))].copy()\n",
    "df_combined_clean = df_combined[~df_combined['punctuated_transcript'].apply(lambda x: contains_keywords(x, other_topics_keywords))].copy()\n",
    "\n",
    "print(matching_rows.shape)\n",
    "print(df_combined_clean.shape)"
   ]
  },
  {
   "cell_type": "code",
   "execution_count": null,
   "metadata": {
    "id": "EENBNixVVnKC"
   },
   "outputs": [],
   "source": [
    "# Download subset for validation\n",
    "\n",
    "matching_rows.to_csv() # File location was removed"
   ]
  },
  {
   "cell_type": "code",
   "execution_count": null,
   "metadata": {
    "id": "yzGX3VUwXlJZ"
   },
   "outputs": [],
   "source": [
    "# Download clean df to check for other topics\n",
    "\n",
    "df_combined_clean.to_csv() # File location was removed"
   ]
  },
  {
   "cell_type": "code",
   "execution_count": null,
   "metadata": {
    "id": "O59-lsX3aL9K"
   },
   "outputs": [],
   "source": [
    "# From manual validation of 100 videos: 95% accuracy (5 unrelated videos found)\n",
    "# Most of them related to the report of an international crime, including the country name in the video title\n",
    "\n",
    "# Checking number of videos with other country names in the title"
   ]
  },
  {
   "cell_type": "code",
   "execution_count": null,
   "metadata": {
    "colab": {
     "base_uri": "https://localhost:8080/"
    },
    "executionInfo": {
     "elapsed": 38,
     "status": "ok",
     "timestamp": 1743077962461,
     "user": {
      "displayName": "Maricruz Serpa",
      "userId": "11370590112332842903"
     },
     "user_tz": -60
    },
    "id": "_q09BmqUa6I7",
    "outputId": "727cb831-4ab8-46db-b744-72e3f6c0db31"
   },
   "outputs": [],
   "source": [
    "# Creating list of country names excluding peru\n",
    "\n",
    "# Reading file with names list\n",
    "country_names = pd.read_csv() # File location was removed\n",
    "\n",
    "country_names['country_name'] = country_names['country_name'].str.strip().str.lower()\n",
    "\n",
    "# Remove: Peru, Venezuela, El Salvador (peruvian districts with this name), granada (grenade), argentina (main avenue with this name)\n",
    "excluded_countries = ['perú', 'venezuela', 'argentina', 'el salvador', 'granada']\n",
    "country_list = country_names[~country_names['country_name'].isin(excluded_countries)]['country_name'].tolist()\n",
    "\n",
    "country_list[0:5]"
   ]
  },
  {
   "cell_type": "code",
   "execution_count": null,
   "metadata": {
    "colab": {
     "base_uri": "https://localhost:8080/"
    },
    "executionInfo": {
     "elapsed": 4503,
     "status": "ok",
     "timestamp": 1743077971352,
     "user": {
      "displayName": "Maricruz Serpa",
      "userId": "11370590112332842903"
     },
     "user_tz": -60
    },
    "id": "YcT4QNJUdeTs",
    "outputId": "7847b432-c038-4b03-cf8f-7acb90e94b4e"
   },
   "outputs": [],
   "source": [
    "# Count rows in df with a country name in the title\n",
    "\n",
    "def contains_country(text, countries):\n",
    "    pattern = r'\\b(?:' + '|'.join(map(re.escape, countries)) + r')\\b'\n",
    "    return bool(re.search(pattern, text.lower()))\n",
    "\n",
    "count = df_combined_clean['title'].apply(lambda x: contains_country(x, country_list)).sum()\n",
    "count"
   ]
  },
  {
   "cell_type": "code",
   "execution_count": null,
   "metadata": {
    "id": "_dd5Uw4KfWiZ"
   },
   "outputs": [],
   "source": [
    "# Create subset of videos with country names to validate accuracy\n",
    "countries_subset = df_combined_clean[df_combined_clean['title'].apply(lambda x: contains_country(x, country_list))].copy()\n",
    "\n",
    "# Download to validate\n",
    "countries_subset.to_csv() # File location was removed"
   ]
  },
  {
   "cell_type": "code",
   "execution_count": null,
   "metadata": {
    "colab": {
     "base_uri": "https://localhost:8080/"
    },
    "executionInfo": {
     "elapsed": 3270,
     "status": "ok",
     "timestamp": 1743078347214,
     "user": {
      "displayName": "Maricruz Serpa",
      "userId": "11370590112332842903"
     },
     "user_tz": -60
    },
    "id": "P4ZYBWDDjjhS",
    "outputId": "9c0aa980-9c55-40ee-fb8a-7fafed7cb390"
   },
   "outputs": [],
   "source": [
    "# From validation: excluding country names is very accurate. Small part of the found videos (6%) could be relevant to analysis,\n",
    "# but more is gained from removing the non-relevant part of the 350 videos found\n",
    "\n",
    "# Updating dataset to remove videos with country names in title\n",
    "df_combined_clean = df_combined[~df_combined['title'].apply(lambda x: contains_country(x, country_list))].copy()\n",
    "df_combined_clean.shape"
   ]
  },
  {
   "cell_type": "code",
   "execution_count": null,
   "metadata": {
    "id": "OpX_w8o0kQOw"
   },
   "outputs": [],
   "source": [
    "# Download final clean df\n",
    "\n",
    "df_combined_clean.to_csv() # File location was removed"
   ]
  },
  {
   "cell_type": "markdown",
   "metadata": {
    "id": "5s6ilR7vkhQZ"
   },
   "source": [
    "Validating final number of videos overtime"
   ]
  },
  {
   "cell_type": "code",
   "execution_count": null,
   "metadata": {
    "id": "BD-q2WT1kp5S"
   },
   "outputs": [],
   "source": [
    "df_combined_clean.head()"
   ]
  },
  {
   "cell_type": "code",
   "execution_count": null,
   "metadata": {
    "colab": {
     "base_uri": "https://localhost:8080/",
     "height": 607
    },
    "executionInfo": {
     "elapsed": 1283,
     "status": "ok",
     "timestamp": 1743078680257,
     "user": {
      "displayName": "Maricruz Serpa",
      "userId": "11370590112332842903"
     },
     "user_tz": -60
    },
    "id": "aYelCGFMknBu",
    "outputId": "d915d52e-0f93-409b-950f-1f8826ec56eb"
   },
   "outputs": [],
   "source": [
    "# Overall number of videos\n",
    "\n",
    "df_combined_clean['video_date'] = pd.to_datetime(df_combined_clean['video_date'])\n",
    "df_combined_clean['year_month'] = df_combined_clean['video_date'].dt.to_period('M')\n",
    "monthly_counts = df_combined_clean.groupby('year_month').size()\n",
    "\n",
    "plt.figure(figsize=(10, 6))\n",
    "bars = plt.bar(monthly_counts.index.astype(str), monthly_counts, color='skyblue')\n",
    "\n",
    "for bar in bars:\n",
    "    height = bar.get_height()\n",
    "    plt.text(bar.get_x() + bar.get_width() / 2, height, str(height), ha='center', va='bottom', fontsize=10)\n",
    "\n",
    "plt.title('Number of Videos Per Month', fontsize=14)\n",
    "plt.xlabel('Month', fontsize=8)\n",
    "plt.ylabel('Number of Videos', fontsize=8)\n",
    "plt.xticks(rotation=45, fontsize = 8)\n",
    "plt.tight_layout()\n",
    "\n",
    "plt.show()"
   ]
  },
  {
   "cell_type": "markdown",
   "metadata": {
    "id": "6ofn8PknFwTq"
   },
   "source": [
    "# Translations"
   ]
  },
  {
   "cell_type": "code",
   "execution_count": null,
   "metadata": {
    "id": "xHygJtT26C28"
   },
   "outputs": [],
   "source": [
    "df_combined_clean.head()"
   ]
  },
  {
   "cell_type": "code",
   "execution_count": null,
   "metadata": {
    "id": "h0oRP-i36I2w"
   },
   "outputs": [],
   "source": [
    "# Read df with 1000 videos that were initially translated as test\n",
    "\n",
    "df_sample_translations = pd.read_csv() # File location was removed\n",
    "df_sample_translations.head()"
   ]
  },
  {
   "cell_type": "code",
   "execution_count": null,
   "metadata": {
    "colab": {
     "base_uri": "https://localhost:8080/"
    },
    "executionInfo": {
     "elapsed": 99,
     "status": "ok",
     "timestamp": 1743084708333,
     "user": {
      "displayName": "Maricruz Serpa",
      "userId": "11370590112332842903"
     },
     "user_tz": -60
    },
    "id": "pP5650Cf7oiM",
    "outputId": "21fe00cc-fa56-4321-a709-60ee43ae97ba"
   },
   "outputs": [],
   "source": [
    "# Add translations to main df for videos that were translated in the sample\n",
    "\n",
    "df_combined_clean = df_combined_clean.merge(\n",
    "    df_sample_translations[['video_id', 'translated_transcript']],\n",
    "    on='video_id',\n",
    "    how='left'\n",
    ")\n",
    "\n",
    "matches_count = df_combined_clean['translated_transcript'].notna().sum()\n",
    "matches_count"
   ]
  },
  {
   "cell_type": "code",
   "execution_count": null,
   "metadata": {
    "colab": {
     "base_uri": "https://localhost:8080/"
    },
    "executionInfo": {
     "elapsed": 13,
     "status": "ok",
     "timestamp": 1743084769401,
     "user": {
      "displayName": "Maricruz Serpa",
      "userId": "11370590112332842903"
     },
     "user_tz": -60
    },
    "id": "E26BZ1yb8qBB",
    "outputId": "405ea7b9-9b6d-4b30-cbb4-257e78607f20"
   },
   "outputs": [],
   "source": [
    "# Number of total videos\n",
    "\n",
    "df_combined_clean.shape"
   ]
  },
  {
   "cell_type": "markdown",
   "metadata": {
    "id": "XJVCibis9OpG"
   },
   "source": [
    "Create subsets of the df to run translation without exceeding google API quota"
   ]
  },
  {
   "cell_type": "code",
   "execution_count": null,
   "metadata": {
    "colab": {
     "base_uri": "https://localhost:8080/"
    },
    "executionInfo": {
     "elapsed": 73,
     "status": "ok",
     "timestamp": 1743085008213,
     "user": {
      "displayName": "Maricruz Serpa",
      "userId": "11370590112332842903"
     },
     "user_tz": -60
    },
    "id": "5GRpro8i87zs",
    "outputId": "5e4c2865-4b51-4ff9-a437-f6b69b6df734"
   },
   "outputs": [],
   "source": [
    "# Remove videos that were already translated\n",
    "\n",
    "translated_subset = df_combined_clean[df_combined_clean['translated_transcript'].notna()].copy()\n",
    "print(translated_subset.shape)\n",
    "\n",
    "# Remaining videos to translate\n",
    "df_pending_translation = df_combined_clean[df_combined_clean['translated_transcript'].isna()].copy()\n",
    "print(df_pending_translation.shape)"
   ]
  },
  {
   "cell_type": "code",
   "execution_count": null,
   "metadata": {
    "id": "Xj23i9qC9oDS"
   },
   "outputs": [],
   "source": [
    "# Save already translated videos to csv\n",
    "translated_subset.to_csv() # File location was removed"
   ]
  },
  {
   "cell_type": "code",
   "execution_count": null,
   "metadata": {
    "id": "fAtVwyNT98YO"
   },
   "outputs": [],
   "source": [
    "# Sort df by transcript length (to prioritize long transcripts with paid API)\n",
    "\n",
    "df_pending_translation = df_pending_translation.sort_values(by='punct_transcript_length', ascending=False)\n",
    "df_pending_translation.reset_index(drop=True, inplace=True)\n",
    "df_pending_translation.head()"
   ]
  },
  {
   "cell_type": "code",
   "execution_count": null,
   "metadata": {
    "colab": {
     "base_uri": "https://localhost:8080/"
    },
    "executionInfo": {
     "elapsed": 33,
     "status": "ok",
     "timestamp": 1743086002209,
     "user": {
      "displayName": "Maricruz Serpa",
      "userId": "11370590112332842903"
     },
     "user_tz": -60
    },
    "id": "VPXXJax_98QL",
    "outputId": "c671eea9-007a-4052-ff3c-4099b2ddc661"
   },
   "outputs": [],
   "source": [
    "# Create subset 1: up to 11,7 million characters\n",
    "subset_to_translate_1 = df_pending_translation.iloc[:1445].copy()\n",
    "\n",
    "total_string_length = subset_to_translate_1['punctuated_transcript'].apply(len).sum()\n",
    "total_string_length"
   ]
  },
  {
   "cell_type": "code",
   "execution_count": null,
   "metadata": {
    "id": "TD89W_97-aKD"
   },
   "outputs": [],
   "source": [
    "# Save subset to csv as backup\n",
    "subset_to_translate_1.to_csv() # File location was removed"
   ]
  },
  {
   "cell_type": "code",
   "execution_count": null,
   "metadata": {
    "colab": {
     "base_uri": "https://localhost:8080/"
    },
    "executionInfo": {
     "elapsed": 57,
     "status": "ok",
     "timestamp": 1743086229552,
     "user": {
      "displayName": "Maricruz Serpa",
      "userId": "11370590112332842903"
     },
     "user_tz": -60
    },
    "id": "VXKaHkYuBsJu",
    "outputId": "06a742fa-70c2-4285-d5bd-13ccddbe0ce3"
   },
   "outputs": [],
   "source": [
    "# Update main df without first subset\n",
    "df_pending_translation = df_pending_translation.drop(subset_to_translate_1.index)\n",
    "\n",
    "print(df_pending_translation.shape)\n",
    "\n",
    "total_string_length = df_pending_translation['punctuated_transcript'].apply(len).sum()\n",
    "print(total_string_length)"
   ]
  },
  {
   "cell_type": "code",
   "execution_count": null,
   "metadata": {
    "id": "2qFSHWG0C81L"
   },
   "outputs": [],
   "source": [
    "df_pending_translation.head()"
   ]
  },
  {
   "cell_type": "code",
   "execution_count": null,
   "metadata": {
    "colab": {
     "base_uri": "https://localhost:8080/"
    },
    "executionInfo": {
     "elapsed": 10,
     "status": "ok",
     "timestamp": 1743086530518,
     "user": {
      "displayName": "Maricruz Serpa",
      "userId": "11370590112332842903"
     },
     "user_tz": -60
    },
    "id": "snnAUBAQBsA3",
    "outputId": "93ca35a0-4c41-41d5-9746-65b76537169c"
   },
   "outputs": [],
   "source": [
    "# Splitting remaining rows into two df with equal string length\n",
    "\n",
    "subset_to_translate_2 = df_pending_translation.iloc[:2360].copy()\n",
    "\n",
    "total_string_length = subset_to_translate_2['punctuated_transcript'].apply(len).sum()\n",
    "total_string_length"
   ]
  },
  {
   "cell_type": "code",
   "execution_count": null,
   "metadata": {
    "id": "Dn97yO0UBr4d"
   },
   "outputs": [],
   "source": [
    "# Save subset to csv as backup\n",
    "subset_to_translate_2.to_csv() # File location was removed"
   ]
  },
  {
   "cell_type": "code",
   "execution_count": null,
   "metadata": {
    "colab": {
     "base_uri": "https://localhost:8080/"
    },
    "executionInfo": {
     "elapsed": 40,
     "status": "ok",
     "timestamp": 1743086598832,
     "user": {
      "displayName": "Maricruz Serpa",
      "userId": "11370590112332842903"
     },
     "user_tz": -60
    },
    "id": "mIq7NSkYDg1N",
    "outputId": "f909649c-3901-4e00-f3d6-0aa02e59bb2c"
   },
   "outputs": [],
   "source": [
    "# Update main df as third subset\n",
    "df_pending_translation = df_pending_translation.drop(subset_to_translate_2.index)\n",
    "\n",
    "print(df_pending_translation.shape)\n",
    "\n",
    "total_string_length = df_pending_translation['punctuated_transcript'].apply(len).sum()\n",
    "print(total_string_length)"
   ]
  },
  {
   "cell_type": "code",
   "execution_count": null,
   "metadata": {
    "id": "kvhEd08aDgtM"
   },
   "outputs": [],
   "source": [
    "# Save subset to csv as backup\n",
    "subset_to_translate_3 = df_pending_translation\n",
    "subset_to_translate_3.to_csv() # File location was removed"
   ]
  },
  {
   "cell_type": "code",
   "execution_count": null,
   "metadata": {
    "colab": {
     "base_uri": "https://localhost:8080/"
    },
    "executionInfo": {
     "elapsed": 17,
     "status": "ok",
     "timestamp": 1743086753808,
     "user": {
      "displayName": "Maricruz Serpa",
      "userId": "11370590112332842903"
     },
     "user_tz": -60
    },
    "id": "WsUGpqQ7Dgkh",
    "outputId": "7cb9d6bf-0da8-45fa-cb0a-2b94f2c760d9"
   },
   "outputs": [],
   "source": [
    "# Validate rows\n",
    "print(df_combined_clean.shape)\n",
    "print(translated_subset.shape)\n",
    "print(subset_to_translate_1.shape)\n",
    "print(subset_to_translate_2.shape)\n",
    "print(subset_to_translate_3.shape)"
   ]
  },
  {
   "cell_type": "markdown",
   "metadata": {
    "id": "IkieSfmkEZft"
   },
   "source": [
    "Translating sample and first subset"
   ]
  },
  {
   "cell_type": "code",
   "execution_count": null,
   "metadata": {
    "id": "HW-cgZ1q98Gd"
   },
   "outputs": [],
   "source": [
    "# Initializing Google Translate\n",
    "credentials = () # File location was removed\n",
    "os.environ[\"GOOGLE_APPLICATION_CREDENTIALS\"] = credentials\n",
    "client = translate.Client()"
   ]
  },
  {
   "cell_type": "code",
   "execution_count": null,
   "metadata": {
    "id": "gC5-kMZWRJcg"
   },
   "outputs": [],
   "source": [
    "def translate_text(text, target_language=\"en\", source_language=\"es\"):\n",
    "    try:\n",
    "        translation = client.translate(text, target_language=target_language)\n",
    "        return translation[\"translatedText\"]\n",
    "    except Exception as e:\n",
    "        print(f\"Error translating text: {e}\")\n",
    "        return text"
   ]
  },
  {
   "cell_type": "code",
   "execution_count": null,
   "metadata": {
    "id": "iAQ5Qr9sQLK2"
   },
   "outputs": [],
   "source": [
    "# Translating the sample df with Google Translate API\n",
    "\n",
    "tqdm.pandas()\n",
    "sample_df['translated_transcript'] = sample_df['punctuated_transcript'].progress_apply(translate_text)\n",
    "sample_df.head()"
   ]
  },
  {
   "cell_type": "code",
   "execution_count": null,
   "metadata": {
    "colab": {
     "base_uri": "https://localhost:8080/"
    },
    "executionInfo": {
     "elapsed": 17,
     "status": "ok",
     "timestamp": 1742838955031,
     "user": {
      "displayName": "Maricruz Serpa",
      "userId": "11370590112332842903"
     },
     "user_tz": -60
    },
    "id": "yZstJuQaSLht",
    "outputId": "854f2fd6-4727-4d5e-92de-6527dc9cd308"
   },
   "outputs": [],
   "source": [
    "# Counting rows with errors (translation same as transcript)\n",
    "\n",
    "row_count = len(sample_df[sample_df['translated_transcript'] == sample_df['punctuated_transcript']])\n",
    "row_count"
   ]
  },
  {
   "cell_type": "code",
   "execution_count": null,
   "metadata": {
    "id": "JgD5EiRfFSgw"
   },
   "outputs": [],
   "source": [
    "# Translating first subset\n",
    "\n",
    "tqdm.pandas()\n",
    "subset_to_translate_1['translated_transcript'] = subset_to_translate_1['punctuated_transcript'].progress_apply(translate_text)\n",
    "subset_to_translate_1.head()"
   ]
  },
  {
   "cell_type": "code",
   "execution_count": null,
   "metadata": {
    "id": "b4j0tmSUFSYK"
   },
   "outputs": [],
   "source": [
    "# Save translated subset to csv\n",
    "\n",
    "subset_to_translate_1.to_csv() # File location was removed"
   ]
  },
  {
   "cell_type": "code",
   "execution_count": null,
   "metadata": {
    "colab": {
     "base_uri": "https://localhost:8080/"
    },
    "executionInfo": {
     "elapsed": 16,
     "status": "ok",
     "timestamp": 1743087712974,
     "user": {
      "displayName": "Maricruz Serpa",
      "userId": "11370590112332842903"
     },
     "user_tz": -60
    },
    "id": "3me5HffQH2e6",
    "outputId": "740c60f3-9d4b-456a-e2fd-3bd0f3160c01"
   },
   "outputs": [],
   "source": [
    "# Counting rows with errors (translation same as transcript)\n",
    "\n",
    "row_count = len(subset_to_translate_1[subset_to_translate_1['translated_transcript'] == subset_to_translate_1['punctuated_transcript']])\n",
    "row_count"
   ]
  },
  {
   "cell_type": "markdown",
   "metadata": {
    "id": "aKzuqqjAHYDS"
   },
   "source": [
    "Translating second subset"
   ]
  },
  {
   "cell_type": "code",
   "execution_count": null,
   "metadata": {
    "id": "vTl3CW_rFSO-"
   },
   "outputs": [],
   "source": [
    "# Initializing Google Translate with credentials\n",
    "\n",
    "credentials = () # File location was removed\n",
    "os.environ[\"GOOGLE_APPLICATION_CREDENTIALS\"] = credentials\n",
    "client = translate.Client()"
   ]
  },
  {
   "cell_type": "code",
   "execution_count": null,
   "metadata": {
    "id": "ZNwY6MqWH1xk"
   },
   "outputs": [],
   "source": [
    "# Translating second subset\n",
    "\n",
    "tqdm.pandas()\n",
    "subset_to_translate_2['translated_transcript'] = subset_to_translate_2['punctuated_transcript'].progress_apply(translate_text)\n",
    "subset_to_translate_2.head()"
   ]
  },
  {
   "cell_type": "code",
   "execution_count": null,
   "metadata": {
    "id": "WUFqG96JH1oS"
   },
   "outputs": [],
   "source": [
    "# Save translated subset to csv\n",
    "subset_to_translate_2.to_csv() # File location was removed"
   ]
  },
  {
   "cell_type": "code",
   "execution_count": null,
   "metadata": {
    "colab": {
     "base_uri": "https://localhost:8080/"
    },
    "executionInfo": {
     "elapsed": 16,
     "status": "ok",
     "timestamp": 1743088404237,
     "user": {
      "displayName": "Maricruz Serpa",
      "userId": "11370590112332842903"
     },
     "user_tz": -60
    },
    "id": "CZAylu5IIHko",
    "outputId": "c8e2a5b2-e3df-425c-87b3-7c1628cb2743"
   },
   "outputs": [],
   "source": [
    "# Counting rows with errors (translation same as transcript)\n",
    "\n",
    "row_count = len(subset_to_translate_2[subset_to_translate_2['translated_transcript'] == subset_to_translate_2['punctuated_transcript']])\n",
    "row_count"
   ]
  },
  {
   "cell_type": "markdown",
   "metadata": {
    "id": "-gsSuT8CKnQn"
   },
   "source": [
    "Translating third subset"
   ]
  },
  {
   "cell_type": "code",
   "execution_count": null,
   "metadata": {
    "id": "Aw-25n-NIHZu"
   },
   "outputs": [],
   "source": [
    "# Initializing Google Translate with credentials\n",
    "\n",
    "credentials = () # File location was removed\n",
    "os.environ[\"GOOGLE_APPLICATION_CREDENTIALS\"] = credentials\n",
    "client = translate.Client()"
   ]
  },
  {
   "cell_type": "code",
   "execution_count": null,
   "metadata": {
    "id": "cGrme3q1KqQa"
   },
   "outputs": [],
   "source": [
    "# Translating second subset\n",
    "\n",
    "tqdm.pandas()\n",
    "subset_to_translate_3['translated_transcript'] = subset_to_translate_3['punctuated_transcript'].progress_apply(translate_text)\n",
    "subset_to_translate_3.head()"
   ]
  },
  {
   "cell_type": "code",
   "execution_count": null,
   "metadata": {
    "id": "BB48YrbpKqHQ"
   },
   "outputs": [],
   "source": [
    "# Save translated subset to csv\n",
    "\n",
    "subset_to_translate_3.to_csv() # File location was removed"
   ]
  },
  {
   "cell_type": "code",
   "execution_count": null,
   "metadata": {
    "colab": {
     "base_uri": "https://localhost:8080/"
    },
    "executionInfo": {
     "elapsed": 8,
     "status": "ok",
     "timestamp": 1743089842682,
     "user": {
      "displayName": "Maricruz Serpa",
      "userId": "11370590112332842903"
     },
     "user_tz": -60
    },
    "id": "Pb8xdWQNKp-T",
    "outputId": "c17e83fa-207a-4c2f-9cf0-dc47beb43e94"
   },
   "outputs": [],
   "source": [
    "# Counting rows with errors (translation same as transcript)\n",
    "\n",
    "row_count = len(subset_to_translate_3[subset_to_translate_3['translated_transcript'] == subset_to_translate_3['punctuated_transcript']])\n",
    "row_count"
   ]
  },
  {
   "cell_type": "markdown",
   "metadata": {
    "id": "SZnSeV_BLHNM"
   },
   "source": [
    "Merging full translated df"
   ]
  },
  {
   "cell_type": "code",
   "execution_count": null,
   "metadata": {
    "colab": {
     "base_uri": "https://localhost:8080/"
    },
    "executionInfo": {
     "elapsed": 27,
     "status": "ok",
     "timestamp": 1743089908587,
     "user": {
      "displayName": "Maricruz Serpa",
      "userId": "11370590112332842903"
     },
     "user_tz": -60
    },
    "id": "hd1ucS7OQOOB",
    "outputId": "22468d96-1628-4cc8-ef9c-b3ab6658df7e"
   },
   "outputs": [],
   "source": [
    "print(translated_subset.shape)\n",
    "print(subset_to_translate_1.shape)\n",
    "print(subset_to_translate_2.shape)\n",
    "print(subset_to_translate_3.shape)"
   ]
  },
  {
   "cell_type": "code",
   "execution_count": null,
   "metadata": {
    "colab": {
     "base_uri": "https://localhost:8080/"
    },
    "executionInfo": {
     "elapsed": 140,
     "status": "ok",
     "timestamp": 1743090045576,
     "user": {
      "displayName": "Maricruz Serpa",
      "userId": "11370590112332842903"
     },
     "user_tz": -60
    },
    "id": "Vzgx9zxeQOAv",
    "outputId": "d3c359be-f373-4b94-d2eb-19f135e24722"
   },
   "outputs": [],
   "source": [
    "# Combining all the subsets\n",
    "df_translated = pd.concat([translated_subset, subset_to_translate_1, subset_to_translate_2, subset_to_translate_3])\n",
    "df_translated.reset_index(drop=True, inplace=True)\n",
    "\n",
    "# Shuffle the rows randomly\n",
    "df_translated = df_translated.sample(frac=1).reset_index(drop=True)\n",
    "df_translated.shape"
   ]
  },
  {
   "cell_type": "code",
   "execution_count": null,
   "metadata": {
    "id": "KMCVZk-HQ-9V"
   },
   "outputs": [],
   "source": [
    "df_translated.head()"
   ]
  },
  {
   "cell_type": "code",
   "execution_count": null,
   "metadata": {
    "id": "rQvlYqJjToMq"
   },
   "outputs": [],
   "source": [
    "# Decode translation to remove symbols like in \"We&#39;re going\"\n",
    "\n",
    "def decode_html_entities(text):\n",
    "    return html.unescape(text)\n",
    "\n",
    "df_translated['translated_transcript'] = df_translated['translated_transcript'].apply(decode_html_entities)\n",
    "df_translated.head()"
   ]
  },
  {
   "cell_type": "code",
   "execution_count": null,
   "metadata": {
    "id": "Lzuq12fXSerG"
   },
   "outputs": [],
   "source": [
    "# Download final translated df\n",
    "\n",
    "df_translated.to_csv() # File location was removed"
   ]
  },
  {
   "cell_type": "markdown",
   "metadata": {
    "id": "2gLSFbAMbFWs"
   },
   "source": [
    "# Categorizing videos mentioning Venezuelan migrants"
   ]
  },
  {
   "cell_type": "code",
   "execution_count": null,
   "metadata": {
    "id": "XVIocurFdYE3"
   },
   "outputs": [],
   "source": [
    "# Keyword list for identifying videos that mention Venezuelan migrants based on Guevara (2024)\n",
    "# 'Migrants' and 'foreigners' related keywords are left out, as they are not necessarilly related to Venezuelan migrants\n",
    "venezuela_keywords = [\"venezolano\", \"venezolana\", \"venezolanos\", \"venezolanas\", \"chamo\", \"chamas\",\n",
    "                      \"chamos\", \"chamas\", \"veneco\", \"veneca\", \"venecos\", \"venecas\"]\n",
    "\n",
    "# Function to check if any keyword is in the clean_transcript\n",
    "def check_keywords(text, keywords):\n",
    "    pattern = r'\\b(?:' + '|'.join(map(re.escape, keywords)) + r')\\b'\n",
    "    return int(bool(re.search(pattern, str(text).lower())))\n",
    "\n",
    "df_translated['bin_venezuelan'] = df_translated['clean_transcript'].apply(lambda x: check_keywords(x, venezuela_keywords))\n",
    "\n",
    "df_translated.head()"
   ]
  },
  {
   "cell_type": "code",
   "execution_count": null,
   "metadata": {
    "colab": {
     "base_uri": "https://localhost:8080/",
     "height": 178
    },
    "executionInfo": {
     "elapsed": 20,
     "status": "ok",
     "timestamp": 1743092876229,
     "user": {
      "displayName": "Maricruz Serpa",
      "userId": "11370590112332842903"
     },
     "user_tz": -60
    },
    "id": "W1AsGSHabheB",
    "outputId": "455af3ea-a0a2-454c-8cd1-297a1d7ee718"
   },
   "outputs": [],
   "source": [
    "# Checking overall number of videos than mention Venezuelan migrants\n",
    "\n",
    "df_translated['bin_venezuelan'].value_counts()"
   ]
  },
  {
   "cell_type": "code",
   "execution_count": null,
   "metadata": {
    "colab": {
     "base_uri": "https://localhost:8080/",
     "height": 591
    },
    "executionInfo": {
     "elapsed": 4087,
     "status": "ok",
     "timestamp": 1743093069320,
     "user": {
      "displayName": "Maricruz Serpa",
      "userId": "11370590112332842903"
     },
     "user_tz": -60
    },
    "id": "h8kTPriIeZE8",
    "outputId": "f30c17a7-56c5-40ba-807c-677256e96d07"
   },
   "outputs": [],
   "source": [
    "# Checking number of videos over time\n",
    "\n",
    "grouped = df_translated.groupby(['year_month', 'bin_venezuelan']).size().unstack(fill_value=0)\n",
    "grouped.plot(kind='bar', stacked=True, figsize=(12, 6), color=['skyblue', 'salmon'])\n",
    "plt.title('Monthly Number of Videos by Venezuelan Content', fontsize=16)\n",
    "plt.xlabel('Month', fontsize=14)\n",
    "plt.ylabel('Number of Videos', fontsize=14)\n",
    "plt.xticks(rotation=45, fontsize=10)\n",
    "plt.legend(title='Venezuelan Content (bin_venezuelan)', labels=['No (0)', 'Yes (1)'], fontsize=10)\n",
    "plt.tight_layout()\n",
    "for i, (index, row) in enumerate(grouped.iterrows()):\n",
    "    y_offset = 0\n",
    "    for bin_value in [0, 1]:\n",
    "        if row[bin_value] > 0:\n",
    "            plt.text(i, y_offset + row[bin_value] / 2, str(row[bin_value]),\n",
    "                     ha='center', va='center', fontsize=10, color='black')\n",
    "            y_offset += row[bin_value]\n",
    "plt.show()"
   ]
  },
  {
   "cell_type": "code",
   "execution_count": null,
   "metadata": {
    "id": "trx1P43II8Qz"
   },
   "outputs": [],
   "source": [
    "# Download df with bin_venezuelan for validation\n",
    "\n",
    "df_translated.to_csv() # File location was removed"
   ]
  },
  {
   "cell_type": "markdown",
   "metadata": {
    "id": "-FPfdfPeLjoU"
   },
   "source": [
    "# Removing additional not related topics found in transcripts"
   ]
  },
  {
   "cell_type": "code",
   "execution_count": null,
   "metadata": {
    "id": "eqNhiFylLoWM"
   },
   "outputs": [],
   "source": [
    "# Mapping additional not related topics that were found in the transcripts df\n",
    "\n",
    "# To remove from transcript\n",
    "other_topics_keywords_2 = [\"ucrania\", \"rusia\", \"netanyahu\", \"palestina\", \"trump\", \"kamala\", \"joe biden\", \"elon musk\", \"highland park\",\n",
    "                           \"robert kart\", \"george soros\", \"jlo\", \"jennifer lopez\", \"marc anthony\", \"daniel noboa\"]\n",
    "\n",
    "# To remove from titles\n",
    "other_topics_title = [\"eeuu\", \"ee.uu\", \"ee.uu.\", \"ucraniano\", \"daniel noboa\"]"
   ]
  },
  {
   "cell_type": "code",
   "execution_count": null,
   "metadata": {
    "id": "HwzDvFXXLo3m"
   },
   "outputs": [],
   "source": [
    "# Define function for counting rows\n",
    "\n",
    "def contains_keywords(text, keywords):\n",
    "    pattern = r'\\b(?:' + '|'.join(map(re.escape, keywords)) + r')\\b'\n",
    "    return bool(re.search(pattern, text.lower()))"
   ]
  },
  {
   "cell_type": "code",
   "execution_count": null,
   "metadata": {
    "colab": {
     "base_uri": "https://localhost:8080/"
    },
    "executionInfo": {
     "elapsed": 1658,
     "status": "ok",
     "timestamp": 1743156238108,
     "user": {
      "displayName": "Maricruz Serpa",
      "userId": "11370590112332842903"
     },
     "user_tz": -60
    },
    "id": "q5uXrYxGLot5",
    "outputId": "65718003-a441-42d1-f76e-6a20178abae7"
   },
   "outputs": [],
   "source": [
    "# Apply function to df\n",
    "\n",
    "count = df_translated['punctuated_transcript'].apply(lambda x: contains_keywords(x, other_topics_keywords_2)).sum()\n",
    "count"
   ]
  },
  {
   "cell_type": "code",
   "execution_count": null,
   "metadata": {
    "colab": {
     "base_uri": "https://localhost:8080/"
    },
    "executionInfo": {
     "elapsed": 1786,
     "status": "ok",
     "timestamp": 1743156336077,
     "user": {
      "displayName": "Maricruz Serpa",
      "userId": "11370590112332842903"
     },
     "user_tz": -60
    },
    "id": "eKzkBB36NHOU",
    "outputId": "d3fd42e0-5e7e-47d4-a2a1-b9878f9599ed"
   },
   "outputs": [],
   "source": [
    "# Remove rows\n",
    "\n",
    "print(df_translated.shape)\n",
    "\n",
    "df_translated = df_translated[~df_translated['punctuated_transcript'].apply(lambda x: contains_keywords(x, other_topics_keywords_2))].copy()\n",
    "\n",
    "print(df_translated.shape)"
   ]
  },
  {
   "cell_type": "code",
   "execution_count": null,
   "metadata": {
    "colab": {
     "base_uri": "https://localhost:8080/"
    },
    "executionInfo": {
     "elapsed": 72,
     "status": "ok",
     "timestamp": 1743156368335,
     "user": {
      "displayName": "Maricruz Serpa",
      "userId": "11370590112332842903"
     },
     "user_tz": -60
    },
    "id": "Q8B0flsBNHDc",
    "outputId": "3d620774-7c47-4ef1-ec05-106a5fd6fd0d"
   },
   "outputs": [],
   "source": [
    "# Apply function to video titles\n",
    "\n",
    "count = df_translated['title'].apply(lambda x: contains_keywords(x, other_topics_title)).sum()\n",
    "count"
   ]
  },
  {
   "cell_type": "code",
   "execution_count": null,
   "metadata": {
    "colab": {
     "base_uri": "https://localhost:8080/"
    },
    "executionInfo": {
     "elapsed": 48,
     "status": "ok",
     "timestamp": 1743156393585,
     "user": {
      "displayName": "Maricruz Serpa",
      "userId": "11370590112332842903"
     },
     "user_tz": -60
    },
    "id": "6Dt98A6dNHAJ",
    "outputId": "d8e6e452-4d64-46ec-a36f-f35d333ca11d"
   },
   "outputs": [],
   "source": [
    "# Remove rows\n",
    "\n",
    "print(df_translated.shape)\n",
    "\n",
    "df_translated = df_translated[~df_translated['title'].apply(lambda x: contains_keywords(x, other_topics_title))].copy()\n",
    "\n",
    "print(df_translated.shape)"
   ]
  },
  {
   "cell_type": "code",
   "execution_count": null,
   "metadata": {
    "id": "fuUNma6sN8N2"
   },
   "outputs": [],
   "source": [
    "# Check number of videos over time\n",
    "\n",
    "grouped = df_translated.groupby(['year_month', 'bin_venezuelan']).size().unstack(['bin_venezuelan'], fill_value=0)\n",
    "\n",
    "grouped.plot(kind='bar', stacked=True, figsize=(12, 6), color=['skyblue', 'salmon', 'orange'])\n",
    "plt.title('Monthly Number of Videos by Venezuelan Content', fontsize=16)\n",
    "plt.xlabel('Month', fontsize=14)\n",
    "plt.ylabel('Number of Videos', fontsize=14)\n",
    "plt.xticks(rotation=45, fontsize=10)\n",
    "plt.legend(title='Content Type', labels=[\n",
    "    'Venezuelan: No (0),\n",
    "    'Venezuelan: Yes (1)\n",
    "], fontsize=10)\n",
    "plt.tight_layout()\n",
    "\n",
    "# Add data labels\n",
    "for i, (index, row) in enumerate(grouped.iterrows()):\n",
    "    y_offset = 0\n",
    "    for bin_label in row.index:\n",
    "        if row[bin_label] > 0:\n",
    "            plt.text(i, y_offset + row[bin_label] / 2, str(row[bin_label]),\n",
    "                     ha='center', va='center', fontsize=10, color='black')\n",
    "            y_offset += row[bin_label]\n",
    "\n",
    "plt.show()"
   ]
  },
  {
   "cell_type": "code",
   "execution_count": null,
   "metadata": {
    "id": "yAl1-NQQOo9G"
   },
   "outputs": [],
   "source": [
    "# Download clean df to csv\n",
    "\n",
    "df_translated_download = df_translated[['video_id', 'title', 'url', 'channel', 'video_date',\n",
    "       'punctuated_transcript', 'punct_transcript_length',\n",
    "       'year_month', 'translated_transcript', 'bin_venezuelan',\n",
    "       'bin_foreigner']]\n",
    "\n",
    "df_translated_download.to_csv() # File location was removed"
   ]
  },
  {
   "cell_type": "markdown",
   "metadata": {
    "id": "71rQarEcP-ny"
   },
   "source": [
    "# Translating the titles"
   ]
  },
  {
   "cell_type": "code",
   "execution_count": null,
   "metadata": {
    "colab": {
     "base_uri": "https://localhost:8080/"
    },
    "executionInfo": {
     "elapsed": 2348,
     "status": "ok",
     "timestamp": 1743330399318,
     "user": {
      "displayName": "Maricruz Serpa",
      "userId": "11370590112332842903"
     },
     "user_tz": -120
    },
    "id": "XGPUE_i4SgYu",
    "outputId": "a00dc8fa-ca9a-4011-875b-005cf7a180aa"
   },
   "outputs": [],
   "source": [
    "df_translated = pd.read_csv() # File location was removed\n",
    "df_translated.shape"
   ]
  },
  {
   "cell_type": "code",
   "execution_count": null,
   "metadata": {
    "id": "adbnRtQ_QBbb"
   },
   "outputs": [],
   "source": [
    "# Initialize the translator\n",
    "\n",
    "translator = Translator()\n",
    "\n",
    "def translate_short_text(text, src='es', dest='en'):\n",
    "    try:\n",
    "        if not text or pd.isna(text):\n",
    "            return text\n",
    "        translation = translator.translate(text, src=src, dest=dest)\n",
    "        if translation and translation.text:\n",
    "            return translation.text\n",
    "        else:\n",
    "            return text\n",
    "    except Exception as e:\n",
    "        print(f\"Error translating '{text}': {e}\")\n",
    "        return text"
   ]
  },
  {
   "cell_type": "code",
   "execution_count": null,
   "metadata": {
    "colab": {
     "base_uri": "https://localhost:8080/",
     "height": 35
    },
    "executionInfo": {
     "elapsed": 71,
     "status": "ok",
     "timestamp": 1743330424110,
     "user": {
      "displayName": "Maricruz Serpa",
      "userId": "11370590112332842903"
     },
     "user_tz": -120
    },
    "id": "3RwmpGKRRBIP",
    "outputId": "59edc3a5-07f6-4fa5-996a-90201b2b21ee"
   },
   "outputs": [],
   "source": [
    "translate_short_text(\"hola mundo\")"
   ]
  },
  {
   "cell_type": "code",
   "execution_count": null,
   "metadata": {
    "id": "IaQmwT-hmAol"
   },
   "outputs": [],
   "source": [
    "df_translated.head()"
   ]
  },
  {
   "cell_type": "code",
   "execution_count": null,
   "metadata": {
    "id": "4R-K1dEIQoND"
   },
   "outputs": [],
   "source": [
    "# Translating titles\n",
    "\n",
    "tqdm.pandas()\n",
    "df_translated['translated_title'] = df_translated['title'].progress_apply(\n",
    "    lambda x: (time.sleep(1) or translate_short_text(x)))\n",
    "\n",
    "df_translated.head()"
   ]
  },
  {
   "cell_type": "code",
   "execution_count": null,
   "metadata": {
    "colab": {
     "base_uri": "https://localhost:8080/"
    },
    "executionInfo": {
     "elapsed": 42,
     "status": "ok",
     "timestamp": 1743344655945,
     "user": {
      "displayName": "Maricruz Serpa",
      "userId": "11370590112332842903"
     },
     "user_tz": -120
    },
    "id": "vpd_CmrucAl1",
    "outputId": "edf25098-721b-4ba4-cf69-3ef4cd105e37"
   },
   "outputs": [],
   "source": [
    "# Counting rows with errors (translation same as transcript)\n",
    "\n",
    "row_count = len(df_translated[df_translated['translated_title'] == df_translated['title']])\n",
    "row_count"
   ]
  },
  {
   "cell_type": "code",
   "execution_count": null,
   "metadata": {
    "id": "8RD9aSRoH20d"
   },
   "outputs": [],
   "source": [
    "# Clean up html in titles\n",
    "# Decode translation to remove symbols like in \"We&#39;re going\"\n",
    "\n",
    "def decode_html_entities(text):\n",
    "    return html.unescape(text)\n",
    "\n",
    "df_translated['translated_title'] = df_translated['translated_title'].apply(decode_html_entities)\n",
    "df_translated.head()"
   ]
  },
  {
   "cell_type": "code",
   "execution_count": null,
   "metadata": {
    "id": "cmoP2OpwcGa-"
   },
   "outputs": [],
   "source": [
    "# Download clean df to csv\n",
    "\n",
    "df_translated_download = df_translated[['video_id', 'title', 'url', 'channel', 'video_date',\n",
    "       'punctuated_transcript', 'punct_transcript_length',\n",
    "       'year_month', 'translated_transcript', 'bin_venezuelan',\n",
    "       'bin_foreigner', 'translated_title']]"
   ]
  },
  {
   "cell_type": "code",
   "execution_count": null,
   "metadata": {
    "id": "3tqqrwFPH2r9"
   },
   "outputs": [],
   "source": [
    "df_translated_download.to_csv() # File location was removed"
   ]
  },
  {
   "cell_type": "markdown",
   "metadata": {
    "id": "0m5Y1xqrwxdv"
   },
   "source": [
    "# Further data cleaning (removing non relevant sentences)"
   ]
  },
  {
   "cell_type": "code",
   "execution_count": null,
   "metadata": {
    "colab": {
     "base_uri": "https://localhost:8080/"
    },
    "executionInfo": {
     "elapsed": 7758,
     "status": "ok",
     "timestamp": 1744435099990,
     "user": {
      "displayName": "Maricruz Serpa",
      "userId": "11370590112332842903"
     },
     "user_tz": -120
    },
    "id": "Cb22b8v9w1ab",
    "outputId": "6c2b51f7-2af8-4b6b-85d6-e4d5fbf37fcb"
   },
   "outputs": [],
   "source": [
    "df_translated = pd.read_csv() # File location was removed\n",
    "df_translated.shape"
   ]
  },
  {
   "cell_type": "code",
   "execution_count": null,
   "metadata": {
    "id": "c3W-ybCO0IR1"
   },
   "outputs": [],
   "source": [
    "# Function for removing non relevant sentences\n",
    "\n",
    "def remove_non_relevant_sentences(transcripts, interaction_examples):\n",
    "\n",
    "    # Load spaCy and a pre-trained sentence transformer\n",
    "    nlp = spacy.load(\"en_core_web_sm\")\n",
    "    embedder = SentenceTransformer('paraphrase-MiniLM-L6-v2')\n",
    "\n",
    "    # Generate embeddings for examples\n",
    "    interaction_embeddings = embedder.encode(interaction_examples)\n",
    "\n",
    "    doc = nlp(transcripts)\n",
    "\n",
    "    filtered_sentences = []\n",
    "\n",
    "    for sentence in doc.sents:\n",
    "        sentence_text = sentence.text.strip()\n",
    "\n",
    "        # Remove very short sentences, probably not meaningful\n",
    "        if len(sentence_text) < 5 or len(sentence_text.split()) < 2:\n",
    "            continue\n",
    "\n",
    "        # Check Part of Speech to keep only meaningful content (at least two meaningful tokens)\n",
    "        tokens = [token for token in sentence if token.pos_ in {\"NOUN\", \"VERB\", \"ADJ\"}]\n",
    "        if len(tokens) < 2:\n",
    "            continue\n",
    "\n",
    "        # Check similarity to examples\n",
    "        sentence_embedding = embedder.encode([sentence_text])[0]\n",
    "        similarity_to_interaction = max(embedder.similarity(interaction_embeddings, sentence_embedding))\n",
    "\n",
    "        # Keep only sentences that are not too similar to interactions\n",
    "        if similarity_to_interaction < 0.5:\n",
    "            filtered_sentences.append(sentence.text)\n",
    "\n",
    "    cleaned_transcript = \" \".join(filtered_sentences)\n",
    "    return cleaned_transcript"
   ]
  },
  {
   "cell_type": "code",
   "execution_count": null,
   "metadata": {
    "id": "n7wD5k7D7HMr"
   },
   "outputs": [],
   "source": [
    "# Create list of sentences that contain non relevant live interaction examples\n",
    "\n",
    "interaction_examples = [\n",
    "    \"Good morning, thank you.\",\n",
    "    \"Good morning\",\n",
    "    \"What's this about?\",\n",
    "    \"Go ahead\",\n",
    "    \"How are you?\",\n",
    "    \"Thanks for the information.\",\n",
    "    \"Perfect, okay, very good.\",\n",
    "    \"Let's see\",\n",
    "    \"7:30 am\",\n",
    "    \"That's right\"\n",
    "]"
   ]
  },
  {
   "cell_type": "code",
   "execution_count": null,
   "metadata": {
    "id": "j-iUryPj0ILU"
   },
   "outputs": [],
   "source": [
    "# Test with one transcript\n",
    "\n",
    "transcript = # Transcript content was removed\n",
    "\n",
    "remove_non_relevant_sentences(transcript, interaction_examples)"
   ]
  },
  {
   "cell_type": "code",
   "execution_count": null,
   "metadata": {
    "id": "53ZAstvP0IDb"
   },
   "outputs": [],
   "source": [
    "transcript"
   ]
  },
  {
   "cell_type": "code",
   "execution_count": null,
   "metadata": {
    "colab": {
     "base_uri": "https://localhost:8080/",
     "height": 49,
     "referenced_widgets": [
      "8ae249d7254a4d3f907b49bd3eba103b",
      "ffd33ff3de39455ea5b2c5e079b71703",
      "4dccba90f2cb419eb012a6b9945204cf",
      "5769f2b128e44c2e98f78d562a3882fe",
      "8031a2e51083418b8f57f09194ec39fa",
      "6e27c95ff9af4134957e59d6c1d814d9",
      "dc0ca8916dfe4f9193cd7674c589605d",
      "bfe3de7457cb44178ca45280e61b56ba",
      "e76b1d591bde48d58e77b12a4dffdaf1",
      "ebac50d06023490b97220a565bf79810",
      "af69f4ef41c44d93b51b0223b30d0fad"
     ]
    },
    "id": "Xi1MBI2a8Xsd",
    "outputId": "1be874bb-4bd7-4661-de10-8d58897cb7a5"
   },
   "outputs": [],
   "source": [
    "# Running function on full df, saving as it progresses to save data in case of crash\n",
    "\n",
    "output_file = # File location was removed\n",
    "\n",
    "# Initialize the output file\n",
    "\n",
    "if not os.path.exists(output_file):\n",
    "    with open(output_file, mode=\"w\", encoding=\"utf-8-sig\", newline=\"\") as f:\n",
    "        writer = csv.writer(f)\n",
    "        writer.writerow([\"translated_transcript\", \"filtered_transcript\"])\n",
    "\n",
    "# Process the transcripts saving after each row\n",
    "\n",
    "tqdm.pandas()\n",
    "with open(output_file, mode=\"a\", encoding=\"utf-8-sig\", newline=\"\") as f:\n",
    "    writer = csv.writer(f)\n",
    "    for index, row in tqdm(df_translated.iterrows(), total=len(df_translated)):\n",
    "        filtered_transcript = remove_non_relevant_sentences(\n",
    "            row[\"translated_transcript\"], interaction_examples)\n",
    "        writer.writerow([row[\"translated_transcript\"], filtered_transcript])"
   ]
  },
  {
   "cell_type": "code",
   "execution_count": null,
   "metadata": {
    "colab": {
     "base_uri": "https://localhost:8080/"
    },
    "executionInfo": {
     "elapsed": 1991,
     "status": "ok",
     "timestamp": 1744435266887,
     "user": {
      "displayName": "Maricruz Serpa",
      "userId": "11370590112332842903"
     },
     "user_tz": -120
    },
    "id": "Pq-fElqO-OV1",
    "outputId": "f031dd7b-9397-42bd-e831-020e7ebb823b"
   },
   "outputs": [],
   "source": [
    "# Function to continue in case it crashes\n",
    "\n",
    "output_file = # File location was removed\n",
    "\n",
    "if os.path.exists(output_file):\n",
    "    df_processed = pd.read_csv(output_file, encoding=\"utf-8-sig\")\n",
    "    processed_transcripts = set(df_processed[\"translated_transcript\"])\n",
    "else:\n",
    "    processed_transcripts = set()\n",
    "\n",
    "# Filter out already processed rows\n",
    "df_unprocessed = df_translated[~df_translated[\"translated_transcript\"].isin(processed_transcripts)]\n",
    "\n",
    "df_unprocessed.shape"
   ]
  },
  {
   "cell_type": "code",
   "execution_count": null,
   "metadata": {
    "colab": {
     "base_uri": "https://localhost:8080/",
     "height": 49,
     "referenced_widgets": [
      "ac5bc36b52fe411595d56acf197f5791",
      "ab215d3704a345629915dec9f9e1a6cf",
      "bae1ec61cc59473aa834b1e206fa5161",
      "42e902cd084149638c2c2a68aa83ea24",
      "a7a808a4efe14a46bee161fd49266a87",
      "9c25f3dc8ff84dba836d860987b41468",
      "e94eeb4ca232489fbf2b29af92e0e803",
      "e1ab2581f4b64fc88c0d0e2a914a6f0b",
      "121230c40dd44dc5ad827b6ab8cfc91e",
      "5c3e75d15c314925a34791863483abdf",
      "3b76a78ac50a4f33b2c63b6f926302ef"
     ]
    },
    "executionInfo": {
     "elapsed": 23002590,
     "status": "ok",
     "timestamp": 1744458312674,
     "user": {
      "displayName": "Maricruz Serpa",
      "userId": "11370590112332842903"
     },
     "user_tz": -120
    },
    "id": "-yG-DU_dcRkL",
    "outputId": "a946f7e5-cb4f-4fea-9ebe-167fe5bd1c0a"
   },
   "outputs": [],
   "source": [
    "# Process remaining rows\n",
    "\n",
    "tqdm.pandas()\n",
    "with open(output_file, \"a\", encoding=\"utf-8-sig\") as f:\n",
    "    for index, row in tqdm(df_unprocessed.iterrows(), total=len(df_unprocessed)):\n",
    "        filtered_transcript = remove_non_relevant_sentences(\n",
    "            row[\"translated_transcript\"], interaction_examples)\n",
    "\n",
    "        f.write(f'\"{row[\"translated_transcript\"]}\",\"{filtered_transcript}\"\\n')"
   ]
  },
  {
   "cell_type": "code",
   "execution_count": null,
   "metadata": {
    "colab": {
     "base_uri": "https://localhost:8080/"
    },
    "executionInfo": {
     "elapsed": 1825,
     "status": "ok",
     "timestamp": 1744462092528,
     "user": {
      "displayName": "Maricruz Serpa",
      "userId": "11370590112332842903"
     },
     "user_tz": -120
    },
    "id": "mRzNReEfcRZn",
    "outputId": "18fe0266-13e0-49fc-a87d-5ac5a8d14d1f"
   },
   "outputs": [],
   "source": [
    "# Add the filtered transcripts to the main df\n",
    "\n",
    "processed_file = # File location was removed\n",
    "\n",
    "df_processed = pd.read_csv(\n",
    "    processed_file,\n",
    "    encoding=\"utf-8-sig\",\n",
    "    delimiter=\",\",\n",
    "    quotechar='\"',\n",
    "    on_bad_lines=\"skip\"\n",
    ")\n",
    "\n",
    "df_processed.shape"
   ]
  },
  {
   "cell_type": "code",
   "execution_count": null,
   "metadata": {
    "id": "plvl-AJ4CC6p"
   },
   "outputs": [],
   "source": [
    "df_processed.head()"
   ]
  },
  {
   "cell_type": "code",
   "execution_count": null,
   "metadata": {
    "id": "lCtYJSvfCbbu"
   },
   "outputs": [],
   "source": [
    "df_merged = pd.merge(df_translated, df_processed, on=\"translated_transcript\", how=\"left\")\n",
    "\n",
    "df_merged.to_csv() # File location was removed\n",
    "\n",
    "df_merged.head()"
   ]
  },
  {
   "cell_type": "code",
   "execution_count": null,
   "metadata": {
    "colab": {
     "base_uri": "https://localhost:8080/"
    },
    "executionInfo": {
     "elapsed": 5,
     "status": "ok",
     "timestamp": 1744462183830,
     "user": {
      "displayName": "Maricruz Serpa",
      "userId": "11370590112332842903"
     },
     "user_tz": -120
    },
    "id": "285Rdo2aDFGx",
    "outputId": "3ecdd562-4cad-4d8f-a8af-76c47bfda8ff"
   },
   "outputs": [],
   "source": [
    "df_merged['filtered_transcript'].isna().sum()"
   ]
  },
  {
   "cell_type": "code",
   "execution_count": null,
   "metadata": {
    "colab": {
     "base_uri": "https://localhost:8080/",
     "height": 67,
     "referenced_widgets": [
      "e67fa7161d5c4c7982b58e1ff6e7a36b",
      "fe5b70b851e04d1ea3fbe8b6ee47577c",
      "4230220d06944939ad45cbef5f9ed516",
      "dcf29136a8ca443e828ae96d1a82010e",
      "b42870f8c04e4d6796764848eedb3805",
      "8c861baa66bb4d57998ce3cdb795e6f1",
      "aa7efa5b25794aca899aa5084c897408",
      "11ee091e34b24d6592ba3f80afc90390",
      "a8d625f659744a4a9e9d7a6cf4c544b5",
      "fb561d5d6e4e472dbbf4321b6534e24d",
      "55fd4e5efd7648d0b0f93945b70565c1"
     ]
    },
    "executionInfo": {
     "elapsed": 6440215,
     "status": "ok",
     "timestamp": 1744469143355,
     "user": {
      "displayName": "Maricruz Serpa",
      "userId": "11370590112332842903"
     },
     "user_tz": -120
    },
    "id": "0cAI7SvRDE-T",
    "outputId": "c2338d2b-edee-4c54-9ba0-70c0754f74d0"
   },
   "outputs": [],
   "source": [
    "#Applying the cleaning function again for rows that had errors in the original file\n",
    "\n",
    "def process_empty_filtered_transcripts(row):\n",
    "    if pd.isna(row['filtered_transcript']) or row['filtered_transcript'] == \"\":\n",
    "        return remove_non_relevant_sentences(row['translated_transcript'], interaction_examples)\n",
    "    return row['filtered_transcript']\n",
    "\n",
    "df_merged['filtered_transcript'] = df_merged.progress_apply(process_empty_filtered_transcripts, axis=1)\n",
    "\n",
    "df_merged['filtered_transcript'].isna().sum()"
   ]
  },
  {
   "cell_type": "code",
   "execution_count": null,
   "metadata": {
    "id": "ngOMyTWeFuKI"
   },
   "outputs": [],
   "source": [
    "df_merged.to_csv() # File location was removed"
   ]
  },
  {
   "cell_type": "markdown",
   "metadata": {
    "id": "3U9GIMsTwHt9"
   },
   "source": [
    "# Topic modeling with BERTopic"
   ]
  },
  {
   "cell_type": "code",
   "execution_count": null,
   "metadata": {
    "colab": {
     "base_uri": "https://localhost:8080/"
    },
    "executionInfo": {
     "elapsed": 7510,
     "status": "ok",
     "timestamp": 1744634394581,
     "user": {
      "displayName": "Maricruz Serpa",
      "userId": "11370590112332842903"
     },
     "user_tz": -120
    },
    "id": "4JdScJRUwK1Z",
    "outputId": "81df02ea-f80e-4654-8589-332ce71f5ac2"
   },
   "outputs": [],
   "source": [
    "df_translated = pd.read_csv() # File location was removed\n",
    "df_translated.shape"
   ]
  },
  {
   "cell_type": "code",
   "execution_count": null,
   "metadata": {
    "id": "IdAMBkbIWQuW"
   },
   "outputs": [],
   "source": [
    "df_translated.head()"
   ]
  },
  {
   "cell_type": "markdown",
   "metadata": {
    "id": "0tfG4XumlIQI"
   },
   "source": [
    "Pre save embeddings with large sentence embedding model"
   ]
  },
  {
   "cell_type": "code",
   "execution_count": null,
   "metadata": {
    "id": "8mwQKWJClLmX"
   },
   "outputs": [],
   "source": [
    "# Embed the transcripts with large model\n",
    "\n",
    "embedding_model = SentenceTransformer(\"paraphrase-MiniLM-L12-v2\")\n",
    "embeddings = embedding_model.encode(df_translated[\"filtered_transcript\"].tolist(), show_progress_bar=True)"
   ]
  },
  {
   "cell_type": "code",
   "execution_count": null,
   "metadata": {
    "id": "PiglyDtAzASg"
   },
   "outputs": [],
   "source": [
    "# Save embeddings\n",
    "\n",
    "embedding_df = pd.DataFrame(embeddings)\n",
    "embedding_df.to_csv() # File location was removed"
   ]
  },
  {
   "cell_type": "code",
   "execution_count": null,
   "metadata": {
    "colab": {
     "base_uri": "https://localhost:8080/",
     "height": 255
    },
    "executionInfo": {
     "elapsed": 6070,
     "status": "ok",
     "timestamp": 1746283359502,
     "user": {
      "displayName": "Maricruz Serpa",
      "userId": "11370590112332842903"
     },
     "user_tz": -120
    },
    "id": "TA6sacsjPiCg",
    "outputId": "ab15905c-9874-457f-e841-6200fffd9ee9"
   },
   "outputs": [],
   "source": [
    "# Read pre saved embeddings\n",
    "\n",
    "embedding_df = pd.read_csv() # File location was removed\n",
    "embedding_df.head()"
   ]
  },
  {
   "cell_type": "code",
   "execution_count": null,
   "metadata": {
    "colab": {
     "base_uri": "https://localhost:8080/"
    },
    "executionInfo": {
     "elapsed": 55,
     "status": "ok",
     "timestamp": 1744634407826,
     "user": {
      "displayName": "Maricruz Serpa",
      "userId": "11370590112332842903"
     },
     "user_tz": -120
    },
    "id": "9MpCPNh-zADw",
    "outputId": "f8c46167-fbcb-47ec-c923-d6e17ce00d8d"
   },
   "outputs": [],
   "source": [
    "embedding_df.shape"
   ]
  },
  {
   "cell_type": "markdown",
   "metadata": {
    "id": "RqPk-5QiPwUR"
   },
   "source": [
    "Optimizing number of clusters for k-means: elbow method"
   ]
  },
  {
   "cell_type": "code",
   "execution_count": null,
   "metadata": {
    "colab": {
     "base_uri": "https://localhost:8080/",
     "height": 472
    },
    "executionInfo": {
     "elapsed": 26484,
     "status": "ok",
     "timestamp": 1744617893035,
     "user": {
      "displayName": "Maricruz Serpa",
      "userId": "11370590112332842903"
     },
     "user_tz": -120
    },
    "id": "9jfLfFbPP0Be",
    "outputId": "4d80d815-3087-464c-86a5-0801a08f54ff"
   },
   "outputs": [],
   "source": [
    "# Transform embeddings into np array\n",
    "embeddings = embedding_df.to_numpy()\n",
    "\n",
    "# Calculate within cluster sum of squares (WCSS)\n",
    "wcss = []\n",
    "for n in range(2, 26, 1):\n",
    "    kmeans = KMeans(n_clusters=n)\n",
    "    kmeans.fit(embeddings)\n",
    "    wcss.append(kmeans.inertia_)\n",
    "\n",
    "# Show results as plot\n",
    "plt.plot(range(2, 26, 1), wcss, marker='o')\n",
    "plt.xlabel(\"Number of Topics\")\n",
    "plt.ylabel(\"WCSS\")\n",
    "plt.title(\"Elbow Method to Optimize Number of Topics\")\n",
    "plt.show()"
   ]
  },
  {
   "cell_type": "markdown",
   "metadata": {
    "id": "JuNH9EuURsau"
   },
   "source": [
    "Optimizing number of clusters for k-means: silhouette score"
   ]
  },
  {
   "cell_type": "code",
   "execution_count": null,
   "metadata": {
    "colab": {
     "base_uri": "https://localhost:8080/",
     "height": 472
    },
    "executionInfo": {
     "elapsed": 107614,
     "status": "ok",
     "timestamp": 1744618009870,
     "user": {
      "displayName": "Maricruz Serpa",
      "userId": "11370590112332842903"
     },
     "user_tz": -120
    },
    "id": "LBOEDucrPz8r",
    "outputId": "db5c8b3f-43a1-48f5-ba25-ac8ccf9d8563"
   },
   "outputs": [],
   "source": [
    "# Calculate silhouette scores\n",
    "\n",
    "silhouette_scores = []\n",
    "for n in range(2, 26, 1):\n",
    "    kmeans = KMeans(n_clusters=n, random_state=42)\n",
    "    cluster_labels = kmeans.fit_predict(embeddings)\n",
    "    score = silhouette_score(embeddings, cluster_labels)\n",
    "    silhouette_scores.append(score)\n",
    "\n",
    "# Plot\n",
    "plt.plot(range(2, 26, 1), silhouette_scores, marker='o')\n",
    "plt.xlabel(\"Number of Topics\")\n",
    "plt.ylabel(\"Silhouette Score\")\n",
    "plt.title(\"Silhouette Score to Optimize Number of Topics\")\n",
    "plt.show()"
   ]
  },
  {
   "cell_type": "markdown",
   "metadata": {
    "id": "J5xzjRw8eK9Z"
   },
   "source": [
    "Clustering with k-means and pre saved embeddings"
   ]
  },
  {
   "cell_type": "code",
   "execution_count": null,
   "metadata": {
    "colab": {
     "base_uri": "https://localhost:8080/"
    },
    "executionInfo": {
     "elapsed": 6,
     "status": "ok",
     "timestamp": 1744635878238,
     "user": {
      "displayName": "Maricruz Serpa",
      "userId": "11370590112332842903"
     },
     "user_tz": -120
    },
    "id": "3mmj55ZoZsrA",
    "outputId": "f0285abd-e75a-4e24-ee3d-ee1bee30f931"
   },
   "outputs": [],
   "source": [
    "embeddings.shape"
   ]
  },
  {
   "cell_type": "code",
   "execution_count": null,
   "metadata": {
    "id": "mbJZGcZjeQgt"
   },
   "outputs": [],
   "source": [
    "# Initialize K-Means\n",
    "kmeans_model = KMeans(n_clusters=11, init = 'k-means++', random_state = 42)\n",
    "\n",
    "# Create representation model\n",
    "representation_model = PartOfSpeech(\"en_core_web_sm\")\n",
    "\n",
    "# Initialize UMAP\n",
    "umap_model = UMAP(n_neighbors=15, n_components=5, min_dist=0.0, metric=\"cosine\", random_state = 42)\n",
    "\n",
    "kmeans_BERT = BERTopic(representation_model=representation_model\n",
    "                       , umap_model=umap_model\n",
    "                       )\n",
    "\n",
    "# Replace HDBSCAN with K-Means\n",
    "kmeans_BERT.hdbscan_model = kmeans_model"
   ]
  },
  {
   "cell_type": "code",
   "execution_count": null,
   "metadata": {
    "id": "4ZxylaFteQWy"
   },
   "outputs": [],
   "source": [
    "embeddings = embedding_df.to_numpy()\n",
    "\n",
    "topics3, probs3 = kmeans_BERT.fit_transform(df_translated[\"filtered_transcript\"].tolist(), embeddings)"
   ]
  },
  {
   "cell_type": "code",
   "execution_count": null,
   "metadata": {
    "id": "DmupQPo5eQS6"
   },
   "outputs": [],
   "source": [
    "kmeans_BERT.get_topic_info()"
   ]
  },
  {
   "cell_type": "code",
   "execution_count": null,
   "metadata": {
    "colab": {
     "base_uri": "https://localhost:8080/"
    },
    "executionInfo": {
     "elapsed": 47,
     "status": "ok",
     "timestamp": 1744641670789,
     "user": {
      "displayName": "Maricruz Serpa",
      "userId": "11370590112332842903"
     },
     "user_tz": -120
    },
    "id": "Yu_DxqMFYAX2",
    "outputId": "f4ede058-af40-493f-c120-1faf53fc8e31"
   },
   "outputs": [],
   "source": [
    "kmeans_model.cluster_centers_"
   ]
  },
  {
   "cell_type": "code",
   "execution_count": null,
   "metadata": {
    "id": "1VId0c3MVJ5i"
   },
   "outputs": [],
   "source": [
    "# Since k-means doesnt calculate probabilities, calculating document distance to cluster centers\n",
    "cluster_centers = kmeans_model.cluster_centers_\n",
    "\n",
    "# Reduce embeddings to have the same shape as cluster centers\n",
    "reduced_embeddings = umap_model.fit_transform(embeddings)\n",
    "\n",
    "# Calculate distances to all cluster centers for each video\n",
    "cosine_distance_matrix = cosine_distances(reduced_embeddings, kmeans_model.cluster_centers_)\n",
    "\n",
    "# Calculate Euclidean distances to all cluster centers\n",
    "euclidean_distance_matrix = np.linalg.norm(\n",
    "    reduced_embeddings[:, np.newaxis, :] - kmeans_model.cluster_centers_[np.newaxis, :, :], axis=2\n",
    ")"
   ]
  },
  {
   "cell_type": "code",
   "execution_count": null,
   "metadata": {
    "colab": {
     "base_uri": "https://localhost:8080/"
    },
    "executionInfo": {
     "elapsed": 47,
     "status": "ok",
     "timestamp": 1744643402608,
     "user": {
      "displayName": "Maricruz Serpa",
      "userId": "11370590112332842903"
     },
     "user_tz": -120
    },
    "id": "_Pyp9PwQwOSk",
    "outputId": "ab37bbec-f033-4a0a-fd4f-08bb0b4ea074"
   },
   "outputs": [],
   "source": [
    "# Get cluster assignments from K-Means\n",
    "cluster_labels = kmeans_model.labels_\n",
    "\n",
    "# Count rows for each cluster\n",
    "cluster_counts = pd.Series(cluster_labels).value_counts()\n",
    "\n",
    "# Display counts\n",
    "print(\"K-Means Cluster Counts:\")\n",
    "print(cluster_counts)"
   ]
  },
  {
   "cell_type": "code",
   "execution_count": null,
   "metadata": {
    "colab": {
     "base_uri": "https://localhost:8080/"
    },
    "executionInfo": {
     "elapsed": 53,
     "status": "ok",
     "timestamp": 1744643404781,
     "user": {
      "displayName": "Maricruz Serpa",
      "userId": "11370590112332842903"
     },
     "user_tz": -120
    },
    "id": "wANpSuSTwOLa",
    "outputId": "d6e4bb03-73c3-428f-ab73-e77a758098d4"
   },
   "outputs": [],
   "source": [
    "# Retrieve topic assignments from BERTopic\n",
    "document_info = kmeans_BERT.get_document_info(df_translated[\"filtered_transcript\"].tolist())\n",
    "\n",
    "# Count rows for each topic\n",
    "topic_counts = document_info[\"Topic\"].value_counts()\n",
    "\n",
    "# Display counts\n",
    "print(\"BERTopic Topic Counts:\")\n",
    "print(topic_counts)"
   ]
  },
  {
   "cell_type": "code",
   "execution_count": null,
   "metadata": {
    "id": "0VRyVgs5qhpW"
   },
   "outputs": [],
   "source": [
    "# Since BERTopic renames the topics ordered by document count, we need to rename the df columns to match the output asigned topic\n",
    "\n",
    "# Create a mapping between BERTopic topics and clusters\n",
    "manual_mapping = {\n",
    "    \"Cluster_0\": \"Topic_7\",\n",
    "    \"Cluster_1\": \"Topic_1\",\n",
    "    \"Cluster_2\": \"Topic_6\",\n",
    "    \"Cluster_3\": \"Topic_0\",\n",
    "    \"Cluster_4\": \"Topic_8\",\n",
    "    \"Cluster_5\": \"Topic_5\",\n",
    "    \"Cluster_6\": \"Topic_2\",\n",
    "    \"Cluster_7\": \"Topic_10\",\n",
    "    \"Cluster_8\": \"Topic_3\",\n",
    "    \"Cluster_9\": \"Topic_4\",\n",
    "    \"Cluster_10\": \"Topic_9\"\n",
    "}\n",
    "\n",
    "# Create df with renamed columns\n",
    "distances_df = pd.DataFrame(\n",
    "    euclidean_distance_matrix,\n",
    "    columns=[manual_mapping[f\"Cluster_{i}\"] for i in range(cluster_centers.shape[0])]\n",
    ")\n",
    "\n",
    "# Add additional columns\n",
    "distances_df[\"video_id\"] = df_translated['video_id']\n",
    "distances_df[\"assigned_topics\"] = topics3\n",
    "distances_df[\"filtered_transcript\"] = df_translated['filtered_transcript']\n",
    "\n",
    "distances_df.head()"
   ]
  },
  {
   "cell_type": "code",
   "execution_count": null,
   "metadata": {
    "id": "xwoGAYOPyi0E"
   },
   "outputs": [],
   "source": [
    "# Add topic representations to guide reading\n",
    "\n",
    "representations_df = pd.DataFrame(kmeans_BERT.get_topic_info())\n",
    "\n",
    "\n",
    "distances_df = pd.merge(distances_df, representations_df[['Topic', 'Representation']], how = 'left',\n",
    "                        left_on = 'assigned_topics', right_on = 'Topic')\n",
    "distances_df.drop(columns = 'Topic', inplace = True)\n",
    "distances_df.head()"
   ]
  },
  {
   "cell_type": "code",
   "execution_count": null,
   "metadata": {
    "id": "z-Aspo_T5loU"
   },
   "outputs": [],
   "source": [
    "# Save df as csv\n",
    "\n",
    "distances_df.to_csv() # File location was removed"
   ]
  },
  {
   "cell_type": "markdown",
   "metadata": {
    "id": "wwTb16YfmiWd"
   },
   "source": [
    "# Embedding visualizations to understand overlap of clusters"
   ]
  },
  {
   "cell_type": "code",
   "execution_count": null,
   "metadata": {
    "colab": {
     "base_uri": "https://localhost:8080/",
     "height": 255
    },
    "executionInfo": {
     "elapsed": 93,
     "status": "ok",
     "timestamp": 1746283529109,
     "user": {
      "displayName": "Maricruz Serpa",
      "userId": "11370590112332842903"
     },
     "user_tz": -120
    },
    "id": "UkQcwek5mm17",
    "outputId": "4fc8d3b3-e700-4781-8c78-29b54e367e96"
   },
   "outputs": [],
   "source": [
    "embedding_df.head()"
   ]
  },
  {
   "cell_type": "code",
   "execution_count": null,
   "metadata": {
    "colab": {
     "base_uri": "https://localhost:8080/"
    },
    "executionInfo": {
     "elapsed": 21,
     "status": "ok",
     "timestamp": 1746283709627,
     "user": {
      "displayName": "Maricruz Serpa",
      "userId": "11370590112332842903"
     },
     "user_tz": -120
    },
    "id": "x2AW_TMvnrm_",
    "outputId": "04b5f0ab-e033-4a00-8cf8-bd6eb2f78739"
   },
   "outputs": [],
   "source": [
    "embedding_df.shape"
   ]
  },
  {
   "cell_type": "code",
   "execution_count": null,
   "metadata": {
    "id": "JyFCd1yhmmrE"
   },
   "outputs": [],
   "source": [
    "# Getting additional data fields: video_id, translated_transcript, assigned topic\n",
    "\n",
    "distances_df = pd.read_csv() # File location was removed\n",
    "distances_df.head()"
   ]
  },
  {
   "cell_type": "code",
   "execution_count": null,
   "metadata": {
    "colab": {
     "base_uri": "https://localhost:8080/"
    },
    "executionInfo": {
     "elapsed": 9,
     "status": "ok",
     "timestamp": 1746283700423,
     "user": {
      "displayName": "Maricruz Serpa",
      "userId": "11370590112332842903"
     },
     "user_tz": -120
    },
    "id": "Su1uBuAUnpUy",
    "outputId": "60c109dd-6f2f-41a9-9bad-cb37858eec69"
   },
   "outputs": [],
   "source": [
    "distances_df.shape"
   ]
  },
  {
   "cell_type": "code",
   "execution_count": null,
   "metadata": {
    "id": "X9uwb0eFmmf2"
   },
   "outputs": [],
   "source": [
    "# Merge columns\n",
    "\n",
    "embedding_df = embedding_df.join(distances_df[['video_id', 'assigned_topics', 'filtered_transcript']])\n",
    "embedding_df.head()"
   ]
  },
  {
   "cell_type": "markdown",
   "metadata": {
    "id": "TVP-WE-doGCy"
   },
   "source": [
    "Visualization tests: UMAP"
   ]
  },
  {
   "cell_type": "code",
   "execution_count": null,
   "metadata": {
    "colab": {
     "base_uri": "https://localhost:8080/",
     "height": 691
    },
    "executionInfo": {
     "elapsed": 9713,
     "status": "ok",
     "timestamp": 1746285261752,
     "user": {
      "displayName": "Maricruz Serpa",
      "userId": "11370590112332842903"
     },
     "user_tz": -120
    },
    "id": "epDkSzKnn-D3",
    "outputId": "e681a358-80d1-4de9-8249-e64e5a5da138"
   },
   "outputs": [],
   "source": [
    "# Extract embeddings\n",
    "embedding_cols = [str(i) for i in range(384)]\n",
    "embeddings = embedding_df[embedding_cols].values\n",
    "\n",
    "# Extract topic labels\n",
    "topic_labels = embedding_df[\"assigned_topics\"]\n",
    "\n",
    "# Manually define topic names for the legend\n",
    "topic_dict = {\n",
    "    0: \"0: Armed theft to businesses captured on security cameras\",\n",
    "    1: \"1: Crime stories through interviews with victims' families\",\n",
    "    2: \"2: Motorcycle crimes and witness involvement\",\n",
    "    3: \"3: Neighborhood crime stories and self-organized measures\",\n",
    "    4: \"4: Police intervention and gang capture cases\",\n",
    "    5: \"5: Crimes linked to politics and public protests\",\n",
    "    6: \"6: Extortion crimes and violent retaliation\",\n",
    "    7: \"7: Robberies executed by organized crime groups\",\n",
    "    8: \"8: Kidnapping crimes and police intervention\",\n",
    "    9: \"9: Cybertheft through stolen devices\",\n",
    "    10: \"10: Crimes involving dogs as victims, perpetrators or protectors\"\n",
    "}\n",
    "\n",
    "# Apply UMAP with BERTopic parameters\n",
    "umap_reducer = umap.UMAP(\n",
    "    n_neighbors=15,\n",
    "    n_components=2,\n",
    "    min_dist=0.0,\n",
    "    metric=\"cosine\"\n",
    ")\n",
    "embeddings_umap = umap_reducer.fit_transform(embeddings)\n",
    "\n",
    "# Plot\n",
    "plt.figure(figsize=(12, 8))\n",
    "\n",
    "scatter = plt.scatter(\n",
    "    embeddings_umap[:, 0], embeddings_umap[:, 1],\n",
    "    c=topic_labels, cmap=\"tab20\", s=60, edgecolors=\"k\", alpha=0.7\n",
    ")\n",
    "\n",
    "handles = [plt.Line2D([0], [0], marker='o', color='w', markerfacecolor=scatter.cmap(scatter.norm(i)), markersize=10)\n",
    "           for i in sorted(topic_dict.keys())]\n",
    "plt.legend(handles, [topic_dict[i] for i in sorted(topic_dict.keys())], title=\"Crime Categories\", bbox_to_anchor=(1.05, 1), loc=\"upper left\")\n",
    "\n",
    "plt.title(\"UMAP Visualization of Crime Embeddings\")\n",
    "plt.xlabel(\"UMAP Dimension 1\")\n",
    "plt.ylabel(\"UMAP Dimension 2\")\n",
    "plt.grid(True, linestyle=\"--\", alpha=0.3)\n",
    "\n",
    "plt.show()"
   ]
  }
 ],
 "metadata": {
  "colab": {
   "collapsed_sections": [
    "oWcPxQoY8vIG",
    "bsYcshIJ81Z8",
    "zwfdLbV_8-OE"
   ],
   "provenance": []
  },
  "kernelspec": {
   "display_name": "Python 3 (ipykernel)",
   "language": "python",
   "name": "python3"
  },
  "language_info": {
   "codemirror_mode": {
    "name": "ipython",
    "version": 3
   },
   "file_extension": ".py",
   "mimetype": "text/x-python",
   "name": "python",
   "nbconvert_exporter": "python",
   "pygments_lexer": "ipython3",
   "version": "3.11.4"
  },
  "widgets": {
   "application/vnd.jupyter.widget-state+json": {
    "00f8f499b57a41b6868e4615d9d5ba2c": {
     "model_module": "@jupyter-widgets/base",
     "model_module_version": "1.2.0",
     "model_name": "LayoutModel",
     "state": {
      "_model_module": "@jupyter-widgets/base",
      "_model_module_version": "1.2.0",
      "_model_name": "LayoutModel",
      "_view_count": null,
      "_view_module": "@jupyter-widgets/base",
      "_view_module_version": "1.2.0",
      "_view_name": "LayoutView",
      "align_content": null,
      "align_items": null,
      "align_self": null,
      "border": null,
      "bottom": null,
      "display": null,
      "flex": null,
      "flex_flow": null,
      "grid_area": null,
      "grid_auto_columns": null,
      "grid_auto_flow": null,
      "grid_auto_rows": null,
      "grid_column": null,
      "grid_gap": null,
      "grid_row": null,
      "grid_template_areas": null,
      "grid_template_columns": null,
      "grid_template_rows": null,
      "height": null,
      "justify_content": null,
      "justify_items": null,
      "left": null,
      "margin": null,
      "max_height": null,
      "max_width": null,
      "min_height": null,
      "min_width": null,
      "object_fit": null,
      "object_position": null,
      "order": null,
      "overflow": null,
      "overflow_x": null,
      "overflow_y": null,
      "padding": null,
      "right": null,
      "top": null,
      "visibility": null,
      "width": null
     }
    },
    "025ac9b28f244034994b7d742a91470c": {
     "model_module": "@jupyter-widgets/base",
     "model_module_version": "1.2.0",
     "model_name": "LayoutModel",
     "state": {
      "_model_module": "@jupyter-widgets/base",
      "_model_module_version": "1.2.0",
      "_model_name": "LayoutModel",
      "_view_count": null,
      "_view_module": "@jupyter-widgets/base",
      "_view_module_version": "1.2.0",
      "_view_name": "LayoutView",
      "align_content": null,
      "align_items": null,
      "align_self": null,
      "border": null,
      "bottom": null,
      "display": null,
      "flex": null,
      "flex_flow": null,
      "grid_area": null,
      "grid_auto_columns": null,
      "grid_auto_flow": null,
      "grid_auto_rows": null,
      "grid_column": null,
      "grid_gap": null,
      "grid_row": null,
      "grid_template_areas": null,
      "grid_template_columns": null,
      "grid_template_rows": null,
      "height": null,
      "justify_content": null,
      "justify_items": null,
      "left": null,
      "margin": null,
      "max_height": null,
      "max_width": null,
      "min_height": null,
      "min_width": null,
      "object_fit": null,
      "object_position": null,
      "order": null,
      "overflow": null,
      "overflow_x": null,
      "overflow_y": null,
      "padding": null,
      "right": null,
      "top": null,
      "visibility": null,
      "width": null
     }
    },
    "02ff276333fd4ae4ab15e8b1d9bfa02e": {
     "model_module": "@jupyter-widgets/controls",
     "model_module_version": "1.5.0",
     "model_name": "DescriptionStyleModel",
     "state": {
      "_model_module": "@jupyter-widgets/controls",
      "_model_module_version": "1.5.0",
      "_model_name": "DescriptionStyleModel",
      "_view_count": null,
      "_view_module": "@jupyter-widgets/base",
      "_view_module_version": "1.2.0",
      "_view_name": "StyleView",
      "description_width": ""
     }
    },
    "05107dbd063948b6a7fb8b639ac4b29d": {
     "model_module": "@jupyter-widgets/base",
     "model_module_version": "1.2.0",
     "model_name": "LayoutModel",
     "state": {
      "_model_module": "@jupyter-widgets/base",
      "_model_module_version": "1.2.0",
      "_model_name": "LayoutModel",
      "_view_count": null,
      "_view_module": "@jupyter-widgets/base",
      "_view_module_version": "1.2.0",
      "_view_name": "LayoutView",
      "align_content": null,
      "align_items": null,
      "align_self": null,
      "border": null,
      "bottom": null,
      "display": null,
      "flex": null,
      "flex_flow": null,
      "grid_area": null,
      "grid_auto_columns": null,
      "grid_auto_flow": null,
      "grid_auto_rows": null,
      "grid_column": null,
      "grid_gap": null,
      "grid_row": null,
      "grid_template_areas": null,
      "grid_template_columns": null,
      "grid_template_rows": null,
      "height": null,
      "justify_content": null,
      "justify_items": null,
      "left": null,
      "margin": null,
      "max_height": null,
      "max_width": null,
      "min_height": null,
      "min_width": null,
      "object_fit": null,
      "object_position": null,
      "order": null,
      "overflow": null,
      "overflow_x": null,
      "overflow_y": null,
      "padding": null,
      "right": null,
      "top": null,
      "visibility": null,
      "width": null
     }
    },
    "051dcbde27d04fedbbe280bb6859d042": {
     "model_module": "@jupyter-widgets/controls",
     "model_module_version": "1.5.0",
     "model_name": "HTMLModel",
     "state": {
      "_dom_classes": [],
      "_model_module": "@jupyter-widgets/controls",
      "_model_module_version": "1.5.0",
      "_model_name": "HTMLModel",
      "_view_count": null,
      "_view_module": "@jupyter-widgets/controls",
      "_view_module_version": "1.5.0",
      "_view_name": "HTMLView",
      "description": "",
      "description_tooltip": null,
      "layout": "IPY_MODEL_d90406c6eefb4bab8c4a8da0487e9748",
      "placeholder": "​",
      "style": "IPY_MODEL_964b4edde45743e2b4087e21016130c8",
      "value": "100%"
     }
    },
    "053e3a85aa964695aacc6dafe363fc76": {
     "model_module": "@jupyter-widgets/controls",
     "model_module_version": "1.5.0",
     "model_name": "HBoxModel",
     "state": {
      "_dom_classes": [],
      "_model_module": "@jupyter-widgets/controls",
      "_model_module_version": "1.5.0",
      "_model_name": "HBoxModel",
      "_view_count": null,
      "_view_module": "@jupyter-widgets/controls",
      "_view_module_version": "1.5.0",
      "_view_name": "HBoxView",
      "box_style": "",
      "children": [
       "IPY_MODEL_240677342ec046ecbfda5faee79ee298",
       "IPY_MODEL_51ca473ea88b42cfbd27966d57b4fd3e",
       "IPY_MODEL_cbad4cc1911848c8b692483cf84f1af9"
      ],
      "layout": "IPY_MODEL_5eda19a85f1340c1bb34bd7f61ae08f7"
     }
    },
    "07500fb888884ae095db2f82331b81b8": {
     "model_module": "@jupyter-widgets/controls",
     "model_module_version": "1.5.0",
     "model_name": "ProgressStyleModel",
     "state": {
      "_model_module": "@jupyter-widgets/controls",
      "_model_module_version": "1.5.0",
      "_model_name": "ProgressStyleModel",
      "_view_count": null,
      "_view_module": "@jupyter-widgets/base",
      "_view_module_version": "1.2.0",
      "_view_name": "StyleView",
      "bar_color": null,
      "description_width": ""
     }
    },
    "0cf50b2a3c8f4dcea93ded1d4d3e1b96": {
     "model_module": "@jupyter-widgets/controls",
     "model_module_version": "1.5.0",
     "model_name": "FloatProgressModel",
     "state": {
      "_dom_classes": [],
      "_model_module": "@jupyter-widgets/controls",
      "_model_module_version": "1.5.0",
      "_model_name": "FloatProgressModel",
      "_view_count": null,
      "_view_module": "@jupyter-widgets/controls",
      "_view_module_version": "1.5.0",
      "_view_name": "ProgressView",
      "bar_style": "success",
      "description": "",
      "description_tooltip": null,
      "layout": "IPY_MODEL_93d7c360fdf14f8d88b038b118c8d986",
      "max": 1090,
      "min": 0,
      "orientation": "horizontal",
      "style": "IPY_MODEL_67821ef4f10c40daa477e9e49653d797",
      "value": 1090
     }
    },
    "0ecd2fb3aa3d4bc0b906d8fe077583aa": {
     "model_module": "@jupyter-widgets/base",
     "model_module_version": "1.2.0",
     "model_name": "LayoutModel",
     "state": {
      "_model_module": "@jupyter-widgets/base",
      "_model_module_version": "1.2.0",
      "_model_name": "LayoutModel",
      "_view_count": null,
      "_view_module": "@jupyter-widgets/base",
      "_view_module_version": "1.2.0",
      "_view_name": "LayoutView",
      "align_content": null,
      "align_items": null,
      "align_self": null,
      "border": null,
      "bottom": null,
      "display": null,
      "flex": null,
      "flex_flow": null,
      "grid_area": null,
      "grid_auto_columns": null,
      "grid_auto_flow": null,
      "grid_auto_rows": null,
      "grid_column": null,
      "grid_gap": null,
      "grid_row": null,
      "grid_template_areas": null,
      "grid_template_columns": null,
      "grid_template_rows": null,
      "height": null,
      "justify_content": null,
      "justify_items": null,
      "left": null,
      "margin": null,
      "max_height": null,
      "max_width": null,
      "min_height": null,
      "min_width": null,
      "object_fit": null,
      "object_position": null,
      "order": null,
      "overflow": null,
      "overflow_x": null,
      "overflow_y": null,
      "padding": null,
      "right": null,
      "top": null,
      "visibility": null,
      "width": null
     }
    },
    "11ee091e34b24d6592ba3f80afc90390": {
     "model_module": "@jupyter-widgets/base",
     "model_module_version": "1.2.0",
     "model_name": "LayoutModel",
     "state": {
      "_model_module": "@jupyter-widgets/base",
      "_model_module_version": "1.2.0",
      "_model_name": "LayoutModel",
      "_view_count": null,
      "_view_module": "@jupyter-widgets/base",
      "_view_module_version": "1.2.0",
      "_view_name": "LayoutView",
      "align_content": null,
      "align_items": null,
      "align_self": null,
      "border": null,
      "bottom": null,
      "display": null,
      "flex": null,
      "flex_flow": null,
      "grid_area": null,
      "grid_auto_columns": null,
      "grid_auto_flow": null,
      "grid_auto_rows": null,
      "grid_column": null,
      "grid_gap": null,
      "grid_row": null,
      "grid_template_areas": null,
      "grid_template_columns": null,
      "grid_template_rows": null,
      "height": null,
      "justify_content": null,
      "justify_items": null,
      "left": null,
      "margin": null,
      "max_height": null,
      "max_width": null,
      "min_height": null,
      "min_width": null,
      "object_fit": null,
      "object_position": null,
      "order": null,
      "overflow": null,
      "overflow_x": null,
      "overflow_y": null,
      "padding": null,
      "right": null,
      "top": null,
      "visibility": null,
      "width": null
     }
    },
    "121230c40dd44dc5ad827b6ab8cfc91e": {
     "model_module": "@jupyter-widgets/controls",
     "model_module_version": "1.5.0",
     "model_name": "ProgressStyleModel",
     "state": {
      "_model_module": "@jupyter-widgets/controls",
      "_model_module_version": "1.5.0",
      "_model_name": "ProgressStyleModel",
      "_view_count": null,
      "_view_module": "@jupyter-widgets/base",
      "_view_module_version": "1.2.0",
      "_view_name": "StyleView",
      "bar_color": null,
      "description_width": ""
     }
    },
    "140496ce6ec747d0b54fc59a9a5da7f6": {
     "model_module": "@jupyter-widgets/base",
     "model_module_version": "1.2.0",
     "model_name": "LayoutModel",
     "state": {
      "_model_module": "@jupyter-widgets/base",
      "_model_module_version": "1.2.0",
      "_model_name": "LayoutModel",
      "_view_count": null,
      "_view_module": "@jupyter-widgets/base",
      "_view_module_version": "1.2.0",
      "_view_name": "LayoutView",
      "align_content": null,
      "align_items": null,
      "align_self": null,
      "border": null,
      "bottom": null,
      "display": null,
      "flex": null,
      "flex_flow": null,
      "grid_area": null,
      "grid_auto_columns": null,
      "grid_auto_flow": null,
      "grid_auto_rows": null,
      "grid_column": null,
      "grid_gap": null,
      "grid_row": null,
      "grid_template_areas": null,
      "grid_template_columns": null,
      "grid_template_rows": null,
      "height": null,
      "justify_content": null,
      "justify_items": null,
      "left": null,
      "margin": null,
      "max_height": null,
      "max_width": null,
      "min_height": null,
      "min_width": null,
      "object_fit": null,
      "object_position": null,
      "order": null,
      "overflow": null,
      "overflow_x": null,
      "overflow_y": null,
      "padding": null,
      "right": null,
      "top": null,
      "visibility": null,
      "width": null
     }
    },
    "1441bd3c67264d77acef7c84c4cdb2ab": {
     "model_module": "@jupyter-widgets/controls",
     "model_module_version": "1.5.0",
     "model_name": "HBoxModel",
     "state": {
      "_dom_classes": [],
      "_model_module": "@jupyter-widgets/controls",
      "_model_module_version": "1.5.0",
      "_model_name": "HBoxModel",
      "_view_count": null,
      "_view_module": "@jupyter-widgets/controls",
      "_view_module_version": "1.5.0",
      "_view_name": "HBoxView",
      "box_style": "",
      "children": [
       "IPY_MODEL_bacde0c7d32a40de9194dd912bcb201d",
       "IPY_MODEL_362229ea33404634acba3458783f92c3",
       "IPY_MODEL_cf7ec23e4bb649ac86ab91c4f043c721"
      ],
      "layout": "IPY_MODEL_2885ab3e5447487c90afd699997ef862"
     }
    },
    "149723f1490e495488b45c50d2705e82": {
     "model_module": "@jupyter-widgets/controls",
     "model_module_version": "1.5.0",
     "model_name": "FloatProgressModel",
     "state": {
      "_dom_classes": [],
      "_model_module": "@jupyter-widgets/controls",
      "_model_module_version": "1.5.0",
      "_model_name": "FloatProgressModel",
      "_view_count": null,
      "_view_module": "@jupyter-widgets/controls",
      "_view_module_version": "1.5.0",
      "_view_name": "ProgressView",
      "bar_style": "success",
      "description": "",
      "description_tooltip": null,
      "layout": "IPY_MODEL_fefe96ccf4f3427eab8a5deff9d7c8f0",
      "max": 1091,
      "min": 0,
      "orientation": "horizontal",
      "style": "IPY_MODEL_4deb509d2f694cf6800240544ccfbeeb",
      "value": 1091
     }
    },
    "1842c837b09d44969cff930ad3ae213e": {
     "model_module": "@jupyter-widgets/base",
     "model_module_version": "1.2.0",
     "model_name": "LayoutModel",
     "state": {
      "_model_module": "@jupyter-widgets/base",
      "_model_module_version": "1.2.0",
      "_model_name": "LayoutModel",
      "_view_count": null,
      "_view_module": "@jupyter-widgets/base",
      "_view_module_version": "1.2.0",
      "_view_name": "LayoutView",
      "align_content": null,
      "align_items": null,
      "align_self": null,
      "border": null,
      "bottom": null,
      "display": null,
      "flex": null,
      "flex_flow": null,
      "grid_area": null,
      "grid_auto_columns": null,
      "grid_auto_flow": null,
      "grid_auto_rows": null,
      "grid_column": null,
      "grid_gap": null,
      "grid_row": null,
      "grid_template_areas": null,
      "grid_template_columns": null,
      "grid_template_rows": null,
      "height": null,
      "justify_content": null,
      "justify_items": null,
      "left": null,
      "margin": null,
      "max_height": null,
      "max_width": null,
      "min_height": null,
      "min_width": null,
      "object_fit": null,
      "object_position": null,
      "order": null,
      "overflow": null,
      "overflow_x": null,
      "overflow_y": null,
      "padding": null,
      "right": null,
      "top": null,
      "visibility": null,
      "width": null
     }
    },
    "18a3edf4623046a2ab165855b809e898": {
     "model_module": "@jupyter-widgets/base",
     "model_module_version": "1.2.0",
     "model_name": "LayoutModel",
     "state": {
      "_model_module": "@jupyter-widgets/base",
      "_model_module_version": "1.2.0",
      "_model_name": "LayoutModel",
      "_view_count": null,
      "_view_module": "@jupyter-widgets/base",
      "_view_module_version": "1.2.0",
      "_view_name": "LayoutView",
      "align_content": null,
      "align_items": null,
      "align_self": null,
      "border": null,
      "bottom": null,
      "display": null,
      "flex": null,
      "flex_flow": null,
      "grid_area": null,
      "grid_auto_columns": null,
      "grid_auto_flow": null,
      "grid_auto_rows": null,
      "grid_column": null,
      "grid_gap": null,
      "grid_row": null,
      "grid_template_areas": null,
      "grid_template_columns": null,
      "grid_template_rows": null,
      "height": null,
      "justify_content": null,
      "justify_items": null,
      "left": null,
      "margin": null,
      "max_height": null,
      "max_width": null,
      "min_height": null,
      "min_width": null,
      "object_fit": null,
      "object_position": null,
      "order": null,
      "overflow": null,
      "overflow_x": null,
      "overflow_y": null,
      "padding": null,
      "right": null,
      "top": null,
      "visibility": null,
      "width": null
     }
    },
    "1c48b4256a364da79bbbdcb17f34ce24": {
     "model_module": "@jupyter-widgets/controls",
     "model_module_version": "1.5.0",
     "model_name": "HBoxModel",
     "state": {
      "_dom_classes": [],
      "_model_module": "@jupyter-widgets/controls",
      "_model_module_version": "1.5.0",
      "_model_name": "HBoxModel",
      "_view_count": null,
      "_view_module": "@jupyter-widgets/controls",
      "_view_module_version": "1.5.0",
      "_view_name": "HBoxView",
      "box_style": "",
      "children": [
       "IPY_MODEL_27bc6955ff7847cab68dac8083f61803",
       "IPY_MODEL_424713ec0f1d43b99f0eb3ea119fc2c8",
       "IPY_MODEL_fcac655717ee4a14a329e52af909e980"
      ],
      "layout": "IPY_MODEL_d18142d1a92b45f6a8e87cb7cd9729f5"
     }
    },
    "206632f2228c4241906b496082bc80b5": {
     "model_module": "@jupyter-widgets/controls",
     "model_module_version": "1.5.0",
     "model_name": "DescriptionStyleModel",
     "state": {
      "_model_module": "@jupyter-widgets/controls",
      "_model_module_version": "1.5.0",
      "_model_name": "DescriptionStyleModel",
      "_view_count": null,
      "_view_module": "@jupyter-widgets/base",
      "_view_module_version": "1.2.0",
      "_view_name": "StyleView",
      "description_width": ""
     }
    },
    "211848d4ccc84e1db1d56d0fb35af631": {
     "model_module": "@jupyter-widgets/base",
     "model_module_version": "1.2.0",
     "model_name": "LayoutModel",
     "state": {
      "_model_module": "@jupyter-widgets/base",
      "_model_module_version": "1.2.0",
      "_model_name": "LayoutModel",
      "_view_count": null,
      "_view_module": "@jupyter-widgets/base",
      "_view_module_version": "1.2.0",
      "_view_name": "LayoutView",
      "align_content": null,
      "align_items": null,
      "align_self": null,
      "border": null,
      "bottom": null,
      "display": null,
      "flex": null,
      "flex_flow": null,
      "grid_area": null,
      "grid_auto_columns": null,
      "grid_auto_flow": null,
      "grid_auto_rows": null,
      "grid_column": null,
      "grid_gap": null,
      "grid_row": null,
      "grid_template_areas": null,
      "grid_template_columns": null,
      "grid_template_rows": null,
      "height": null,
      "justify_content": null,
      "justify_items": null,
      "left": null,
      "margin": null,
      "max_height": null,
      "max_width": null,
      "min_height": null,
      "min_width": null,
      "object_fit": null,
      "object_position": null,
      "order": null,
      "overflow": null,
      "overflow_x": null,
      "overflow_y": null,
      "padding": null,
      "right": null,
      "top": null,
      "visibility": null,
      "width": null
     }
    },
    "21970db6caf34df8a0e2994c86505cdd": {
     "model_module": "@jupyter-widgets/controls",
     "model_module_version": "1.5.0",
     "model_name": "HTMLModel",
     "state": {
      "_dom_classes": [],
      "_model_module": "@jupyter-widgets/controls",
      "_model_module_version": "1.5.0",
      "_model_name": "HTMLModel",
      "_view_count": null,
      "_view_module": "@jupyter-widgets/controls",
      "_view_module_version": "1.5.0",
      "_view_name": "HTMLView",
      "description": "",
      "description_tooltip": null,
      "layout": "IPY_MODEL_a02ec70537924bb2b19ac8eb0218f0de",
      "placeholder": "​",
      "style": "IPY_MODEL_8080f63323294a0e8d51877d653eca12",
      "value": "100%"
     }
    },
    "220015a745c44d83bdd9c4b62e907e03": {
     "model_module": "@jupyter-widgets/base",
     "model_module_version": "1.2.0",
     "model_name": "LayoutModel",
     "state": {
      "_model_module": "@jupyter-widgets/base",
      "_model_module_version": "1.2.0",
      "_model_name": "LayoutModel",
      "_view_count": null,
      "_view_module": "@jupyter-widgets/base",
      "_view_module_version": "1.2.0",
      "_view_name": "LayoutView",
      "align_content": null,
      "align_items": null,
      "align_self": null,
      "border": null,
      "bottom": null,
      "display": null,
      "flex": null,
      "flex_flow": null,
      "grid_area": null,
      "grid_auto_columns": null,
      "grid_auto_flow": null,
      "grid_auto_rows": null,
      "grid_column": null,
      "grid_gap": null,
      "grid_row": null,
      "grid_template_areas": null,
      "grid_template_columns": null,
      "grid_template_rows": null,
      "height": null,
      "justify_content": null,
      "justify_items": null,
      "left": null,
      "margin": null,
      "max_height": null,
      "max_width": null,
      "min_height": null,
      "min_width": null,
      "object_fit": null,
      "object_position": null,
      "order": null,
      "overflow": null,
      "overflow_x": null,
      "overflow_y": null,
      "padding": null,
      "right": null,
      "top": null,
      "visibility": null,
      "width": null
     }
    },
    "227310aae9494554881e004cc7706d5a": {
     "model_module": "@jupyter-widgets/controls",
     "model_module_version": "1.5.0",
     "model_name": "DescriptionStyleModel",
     "state": {
      "_model_module": "@jupyter-widgets/controls",
      "_model_module_version": "1.5.0",
      "_model_name": "DescriptionStyleModel",
      "_view_count": null,
      "_view_module": "@jupyter-widgets/base",
      "_view_module_version": "1.2.0",
      "_view_name": "StyleView",
      "description_width": ""
     }
    },
    "240677342ec046ecbfda5faee79ee298": {
     "model_module": "@jupyter-widgets/controls",
     "model_module_version": "1.5.0",
     "model_name": "HTMLModel",
     "state": {
      "_dom_classes": [],
      "_model_module": "@jupyter-widgets/controls",
      "_model_module_version": "1.5.0",
      "_model_name": "HTMLModel",
      "_view_count": null,
      "_view_module": "@jupyter-widgets/controls",
      "_view_module_version": "1.5.0",
      "_view_name": "HTMLView",
      "description": "",
      "description_tooltip": null,
      "layout": "IPY_MODEL_28b31a2020ec43baaa7d643bf8f6323d",
      "placeholder": "​",
      "style": "IPY_MODEL_e8b51cd5e98e49df81ca4ce028b1a045",
      "value": "tokenizer_config.json: 100%"
     }
    },
    "26cef967a04941369eb3f3e0f2662561": {
     "model_module": "@jupyter-widgets/base",
     "model_module_version": "1.2.0",
     "model_name": "LayoutModel",
     "state": {
      "_model_module": "@jupyter-widgets/base",
      "_model_module_version": "1.2.0",
      "_model_name": "LayoutModel",
      "_view_count": null,
      "_view_module": "@jupyter-widgets/base",
      "_view_module_version": "1.2.0",
      "_view_name": "LayoutView",
      "align_content": null,
      "align_items": null,
      "align_self": null,
      "border": null,
      "bottom": null,
      "display": null,
      "flex": null,
      "flex_flow": null,
      "grid_area": null,
      "grid_auto_columns": null,
      "grid_auto_flow": null,
      "grid_auto_rows": null,
      "grid_column": null,
      "grid_gap": null,
      "grid_row": null,
      "grid_template_areas": null,
      "grid_template_columns": null,
      "grid_template_rows": null,
      "height": null,
      "justify_content": null,
      "justify_items": null,
      "left": null,
      "margin": null,
      "max_height": null,
      "max_width": null,
      "min_height": null,
      "min_width": null,
      "object_fit": null,
      "object_position": null,
      "order": null,
      "overflow": null,
      "overflow_x": null,
      "overflow_y": null,
      "padding": null,
      "right": null,
      "top": null,
      "visibility": null,
      "width": null
     }
    },
    "27bc6955ff7847cab68dac8083f61803": {
     "model_module": "@jupyter-widgets/controls",
     "model_module_version": "1.5.0",
     "model_name": "HTMLModel",
     "state": {
      "_dom_classes": [],
      "_model_module": "@jupyter-widgets/controls",
      "_model_module_version": "1.5.0",
      "_model_name": "HTMLModel",
      "_view_count": null,
      "_view_module": "@jupyter-widgets/controls",
      "_view_module_version": "1.5.0",
      "_view_name": "HTMLView",
      "description": "",
      "description_tooltip": null,
      "layout": "IPY_MODEL_2ffe3b1769024d2b8db09cc805a072f2",
      "placeholder": "​",
      "style": "IPY_MODEL_db168c06df9b40439fa300fc8b1b5839",
      "value": "100%"
     }
    },
    "2860303b43dd4b74b008ab9e71d84cb5": {
     "model_module": "@jupyter-widgets/base",
     "model_module_version": "1.2.0",
     "model_name": "LayoutModel",
     "state": {
      "_model_module": "@jupyter-widgets/base",
      "_model_module_version": "1.2.0",
      "_model_name": "LayoutModel",
      "_view_count": null,
      "_view_module": "@jupyter-widgets/base",
      "_view_module_version": "1.2.0",
      "_view_name": "LayoutView",
      "align_content": null,
      "align_items": null,
      "align_self": null,
      "border": null,
      "bottom": null,
      "display": null,
      "flex": null,
      "flex_flow": null,
      "grid_area": null,
      "grid_auto_columns": null,
      "grid_auto_flow": null,
      "grid_auto_rows": null,
      "grid_column": null,
      "grid_gap": null,
      "grid_row": null,
      "grid_template_areas": null,
      "grid_template_columns": null,
      "grid_template_rows": null,
      "height": null,
      "justify_content": null,
      "justify_items": null,
      "left": null,
      "margin": null,
      "max_height": null,
      "max_width": null,
      "min_height": null,
      "min_width": null,
      "object_fit": null,
      "object_position": null,
      "order": null,
      "overflow": null,
      "overflow_x": null,
      "overflow_y": null,
      "padding": null,
      "right": null,
      "top": null,
      "visibility": null,
      "width": null
     }
    },
    "2885ab3e5447487c90afd699997ef862": {
     "model_module": "@jupyter-widgets/base",
     "model_module_version": "1.2.0",
     "model_name": "LayoutModel",
     "state": {
      "_model_module": "@jupyter-widgets/base",
      "_model_module_version": "1.2.0",
      "_model_name": "LayoutModel",
      "_view_count": null,
      "_view_module": "@jupyter-widgets/base",
      "_view_module_version": "1.2.0",
      "_view_name": "LayoutView",
      "align_content": null,
      "align_items": null,
      "align_self": null,
      "border": null,
      "bottom": null,
      "display": null,
      "flex": null,
      "flex_flow": null,
      "grid_area": null,
      "grid_auto_columns": null,
      "grid_auto_flow": null,
      "grid_auto_rows": null,
      "grid_column": null,
      "grid_gap": null,
      "grid_row": null,
      "grid_template_areas": null,
      "grid_template_columns": null,
      "grid_template_rows": null,
      "height": null,
      "justify_content": null,
      "justify_items": null,
      "left": null,
      "margin": null,
      "max_height": null,
      "max_width": null,
      "min_height": null,
      "min_width": null,
      "object_fit": null,
      "object_position": null,
      "order": null,
      "overflow": null,
      "overflow_x": null,
      "overflow_y": null,
      "padding": null,
      "right": null,
      "top": null,
      "visibility": null,
      "width": null
     }
    },
    "28b31a2020ec43baaa7d643bf8f6323d": {
     "model_module": "@jupyter-widgets/base",
     "model_module_version": "1.2.0",
     "model_name": "LayoutModel",
     "state": {
      "_model_module": "@jupyter-widgets/base",
      "_model_module_version": "1.2.0",
      "_model_name": "LayoutModel",
      "_view_count": null,
      "_view_module": "@jupyter-widgets/base",
      "_view_module_version": "1.2.0",
      "_view_name": "LayoutView",
      "align_content": null,
      "align_items": null,
      "align_self": null,
      "border": null,
      "bottom": null,
      "display": null,
      "flex": null,
      "flex_flow": null,
      "grid_area": null,
      "grid_auto_columns": null,
      "grid_auto_flow": null,
      "grid_auto_rows": null,
      "grid_column": null,
      "grid_gap": null,
      "grid_row": null,
      "grid_template_areas": null,
      "grid_template_columns": null,
      "grid_template_rows": null,
      "height": null,
      "justify_content": null,
      "justify_items": null,
      "left": null,
      "margin": null,
      "max_height": null,
      "max_width": null,
      "min_height": null,
      "min_width": null,
      "object_fit": null,
      "object_position": null,
      "order": null,
      "overflow": null,
      "overflow_x": null,
      "overflow_y": null,
      "padding": null,
      "right": null,
      "top": null,
      "visibility": null,
      "width": null
     }
    },
    "2909ef9f841b4010a5fd386eaaa64d91": {
     "model_module": "@jupyter-widgets/controls",
     "model_module_version": "1.5.0",
     "model_name": "HTMLModel",
     "state": {
      "_dom_classes": [],
      "_model_module": "@jupyter-widgets/controls",
      "_model_module_version": "1.5.0",
      "_model_name": "HTMLModel",
      "_view_count": null,
      "_view_module": "@jupyter-widgets/controls",
      "_view_module_version": "1.5.0",
      "_view_name": "HTMLView",
      "description": "",
      "description_tooltip": null,
      "layout": "IPY_MODEL_b06f643892104b169c776e5d73b72144",
      "placeholder": "​",
      "style": "IPY_MODEL_fb3f9a8d90a74a199c04062810fa6777",
      "value": " 1090/1090 [49:34&lt;00:00,  2.22s/it]"
     }
    },
    "2a2d8c4e8f9c48858744c81a2e8cf534": {
     "model_module": "@jupyter-widgets/controls",
     "model_module_version": "1.5.0",
     "model_name": "HTMLModel",
     "state": {
      "_dom_classes": [],
      "_model_module": "@jupyter-widgets/controls",
      "_model_module_version": "1.5.0",
      "_model_name": "HTMLModel",
      "_view_count": null,
      "_view_module": "@jupyter-widgets/controls",
      "_view_module_version": "1.5.0",
      "_view_name": "HTMLView",
      "description": "",
      "description_tooltip": null,
      "layout": "IPY_MODEL_e30b0544958f45cdb960439f6547ceb5",
      "placeholder": "​",
      "style": "IPY_MODEL_a423d37636054f15b1a838d7f18feca3",
      "value": " 1091/1091 [43:30&lt;00:00,  1.89s/it]"
     }
    },
    "2b13ac1d127f45cdabd84b631f957aea": {
     "model_module": "@jupyter-widgets/controls",
     "model_module_version": "1.5.0",
     "model_name": "FloatProgressModel",
     "state": {
      "_dom_classes": [],
      "_model_module": "@jupyter-widgets/controls",
      "_model_module_version": "1.5.0",
      "_model_name": "FloatProgressModel",
      "_view_count": null,
      "_view_module": "@jupyter-widgets/controls",
      "_view_module_version": "1.5.0",
      "_view_name": "ProgressView",
      "bar_style": "success",
      "description": "",
      "description_tooltip": null,
      "layout": "IPY_MODEL_05107dbd063948b6a7fb8b639ac4b29d",
      "max": 1091,
      "min": 0,
      "orientation": "horizontal",
      "style": "IPY_MODEL_2c3a6e4ae4154fd580c602b218f8977a",
      "value": 1091
     }
    },
    "2b516b8b8fcd4a8d86703350686584ba": {
     "model_module": "@jupyter-widgets/base",
     "model_module_version": "1.2.0",
     "model_name": "LayoutModel",
     "state": {
      "_model_module": "@jupyter-widgets/base",
      "_model_module_version": "1.2.0",
      "_model_name": "LayoutModel",
      "_view_count": null,
      "_view_module": "@jupyter-widgets/base",
      "_view_module_version": "1.2.0",
      "_view_name": "LayoutView",
      "align_content": null,
      "align_items": null,
      "align_self": null,
      "border": null,
      "bottom": null,
      "display": null,
      "flex": null,
      "flex_flow": null,
      "grid_area": null,
      "grid_auto_columns": null,
      "grid_auto_flow": null,
      "grid_auto_rows": null,
      "grid_column": null,
      "grid_gap": null,
      "grid_row": null,
      "grid_template_areas": null,
      "grid_template_columns": null,
      "grid_template_rows": null,
      "height": null,
      "justify_content": null,
      "justify_items": null,
      "left": null,
      "margin": null,
      "max_height": null,
      "max_width": null,
      "min_height": null,
      "min_width": null,
      "object_fit": null,
      "object_position": null,
      "order": null,
      "overflow": null,
      "overflow_x": null,
      "overflow_y": null,
      "padding": null,
      "right": null,
      "top": null,
      "visibility": null,
      "width": null
     }
    },
    "2c3a6e4ae4154fd580c602b218f8977a": {
     "model_module": "@jupyter-widgets/controls",
     "model_module_version": "1.5.0",
     "model_name": "ProgressStyleModel",
     "state": {
      "_model_module": "@jupyter-widgets/controls",
      "_model_module_version": "1.5.0",
      "_model_name": "ProgressStyleModel",
      "_view_count": null,
      "_view_module": "@jupyter-widgets/base",
      "_view_module_version": "1.2.0",
      "_view_name": "StyleView",
      "bar_color": null,
      "description_width": ""
     }
    },
    "2d32422fad2347a38fec7bc5d93f6a0a": {
     "model_module": "@jupyter-widgets/base",
     "model_module_version": "1.2.0",
     "model_name": "LayoutModel",
     "state": {
      "_model_module": "@jupyter-widgets/base",
      "_model_module_version": "1.2.0",
      "_model_name": "LayoutModel",
      "_view_count": null,
      "_view_module": "@jupyter-widgets/base",
      "_view_module_version": "1.2.0",
      "_view_name": "LayoutView",
      "align_content": null,
      "align_items": null,
      "align_self": null,
      "border": null,
      "bottom": null,
      "display": null,
      "flex": null,
      "flex_flow": null,
      "grid_area": null,
      "grid_auto_columns": null,
      "grid_auto_flow": null,
      "grid_auto_rows": null,
      "grid_column": null,
      "grid_gap": null,
      "grid_row": null,
      "grid_template_areas": null,
      "grid_template_columns": null,
      "grid_template_rows": null,
      "height": null,
      "justify_content": null,
      "justify_items": null,
      "left": null,
      "margin": null,
      "max_height": null,
      "max_width": null,
      "min_height": null,
      "min_width": null,
      "object_fit": null,
      "object_position": null,
      "order": null,
      "overflow": null,
      "overflow_x": null,
      "overflow_y": null,
      "padding": null,
      "right": null,
      "top": null,
      "visibility": null,
      "width": null
     }
    },
    "2ffe3b1769024d2b8db09cc805a072f2": {
     "model_module": "@jupyter-widgets/base",
     "model_module_version": "1.2.0",
     "model_name": "LayoutModel",
     "state": {
      "_model_module": "@jupyter-widgets/base",
      "_model_module_version": "1.2.0",
      "_model_name": "LayoutModel",
      "_view_count": null,
      "_view_module": "@jupyter-widgets/base",
      "_view_module_version": "1.2.0",
      "_view_name": "LayoutView",
      "align_content": null,
      "align_items": null,
      "align_self": null,
      "border": null,
      "bottom": null,
      "display": null,
      "flex": null,
      "flex_flow": null,
      "grid_area": null,
      "grid_auto_columns": null,
      "grid_auto_flow": null,
      "grid_auto_rows": null,
      "grid_column": null,
      "grid_gap": null,
      "grid_row": null,
      "grid_template_areas": null,
      "grid_template_columns": null,
      "grid_template_rows": null,
      "height": null,
      "justify_content": null,
      "justify_items": null,
      "left": null,
      "margin": null,
      "max_height": null,
      "max_width": null,
      "min_height": null,
      "min_width": null,
      "object_fit": null,
      "object_position": null,
      "order": null,
      "overflow": null,
      "overflow_x": null,
      "overflow_y": null,
      "padding": null,
      "right": null,
      "top": null,
      "visibility": null,
      "width": null
     }
    },
    "307c03e4864a4e80a460774100b9e257": {
     "model_module": "@jupyter-widgets/controls",
     "model_module_version": "1.5.0",
     "model_name": "DescriptionStyleModel",
     "state": {
      "_model_module": "@jupyter-widgets/controls",
      "_model_module_version": "1.5.0",
      "_model_name": "DescriptionStyleModel",
      "_view_count": null,
      "_view_module": "@jupyter-widgets/base",
      "_view_module_version": "1.2.0",
      "_view_name": "StyleView",
      "description_width": ""
     }
    },
    "311391985293419c8f2ad4b61ac08656": {
     "model_module": "@jupyter-widgets/base",
     "model_module_version": "1.2.0",
     "model_name": "LayoutModel",
     "state": {
      "_model_module": "@jupyter-widgets/base",
      "_model_module_version": "1.2.0",
      "_model_name": "LayoutModel",
      "_view_count": null,
      "_view_module": "@jupyter-widgets/base",
      "_view_module_version": "1.2.0",
      "_view_name": "LayoutView",
      "align_content": null,
      "align_items": null,
      "align_self": null,
      "border": null,
      "bottom": null,
      "display": null,
      "flex": null,
      "flex_flow": null,
      "grid_area": null,
      "grid_auto_columns": null,
      "grid_auto_flow": null,
      "grid_auto_rows": null,
      "grid_column": null,
      "grid_gap": null,
      "grid_row": null,
      "grid_template_areas": null,
      "grid_template_columns": null,
      "grid_template_rows": null,
      "height": null,
      "justify_content": null,
      "justify_items": null,
      "left": null,
      "margin": null,
      "max_height": null,
      "max_width": null,
      "min_height": null,
      "min_width": null,
      "object_fit": null,
      "object_position": null,
      "order": null,
      "overflow": null,
      "overflow_x": null,
      "overflow_y": null,
      "padding": null,
      "right": null,
      "top": null,
      "visibility": null,
      "width": null
     }
    },
    "362229ea33404634acba3458783f92c3": {
     "model_module": "@jupyter-widgets/controls",
     "model_module_version": "1.5.0",
     "model_name": "FloatProgressModel",
     "state": {
      "_dom_classes": [],
      "_model_module": "@jupyter-widgets/controls",
      "_model_module_version": "1.5.0",
      "_model_name": "FloatProgressModel",
      "_view_count": null,
      "_view_module": "@jupyter-widgets/controls",
      "_view_module_version": "1.5.0",
      "_view_name": "ProgressView",
      "bar_style": "success",
      "description": "",
      "description_tooltip": null,
      "layout": "IPY_MODEL_38b4b6f58d214740845885b35933bd61",
      "max": 1091,
      "min": 0,
      "orientation": "horizontal",
      "style": "IPY_MODEL_f14edcf33b71449db63728dfe49d8e5a",
      "value": 1091
     }
    },
    "36fa3c6d389d4a07af4fccc9c78b017f": {
     "model_module": "@jupyter-widgets/base",
     "model_module_version": "1.2.0",
     "model_name": "LayoutModel",
     "state": {
      "_model_module": "@jupyter-widgets/base",
      "_model_module_version": "1.2.0",
      "_model_name": "LayoutModel",
      "_view_count": null,
      "_view_module": "@jupyter-widgets/base",
      "_view_module_version": "1.2.0",
      "_view_name": "LayoutView",
      "align_content": null,
      "align_items": null,
      "align_self": null,
      "border": null,
      "bottom": null,
      "display": null,
      "flex": null,
      "flex_flow": null,
      "grid_area": null,
      "grid_auto_columns": null,
      "grid_auto_flow": null,
      "grid_auto_rows": null,
      "grid_column": null,
      "grid_gap": null,
      "grid_row": null,
      "grid_template_areas": null,
      "grid_template_columns": null,
      "grid_template_rows": null,
      "height": null,
      "justify_content": null,
      "justify_items": null,
      "left": null,
      "margin": null,
      "max_height": null,
      "max_width": null,
      "min_height": null,
      "min_width": null,
      "object_fit": null,
      "object_position": null,
      "order": null,
      "overflow": null,
      "overflow_x": null,
      "overflow_y": null,
      "padding": null,
      "right": null,
      "top": null,
      "visibility": null,
      "width": null
     }
    },
    "3799189e4aff43578017e1f026be7641": {
     "model_module": "@jupyter-widgets/controls",
     "model_module_version": "1.5.0",
     "model_name": "HBoxModel",
     "state": {
      "_dom_classes": [],
      "_model_module": "@jupyter-widgets/controls",
      "_model_module_version": "1.5.0",
      "_model_name": "HBoxModel",
      "_view_count": null,
      "_view_module": "@jupyter-widgets/controls",
      "_view_module_version": "1.5.0",
      "_view_name": "HBoxView",
      "box_style": "",
      "children": [
       "IPY_MODEL_4d30c2cffe28441dbda8a7b4d2da9f12",
       "IPY_MODEL_471e7af09bf84368b405932e7ea1d5e6",
       "IPY_MODEL_5a8654c234364064a1849df0a4773616"
      ],
      "layout": "IPY_MODEL_a3302a2174534881914a349b1223bcce"
     }
    },
    "38b4b6f58d214740845885b35933bd61": {
     "model_module": "@jupyter-widgets/base",
     "model_module_version": "1.2.0",
     "model_name": "LayoutModel",
     "state": {
      "_model_module": "@jupyter-widgets/base",
      "_model_module_version": "1.2.0",
      "_model_name": "LayoutModel",
      "_view_count": null,
      "_view_module": "@jupyter-widgets/base",
      "_view_module_version": "1.2.0",
      "_view_name": "LayoutView",
      "align_content": null,
      "align_items": null,
      "align_self": null,
      "border": null,
      "bottom": null,
      "display": null,
      "flex": null,
      "flex_flow": null,
      "grid_area": null,
      "grid_auto_columns": null,
      "grid_auto_flow": null,
      "grid_auto_rows": null,
      "grid_column": null,
      "grid_gap": null,
      "grid_row": null,
      "grid_template_areas": null,
      "grid_template_columns": null,
      "grid_template_rows": null,
      "height": null,
      "justify_content": null,
      "justify_items": null,
      "left": null,
      "margin": null,
      "max_height": null,
      "max_width": null,
      "min_height": null,
      "min_width": null,
      "object_fit": null,
      "object_position": null,
      "order": null,
      "overflow": null,
      "overflow_x": null,
      "overflow_y": null,
      "padding": null,
      "right": null,
      "top": null,
      "visibility": null,
      "width": null
     }
    },
    "3a0d9745f1574fde8da0ac8c39ca9720": {
     "model_module": "@jupyter-widgets/controls",
     "model_module_version": "1.5.0",
     "model_name": "HBoxModel",
     "state": {
      "_dom_classes": [],
      "_model_module": "@jupyter-widgets/controls",
      "_model_module_version": "1.5.0",
      "_model_name": "HBoxModel",
      "_view_count": null,
      "_view_module": "@jupyter-widgets/controls",
      "_view_module_version": "1.5.0",
      "_view_name": "HBoxView",
      "box_style": "",
      "children": [
       "IPY_MODEL_5123dc163c6f47fba159ead4539e3411",
       "IPY_MODEL_b0c70f96889a4b028bb2401dbcf0f4e4",
       "IPY_MODEL_d5ed78eee205488b846ef518fdeec540"
      ],
      "layout": "IPY_MODEL_753c99a2e7484a47beaa4e60c8bbde58"
     }
    },
    "3a1b395f4abc4337b9d753302a074e49": {
     "model_module": "@jupyter-widgets/controls",
     "model_module_version": "1.5.0",
     "model_name": "HBoxModel",
     "state": {
      "_dom_classes": [],
      "_model_module": "@jupyter-widgets/controls",
      "_model_module_version": "1.5.0",
      "_model_name": "HBoxModel",
      "_view_count": null,
      "_view_module": "@jupyter-widgets/controls",
      "_view_module_version": "1.5.0",
      "_view_name": "HBoxView",
      "box_style": "",
      "children": [
       "IPY_MODEL_9ab3e67153be4d4d94fc88afc655287d",
       "IPY_MODEL_a19bf62f3eba470fa5b3b60c244f8989",
       "IPY_MODEL_c594d8f7916546158dfaabc006d5e5cd"
      ],
      "layout": "IPY_MODEL_36fa3c6d389d4a07af4fccc9c78b017f"
     }
    },
    "3b76a78ac50a4f33b2c63b6f926302ef": {
     "model_module": "@jupyter-widgets/controls",
     "model_module_version": "1.5.0",
     "model_name": "DescriptionStyleModel",
     "state": {
      "_model_module": "@jupyter-widgets/controls",
      "_model_module_version": "1.5.0",
      "_model_name": "DescriptionStyleModel",
      "_view_count": null,
      "_view_module": "@jupyter-widgets/base",
      "_view_module_version": "1.2.0",
      "_view_name": "StyleView",
      "description_width": ""
     }
    },
    "3bf97be8d35c4a73bf83aeca52efa4ca": {
     "model_module": "@jupyter-widgets/controls",
     "model_module_version": "1.5.0",
     "model_name": "HTMLModel",
     "state": {
      "_dom_classes": [],
      "_model_module": "@jupyter-widgets/controls",
      "_model_module_version": "1.5.0",
      "_model_name": "HTMLModel",
      "_view_count": null,
      "_view_module": "@jupyter-widgets/controls",
      "_view_module_version": "1.5.0",
      "_view_name": "HTMLView",
      "description": "",
      "description_tooltip": null,
      "layout": "IPY_MODEL_fc5911233c4e4006969b9a8b6972ac94",
      "placeholder": "​",
      "style": "IPY_MODEL_3c7b38085d864cd1b8f893a4eabe195d",
      "value": " 1091/1091 [56:18&lt;00:00,  3.81s/it]"
     }
    },
    "3c3a998db76c427b9582f8ec0a1f0ddd": {
     "model_module": "@jupyter-widgets/controls",
     "model_module_version": "1.5.0",
     "model_name": "DescriptionStyleModel",
     "state": {
      "_model_module": "@jupyter-widgets/controls",
      "_model_module_version": "1.5.0",
      "_model_name": "DescriptionStyleModel",
      "_view_count": null,
      "_view_module": "@jupyter-widgets/base",
      "_view_module_version": "1.2.0",
      "_view_name": "StyleView",
      "description_width": ""
     }
    },
    "3c7b38085d864cd1b8f893a4eabe195d": {
     "model_module": "@jupyter-widgets/controls",
     "model_module_version": "1.5.0",
     "model_name": "DescriptionStyleModel",
     "state": {
      "_model_module": "@jupyter-widgets/controls",
      "_model_module_version": "1.5.0",
      "_model_name": "DescriptionStyleModel",
      "_view_count": null,
      "_view_module": "@jupyter-widgets/base",
      "_view_module_version": "1.2.0",
      "_view_name": "StyleView",
      "description_width": ""
     }
    },
    "3cbe169494ce4579ba389014f9f340e4": {
     "model_module": "@jupyter-widgets/controls",
     "model_module_version": "1.5.0",
     "model_name": "HBoxModel",
     "state": {
      "_dom_classes": [],
      "_model_module": "@jupyter-widgets/controls",
      "_model_module_version": "1.5.0",
      "_model_name": "HBoxModel",
      "_view_count": null,
      "_view_module": "@jupyter-widgets/controls",
      "_view_module_version": "1.5.0",
      "_view_name": "HBoxView",
      "box_style": "",
      "children": [
       "IPY_MODEL_b979c57d99c74e45b73cf90912620015",
       "IPY_MODEL_0cf50b2a3c8f4dcea93ded1d4d3e1b96",
       "IPY_MODEL_2909ef9f841b4010a5fd386eaaa64d91"
      ],
      "layout": "IPY_MODEL_1842c837b09d44969cff930ad3ae213e"
     }
    },
    "3db0312e2d474ed0b0d31e0dcbea46e2": {
     "model_module": "@jupyter-widgets/controls",
     "model_module_version": "1.5.0",
     "model_name": "DescriptionStyleModel",
     "state": {
      "_model_module": "@jupyter-widgets/controls",
      "_model_module_version": "1.5.0",
      "_model_name": "DescriptionStyleModel",
      "_view_count": null,
      "_view_module": "@jupyter-widgets/base",
      "_view_module_version": "1.2.0",
      "_view_name": "StyleView",
      "description_width": ""
     }
    },
    "4023e63282974435ae8f7adbbe84c4cc": {
     "model_module": "@jupyter-widgets/controls",
     "model_module_version": "1.5.0",
     "model_name": "HTMLModel",
     "state": {
      "_dom_classes": [],
      "_model_module": "@jupyter-widgets/controls",
      "_model_module_version": "1.5.0",
      "_model_name": "HTMLModel",
      "_view_count": null,
      "_view_module": "@jupyter-widgets/controls",
      "_view_module_version": "1.5.0",
      "_view_name": "HTMLView",
      "description": "",
      "description_tooltip": null,
      "layout": "IPY_MODEL_cabe65c9fc9a4b9a971f7f917cb67009",
      "placeholder": "​",
      "style": "IPY_MODEL_705b1ed582814b1fb637b9969d9d1568",
      "value": "100%"
     }
    },
    "4230220d06944939ad45cbef5f9ed516": {
     "model_module": "@jupyter-widgets/controls",
     "model_module_version": "1.5.0",
     "model_name": "FloatProgressModel",
     "state": {
      "_dom_classes": [],
      "_model_module": "@jupyter-widgets/controls",
      "_model_module_version": "1.5.0",
      "_model_name": "FloatProgressModel",
      "_view_count": null,
      "_view_module": "@jupyter-widgets/controls",
      "_view_module_version": "1.5.0",
      "_view_name": "ProgressView",
      "bar_style": "success",
      "description": "",
      "description_tooltip": null,
      "layout": "IPY_MODEL_11ee091e34b24d6592ba3f80afc90390",
      "max": 10368,
      "min": 0,
      "orientation": "horizontal",
      "style": "IPY_MODEL_a8d625f659744a4a9e9d7a6cf4c544b5",
      "value": 10368
     }
    },
    "424713ec0f1d43b99f0eb3ea119fc2c8": {
     "model_module": "@jupyter-widgets/controls",
     "model_module_version": "1.5.0",
     "model_name": "FloatProgressModel",
     "state": {
      "_dom_classes": [],
      "_model_module": "@jupyter-widgets/controls",
      "_model_module_version": "1.5.0",
      "_model_name": "FloatProgressModel",
      "_view_count": null,
      "_view_module": "@jupyter-widgets/controls",
      "_view_module_version": "1.5.0",
      "_view_name": "ProgressView",
      "bar_style": "success",
      "description": "",
      "description_tooltip": null,
      "layout": "IPY_MODEL_b3fec80addde4d328709dfc5b784f92d",
      "max": 1091,
      "min": 0,
      "orientation": "horizontal",
      "style": "IPY_MODEL_ee8af1f2a6874cc8a2c8d94e4a7c1799",
      "value": 1091
     }
    },
    "425957b1c76a446b8126cd79eebe5656": {
     "model_module": "@jupyter-widgets/base",
     "model_module_version": "1.2.0",
     "model_name": "LayoutModel",
     "state": {
      "_model_module": "@jupyter-widgets/base",
      "_model_module_version": "1.2.0",
      "_model_name": "LayoutModel",
      "_view_count": null,
      "_view_module": "@jupyter-widgets/base",
      "_view_module_version": "1.2.0",
      "_view_name": "LayoutView",
      "align_content": null,
      "align_items": null,
      "align_self": null,
      "border": null,
      "bottom": null,
      "display": null,
      "flex": null,
      "flex_flow": null,
      "grid_area": null,
      "grid_auto_columns": null,
      "grid_auto_flow": null,
      "grid_auto_rows": null,
      "grid_column": null,
      "grid_gap": null,
      "grid_row": null,
      "grid_template_areas": null,
      "grid_template_columns": null,
      "grid_template_rows": null,
      "height": null,
      "justify_content": null,
      "justify_items": null,
      "left": null,
      "margin": null,
      "max_height": null,
      "max_width": null,
      "min_height": null,
      "min_width": null,
      "object_fit": null,
      "object_position": null,
      "order": null,
      "overflow": null,
      "overflow_x": null,
      "overflow_y": null,
      "padding": null,
      "right": null,
      "top": null,
      "visibility": null,
      "width": null
     }
    },
    "42b7e911696c4b87843149c73243be8a": {
     "model_module": "@jupyter-widgets/controls",
     "model_module_version": "1.5.0",
     "model_name": "DescriptionStyleModel",
     "state": {
      "_model_module": "@jupyter-widgets/controls",
      "_model_module_version": "1.5.0",
      "_model_name": "DescriptionStyleModel",
      "_view_count": null,
      "_view_module": "@jupyter-widgets/base",
      "_view_module_version": "1.2.0",
      "_view_name": "StyleView",
      "description_width": ""
     }
    },
    "42e902cd084149638c2c2a68aa83ea24": {
     "model_module": "@jupyter-widgets/controls",
     "model_module_version": "1.5.0",
     "model_name": "HTMLModel",
     "state": {
      "_dom_classes": [],
      "_model_module": "@jupyter-widgets/controls",
      "_model_module_version": "1.5.0",
      "_model_name": "HTMLModel",
      "_view_count": null,
      "_view_module": "@jupyter-widgets/controls",
      "_view_module_version": "1.5.0",
      "_view_name": "HTMLView",
      "description": "",
      "description_tooltip": null,
      "layout": "IPY_MODEL_5c3e75d15c314925a34791863483abdf",
      "placeholder": "​",
      "style": "IPY_MODEL_3b76a78ac50a4f33b2c63b6f926302ef",
      "value": " 7049/7049 [6:23:22&lt;00:00,  3.30s/it]"
     }
    },
    "42eefd453df4442d8dc487d758243624": {
     "model_module": "@jupyter-widgets/base",
     "model_module_version": "1.2.0",
     "model_name": "LayoutModel",
     "state": {
      "_model_module": "@jupyter-widgets/base",
      "_model_module_version": "1.2.0",
      "_model_name": "LayoutModel",
      "_view_count": null,
      "_view_module": "@jupyter-widgets/base",
      "_view_module_version": "1.2.0",
      "_view_name": "LayoutView",
      "align_content": null,
      "align_items": null,
      "align_self": null,
      "border": null,
      "bottom": null,
      "display": null,
      "flex": null,
      "flex_flow": null,
      "grid_area": null,
      "grid_auto_columns": null,
      "grid_auto_flow": null,
      "grid_auto_rows": null,
      "grid_column": null,
      "grid_gap": null,
      "grid_row": null,
      "grid_template_areas": null,
      "grid_template_columns": null,
      "grid_template_rows": null,
      "height": null,
      "justify_content": null,
      "justify_items": null,
      "left": null,
      "margin": null,
      "max_height": null,
      "max_width": null,
      "min_height": null,
      "min_width": null,
      "object_fit": null,
      "object_position": null,
      "order": null,
      "overflow": null,
      "overflow_x": null,
      "overflow_y": null,
      "padding": null,
      "right": null,
      "top": null,
      "visibility": null,
      "width": null
     }
    },
    "43d8a1763d1049038840e7ba16714006": {
     "model_module": "@jupyter-widgets/base",
     "model_module_version": "1.2.0",
     "model_name": "LayoutModel",
     "state": {
      "_model_module": "@jupyter-widgets/base",
      "_model_module_version": "1.2.0",
      "_model_name": "LayoutModel",
      "_view_count": null,
      "_view_module": "@jupyter-widgets/base",
      "_view_module_version": "1.2.0",
      "_view_name": "LayoutView",
      "align_content": null,
      "align_items": null,
      "align_self": null,
      "border": null,
      "bottom": null,
      "display": null,
      "flex": null,
      "flex_flow": null,
      "grid_area": null,
      "grid_auto_columns": null,
      "grid_auto_flow": null,
      "grid_auto_rows": null,
      "grid_column": null,
      "grid_gap": null,
      "grid_row": null,
      "grid_template_areas": null,
      "grid_template_columns": null,
      "grid_template_rows": null,
      "height": null,
      "justify_content": null,
      "justify_items": null,
      "left": null,
      "margin": null,
      "max_height": null,
      "max_width": null,
      "min_height": null,
      "min_width": null,
      "object_fit": null,
      "object_position": null,
      "order": null,
      "overflow": null,
      "overflow_x": null,
      "overflow_y": null,
      "padding": null,
      "right": null,
      "top": null,
      "visibility": null,
      "width": null
     }
    },
    "450508d920ea40aeb9f6b6285b3f357d": {
     "model_module": "@jupyter-widgets/controls",
     "model_module_version": "1.5.0",
     "model_name": "HBoxModel",
     "state": {
      "_dom_classes": [],
      "_model_module": "@jupyter-widgets/controls",
      "_model_module_version": "1.5.0",
      "_model_name": "HBoxModel",
      "_view_count": null,
      "_view_module": "@jupyter-widgets/controls",
      "_view_module_version": "1.5.0",
      "_view_name": "HBoxView",
      "box_style": "",
      "children": [
       "IPY_MODEL_051dcbde27d04fedbbe280bb6859d042",
       "IPY_MODEL_2b13ac1d127f45cdabd84b631f957aea",
       "IPY_MODEL_3bf97be8d35c4a73bf83aeca52efa4ca"
      ],
      "layout": "IPY_MODEL_874c4a69a63d4a498d47b02c60e6d77a"
     }
    },
    "471e7af09bf84368b405932e7ea1d5e6": {
     "model_module": "@jupyter-widgets/controls",
     "model_module_version": "1.5.0",
     "model_name": "FloatProgressModel",
     "state": {
      "_dom_classes": [],
      "_model_module": "@jupyter-widgets/controls",
      "_model_module_version": "1.5.0",
      "_model_name": "FloatProgressModel",
      "_view_count": null,
      "_view_module": "@jupyter-widgets/controls",
      "_view_module_version": "1.5.0",
      "_view_name": "ProgressView",
      "bar_style": "success",
      "description": "",
      "description_tooltip": null,
      "layout": "IPY_MODEL_91b09da162eb409cb126d1ab14a4b30e",
      "max": 1109858936,
      "min": 0,
      "orientation": "horizontal",
      "style": "IPY_MODEL_ab65ea6d634d4c7d931cb64759923290",
      "value": 1109858936
     }
    },
    "47f9e01c41c94c3b99b4a6ea43fbb2e6": {
     "model_module": "@jupyter-widgets/controls",
     "model_module_version": "1.5.0",
     "model_name": "FloatProgressModel",
     "state": {
      "_dom_classes": [],
      "_model_module": "@jupyter-widgets/controls",
      "_model_module_version": "1.5.0",
      "_model_name": "FloatProgressModel",
      "_view_count": null,
      "_view_module": "@jupyter-widgets/controls",
      "_view_module_version": "1.5.0",
      "_view_name": "ProgressView",
      "bar_style": "success",
      "description": "",
      "description_tooltip": null,
      "layout": "IPY_MODEL_52a01908dbe842fe948ca0a79f5d047a",
      "max": 1109901745,
      "min": 0,
      "orientation": "horizontal",
      "style": "IPY_MODEL_8bab1e78bed74c4394f02e258468e811",
      "value": 1109901745
     }
    },
    "4855e575a74f4fc0acda7268e5dfa7bc": {
     "model_module": "@jupyter-widgets/base",
     "model_module_version": "1.2.0",
     "model_name": "LayoutModel",
     "state": {
      "_model_module": "@jupyter-widgets/base",
      "_model_module_version": "1.2.0",
      "_model_name": "LayoutModel",
      "_view_count": null,
      "_view_module": "@jupyter-widgets/base",
      "_view_module_version": "1.2.0",
      "_view_name": "LayoutView",
      "align_content": null,
      "align_items": null,
      "align_self": null,
      "border": null,
      "bottom": null,
      "display": null,
      "flex": null,
      "flex_flow": null,
      "grid_area": null,
      "grid_auto_columns": null,
      "grid_auto_flow": null,
      "grid_auto_rows": null,
      "grid_column": null,
      "grid_gap": null,
      "grid_row": null,
      "grid_template_areas": null,
      "grid_template_columns": null,
      "grid_template_rows": null,
      "height": null,
      "justify_content": null,
      "justify_items": null,
      "left": null,
      "margin": null,
      "max_height": null,
      "max_width": null,
      "min_height": null,
      "min_width": null,
      "object_fit": null,
      "object_position": null,
      "order": null,
      "overflow": null,
      "overflow_x": null,
      "overflow_y": null,
      "padding": null,
      "right": null,
      "top": null,
      "visibility": null,
      "width": null
     }
    },
    "491726b3e9a04d2b86d42eaa842651f6": {
     "model_module": "@jupyter-widgets/controls",
     "model_module_version": "1.5.0",
     "model_name": "DescriptionStyleModel",
     "state": {
      "_model_module": "@jupyter-widgets/controls",
      "_model_module_version": "1.5.0",
      "_model_name": "DescriptionStyleModel",
      "_view_count": null,
      "_view_module": "@jupyter-widgets/base",
      "_view_module_version": "1.2.0",
      "_view_name": "StyleView",
      "description_width": ""
     }
    },
    "4c50be57b83946f489e5be02d74a0e15": {
     "model_module": "@jupyter-widgets/controls",
     "model_module_version": "1.5.0",
     "model_name": "HTMLModel",
     "state": {
      "_dom_classes": [],
      "_model_module": "@jupyter-widgets/controls",
      "_model_module_version": "1.5.0",
      "_model_name": "HTMLModel",
      "_view_count": null,
      "_view_module": "@jupyter-widgets/controls",
      "_view_module_version": "1.5.0",
      "_view_name": "HTMLView",
      "description": "",
      "description_tooltip": null,
      "layout": "IPY_MODEL_6c1601b11e584eeab6b126a928611a18",
      "placeholder": "​",
      "style": "IPY_MODEL_a55e249317404d149d67db7dd8cfef41",
      "value": " 1090/1090 [55:48&lt;00:00,  3.18s/it]"
     }
    },
    "4d30c2cffe28441dbda8a7b4d2da9f12": {
     "model_module": "@jupyter-widgets/controls",
     "model_module_version": "1.5.0",
     "model_name": "HTMLModel",
     "state": {
      "_dom_classes": [],
      "_model_module": "@jupyter-widgets/controls",
      "_model_module_version": "1.5.0",
      "_model_name": "HTMLModel",
      "_view_count": null,
      "_view_module": "@jupyter-widgets/controls",
      "_view_module_version": "1.5.0",
      "_view_name": "HTMLView",
      "description": "",
      "description_tooltip": null,
      "layout": "IPY_MODEL_4855e575a74f4fc0acda7268e5dfa7bc",
      "placeholder": "​",
      "style": "IPY_MODEL_02ff276333fd4ae4ab15e8b1d9bfa02e",
      "value": "model.safetensors: 100%"
     }
    },
    "4dccba90f2cb419eb012a6b9945204cf": {
     "model_module": "@jupyter-widgets/controls",
     "model_module_version": "1.5.0",
     "model_name": "FloatProgressModel",
     "state": {
      "_dom_classes": [],
      "_model_module": "@jupyter-widgets/controls",
      "_model_module_version": "1.5.0",
      "_model_name": "FloatProgressModel",
      "_view_count": null,
      "_view_module": "@jupyter-widgets/controls",
      "_view_module_version": "1.5.0",
      "_view_name": "ProgressView",
      "bar_style": "",
      "description": "",
      "description_tooltip": null,
      "layout": "IPY_MODEL_bfe3de7457cb44178ca45280e61b56ba",
      "max": 10366,
      "min": 0,
      "orientation": "horizontal",
      "style": "IPY_MODEL_e76b1d591bde48d58e77b12a4dffdaf1",
      "value": 3324
     }
    },
    "4deb509d2f694cf6800240544ccfbeeb": {
     "model_module": "@jupyter-widgets/controls",
     "model_module_version": "1.5.0",
     "model_name": "ProgressStyleModel",
     "state": {
      "_model_module": "@jupyter-widgets/controls",
      "_model_module_version": "1.5.0",
      "_model_name": "ProgressStyleModel",
      "_view_count": null,
      "_view_module": "@jupyter-widgets/base",
      "_view_module_version": "1.2.0",
      "_view_name": "StyleView",
      "bar_color": null,
      "description_width": ""
     }
    },
    "4e0588ba38f24f93a90b697862058a5b": {
     "model_module": "@jupyter-widgets/base",
     "model_module_version": "1.2.0",
     "model_name": "LayoutModel",
     "state": {
      "_model_module": "@jupyter-widgets/base",
      "_model_module_version": "1.2.0",
      "_model_name": "LayoutModel",
      "_view_count": null,
      "_view_module": "@jupyter-widgets/base",
      "_view_module_version": "1.2.0",
      "_view_name": "LayoutView",
      "align_content": null,
      "align_items": null,
      "align_self": null,
      "border": null,
      "bottom": null,
      "display": null,
      "flex": null,
      "flex_flow": null,
      "grid_area": null,
      "grid_auto_columns": null,
      "grid_auto_flow": null,
      "grid_auto_rows": null,
      "grid_column": null,
      "grid_gap": null,
      "grid_row": null,
      "grid_template_areas": null,
      "grid_template_columns": null,
      "grid_template_rows": null,
      "height": null,
      "justify_content": null,
      "justify_items": null,
      "left": null,
      "margin": null,
      "max_height": null,
      "max_width": null,
      "min_height": null,
      "min_width": null,
      "object_fit": null,
      "object_position": null,
      "order": null,
      "overflow": null,
      "overflow_x": null,
      "overflow_y": null,
      "padding": null,
      "right": null,
      "top": null,
      "visibility": null,
      "width": null
     }
    },
    "4f066b5754584bd495e6c8937372d40f": {
     "model_module": "@jupyter-widgets/controls",
     "model_module_version": "1.5.0",
     "model_name": "FloatProgressModel",
     "state": {
      "_dom_classes": [],
      "_model_module": "@jupyter-widgets/controls",
      "_model_module_version": "1.5.0",
      "_model_name": "FloatProgressModel",
      "_view_count": null,
      "_view_module": "@jupyter-widgets/controls",
      "_view_module_version": "1.5.0",
      "_view_name": "ProgressView",
      "bar_style": "success",
      "description": "",
      "description_tooltip": null,
      "layout": "IPY_MODEL_cdad773a82034b9abcdf096da6b3f999",
      "max": 1090,
      "min": 0,
      "orientation": "horizontal",
      "style": "IPY_MODEL_b1f59d0cadb74b5889739979a5352399",
      "value": 1090
     }
    },
    "4f4e101bde6e4e3882bcfa9daa5c5b72": {
     "model_module": "@jupyter-widgets/controls",
     "model_module_version": "1.5.0",
     "model_name": "HBoxModel",
     "state": {
      "_dom_classes": [],
      "_model_module": "@jupyter-widgets/controls",
      "_model_module_version": "1.5.0",
      "_model_name": "HBoxModel",
      "_view_count": null,
      "_view_module": "@jupyter-widgets/controls",
      "_view_module_version": "1.5.0",
      "_view_name": "HBoxView",
      "box_style": "",
      "children": [
       "IPY_MODEL_b23af113dd6841e29ab0391dff8fb3e2",
       "IPY_MODEL_149723f1490e495488b45c50d2705e82",
       "IPY_MODEL_bcfabf37d581425ea00c9170a20569a0"
      ],
      "layout": "IPY_MODEL_43d8a1763d1049038840e7ba16714006"
     }
    },
    "500bef1f519449b2b7f61d3ee63535b8": {
     "model_module": "@jupyter-widgets/base",
     "model_module_version": "1.2.0",
     "model_name": "LayoutModel",
     "state": {
      "_model_module": "@jupyter-widgets/base",
      "_model_module_version": "1.2.0",
      "_model_name": "LayoutModel",
      "_view_count": null,
      "_view_module": "@jupyter-widgets/base",
      "_view_module_version": "1.2.0",
      "_view_name": "LayoutView",
      "align_content": null,
      "align_items": null,
      "align_self": null,
      "border": null,
      "bottom": null,
      "display": null,
      "flex": null,
      "flex_flow": null,
      "grid_area": null,
      "grid_auto_columns": null,
      "grid_auto_flow": null,
      "grid_auto_rows": null,
      "grid_column": null,
      "grid_gap": null,
      "grid_row": null,
      "grid_template_areas": null,
      "grid_template_columns": null,
      "grid_template_rows": null,
      "height": null,
      "justify_content": null,
      "justify_items": null,
      "left": null,
      "margin": null,
      "max_height": null,
      "max_width": null,
      "min_height": null,
      "min_width": null,
      "object_fit": null,
      "object_position": null,
      "order": null,
      "overflow": null,
      "overflow_x": null,
      "overflow_y": null,
      "padding": null,
      "right": null,
      "top": null,
      "visibility": null,
      "width": null
     }
    },
    "50484d96c22b410eb9ab6787f327e640": {
     "model_module": "@jupyter-widgets/controls",
     "model_module_version": "1.5.0",
     "model_name": "ProgressStyleModel",
     "state": {
      "_model_module": "@jupyter-widgets/controls",
      "_model_module_version": "1.5.0",
      "_model_name": "ProgressStyleModel",
      "_view_count": null,
      "_view_module": "@jupyter-widgets/base",
      "_view_module_version": "1.2.0",
      "_view_name": "StyleView",
      "bar_color": null,
      "description_width": ""
     }
    },
    "50c3857fadaa426e859bafe83cef5aaf": {
     "model_module": "@jupyter-widgets/base",
     "model_module_version": "1.2.0",
     "model_name": "LayoutModel",
     "state": {
      "_model_module": "@jupyter-widgets/base",
      "_model_module_version": "1.2.0",
      "_model_name": "LayoutModel",
      "_view_count": null,
      "_view_module": "@jupyter-widgets/base",
      "_view_module_version": "1.2.0",
      "_view_name": "LayoutView",
      "align_content": null,
      "align_items": null,
      "align_self": null,
      "border": null,
      "bottom": null,
      "display": null,
      "flex": null,
      "flex_flow": null,
      "grid_area": null,
      "grid_auto_columns": null,
      "grid_auto_flow": null,
      "grid_auto_rows": null,
      "grid_column": null,
      "grid_gap": null,
      "grid_row": null,
      "grid_template_areas": null,
      "grid_template_columns": null,
      "grid_template_rows": null,
      "height": null,
      "justify_content": null,
      "justify_items": null,
      "left": null,
      "margin": null,
      "max_height": null,
      "max_width": null,
      "min_height": null,
      "min_width": null,
      "object_fit": null,
      "object_position": null,
      "order": null,
      "overflow": null,
      "overflow_x": null,
      "overflow_y": null,
      "padding": null,
      "right": null,
      "top": null,
      "visibility": null,
      "width": null
     }
    },
    "5123dc163c6f47fba159ead4539e3411": {
     "model_module": "@jupyter-widgets/controls",
     "model_module_version": "1.5.0",
     "model_name": "HTMLModel",
     "state": {
      "_dom_classes": [],
      "_model_module": "@jupyter-widgets/controls",
      "_model_module_version": "1.5.0",
      "_model_name": "HTMLModel",
      "_view_count": null,
      "_view_module": "@jupyter-widgets/controls",
      "_view_module_version": "1.5.0",
      "_view_name": "HTMLView",
      "description": "",
      "description_tooltip": null,
      "layout": "IPY_MODEL_b19f7d0fd090418aa25fec25dd78fde2",
      "placeholder": "​",
      "style": "IPY_MODEL_93aac4fb5f954fb5bd253d774892a873",
      "value": "100%"
     }
    },
    "51ca473ea88b42cfbd27966d57b4fd3e": {
     "model_module": "@jupyter-widgets/controls",
     "model_module_version": "1.5.0",
     "model_name": "FloatProgressModel",
     "state": {
      "_dom_classes": [],
      "_model_module": "@jupyter-widgets/controls",
      "_model_module_version": "1.5.0",
      "_model_name": "FloatProgressModel",
      "_view_count": null,
      "_view_module": "@jupyter-widgets/controls",
      "_view_module_version": "1.5.0",
      "_view_name": "ProgressView",
      "bar_style": "success",
      "description": "",
      "description_tooltip": null,
      "layout": "IPY_MODEL_9bf0a8a1c78c4bea9d47d3ffa47f2b20",
      "max": 447,
      "min": 0,
      "orientation": "horizontal",
      "style": "IPY_MODEL_59f6a85970024c3f9b4c6949a83c3567",
      "value": 447
     }
    },
    "51d7d4df5366408c8047300ba7376abb": {
     "model_module": "@jupyter-widgets/controls",
     "model_module_version": "1.5.0",
     "model_name": "DescriptionStyleModel",
     "state": {
      "_model_module": "@jupyter-widgets/controls",
      "_model_module_version": "1.5.0",
      "_model_name": "DescriptionStyleModel",
      "_view_count": null,
      "_view_module": "@jupyter-widgets/base",
      "_view_module_version": "1.2.0",
      "_view_name": "StyleView",
      "description_width": ""
     }
    },
    "52a01908dbe842fe948ca0a79f5d047a": {
     "model_module": "@jupyter-widgets/base",
     "model_module_version": "1.2.0",
     "model_name": "LayoutModel",
     "state": {
      "_model_module": "@jupyter-widgets/base",
      "_model_module_version": "1.2.0",
      "_model_name": "LayoutModel",
      "_view_count": null,
      "_view_module": "@jupyter-widgets/base",
      "_view_module_version": "1.2.0",
      "_view_name": "LayoutView",
      "align_content": null,
      "align_items": null,
      "align_self": null,
      "border": null,
      "bottom": null,
      "display": null,
      "flex": null,
      "flex_flow": null,
      "grid_area": null,
      "grid_auto_columns": null,
      "grid_auto_flow": null,
      "grid_auto_rows": null,
      "grid_column": null,
      "grid_gap": null,
      "grid_row": null,
      "grid_template_areas": null,
      "grid_template_columns": null,
      "grid_template_rows": null,
      "height": null,
      "justify_content": null,
      "justify_items": null,
      "left": null,
      "margin": null,
      "max_height": null,
      "max_width": null,
      "min_height": null,
      "min_width": null,
      "object_fit": null,
      "object_position": null,
      "order": null,
      "overflow": null,
      "overflow_x": null,
      "overflow_y": null,
      "padding": null,
      "right": null,
      "top": null,
      "visibility": null,
      "width": null
     }
    },
    "52fad80bc56544169ab05bdd34055fa6": {
     "model_module": "@jupyter-widgets/base",
     "model_module_version": "1.2.0",
     "model_name": "LayoutModel",
     "state": {
      "_model_module": "@jupyter-widgets/base",
      "_model_module_version": "1.2.0",
      "_model_name": "LayoutModel",
      "_view_count": null,
      "_view_module": "@jupyter-widgets/base",
      "_view_module_version": "1.2.0",
      "_view_name": "LayoutView",
      "align_content": null,
      "align_items": null,
      "align_self": null,
      "border": null,
      "bottom": null,
      "display": null,
      "flex": null,
      "flex_flow": null,
      "grid_area": null,
      "grid_auto_columns": null,
      "grid_auto_flow": null,
      "grid_auto_rows": null,
      "grid_column": null,
      "grid_gap": null,
      "grid_row": null,
      "grid_template_areas": null,
      "grid_template_columns": null,
      "grid_template_rows": null,
      "height": null,
      "justify_content": null,
      "justify_items": null,
      "left": null,
      "margin": null,
      "max_height": null,
      "max_width": null,
      "min_height": null,
      "min_width": null,
      "object_fit": null,
      "object_position": null,
      "order": null,
      "overflow": null,
      "overflow_x": null,
      "overflow_y": null,
      "padding": null,
      "right": null,
      "top": null,
      "visibility": null,
      "width": null
     }
    },
    "537faff4ecb64580a150bef7b77965dd": {
     "model_module": "@jupyter-widgets/controls",
     "model_module_version": "1.5.0",
     "model_name": "HBoxModel",
     "state": {
      "_dom_classes": [],
      "_model_module": "@jupyter-widgets/controls",
      "_model_module_version": "1.5.0",
      "_model_name": "HBoxModel",
      "_view_count": null,
      "_view_module": "@jupyter-widgets/controls",
      "_view_module_version": "1.5.0",
      "_view_name": "HBoxView",
      "box_style": "",
      "children": [
       "IPY_MODEL_8045c39f72c2473786a55866d7d1373c",
       "IPY_MODEL_cc1829ad4b674dd0857824483301682b",
       "IPY_MODEL_c8f8ca066f5944bca2d6d1113dff8e69"
      ],
      "layout": "IPY_MODEL_dc25d82d45be4585850b600d8af204ba"
     }
    },
    "55fd4e5efd7648d0b0f93945b70565c1": {
     "model_module": "@jupyter-widgets/controls",
     "model_module_version": "1.5.0",
     "model_name": "DescriptionStyleModel",
     "state": {
      "_model_module": "@jupyter-widgets/controls",
      "_model_module_version": "1.5.0",
      "_model_name": "DescriptionStyleModel",
      "_view_count": null,
      "_view_module": "@jupyter-widgets/base",
      "_view_module_version": "1.2.0",
      "_view_name": "StyleView",
      "description_width": ""
     }
    },
    "56335ba9b5f3431fa66ae5e694ab5b40": {
     "model_module": "@jupyter-widgets/controls",
     "model_module_version": "1.5.0",
     "model_name": "ProgressStyleModel",
     "state": {
      "_model_module": "@jupyter-widgets/controls",
      "_model_module_version": "1.5.0",
      "_model_name": "ProgressStyleModel",
      "_view_count": null,
      "_view_module": "@jupyter-widgets/base",
      "_view_module_version": "1.2.0",
      "_view_name": "StyleView",
      "bar_color": null,
      "description_width": ""
     }
    },
    "5769f2b128e44c2e98f78d562a3882fe": {
     "model_module": "@jupyter-widgets/controls",
     "model_module_version": "1.5.0",
     "model_name": "HTMLModel",
     "state": {
      "_dom_classes": [],
      "_model_module": "@jupyter-widgets/controls",
      "_model_module_version": "1.5.0",
      "_model_name": "HTMLModel",
      "_view_count": null,
      "_view_module": "@jupyter-widgets/controls",
      "_view_module_version": "1.5.0",
      "_view_name": "HTMLView",
      "description": "",
      "description_tooltip": null,
      "layout": "IPY_MODEL_ebac50d06023490b97220a565bf79810",
      "placeholder": "​",
      "style": "IPY_MODEL_af69f4ef41c44d93b51b0223b30d0fad",
      "value": " 3324/10366 [3:12:03&lt;6:37:34,  3.39s/it]"
     }
    },
    "58ed10a0eee94404a4703df24f975ab2": {
     "model_module": "@jupyter-widgets/controls",
     "model_module_version": "1.5.0",
     "model_name": "DescriptionStyleModel",
     "state": {
      "_model_module": "@jupyter-widgets/controls",
      "_model_module_version": "1.5.0",
      "_model_name": "DescriptionStyleModel",
      "_view_count": null,
      "_view_module": "@jupyter-widgets/base",
      "_view_module_version": "1.2.0",
      "_view_name": "StyleView",
      "description_width": ""
     }
    },
    "59f6a85970024c3f9b4c6949a83c3567": {
     "model_module": "@jupyter-widgets/controls",
     "model_module_version": "1.5.0",
     "model_name": "ProgressStyleModel",
     "state": {
      "_model_module": "@jupyter-widgets/controls",
      "_model_module_version": "1.5.0",
      "_model_name": "ProgressStyleModel",
      "_view_count": null,
      "_view_module": "@jupyter-widgets/base",
      "_view_module_version": "1.2.0",
      "_view_name": "StyleView",
      "bar_color": null,
      "description_width": ""
     }
    },
    "5a8654c234364064a1849df0a4773616": {
     "model_module": "@jupyter-widgets/controls",
     "model_module_version": "1.5.0",
     "model_name": "HTMLModel",
     "state": {
      "_dom_classes": [],
      "_model_module": "@jupyter-widgets/controls",
      "_model_module_version": "1.5.0",
      "_model_name": "HTMLModel",
      "_view_count": null,
      "_view_module": "@jupyter-widgets/controls",
      "_view_module_version": "1.5.0",
      "_view_name": "HTMLView",
      "description": "",
      "description_tooltip": null,
      "layout": "IPY_MODEL_211848d4ccc84e1db1d56d0fb35af631",
      "placeholder": "​",
      "style": "IPY_MODEL_e02e7eb2ffdb4365866121703d26d88d",
      "value": " 1.11G/1.11G [00:20&lt;00:00, 99.7MB/s]"
     }
    },
    "5c3e75d15c314925a34791863483abdf": {
     "model_module": "@jupyter-widgets/base",
     "model_module_version": "1.2.0",
     "model_name": "LayoutModel",
     "state": {
      "_model_module": "@jupyter-widgets/base",
      "_model_module_version": "1.2.0",
      "_model_name": "LayoutModel",
      "_view_count": null,
      "_view_module": "@jupyter-widgets/base",
      "_view_module_version": "1.2.0",
      "_view_name": "LayoutView",
      "align_content": null,
      "align_items": null,
      "align_self": null,
      "border": null,
      "bottom": null,
      "display": null,
      "flex": null,
      "flex_flow": null,
      "grid_area": null,
      "grid_auto_columns": null,
      "grid_auto_flow": null,
      "grid_auto_rows": null,
      "grid_column": null,
      "grid_gap": null,
      "grid_row": null,
      "grid_template_areas": null,
      "grid_template_columns": null,
      "grid_template_rows": null,
      "height": null,
      "justify_content": null,
      "justify_items": null,
      "left": null,
      "margin": null,
      "max_height": null,
      "max_width": null,
      "min_height": null,
      "min_width": null,
      "object_fit": null,
      "object_position": null,
      "order": null,
      "overflow": null,
      "overflow_x": null,
      "overflow_y": null,
      "padding": null,
      "right": null,
      "top": null,
      "visibility": null,
      "width": null
     }
    },
    "5d8943f68d85417c8070b645905ef811": {
     "model_module": "@jupyter-widgets/controls",
     "model_module_version": "1.5.0",
     "model_name": "HBoxModel",
     "state": {
      "_dom_classes": [],
      "_model_module": "@jupyter-widgets/controls",
      "_model_module_version": "1.5.0",
      "_model_name": "HBoxModel",
      "_view_count": null,
      "_view_module": "@jupyter-widgets/controls",
      "_view_module_version": "1.5.0",
      "_view_name": "HBoxView",
      "box_style": "",
      "children": [
       "IPY_MODEL_21970db6caf34df8a0e2994c86505cdd",
       "IPY_MODEL_fd4c5fe9e77e46a6b1831633ee792331",
       "IPY_MODEL_a44212aa9bfc4c658751cbcc1a382dc8"
      ],
      "layout": "IPY_MODEL_e0f89e83187c4e20bdab70d8f6324d4f"
     }
    },
    "5eda19a85f1340c1bb34bd7f61ae08f7": {
     "model_module": "@jupyter-widgets/base",
     "model_module_version": "1.2.0",
     "model_name": "LayoutModel",
     "state": {
      "_model_module": "@jupyter-widgets/base",
      "_model_module_version": "1.2.0",
      "_model_name": "LayoutModel",
      "_view_count": null,
      "_view_module": "@jupyter-widgets/base",
      "_view_module_version": "1.2.0",
      "_view_name": "LayoutView",
      "align_content": null,
      "align_items": null,
      "align_self": null,
      "border": null,
      "bottom": null,
      "display": null,
      "flex": null,
      "flex_flow": null,
      "grid_area": null,
      "grid_auto_columns": null,
      "grid_auto_flow": null,
      "grid_auto_rows": null,
      "grid_column": null,
      "grid_gap": null,
      "grid_row": null,
      "grid_template_areas": null,
      "grid_template_columns": null,
      "grid_template_rows": null,
      "height": null,
      "justify_content": null,
      "justify_items": null,
      "left": null,
      "margin": null,
      "max_height": null,
      "max_width": null,
      "min_height": null,
      "min_width": null,
      "object_fit": null,
      "object_position": null,
      "order": null,
      "overflow": null,
      "overflow_x": null,
      "overflow_y": null,
      "padding": null,
      "right": null,
      "top": null,
      "visibility": null,
      "width": null
     }
    },
    "5fb5000a909644c492bbd7827b280991": {
     "model_module": "@jupyter-widgets/base",
     "model_module_version": "1.2.0",
     "model_name": "LayoutModel",
     "state": {
      "_model_module": "@jupyter-widgets/base",
      "_model_module_version": "1.2.0",
      "_model_name": "LayoutModel",
      "_view_count": null,
      "_view_module": "@jupyter-widgets/base",
      "_view_module_version": "1.2.0",
      "_view_name": "LayoutView",
      "align_content": null,
      "align_items": null,
      "align_self": null,
      "border": null,
      "bottom": null,
      "display": null,
      "flex": null,
      "flex_flow": null,
      "grid_area": null,
      "grid_auto_columns": null,
      "grid_auto_flow": null,
      "grid_auto_rows": null,
      "grid_column": null,
      "grid_gap": null,
      "grid_row": null,
      "grid_template_areas": null,
      "grid_template_columns": null,
      "grid_template_rows": null,
      "height": null,
      "justify_content": null,
      "justify_items": null,
      "left": null,
      "margin": null,
      "max_height": null,
      "max_width": null,
      "min_height": null,
      "min_width": null,
      "object_fit": null,
      "object_position": null,
      "order": null,
      "overflow": null,
      "overflow_x": null,
      "overflow_y": null,
      "padding": null,
      "right": null,
      "top": null,
      "visibility": null,
      "width": null
     }
    },
    "5ff28679c3404d7aa5edd10ef69b82c7": {
     "model_module": "@jupyter-widgets/base",
     "model_module_version": "1.2.0",
     "model_name": "LayoutModel",
     "state": {
      "_model_module": "@jupyter-widgets/base",
      "_model_module_version": "1.2.0",
      "_model_name": "LayoutModel",
      "_view_count": null,
      "_view_module": "@jupyter-widgets/base",
      "_view_module_version": "1.2.0",
      "_view_name": "LayoutView",
      "align_content": null,
      "align_items": null,
      "align_self": null,
      "border": null,
      "bottom": null,
      "display": null,
      "flex": null,
      "flex_flow": null,
      "grid_area": null,
      "grid_auto_columns": null,
      "grid_auto_flow": null,
      "grid_auto_rows": null,
      "grid_column": null,
      "grid_gap": null,
      "grid_row": null,
      "grid_template_areas": null,
      "grid_template_columns": null,
      "grid_template_rows": null,
      "height": null,
      "justify_content": null,
      "justify_items": null,
      "left": null,
      "margin": null,
      "max_height": null,
      "max_width": null,
      "min_height": null,
      "min_width": null,
      "object_fit": null,
      "object_position": null,
      "order": null,
      "overflow": null,
      "overflow_x": null,
      "overflow_y": null,
      "padding": null,
      "right": null,
      "top": null,
      "visibility": null,
      "width": null
     }
    },
    "62478e7d8653424588e9a845abfa9c04": {
     "model_module": "@jupyter-widgets/controls",
     "model_module_version": "1.5.0",
     "model_name": "ProgressStyleModel",
     "state": {
      "_model_module": "@jupyter-widgets/controls",
      "_model_module_version": "1.5.0",
      "_model_name": "ProgressStyleModel",
      "_view_count": null,
      "_view_module": "@jupyter-widgets/base",
      "_view_module_version": "1.2.0",
      "_view_name": "StyleView",
      "bar_color": null,
      "description_width": ""
     }
    },
    "67821ef4f10c40daa477e9e49653d797": {
     "model_module": "@jupyter-widgets/controls",
     "model_module_version": "1.5.0",
     "model_name": "ProgressStyleModel",
     "state": {
      "_model_module": "@jupyter-widgets/controls",
      "_model_module_version": "1.5.0",
      "_model_name": "ProgressStyleModel",
      "_view_count": null,
      "_view_module": "@jupyter-widgets/base",
      "_view_module_version": "1.2.0",
      "_view_name": "StyleView",
      "bar_color": null,
      "description_width": ""
     }
    },
    "6879da5b604a45d39ecd1aad3049cfa5": {
     "model_module": "@jupyter-widgets/controls",
     "model_module_version": "1.5.0",
     "model_name": "HBoxModel",
     "state": {
      "_dom_classes": [],
      "_model_module": "@jupyter-widgets/controls",
      "_model_module_version": "1.5.0",
      "_model_name": "HBoxModel",
      "_view_count": null,
      "_view_module": "@jupyter-widgets/controls",
      "_view_module_version": "1.5.0",
      "_view_name": "HBoxView",
      "box_style": "",
      "children": [
       "IPY_MODEL_7fb3c11fc3f145f5a5363fd1377cb6bd",
       "IPY_MODEL_47f9e01c41c94c3b99b4a6ea43fbb2e6",
       "IPY_MODEL_aac8285ff10b4f2dba6cc9a0c9f64d70"
      ],
      "layout": "IPY_MODEL_836886c86c0d47758d215810fb04964f"
     }
    },
    "689dd6a7bac14eb2aaf2d351a29d57b8": {
     "model_module": "@jupyter-widgets/base",
     "model_module_version": "1.2.0",
     "model_name": "LayoutModel",
     "state": {
      "_model_module": "@jupyter-widgets/base",
      "_model_module_version": "1.2.0",
      "_model_name": "LayoutModel",
      "_view_count": null,
      "_view_module": "@jupyter-widgets/base",
      "_view_module_version": "1.2.0",
      "_view_name": "LayoutView",
      "align_content": null,
      "align_items": null,
      "align_self": null,
      "border": null,
      "bottom": null,
      "display": null,
      "flex": null,
      "flex_flow": null,
      "grid_area": null,
      "grid_auto_columns": null,
      "grid_auto_flow": null,
      "grid_auto_rows": null,
      "grid_column": null,
      "grid_gap": null,
      "grid_row": null,
      "grid_template_areas": null,
      "grid_template_columns": null,
      "grid_template_rows": null,
      "height": null,
      "justify_content": null,
      "justify_items": null,
      "left": null,
      "margin": null,
      "max_height": null,
      "max_width": null,
      "min_height": null,
      "min_width": null,
      "object_fit": null,
      "object_position": null,
      "order": null,
      "overflow": null,
      "overflow_x": null,
      "overflow_y": null,
      "padding": null,
      "right": null,
      "top": null,
      "visibility": null,
      "width": null
     }
    },
    "6c1601b11e584eeab6b126a928611a18": {
     "model_module": "@jupyter-widgets/base",
     "model_module_version": "1.2.0",
     "model_name": "LayoutModel",
     "state": {
      "_model_module": "@jupyter-widgets/base",
      "_model_module_version": "1.2.0",
      "_model_name": "LayoutModel",
      "_view_count": null,
      "_view_module": "@jupyter-widgets/base",
      "_view_module_version": "1.2.0",
      "_view_name": "LayoutView",
      "align_content": null,
      "align_items": null,
      "align_self": null,
      "border": null,
      "bottom": null,
      "display": null,
      "flex": null,
      "flex_flow": null,
      "grid_area": null,
      "grid_auto_columns": null,
      "grid_auto_flow": null,
      "grid_auto_rows": null,
      "grid_column": null,
      "grid_gap": null,
      "grid_row": null,
      "grid_template_areas": null,
      "grid_template_columns": null,
      "grid_template_rows": null,
      "height": null,
      "justify_content": null,
      "justify_items": null,
      "left": null,
      "margin": null,
      "max_height": null,
      "max_width": null,
      "min_height": null,
      "min_width": null,
      "object_fit": null,
      "object_position": null,
      "order": null,
      "overflow": null,
      "overflow_x": null,
      "overflow_y": null,
      "padding": null,
      "right": null,
      "top": null,
      "visibility": null,
      "width": null
     }
    },
    "6d442e67056c4df8a169019ae2da444c": {
     "model_module": "@jupyter-widgets/base",
     "model_module_version": "1.2.0",
     "model_name": "LayoutModel",
     "state": {
      "_model_module": "@jupyter-widgets/base",
      "_model_module_version": "1.2.0",
      "_model_name": "LayoutModel",
      "_view_count": null,
      "_view_module": "@jupyter-widgets/base",
      "_view_module_version": "1.2.0",
      "_view_name": "LayoutView",
      "align_content": null,
      "align_items": null,
      "align_self": null,
      "border": null,
      "bottom": null,
      "display": null,
      "flex": null,
      "flex_flow": null,
      "grid_area": null,
      "grid_auto_columns": null,
      "grid_auto_flow": null,
      "grid_auto_rows": null,
      "grid_column": null,
      "grid_gap": null,
      "grid_row": null,
      "grid_template_areas": null,
      "grid_template_columns": null,
      "grid_template_rows": null,
      "height": null,
      "justify_content": null,
      "justify_items": null,
      "left": null,
      "margin": null,
      "max_height": null,
      "max_width": null,
      "min_height": null,
      "min_width": null,
      "object_fit": null,
      "object_position": null,
      "order": null,
      "overflow": null,
      "overflow_x": null,
      "overflow_y": null,
      "padding": null,
      "right": null,
      "top": null,
      "visibility": null,
      "width": null
     }
    },
    "6e27c95ff9af4134957e59d6c1d814d9": {
     "model_module": "@jupyter-widgets/base",
     "model_module_version": "1.2.0",
     "model_name": "LayoutModel",
     "state": {
      "_model_module": "@jupyter-widgets/base",
      "_model_module_version": "1.2.0",
      "_model_name": "LayoutModel",
      "_view_count": null,
      "_view_module": "@jupyter-widgets/base",
      "_view_module_version": "1.2.0",
      "_view_name": "LayoutView",
      "align_content": null,
      "align_items": null,
      "align_self": null,
      "border": null,
      "bottom": null,
      "display": null,
      "flex": null,
      "flex_flow": null,
      "grid_area": null,
      "grid_auto_columns": null,
      "grid_auto_flow": null,
      "grid_auto_rows": null,
      "grid_column": null,
      "grid_gap": null,
      "grid_row": null,
      "grid_template_areas": null,
      "grid_template_columns": null,
      "grid_template_rows": null,
      "height": null,
      "justify_content": null,
      "justify_items": null,
      "left": null,
      "margin": null,
      "max_height": null,
      "max_width": null,
      "min_height": null,
      "min_width": null,
      "object_fit": null,
      "object_position": null,
      "order": null,
      "overflow": null,
      "overflow_x": null,
      "overflow_y": null,
      "padding": null,
      "right": null,
      "top": null,
      "visibility": null,
      "width": null
     }
    },
    "6ec651824fbb4b7cb8adca2577f1703d": {
     "model_module": "@jupyter-widgets/controls",
     "model_module_version": "1.5.0",
     "model_name": "ProgressStyleModel",
     "state": {
      "_model_module": "@jupyter-widgets/controls",
      "_model_module_version": "1.5.0",
      "_model_name": "ProgressStyleModel",
      "_view_count": null,
      "_view_module": "@jupyter-widgets/base",
      "_view_module_version": "1.2.0",
      "_view_name": "StyleView",
      "bar_color": null,
      "description_width": ""
     }
    },
    "6f48bc628ead41a6ba2ccc829a51ddfa": {
     "model_module": "@jupyter-widgets/controls",
     "model_module_version": "1.5.0",
     "model_name": "FloatProgressModel",
     "state": {
      "_dom_classes": [],
      "_model_module": "@jupyter-widgets/controls",
      "_model_module_version": "1.5.0",
      "_model_name": "FloatProgressModel",
      "_view_count": null,
      "_view_module": "@jupyter-widgets/controls",
      "_view_module_version": "1.5.0",
      "_view_name": "ProgressView",
      "bar_style": "success",
      "description": "",
      "description_tooltip": null,
      "layout": "IPY_MODEL_52fad80bc56544169ab05bdd34055fa6",
      "max": 239,
      "min": 0,
      "orientation": "horizontal",
      "style": "IPY_MODEL_fc848fabcd2948cf966206b60eb47f8d",
      "value": 239
     }
    },
    "703898df209e499c9a25996433bd5409": {
     "model_module": "@jupyter-widgets/controls",
     "model_module_version": "1.5.0",
     "model_name": "DescriptionStyleModel",
     "state": {
      "_model_module": "@jupyter-widgets/controls",
      "_model_module_version": "1.5.0",
      "_model_name": "DescriptionStyleModel",
      "_view_count": null,
      "_view_module": "@jupyter-widgets/base",
      "_view_module_version": "1.2.0",
      "_view_name": "StyleView",
      "description_width": ""
     }
    },
    "705b1ed582814b1fb637b9969d9d1568": {
     "model_module": "@jupyter-widgets/controls",
     "model_module_version": "1.5.0",
     "model_name": "DescriptionStyleModel",
     "state": {
      "_model_module": "@jupyter-widgets/controls",
      "_model_module_version": "1.5.0",
      "_model_name": "DescriptionStyleModel",
      "_view_count": null,
      "_view_module": "@jupyter-widgets/base",
      "_view_module_version": "1.2.0",
      "_view_name": "StyleView",
      "description_width": ""
     }
    },
    "718f62f3338945489131e3574d631723": {
     "model_module": "@jupyter-widgets/controls",
     "model_module_version": "1.5.0",
     "model_name": "DescriptionStyleModel",
     "state": {
      "_model_module": "@jupyter-widgets/controls",
      "_model_module_version": "1.5.0",
      "_model_name": "DescriptionStyleModel",
      "_view_count": null,
      "_view_module": "@jupyter-widgets/base",
      "_view_module_version": "1.2.0",
      "_view_name": "StyleView",
      "description_width": ""
     }
    },
    "7247368b58a5479dbc2af37b032926fe": {
     "model_module": "@jupyter-widgets/controls",
     "model_module_version": "1.5.0",
     "model_name": "DescriptionStyleModel",
     "state": {
      "_model_module": "@jupyter-widgets/controls",
      "_model_module_version": "1.5.0",
      "_model_name": "DescriptionStyleModel",
      "_view_count": null,
      "_view_module": "@jupyter-widgets/base",
      "_view_module_version": "1.2.0",
      "_view_name": "StyleView",
      "description_width": ""
     }
    },
    "72e1209805b24583862cb112aea74cc8": {
     "model_module": "@jupyter-widgets/controls",
     "model_module_version": "1.5.0",
     "model_name": "HTMLModel",
     "state": {
      "_dom_classes": [],
      "_model_module": "@jupyter-widgets/controls",
      "_model_module_version": "1.5.0",
      "_model_name": "HTMLModel",
      "_view_count": null,
      "_view_module": "@jupyter-widgets/controls",
      "_view_module_version": "1.5.0",
      "_view_name": "HTMLView",
      "description": "",
      "description_tooltip": null,
      "layout": "IPY_MODEL_18a3edf4623046a2ab165855b809e898",
      "placeholder": "​",
      "style": "IPY_MODEL_718f62f3338945489131e3574d631723",
      "value": "100%"
     }
    },
    "753c99a2e7484a47beaa4e60c8bbde58": {
     "model_module": "@jupyter-widgets/base",
     "model_module_version": "1.2.0",
     "model_name": "LayoutModel",
     "state": {
      "_model_module": "@jupyter-widgets/base",
      "_model_module_version": "1.2.0",
      "_model_name": "LayoutModel",
      "_view_count": null,
      "_view_module": "@jupyter-widgets/base",
      "_view_module_version": "1.2.0",
      "_view_name": "LayoutView",
      "align_content": null,
      "align_items": null,
      "align_self": null,
      "border": null,
      "bottom": null,
      "display": null,
      "flex": null,
      "flex_flow": null,
      "grid_area": null,
      "grid_auto_columns": null,
      "grid_auto_flow": null,
      "grid_auto_rows": null,
      "grid_column": null,
      "grid_gap": null,
      "grid_row": null,
      "grid_template_areas": null,
      "grid_template_columns": null,
      "grid_template_rows": null,
      "height": null,
      "justify_content": null,
      "justify_items": null,
      "left": null,
      "margin": null,
      "max_height": null,
      "max_width": null,
      "min_height": null,
      "min_width": null,
      "object_fit": null,
      "object_position": null,
      "order": null,
      "overflow": null,
      "overflow_x": null,
      "overflow_y": null,
      "padding": null,
      "right": null,
      "top": null,
      "visibility": null,
      "width": null
     }
    },
    "7c529d35c57645ecb20762b07943b3f7": {
     "model_module": "@jupyter-widgets/controls",
     "model_module_version": "1.5.0",
     "model_name": "HTMLModel",
     "state": {
      "_dom_classes": [],
      "_model_module": "@jupyter-widgets/controls",
      "_model_module_version": "1.5.0",
      "_model_name": "HTMLModel",
      "_view_count": null,
      "_view_module": "@jupyter-widgets/controls",
      "_view_module_version": "1.5.0",
      "_view_name": "HTMLView",
      "description": "",
      "description_tooltip": null,
      "layout": "IPY_MODEL_42eefd453df4442d8dc487d758243624",
      "placeholder": "​",
      "style": "IPY_MODEL_7247368b58a5479dbc2af37b032926fe",
      "value": " 1091/1091 [59:40&lt;00:00,  2.41s/it]"
     }
    },
    "7fb3c11fc3f145f5a5363fd1377cb6bd": {
     "model_module": "@jupyter-widgets/controls",
     "model_module_version": "1.5.0",
     "model_name": "HTMLModel",
     "state": {
      "_dom_classes": [],
      "_model_module": "@jupyter-widgets/controls",
      "_model_module_version": "1.5.0",
      "_model_name": "HTMLModel",
      "_view_count": null,
      "_view_module": "@jupyter-widgets/controls",
      "_view_module_version": "1.5.0",
      "_view_name": "HTMLView",
      "description": "",
      "description_tooltip": null,
      "layout": "IPY_MODEL_2d32422fad2347a38fec7bc5d93f6a0a",
      "placeholder": "​",
      "style": "IPY_MODEL_afc71c7cd3484f89be193f7f4999f97e",
      "value": "pytorch_model.bin: 100%"
     }
    },
    "8031a2e51083418b8f57f09194ec39fa": {
     "model_module": "@jupyter-widgets/base",
     "model_module_version": "1.2.0",
     "model_name": "LayoutModel",
     "state": {
      "_model_module": "@jupyter-widgets/base",
      "_model_module_version": "1.2.0",
      "_model_name": "LayoutModel",
      "_view_count": null,
      "_view_module": "@jupyter-widgets/base",
      "_view_module_version": "1.2.0",
      "_view_name": "LayoutView",
      "align_content": null,
      "align_items": null,
      "align_self": null,
      "border": null,
      "bottom": null,
      "display": null,
      "flex": null,
      "flex_flow": null,
      "grid_area": null,
      "grid_auto_columns": null,
      "grid_auto_flow": null,
      "grid_auto_rows": null,
      "grid_column": null,
      "grid_gap": null,
      "grid_row": null,
      "grid_template_areas": null,
      "grid_template_columns": null,
      "grid_template_rows": null,
      "height": null,
      "justify_content": null,
      "justify_items": null,
      "left": null,
      "margin": null,
      "max_height": null,
      "max_width": null,
      "min_height": null,
      "min_width": null,
      "object_fit": null,
      "object_position": null,
      "order": null,
      "overflow": null,
      "overflow_x": null,
      "overflow_y": null,
      "padding": null,
      "right": null,
      "top": null,
      "visibility": null,
      "width": null
     }
    },
    "8045c39f72c2473786a55866d7d1373c": {
     "model_module": "@jupyter-widgets/controls",
     "model_module_version": "1.5.0",
     "model_name": "HTMLModel",
     "state": {
      "_dom_classes": [],
      "_model_module": "@jupyter-widgets/controls",
      "_model_module_version": "1.5.0",
      "_model_name": "HTMLModel",
      "_view_count": null,
      "_view_module": "@jupyter-widgets/controls",
      "_view_module_version": "1.5.0",
      "_view_name": "HTMLView",
      "description": "",
      "description_tooltip": null,
      "layout": "IPY_MODEL_ee16ff7c84df43de87f5094f41772073",
      "placeholder": "​",
      "style": "IPY_MODEL_c8d5222e28264f7885801addb225ca2f",
      "value": "tokenizer.json: 100%"
     }
    },
    "8080f63323294a0e8d51877d653eca12": {
     "model_module": "@jupyter-widgets/controls",
     "model_module_version": "1.5.0",
     "model_name": "DescriptionStyleModel",
     "state": {
      "_model_module": "@jupyter-widgets/controls",
      "_model_module_version": "1.5.0",
      "_model_name": "DescriptionStyleModel",
      "_view_count": null,
      "_view_module": "@jupyter-widgets/base",
      "_view_module_version": "1.2.0",
      "_view_name": "StyleView",
      "description_width": ""
     }
    },
    "836886c86c0d47758d215810fb04964f": {
     "model_module": "@jupyter-widgets/base",
     "model_module_version": "1.2.0",
     "model_name": "LayoutModel",
     "state": {
      "_model_module": "@jupyter-widgets/base",
      "_model_module_version": "1.2.0",
      "_model_name": "LayoutModel",
      "_view_count": null,
      "_view_module": "@jupyter-widgets/base",
      "_view_module_version": "1.2.0",
      "_view_name": "LayoutView",
      "align_content": null,
      "align_items": null,
      "align_self": null,
      "border": null,
      "bottom": null,
      "display": null,
      "flex": null,
      "flex_flow": null,
      "grid_area": null,
      "grid_auto_columns": null,
      "grid_auto_flow": null,
      "grid_auto_rows": null,
      "grid_column": null,
      "grid_gap": null,
      "grid_row": null,
      "grid_template_areas": null,
      "grid_template_columns": null,
      "grid_template_rows": null,
      "height": null,
      "justify_content": null,
      "justify_items": null,
      "left": null,
      "margin": null,
      "max_height": null,
      "max_width": null,
      "min_height": null,
      "min_width": null,
      "object_fit": null,
      "object_position": null,
      "order": null,
      "overflow": null,
      "overflow_x": null,
      "overflow_y": null,
      "padding": null,
      "right": null,
      "top": null,
      "visibility": null,
      "width": null
     }
    },
    "857161a7990d40a98c30e59a760cd461": {
     "model_module": "@jupyter-widgets/base",
     "model_module_version": "1.2.0",
     "model_name": "LayoutModel",
     "state": {
      "_model_module": "@jupyter-widgets/base",
      "_model_module_version": "1.2.0",
      "_model_name": "LayoutModel",
      "_view_count": null,
      "_view_module": "@jupyter-widgets/base",
      "_view_module_version": "1.2.0",
      "_view_name": "LayoutView",
      "align_content": null,
      "align_items": null,
      "align_self": null,
      "border": null,
      "bottom": null,
      "display": null,
      "flex": null,
      "flex_flow": null,
      "grid_area": null,
      "grid_auto_columns": null,
      "grid_auto_flow": null,
      "grid_auto_rows": null,
      "grid_column": null,
      "grid_gap": null,
      "grid_row": null,
      "grid_template_areas": null,
      "grid_template_columns": null,
      "grid_template_rows": null,
      "height": null,
      "justify_content": null,
      "justify_items": null,
      "left": null,
      "margin": null,
      "max_height": null,
      "max_width": null,
      "min_height": null,
      "min_width": null,
      "object_fit": null,
      "object_position": null,
      "order": null,
      "overflow": null,
      "overflow_x": null,
      "overflow_y": null,
      "padding": null,
      "right": null,
      "top": null,
      "visibility": null,
      "width": null
     }
    },
    "874c4a69a63d4a498d47b02c60e6d77a": {
     "model_module": "@jupyter-widgets/base",
     "model_module_version": "1.2.0",
     "model_name": "LayoutModel",
     "state": {
      "_model_module": "@jupyter-widgets/base",
      "_model_module_version": "1.2.0",
      "_model_name": "LayoutModel",
      "_view_count": null,
      "_view_module": "@jupyter-widgets/base",
      "_view_module_version": "1.2.0",
      "_view_name": "LayoutView",
      "align_content": null,
      "align_items": null,
      "align_self": null,
      "border": null,
      "bottom": null,
      "display": null,
      "flex": null,
      "flex_flow": null,
      "grid_area": null,
      "grid_auto_columns": null,
      "grid_auto_flow": null,
      "grid_auto_rows": null,
      "grid_column": null,
      "grid_gap": null,
      "grid_row": null,
      "grid_template_areas": null,
      "grid_template_columns": null,
      "grid_template_rows": null,
      "height": null,
      "justify_content": null,
      "justify_items": null,
      "left": null,
      "margin": null,
      "max_height": null,
      "max_width": null,
      "min_height": null,
      "min_width": null,
      "object_fit": null,
      "object_position": null,
      "order": null,
      "overflow": null,
      "overflow_x": null,
      "overflow_y": null,
      "padding": null,
      "right": null,
      "top": null,
      "visibility": null,
      "width": null
     }
    },
    "897027a3f942433884f955eeac6b18d9": {
     "model_module": "@jupyter-widgets/controls",
     "model_module_version": "1.5.0",
     "model_name": "HTMLModel",
     "state": {
      "_dom_classes": [],
      "_model_module": "@jupyter-widgets/controls",
      "_model_module_version": "1.5.0",
      "_model_name": "HTMLModel",
      "_view_count": null,
      "_view_module": "@jupyter-widgets/controls",
      "_view_module_version": "1.5.0",
      "_view_name": "HTMLView",
      "description": "",
      "description_tooltip": null,
      "layout": "IPY_MODEL_140496ce6ec747d0b54fc59a9a5da7f6",
      "placeholder": "​",
      "style": "IPY_MODEL_ade20906fae04163a741cc28d9c9914e",
      "value": " 239/239 [00:00&lt;00:00, 15.0kB/s]"
     }
    },
    "8a006025f88548f3b783abb010949617": {
     "model_module": "@jupyter-widgets/base",
     "model_module_version": "1.2.0",
     "model_name": "LayoutModel",
     "state": {
      "_model_module": "@jupyter-widgets/base",
      "_model_module_version": "1.2.0",
      "_model_name": "LayoutModel",
      "_view_count": null,
      "_view_module": "@jupyter-widgets/base",
      "_view_module_version": "1.2.0",
      "_view_name": "LayoutView",
      "align_content": null,
      "align_items": null,
      "align_self": null,
      "border": null,
      "bottom": null,
      "display": null,
      "flex": null,
      "flex_flow": null,
      "grid_area": null,
      "grid_auto_columns": null,
      "grid_auto_flow": null,
      "grid_auto_rows": null,
      "grid_column": null,
      "grid_gap": null,
      "grid_row": null,
      "grid_template_areas": null,
      "grid_template_columns": null,
      "grid_template_rows": null,
      "height": null,
      "justify_content": null,
      "justify_items": null,
      "left": null,
      "margin": null,
      "max_height": null,
      "max_width": null,
      "min_height": null,
      "min_width": null,
      "object_fit": null,
      "object_position": null,
      "order": null,
      "overflow": null,
      "overflow_x": null,
      "overflow_y": null,
      "padding": null,
      "right": null,
      "top": null,
      "visibility": null,
      "width": null
     }
    },
    "8ae249d7254a4d3f907b49bd3eba103b": {
     "model_module": "@jupyter-widgets/controls",
     "model_module_version": "1.5.0",
     "model_name": "HBoxModel",
     "state": {
      "_dom_classes": [],
      "_model_module": "@jupyter-widgets/controls",
      "_model_module_version": "1.5.0",
      "_model_name": "HBoxModel",
      "_view_count": null,
      "_view_module": "@jupyter-widgets/controls",
      "_view_module_version": "1.5.0",
      "_view_name": "HBoxView",
      "box_style": "",
      "children": [
       "IPY_MODEL_ffd33ff3de39455ea5b2c5e079b71703",
       "IPY_MODEL_4dccba90f2cb419eb012a6b9945204cf",
       "IPY_MODEL_5769f2b128e44c2e98f78d562a3882fe"
      ],
      "layout": "IPY_MODEL_8031a2e51083418b8f57f09194ec39fa"
     }
    },
    "8bab1e78bed74c4394f02e258468e811": {
     "model_module": "@jupyter-widgets/controls",
     "model_module_version": "1.5.0",
     "model_name": "ProgressStyleModel",
     "state": {
      "_model_module": "@jupyter-widgets/controls",
      "_model_module_version": "1.5.0",
      "_model_name": "ProgressStyleModel",
      "_view_count": null,
      "_view_module": "@jupyter-widgets/base",
      "_view_module_version": "1.2.0",
      "_view_name": "StyleView",
      "bar_color": null,
      "description_width": ""
     }
    },
    "8c861baa66bb4d57998ce3cdb795e6f1": {
     "model_module": "@jupyter-widgets/base",
     "model_module_version": "1.2.0",
     "model_name": "LayoutModel",
     "state": {
      "_model_module": "@jupyter-widgets/base",
      "_model_module_version": "1.2.0",
      "_model_name": "LayoutModel",
      "_view_count": null,
      "_view_module": "@jupyter-widgets/base",
      "_view_module_version": "1.2.0",
      "_view_name": "LayoutView",
      "align_content": null,
      "align_items": null,
      "align_self": null,
      "border": null,
      "bottom": null,
      "display": null,
      "flex": null,
      "flex_flow": null,
      "grid_area": null,
      "grid_auto_columns": null,
      "grid_auto_flow": null,
      "grid_auto_rows": null,
      "grid_column": null,
      "grid_gap": null,
      "grid_row": null,
      "grid_template_areas": null,
      "grid_template_columns": null,
      "grid_template_rows": null,
      "height": null,
      "justify_content": null,
      "justify_items": null,
      "left": null,
      "margin": null,
      "max_height": null,
      "max_width": null,
      "min_height": null,
      "min_width": null,
      "object_fit": null,
      "object_position": null,
      "order": null,
      "overflow": null,
      "overflow_x": null,
      "overflow_y": null,
      "padding": null,
      "right": null,
      "top": null,
      "visibility": null,
      "width": null
     }
    },
    "9058f721b6994c7bab9ffd71a8977302": {
     "model_module": "@jupyter-widgets/controls",
     "model_module_version": "1.5.0",
     "model_name": "FloatProgressModel",
     "state": {
      "_dom_classes": [],
      "_model_module": "@jupyter-widgets/controls",
      "_model_module_version": "1.5.0",
      "_model_name": "FloatProgressModel",
      "_view_count": null,
      "_view_module": "@jupyter-widgets/controls",
      "_view_module_version": "1.5.0",
      "_view_name": "ProgressView",
      "bar_style": "success",
      "description": "",
      "description_tooltip": null,
      "layout": "IPY_MODEL_311391985293419c8f2ad4b61ac08656",
      "max": 1090,
      "min": 0,
      "orientation": "horizontal",
      "style": "IPY_MODEL_62478e7d8653424588e9a845abfa9c04",
      "value": 1090
     }
    },
    "91b09da162eb409cb126d1ab14a4b30e": {
     "model_module": "@jupyter-widgets/base",
     "model_module_version": "1.2.0",
     "model_name": "LayoutModel",
     "state": {
      "_model_module": "@jupyter-widgets/base",
      "_model_module_version": "1.2.0",
      "_model_name": "LayoutModel",
      "_view_count": null,
      "_view_module": "@jupyter-widgets/base",
      "_view_module_version": "1.2.0",
      "_view_name": "LayoutView",
      "align_content": null,
      "align_items": null,
      "align_self": null,
      "border": null,
      "bottom": null,
      "display": null,
      "flex": null,
      "flex_flow": null,
      "grid_area": null,
      "grid_auto_columns": null,
      "grid_auto_flow": null,
      "grid_auto_rows": null,
      "grid_column": null,
      "grid_gap": null,
      "grid_row": null,
      "grid_template_areas": null,
      "grid_template_columns": null,
      "grid_template_rows": null,
      "height": null,
      "justify_content": null,
      "justify_items": null,
      "left": null,
      "margin": null,
      "max_height": null,
      "max_width": null,
      "min_height": null,
      "min_width": null,
      "object_fit": null,
      "object_position": null,
      "order": null,
      "overflow": null,
      "overflow_x": null,
      "overflow_y": null,
      "padding": null,
      "right": null,
      "top": null,
      "visibility": null,
      "width": null
     }
    },
    "93aac4fb5f954fb5bd253d774892a873": {
     "model_module": "@jupyter-widgets/controls",
     "model_module_version": "1.5.0",
     "model_name": "DescriptionStyleModel",
     "state": {
      "_model_module": "@jupyter-widgets/controls",
      "_model_module_version": "1.5.0",
      "_model_name": "DescriptionStyleModel",
      "_view_count": null,
      "_view_module": "@jupyter-widgets/base",
      "_view_module_version": "1.2.0",
      "_view_name": "StyleView",
      "description_width": ""
     }
    },
    "93d7c360fdf14f8d88b038b118c8d986": {
     "model_module": "@jupyter-widgets/base",
     "model_module_version": "1.2.0",
     "model_name": "LayoutModel",
     "state": {
      "_model_module": "@jupyter-widgets/base",
      "_model_module_version": "1.2.0",
      "_model_name": "LayoutModel",
      "_view_count": null,
      "_view_module": "@jupyter-widgets/base",
      "_view_module_version": "1.2.0",
      "_view_name": "LayoutView",
      "align_content": null,
      "align_items": null,
      "align_self": null,
      "border": null,
      "bottom": null,
      "display": null,
      "flex": null,
      "flex_flow": null,
      "grid_area": null,
      "grid_auto_columns": null,
      "grid_auto_flow": null,
      "grid_auto_rows": null,
      "grid_column": null,
      "grid_gap": null,
      "grid_row": null,
      "grid_template_areas": null,
      "grid_template_columns": null,
      "grid_template_rows": null,
      "height": null,
      "justify_content": null,
      "justify_items": null,
      "left": null,
      "margin": null,
      "max_height": null,
      "max_width": null,
      "min_height": null,
      "min_width": null,
      "object_fit": null,
      "object_position": null,
      "order": null,
      "overflow": null,
      "overflow_x": null,
      "overflow_y": null,
      "padding": null,
      "right": null,
      "top": null,
      "visibility": null,
      "width": null
     }
    },
    "9451f3eeef854504822f033593f6bf9b": {
     "model_module": "@jupyter-widgets/controls",
     "model_module_version": "1.5.0",
     "model_name": "DescriptionStyleModel",
     "state": {
      "_model_module": "@jupyter-widgets/controls",
      "_model_module_version": "1.5.0",
      "_model_name": "DescriptionStyleModel",
      "_view_count": null,
      "_view_module": "@jupyter-widgets/base",
      "_view_module_version": "1.2.0",
      "_view_name": "StyleView",
      "description_width": ""
     }
    },
    "958928474f8649c9b7069630feef063c": {
     "model_module": "@jupyter-widgets/controls",
     "model_module_version": "1.5.0",
     "model_name": "HBoxModel",
     "state": {
      "_dom_classes": [],
      "_model_module": "@jupyter-widgets/controls",
      "_model_module_version": "1.5.0",
      "_model_name": "HBoxModel",
      "_view_count": null,
      "_view_module": "@jupyter-widgets/controls",
      "_view_module_version": "1.5.0",
      "_view_name": "HBoxView",
      "box_style": "",
      "children": [
       "IPY_MODEL_72e1209805b24583862cb112aea74cc8",
       "IPY_MODEL_df132c7b98b942fcb7207e5512324b97",
       "IPY_MODEL_7c529d35c57645ecb20762b07943b3f7"
      ],
      "layout": "IPY_MODEL_5fb5000a909644c492bbd7827b280991"
     }
    },
    "960ec0afac3a47adbbf63e3356a452a9": {
     "model_module": "@jupyter-widgets/controls",
     "model_module_version": "1.5.0",
     "model_name": "HBoxModel",
     "state": {
      "_dom_classes": [],
      "_model_module": "@jupyter-widgets/controls",
      "_model_module_version": "1.5.0",
      "_model_name": "HBoxModel",
      "_view_count": null,
      "_view_module": "@jupyter-widgets/controls",
      "_view_module_version": "1.5.0",
      "_view_name": "HBoxView",
      "box_style": "",
      "children": [
       "IPY_MODEL_f437fcd4005b4f3cb6217fdeac094d9d",
       "IPY_MODEL_4f066b5754584bd495e6c8937372d40f",
       "IPY_MODEL_e405be752e9f4eaabb6ce1756f08186f"
      ],
      "layout": "IPY_MODEL_4e0588ba38f24f93a90b697862058a5b"
     }
    },
    "964b4edde45743e2b4087e21016130c8": {
     "model_module": "@jupyter-widgets/controls",
     "model_module_version": "1.5.0",
     "model_name": "DescriptionStyleModel",
     "state": {
      "_model_module": "@jupyter-widgets/controls",
      "_model_module_version": "1.5.0",
      "_model_name": "DescriptionStyleModel",
      "_view_count": null,
      "_view_module": "@jupyter-widgets/base",
      "_view_module_version": "1.2.0",
      "_view_name": "StyleView",
      "description_width": ""
     }
    },
    "97c3544304bc454cac0980dbe58a6e33": {
     "model_module": "@jupyter-widgets/controls",
     "model_module_version": "1.5.0",
     "model_name": "DescriptionStyleModel",
     "state": {
      "_model_module": "@jupyter-widgets/controls",
      "_model_module_version": "1.5.0",
      "_model_name": "DescriptionStyleModel",
      "_view_count": null,
      "_view_module": "@jupyter-widgets/base",
      "_view_module_version": "1.2.0",
      "_view_name": "StyleView",
      "description_width": ""
     }
    },
    "9ab3e67153be4d4d94fc88afc655287d": {
     "model_module": "@jupyter-widgets/controls",
     "model_module_version": "1.5.0",
     "model_name": "HTMLModel",
     "state": {
      "_dom_classes": [],
      "_model_module": "@jupyter-widgets/controls",
      "_model_module_version": "1.5.0",
      "_model_name": "HTMLModel",
      "_view_count": null,
      "_view_module": "@jupyter-widgets/controls",
      "_view_module_version": "1.5.0",
      "_view_name": "HTMLView",
      "description": "",
      "description_tooltip": null,
      "layout": "IPY_MODEL_2b516b8b8fcd4a8d86703350686584ba",
      "placeholder": "​",
      "style": "IPY_MODEL_bfe322df2f004f5fad00b95e74286741",
      "value": "config.json: 100%"
     }
    },
    "9b317731951449f28b05daee7397535f": {
     "model_module": "@jupyter-widgets/controls",
     "model_module_version": "1.5.0",
     "model_name": "DescriptionStyleModel",
     "state": {
      "_model_module": "@jupyter-widgets/controls",
      "_model_module_version": "1.5.0",
      "_model_name": "DescriptionStyleModel",
      "_view_count": null,
      "_view_module": "@jupyter-widgets/base",
      "_view_module_version": "1.2.0",
      "_view_name": "StyleView",
      "description_width": ""
     }
    },
    "9bf0a8a1c78c4bea9d47d3ffa47f2b20": {
     "model_module": "@jupyter-widgets/base",
     "model_module_version": "1.2.0",
     "model_name": "LayoutModel",
     "state": {
      "_model_module": "@jupyter-widgets/base",
      "_model_module_version": "1.2.0",
      "_model_name": "LayoutModel",
      "_view_count": null,
      "_view_module": "@jupyter-widgets/base",
      "_view_module_version": "1.2.0",
      "_view_name": "LayoutView",
      "align_content": null,
      "align_items": null,
      "align_self": null,
      "border": null,
      "bottom": null,
      "display": null,
      "flex": null,
      "flex_flow": null,
      "grid_area": null,
      "grid_auto_columns": null,
      "grid_auto_flow": null,
      "grid_auto_rows": null,
      "grid_column": null,
      "grid_gap": null,
      "grid_row": null,
      "grid_template_areas": null,
      "grid_template_columns": null,
      "grid_template_rows": null,
      "height": null,
      "justify_content": null,
      "justify_items": null,
      "left": null,
      "margin": null,
      "max_height": null,
      "max_width": null,
      "min_height": null,
      "min_width": null,
      "object_fit": null,
      "object_position": null,
      "order": null,
      "overflow": null,
      "overflow_x": null,
      "overflow_y": null,
      "padding": null,
      "right": null,
      "top": null,
      "visibility": null,
      "width": null
     }
    },
    "9c25f3dc8ff84dba836d860987b41468": {
     "model_module": "@jupyter-widgets/base",
     "model_module_version": "1.2.0",
     "model_name": "LayoutModel",
     "state": {
      "_model_module": "@jupyter-widgets/base",
      "_model_module_version": "1.2.0",
      "_model_name": "LayoutModel",
      "_view_count": null,
      "_view_module": "@jupyter-widgets/base",
      "_view_module_version": "1.2.0",
      "_view_name": "LayoutView",
      "align_content": null,
      "align_items": null,
      "align_self": null,
      "border": null,
      "bottom": null,
      "display": null,
      "flex": null,
      "flex_flow": null,
      "grid_area": null,
      "grid_auto_columns": null,
      "grid_auto_flow": null,
      "grid_auto_rows": null,
      "grid_column": null,
      "grid_gap": null,
      "grid_row": null,
      "grid_template_areas": null,
      "grid_template_columns": null,
      "grid_template_rows": null,
      "height": null,
      "justify_content": null,
      "justify_items": null,
      "left": null,
      "margin": null,
      "max_height": null,
      "max_width": null,
      "min_height": null,
      "min_width": null,
      "object_fit": null,
      "object_position": null,
      "order": null,
      "overflow": null,
      "overflow_x": null,
      "overflow_y": null,
      "padding": null,
      "right": null,
      "top": null,
      "visibility": null,
      "width": null
     }
    },
    "9d2394c338e34e26ae88a50fe4bc3b95": {
     "model_module": "@jupyter-widgets/base",
     "model_module_version": "1.2.0",
     "model_name": "LayoutModel",
     "state": {
      "_model_module": "@jupyter-widgets/base",
      "_model_module_version": "1.2.0",
      "_model_name": "LayoutModel",
      "_view_count": null,
      "_view_module": "@jupyter-widgets/base",
      "_view_module_version": "1.2.0",
      "_view_name": "LayoutView",
      "align_content": null,
      "align_items": null,
      "align_self": null,
      "border": null,
      "bottom": null,
      "display": null,
      "flex": null,
      "flex_flow": null,
      "grid_area": null,
      "grid_auto_columns": null,
      "grid_auto_flow": null,
      "grid_auto_rows": null,
      "grid_column": null,
      "grid_gap": null,
      "grid_row": null,
      "grid_template_areas": null,
      "grid_template_columns": null,
      "grid_template_rows": null,
      "height": null,
      "justify_content": null,
      "justify_items": null,
      "left": null,
      "margin": null,
      "max_height": null,
      "max_width": null,
      "min_height": null,
      "min_width": null,
      "object_fit": null,
      "object_position": null,
      "order": null,
      "overflow": null,
      "overflow_x": null,
      "overflow_y": null,
      "padding": null,
      "right": null,
      "top": null,
      "visibility": null,
      "width": null
     }
    },
    "9d33a4ca8149423ebd477f9fd856d015": {
     "model_module": "@jupyter-widgets/controls",
     "model_module_version": "1.5.0",
     "model_name": "HBoxModel",
     "state": {
      "_dom_classes": [],
      "_model_module": "@jupyter-widgets/controls",
      "_model_module_version": "1.5.0",
      "_model_name": "HBoxModel",
      "_view_count": null,
      "_view_module": "@jupyter-widgets/controls",
      "_view_module_version": "1.5.0",
      "_view_name": "HBoxView",
      "box_style": "",
      "children": [
       "IPY_MODEL_4023e63282974435ae8f7adbbe84c4cc",
       "IPY_MODEL_f5b2d687051f4591b87d5e66a4cd7a7e",
       "IPY_MODEL_2a2d8c4e8f9c48858744c81a2e8cf534"
      ],
      "layout": "IPY_MODEL_b18c340d638e45bb8e8e35006d5f7269"
     }
    },
    "a02ec70537924bb2b19ac8eb0218f0de": {
     "model_module": "@jupyter-widgets/base",
     "model_module_version": "1.2.0",
     "model_name": "LayoutModel",
     "state": {
      "_model_module": "@jupyter-widgets/base",
      "_model_module_version": "1.2.0",
      "_model_name": "LayoutModel",
      "_view_count": null,
      "_view_module": "@jupyter-widgets/base",
      "_view_module_version": "1.2.0",
      "_view_name": "LayoutView",
      "align_content": null,
      "align_items": null,
      "align_self": null,
      "border": null,
      "bottom": null,
      "display": null,
      "flex": null,
      "flex_flow": null,
      "grid_area": null,
      "grid_auto_columns": null,
      "grid_auto_flow": null,
      "grid_auto_rows": null,
      "grid_column": null,
      "grid_gap": null,
      "grid_row": null,
      "grid_template_areas": null,
      "grid_template_columns": null,
      "grid_template_rows": null,
      "height": null,
      "justify_content": null,
      "justify_items": null,
      "left": null,
      "margin": null,
      "max_height": null,
      "max_width": null,
      "min_height": null,
      "min_width": null,
      "object_fit": null,
      "object_position": null,
      "order": null,
      "overflow": null,
      "overflow_x": null,
      "overflow_y": null,
      "padding": null,
      "right": null,
      "top": null,
      "visibility": null,
      "width": null
     }
    },
    "a19bf62f3eba470fa5b3b60c244f8989": {
     "model_module": "@jupyter-widgets/controls",
     "model_module_version": "1.5.0",
     "model_name": "FloatProgressModel",
     "state": {
      "_dom_classes": [],
      "_model_module": "@jupyter-widgets/controls",
      "_model_module_version": "1.5.0",
      "_model_name": "FloatProgressModel",
      "_view_count": null,
      "_view_module": "@jupyter-widgets/controls",
      "_view_module_version": "1.5.0",
      "_view_name": "ProgressView",
      "bar_style": "success",
      "description": "",
      "description_tooltip": null,
      "layout": "IPY_MODEL_ca496d6a65c64d05864137f5b1418a21",
      "max": 914,
      "min": 0,
      "orientation": "horizontal",
      "style": "IPY_MODEL_ffea917c233145fc84592980506112fb",
      "value": 914
     }
    },
    "a3302a2174534881914a349b1223bcce": {
     "model_module": "@jupyter-widgets/base",
     "model_module_version": "1.2.0",
     "model_name": "LayoutModel",
     "state": {
      "_model_module": "@jupyter-widgets/base",
      "_model_module_version": "1.2.0",
      "_model_name": "LayoutModel",
      "_view_count": null,
      "_view_module": "@jupyter-widgets/base",
      "_view_module_version": "1.2.0",
      "_view_name": "LayoutView",
      "align_content": null,
      "align_items": null,
      "align_self": null,
      "border": null,
      "bottom": null,
      "display": null,
      "flex": null,
      "flex_flow": null,
      "grid_area": null,
      "grid_auto_columns": null,
      "grid_auto_flow": null,
      "grid_auto_rows": null,
      "grid_column": null,
      "grid_gap": null,
      "grid_row": null,
      "grid_template_areas": null,
      "grid_template_columns": null,
      "grid_template_rows": null,
      "height": null,
      "justify_content": null,
      "justify_items": null,
      "left": null,
      "margin": null,
      "max_height": null,
      "max_width": null,
      "min_height": null,
      "min_width": null,
      "object_fit": null,
      "object_position": null,
      "order": null,
      "overflow": null,
      "overflow_x": null,
      "overflow_y": null,
      "padding": null,
      "right": null,
      "top": null,
      "visibility": null,
      "width": null
     }
    },
    "a423d37636054f15b1a838d7f18feca3": {
     "model_module": "@jupyter-widgets/controls",
     "model_module_version": "1.5.0",
     "model_name": "DescriptionStyleModel",
     "state": {
      "_model_module": "@jupyter-widgets/controls",
      "_model_module_version": "1.5.0",
      "_model_name": "DescriptionStyleModel",
      "_view_count": null,
      "_view_module": "@jupyter-widgets/base",
      "_view_module_version": "1.2.0",
      "_view_name": "StyleView",
      "description_width": ""
     }
    },
    "a44212aa9bfc4c658751cbcc1a382dc8": {
     "model_module": "@jupyter-widgets/controls",
     "model_module_version": "1.5.0",
     "model_name": "HTMLModel",
     "state": {
      "_dom_classes": [],
      "_model_module": "@jupyter-widgets/controls",
      "_model_module_version": "1.5.0",
      "_model_name": "HTMLModel",
      "_view_count": null,
      "_view_module": "@jupyter-widgets/controls",
      "_view_module_version": "1.5.0",
      "_view_name": "HTMLView",
      "description": "",
      "description_tooltip": null,
      "layout": "IPY_MODEL_425957b1c76a446b8126cd79eebe5656",
      "placeholder": "​",
      "style": "IPY_MODEL_9b317731951449f28b05daee7397535f",
      "value": " 1091/1091 [49:46&lt;00:00,  1.84s/it]"
     }
    },
    "a55e249317404d149d67db7dd8cfef41": {
     "model_module": "@jupyter-widgets/controls",
     "model_module_version": "1.5.0",
     "model_name": "DescriptionStyleModel",
     "state": {
      "_model_module": "@jupyter-widgets/controls",
      "_model_module_version": "1.5.0",
      "_model_name": "DescriptionStyleModel",
      "_view_count": null,
      "_view_module": "@jupyter-widgets/base",
      "_view_module_version": "1.2.0",
      "_view_name": "StyleView",
      "description_width": ""
     }
    },
    "a7a808a4efe14a46bee161fd49266a87": {
     "model_module": "@jupyter-widgets/base",
     "model_module_version": "1.2.0",
     "model_name": "LayoutModel",
     "state": {
      "_model_module": "@jupyter-widgets/base",
      "_model_module_version": "1.2.0",
      "_model_name": "LayoutModel",
      "_view_count": null,
      "_view_module": "@jupyter-widgets/base",
      "_view_module_version": "1.2.0",
      "_view_name": "LayoutView",
      "align_content": null,
      "align_items": null,
      "align_self": null,
      "border": null,
      "bottom": null,
      "display": null,
      "flex": null,
      "flex_flow": null,
      "grid_area": null,
      "grid_auto_columns": null,
      "grid_auto_flow": null,
      "grid_auto_rows": null,
      "grid_column": null,
      "grid_gap": null,
      "grid_row": null,
      "grid_template_areas": null,
      "grid_template_columns": null,
      "grid_template_rows": null,
      "height": null,
      "justify_content": null,
      "justify_items": null,
      "left": null,
      "margin": null,
      "max_height": null,
      "max_width": null,
      "min_height": null,
      "min_width": null,
      "object_fit": null,
      "object_position": null,
      "order": null,
      "overflow": null,
      "overflow_x": null,
      "overflow_y": null,
      "padding": null,
      "right": null,
      "top": null,
      "visibility": null,
      "width": null
     }
    },
    "a8d625f659744a4a9e9d7a6cf4c544b5": {
     "model_module": "@jupyter-widgets/controls",
     "model_module_version": "1.5.0",
     "model_name": "ProgressStyleModel",
     "state": {
      "_model_module": "@jupyter-widgets/controls",
      "_model_module_version": "1.5.0",
      "_model_name": "ProgressStyleModel",
      "_view_count": null,
      "_view_module": "@jupyter-widgets/base",
      "_view_module_version": "1.2.0",
      "_view_name": "StyleView",
      "bar_color": null,
      "description_width": ""
     }
    },
    "a95365ec1fe447c0ba00a9f230362210": {
     "model_module": "@jupyter-widgets/base",
     "model_module_version": "1.2.0",
     "model_name": "LayoutModel",
     "state": {
      "_model_module": "@jupyter-widgets/base",
      "_model_module_version": "1.2.0",
      "_model_name": "LayoutModel",
      "_view_count": null,
      "_view_module": "@jupyter-widgets/base",
      "_view_module_version": "1.2.0",
      "_view_name": "LayoutView",
      "align_content": null,
      "align_items": null,
      "align_self": null,
      "border": null,
      "bottom": null,
      "display": null,
      "flex": null,
      "flex_flow": null,
      "grid_area": null,
      "grid_auto_columns": null,
      "grid_auto_flow": null,
      "grid_auto_rows": null,
      "grid_column": null,
      "grid_gap": null,
      "grid_row": null,
      "grid_template_areas": null,
      "grid_template_columns": null,
      "grid_template_rows": null,
      "height": null,
      "justify_content": null,
      "justify_items": null,
      "left": null,
      "margin": null,
      "max_height": null,
      "max_width": null,
      "min_height": null,
      "min_width": null,
      "object_fit": null,
      "object_position": null,
      "order": null,
      "overflow": null,
      "overflow_x": null,
      "overflow_y": null,
      "padding": null,
      "right": null,
      "top": null,
      "visibility": null,
      "width": null
     }
    },
    "a974c6e277f64556a7a84b4c0c8de59f": {
     "model_module": "@jupyter-widgets/base",
     "model_module_version": "1.2.0",
     "model_name": "LayoutModel",
     "state": {
      "_model_module": "@jupyter-widgets/base",
      "_model_module_version": "1.2.0",
      "_model_name": "LayoutModel",
      "_view_count": null,
      "_view_module": "@jupyter-widgets/base",
      "_view_module_version": "1.2.0",
      "_view_name": "LayoutView",
      "align_content": null,
      "align_items": null,
      "align_self": null,
      "border": null,
      "bottom": null,
      "display": null,
      "flex": null,
      "flex_flow": null,
      "grid_area": null,
      "grid_auto_columns": null,
      "grid_auto_flow": null,
      "grid_auto_rows": null,
      "grid_column": null,
      "grid_gap": null,
      "grid_row": null,
      "grid_template_areas": null,
      "grid_template_columns": null,
      "grid_template_rows": null,
      "height": null,
      "justify_content": null,
      "justify_items": null,
      "left": null,
      "margin": null,
      "max_height": null,
      "max_width": null,
      "min_height": null,
      "min_width": null,
      "object_fit": null,
      "object_position": null,
      "order": null,
      "overflow": null,
      "overflow_x": null,
      "overflow_y": null,
      "padding": null,
      "right": null,
      "top": null,
      "visibility": null,
      "width": null
     }
    },
    "aa7efa5b25794aca899aa5084c897408": {
     "model_module": "@jupyter-widgets/controls",
     "model_module_version": "1.5.0",
     "model_name": "DescriptionStyleModel",
     "state": {
      "_model_module": "@jupyter-widgets/controls",
      "_model_module_version": "1.5.0",
      "_model_name": "DescriptionStyleModel",
      "_view_count": null,
      "_view_module": "@jupyter-widgets/base",
      "_view_module_version": "1.2.0",
      "_view_name": "StyleView",
      "description_width": ""
     }
    },
    "aac8285ff10b4f2dba6cc9a0c9f64d70": {
     "model_module": "@jupyter-widgets/controls",
     "model_module_version": "1.5.0",
     "model_name": "HTMLModel",
     "state": {
      "_dom_classes": [],
      "_model_module": "@jupyter-widgets/controls",
      "_model_module_version": "1.5.0",
      "_model_name": "HTMLModel",
      "_view_count": null,
      "_view_module": "@jupyter-widgets/controls",
      "_view_module_version": "1.5.0",
      "_view_name": "HTMLView",
      "description": "",
      "description_tooltip": null,
      "layout": "IPY_MODEL_2860303b43dd4b74b008ab9e71d84cb5",
      "placeholder": "​",
      "style": "IPY_MODEL_58ed10a0eee94404a4703df24f975ab2",
      "value": " 1.11G/1.11G [00:13&lt;00:00, 71.8MB/s]"
     }
    },
    "ab215d3704a345629915dec9f9e1a6cf": {
     "model_module": "@jupyter-widgets/controls",
     "model_module_version": "1.5.0",
     "model_name": "HTMLModel",
     "state": {
      "_dom_classes": [],
      "_model_module": "@jupyter-widgets/controls",
      "_model_module_version": "1.5.0",
      "_model_name": "HTMLModel",
      "_view_count": null,
      "_view_module": "@jupyter-widgets/controls",
      "_view_module_version": "1.5.0",
      "_view_name": "HTMLView",
      "description": "",
      "description_tooltip": null,
      "layout": "IPY_MODEL_9c25f3dc8ff84dba836d860987b41468",
      "placeholder": "​",
      "style": "IPY_MODEL_e94eeb4ca232489fbf2b29af92e0e803",
      "value": "100%"
     }
    },
    "ab65ea6d634d4c7d931cb64759923290": {
     "model_module": "@jupyter-widgets/controls",
     "model_module_version": "1.5.0",
     "model_name": "ProgressStyleModel",
     "state": {
      "_model_module": "@jupyter-widgets/controls",
      "_model_module_version": "1.5.0",
      "_model_name": "ProgressStyleModel",
      "_view_count": null,
      "_view_module": "@jupyter-widgets/base",
      "_view_module_version": "1.2.0",
      "_view_name": "StyleView",
      "bar_color": null,
      "description_width": ""
     }
    },
    "ac5bc36b52fe411595d56acf197f5791": {
     "model_module": "@jupyter-widgets/controls",
     "model_module_version": "1.5.0",
     "model_name": "HBoxModel",
     "state": {
      "_dom_classes": [],
      "_model_module": "@jupyter-widgets/controls",
      "_model_module_version": "1.5.0",
      "_model_name": "HBoxModel",
      "_view_count": null,
      "_view_module": "@jupyter-widgets/controls",
      "_view_module_version": "1.5.0",
      "_view_name": "HBoxView",
      "box_style": "",
      "children": [
       "IPY_MODEL_ab215d3704a345629915dec9f9e1a6cf",
       "IPY_MODEL_bae1ec61cc59473aa834b1e206fa5161",
       "IPY_MODEL_42e902cd084149638c2c2a68aa83ea24"
      ],
      "layout": "IPY_MODEL_a7a808a4efe14a46bee161fd49266a87"
     }
    },
    "ade20906fae04163a741cc28d9c9914e": {
     "model_module": "@jupyter-widgets/controls",
     "model_module_version": "1.5.0",
     "model_name": "DescriptionStyleModel",
     "state": {
      "_model_module": "@jupyter-widgets/controls",
      "_model_module_version": "1.5.0",
      "_model_name": "DescriptionStyleModel",
      "_view_count": null,
      "_view_module": "@jupyter-widgets/base",
      "_view_module_version": "1.2.0",
      "_view_name": "StyleView",
      "description_width": ""
     }
    },
    "af69f4ef41c44d93b51b0223b30d0fad": {
     "model_module": "@jupyter-widgets/controls",
     "model_module_version": "1.5.0",
     "model_name": "DescriptionStyleModel",
     "state": {
      "_model_module": "@jupyter-widgets/controls",
      "_model_module_version": "1.5.0",
      "_model_name": "DescriptionStyleModel",
      "_view_count": null,
      "_view_module": "@jupyter-widgets/base",
      "_view_module_version": "1.2.0",
      "_view_name": "StyleView",
      "description_width": ""
     }
    },
    "afc71c7cd3484f89be193f7f4999f97e": {
     "model_module": "@jupyter-widgets/controls",
     "model_module_version": "1.5.0",
     "model_name": "DescriptionStyleModel",
     "state": {
      "_model_module": "@jupyter-widgets/controls",
      "_model_module_version": "1.5.0",
      "_model_name": "DescriptionStyleModel",
      "_view_count": null,
      "_view_module": "@jupyter-widgets/base",
      "_view_module_version": "1.2.0",
      "_view_name": "StyleView",
      "description_width": ""
     }
    },
    "b06f643892104b169c776e5d73b72144": {
     "model_module": "@jupyter-widgets/base",
     "model_module_version": "1.2.0",
     "model_name": "LayoutModel",
     "state": {
      "_model_module": "@jupyter-widgets/base",
      "_model_module_version": "1.2.0",
      "_model_name": "LayoutModel",
      "_view_count": null,
      "_view_module": "@jupyter-widgets/base",
      "_view_module_version": "1.2.0",
      "_view_name": "LayoutView",
      "align_content": null,
      "align_items": null,
      "align_self": null,
      "border": null,
      "bottom": null,
      "display": null,
      "flex": null,
      "flex_flow": null,
      "grid_area": null,
      "grid_auto_columns": null,
      "grid_auto_flow": null,
      "grid_auto_rows": null,
      "grid_column": null,
      "grid_gap": null,
      "grid_row": null,
      "grid_template_areas": null,
      "grid_template_columns": null,
      "grid_template_rows": null,
      "height": null,
      "justify_content": null,
      "justify_items": null,
      "left": null,
      "margin": null,
      "max_height": null,
      "max_width": null,
      "min_height": null,
      "min_width": null,
      "object_fit": null,
      "object_position": null,
      "order": null,
      "overflow": null,
      "overflow_x": null,
      "overflow_y": null,
      "padding": null,
      "right": null,
      "top": null,
      "visibility": null,
      "width": null
     }
    },
    "b0c70f96889a4b028bb2401dbcf0f4e4": {
     "model_module": "@jupyter-widgets/controls",
     "model_module_version": "1.5.0",
     "model_name": "FloatProgressModel",
     "state": {
      "_dom_classes": [],
      "_model_module": "@jupyter-widgets/controls",
      "_model_module_version": "1.5.0",
      "_model_name": "FloatProgressModel",
      "_view_count": null,
      "_view_module": "@jupyter-widgets/controls",
      "_view_module_version": "1.5.0",
      "_view_name": "ProgressView",
      "bar_style": "success",
      "description": "",
      "description_tooltip": null,
      "layout": "IPY_MODEL_025ac9b28f244034994b7d742a91470c",
      "max": 1000,
      "min": 0,
      "orientation": "horizontal",
      "style": "IPY_MODEL_6ec651824fbb4b7cb8adca2577f1703d",
      "value": 1000
     }
    },
    "b18c340d638e45bb8e8e35006d5f7269": {
     "model_module": "@jupyter-widgets/base",
     "model_module_version": "1.2.0",
     "model_name": "LayoutModel",
     "state": {
      "_model_module": "@jupyter-widgets/base",
      "_model_module_version": "1.2.0",
      "_model_name": "LayoutModel",
      "_view_count": null,
      "_view_module": "@jupyter-widgets/base",
      "_view_module_version": "1.2.0",
      "_view_name": "LayoutView",
      "align_content": null,
      "align_items": null,
      "align_self": null,
      "border": null,
      "bottom": null,
      "display": null,
      "flex": null,
      "flex_flow": null,
      "grid_area": null,
      "grid_auto_columns": null,
      "grid_auto_flow": null,
      "grid_auto_rows": null,
      "grid_column": null,
      "grid_gap": null,
      "grid_row": null,
      "grid_template_areas": null,
      "grid_template_columns": null,
      "grid_template_rows": null,
      "height": null,
      "justify_content": null,
      "justify_items": null,
      "left": null,
      "margin": null,
      "max_height": null,
      "max_width": null,
      "min_height": null,
      "min_width": null,
      "object_fit": null,
      "object_position": null,
      "order": null,
      "overflow": null,
      "overflow_x": null,
      "overflow_y": null,
      "padding": null,
      "right": null,
      "top": null,
      "visibility": null,
      "width": null
     }
    },
    "b19f7d0fd090418aa25fec25dd78fde2": {
     "model_module": "@jupyter-widgets/base",
     "model_module_version": "1.2.0",
     "model_name": "LayoutModel",
     "state": {
      "_model_module": "@jupyter-widgets/base",
      "_model_module_version": "1.2.0",
      "_model_name": "LayoutModel",
      "_view_count": null,
      "_view_module": "@jupyter-widgets/base",
      "_view_module_version": "1.2.0",
      "_view_name": "LayoutView",
      "align_content": null,
      "align_items": null,
      "align_self": null,
      "border": null,
      "bottom": null,
      "display": null,
      "flex": null,
      "flex_flow": null,
      "grid_area": null,
      "grid_auto_columns": null,
      "grid_auto_flow": null,
      "grid_auto_rows": null,
      "grid_column": null,
      "grid_gap": null,
      "grid_row": null,
      "grid_template_areas": null,
      "grid_template_columns": null,
      "grid_template_rows": null,
      "height": null,
      "justify_content": null,
      "justify_items": null,
      "left": null,
      "margin": null,
      "max_height": null,
      "max_width": null,
      "min_height": null,
      "min_width": null,
      "object_fit": null,
      "object_position": null,
      "order": null,
      "overflow": null,
      "overflow_x": null,
      "overflow_y": null,
      "padding": null,
      "right": null,
      "top": null,
      "visibility": null,
      "width": null
     }
    },
    "b1f59d0cadb74b5889739979a5352399": {
     "model_module": "@jupyter-widgets/controls",
     "model_module_version": "1.5.0",
     "model_name": "ProgressStyleModel",
     "state": {
      "_model_module": "@jupyter-widgets/controls",
      "_model_module_version": "1.5.0",
      "_model_name": "ProgressStyleModel",
      "_view_count": null,
      "_view_module": "@jupyter-widgets/base",
      "_view_module_version": "1.2.0",
      "_view_name": "StyleView",
      "bar_color": null,
      "description_width": ""
     }
    },
    "b23af113dd6841e29ab0391dff8fb3e2": {
     "model_module": "@jupyter-widgets/controls",
     "model_module_version": "1.5.0",
     "model_name": "HTMLModel",
     "state": {
      "_dom_classes": [],
      "_model_module": "@jupyter-widgets/controls",
      "_model_module_version": "1.5.0",
      "_model_name": "HTMLModel",
      "_view_count": null,
      "_view_module": "@jupyter-widgets/controls",
      "_view_module_version": "1.5.0",
      "_view_name": "HTMLView",
      "description": "",
      "description_tooltip": null,
      "layout": "IPY_MODEL_f617f21ece364c1fafea9b64e14127cd",
      "placeholder": "​",
      "style": "IPY_MODEL_206632f2228c4241906b496082bc80b5",
      "value": "100%"
     }
    },
    "b3fec80addde4d328709dfc5b784f92d": {
     "model_module": "@jupyter-widgets/base",
     "model_module_version": "1.2.0",
     "model_name": "LayoutModel",
     "state": {
      "_model_module": "@jupyter-widgets/base",
      "_model_module_version": "1.2.0",
      "_model_name": "LayoutModel",
      "_view_count": null,
      "_view_module": "@jupyter-widgets/base",
      "_view_module_version": "1.2.0",
      "_view_name": "LayoutView",
      "align_content": null,
      "align_items": null,
      "align_self": null,
      "border": null,
      "bottom": null,
      "display": null,
      "flex": null,
      "flex_flow": null,
      "grid_area": null,
      "grid_auto_columns": null,
      "grid_auto_flow": null,
      "grid_auto_rows": null,
      "grid_column": null,
      "grid_gap": null,
      "grid_row": null,
      "grid_template_areas": null,
      "grid_template_columns": null,
      "grid_template_rows": null,
      "height": null,
      "justify_content": null,
      "justify_items": null,
      "left": null,
      "margin": null,
      "max_height": null,
      "max_width": null,
      "min_height": null,
      "min_width": null,
      "object_fit": null,
      "object_position": null,
      "order": null,
      "overflow": null,
      "overflow_x": null,
      "overflow_y": null,
      "padding": null,
      "right": null,
      "top": null,
      "visibility": null,
      "width": null
     }
    },
    "b42870f8c04e4d6796764848eedb3805": {
     "model_module": "@jupyter-widgets/base",
     "model_module_version": "1.2.0",
     "model_name": "LayoutModel",
     "state": {
      "_model_module": "@jupyter-widgets/base",
      "_model_module_version": "1.2.0",
      "_model_name": "LayoutModel",
      "_view_count": null,
      "_view_module": "@jupyter-widgets/base",
      "_view_module_version": "1.2.0",
      "_view_name": "LayoutView",
      "align_content": null,
      "align_items": null,
      "align_self": null,
      "border": null,
      "bottom": null,
      "display": null,
      "flex": null,
      "flex_flow": null,
      "grid_area": null,
      "grid_auto_columns": null,
      "grid_auto_flow": null,
      "grid_auto_rows": null,
      "grid_column": null,
      "grid_gap": null,
      "grid_row": null,
      "grid_template_areas": null,
      "grid_template_columns": null,
      "grid_template_rows": null,
      "height": null,
      "justify_content": null,
      "justify_items": null,
      "left": null,
      "margin": null,
      "max_height": null,
      "max_width": null,
      "min_height": null,
      "min_width": null,
      "object_fit": null,
      "object_position": null,
      "order": null,
      "overflow": null,
      "overflow_x": null,
      "overflow_y": null,
      "padding": null,
      "right": null,
      "top": null,
      "visibility": null,
      "width": null
     }
    },
    "b6ad81753dc848e2ab87f4bc25b2663d": {
     "model_module": "@jupyter-widgets/controls",
     "model_module_version": "1.5.0",
     "model_name": "DescriptionStyleModel",
     "state": {
      "_model_module": "@jupyter-widgets/controls",
      "_model_module_version": "1.5.0",
      "_model_name": "DescriptionStyleModel",
      "_view_count": null,
      "_view_module": "@jupyter-widgets/base",
      "_view_module_version": "1.2.0",
      "_view_name": "StyleView",
      "description_width": ""
     }
    },
    "b979c57d99c74e45b73cf90912620015": {
     "model_module": "@jupyter-widgets/controls",
     "model_module_version": "1.5.0",
     "model_name": "HTMLModel",
     "state": {
      "_dom_classes": [],
      "_model_module": "@jupyter-widgets/controls",
      "_model_module_version": "1.5.0",
      "_model_name": "HTMLModel",
      "_view_count": null,
      "_view_module": "@jupyter-widgets/controls",
      "_view_module_version": "1.5.0",
      "_view_name": "HTMLView",
      "description": "",
      "description_tooltip": null,
      "layout": "IPY_MODEL_a95365ec1fe447c0ba00a9f230362210",
      "placeholder": "​",
      "style": "IPY_MODEL_d8085dff43864e47af9c9af810e949c1",
      "value": "100%"
     }
    },
    "ba934ac33fac4df6877c31363538a74a": {
     "model_module": "@jupyter-widgets/base",
     "model_module_version": "1.2.0",
     "model_name": "LayoutModel",
     "state": {
      "_model_module": "@jupyter-widgets/base",
      "_model_module_version": "1.2.0",
      "_model_name": "LayoutModel",
      "_view_count": null,
      "_view_module": "@jupyter-widgets/base",
      "_view_module_version": "1.2.0",
      "_view_name": "LayoutView",
      "align_content": null,
      "align_items": null,
      "align_self": null,
      "border": null,
      "bottom": null,
      "display": null,
      "flex": null,
      "flex_flow": null,
      "grid_area": null,
      "grid_auto_columns": null,
      "grid_auto_flow": null,
      "grid_auto_rows": null,
      "grid_column": null,
      "grid_gap": null,
      "grid_row": null,
      "grid_template_areas": null,
      "grid_template_columns": null,
      "grid_template_rows": null,
      "height": null,
      "justify_content": null,
      "justify_items": null,
      "left": null,
      "margin": null,
      "max_height": null,
      "max_width": null,
      "min_height": null,
      "min_width": null,
      "object_fit": null,
      "object_position": null,
      "order": null,
      "overflow": null,
      "overflow_x": null,
      "overflow_y": null,
      "padding": null,
      "right": null,
      "top": null,
      "visibility": null,
      "width": null
     }
    },
    "baa4b8e17e454c5aa91b5ac60b3b8673": {
     "model_module": "@jupyter-widgets/controls",
     "model_module_version": "1.5.0",
     "model_name": "HBoxModel",
     "state": {
      "_dom_classes": [],
      "_model_module": "@jupyter-widgets/controls",
      "_model_module_version": "1.5.0",
      "_model_name": "HBoxModel",
      "_view_count": null,
      "_view_module": "@jupyter-widgets/controls",
      "_view_module_version": "1.5.0",
      "_view_name": "HBoxView",
      "box_style": "",
      "children": [
       "IPY_MODEL_ec2cbb50cf5844b2837ca5b5538ba244",
       "IPY_MODEL_9058f721b6994c7bab9ffd71a8977302",
       "IPY_MODEL_4c50be57b83946f489e5be02d74a0e15"
      ],
      "layout": "IPY_MODEL_8a006025f88548f3b783abb010949617"
     }
    },
    "bacde0c7d32a40de9194dd912bcb201d": {
     "model_module": "@jupyter-widgets/controls",
     "model_module_version": "1.5.0",
     "model_name": "HTMLModel",
     "state": {
      "_dom_classes": [],
      "_model_module": "@jupyter-widgets/controls",
      "_model_module_version": "1.5.0",
      "_model_name": "HTMLModel",
      "_view_count": null,
      "_view_module": "@jupyter-widgets/controls",
      "_view_module_version": "1.5.0",
      "_view_name": "HTMLView",
      "description": "",
      "description_tooltip": null,
      "layout": "IPY_MODEL_00f8f499b57a41b6868e4615d9d5ba2c",
      "placeholder": "​",
      "style": "IPY_MODEL_3db0312e2d474ed0b0d31e0dcbea46e2",
      "value": "100%"
     }
    },
    "bae1ec61cc59473aa834b1e206fa5161": {
     "model_module": "@jupyter-widgets/controls",
     "model_module_version": "1.5.0",
     "model_name": "FloatProgressModel",
     "state": {
      "_dom_classes": [],
      "_model_module": "@jupyter-widgets/controls",
      "_model_module_version": "1.5.0",
      "_model_name": "FloatProgressModel",
      "_view_count": null,
      "_view_module": "@jupyter-widgets/controls",
      "_view_module_version": "1.5.0",
      "_view_name": "ProgressView",
      "bar_style": "success",
      "description": "",
      "description_tooltip": null,
      "layout": "IPY_MODEL_e1ab2581f4b64fc88c0d0e2a914a6f0b",
      "max": 7049,
      "min": 0,
      "orientation": "horizontal",
      "style": "IPY_MODEL_121230c40dd44dc5ad827b6ab8cfc91e",
      "value": 7049
     }
    },
    "bcfabf37d581425ea00c9170a20569a0": {
     "model_module": "@jupyter-widgets/controls",
     "model_module_version": "1.5.0",
     "model_name": "HTMLModel",
     "state": {
      "_dom_classes": [],
      "_model_module": "@jupyter-widgets/controls",
      "_model_module_version": "1.5.0",
      "_model_name": "HTMLModel",
      "_view_count": null,
      "_view_module": "@jupyter-widgets/controls",
      "_view_module_version": "1.5.0",
      "_view_name": "HTMLView",
      "description": "",
      "description_tooltip": null,
      "layout": "IPY_MODEL_6d442e67056c4df8a169019ae2da444c",
      "placeholder": "​",
      "style": "IPY_MODEL_307c03e4864a4e80a460774100b9e257",
      "value": " 1091/1091 [43:41&lt;00:00,  2.79s/it]"
     }
    },
    "bfe322df2f004f5fad00b95e74286741": {
     "model_module": "@jupyter-widgets/controls",
     "model_module_version": "1.5.0",
     "model_name": "DescriptionStyleModel",
     "state": {
      "_model_module": "@jupyter-widgets/controls",
      "_model_module_version": "1.5.0",
      "_model_name": "DescriptionStyleModel",
      "_view_count": null,
      "_view_module": "@jupyter-widgets/base",
      "_view_module_version": "1.2.0",
      "_view_name": "StyleView",
      "description_width": ""
     }
    },
    "bfe3de7457cb44178ca45280e61b56ba": {
     "model_module": "@jupyter-widgets/base",
     "model_module_version": "1.2.0",
     "model_name": "LayoutModel",
     "state": {
      "_model_module": "@jupyter-widgets/base",
      "_model_module_version": "1.2.0",
      "_model_name": "LayoutModel",
      "_view_count": null,
      "_view_module": "@jupyter-widgets/base",
      "_view_module_version": "1.2.0",
      "_view_name": "LayoutView",
      "align_content": null,
      "align_items": null,
      "align_self": null,
      "border": null,
      "bottom": null,
      "display": null,
      "flex": null,
      "flex_flow": null,
      "grid_area": null,
      "grid_auto_columns": null,
      "grid_auto_flow": null,
      "grid_auto_rows": null,
      "grid_column": null,
      "grid_gap": null,
      "grid_row": null,
      "grid_template_areas": null,
      "grid_template_columns": null,
      "grid_template_rows": null,
      "height": null,
      "justify_content": null,
      "justify_items": null,
      "left": null,
      "margin": null,
      "max_height": null,
      "max_width": null,
      "min_height": null,
      "min_width": null,
      "object_fit": null,
      "object_position": null,
      "order": null,
      "overflow": null,
      "overflow_x": null,
      "overflow_y": null,
      "padding": null,
      "right": null,
      "top": null,
      "visibility": null,
      "width": null
     }
    },
    "c594d8f7916546158dfaabc006d5e5cd": {
     "model_module": "@jupyter-widgets/controls",
     "model_module_version": "1.5.0",
     "model_name": "HTMLModel",
     "state": {
      "_dom_classes": [],
      "_model_module": "@jupyter-widgets/controls",
      "_model_module_version": "1.5.0",
      "_model_name": "HTMLModel",
      "_view_count": null,
      "_view_module": "@jupyter-widgets/controls",
      "_view_module_version": "1.5.0",
      "_view_name": "HTMLView",
      "description": "",
      "description_tooltip": null,
      "layout": "IPY_MODEL_9d2394c338e34e26ae88a50fe4bc3b95",
      "placeholder": "​",
      "style": "IPY_MODEL_9451f3eeef854504822f033593f6bf9b",
      "value": " 914/914 [00:00&lt;00:00, 63.4kB/s]"
     }
    },
    "c6584c7d44274b688a4bde8f5614e3f2": {
     "model_module": "@jupyter-widgets/base",
     "model_module_version": "1.2.0",
     "model_name": "LayoutModel",
     "state": {
      "_model_module": "@jupyter-widgets/base",
      "_model_module_version": "1.2.0",
      "_model_name": "LayoutModel",
      "_view_count": null,
      "_view_module": "@jupyter-widgets/base",
      "_view_module_version": "1.2.0",
      "_view_name": "LayoutView",
      "align_content": null,
      "align_items": null,
      "align_self": null,
      "border": null,
      "bottom": null,
      "display": null,
      "flex": null,
      "flex_flow": null,
      "grid_area": null,
      "grid_auto_columns": null,
      "grid_auto_flow": null,
      "grid_auto_rows": null,
      "grid_column": null,
      "grid_gap": null,
      "grid_row": null,
      "grid_template_areas": null,
      "grid_template_columns": null,
      "grid_template_rows": null,
      "height": null,
      "justify_content": null,
      "justify_items": null,
      "left": null,
      "margin": null,
      "max_height": null,
      "max_width": null,
      "min_height": null,
      "min_width": null,
      "object_fit": null,
      "object_position": null,
      "order": null,
      "overflow": null,
      "overflow_x": null,
      "overflow_y": null,
      "padding": null,
      "right": null,
      "top": null,
      "visibility": null,
      "width": null
     }
    },
    "c8d5222e28264f7885801addb225ca2f": {
     "model_module": "@jupyter-widgets/controls",
     "model_module_version": "1.5.0",
     "model_name": "DescriptionStyleModel",
     "state": {
      "_model_module": "@jupyter-widgets/controls",
      "_model_module_version": "1.5.0",
      "_model_name": "DescriptionStyleModel",
      "_view_count": null,
      "_view_module": "@jupyter-widgets/base",
      "_view_module_version": "1.2.0",
      "_view_name": "StyleView",
      "description_width": ""
     }
    },
    "c8f8ca066f5944bca2d6d1113dff8e69": {
     "model_module": "@jupyter-widgets/controls",
     "model_module_version": "1.5.0",
     "model_name": "HTMLModel",
     "state": {
      "_dom_classes": [],
      "_model_module": "@jupyter-widgets/controls",
      "_model_module_version": "1.5.0",
      "_model_name": "HTMLModel",
      "_view_count": null,
      "_view_module": "@jupyter-widgets/controls",
      "_view_module_version": "1.5.0",
      "_view_name": "HTMLView",
      "description": "",
      "description_tooltip": null,
      "layout": "IPY_MODEL_500bef1f519449b2b7f61d3ee63535b8",
      "placeholder": "​",
      "style": "IPY_MODEL_51d7d4df5366408c8047300ba7376abb",
      "value": " 17.1M/17.1M [00:00&lt;00:00, 60.8MB/s]"
     }
    },
    "ca496d6a65c64d05864137f5b1418a21": {
     "model_module": "@jupyter-widgets/base",
     "model_module_version": "1.2.0",
     "model_name": "LayoutModel",
     "state": {
      "_model_module": "@jupyter-widgets/base",
      "_model_module_version": "1.2.0",
      "_model_name": "LayoutModel",
      "_view_count": null,
      "_view_module": "@jupyter-widgets/base",
      "_view_module_version": "1.2.0",
      "_view_name": "LayoutView",
      "align_content": null,
      "align_items": null,
      "align_self": null,
      "border": null,
      "bottom": null,
      "display": null,
      "flex": null,
      "flex_flow": null,
      "grid_area": null,
      "grid_auto_columns": null,
      "grid_auto_flow": null,
      "grid_auto_rows": null,
      "grid_column": null,
      "grid_gap": null,
      "grid_row": null,
      "grid_template_areas": null,
      "grid_template_columns": null,
      "grid_template_rows": null,
      "height": null,
      "justify_content": null,
      "justify_items": null,
      "left": null,
      "margin": null,
      "max_height": null,
      "max_width": null,
      "min_height": null,
      "min_width": null,
      "object_fit": null,
      "object_position": null,
      "order": null,
      "overflow": null,
      "overflow_x": null,
      "overflow_y": null,
      "padding": null,
      "right": null,
      "top": null,
      "visibility": null,
      "width": null
     }
    },
    "cabe65c9fc9a4b9a971f7f917cb67009": {
     "model_module": "@jupyter-widgets/base",
     "model_module_version": "1.2.0",
     "model_name": "LayoutModel",
     "state": {
      "_model_module": "@jupyter-widgets/base",
      "_model_module_version": "1.2.0",
      "_model_name": "LayoutModel",
      "_view_count": null,
      "_view_module": "@jupyter-widgets/base",
      "_view_module_version": "1.2.0",
      "_view_name": "LayoutView",
      "align_content": null,
      "align_items": null,
      "align_self": null,
      "border": null,
      "bottom": null,
      "display": null,
      "flex": null,
      "flex_flow": null,
      "grid_area": null,
      "grid_auto_columns": null,
      "grid_auto_flow": null,
      "grid_auto_rows": null,
      "grid_column": null,
      "grid_gap": null,
      "grid_row": null,
      "grid_template_areas": null,
      "grid_template_columns": null,
      "grid_template_rows": null,
      "height": null,
      "justify_content": null,
      "justify_items": null,
      "left": null,
      "margin": null,
      "max_height": null,
      "max_width": null,
      "min_height": null,
      "min_width": null,
      "object_fit": null,
      "object_position": null,
      "order": null,
      "overflow": null,
      "overflow_x": null,
      "overflow_y": null,
      "padding": null,
      "right": null,
      "top": null,
      "visibility": null,
      "width": null
     }
    },
    "cba5e24def0240c38cf6b03a60df9920": {
     "model_module": "@jupyter-widgets/controls",
     "model_module_version": "1.5.0",
     "model_name": "DescriptionStyleModel",
     "state": {
      "_model_module": "@jupyter-widgets/controls",
      "_model_module_version": "1.5.0",
      "_model_name": "DescriptionStyleModel",
      "_view_count": null,
      "_view_module": "@jupyter-widgets/base",
      "_view_module_version": "1.2.0",
      "_view_name": "StyleView",
      "description_width": ""
     }
    },
    "cbad4cc1911848c8b692483cf84f1af9": {
     "model_module": "@jupyter-widgets/controls",
     "model_module_version": "1.5.0",
     "model_name": "HTMLModel",
     "state": {
      "_dom_classes": [],
      "_model_module": "@jupyter-widgets/controls",
      "_model_module_version": "1.5.0",
      "_model_name": "HTMLModel",
      "_view_count": null,
      "_view_module": "@jupyter-widgets/controls",
      "_view_module_version": "1.5.0",
      "_view_name": "HTMLView",
      "description": "",
      "description_tooltip": null,
      "layout": "IPY_MODEL_857161a7990d40a98c30e59a760cd461",
      "placeholder": "​",
      "style": "IPY_MODEL_491726b3e9a04d2b86d42eaa842651f6",
      "value": " 447/447 [00:00&lt;00:00, 32.5kB/s]"
     }
    },
    "cc15cffcf1774debb4d7d2d6d509c4c0": {
     "model_module": "@jupyter-widgets/base",
     "model_module_version": "1.2.0",
     "model_name": "LayoutModel",
     "state": {
      "_model_module": "@jupyter-widgets/base",
      "_model_module_version": "1.2.0",
      "_model_name": "LayoutModel",
      "_view_count": null,
      "_view_module": "@jupyter-widgets/base",
      "_view_module_version": "1.2.0",
      "_view_name": "LayoutView",
      "align_content": null,
      "align_items": null,
      "align_self": null,
      "border": null,
      "bottom": null,
      "display": null,
      "flex": null,
      "flex_flow": null,
      "grid_area": null,
      "grid_auto_columns": null,
      "grid_auto_flow": null,
      "grid_auto_rows": null,
      "grid_column": null,
      "grid_gap": null,
      "grid_row": null,
      "grid_template_areas": null,
      "grid_template_columns": null,
      "grid_template_rows": null,
      "height": null,
      "justify_content": null,
      "justify_items": null,
      "left": null,
      "margin": null,
      "max_height": null,
      "max_width": null,
      "min_height": null,
      "min_width": null,
      "object_fit": null,
      "object_position": null,
      "order": null,
      "overflow": null,
      "overflow_x": null,
      "overflow_y": null,
      "padding": null,
      "right": null,
      "top": null,
      "visibility": null,
      "width": null
     }
    },
    "cc1829ad4b674dd0857824483301682b": {
     "model_module": "@jupyter-widgets/controls",
     "model_module_version": "1.5.0",
     "model_name": "FloatProgressModel",
     "state": {
      "_dom_classes": [],
      "_model_module": "@jupyter-widgets/controls",
      "_model_module_version": "1.5.0",
      "_model_name": "FloatProgressModel",
      "_view_count": null,
      "_view_module": "@jupyter-widgets/controls",
      "_view_module_version": "1.5.0",
      "_view_name": "ProgressView",
      "bar_style": "success",
      "description": "",
      "description_tooltip": null,
      "layout": "IPY_MODEL_fb5ab1ccceff4e249c229ee22572e3da",
      "max": 17082758,
      "min": 0,
      "orientation": "horizontal",
      "style": "IPY_MODEL_56335ba9b5f3431fa66ae5e694ab5b40",
      "value": 17082758
     }
    },
    "cdad773a82034b9abcdf096da6b3f999": {
     "model_module": "@jupyter-widgets/base",
     "model_module_version": "1.2.0",
     "model_name": "LayoutModel",
     "state": {
      "_model_module": "@jupyter-widgets/base",
      "_model_module_version": "1.2.0",
      "_model_name": "LayoutModel",
      "_view_count": null,
      "_view_module": "@jupyter-widgets/base",
      "_view_module_version": "1.2.0",
      "_view_name": "LayoutView",
      "align_content": null,
      "align_items": null,
      "align_self": null,
      "border": null,
      "bottom": null,
      "display": null,
      "flex": null,
      "flex_flow": null,
      "grid_area": null,
      "grid_auto_columns": null,
      "grid_auto_flow": null,
      "grid_auto_rows": null,
      "grid_column": null,
      "grid_gap": null,
      "grid_row": null,
      "grid_template_areas": null,
      "grid_template_columns": null,
      "grid_template_rows": null,
      "height": null,
      "justify_content": null,
      "justify_items": null,
      "left": null,
      "margin": null,
      "max_height": null,
      "max_width": null,
      "min_height": null,
      "min_width": null,
      "object_fit": null,
      "object_position": null,
      "order": null,
      "overflow": null,
      "overflow_x": null,
      "overflow_y": null,
      "padding": null,
      "right": null,
      "top": null,
      "visibility": null,
      "width": null
     }
    },
    "cde4396ccee64565bb61dbb5531cfc59": {
     "model_module": "@jupyter-widgets/controls",
     "model_module_version": "1.5.0",
     "model_name": "HBoxModel",
     "state": {
      "_dom_classes": [],
      "_model_module": "@jupyter-widgets/controls",
      "_model_module_version": "1.5.0",
      "_model_name": "HBoxModel",
      "_view_count": null,
      "_view_module": "@jupyter-widgets/controls",
      "_view_module_version": "1.5.0",
      "_view_name": "HBoxView",
      "box_style": "",
      "children": [
       "IPY_MODEL_f06bdd95f43d40c383bfdc125baa3ffc",
       "IPY_MODEL_6f48bc628ead41a6ba2ccc829a51ddfa",
       "IPY_MODEL_897027a3f942433884f955eeac6b18d9"
      ],
      "layout": "IPY_MODEL_0ecd2fb3aa3d4bc0b906d8fe077583aa"
     }
    },
    "cf7ec23e4bb649ac86ab91c4f043c721": {
     "model_module": "@jupyter-widgets/controls",
     "model_module_version": "1.5.0",
     "model_name": "HTMLModel",
     "state": {
      "_dom_classes": [],
      "_model_module": "@jupyter-widgets/controls",
      "_model_module_version": "1.5.0",
      "_model_name": "HTMLModel",
      "_view_count": null,
      "_view_module": "@jupyter-widgets/controls",
      "_view_module_version": "1.5.0",
      "_view_name": "HTMLView",
      "description": "",
      "description_tooltip": null,
      "layout": "IPY_MODEL_220015a745c44d83bdd9c4b62e907e03",
      "placeholder": "​",
      "style": "IPY_MODEL_cba5e24def0240c38cf6b03a60df9920",
      "value": " 1091/1091 [50:07&lt;00:00,  2.38s/it]"
     }
    },
    "d18142d1a92b45f6a8e87cb7cd9729f5": {
     "model_module": "@jupyter-widgets/base",
     "model_module_version": "1.2.0",
     "model_name": "LayoutModel",
     "state": {
      "_model_module": "@jupyter-widgets/base",
      "_model_module_version": "1.2.0",
      "_model_name": "LayoutModel",
      "_view_count": null,
      "_view_module": "@jupyter-widgets/base",
      "_view_module_version": "1.2.0",
      "_view_name": "LayoutView",
      "align_content": null,
      "align_items": null,
      "align_self": null,
      "border": null,
      "bottom": null,
      "display": null,
      "flex": null,
      "flex_flow": null,
      "grid_area": null,
      "grid_auto_columns": null,
      "grid_auto_flow": null,
      "grid_auto_rows": null,
      "grid_column": null,
      "grid_gap": null,
      "grid_row": null,
      "grid_template_areas": null,
      "grid_template_columns": null,
      "grid_template_rows": null,
      "height": null,
      "justify_content": null,
      "justify_items": null,
      "left": null,
      "margin": null,
      "max_height": null,
      "max_width": null,
      "min_height": null,
      "min_width": null,
      "object_fit": null,
      "object_position": null,
      "order": null,
      "overflow": null,
      "overflow_x": null,
      "overflow_y": null,
      "padding": null,
      "right": null,
      "top": null,
      "visibility": null,
      "width": null
     }
    },
    "d5ed78eee205488b846ef518fdeec540": {
     "model_module": "@jupyter-widgets/controls",
     "model_module_version": "1.5.0",
     "model_name": "HTMLModel",
     "state": {
      "_dom_classes": [],
      "_model_module": "@jupyter-widgets/controls",
      "_model_module_version": "1.5.0",
      "_model_name": "HTMLModel",
      "_view_count": null,
      "_view_module": "@jupyter-widgets/controls",
      "_view_module_version": "1.5.0",
      "_view_name": "HTMLView",
      "description": "",
      "description_tooltip": null,
      "layout": "IPY_MODEL_26cef967a04941369eb3f3e0f2662561",
      "placeholder": "​",
      "style": "IPY_MODEL_227310aae9494554881e004cc7706d5a",
      "value": " 1000/1000 [1:15:46&lt;00:00,  4.82s/it]"
     }
    },
    "d8085dff43864e47af9c9af810e949c1": {
     "model_module": "@jupyter-widgets/controls",
     "model_module_version": "1.5.0",
     "model_name": "DescriptionStyleModel",
     "state": {
      "_model_module": "@jupyter-widgets/controls",
      "_model_module_version": "1.5.0",
      "_model_name": "DescriptionStyleModel",
      "_view_count": null,
      "_view_module": "@jupyter-widgets/base",
      "_view_module_version": "1.2.0",
      "_view_name": "StyleView",
      "description_width": ""
     }
    },
    "d90406c6eefb4bab8c4a8da0487e9748": {
     "model_module": "@jupyter-widgets/base",
     "model_module_version": "1.2.0",
     "model_name": "LayoutModel",
     "state": {
      "_model_module": "@jupyter-widgets/base",
      "_model_module_version": "1.2.0",
      "_model_name": "LayoutModel",
      "_view_count": null,
      "_view_module": "@jupyter-widgets/base",
      "_view_module_version": "1.2.0",
      "_view_name": "LayoutView",
      "align_content": null,
      "align_items": null,
      "align_self": null,
      "border": null,
      "bottom": null,
      "display": null,
      "flex": null,
      "flex_flow": null,
      "grid_area": null,
      "grid_auto_columns": null,
      "grid_auto_flow": null,
      "grid_auto_rows": null,
      "grid_column": null,
      "grid_gap": null,
      "grid_row": null,
      "grid_template_areas": null,
      "grid_template_columns": null,
      "grid_template_rows": null,
      "height": null,
      "justify_content": null,
      "justify_items": null,
      "left": null,
      "margin": null,
      "max_height": null,
      "max_width": null,
      "min_height": null,
      "min_width": null,
      "object_fit": null,
      "object_position": null,
      "order": null,
      "overflow": null,
      "overflow_x": null,
      "overflow_y": null,
      "padding": null,
      "right": null,
      "top": null,
      "visibility": null,
      "width": null
     }
    },
    "db168c06df9b40439fa300fc8b1b5839": {
     "model_module": "@jupyter-widgets/controls",
     "model_module_version": "1.5.0",
     "model_name": "DescriptionStyleModel",
     "state": {
      "_model_module": "@jupyter-widgets/controls",
      "_model_module_version": "1.5.0",
      "_model_name": "DescriptionStyleModel",
      "_view_count": null,
      "_view_module": "@jupyter-widgets/base",
      "_view_module_version": "1.2.0",
      "_view_name": "StyleView",
      "description_width": ""
     }
    },
    "dc0ca8916dfe4f9193cd7674c589605d": {
     "model_module": "@jupyter-widgets/controls",
     "model_module_version": "1.5.0",
     "model_name": "DescriptionStyleModel",
     "state": {
      "_model_module": "@jupyter-widgets/controls",
      "_model_module_version": "1.5.0",
      "_model_name": "DescriptionStyleModel",
      "_view_count": null,
      "_view_module": "@jupyter-widgets/base",
      "_view_module_version": "1.2.0",
      "_view_name": "StyleView",
      "description_width": ""
     }
    },
    "dc25d82d45be4585850b600d8af204ba": {
     "model_module": "@jupyter-widgets/base",
     "model_module_version": "1.2.0",
     "model_name": "LayoutModel",
     "state": {
      "_model_module": "@jupyter-widgets/base",
      "_model_module_version": "1.2.0",
      "_model_name": "LayoutModel",
      "_view_count": null,
      "_view_module": "@jupyter-widgets/base",
      "_view_module_version": "1.2.0",
      "_view_name": "LayoutView",
      "align_content": null,
      "align_items": null,
      "align_self": null,
      "border": null,
      "bottom": null,
      "display": null,
      "flex": null,
      "flex_flow": null,
      "grid_area": null,
      "grid_auto_columns": null,
      "grid_auto_flow": null,
      "grid_auto_rows": null,
      "grid_column": null,
      "grid_gap": null,
      "grid_row": null,
      "grid_template_areas": null,
      "grid_template_columns": null,
      "grid_template_rows": null,
      "height": null,
      "justify_content": null,
      "justify_items": null,
      "left": null,
      "margin": null,
      "max_height": null,
      "max_width": null,
      "min_height": null,
      "min_width": null,
      "object_fit": null,
      "object_position": null,
      "order": null,
      "overflow": null,
      "overflow_x": null,
      "overflow_y": null,
      "padding": null,
      "right": null,
      "top": null,
      "visibility": null,
      "width": null
     }
    },
    "dcf29136a8ca443e828ae96d1a82010e": {
     "model_module": "@jupyter-widgets/controls",
     "model_module_version": "1.5.0",
     "model_name": "HTMLModel",
     "state": {
      "_dom_classes": [],
      "_model_module": "@jupyter-widgets/controls",
      "_model_module_version": "1.5.0",
      "_model_name": "HTMLModel",
      "_view_count": null,
      "_view_module": "@jupyter-widgets/controls",
      "_view_module_version": "1.5.0",
      "_view_name": "HTMLView",
      "description": "",
      "description_tooltip": null,
      "layout": "IPY_MODEL_fb561d5d6e4e472dbbf4321b6534e24d",
      "placeholder": "​",
      "style": "IPY_MODEL_55fd4e5efd7648d0b0f93945b70565c1",
      "value": " 10368/10368 [1:47:20&lt;00:00,  1.07s/it]"
     }
    },
    "df132c7b98b942fcb7207e5512324b97": {
     "model_module": "@jupyter-widgets/controls",
     "model_module_version": "1.5.0",
     "model_name": "FloatProgressModel",
     "state": {
      "_dom_classes": [],
      "_model_module": "@jupyter-widgets/controls",
      "_model_module_version": "1.5.0",
      "_model_name": "FloatProgressModel",
      "_view_count": null,
      "_view_module": "@jupyter-widgets/controls",
      "_view_module_version": "1.5.0",
      "_view_name": "ProgressView",
      "bar_style": "success",
      "description": "",
      "description_tooltip": null,
      "layout": "IPY_MODEL_c6584c7d44274b688a4bde8f5614e3f2",
      "max": 1091,
      "min": 0,
      "orientation": "horizontal",
      "style": "IPY_MODEL_e34ff954fff4415d8d65e93a7ce5000f",
      "value": 1091
     }
    },
    "e02e7eb2ffdb4365866121703d26d88d": {
     "model_module": "@jupyter-widgets/controls",
     "model_module_version": "1.5.0",
     "model_name": "DescriptionStyleModel",
     "state": {
      "_model_module": "@jupyter-widgets/controls",
      "_model_module_version": "1.5.0",
      "_model_name": "DescriptionStyleModel",
      "_view_count": null,
      "_view_module": "@jupyter-widgets/base",
      "_view_module_version": "1.2.0",
      "_view_name": "StyleView",
      "description_width": ""
     }
    },
    "e0f89e83187c4e20bdab70d8f6324d4f": {
     "model_module": "@jupyter-widgets/base",
     "model_module_version": "1.2.0",
     "model_name": "LayoutModel",
     "state": {
      "_model_module": "@jupyter-widgets/base",
      "_model_module_version": "1.2.0",
      "_model_name": "LayoutModel",
      "_view_count": null,
      "_view_module": "@jupyter-widgets/base",
      "_view_module_version": "1.2.0",
      "_view_name": "LayoutView",
      "align_content": null,
      "align_items": null,
      "align_self": null,
      "border": null,
      "bottom": null,
      "display": null,
      "flex": null,
      "flex_flow": null,
      "grid_area": null,
      "grid_auto_columns": null,
      "grid_auto_flow": null,
      "grid_auto_rows": null,
      "grid_column": null,
      "grid_gap": null,
      "grid_row": null,
      "grid_template_areas": null,
      "grid_template_columns": null,
      "grid_template_rows": null,
      "height": null,
      "justify_content": null,
      "justify_items": null,
      "left": null,
      "margin": null,
      "max_height": null,
      "max_width": null,
      "min_height": null,
      "min_width": null,
      "object_fit": null,
      "object_position": null,
      "order": null,
      "overflow": null,
      "overflow_x": null,
      "overflow_y": null,
      "padding": null,
      "right": null,
      "top": null,
      "visibility": null,
      "width": null
     }
    },
    "e1ab2581f4b64fc88c0d0e2a914a6f0b": {
     "model_module": "@jupyter-widgets/base",
     "model_module_version": "1.2.0",
     "model_name": "LayoutModel",
     "state": {
      "_model_module": "@jupyter-widgets/base",
      "_model_module_version": "1.2.0",
      "_model_name": "LayoutModel",
      "_view_count": null,
      "_view_module": "@jupyter-widgets/base",
      "_view_module_version": "1.2.0",
      "_view_name": "LayoutView",
      "align_content": null,
      "align_items": null,
      "align_self": null,
      "border": null,
      "bottom": null,
      "display": null,
      "flex": null,
      "flex_flow": null,
      "grid_area": null,
      "grid_auto_columns": null,
      "grid_auto_flow": null,
      "grid_auto_rows": null,
      "grid_column": null,
      "grid_gap": null,
      "grid_row": null,
      "grid_template_areas": null,
      "grid_template_columns": null,
      "grid_template_rows": null,
      "height": null,
      "justify_content": null,
      "justify_items": null,
      "left": null,
      "margin": null,
      "max_height": null,
      "max_width": null,
      "min_height": null,
      "min_width": null,
      "object_fit": null,
      "object_position": null,
      "order": null,
      "overflow": null,
      "overflow_x": null,
      "overflow_y": null,
      "padding": null,
      "right": null,
      "top": null,
      "visibility": null,
      "width": null
     }
    },
    "e30b0544958f45cdb960439f6547ceb5": {
     "model_module": "@jupyter-widgets/base",
     "model_module_version": "1.2.0",
     "model_name": "LayoutModel",
     "state": {
      "_model_module": "@jupyter-widgets/base",
      "_model_module_version": "1.2.0",
      "_model_name": "LayoutModel",
      "_view_count": null,
      "_view_module": "@jupyter-widgets/base",
      "_view_module_version": "1.2.0",
      "_view_name": "LayoutView",
      "align_content": null,
      "align_items": null,
      "align_self": null,
      "border": null,
      "bottom": null,
      "display": null,
      "flex": null,
      "flex_flow": null,
      "grid_area": null,
      "grid_auto_columns": null,
      "grid_auto_flow": null,
      "grid_auto_rows": null,
      "grid_column": null,
      "grid_gap": null,
      "grid_row": null,
      "grid_template_areas": null,
      "grid_template_columns": null,
      "grid_template_rows": null,
      "height": null,
      "justify_content": null,
      "justify_items": null,
      "left": null,
      "margin": null,
      "max_height": null,
      "max_width": null,
      "min_height": null,
      "min_width": null,
      "object_fit": null,
      "object_position": null,
      "order": null,
      "overflow": null,
      "overflow_x": null,
      "overflow_y": null,
      "padding": null,
      "right": null,
      "top": null,
      "visibility": null,
      "width": null
     }
    },
    "e34ff954fff4415d8d65e93a7ce5000f": {
     "model_module": "@jupyter-widgets/controls",
     "model_module_version": "1.5.0",
     "model_name": "ProgressStyleModel",
     "state": {
      "_model_module": "@jupyter-widgets/controls",
      "_model_module_version": "1.5.0",
      "_model_name": "ProgressStyleModel",
      "_view_count": null,
      "_view_module": "@jupyter-widgets/base",
      "_view_module_version": "1.2.0",
      "_view_name": "StyleView",
      "bar_color": null,
      "description_width": ""
     }
    },
    "e3ac0e4a485d48cdb81bb31e5e27ab71": {
     "model_module": "@jupyter-widgets/base",
     "model_module_version": "1.2.0",
     "model_name": "LayoutModel",
     "state": {
      "_model_module": "@jupyter-widgets/base",
      "_model_module_version": "1.2.0",
      "_model_name": "LayoutModel",
      "_view_count": null,
      "_view_module": "@jupyter-widgets/base",
      "_view_module_version": "1.2.0",
      "_view_name": "LayoutView",
      "align_content": null,
      "align_items": null,
      "align_self": null,
      "border": null,
      "bottom": null,
      "display": null,
      "flex": null,
      "flex_flow": null,
      "grid_area": null,
      "grid_auto_columns": null,
      "grid_auto_flow": null,
      "grid_auto_rows": null,
      "grid_column": null,
      "grid_gap": null,
      "grid_row": null,
      "grid_template_areas": null,
      "grid_template_columns": null,
      "grid_template_rows": null,
      "height": null,
      "justify_content": null,
      "justify_items": null,
      "left": null,
      "margin": null,
      "max_height": null,
      "max_width": null,
      "min_height": null,
      "min_width": null,
      "object_fit": null,
      "object_position": null,
      "order": null,
      "overflow": null,
      "overflow_x": null,
      "overflow_y": null,
      "padding": null,
      "right": null,
      "top": null,
      "visibility": null,
      "width": null
     }
    },
    "e405be752e9f4eaabb6ce1756f08186f": {
     "model_module": "@jupyter-widgets/controls",
     "model_module_version": "1.5.0",
     "model_name": "HTMLModel",
     "state": {
      "_dom_classes": [],
      "_model_module": "@jupyter-widgets/controls",
      "_model_module_version": "1.5.0",
      "_model_name": "HTMLModel",
      "_view_count": null,
      "_view_module": "@jupyter-widgets/controls",
      "_view_module_version": "1.5.0",
      "_view_name": "HTMLView",
      "description": "",
      "description_tooltip": null,
      "layout": "IPY_MODEL_5ff28679c3404d7aa5edd10ef69b82c7",
      "placeholder": "​",
      "style": "IPY_MODEL_97c3544304bc454cac0980dbe58a6e33",
      "value": " 1090/1090 [51:05&lt;00:00,  3.19s/it]"
     }
    },
    "e67fa7161d5c4c7982b58e1ff6e7a36b": {
     "model_module": "@jupyter-widgets/controls",
     "model_module_version": "1.5.0",
     "model_name": "HBoxModel",
     "state": {
      "_dom_classes": [],
      "_model_module": "@jupyter-widgets/controls",
      "_model_module_version": "1.5.0",
      "_model_name": "HBoxModel",
      "_view_count": null,
      "_view_module": "@jupyter-widgets/controls",
      "_view_module_version": "1.5.0",
      "_view_name": "HBoxView",
      "box_style": "",
      "children": [
       "IPY_MODEL_fe5b70b851e04d1ea3fbe8b6ee47577c",
       "IPY_MODEL_4230220d06944939ad45cbef5f9ed516",
       "IPY_MODEL_dcf29136a8ca443e828ae96d1a82010e"
      ],
      "layout": "IPY_MODEL_b42870f8c04e4d6796764848eedb3805"
     }
    },
    "e76b1d591bde48d58e77b12a4dffdaf1": {
     "model_module": "@jupyter-widgets/controls",
     "model_module_version": "1.5.0",
     "model_name": "ProgressStyleModel",
     "state": {
      "_model_module": "@jupyter-widgets/controls",
      "_model_module_version": "1.5.0",
      "_model_name": "ProgressStyleModel",
      "_view_count": null,
      "_view_module": "@jupyter-widgets/base",
      "_view_module_version": "1.2.0",
      "_view_name": "StyleView",
      "bar_color": null,
      "description_width": ""
     }
    },
    "e8b51cd5e98e49df81ca4ce028b1a045": {
     "model_module": "@jupyter-widgets/controls",
     "model_module_version": "1.5.0",
     "model_name": "DescriptionStyleModel",
     "state": {
      "_model_module": "@jupyter-widgets/controls",
      "_model_module_version": "1.5.0",
      "_model_name": "DescriptionStyleModel",
      "_view_count": null,
      "_view_module": "@jupyter-widgets/base",
      "_view_module_version": "1.2.0",
      "_view_name": "StyleView",
      "description_width": ""
     }
    },
    "e94eeb4ca232489fbf2b29af92e0e803": {
     "model_module": "@jupyter-widgets/controls",
     "model_module_version": "1.5.0",
     "model_name": "DescriptionStyleModel",
     "state": {
      "_model_module": "@jupyter-widgets/controls",
      "_model_module_version": "1.5.0",
      "_model_name": "DescriptionStyleModel",
      "_view_count": null,
      "_view_module": "@jupyter-widgets/base",
      "_view_module_version": "1.2.0",
      "_view_name": "StyleView",
      "description_width": ""
     }
    },
    "ebac50d06023490b97220a565bf79810": {
     "model_module": "@jupyter-widgets/base",
     "model_module_version": "1.2.0",
     "model_name": "LayoutModel",
     "state": {
      "_model_module": "@jupyter-widgets/base",
      "_model_module_version": "1.2.0",
      "_model_name": "LayoutModel",
      "_view_count": null,
      "_view_module": "@jupyter-widgets/base",
      "_view_module_version": "1.2.0",
      "_view_name": "LayoutView",
      "align_content": null,
      "align_items": null,
      "align_self": null,
      "border": null,
      "bottom": null,
      "display": null,
      "flex": null,
      "flex_flow": null,
      "grid_area": null,
      "grid_auto_columns": null,
      "grid_auto_flow": null,
      "grid_auto_rows": null,
      "grid_column": null,
      "grid_gap": null,
      "grid_row": null,
      "grid_template_areas": null,
      "grid_template_columns": null,
      "grid_template_rows": null,
      "height": null,
      "justify_content": null,
      "justify_items": null,
      "left": null,
      "margin": null,
      "max_height": null,
      "max_width": null,
      "min_height": null,
      "min_width": null,
      "object_fit": null,
      "object_position": null,
      "order": null,
      "overflow": null,
      "overflow_x": null,
      "overflow_y": null,
      "padding": null,
      "right": null,
      "top": null,
      "visibility": null,
      "width": null
     }
    },
    "ec2cbb50cf5844b2837ca5b5538ba244": {
     "model_module": "@jupyter-widgets/controls",
     "model_module_version": "1.5.0",
     "model_name": "HTMLModel",
     "state": {
      "_dom_classes": [],
      "_model_module": "@jupyter-widgets/controls",
      "_model_module_version": "1.5.0",
      "_model_name": "HTMLModel",
      "_view_count": null,
      "_view_module": "@jupyter-widgets/controls",
      "_view_module_version": "1.5.0",
      "_view_name": "HTMLView",
      "description": "",
      "description_tooltip": null,
      "layout": "IPY_MODEL_689dd6a7bac14eb2aaf2d351a29d57b8",
      "placeholder": "​",
      "style": "IPY_MODEL_703898df209e499c9a25996433bd5409",
      "value": "100%"
     }
    },
    "ee16ff7c84df43de87f5094f41772073": {
     "model_module": "@jupyter-widgets/base",
     "model_module_version": "1.2.0",
     "model_name": "LayoutModel",
     "state": {
      "_model_module": "@jupyter-widgets/base",
      "_model_module_version": "1.2.0",
      "_model_name": "LayoutModel",
      "_view_count": null,
      "_view_module": "@jupyter-widgets/base",
      "_view_module_version": "1.2.0",
      "_view_name": "LayoutView",
      "align_content": null,
      "align_items": null,
      "align_self": null,
      "border": null,
      "bottom": null,
      "display": null,
      "flex": null,
      "flex_flow": null,
      "grid_area": null,
      "grid_auto_columns": null,
      "grid_auto_flow": null,
      "grid_auto_rows": null,
      "grid_column": null,
      "grid_gap": null,
      "grid_row": null,
      "grid_template_areas": null,
      "grid_template_columns": null,
      "grid_template_rows": null,
      "height": null,
      "justify_content": null,
      "justify_items": null,
      "left": null,
      "margin": null,
      "max_height": null,
      "max_width": null,
      "min_height": null,
      "min_width": null,
      "object_fit": null,
      "object_position": null,
      "order": null,
      "overflow": null,
      "overflow_x": null,
      "overflow_y": null,
      "padding": null,
      "right": null,
      "top": null,
      "visibility": null,
      "width": null
     }
    },
    "ee8af1f2a6874cc8a2c8d94e4a7c1799": {
     "model_module": "@jupyter-widgets/controls",
     "model_module_version": "1.5.0",
     "model_name": "ProgressStyleModel",
     "state": {
      "_model_module": "@jupyter-widgets/controls",
      "_model_module_version": "1.5.0",
      "_model_name": "ProgressStyleModel",
      "_view_count": null,
      "_view_module": "@jupyter-widgets/base",
      "_view_module_version": "1.2.0",
      "_view_name": "StyleView",
      "bar_color": null,
      "description_width": ""
     }
    },
    "f06bdd95f43d40c383bfdc125baa3ffc": {
     "model_module": "@jupyter-widgets/controls",
     "model_module_version": "1.5.0",
     "model_name": "HTMLModel",
     "state": {
      "_dom_classes": [],
      "_model_module": "@jupyter-widgets/controls",
      "_model_module_version": "1.5.0",
      "_model_name": "HTMLModel",
      "_view_count": null,
      "_view_module": "@jupyter-widgets/controls",
      "_view_module_version": "1.5.0",
      "_view_name": "HTMLView",
      "description": "",
      "description_tooltip": null,
      "layout": "IPY_MODEL_e3ac0e4a485d48cdb81bb31e5e27ab71",
      "placeholder": "​",
      "style": "IPY_MODEL_b6ad81753dc848e2ab87f4bc25b2663d",
      "value": "special_tokens_map.json: 100%"
     }
    },
    "f14edcf33b71449db63728dfe49d8e5a": {
     "model_module": "@jupyter-widgets/controls",
     "model_module_version": "1.5.0",
     "model_name": "ProgressStyleModel",
     "state": {
      "_model_module": "@jupyter-widgets/controls",
      "_model_module_version": "1.5.0",
      "_model_name": "ProgressStyleModel",
      "_view_count": null,
      "_view_module": "@jupyter-widgets/base",
      "_view_module_version": "1.2.0",
      "_view_name": "StyleView",
      "bar_color": null,
      "description_width": ""
     }
    },
    "f437fcd4005b4f3cb6217fdeac094d9d": {
     "model_module": "@jupyter-widgets/controls",
     "model_module_version": "1.5.0",
     "model_name": "HTMLModel",
     "state": {
      "_dom_classes": [],
      "_model_module": "@jupyter-widgets/controls",
      "_model_module_version": "1.5.0",
      "_model_name": "HTMLModel",
      "_view_count": null,
      "_view_module": "@jupyter-widgets/controls",
      "_view_module_version": "1.5.0",
      "_view_name": "HTMLView",
      "description": "",
      "description_tooltip": null,
      "layout": "IPY_MODEL_a974c6e277f64556a7a84b4c0c8de59f",
      "placeholder": "​",
      "style": "IPY_MODEL_3c3a998db76c427b9582f8ec0a1f0ddd",
      "value": "100%"
     }
    },
    "f5b2d687051f4591b87d5e66a4cd7a7e": {
     "model_module": "@jupyter-widgets/controls",
     "model_module_version": "1.5.0",
     "model_name": "FloatProgressModel",
     "state": {
      "_dom_classes": [],
      "_model_module": "@jupyter-widgets/controls",
      "_model_module_version": "1.5.0",
      "_model_name": "FloatProgressModel",
      "_view_count": null,
      "_view_module": "@jupyter-widgets/controls",
      "_view_module_version": "1.5.0",
      "_view_name": "ProgressView",
      "bar_style": "success",
      "description": "",
      "description_tooltip": null,
      "layout": "IPY_MODEL_cc15cffcf1774debb4d7d2d6d509c4c0",
      "max": 1091,
      "min": 0,
      "orientation": "horizontal",
      "style": "IPY_MODEL_50484d96c22b410eb9ab6787f327e640",
      "value": 1091
     }
    },
    "f617f21ece364c1fafea9b64e14127cd": {
     "model_module": "@jupyter-widgets/base",
     "model_module_version": "1.2.0",
     "model_name": "LayoutModel",
     "state": {
      "_model_module": "@jupyter-widgets/base",
      "_model_module_version": "1.2.0",
      "_model_name": "LayoutModel",
      "_view_count": null,
      "_view_module": "@jupyter-widgets/base",
      "_view_module_version": "1.2.0",
      "_view_name": "LayoutView",
      "align_content": null,
      "align_items": null,
      "align_self": null,
      "border": null,
      "bottom": null,
      "display": null,
      "flex": null,
      "flex_flow": null,
      "grid_area": null,
      "grid_auto_columns": null,
      "grid_auto_flow": null,
      "grid_auto_rows": null,
      "grid_column": null,
      "grid_gap": null,
      "grid_row": null,
      "grid_template_areas": null,
      "grid_template_columns": null,
      "grid_template_rows": null,
      "height": null,
      "justify_content": null,
      "justify_items": null,
      "left": null,
      "margin": null,
      "max_height": null,
      "max_width": null,
      "min_height": null,
      "min_width": null,
      "object_fit": null,
      "object_position": null,
      "order": null,
      "overflow": null,
      "overflow_x": null,
      "overflow_y": null,
      "padding": null,
      "right": null,
      "top": null,
      "visibility": null,
      "width": null
     }
    },
    "fb3f9a8d90a74a199c04062810fa6777": {
     "model_module": "@jupyter-widgets/controls",
     "model_module_version": "1.5.0",
     "model_name": "DescriptionStyleModel",
     "state": {
      "_model_module": "@jupyter-widgets/controls",
      "_model_module_version": "1.5.0",
      "_model_name": "DescriptionStyleModel",
      "_view_count": null,
      "_view_module": "@jupyter-widgets/base",
      "_view_module_version": "1.2.0",
      "_view_name": "StyleView",
      "description_width": ""
     }
    },
    "fb561d5d6e4e472dbbf4321b6534e24d": {
     "model_module": "@jupyter-widgets/base",
     "model_module_version": "1.2.0",
     "model_name": "LayoutModel",
     "state": {
      "_model_module": "@jupyter-widgets/base",
      "_model_module_version": "1.2.0",
      "_model_name": "LayoutModel",
      "_view_count": null,
      "_view_module": "@jupyter-widgets/base",
      "_view_module_version": "1.2.0",
      "_view_name": "LayoutView",
      "align_content": null,
      "align_items": null,
      "align_self": null,
      "border": null,
      "bottom": null,
      "display": null,
      "flex": null,
      "flex_flow": null,
      "grid_area": null,
      "grid_auto_columns": null,
      "grid_auto_flow": null,
      "grid_auto_rows": null,
      "grid_column": null,
      "grid_gap": null,
      "grid_row": null,
      "grid_template_areas": null,
      "grid_template_columns": null,
      "grid_template_rows": null,
      "height": null,
      "justify_content": null,
      "justify_items": null,
      "left": null,
      "margin": null,
      "max_height": null,
      "max_width": null,
      "min_height": null,
      "min_width": null,
      "object_fit": null,
      "object_position": null,
      "order": null,
      "overflow": null,
      "overflow_x": null,
      "overflow_y": null,
      "padding": null,
      "right": null,
      "top": null,
      "visibility": null,
      "width": null
     }
    },
    "fb5ab1ccceff4e249c229ee22572e3da": {
     "model_module": "@jupyter-widgets/base",
     "model_module_version": "1.2.0",
     "model_name": "LayoutModel",
     "state": {
      "_model_module": "@jupyter-widgets/base",
      "_model_module_version": "1.2.0",
      "_model_name": "LayoutModel",
      "_view_count": null,
      "_view_module": "@jupyter-widgets/base",
      "_view_module_version": "1.2.0",
      "_view_name": "LayoutView",
      "align_content": null,
      "align_items": null,
      "align_self": null,
      "border": null,
      "bottom": null,
      "display": null,
      "flex": null,
      "flex_flow": null,
      "grid_area": null,
      "grid_auto_columns": null,
      "grid_auto_flow": null,
      "grid_auto_rows": null,
      "grid_column": null,
      "grid_gap": null,
      "grid_row": null,
      "grid_template_areas": null,
      "grid_template_columns": null,
      "grid_template_rows": null,
      "height": null,
      "justify_content": null,
      "justify_items": null,
      "left": null,
      "margin": null,
      "max_height": null,
      "max_width": null,
      "min_height": null,
      "min_width": null,
      "object_fit": null,
      "object_position": null,
      "order": null,
      "overflow": null,
      "overflow_x": null,
      "overflow_y": null,
      "padding": null,
      "right": null,
      "top": null,
      "visibility": null,
      "width": null
     }
    },
    "fc5911233c4e4006969b9a8b6972ac94": {
     "model_module": "@jupyter-widgets/base",
     "model_module_version": "1.2.0",
     "model_name": "LayoutModel",
     "state": {
      "_model_module": "@jupyter-widgets/base",
      "_model_module_version": "1.2.0",
      "_model_name": "LayoutModel",
      "_view_count": null,
      "_view_module": "@jupyter-widgets/base",
      "_view_module_version": "1.2.0",
      "_view_name": "LayoutView",
      "align_content": null,
      "align_items": null,
      "align_self": null,
      "border": null,
      "bottom": null,
      "display": null,
      "flex": null,
      "flex_flow": null,
      "grid_area": null,
      "grid_auto_columns": null,
      "grid_auto_flow": null,
      "grid_auto_rows": null,
      "grid_column": null,
      "grid_gap": null,
      "grid_row": null,
      "grid_template_areas": null,
      "grid_template_columns": null,
      "grid_template_rows": null,
      "height": null,
      "justify_content": null,
      "justify_items": null,
      "left": null,
      "margin": null,
      "max_height": null,
      "max_width": null,
      "min_height": null,
      "min_width": null,
      "object_fit": null,
      "object_position": null,
      "order": null,
      "overflow": null,
      "overflow_x": null,
      "overflow_y": null,
      "padding": null,
      "right": null,
      "top": null,
      "visibility": null,
      "width": null
     }
    },
    "fc848fabcd2948cf966206b60eb47f8d": {
     "model_module": "@jupyter-widgets/controls",
     "model_module_version": "1.5.0",
     "model_name": "ProgressStyleModel",
     "state": {
      "_model_module": "@jupyter-widgets/controls",
      "_model_module_version": "1.5.0",
      "_model_name": "ProgressStyleModel",
      "_view_count": null,
      "_view_module": "@jupyter-widgets/base",
      "_view_module_version": "1.2.0",
      "_view_name": "StyleView",
      "bar_color": null,
      "description_width": ""
     }
    },
    "fcac655717ee4a14a329e52af909e980": {
     "model_module": "@jupyter-widgets/controls",
     "model_module_version": "1.5.0",
     "model_name": "HTMLModel",
     "state": {
      "_dom_classes": [],
      "_model_module": "@jupyter-widgets/controls",
      "_model_module_version": "1.5.0",
      "_model_name": "HTMLModel",
      "_view_count": null,
      "_view_module": "@jupyter-widgets/controls",
      "_view_module_version": "1.5.0",
      "_view_name": "HTMLView",
      "description": "",
      "description_tooltip": null,
      "layout": "IPY_MODEL_ba934ac33fac4df6877c31363538a74a",
      "placeholder": "​",
      "style": "IPY_MODEL_42b7e911696c4b87843149c73243be8a",
      "value": " 1091/1091 [58:21&lt;00:00,  2.99s/it]"
     }
    },
    "fd4c5fe9e77e46a6b1831633ee792331": {
     "model_module": "@jupyter-widgets/controls",
     "model_module_version": "1.5.0",
     "model_name": "FloatProgressModel",
     "state": {
      "_dom_classes": [],
      "_model_module": "@jupyter-widgets/controls",
      "_model_module_version": "1.5.0",
      "_model_name": "FloatProgressModel",
      "_view_count": null,
      "_view_module": "@jupyter-widgets/controls",
      "_view_module_version": "1.5.0",
      "_view_name": "ProgressView",
      "bar_style": "success",
      "description": "",
      "description_tooltip": null,
      "layout": "IPY_MODEL_50c3857fadaa426e859bafe83cef5aaf",
      "max": 1091,
      "min": 0,
      "orientation": "horizontal",
      "style": "IPY_MODEL_07500fb888884ae095db2f82331b81b8",
      "value": 1091
     }
    },
    "fe5b70b851e04d1ea3fbe8b6ee47577c": {
     "model_module": "@jupyter-widgets/controls",
     "model_module_version": "1.5.0",
     "model_name": "HTMLModel",
     "state": {
      "_dom_classes": [],
      "_model_module": "@jupyter-widgets/controls",
      "_model_module_version": "1.5.0",
      "_model_name": "HTMLModel",
      "_view_count": null,
      "_view_module": "@jupyter-widgets/controls",
      "_view_module_version": "1.5.0",
      "_view_name": "HTMLView",
      "description": "",
      "description_tooltip": null,
      "layout": "IPY_MODEL_8c861baa66bb4d57998ce3cdb795e6f1",
      "placeholder": "​",
      "style": "IPY_MODEL_aa7efa5b25794aca899aa5084c897408",
      "value": "100%"
     }
    },
    "fefe96ccf4f3427eab8a5deff9d7c8f0": {
     "model_module": "@jupyter-widgets/base",
     "model_module_version": "1.2.0",
     "model_name": "LayoutModel",
     "state": {
      "_model_module": "@jupyter-widgets/base",
      "_model_module_version": "1.2.0",
      "_model_name": "LayoutModel",
      "_view_count": null,
      "_view_module": "@jupyter-widgets/base",
      "_view_module_version": "1.2.0",
      "_view_name": "LayoutView",
      "align_content": null,
      "align_items": null,
      "align_self": null,
      "border": null,
      "bottom": null,
      "display": null,
      "flex": null,
      "flex_flow": null,
      "grid_area": null,
      "grid_auto_columns": null,
      "grid_auto_flow": null,
      "grid_auto_rows": null,
      "grid_column": null,
      "grid_gap": null,
      "grid_row": null,
      "grid_template_areas": null,
      "grid_template_columns": null,
      "grid_template_rows": null,
      "height": null,
      "justify_content": null,
      "justify_items": null,
      "left": null,
      "margin": null,
      "max_height": null,
      "max_width": null,
      "min_height": null,
      "min_width": null,
      "object_fit": null,
      "object_position": null,
      "order": null,
      "overflow": null,
      "overflow_x": null,
      "overflow_y": null,
      "padding": null,
      "right": null,
      "top": null,
      "visibility": null,
      "width": null
     }
    },
    "ffd33ff3de39455ea5b2c5e079b71703": {
     "model_module": "@jupyter-widgets/controls",
     "model_module_version": "1.5.0",
     "model_name": "HTMLModel",
     "state": {
      "_dom_classes": [],
      "_model_module": "@jupyter-widgets/controls",
      "_model_module_version": "1.5.0",
      "_model_name": "HTMLModel",
      "_view_count": null,
      "_view_module": "@jupyter-widgets/controls",
      "_view_module_version": "1.5.0",
      "_view_name": "HTMLView",
      "description": "",
      "description_tooltip": null,
      "layout": "IPY_MODEL_6e27c95ff9af4134957e59d6c1d814d9",
      "placeholder": "​",
      "style": "IPY_MODEL_dc0ca8916dfe4f9193cd7674c589605d",
      "value": " 32%"
     }
    },
    "ffea917c233145fc84592980506112fb": {
     "model_module": "@jupyter-widgets/controls",
     "model_module_version": "1.5.0",
     "model_name": "ProgressStyleModel",
     "state": {
      "_model_module": "@jupyter-widgets/controls",
      "_model_module_version": "1.5.0",
      "_model_name": "ProgressStyleModel",
      "_view_count": null,
      "_view_module": "@jupyter-widgets/base",
      "_view_module_version": "1.2.0",
      "_view_name": "StyleView",
      "bar_color": null,
      "description_width": ""
     }
    }
   }
  }
 },
 "nbformat": 4,
 "nbformat_minor": 1
}
