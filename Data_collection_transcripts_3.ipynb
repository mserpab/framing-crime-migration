{
 "cells": [
  {
   "cell_type": "code",
   "execution_count": null,
   "metadata": {
    "colab": {
     "base_uri": "https://localhost:8080/"
    },
    "executionInfo": {
     "elapsed": 9094,
     "status": "ok",
     "timestamp": 1742503390670,
     "user": {
      "displayName": "Yana Kiprova",
      "userId": "05029747295494730402"
     },
     "user_tz": -60
    },
    "id": "Au3ZB8dSXtG-",
    "outputId": "ad88e42b-cf91-4e9b-d7a0-9fe6e40f8c57",
    "scrolled": true
   },
   "outputs": [],
   "source": [
    "!pip install youtube-transcript-api"
   ]
  },
  {
   "cell_type": "code",
   "execution_count": null,
   "metadata": {
    "id": "092ulVr_7Doi"
   },
   "outputs": [],
   "source": [
    "import requests\n",
    "import pandas as pd\n",
    "import deepl\n",
    "from datetime import datetime, timedelta\n",
    "import numpy as np\n",
    "from google.colab import files\n",
    "from tqdm.notebook import tqdm\n",
    "import time\n",
    "\n",
    "tqdm.pandas()"
   ]
  },
  {
   "cell_type": "code",
   "execution_count": null,
   "metadata": {
    "id": "BzDWKVrS7Doj"
   },
   "outputs": [],
   "source": [
    "from googleapiclient.discovery import build\n",
    "\n",
    "from youtube_transcript_api import YouTubeTranscriptApi"
   ]
  },
  {
   "cell_type": "code",
   "execution_count": null,
   "metadata": {
    "id": "0-maQ1W97Dok"
   },
   "outputs": [],
   "source": [
    "# API Key was removed"
   ]
  },
  {
   "cell_type": "code",
   "execution_count": null,
   "metadata": {
    "id": "MExzYsdV7Doq"
   },
   "outputs": [],
   "source": [
    "youtube = build(\"youtube\", \"v3\", developerKey=api_key)"
   ]
  },
  {
   "cell_type": "markdown",
   "metadata": {
    "id": "E4InoaNe7Dol"
   },
   "source": [
    "# Channel ID finder"
   ]
  },
  {
   "cell_type": "code",
   "execution_count": null,
   "metadata": {
    "colab": {
     "base_uri": "https://localhost:8080/"
    },
    "executionInfo": {
     "elapsed": 995,
     "status": "ok",
     "timestamp": 1741619643576,
     "user": {
      "displayName": "Yana Kiprova",
      "userId": "05029747295494730402"
     },
     "user_tz": -60
    },
    "id": "R9GM3RXC7Dom",
    "outputId": "1f562ef7-0fc0-4573-d623-9fc91552a380"
   },
   "outputs": [
    {
     "name": "stdout",
     "output_type": "stream",
     "text": [
      "@DiarioElComercio - Channel ID: UCLtGUPjKLqa3zgdmhKCZONg\n",
      "@atvnoticias - Channel ID: UCYG5uXS3xdsoaXIxum1pAEw\n"
     ]
    }
   ],
   "source": [
    "CHANNEL_NAMES = [\"@DiarioElComercio\", \"@atvnoticias\"]\n",
    "\n",
    "\n",
    "# Defining function that fetches channel IDs\n",
    "def get_channel_ids(api_key, channel_names):\n",
    "\n",
    "    base_url = \"https://www.googleapis.com/youtube/v3/search\"\n",
    "    results = {}\n",
    "\n",
    "    for name in channel_names:\n",
    "        params = {\n",
    "            \"part\": \"snippet\",\n",
    "            \"q\": name,\n",
    "            \"type\": \"channel\",\n",
    "            \"key\": api_key\n",
    "        }\n",
    "\n",
    "        response = requests.get(base_url, params=params).json()\n",
    "\n",
    "        if \"items\" in response and response[\"items\"]:\n",
    "            channel_id = response[\"items\"][0][\"id\"][\"channelId\"]\n",
    "            results[name] = channel_id\n",
    "        else:\n",
    "            results[name] = \"Not Found\"\n",
    "\n",
    "    return results\n",
    "\n",
    "\n",
    "\n",
    "# Fetch Channel IDs\n",
    "channel_ids = get_channel_ids(api_key, CHANNEL_NAMES)\n",
    "\n",
    "for name, channel_id in channel_ids.items():\n",
    "    print(f\"{name} - Channel ID: {channel_id}\")\n"
   ]
  },
  {
   "cell_type": "code",
   "execution_count": null,
   "metadata": {
    "id": "KIoPmi8zQI0d"
   },
   "outputs": [],
   "source": [
    "# Channel id ATV Noticias: UCYG5uXS3xdsoaXIxum1pAEw\n",
    "# Channel id El Comercio: UCLtGUPjKLqa3zgdmhKCZONg"
   ]
  },
  {
   "cell_type": "markdown",
   "metadata": {
    "id": "3YO3FIrW7Doo"
   },
   "source": [
    "# Collecting videos IDs for ATV Noticias\n",
    "\n",
    "\n",
    "\n"
   ]
  },
  {
   "cell_type": "markdown",
   "metadata": {
    "id": "uv7IsfPXefOd"
   },
   "source": [
    "## Full month periods"
   ]
  },
  {
   "cell_type": "code",
   "execution_count": null,
   "metadata": {
    "colab": {
     "base_uri": "https://localhost:8080/",
     "height": 424
    },
    "executionInfo": {
     "elapsed": 105,
     "status": "ok",
     "timestamp": 1741465652369,
     "user": {
      "displayName": "Yana Kiprova",
      "userId": "05029747295494730402"
     },
     "user_tz": -60
    },
    "id": "fEAODZKTS8kB",
    "outputId": "6e93b4b6-86c3-467a-bec6-db401b19a6bb"
   },
   "outputs": [
    {
     "data": {
      "text/html": [
       "<div>\n",
       "<style scoped>\n",
       "    .dataframe tbody tr th:only-of-type {\n",
       "        vertical-align: middle;\n",
       "    }\n",
       "\n",
       "    .dataframe tbody tr th {\n",
       "        vertical-align: top;\n",
       "    }\n",
       "\n",
       "    .dataframe thead th {\n",
       "        text-align: right;\n",
       "    }\n",
       "</style>\n",
       "<table border=\"1\" class=\"dataframe\">\n",
       "  <thead>\n",
       "    <tr style=\"text-align: right;\">\n",
       "      <th></th>\n",
       "      <th>start</th>\n",
       "      <th>end</th>\n",
       "    </tr>\n",
       "  </thead>\n",
       "  <tbody>\n",
       "    <tr>\n",
       "      <th>0</th>\n",
       "      <td>2019-02-01T00:00:00-05:00</td>\n",
       "      <td>2019-02-28T23:59:59-05:00</td>\n",
       "    </tr>\n",
       "    <tr>\n",
       "      <th>1</th>\n",
       "      <td>2019-03-01T00:00:00-05:00</td>\n",
       "      <td>2019-03-31T23:59:59-05:00</td>\n",
       "    </tr>\n",
       "    <tr>\n",
       "      <th>2</th>\n",
       "      <td>2019-04-01T00:00:00-05:00</td>\n",
       "      <td>2019-04-30T23:59:59-05:00</td>\n",
       "    </tr>\n",
       "    <tr>\n",
       "      <th>3</th>\n",
       "      <td>2019-05-01T00:00:00-05:00</td>\n",
       "      <td>2019-05-31T23:59:59-05:00</td>\n",
       "    </tr>\n",
       "    <tr>\n",
       "      <th>4</th>\n",
       "      <td>2019-06-01T00:00:00-05:00</td>\n",
       "      <td>2019-06-30T23:59:59-05:00</td>\n",
       "    </tr>\n",
       "    <tr>\n",
       "      <th>...</th>\n",
       "      <td>...</td>\n",
       "      <td>...</td>\n",
       "    </tr>\n",
       "    <tr>\n",
       "      <th>68</th>\n",
       "      <td>2024-10-01T00:00:00-05:00</td>\n",
       "      <td>2024-10-31T23:59:59-05:00</td>\n",
       "    </tr>\n",
       "    <tr>\n",
       "      <th>69</th>\n",
       "      <td>2024-11-01T00:00:00-05:00</td>\n",
       "      <td>2024-11-30T23:59:59-05:00</td>\n",
       "    </tr>\n",
       "    <tr>\n",
       "      <th>70</th>\n",
       "      <td>2024-12-01T00:00:00-05:00</td>\n",
       "      <td>2024-12-31T23:59:59-05:00</td>\n",
       "    </tr>\n",
       "    <tr>\n",
       "      <th>71</th>\n",
       "      <td>2025-01-01T00:00:00-05:00</td>\n",
       "      <td>2025-01-31T23:59:59-05:00</td>\n",
       "    </tr>\n",
       "    <tr>\n",
       "      <th>72</th>\n",
       "      <td>2025-02-01T00:00:00-05:00</td>\n",
       "      <td>2025-02-28T23:59:59-05:00</td>\n",
       "    </tr>\n",
       "  </tbody>\n",
       "</table>\n",
       "<p>73 rows × 2 columns</p>\n",
       "</div>"
      ],
      "text/plain": [
       "                        start                        end\n",
       "0   2019-02-01T00:00:00-05:00  2019-02-28T23:59:59-05:00\n",
       "1   2019-03-01T00:00:00-05:00  2019-03-31T23:59:59-05:00\n",
       "2   2019-04-01T00:00:00-05:00  2019-04-30T23:59:59-05:00\n",
       "3   2019-05-01T00:00:00-05:00  2019-05-31T23:59:59-05:00\n",
       "4   2019-06-01T00:00:00-05:00  2019-06-30T23:59:59-05:00\n",
       "..                        ...                        ...\n",
       "68  2024-10-01T00:00:00-05:00  2024-10-31T23:59:59-05:00\n",
       "69  2024-11-01T00:00:00-05:00  2024-11-30T23:59:59-05:00\n",
       "70  2024-12-01T00:00:00-05:00  2024-12-31T23:59:59-05:00\n",
       "71  2025-01-01T00:00:00-05:00  2025-01-31T23:59:59-05:00\n",
       "72  2025-02-01T00:00:00-05:00  2025-02-28T23:59:59-05:00\n",
       "\n",
       "[73 rows x 2 columns]"
      ]
     },
     "execution_count": 10,
     "metadata": {},
     "output_type": "execute_result"
    }
   ],
   "source": [
    "#Dataframe with full month periods\n",
    "\n",
    "# Define the start and end dates\n",
    "start_date = datetime(2019, 2, 1)\n",
    "end_date = datetime(2025, 3, 1)\n",
    "\n",
    "data = []\n",
    "\n",
    "# Generate the start and end date-times for each full month period\n",
    "current_date = start_date\n",
    "while current_date < end_date:\n",
    "    # Get the start date of the current month\n",
    "    start_date_str = current_date.strftime(\"%Y-%m-%dT%H:%M:%S-05:00\")\n",
    "\n",
    "    # Calculate the next month's first day for the end date\n",
    "    next_month = current_date.replace(day=28) + timedelta(days=4)  # this gives us the next month\n",
    "    end_date_str = next_month.replace(day=1) - timedelta(seconds=1)\n",
    "    end_date_str = end_date_str.strftime(\"%Y-%m-%dT%H:%M:%S-05:00\")\n",
    "\n",
    "    # Append to the data list\n",
    "    data.append([start_date_str, end_date_str])\n",
    "\n",
    "    # Move to the first day of the next month\n",
    "    current_date = next_month.replace(day=1)\n",
    "\n",
    "date_ranges = pd.DataFrame(data, columns=[\"start\", \"end\"])\n",
    "\n",
    "date_ranges\n"
   ]
  },
  {
   "cell_type": "code",
   "execution_count": null,
   "metadata": {
    "id": "P20t6hqg7Dor"
   },
   "outputs": [],
   "source": [
    "# Initial test\n",
    "channel_id = \"UCYG5uXS3xdsoaXIxum1pAEw\" # ATV\n",
    "\n",
    "# Defined keywords\n",
    "keyword = \"robo|robó|roban|robaron|delincuentes|criminales|asalto|asaltó|asaltan|asaltaron|matan|mató|mataron|ladrón|asesinato|asesinado|asesinan|asesinaron|extorsionadores|extorsionador|extorsionan|extorsionaron|extorsionó|secuestro|secuestradores|secuestrada|secuestrado|secuestró|secuestraron|balacera|balean|balearon|balazos|sicariato|mafias|mafia|sicarios\""
   ]
  },
  {
   "cell_type": "code",
   "execution_count": null,
   "metadata": {
    "id": "8RwC7U_86-1z"
   },
   "outputs": [],
   "source": [
    "# Function used for the first sample\n",
    "#Function for getting video info for one channel id, one keyword, one time frame\n",
    "# Returns dictionary of all videos found, and prints number\n",
    "\n",
    "def get_youtube_videos(api_key, channel_id, keyword, max_results=50, order=\"date\",\n",
    "                       published_after=None, published_before=None):\n",
    "\n",
    "    videos = []\n",
    "    # Prepare API request parameters\n",
    "    params = {\n",
    "        \"part\": \"snippet\",\n",
    "        \"channelId\": channel_id,\n",
    "        \"q\": keyword,\n",
    "        \"type\": \"video\",\n",
    "        \"maxResults\": max_results,\n",
    "        \"order\": order,\n",
    "    }\n",
    "\n",
    "    if published_after:\n",
    "        params[\"publishedAfter\"] = published_after\n",
    "\n",
    "    if published_before:\n",
    "        params[\"publishedBefore\"] = published_before\n",
    "\n",
    "    # Execute API request\n",
    "    request = youtube.search().list(**params)\n",
    "    response = request.execute()\n",
    "\n",
    "    # Extract video details\n",
    "    for item in response.get(\"items\", []):\n",
    "        video_id = item[\"id\"][\"videoId\"]\n",
    "        video_title = item[\"snippet\"][\"title\"]\n",
    "        video_url = f\"https://www.youtube.com/watch?v={video_id}\"\n",
    "        video_date = item[\"snippet\"][\"publishedAt\"]\n",
    "\n",
    "        videos.append({\n",
    "            \"video_id\": video_id,\n",
    "            \"title\": video_title,\n",
    "            \"url\": video_url,\n",
    "            \"channel\": channel_id,\n",
    "            \"keyword\": keyword,\n",
    "            \"video_date\": video_date})\n",
    "\n",
    "    print(\"Number of videos found between \" + published_after + \" and \" + published_before + \": \" + str(len(videos)))\n",
    "\n",
    "    return videos"
   ]
  },
  {
   "cell_type": "code",
   "execution_count": null,
   "metadata": {
    "id": "LLjTn6cn7Dos",
    "outputId": "36659d61-4bf2-4422-e60a-83462d2897b8"
   },
   "outputs": [
    {
     "name": "stdout",
     "output_type": "stream",
     "text": [
      "Number of videos found between 2019-02-01T00:00:00-05:00 and 2019-02-28T23:59:59-05:00: 32\n",
      "Number of videos found between 2019-03-01T00:00:00-05:00 and 2019-03-31T23:59:59-05:00: 42\n",
      "Number of videos found between 2019-04-01T00:00:00-05:00 and 2019-04-30T23:59:59-05:00: 38\n",
      "Number of videos found between 2019-05-01T00:00:00-05:00 and 2019-05-31T23:59:59-05:00: 50\n",
      "Number of videos found between 2019-06-01T00:00:00-05:00 and 2019-06-30T23:59:59-05:00: 50\n",
      "Number of videos found between 2019-07-01T00:00:00-05:00 and 2019-07-31T23:59:59-05:00: 18\n",
      "Number of videos found between 2019-08-01T00:00:00-05:00 and 2019-08-31T23:59:59-05:00: 8\n",
      "Number of videos found between 2019-09-01T00:00:00-05:00 and 2019-09-30T23:59:59-05:00: 50\n",
      "Number of videos found between 2019-10-01T00:00:00-05:00 and 2019-10-31T23:59:59-05:00: 26\n",
      "Number of videos found between 2019-11-01T00:00:00-05:00 and 2019-11-30T23:59:59-05:00: 18\n",
      "Number of videos found between 2019-12-01T00:00:00-05:00 and 2019-12-31T23:59:59-05:00: 35\n",
      "Number of videos found between 2020-01-01T00:00:00-05:00 and 2020-01-31T23:59:59-05:00: 50\n",
      "Number of videos found between 2020-02-01T00:00:00-05:00 and 2020-02-29T23:59:59-05:00: 50\n",
      "Number of videos found between 2020-03-01T00:00:00-05:00 and 2020-03-31T23:59:59-05:00: 14\n",
      "Number of videos found between 2020-04-01T00:00:00-05:00 and 2020-04-30T23:59:59-05:00: 8\n",
      "Number of videos found between 2020-05-01T00:00:00-05:00 and 2020-05-31T23:59:59-05:00: 9\n",
      "Number of videos found between 2020-06-01T00:00:00-05:00 and 2020-06-30T23:59:59-05:00: 6\n",
      "Number of videos found between 2020-07-01T00:00:00-05:00 and 2020-07-31T23:59:59-05:00: 25\n",
      "Number of videos found between 2020-08-01T00:00:00-05:00 and 2020-08-31T23:59:59-05:00: 19\n",
      "Number of videos found between 2020-09-01T00:00:00-05:00 and 2020-09-30T23:59:59-05:00: 14\n",
      "Number of videos found between 2020-10-01T00:00:00-05:00 and 2020-10-31T23:59:59-05:00: 36\n",
      "Number of videos found between 2020-11-01T00:00:00-05:00 and 2020-11-30T23:59:59-05:00: 27\n",
      "Number of videos found between 2020-12-01T00:00:00-05:00 and 2020-12-31T23:59:59-05:00: 32\n",
      "Number of videos found between 2021-01-01T00:00:00-05:00 and 2021-01-31T23:59:59-05:00: 26\n",
      "Number of videos found between 2021-02-01T00:00:00-05:00 and 2021-02-28T23:59:59-05:00: 25\n",
      "Number of videos found between 2021-03-01T00:00:00-05:00 and 2021-03-31T23:59:59-05:00: 20\n",
      "Number of videos found between 2021-04-01T00:00:00-05:00 and 2021-04-30T23:59:59-05:00: 15\n",
      "Number of videos found between 2021-05-01T00:00:00-05:00 and 2021-05-31T23:59:59-05:00: 13\n",
      "Number of videos found between 2021-06-01T00:00:00-05:00 and 2021-06-30T23:59:59-05:00: 4\n",
      "Number of videos found between 2021-07-01T00:00:00-05:00 and 2021-07-31T23:59:59-05:00: 5\n",
      "Number of videos found between 2021-08-01T00:00:00-05:00 and 2021-08-31T23:59:59-05:00: 7\n",
      "Number of videos found between 2021-09-01T00:00:00-05:00 and 2021-09-30T23:59:59-05:00: 18\n",
      "Number of videos found between 2021-10-01T00:00:00-05:00 and 2021-10-31T23:59:59-05:00: 18\n",
      "Number of videos found between 2021-11-01T00:00:00-05:00 and 2021-11-30T23:59:59-05:00: 32\n",
      "Number of videos found between 2021-12-01T00:00:00-05:00 and 2021-12-31T23:59:59-05:00: 43\n",
      "Number of videos found between 2022-01-01T00:00:00-05:00 and 2022-01-31T23:59:59-05:00: 30\n",
      "Number of videos found between 2022-02-01T00:00:00-05:00 and 2022-02-28T23:59:59-05:00: 29\n",
      "Number of videos found between 2022-03-01T00:00:00-05:00 and 2022-03-31T23:59:59-05:00: 17\n",
      "Number of videos found between 2022-04-01T00:00:00-05:00 and 2022-04-30T23:59:59-05:00: 13\n",
      "Number of videos found between 2022-05-01T00:00:00-05:00 and 2022-05-31T23:59:59-05:00: 28\n",
      "Number of videos found between 2022-06-01T00:00:00-05:00 and 2022-06-30T23:59:59-05:00: 33\n",
      "Number of videos found between 2022-07-01T00:00:00-05:00 and 2022-07-31T23:59:59-05:00: 32\n",
      "Number of videos found between 2022-08-01T00:00:00-05:00 and 2022-08-31T23:59:59-05:00: 23\n",
      "Number of videos found between 2022-09-01T00:00:00-05:00 and 2022-09-30T23:59:59-05:00: 37\n",
      "Number of videos found between 2022-10-01T00:00:00-05:00 and 2022-10-31T23:59:59-05:00: 50\n",
      "Number of videos found between 2022-11-01T00:00:00-05:00 and 2022-11-30T23:59:59-05:00: 50\n",
      "Number of videos found between 2022-12-01T00:00:00-05:00 and 2022-12-31T23:59:59-05:00: 36\n",
      "Number of videos found between 2023-01-01T00:00:00-05:00 and 2023-01-31T23:59:59-05:00: 50\n",
      "Number of videos found between 2023-02-01T00:00:00-05:00 and 2023-02-28T23:59:59-05:00: 50\n",
      "Number of videos found between 2023-03-01T00:00:00-05:00 and 2023-03-31T23:59:59-05:00: 50\n",
      "Number of videos found between 2023-04-01T00:00:00-05:00 and 2023-04-30T23:59:59-05:00: 50\n",
      "Number of videos found between 2023-05-01T00:00:00-05:00 and 2023-05-31T23:59:59-05:00: 50\n",
      "Number of videos found between 2023-06-01T00:00:00-05:00 and 2023-06-30T23:59:59-05:00: 50\n",
      "Number of videos found between 2023-07-01T00:00:00-05:00 and 2023-07-31T23:59:59-05:00: 50\n",
      "Number of videos found between 2023-08-01T00:00:00-05:00 and 2023-08-31T23:59:59-05:00: 50\n",
      "Number of videos found between 2023-09-01T00:00:00-05:00 and 2023-09-30T23:59:59-05:00: 50\n",
      "Number of videos found between 2023-10-01T00:00:00-05:00 and 2023-10-31T23:59:59-05:00: 50\n",
      "Number of videos found between 2023-11-01T00:00:00-05:00 and 2023-11-30T23:59:59-05:00: 50\n",
      "Number of videos found between 2023-12-01T00:00:00-05:00 and 2023-12-31T23:59:59-05:00: 50\n",
      "Number of videos found between 2024-01-01T00:00:00-05:00 and 2024-01-31T23:59:59-05:00: 50\n",
      "Number of videos found between 2024-02-01T00:00:00-05:00 and 2024-02-29T23:59:59-05:00: 50\n",
      "Number of videos found between 2024-03-01T00:00:00-05:00 and 2024-03-31T23:59:59-05:00: 50\n",
      "Number of videos found between 2024-04-01T00:00:00-05:00 and 2024-04-30T23:59:59-05:00: 50\n",
      "Number of videos found between 2024-05-01T00:00:00-05:00 and 2024-05-31T23:59:59-05:00: 50\n",
      "Number of videos found between 2024-06-01T00:00:00-05:00 and 2024-06-30T23:59:59-05:00: 50\n",
      "Number of videos found between 2024-07-01T00:00:00-05:00 and 2024-07-31T23:59:59-05:00: 50\n",
      "Number of videos found between 2024-08-01T00:00:00-05:00 and 2024-08-31T23:59:59-05:00: 50\n",
      "Number of videos found between 2024-09-01T00:00:00-05:00 and 2024-09-30T23:59:59-05:00: 50\n",
      "Number of videos found between 2024-10-01T00:00:00-05:00 and 2024-10-31T23:59:59-05:00: 50\n",
      "Number of videos found between 2024-11-01T00:00:00-05:00 and 2024-11-30T23:59:59-05:00: 50\n",
      "Number of videos found between 2024-12-01T00:00:00-05:00 and 2024-12-31T23:59:59-05:00: 50\n",
      "Number of videos found between 2025-01-01T00:00:00-05:00 and 2025-01-31T23:59:59-05:00: 50\n",
      "Number of videos found between 2025-02-01T00:00:00-05:00 and 2025-02-28T23:59:59-05:00: 50\n"
     ]
    }
   ],
   "source": [
    "# First saample creation\n",
    "# Create a for loop that goes through each time frame\n",
    "    # gets all youtube videos and store them in a dataframe\n",
    "\n",
    "channel_id = \"UCYG5uXS3xdsoaXIxum1pAEw\" # ATV\n",
    "max_results = 50\n",
    "order = \"date\"\n",
    "keyword = \"robo|robó|roban|robaron|delincuentes|criminales|asalto|asaltó|asaltan|asaltaron|matan|mató|mataron|ladrón|asesinato|asesinado|asesinan|asesinaron|extorsionadores|extorsionador|extorsionan|extorsionaron|extorsionó|secuestro|secuestradores|secuestrada|secuestrado|secuestró|secuestraron|balacera|balean|balearon|balazos|sicariato|mafias|mafia|sicarios\"\n",
    "\n",
    "# Create empty dataframe for first time running it\n",
    "df = pd.DataFrame(columns=['video_id','title','url','channel','keyword','video_date'])\n",
    "\n",
    "for index, row in date_ranges.iterrows():\n",
    "    published_after = row['start']\n",
    "    published_before = row['end']\n",
    "\n",
    "    df_new = pd.DataFrame.from_records(get_youtube_videos(api_key, channel_id, keyword, max_results,\n",
    "                                                          order, published_after, published_before))\n",
    "    df = pd.concat([df, df_new], ignore_index=True)"
   ]
  },
  {
   "cell_type": "code",
   "execution_count": null,
   "metadata": {
    "id": "Z0pvTGGZ7Dot",
    "outputId": "8995f8a7-8b14-4a09-eb23-89190c217b03"
   },
   "outputs": [
    {
     "data": {
      "text/plain": [
       "(2561, 6)"
      ]
     },
     "execution_count": 28,
     "metadata": {},
     "output_type": "execute_result"
    }
   ],
   "source": [
    "df.shape"
   ]
  },
  {
   "cell_type": "code",
   "execution_count": null,
   "metadata": {
    "id": "9Ng_t5NY7Dot"
   },
   "outputs": [],
   "source": [
    "# Save df as csv\n",
    "df.to_csv(\"video_titles.csv\")"
   ]
  },
  {
   "cell_type": "code",
   "execution_count": null,
   "metadata": {
    "id": "Bdnz0pR87Dor"
   },
   "outputs": [],
   "source": [
    "\n",
    "# new function\n",
    "#Function for getting video info for one channel id, one keyword, one time frame\n",
    "# Returns dictionary of all videos found and number of videos, and prints number\n",
    "#\n",
    "\n",
    "def get_youtube_videos(api_key, channel_id, keyword, max_results=50, order=\"date\",\n",
    "                       published_after=None, published_before=None):\n",
    "\n",
    "    videos = []\n",
    "\n",
    "    # Prepare API request parameters\n",
    "    params = {\n",
    "        \"part\": \"snippet\",\n",
    "        \"channelId\": channel_id,\n",
    "        \"q\": keyword,\n",
    "        \"type\": \"video\",\n",
    "        \"maxResults\": max_results,\n",
    "        \"order\": order,\n",
    "    }\n",
    "\n",
    "    if published_after:\n",
    "        params[\"publishedAfter\"] = published_after\n",
    "\n",
    "    if published_before:\n",
    "        params[\"publishedBefore\"] = published_before\n",
    "\n",
    "    # Execute API request\n",
    "    request = youtube.search().list(**params)\n",
    "    response = request.execute()\n",
    "\n",
    "    # Extract video details\n",
    "    for item in response.get(\"items\", []):\n",
    "        video_id = item[\"id\"][\"videoId\"]\n",
    "        video_title = item[\"snippet\"][\"title\"]\n",
    "        video_url = f\"https://www.youtube.com/watch?v={video_id}\"\n",
    "        video_date = item[\"snippet\"][\"publishedAt\"]\n",
    "\n",
    "        videos.append({\n",
    "            \"video_id\": video_id,\n",
    "            \"title\": video_title,\n",
    "            \"url\": video_url,\n",
    "            \"channel\": channel_id,\n",
    "            \"keyword\": keyword,\n",
    "            \"video_date\": video_date})\n",
    "\n",
    "\n",
    "    print(\"Number of videos found between \" + published_after + \" and \" + published_before + \": \" + str(len(videos)))\n",
    "\n",
    "\n",
    "\n",
    "    return videos, len(videos)"
   ]
  },
  {
   "cell_type": "code",
   "execution_count": null,
   "metadata": {
    "colab": {
     "base_uri": "https://localhost:8080/"
    },
    "executionInfo": {
     "elapsed": 12324,
     "status": "ok",
     "timestamp": 1741467854545,
     "user": {
      "displayName": "Yana Kiprova",
      "userId": "05029747295494730402"
     },
     "user_tz": -60
    },
    "id": "zrDSvFfn5N8O",
    "outputId": "206deea9-0441-4034-9146-4fa0bb9fea78"
   },
   "outputs": [
    {
     "name": "stdout",
     "output_type": "stream",
     "text": [
      "Number of videos found between 2019-02-01T00:00:00-05:00 and 2019-02-28T23:59:59-05:00: 0\n",
      "Number of videos found between 2019-03-01T00:00:00-05:00 and 2019-03-31T23:59:59-05:00: 0\n",
      "Number of videos found between 2019-04-01T00:00:00-05:00 and 2019-04-30T23:59:59-05:00: 0\n",
      "Number of videos found between 2019-05-01T00:00:00-05:00 and 2019-05-31T23:59:59-05:00: 0\n",
      "Number of videos found between 2019-06-01T00:00:00-05:00 and 2019-06-30T23:59:59-05:00: 0\n",
      "Number of videos found between 2019-07-01T00:00:00-05:00 and 2019-07-31T23:59:59-05:00: 0\n",
      "Number of videos found between 2019-08-01T00:00:00-05:00 and 2019-08-31T23:59:59-05:00: 0\n",
      "Number of videos found between 2019-09-01T00:00:00-05:00 and 2019-09-30T23:59:59-05:00: 0\n",
      "Number of videos found between 2019-10-01T00:00:00-05:00 and 2019-10-31T23:59:59-05:00: 0\n",
      "Number of videos found between 2019-11-01T00:00:00-05:00 and 2019-11-30T23:59:59-05:00: 0\n",
      "Number of videos found between 2019-12-01T00:00:00-05:00 and 2019-12-31T23:59:59-05:00: 0\n",
      "Number of videos found between 2020-01-01T00:00:00-05:00 and 2020-01-31T23:59:59-05:00: 0\n",
      "Number of videos found between 2020-02-01T00:00:00-05:00 and 2020-02-29T23:59:59-05:00: 0\n",
      "Number of videos found between 2020-03-01T00:00:00-05:00 and 2020-03-31T23:59:59-05:00: 0\n",
      "Number of videos found between 2020-04-01T00:00:00-05:00 and 2020-04-30T23:59:59-05:00: 0\n",
      "Number of videos found between 2020-05-01T00:00:00-05:00 and 2020-05-31T23:59:59-05:00: 0\n",
      "Number of videos found between 2020-06-01T00:00:00-05:00 and 2020-06-30T23:59:59-05:00: 0\n",
      "Number of videos found between 2020-07-01T00:00:00-05:00 and 2020-07-31T23:59:59-05:00: 0\n",
      "Number of videos found between 2020-08-01T00:00:00-05:00 and 2020-08-31T23:59:59-05:00: 0\n",
      "Number of videos found between 2020-09-01T00:00:00-05:00 and 2020-09-30T23:59:59-05:00: 0\n",
      "Number of videos found between 2020-10-01T00:00:00-05:00 and 2020-10-31T23:59:59-05:00: 0\n",
      "Number of videos found between 2020-11-01T00:00:00-05:00 and 2020-11-30T23:59:59-05:00: 0\n",
      "Number of videos found between 2020-12-01T00:00:00-05:00 and 2020-12-31T23:59:59-05:00: 0\n",
      "Number of videos found between 2021-01-01T00:00:00-05:00 and 2021-01-31T23:59:59-05:00: 0\n",
      "Number of videos found between 2021-02-01T00:00:00-05:00 and 2021-02-28T23:59:59-05:00: 0\n",
      "Number of videos found between 2021-03-01T00:00:00-05:00 and 2021-03-31T23:59:59-05:00: 0\n",
      "Number of videos found between 2021-04-01T00:00:00-05:00 and 2021-04-30T23:59:59-05:00: 0\n",
      "Number of videos found between 2021-05-01T00:00:00-05:00 and 2021-05-31T23:59:59-05:00: 0\n",
      "Number of videos found between 2021-06-01T00:00:00-05:00 and 2021-06-30T23:59:59-05:00: 0\n",
      "Number of videos found between 2021-07-01T00:00:00-05:00 and 2021-07-31T23:59:59-05:00: 0\n",
      "Number of videos found between 2021-08-01T00:00:00-05:00 and 2021-08-31T23:59:59-05:00: 0\n",
      "Number of videos found between 2021-09-01T00:00:00-05:00 and 2021-09-30T23:59:59-05:00: 0\n",
      "Number of videos found between 2021-10-01T00:00:00-05:00 and 2021-10-31T23:59:59-05:00: 0\n",
      "Number of videos found between 2021-11-01T00:00:00-05:00 and 2021-11-30T23:59:59-05:00: 0\n",
      "Number of videos found between 2021-12-01T00:00:00-05:00 and 2021-12-31T23:59:59-05:00: 0\n",
      "Number of videos found between 2022-01-01T00:00:00-05:00 and 2022-01-31T23:59:59-05:00: 0\n",
      "Number of videos found between 2022-02-01T00:00:00-05:00 and 2022-02-28T23:59:59-05:00: 0\n",
      "Number of videos found between 2022-03-01T00:00:00-05:00 and 2022-03-31T23:59:59-05:00: 0\n",
      "Number of videos found between 2022-04-01T00:00:00-05:00 and 2022-04-30T23:59:59-05:00: 0\n",
      "Number of videos found between 2022-05-01T00:00:00-05:00 and 2022-05-31T23:59:59-05:00: 0\n",
      "Number of videos found between 2022-06-01T00:00:00-05:00 and 2022-06-30T23:59:59-05:00: 0\n",
      "Number of videos found between 2022-07-01T00:00:00-05:00 and 2022-07-31T23:59:59-05:00: 0\n",
      "Number of videos found between 2022-08-01T00:00:00-05:00 and 2022-08-31T23:59:59-05:00: 0\n",
      "Number of videos found between 2022-09-01T00:00:00-05:00 and 2022-09-30T23:59:59-05:00: 0\n",
      "Number of videos found between 2022-10-01T00:00:00-05:00 and 2022-10-31T23:59:59-05:00: 0\n",
      "Number of videos found between 2022-11-01T00:00:00-05:00 and 2022-11-30T23:59:59-05:00: 0\n",
      "Number of videos found between 2022-12-01T00:00:00-05:00 and 2022-12-31T23:59:59-05:00: 0\n",
      "Number of videos found between 2023-01-01T00:00:00-05:00 and 2023-01-31T23:59:59-05:00: 50\n",
      "Number of videos found between 2023-02-01T00:00:00-05:00 and 2023-02-28T23:59:59-05:00: 50\n",
      "Number of videos found between 2023-03-01T00:00:00-05:00 and 2023-03-31T23:59:59-05:00: 50\n",
      "Number of videos found between 2023-04-01T00:00:00-05:00 and 2023-04-30T23:59:59-05:00: 50\n",
      "Number of videos found between 2023-05-01T00:00:00-05:00 and 2023-05-31T23:59:59-05:00: 50\n",
      "Number of videos found between 2023-06-01T00:00:00-05:00 and 2023-06-30T23:59:59-05:00: 50\n",
      "Number of videos found between 2023-07-01T00:00:00-05:00 and 2023-07-31T23:59:59-05:00: 50\n",
      "Number of videos found between 2023-08-01T00:00:00-05:00 and 2023-08-31T23:59:59-05:00: 50\n",
      "Number of videos found between 2023-09-01T00:00:00-05:00 and 2023-09-30T23:59:59-05:00: 50\n",
      "Number of videos found between 2023-10-01T00:00:00-05:00 and 2023-10-31T23:59:59-05:00: 50\n",
      "Number of videos found between 2023-11-01T00:00:00-05:00 and 2023-11-30T23:59:59-05:00: 50\n",
      "Number of videos found between 2023-12-01T00:00:00-05:00 and 2023-12-31T23:59:59-05:00: 50\n",
      "Number of videos found between 2024-01-01T00:00:00-05:00 and 2024-01-31T23:59:59-05:00: 50\n",
      "Number of videos found between 2024-02-01T00:00:00-05:00 and 2024-02-29T23:59:59-05:00: 50\n",
      "Number of videos found between 2024-03-01T00:00:00-05:00 and 2024-03-31T23:59:59-05:00: 50\n",
      "Number of videos found between 2024-04-01T00:00:00-05:00 and 2024-04-30T23:59:59-05:00: 50\n",
      "Number of videos found between 2024-05-01T00:00:00-05:00 and 2024-05-31T23:59:59-05:00: 50\n",
      "Number of videos found between 2024-06-01T00:00:00-05:00 and 2024-06-30T23:59:59-05:00: 50\n",
      "Number of videos found between 2024-07-01T00:00:00-05:00 and 2024-07-31T23:59:59-05:00: 50\n",
      "Number of videos found between 2024-08-01T00:00:00-05:00 and 2024-08-31T23:59:59-05:00: 50\n",
      "Number of videos found between 2024-09-01T00:00:00-05:00 and 2024-09-30T23:59:59-05:00: 50\n",
      "Number of videos found between 2024-10-01T00:00:00-05:00 and 2024-10-31T23:59:59-05:00: 50\n",
      "Number of videos found between 2024-11-01T00:00:00-05:00 and 2024-11-30T23:59:59-05:00: 50\n",
      "Number of videos found between 2024-12-01T00:00:00-05:00 and 2024-12-31T23:59:59-05:00: 50\n",
      "Number of videos found between 2025-01-01T00:00:00-05:00 and 2025-01-31T23:59:59-05:00: 50\n",
      "Number of videos found between 2025-02-01T00:00:00-05:00 and 2025-02-28T23:59:59-05:00: 50\n"
     ]
    }
   ],
   "source": [
    "\n",
    "# applying new function\n",
    "# Create a for loop that goes through each time frame\n",
    "    # gets all youtube videos and store them in a dataframe\n",
    "\n",
    "channel_id = \"UCYG5uXS3xdsoaXIxum1pAEw\" # ATV\n",
    "max_results = 50\n",
    "order = \"date\"\n",
    "keyword = \"robo|robó|roban|robaron|delincuentes|criminales|asalto|asaltó|asaltan|asaltaron|matan|mató|mataron|ladrón|asesinato|asesinado|asesinan|asesinaron|extorsionadores|extorsionador|extorsionan|extorsionaron|extorsionó|secuestro|secuestradores|secuestrada|secuestrado|secuestró|secuestraron|balacera|balean|balearon|balazos|sicariato|mafias|mafia|sicarios\"\n",
    "\n",
    "# Create empty dataframe for first time running it\n",
    "df = pd.DataFrame(columns=['video_id','title','url','channel','keyword','video_date'])\n",
    "videos_list = []\n",
    "videos_count_list = []\n",
    "\n",
    "for index, row in date_ranges.iterrows():\n",
    "    published_after = row['start']\n",
    "    published_before = row['end']\n",
    "\n",
    "\n",
    "    all = get_youtube_videos(api_key, channel_id, keyword, max_results,\n",
    "                                                          order, published_after, published_before)\n",
    "    videos = all[0]\n",
    "    video_count = all[1]\n",
    "    videos_list.append(videos)\n",
    "    videos_count_list.append(video_count)\n"
   ]
  },
  {
   "cell_type": "code",
   "execution_count": null,
   "metadata": {
    "id": "QESYOJYbZF4I"
   },
   "outputs": [],
   "source": [
    "flattened_list = np.concatenate(videos_list).tolist()\n",
    "df1 = pd.DataFrame(flattened_list)\n",
    "df1.drop(columns=['keyword'], inplace=True)"
   ]
  },
  {
   "cell_type": "code",
   "execution_count": null,
   "metadata": {
    "id": "OJ0eCt1GQI0j",
    "outputId": "0a8c2a58-ccc1-41d8-ee32-470d9eed2c5e"
   },
   "outputs": [],
   "source": [
    "df1.head()"
   ]
  },
  {
   "cell_type": "code",
   "execution_count": null,
   "metadata": {
    "id": "K2nYELKsauA-"
   },
   "outputs": [],
   "source": [
    "df1.to_csv(\"videos_ATV_1.csv\")"
   ]
  },
  {
   "cell_type": "code",
   "execution_count": null,
   "metadata": {
    "id": "aWLStJC4bULY"
   },
   "outputs": [],
   "source": [
    "date_ranges['videos_count'] = videos_count_list"
   ]
  },
  {
   "cell_type": "code",
   "execution_count": null,
   "metadata": {
    "id": "5vIwmOnmbdmA"
   },
   "outputs": [],
   "source": [
    "date_ranges.to_csv(\"date_ranges_ATV_1.csv\")"
   ]
  },
  {
   "cell_type": "code",
   "execution_count": null,
   "metadata": {
    "id": "d0Ekv1VkQI0k",
    "outputId": "061b60c7-4b37-49e9-a8d7-ae2f8b30e884"
   },
   "outputs": [
    {
     "data": {
      "text/html": [
       "<div>\n",
       "<style scoped>\n",
       "    .dataframe tbody tr th:only-of-type {\n",
       "        vertical-align: middle;\n",
       "    }\n",
       "\n",
       "    .dataframe tbody tr th {\n",
       "        vertical-align: top;\n",
       "    }\n",
       "\n",
       "    .dataframe thead th {\n",
       "        text-align: right;\n",
       "    }\n",
       "</style>\n",
       "<table border=\"1\" class=\"dataframe\">\n",
       "  <thead>\n",
       "    <tr style=\"text-align: right;\">\n",
       "      <th></th>\n",
       "      <th>start</th>\n",
       "      <th>end</th>\n",
       "      <th>videos_count</th>\n",
       "    </tr>\n",
       "  </thead>\n",
       "  <tbody>\n",
       "    <tr>\n",
       "      <th>68</th>\n",
       "      <td>2024-10-01T00:00:00-05:00</td>\n",
       "      <td>2024-10-31T23:59:59-05:00</td>\n",
       "      <td>50</td>\n",
       "    </tr>\n",
       "    <tr>\n",
       "      <th>69</th>\n",
       "      <td>2024-11-01T00:00:00-05:00</td>\n",
       "      <td>2024-11-30T23:59:59-05:00</td>\n",
       "      <td>50</td>\n",
       "    </tr>\n",
       "    <tr>\n",
       "      <th>70</th>\n",
       "      <td>2024-12-01T00:00:00-05:00</td>\n",
       "      <td>2024-12-31T23:59:59-05:00</td>\n",
       "      <td>50</td>\n",
       "    </tr>\n",
       "    <tr>\n",
       "      <th>71</th>\n",
       "      <td>2025-01-01T00:00:00-05:00</td>\n",
       "      <td>2025-01-31T23:59:59-05:00</td>\n",
       "      <td>50</td>\n",
       "    </tr>\n",
       "    <tr>\n",
       "      <th>72</th>\n",
       "      <td>2025-02-01T00:00:00-05:00</td>\n",
       "      <td>2025-02-28T23:59:59-05:00</td>\n",
       "      <td>50</td>\n",
       "    </tr>\n",
       "  </tbody>\n",
       "</table>\n",
       "</div>"
      ],
      "text/plain": [
       "                        start                        end  videos_count\n",
       "68  2024-10-01T00:00:00-05:00  2024-10-31T23:59:59-05:00            50\n",
       "69  2024-11-01T00:00:00-05:00  2024-11-30T23:59:59-05:00            50\n",
       "70  2024-12-01T00:00:00-05:00  2024-12-31T23:59:59-05:00            50\n",
       "71  2025-01-01T00:00:00-05:00  2025-01-31T23:59:59-05:00            50\n",
       "72  2025-02-01T00:00:00-05:00  2025-02-28T23:59:59-05:00            50"
      ]
     },
     "execution_count": 22,
     "metadata": {},
     "output_type": "execute_result"
    }
   ],
   "source": [
    "date_ranges.tail()"
   ]
  },
  {
   "cell_type": "markdown",
   "metadata": {
    "id": "qryYCJJ9ZgXY"
   },
   "source": [
    "## Half-month periods"
   ]
  },
  {
   "cell_type": "code",
   "execution_count": null,
   "metadata": {
    "colab": {
     "base_uri": "https://localhost:8080/"
    },
    "executionInfo": {
     "elapsed": 30,
     "status": "ok",
     "timestamp": 1741540013162,
     "user": {
      "displayName": "Yana Kiprova",
      "userId": "05029747295494730402"
     },
     "user_tz": -60
    },
    "id": "iLgoCXyU1e3u",
    "outputId": "0e8d9493-3d9f-4e2b-fda7-4c4114a59e61"
   },
   "outputs": [
    {
     "name": "stdout",
     "output_type": "stream",
     "text": [
      "                        start                        end\n",
      "0   2023-01-01T00:00:00-05:00  2023-01-15T23:59:59-05:00\n",
      "1   2023-01-16T00:00:00-05:00  2023-01-31T23:59:59-05:00\n",
      "2   2023-02-01T00:00:00-05:00  2023-02-15T23:59:59-05:00\n",
      "3   2023-02-16T00:00:00-05:00  2023-02-28T23:59:59-05:00\n",
      "4   2023-03-01T00:00:00-05:00  2023-03-15T23:59:59-05:00\n",
      "5   2023-03-16T00:00:00-05:00  2023-03-31T23:59:59-05:00\n",
      "6   2023-04-01T00:00:00-05:00  2023-04-15T23:59:59-05:00\n",
      "7   2023-04-16T00:00:00-05:00  2023-04-30T23:59:59-05:00\n",
      "8   2023-05-01T00:00:00-05:00  2023-05-15T23:59:59-05:00\n",
      "9   2023-05-16T00:00:00-05:00  2023-05-31T23:59:59-05:00\n",
      "10  2023-06-01T00:00:00-05:00  2023-06-15T23:59:59-05:00\n",
      "11  2023-06-16T00:00:00-05:00  2023-06-30T23:59:59-05:00\n",
      "12  2023-07-01T00:00:00-05:00  2023-07-15T23:59:59-05:00\n",
      "13  2023-07-16T00:00:00-05:00  2023-07-31T23:59:59-05:00\n",
      "14  2023-08-01T00:00:00-05:00  2023-08-15T23:59:59-05:00\n",
      "15  2023-08-16T00:00:00-05:00  2023-08-31T23:59:59-05:00\n",
      "16  2023-09-01T00:00:00-05:00  2023-09-15T23:59:59-05:00\n",
      "17  2023-09-16T00:00:00-05:00  2023-09-30T23:59:59-05:00\n",
      "18  2023-10-01T00:00:00-05:00  2023-10-15T23:59:59-05:00\n",
      "19  2023-10-16T00:00:00-05:00  2023-10-31T23:59:59-05:00\n",
      "20  2023-11-01T00:00:00-05:00  2023-11-15T23:59:59-05:00\n",
      "21  2023-11-16T00:00:00-05:00  2023-11-30T23:59:59-05:00\n",
      "22  2023-12-01T00:00:00-05:00  2023-12-15T23:59:59-05:00\n",
      "23  2023-12-16T00:00:00-05:00  2023-12-31T23:59:59-05:00\n",
      "24  2024-01-01T00:00:00-05:00  2024-01-15T23:59:59-05:00\n",
      "25  2024-01-16T00:00:00-05:00  2024-01-31T23:59:59-05:00\n",
      "26  2024-02-01T00:00:00-05:00  2024-02-15T23:59:59-05:00\n",
      "27  2024-02-16T00:00:00-05:00  2024-02-29T23:59:59-05:00\n",
      "28  2024-03-01T00:00:00-05:00  2024-03-15T23:59:59-05:00\n",
      "29  2024-03-16T00:00:00-05:00  2024-03-31T23:59:59-05:00\n",
      "30  2024-04-01T00:00:00-05:00  2024-04-15T23:59:59-05:00\n",
      "31  2024-04-16T00:00:00-05:00  2024-04-30T23:59:59-05:00\n",
      "32  2024-05-01T00:00:00-05:00  2024-05-15T23:59:59-05:00\n",
      "33  2024-05-16T00:00:00-05:00  2024-05-31T23:59:59-05:00\n",
      "34  2024-06-01T00:00:00-05:00  2024-06-15T23:59:59-05:00\n",
      "35  2024-06-16T00:00:00-05:00  2024-06-30T23:59:59-05:00\n",
      "36  2024-07-01T00:00:00-05:00  2024-07-15T23:59:59-05:00\n",
      "37  2024-07-16T00:00:00-05:00  2024-07-31T23:59:59-05:00\n",
      "38  2024-08-01T00:00:00-05:00  2024-08-15T23:59:59-05:00\n",
      "39  2024-08-16T00:00:00-05:00  2024-08-31T23:59:59-05:00\n",
      "40  2024-09-01T00:00:00-05:00  2024-09-15T23:59:59-05:00\n",
      "41  2024-09-16T00:00:00-05:00  2024-09-30T23:59:59-05:00\n",
      "42  2024-10-01T00:00:00-05:00  2024-10-15T23:59:59-05:00\n",
      "43  2024-10-16T00:00:00-05:00  2024-10-31T23:59:59-05:00\n",
      "44  2024-11-01T00:00:00-05:00  2024-11-15T23:59:59-05:00\n",
      "45  2024-11-16T00:00:00-05:00  2024-11-30T23:59:59-05:00\n",
      "46  2024-12-01T00:00:00-05:00  2024-12-15T23:59:59-05:00\n",
      "47  2024-12-16T00:00:00-05:00  2024-12-31T23:59:59-05:00\n",
      "48  2025-01-01T00:00:00-05:00  2025-01-15T23:59:59-05:00\n",
      "49  2025-01-16T00:00:00-05:00  2025-01-31T23:59:59-05:00\n",
      "50  2025-02-01T00:00:00-05:00  2025-02-15T23:59:59-05:00\n",
      "51  2025-02-16T00:00:00-05:00  2025-02-28T23:59:59-05:00\n"
     ]
    }
   ],
   "source": [
    "#creating a new df where the time ranges of those that have vidoe count == 50 are split in half\n",
    "\n",
    "# Convert start and end columns to datetime\n",
    "date_ranges[\"start\"] = pd.to_datetime(date_ranges[\"start\"])\n",
    "date_ranges[\"end\"] = pd.to_datetime(date_ranges[\"end\"])\n",
    "\n",
    "df_filtered = date_ranges[date_ranges[\"videos_count\"] == 50].copy()\n",
    "\n",
    "# Create new df\n",
    "split_periods = []\n",
    "\n",
    "for _, row in df_filtered.iterrows():\n",
    "    start_date = row[\"start\"]\n",
    "    mid_date = start_date + timedelta(days=15)\n",
    "    end_date = row[\"end\"]\n",
    "\n",
    "    # Ensure mid_date does not exceed end_date\n",
    "    if mid_date > end_date:\n",
    "        mid_date = end_date\n",
    "\n",
    "    # First half\n",
    "    split_periods.append({\"start\": start_date, \"end\": mid_date - timedelta(seconds=1)})\n",
    "\n",
    "    # Second half\n",
    "    split_periods.append({\"start\": mid_date, \"end\": end_date})\n",
    "\n",
    "# Create new DataFrame with split periods\n",
    "df_half_months = pd.DataFrame(split_periods)\n",
    "\n",
    "# required format\n",
    "df_half_months[\"start\"] = df_half_months[\"start\"].dt.strftime(\"%Y-%m-%dT%H:%M:%S-05:00\")\n",
    "df_half_months[\"end\"] = df_half_months[\"end\"].dt.strftime(\"%Y-%m-%dT%H:%M:%S-05:00\")\n",
    "\n",
    "print(df_half_months)"
   ]
  },
  {
   "cell_type": "code",
   "execution_count": null,
   "metadata": {
    "colab": {
     "base_uri": "https://localhost:8080/"
    },
    "executionInfo": {
     "elapsed": 18788,
     "status": "ok",
     "timestamp": 1741540732710,
     "user": {
      "displayName": "Yana Kiprova",
      "userId": "05029747295494730402"
     },
     "user_tz": -60
    },
    "id": "M6HJEtku4FIq",
    "outputId": "53936e46-6013-470b-cbde-3fb77f1a6f7b"
   },
   "outputs": [],
   "source": [
    "# Getting the youtube videos for the split periods\n",
    "\n",
    "channel_id = \"UCYG5uXS3xdsoaXIxum1pAEw\" # ATV\n",
    "max_results = 50\n",
    "order = \"date\"\n",
    "keyword = \"robo|robó|roban|robaron|delincuentes|criminales|asalto|asaltó|asaltan|asaltaron|matan|mató|mataron|ladrón|asesinato|asesinado|asesinan|asesinaron|extorsionadores|extorsionador|extorsionan|extorsionaron|extorsionó|secuestro|secuestradores|secuestrada|secuestrado|secuestró|secuestraron|balacera|balean|balearon|balazos|sicariato|mafias|mafia|sicarios\"\n",
    "\n",
    "# Create empty dataframe for first time running it\n",
    "df = pd.DataFrame(columns=['video_id','title','url','channel','keyword','video_date'])\n",
    "videos_list = []\n",
    "videos_count_list = []\n",
    "\n",
    "for index, row in df_half_months.iterrows():\n",
    "    published_after = row['start']\n",
    "    published_before = row['end']\n",
    "\n",
    "\n",
    "    all = get_youtube_videos(api_key, channel_id, keyword, max_results,\n",
    "                                                          order, published_after, published_before)\n",
    "    videos = all[0]\n",
    "    video_count = all[1]\n",
    "    videos_list.append(videos)\n",
    "    videos_count_list.append(video_count)"
   ]
  },
  {
   "cell_type": "code",
   "execution_count": null,
   "metadata": {
    "id": "AYnO--yJQI0l",
    "outputId": "0286357d-a993-4646-9942-ab75d1e6197f"
   },
   "outputs": [],
   "source": [
    "videos_list"
   ]
  },
  {
   "cell_type": "code",
   "execution_count": null,
   "metadata": {
    "id": "qsPpYmhN-l-D"
   },
   "outputs": [],
   "source": [
    "#creating a df with the outputs\n",
    "flattened_list = np.concatenate(videos_list).tolist()\n",
    "df3 = pd.DataFrame(flattened_list)\n",
    "df3.drop(columns=['keyword'], inplace=True)"
   ]
  },
  {
   "cell_type": "code",
   "execution_count": null,
   "metadata": {
    "id": "YsT-ouugQI0m",
    "outputId": "9322569c-9146-484a-cfb5-a4cd640b3e59"
   },
   "outputs": [],
   "source": [
    "df3.tail()"
   ]
  },
  {
   "cell_type": "code",
   "execution_count": null,
   "metadata": {
    "id": "9J9MVsOBQI0m",
    "outputId": "87c2cc26-a58b-41e3-b385-030f9093db94"
   },
   "outputs": [
    {
     "data": {
      "text/html": [
       "<div>\n",
       "<style scoped>\n",
       "    .dataframe tbody tr th:only-of-type {\n",
       "        vertical-align: middle;\n",
       "    }\n",
       "\n",
       "    .dataframe tbody tr th {\n",
       "        vertical-align: top;\n",
       "    }\n",
       "\n",
       "    .dataframe thead th {\n",
       "        text-align: right;\n",
       "    }\n",
       "</style>\n",
       "<table border=\"1\" class=\"dataframe\">\n",
       "  <thead>\n",
       "    <tr style=\"text-align: right;\">\n",
       "      <th></th>\n",
       "      <th>start</th>\n",
       "      <th>end</th>\n",
       "    </tr>\n",
       "  </thead>\n",
       "  <tbody>\n",
       "    <tr>\n",
       "      <th>26</th>\n",
       "      <td>2024-02-01T00:00:00-05:00</td>\n",
       "      <td>2024-02-15T23:59:59-05:00</td>\n",
       "    </tr>\n",
       "    <tr>\n",
       "      <th>27</th>\n",
       "      <td>2024-02-16T00:00:00-05:00</td>\n",
       "      <td>2024-02-29T23:59:59-05:00</td>\n",
       "    </tr>\n",
       "    <tr>\n",
       "      <th>28</th>\n",
       "      <td>2024-03-01T00:00:00-05:00</td>\n",
       "      <td>2024-03-15T23:59:59-05:00</td>\n",
       "    </tr>\n",
       "    <tr>\n",
       "      <th>29</th>\n",
       "      <td>2024-03-16T00:00:00-05:00</td>\n",
       "      <td>2024-03-31T23:59:59-05:00</td>\n",
       "    </tr>\n",
       "    <tr>\n",
       "      <th>30</th>\n",
       "      <td>2024-04-01T00:00:00-05:00</td>\n",
       "      <td>2024-04-15T23:59:59-05:00</td>\n",
       "    </tr>\n",
       "    <tr>\n",
       "      <th>31</th>\n",
       "      <td>2024-04-16T00:00:00-05:00</td>\n",
       "      <td>2024-04-30T23:59:59-05:00</td>\n",
       "    </tr>\n",
       "    <tr>\n",
       "      <th>32</th>\n",
       "      <td>2024-05-01T00:00:00-05:00</td>\n",
       "      <td>2024-05-15T23:59:59-05:00</td>\n",
       "    </tr>\n",
       "    <tr>\n",
       "      <th>33</th>\n",
       "      <td>2024-05-16T00:00:00-05:00</td>\n",
       "      <td>2024-05-31T23:59:59-05:00</td>\n",
       "    </tr>\n",
       "    <tr>\n",
       "      <th>34</th>\n",
       "      <td>2024-06-01T00:00:00-05:00</td>\n",
       "      <td>2024-06-15T23:59:59-05:00</td>\n",
       "    </tr>\n",
       "    <tr>\n",
       "      <th>35</th>\n",
       "      <td>2024-06-16T00:00:00-05:00</td>\n",
       "      <td>2024-06-30T23:59:59-05:00</td>\n",
       "    </tr>\n",
       "    <tr>\n",
       "      <th>36</th>\n",
       "      <td>2024-07-01T00:00:00-05:00</td>\n",
       "      <td>2024-07-15T23:59:59-05:00</td>\n",
       "    </tr>\n",
       "    <tr>\n",
       "      <th>37</th>\n",
       "      <td>2024-07-16T00:00:00-05:00</td>\n",
       "      <td>2024-07-31T23:59:59-05:00</td>\n",
       "    </tr>\n",
       "    <tr>\n",
       "      <th>38</th>\n",
       "      <td>2024-08-01T00:00:00-05:00</td>\n",
       "      <td>2024-08-15T23:59:59-05:00</td>\n",
       "    </tr>\n",
       "    <tr>\n",
       "      <th>39</th>\n",
       "      <td>2024-08-16T00:00:00-05:00</td>\n",
       "      <td>2024-08-31T23:59:59-05:00</td>\n",
       "    </tr>\n",
       "    <tr>\n",
       "      <th>40</th>\n",
       "      <td>2024-09-01T00:00:00-05:00</td>\n",
       "      <td>2024-09-15T23:59:59-05:00</td>\n",
       "    </tr>\n",
       "    <tr>\n",
       "      <th>41</th>\n",
       "      <td>2024-09-16T00:00:00-05:00</td>\n",
       "      <td>2024-09-30T23:59:59-05:00</td>\n",
       "    </tr>\n",
       "    <tr>\n",
       "      <th>42</th>\n",
       "      <td>2024-10-01T00:00:00-05:00</td>\n",
       "      <td>2024-10-15T23:59:59-05:00</td>\n",
       "    </tr>\n",
       "    <tr>\n",
       "      <th>43</th>\n",
       "      <td>2024-10-16T00:00:00-05:00</td>\n",
       "      <td>2024-10-31T23:59:59-05:00</td>\n",
       "    </tr>\n",
       "    <tr>\n",
       "      <th>44</th>\n",
       "      <td>2024-11-01T00:00:00-05:00</td>\n",
       "      <td>2024-11-15T23:59:59-05:00</td>\n",
       "    </tr>\n",
       "    <tr>\n",
       "      <th>45</th>\n",
       "      <td>2024-11-16T00:00:00-05:00</td>\n",
       "      <td>2024-11-30T23:59:59-05:00</td>\n",
       "    </tr>\n",
       "    <tr>\n",
       "      <th>46</th>\n",
       "      <td>2024-12-01T00:00:00-05:00</td>\n",
       "      <td>2024-12-15T23:59:59-05:00</td>\n",
       "    </tr>\n",
       "    <tr>\n",
       "      <th>47</th>\n",
       "      <td>2024-12-16T00:00:00-05:00</td>\n",
       "      <td>2024-12-31T23:59:59-05:00</td>\n",
       "    </tr>\n",
       "    <tr>\n",
       "      <th>48</th>\n",
       "      <td>2025-01-01T00:00:00-05:00</td>\n",
       "      <td>2025-01-15T23:59:59-05:00</td>\n",
       "    </tr>\n",
       "    <tr>\n",
       "      <th>49</th>\n",
       "      <td>2025-01-16T00:00:00-05:00</td>\n",
       "      <td>2025-01-31T23:59:59-05:00</td>\n",
       "    </tr>\n",
       "    <tr>\n",
       "      <th>50</th>\n",
       "      <td>2025-02-01T00:00:00-05:00</td>\n",
       "      <td>2025-02-15T23:59:59-05:00</td>\n",
       "    </tr>\n",
       "    <tr>\n",
       "      <th>51</th>\n",
       "      <td>2025-02-16T00:00:00-05:00</td>\n",
       "      <td>2025-02-28T23:59:59-05:00</td>\n",
       "    </tr>\n",
       "  </tbody>\n",
       "</table>\n",
       "</div>"
      ],
      "text/plain": [
       "                        start                        end\n",
       "26  2024-02-01T00:00:00-05:00  2024-02-15T23:59:59-05:00\n",
       "27  2024-02-16T00:00:00-05:00  2024-02-29T23:59:59-05:00\n",
       "28  2024-03-01T00:00:00-05:00  2024-03-15T23:59:59-05:00\n",
       "29  2024-03-16T00:00:00-05:00  2024-03-31T23:59:59-05:00\n",
       "30  2024-04-01T00:00:00-05:00  2024-04-15T23:59:59-05:00\n",
       "31  2024-04-16T00:00:00-05:00  2024-04-30T23:59:59-05:00\n",
       "32  2024-05-01T00:00:00-05:00  2024-05-15T23:59:59-05:00\n",
       "33  2024-05-16T00:00:00-05:00  2024-05-31T23:59:59-05:00\n",
       "34  2024-06-01T00:00:00-05:00  2024-06-15T23:59:59-05:00\n",
       "35  2024-06-16T00:00:00-05:00  2024-06-30T23:59:59-05:00\n",
       "36  2024-07-01T00:00:00-05:00  2024-07-15T23:59:59-05:00\n",
       "37  2024-07-16T00:00:00-05:00  2024-07-31T23:59:59-05:00\n",
       "38  2024-08-01T00:00:00-05:00  2024-08-15T23:59:59-05:00\n",
       "39  2024-08-16T00:00:00-05:00  2024-08-31T23:59:59-05:00\n",
       "40  2024-09-01T00:00:00-05:00  2024-09-15T23:59:59-05:00\n",
       "41  2024-09-16T00:00:00-05:00  2024-09-30T23:59:59-05:00\n",
       "42  2024-10-01T00:00:00-05:00  2024-10-15T23:59:59-05:00\n",
       "43  2024-10-16T00:00:00-05:00  2024-10-31T23:59:59-05:00\n",
       "44  2024-11-01T00:00:00-05:00  2024-11-15T23:59:59-05:00\n",
       "45  2024-11-16T00:00:00-05:00  2024-11-30T23:59:59-05:00\n",
       "46  2024-12-01T00:00:00-05:00  2024-12-15T23:59:59-05:00\n",
       "47  2024-12-16T00:00:00-05:00  2024-12-31T23:59:59-05:00\n",
       "48  2025-01-01T00:00:00-05:00  2025-01-15T23:59:59-05:00\n",
       "49  2025-01-16T00:00:00-05:00  2025-01-31T23:59:59-05:00\n",
       "50  2025-02-01T00:00:00-05:00  2025-02-15T23:59:59-05:00\n",
       "51  2025-02-16T00:00:00-05:00  2025-02-28T23:59:59-05:00"
      ]
     },
     "execution_count": 34,
     "metadata": {},
     "output_type": "execute_result"
    }
   ],
   "source": [
    "# Creating new df_half_months only from feb 2024 and on\n",
    "\n",
    "subset_df_half_months = df_half_months.iloc[26:]\n",
    "\n",
    "subset_df_half_months"
   ]
  },
  {
   "cell_type": "code",
   "execution_count": null,
   "metadata": {
    "id": "zR2vnMDyQI0m"
   },
   "outputs": [],
   "source": [
    "# Merge monthly and partial half monthly df for ATV: df1 and df3"
   ]
  },
  {
   "cell_type": "code",
   "execution_count": null,
   "metadata": {
    "id": "ndrESU8kQI0m",
    "outputId": "17e08b70-d906-4507-b099-9a4e1a9fc362"
   },
   "outputs": [
    {
     "data": {
      "text/plain": [
       "(1300, 5)"
      ]
     },
     "execution_count": 44,
     "metadata": {},
     "output_type": "execute_result"
    }
   ],
   "source": [
    "df1.shape"
   ]
  },
  {
   "cell_type": "code",
   "execution_count": null,
   "metadata": {
    "id": "WBlvFkPiQI0n",
    "outputId": "721f6a79-712b-450d-b618-983fbd1d8fc3",
    "scrolled": true
   },
   "outputs": [
    {
     "data": {
      "text/plain": [
       "(1119, 5)"
      ]
     },
     "execution_count": 43,
     "metadata": {},
     "output_type": "execute_result"
    }
   ],
   "source": [
    "df3.shape"
   ]
  },
  {
   "cell_type": "code",
   "execution_count": null,
   "metadata": {
    "id": "HZ5EfZ5bQI0n",
    "outputId": "7d7927f5-542f-421e-a6b7-f8f8526b32cc"
   },
   "outputs": [
    {
     "data": {
      "text/plain": [
       "(1851, 5)"
      ]
     },
     "execution_count": 45,
     "metadata": {},
     "output_type": "execute_result"
    }
   ],
   "source": [
    "ATV_df_1 = pd.concat([df1, df3], ignore_index=True).drop_duplicates()\n",
    "\n",
    "ATV_df_1.shape"
   ]
  },
  {
   "cell_type": "code",
   "execution_count": null,
   "metadata": {
    "id": "Prh56b75QI0n"
   },
   "outputs": [],
   "source": [
    "# Save to continue tomorrow with more request\n",
    "\n",
    "ATV_df_1.to_csv(\"ATV_df_1.csv\")"
   ]
  },
  {
   "cell_type": "code",
   "execution_count": null,
   "metadata": {
    "id": "Hb0i2IpMQI0o"
   },
   "outputs": [],
   "source": [
    "# Save number of videos per month period and half month period, to know which ones to iterate again\n",
    "\n",
    "# Months\n",
    "# monthly_videos = pd.read_csv(\"date_ranges_ATV_1.csv\")\n",
    "\n",
    "# Half months\n",
    "df_half_months['videos_count'] = videos_count_list + [0] * (len(df_half_months) - len(videos_count_list))\n",
    "df_half_months.to_csv(\"date_ranges_ATV_2.csv\")"
   ]
  },
  {
   "cell_type": "code",
   "execution_count": null,
   "metadata": {
    "id": "HlNWicDFQI0o",
    "outputId": "b5bc7411-6c07-4b22-b579-9855a7d0f585"
   },
   "outputs": [
    {
     "data": {
      "text/plain": [
       "(52, 2)"
      ]
     },
     "execution_count": 50,
     "metadata": {},
     "output_type": "execute_result"
    }
   ],
   "source": [
    "df_half_months.shape"
   ]
  },
  {
   "cell_type": "code",
   "execution_count": null,
   "metadata": {
    "id": "B46WNXWNQI0w",
    "outputId": "cef523a1-7f7e-42d7-d9e1-fc69d9d6ad04"
   },
   "outputs": [
    {
     "data": {
      "text/html": [
       "<div>\n",
       "<style scoped>\n",
       "    .dataframe tbody tr th:only-of-type {\n",
       "        vertical-align: middle;\n",
       "    }\n",
       "\n",
       "    .dataframe tbody tr th {\n",
       "        vertical-align: top;\n",
       "    }\n",
       "\n",
       "    .dataframe thead th {\n",
       "        text-align: right;\n",
       "    }\n",
       "</style>\n",
       "<table border=\"1\" class=\"dataframe\">\n",
       "  <thead>\n",
       "    <tr style=\"text-align: right;\">\n",
       "      <th></th>\n",
       "      <th>Unnamed: 0</th>\n",
       "      <th>start</th>\n",
       "      <th>end</th>\n",
       "      <th>videos_count</th>\n",
       "    </tr>\n",
       "  </thead>\n",
       "  <tbody>\n",
       "    <tr>\n",
       "      <th>0</th>\n",
       "      <td>0</td>\n",
       "      <td>2023-01-01T00:00:00-05:00</td>\n",
       "      <td>2023-01-15T23:59:59-05:00</td>\n",
       "      <td>29</td>\n",
       "    </tr>\n",
       "    <tr>\n",
       "      <th>1</th>\n",
       "      <td>1</td>\n",
       "      <td>2023-01-16T00:00:00-05:00</td>\n",
       "      <td>2023-01-31T23:59:59-05:00</td>\n",
       "      <td>27</td>\n",
       "    </tr>\n",
       "    <tr>\n",
       "      <th>2</th>\n",
       "      <td>2</td>\n",
       "      <td>2023-02-01T00:00:00-05:00</td>\n",
       "      <td>2023-02-15T23:59:59-05:00</td>\n",
       "      <td>48</td>\n",
       "    </tr>\n",
       "    <tr>\n",
       "      <th>3</th>\n",
       "      <td>3</td>\n",
       "      <td>2023-02-16T00:00:00-05:00</td>\n",
       "      <td>2023-02-28T23:59:59-05:00</td>\n",
       "      <td>35</td>\n",
       "    </tr>\n",
       "    <tr>\n",
       "      <th>4</th>\n",
       "      <td>4</td>\n",
       "      <td>2023-03-01T00:00:00-05:00</td>\n",
       "      <td>2023-03-15T23:59:59-05:00</td>\n",
       "      <td>42</td>\n",
       "    </tr>\n",
       "  </tbody>\n",
       "</table>\n",
       "</div>"
      ],
      "text/plain": [
       "   Unnamed: 0                      start                        end  \\\n",
       "0           0  2023-01-01T00:00:00-05:00  2023-01-15T23:59:59-05:00   \n",
       "1           1  2023-01-16T00:00:00-05:00  2023-01-31T23:59:59-05:00   \n",
       "2           2  2023-02-01T00:00:00-05:00  2023-02-15T23:59:59-05:00   \n",
       "3           3  2023-02-16T00:00:00-05:00  2023-02-28T23:59:59-05:00   \n",
       "4           4  2023-03-01T00:00:00-05:00  2023-03-15T23:59:59-05:00   \n",
       "\n",
       "   videos_count  \n",
       "0            29  \n",
       "1            27  \n",
       "2            48  \n",
       "3            35  \n",
       "4            42  "
      ]
     },
     "execution_count": 5,
     "metadata": {},
     "output_type": "execute_result"
    }
   ],
   "source": [
    "# Get previous date ranges\n",
    "\n",
    "# Months\n",
    "monthly_videos = pd.read_csv(\"date_ranges_ATV_1.csv\")\n",
    "\n",
    "# Half months\n",
    "df_half_months = pd.read_csv(\"date_ranges_ATV_2.csv\")\n",
    "df_half_months.head()"
   ]
  },
  {
   "cell_type": "code",
   "execution_count": null,
   "metadata": {
    "id": "GX6HF3ffQI0w",
    "outputId": "69e637db-d099-4398-8a36-c9b288988409"
   },
   "outputs": [
    {
     "data": {
      "text/html": [
       "<div>\n",
       "<style scoped>\n",
       "    .dataframe tbody tr th:only-of-type {\n",
       "        vertical-align: middle;\n",
       "    }\n",
       "\n",
       "    .dataframe tbody tr th {\n",
       "        vertical-align: top;\n",
       "    }\n",
       "\n",
       "    .dataframe thead th {\n",
       "        text-align: right;\n",
       "    }\n",
       "</style>\n",
       "<table border=\"1\" class=\"dataframe\">\n",
       "  <thead>\n",
       "    <tr style=\"text-align: right;\">\n",
       "      <th></th>\n",
       "      <th>Unnamed: 0</th>\n",
       "      <th>start</th>\n",
       "      <th>end</th>\n",
       "      <th>videos_count</th>\n",
       "    </tr>\n",
       "  </thead>\n",
       "  <tbody>\n",
       "    <tr>\n",
       "      <th>25</th>\n",
       "      <td>25</td>\n",
       "      <td>2024-01-16T00:00:00-05:00</td>\n",
       "      <td>2024-01-31T23:59:59-05:00</td>\n",
       "      <td>0</td>\n",
       "    </tr>\n",
       "    <tr>\n",
       "      <th>26</th>\n",
       "      <td>26</td>\n",
       "      <td>2024-02-01T00:00:00-05:00</td>\n",
       "      <td>2024-02-15T23:59:59-05:00</td>\n",
       "      <td>0</td>\n",
       "    </tr>\n",
       "    <tr>\n",
       "      <th>27</th>\n",
       "      <td>27</td>\n",
       "      <td>2024-02-16T00:00:00-05:00</td>\n",
       "      <td>2024-02-29T23:59:59-05:00</td>\n",
       "      <td>0</td>\n",
       "    </tr>\n",
       "    <tr>\n",
       "      <th>28</th>\n",
       "      <td>28</td>\n",
       "      <td>2024-03-01T00:00:00-05:00</td>\n",
       "      <td>2024-03-15T23:59:59-05:00</td>\n",
       "      <td>0</td>\n",
       "    </tr>\n",
       "    <tr>\n",
       "      <th>29</th>\n",
       "      <td>29</td>\n",
       "      <td>2024-03-16T00:00:00-05:00</td>\n",
       "      <td>2024-03-31T23:59:59-05:00</td>\n",
       "      <td>0</td>\n",
       "    </tr>\n",
       "  </tbody>\n",
       "</table>\n",
       "</div>"
      ],
      "text/plain": [
       "    Unnamed: 0                      start                        end  \\\n",
       "25          25  2024-01-16T00:00:00-05:00  2024-01-31T23:59:59-05:00   \n",
       "26          26  2024-02-01T00:00:00-05:00  2024-02-15T23:59:59-05:00   \n",
       "27          27  2024-02-16T00:00:00-05:00  2024-02-29T23:59:59-05:00   \n",
       "28          28  2024-03-01T00:00:00-05:00  2024-03-15T23:59:59-05:00   \n",
       "29          29  2024-03-16T00:00:00-05:00  2024-03-31T23:59:59-05:00   \n",
       "\n",
       "    videos_count  \n",
       "25             0  \n",
       "26             0  \n",
       "27             0  \n",
       "28             0  \n",
       "29             0  "
      ]
     },
     "execution_count": 6,
     "metadata": {},
     "output_type": "execute_result"
    }
   ],
   "source": [
    "subset_df_half_months = df_half_months[df_half_months[\"videos_count\"] == -0].copy()\n",
    "subset_df_half_months.head()"
   ]
  },
  {
   "cell_type": "code",
   "execution_count": null,
   "metadata": {
    "id": "JAlAIsjOQI0x",
    "outputId": "f28d7322-5751-4e8f-d9af-86ca3deb3236"
   },
   "outputs": [
    {
     "name": "stdout",
     "output_type": "stream",
     "text": [
      "Number of videos found between 2024-01-16T00:00:00-05:00 and 2024-01-31T23:59:59-05:00: 50\n",
      "Number of videos found between 2024-02-01T00:00:00-05:00 and 2024-02-15T23:59:59-05:00: 44\n",
      "Number of videos found between 2024-02-16T00:00:00-05:00 and 2024-02-29T23:59:59-05:00: 44\n",
      "Number of videos found between 2024-03-01T00:00:00-05:00 and 2024-03-15T23:59:59-05:00: 49\n",
      "Number of videos found between 2024-03-16T00:00:00-05:00 and 2024-03-31T23:59:59-05:00: 49\n",
      "Number of videos found between 2024-04-01T00:00:00-05:00 and 2024-04-15T23:59:59-05:00: 47\n",
      "Number of videos found between 2024-04-16T00:00:00-05:00 and 2024-04-30T23:59:59-05:00: 50\n",
      "Number of videos found between 2024-05-01T00:00:00-05:00 and 2024-05-15T23:59:59-05:00: 46\n",
      "Number of videos found between 2024-05-16T00:00:00-05:00 and 2024-05-31T23:59:59-05:00: 50\n",
      "Number of videos found between 2024-06-01T00:00:00-05:00 and 2024-06-15T23:59:59-05:00: 47\n",
      "Number of videos found between 2024-06-16T00:00:00-05:00 and 2024-06-30T23:59:59-05:00: 42\n",
      "Number of videos found between 2024-07-01T00:00:00-05:00 and 2024-07-15T23:59:59-05:00: 50\n",
      "Number of videos found between 2024-07-16T00:00:00-05:00 and 2024-07-31T23:59:59-05:00: 45\n",
      "Number of videos found between 2024-08-01T00:00:00-05:00 and 2024-08-15T23:59:59-05:00: 49\n",
      "Number of videos found between 2024-08-16T00:00:00-05:00 and 2024-08-31T23:59:59-05:00: 41\n",
      "Number of videos found between 2024-09-01T00:00:00-05:00 and 2024-09-15T23:59:59-05:00: 39\n",
      "Number of videos found between 2024-09-16T00:00:00-05:00 and 2024-09-30T23:59:59-05:00: 50\n",
      "Number of videos found between 2024-10-01T00:00:00-05:00 and 2024-10-15T23:59:59-05:00: 50\n",
      "Number of videos found between 2024-10-16T00:00:00-05:00 and 2024-10-31T23:59:59-05:00: 50\n",
      "Number of videos found between 2024-11-01T00:00:00-05:00 and 2024-11-15T23:59:59-05:00: 27\n",
      "Number of videos found between 2024-11-16T00:00:00-05:00 and 2024-11-30T23:59:59-05:00: 50\n",
      "Number of videos found between 2024-12-01T00:00:00-05:00 and 2024-12-15T23:59:59-05:00: 50\n",
      "Number of videos found between 2024-12-16T00:00:00-05:00 and 2024-12-31T23:59:59-05:00: 31\n",
      "Number of videos found between 2025-01-01T00:00:00-05:00 and 2025-01-15T23:59:59-05:00: 50\n",
      "Number of videos found between 2025-01-16T00:00:00-05:00 and 2025-01-31T23:59:59-05:00: 50\n",
      "Number of videos found between 2025-02-01T00:00:00-05:00 and 2025-02-15T23:59:59-05:00: 50\n",
      "Number of videos found between 2025-02-16T00:00:00-05:00 and 2025-02-28T23:59:59-05:00: 50\n"
     ]
    }
   ],
   "source": [
    "# Running the function again from Jan 2024\n",
    "\n",
    "# Getting the youtube videos for the split periods\n",
    "\n",
    "channel_id = \"UCYG5uXS3xdsoaXIxum1pAEw\" # ATV\n",
    "max_results = 50\n",
    "order = \"date\"\n",
    "keyword = \"robo|robó|roban|robaron|delincuentes|criminales|asalto|asaltó|asaltan|asaltaron|matan|mató|mataron|ladrón|asesinato|asesinado|asesinan|asesinaron|extorsionadores|extorsionador|extorsionan|extorsionaron|extorsionó|secuestro|secuestradores|secuestrada|secuestrado|secuestró|secuestraron|balacera|balean|balearon|balazos|sicariato|mafias|mafia|sicarios\"\n",
    "\n",
    "# Create empty dataframe for first time running it\n",
    "#df = pd.DataFrame(columns=['video_id','title','url','channel','keyword','video_date'])\n",
    "videos_list = []\n",
    "videos_count_list = []\n",
    "\n",
    "for index, row in subset_df_half_months.iterrows():\n",
    "    published_after = row['start']\n",
    "    published_before = row['end']\n",
    "\n",
    "\n",
    "    all = get_youtube_videos(api_key, channel_id, keyword, max_results,\n",
    "                                                          order, published_after, published_before)\n",
    "    videos = all[0]\n",
    "    video_count = all[1]\n",
    "    videos_list.append(videos)\n",
    "    videos_count_list.append(video_count)"
   ]
  },
  {
   "cell_type": "code",
   "execution_count": null,
   "metadata": {
    "id": "cOby4x11QI0x",
    "outputId": "2eed33db-d055-4db9-a59c-f54eeaa6ceab"
   },
   "outputs": [
    {
     "name": "stdout",
     "output_type": "stream",
     "text": [
      "27\n",
      "(27, 4)\n"
     ]
    }
   ],
   "source": [
    "print(len(videos_count_list))\n",
    "print(subset_df_half_months.shape)"
   ]
  },
  {
   "cell_type": "code",
   "execution_count": null,
   "metadata": {
    "id": "0LgGodue-4Oc",
    "scrolled": true
   },
   "outputs": [],
   "source": [
    "#adding the video counts to the date ranges table\n",
    "subset_df_half_months['videos_count'] = videos_count_list"
   ]
  },
  {
   "cell_type": "code",
   "execution_count": null,
   "metadata": {
    "id": "BiU_adPtQI0y",
    "outputId": "46cc4924-9225-45df-a042-39a7cf03a028",
    "scrolled": true
   },
   "outputs": [],
   "source": [
    "# Create dataframe with newly collected videos\n",
    "\n",
    "flattened_list = np.concatenate(videos_list).tolist()\n",
    "ATV_halfmonths_2 = pd.DataFrame(flattened_list)\n",
    "ATV_halfmonths_2.drop(columns=['keyword'], inplace=True)\n",
    "ATV_halfmonths_2.head()"
   ]
  },
  {
   "cell_type": "code",
   "execution_count": null,
   "metadata": {
    "id": "B5Xz85gSQI0y",
    "outputId": "5adf2803-14c9-4a2f-8825-efa003df4bef"
   },
   "outputs": [
    {
     "data": {
      "text/plain": [
       "(1250, 5)"
      ]
     },
     "execution_count": 16,
     "metadata": {},
     "output_type": "execute_result"
    }
   ],
   "source": [
    "ATV_halfmonths_2.shape"
   ]
  },
  {
   "cell_type": "code",
   "execution_count": null,
   "metadata": {
    "id": "-UM7R4BmFeOl"
   },
   "outputs": [],
   "source": [
    "ATV_halfmonths_2.to_csv(\"ATV_halfmonths_2.csv\")"
   ]
  },
  {
   "cell_type": "code",
   "execution_count": null,
   "metadata": {
    "id": "w19tk4YMFrsD"
   },
   "outputs": [],
   "source": [
    "subset_df_half_months.to_csv(\"date_ranges_ATV_3.csv\")"
   ]
  },
  {
   "cell_type": "code",
   "execution_count": null,
   "metadata": {
    "colab": {
     "base_uri": "https://localhost:8080/",
     "height": 424
    },
    "executionInfo": {
     "elapsed": 108,
     "status": "ok",
     "timestamp": 1741543904874,
     "user": {
      "displayName": "Yana Kiprova",
      "userId": "05029747295494730402"
     },
     "user_tz": -60
    },
    "id": "OcKMLKlUCP9u",
    "outputId": "ba74c619-243e-4e49-867c-aae3f261a2a6",
    "scrolled": false
   },
   "outputs": [
    {
     "data": {
      "text/html": [
       "<div>\n",
       "<style scoped>\n",
       "    .dataframe tbody tr th:only-of-type {\n",
       "        vertical-align: middle;\n",
       "    }\n",
       "\n",
       "    .dataframe tbody tr th {\n",
       "        vertical-align: top;\n",
       "    }\n",
       "\n",
       "    .dataframe thead th {\n",
       "        text-align: right;\n",
       "    }\n",
       "</style>\n",
       "<table border=\"1\" class=\"dataframe\">\n",
       "  <thead>\n",
       "    <tr style=\"text-align: right;\">\n",
       "      <th></th>\n",
       "      <th>Unnamed: 0</th>\n",
       "      <th>start</th>\n",
       "      <th>end</th>\n",
       "      <th>videos_count</th>\n",
       "    </tr>\n",
       "  </thead>\n",
       "  <tbody>\n",
       "    <tr>\n",
       "      <th>0</th>\n",
       "      <td>0</td>\n",
       "      <td>2023-01-01T00:00:00-05:00</td>\n",
       "      <td>2023-01-15T23:59:59-05:00</td>\n",
       "      <td>29</td>\n",
       "    </tr>\n",
       "    <tr>\n",
       "      <th>1</th>\n",
       "      <td>1</td>\n",
       "      <td>2023-01-16T00:00:00-05:00</td>\n",
       "      <td>2023-01-31T23:59:59-05:00</td>\n",
       "      <td>27</td>\n",
       "    </tr>\n",
       "    <tr>\n",
       "      <th>2</th>\n",
       "      <td>2</td>\n",
       "      <td>2023-02-01T00:00:00-05:00</td>\n",
       "      <td>2023-02-15T23:59:59-05:00</td>\n",
       "      <td>48</td>\n",
       "    </tr>\n",
       "    <tr>\n",
       "      <th>3</th>\n",
       "      <td>3</td>\n",
       "      <td>2023-02-16T00:00:00-05:00</td>\n",
       "      <td>2023-02-28T23:59:59-05:00</td>\n",
       "      <td>35</td>\n",
       "    </tr>\n",
       "    <tr>\n",
       "      <th>4</th>\n",
       "      <td>4</td>\n",
       "      <td>2023-03-01T00:00:00-05:00</td>\n",
       "      <td>2023-03-15T23:59:59-05:00</td>\n",
       "      <td>42</td>\n",
       "    </tr>\n",
       "  </tbody>\n",
       "</table>\n",
       "</div>"
      ],
      "text/plain": [
       "   Unnamed: 0                      start                        end  \\\n",
       "0           0  2023-01-01T00:00:00-05:00  2023-01-15T23:59:59-05:00   \n",
       "1           1  2023-01-16T00:00:00-05:00  2023-01-31T23:59:59-05:00   \n",
       "2           2  2023-02-01T00:00:00-05:00  2023-02-15T23:59:59-05:00   \n",
       "3           3  2023-02-16T00:00:00-05:00  2023-02-28T23:59:59-05:00   \n",
       "4           4  2023-03-01T00:00:00-05:00  2023-03-15T23:59:59-05:00   \n",
       "\n",
       "   videos_count  \n",
       "0            29  \n",
       "1            27  \n",
       "2            48  \n",
       "3            35  \n",
       "4            42  "
      ]
     },
     "execution_count": 21,
     "metadata": {},
     "output_type": "execute_result"
    }
   ],
   "source": [
    "#Create df that combines initial half months list, with new subset\n",
    "\n",
    "combined_half_months = pd.concat([df_half_months.iloc[:25], subset_df_half_months], ignore_index=True)\n",
    "combined_half_months.head()"
   ]
  },
  {
   "cell_type": "code",
   "execution_count": null,
   "metadata": {
    "id": "GdmWuLpOQI0z",
    "outputId": "8dbcf90c-665f-47b5-c4fb-da4b5125e6b5"
   },
   "outputs": [
    {
     "name": "stdout",
     "output_type": "stream",
     "text": [
      "(52, 4)\n",
      "(52, 4)\n"
     ]
    }
   ],
   "source": [
    "print(combined_half_months.shape)\n",
    "print(df_half_months.shape)"
   ]
  },
  {
   "cell_type": "code",
   "execution_count": null,
   "metadata": {
    "colab": {
     "base_uri": "https://localhost:8080/"
    },
    "executionInfo": {
     "elapsed": 36,
     "status": "ok",
     "timestamp": 1741543878511,
     "user": {
      "displayName": "Yana Kiprova",
      "userId": "05029747295494730402"
     },
     "user_tz": -60
    },
    "id": "_6T2dSHj_f10",
    "outputId": "9fb125a6-5b2b-4ad9-9d8e-7c1b717ecebe"
   },
   "outputs": [
    {
     "data": {
      "text/plain": [
       "(26, 4)"
      ]
     },
     "execution_count": 25,
     "metadata": {},
     "output_type": "execute_result"
    }
   ],
   "source": [
    "count50 = combined_half_months[combined_half_months[\"videos_count\"] == 50]\n",
    "count50.shape"
   ]
  },
  {
   "cell_type": "code",
   "execution_count": null,
   "metadata": {
    "id": "C-n3VF7aQI00",
    "outputId": "56a76b7c-ba7b-4504-f371-c7eb1f23574c"
   },
   "outputs": [
    {
     "data": {
      "text/html": [
       "<div>\n",
       "<style scoped>\n",
       "    .dataframe tbody tr th:only-of-type {\n",
       "        vertical-align: middle;\n",
       "    }\n",
       "\n",
       "    .dataframe tbody tr th {\n",
       "        vertical-align: top;\n",
       "    }\n",
       "\n",
       "    .dataframe thead th {\n",
       "        text-align: right;\n",
       "    }\n",
       "</style>\n",
       "<table border=\"1\" class=\"dataframe\">\n",
       "  <thead>\n",
       "    <tr style=\"text-align: right;\">\n",
       "      <th></th>\n",
       "      <th>Unnamed: 0</th>\n",
       "      <th>start</th>\n",
       "      <th>end</th>\n",
       "      <th>videos_count</th>\n",
       "    </tr>\n",
       "  </thead>\n",
       "  <tbody>\n",
       "    <tr>\n",
       "      <th>46</th>\n",
       "      <td>46</td>\n",
       "      <td>2024-12-01T00:00:00-05:00</td>\n",
       "      <td>2024-12-15T23:59:59-05:00</td>\n",
       "      <td>50</td>\n",
       "    </tr>\n",
       "    <tr>\n",
       "      <th>48</th>\n",
       "      <td>48</td>\n",
       "      <td>2025-01-01T00:00:00-05:00</td>\n",
       "      <td>2025-01-15T23:59:59-05:00</td>\n",
       "      <td>50</td>\n",
       "    </tr>\n",
       "    <tr>\n",
       "      <th>49</th>\n",
       "      <td>49</td>\n",
       "      <td>2025-01-16T00:00:00-05:00</td>\n",
       "      <td>2025-01-31T23:59:59-05:00</td>\n",
       "      <td>50</td>\n",
       "    </tr>\n",
       "    <tr>\n",
       "      <th>50</th>\n",
       "      <td>50</td>\n",
       "      <td>2025-02-01T00:00:00-05:00</td>\n",
       "      <td>2025-02-15T23:59:59-05:00</td>\n",
       "      <td>50</td>\n",
       "    </tr>\n",
       "    <tr>\n",
       "      <th>51</th>\n",
       "      <td>51</td>\n",
       "      <td>2025-02-16T00:00:00-05:00</td>\n",
       "      <td>2025-02-28T23:59:59-05:00</td>\n",
       "      <td>50</td>\n",
       "    </tr>\n",
       "  </tbody>\n",
       "</table>\n",
       "</div>"
      ],
      "text/plain": [
       "    Unnamed: 0                      start                        end  \\\n",
       "46          46  2024-12-01T00:00:00-05:00  2024-12-15T23:59:59-05:00   \n",
       "48          48  2025-01-01T00:00:00-05:00  2025-01-15T23:59:59-05:00   \n",
       "49          49  2025-01-16T00:00:00-05:00  2025-01-31T23:59:59-05:00   \n",
       "50          50  2025-02-01T00:00:00-05:00  2025-02-15T23:59:59-05:00   \n",
       "51          51  2025-02-16T00:00:00-05:00  2025-02-28T23:59:59-05:00   \n",
       "\n",
       "    videos_count  \n",
       "46            50  \n",
       "48            50  \n",
       "49            50  \n",
       "50            50  \n",
       "51            50  "
      ]
     },
     "execution_count": 30,
     "metadata": {},
     "output_type": "execute_result"
    }
   ],
   "source": [
    "count50.tail()"
   ]
  },
  {
   "cell_type": "markdown",
   "metadata": {
    "id": "8UK1joU5Zp3h"
   },
   "source": [
    "## Week periods"
   ]
  },
  {
   "cell_type": "code",
   "execution_count": null,
   "metadata": {
    "colab": {
     "base_uri": "https://localhost:8080/"
    },
    "executionInfo": {
     "elapsed": 44,
     "status": "ok",
     "timestamp": 1741544038441,
     "user": {
      "displayName": "Yana Kiprova",
      "userId": "05029747295494730402"
     },
     "user_tz": -60
    },
    "id": "AgzXtgZkF9nf",
    "outputId": "3e6ee901-ed26-44ee-eb0f-90bd24d135ac",
    "scrolled": true
   },
   "outputs": [
    {
     "name": "stdout",
     "output_type": "stream",
     "text": [
      "                        start                        end\n",
      "0   2023-04-01T00:00:00-05:00  2023-04-07T23:59:59-05:00\n",
      "1   2023-04-08T00:00:00-05:00  2023-04-15T23:59:59-05:00\n",
      "2   2023-04-16T00:00:00-05:00  2023-04-22T23:59:59-05:00\n",
      "3   2023-04-23T00:00:00-05:00  2023-04-30T23:59:59-05:00\n",
      "4   2023-05-01T00:00:00-05:00  2023-05-07T23:59:59-05:00\n",
      "5   2023-05-08T00:00:00-05:00  2023-05-15T23:59:59-05:00\n",
      "6   2023-05-16T00:00:00-05:00  2023-05-22T23:59:59-05:00\n",
      "7   2023-05-23T00:00:00-05:00  2023-05-31T23:59:59-05:00\n",
      "8   2023-06-01T00:00:00-05:00  2023-06-07T23:59:59-05:00\n",
      "9   2023-06-08T00:00:00-05:00  2023-06-15T23:59:59-05:00\n",
      "10  2023-06-16T00:00:00-05:00  2023-06-22T23:59:59-05:00\n",
      "11  2023-06-23T00:00:00-05:00  2023-06-30T23:59:59-05:00\n",
      "12  2023-07-01T00:00:00-05:00  2023-07-07T23:59:59-05:00\n",
      "13  2023-07-08T00:00:00-05:00  2023-07-15T23:59:59-05:00\n",
      "14  2023-07-16T00:00:00-05:00  2023-07-22T23:59:59-05:00\n",
      "15  2023-07-23T00:00:00-05:00  2023-07-31T23:59:59-05:00\n",
      "16  2023-08-01T00:00:00-05:00  2023-08-07T23:59:59-05:00\n",
      "17  2023-08-08T00:00:00-05:00  2023-08-15T23:59:59-05:00\n",
      "18  2023-08-16T00:00:00-05:00  2023-08-22T23:59:59-05:00\n",
      "19  2023-08-23T00:00:00-05:00  2023-08-31T23:59:59-05:00\n",
      "20  2023-10-01T00:00:00-05:00  2023-10-07T23:59:59-05:00\n",
      "21  2023-10-08T00:00:00-05:00  2023-10-15T23:59:59-05:00\n",
      "22  2023-10-16T00:00:00-05:00  2023-10-22T23:59:59-05:00\n",
      "23  2023-10-23T00:00:00-05:00  2023-10-31T23:59:59-05:00\n",
      "24  2023-11-01T00:00:00-05:00  2023-11-07T23:59:59-05:00\n",
      "25  2023-11-08T00:00:00-05:00  2023-11-15T23:59:59-05:00\n",
      "26  2024-01-16T00:00:00-05:00  2024-01-22T23:59:59-05:00\n",
      "27  2024-01-23T00:00:00-05:00  2024-01-31T23:59:59-05:00\n",
      "28  2024-04-16T00:00:00-05:00  2024-04-22T23:59:59-05:00\n",
      "29  2024-04-23T00:00:00-05:00  2024-04-30T23:59:59-05:00\n",
      "30  2024-05-16T00:00:00-05:00  2024-05-22T23:59:59-05:00\n",
      "31  2024-05-23T00:00:00-05:00  2024-05-31T23:59:59-05:00\n",
      "32  2024-07-01T00:00:00-05:00  2024-07-07T23:59:59-05:00\n",
      "33  2024-07-08T00:00:00-05:00  2024-07-15T23:59:59-05:00\n",
      "34  2024-09-16T00:00:00-05:00  2024-09-22T23:59:59-05:00\n",
      "35  2024-09-23T00:00:00-05:00  2024-09-30T23:59:59-05:00\n",
      "36  2024-10-01T00:00:00-05:00  2024-10-07T23:59:59-05:00\n",
      "37  2024-10-08T00:00:00-05:00  2024-10-15T23:59:59-05:00\n",
      "38  2024-10-16T00:00:00-05:00  2024-10-22T23:59:59-05:00\n",
      "39  2024-10-23T00:00:00-05:00  2024-10-31T23:59:59-05:00\n",
      "40  2024-11-16T00:00:00-05:00  2024-11-22T23:59:59-05:00\n",
      "41  2024-11-23T00:00:00-05:00  2024-11-30T23:59:59-05:00\n",
      "42  2024-12-01T00:00:00-05:00  2024-12-07T23:59:59-05:00\n",
      "43  2024-12-08T00:00:00-05:00  2024-12-15T23:59:59-05:00\n",
      "44  2025-01-01T00:00:00-05:00  2025-01-07T23:59:59-05:00\n",
      "45  2025-01-08T00:00:00-05:00  2025-01-15T23:59:59-05:00\n",
      "46  2025-01-16T00:00:00-05:00  2025-01-22T23:59:59-05:00\n",
      "47  2025-01-23T00:00:00-05:00  2025-01-31T23:59:59-05:00\n",
      "48  2025-02-01T00:00:00-05:00  2025-02-07T23:59:59-05:00\n",
      "49  2025-02-08T00:00:00-05:00  2025-02-15T23:59:59-05:00\n",
      "50  2025-02-16T00:00:00-05:00  2025-02-22T23:59:59-05:00\n",
      "51  2025-02-23T00:00:00-05:00  2025-02-28T23:59:59-05:00\n"
     ]
    }
   ],
   "source": [
    "#splitting to weekly periods\n",
    "split_periods = []\n",
    "\n",
    "df_filtered = combined_half_months[combined_half_months[\"videos_count\"] == 50].copy()\n",
    "\n",
    "# Convert start and end columns to datetime\n",
    "df_filtered[\"start\"] = pd.to_datetime(df_filtered[\"start\"])\n",
    "df_filtered[\"end\"] = pd.to_datetime(df_filtered[\"end\"])\n",
    "\n",
    "# Create new DataFrame for half-month periods\n",
    "split_periods = []\n",
    "\n",
    "for _, row in df_filtered.iterrows():\n",
    "    start_date = row[\"start\"]\n",
    "    mid_date = start_date + timedelta(days=7)\n",
    "    end_date = row[\"end\"]\n",
    "\n",
    "    # Ensure mid_date does not exceed end_date\n",
    "    if mid_date > end_date:\n",
    "        mid_date = end_date\n",
    "\n",
    "    # First half\n",
    "    split_periods.append({\"start\": start_date, \"end\": mid_date - timedelta(seconds=1)})\n",
    "\n",
    "    # Second half\n",
    "    split_periods.append({\"start\": mid_date, \"end\": end_date})\n",
    "\n",
    "# Create new DataFrame with split periods\n",
    "df_weeks = pd.DataFrame(split_periods)\n",
    "\n",
    "# Convert back to the required format\n",
    "df_weeks[\"start\"] = df_weeks[\"start\"].dt.strftime(\"%Y-%m-%dT%H:%M:%S-05:00\")\n",
    "df_weeks[\"end\"] = df_weeks[\"end\"].dt.strftime(\"%Y-%m-%dT%H:%M:%S-05:00\")\n",
    "\n",
    "print(df_weeks)"
   ]
  },
  {
   "cell_type": "code",
   "execution_count": null,
   "metadata": {
    "id": "vIIHi69iQI01",
    "outputId": "38b04f7b-e99c-4700-e46f-0d4210536765"
   },
   "outputs": [
    {
     "data": {
      "text/html": [
       "<div>\n",
       "<style scoped>\n",
       "    .dataframe tbody tr th:only-of-type {\n",
       "        vertical-align: middle;\n",
       "    }\n",
       "\n",
       "    .dataframe tbody tr th {\n",
       "        vertical-align: top;\n",
       "    }\n",
       "\n",
       "    .dataframe thead th {\n",
       "        text-align: right;\n",
       "    }\n",
       "</style>\n",
       "<table border=\"1\" class=\"dataframe\">\n",
       "  <thead>\n",
       "    <tr style=\"text-align: right;\">\n",
       "      <th></th>\n",
       "      <th>start</th>\n",
       "      <th>end</th>\n",
       "    </tr>\n",
       "  </thead>\n",
       "  <tbody>\n",
       "    <tr>\n",
       "      <th>0</th>\n",
       "      <td>2023-04-01T00:00:00-05:00</td>\n",
       "      <td>2023-04-07T23:59:59-05:00</td>\n",
       "    </tr>\n",
       "    <tr>\n",
       "      <th>1</th>\n",
       "      <td>2023-04-08T00:00:00-05:00</td>\n",
       "      <td>2023-04-15T23:59:59-05:00</td>\n",
       "    </tr>\n",
       "    <tr>\n",
       "      <th>2</th>\n",
       "      <td>2023-04-16T00:00:00-05:00</td>\n",
       "      <td>2023-04-22T23:59:59-05:00</td>\n",
       "    </tr>\n",
       "    <tr>\n",
       "      <th>3</th>\n",
       "      <td>2023-04-23T00:00:00-05:00</td>\n",
       "      <td>2023-04-30T23:59:59-05:00</td>\n",
       "    </tr>\n",
       "    <tr>\n",
       "      <th>4</th>\n",
       "      <td>2023-05-01T00:00:00-05:00</td>\n",
       "      <td>2023-05-07T23:59:59-05:00</td>\n",
       "    </tr>\n",
       "  </tbody>\n",
       "</table>\n",
       "</div>"
      ],
      "text/plain": [
       "                       start                        end\n",
       "0  2023-04-01T00:00:00-05:00  2023-04-07T23:59:59-05:00\n",
       "1  2023-04-08T00:00:00-05:00  2023-04-15T23:59:59-05:00\n",
       "2  2023-04-16T00:00:00-05:00  2023-04-22T23:59:59-05:00\n",
       "3  2023-04-23T00:00:00-05:00  2023-04-30T23:59:59-05:00\n",
       "4  2023-05-01T00:00:00-05:00  2023-05-07T23:59:59-05:00"
      ]
     },
     "execution_count": 51,
     "metadata": {},
     "output_type": "execute_result"
    }
   ],
   "source": [
    "df_weeks.head()"
   ]
  },
  {
   "cell_type": "code",
   "execution_count": null,
   "metadata": {
    "colab": {
     "base_uri": "https://localhost:8080/"
    },
    "executionInfo": {
     "elapsed": 25377,
     "status": "ok",
     "timestamp": 1741544328499,
     "user": {
      "displayName": "Yana Kiprova",
      "userId": "05029747295494730402"
     },
     "user_tz": -60
    },
    "id": "qoAHWm5sHwyf",
    "outputId": "e2024849-7141-4c82-ce3b-51671d965065"
   },
   "outputs": [
    {
     "name": "stdout",
     "output_type": "stream",
     "text": [
      "Number of videos found between 2023-04-01T00:00:00-05:00 and 2023-04-07T23:59:59-05:00: 12\n",
      "Number of videos found between 2023-04-08T00:00:00-05:00 and 2023-04-15T23:59:59-05:00: 44\n",
      "Number of videos found between 2023-04-16T00:00:00-05:00 and 2023-04-22T23:59:59-05:00: 44\n",
      "Number of videos found between 2023-04-23T00:00:00-05:00 and 2023-04-30T23:59:59-05:00: 44\n",
      "Number of videos found between 2023-05-01T00:00:00-05:00 and 2023-05-07T23:59:59-05:00: 23\n",
      "Number of videos found between 2023-05-08T00:00:00-05:00 and 2023-05-15T23:59:59-05:00: 39\n",
      "Number of videos found between 2023-05-16T00:00:00-05:00 and 2023-05-22T23:59:59-05:00: 21\n",
      "Number of videos found between 2023-05-23T00:00:00-05:00 and 2023-05-31T23:59:59-05:00: 40\n",
      "Number of videos found between 2023-06-01T00:00:00-05:00 and 2023-06-07T23:59:59-05:00: 24\n",
      "Number of videos found between 2023-06-08T00:00:00-05:00 and 2023-06-15T23:59:59-05:00: 32\n",
      "Number of videos found between 2023-06-16T00:00:00-05:00 and 2023-06-22T23:59:59-05:00: 35\n",
      "Number of videos found between 2023-06-23T00:00:00-05:00 and 2023-06-30T23:59:59-05:00: 39\n",
      "Number of videos found between 2023-07-01T00:00:00-05:00 and 2023-07-07T23:59:59-05:00: 27\n",
      "Number of videos found between 2023-07-08T00:00:00-05:00 and 2023-07-15T23:59:59-05:00: 27\n",
      "Number of videos found between 2023-07-16T00:00:00-05:00 and 2023-07-22T23:59:59-05:00: 27\n",
      "Number of videos found between 2023-07-23T00:00:00-05:00 and 2023-07-31T23:59:59-05:00: 31\n",
      "Number of videos found between 2023-08-01T00:00:00-05:00 and 2023-08-07T23:59:59-05:00: 30\n",
      "Number of videos found between 2023-08-08T00:00:00-05:00 and 2023-08-15T23:59:59-05:00: 41\n",
      "Number of videos found between 2023-08-16T00:00:00-05:00 and 2023-08-22T23:59:59-05:00: 28\n",
      "Number of videos found between 2023-08-23T00:00:00-05:00 and 2023-08-31T23:59:59-05:00: 32\n",
      "Number of videos found between 2023-10-01T00:00:00-05:00 and 2023-10-07T23:59:59-05:00: 28\n",
      "Number of videos found between 2023-10-08T00:00:00-05:00 and 2023-10-15T23:59:59-05:00: 33\n",
      "Number of videos found between 2023-10-16T00:00:00-05:00 and 2023-10-22T23:59:59-05:00: 32\n",
      "Number of videos found between 2023-10-23T00:00:00-05:00 and 2023-10-31T23:59:59-05:00: 27\n",
      "Number of videos found between 2023-11-01T00:00:00-05:00 and 2023-11-07T23:59:59-05:00: 35\n",
      "Number of videos found between 2023-11-08T00:00:00-05:00 and 2023-11-15T23:59:59-05:00: 23\n",
      "Number of videos found between 2024-01-16T00:00:00-05:00 and 2024-01-22T23:59:59-05:00: 33\n",
      "Number of videos found between 2024-01-23T00:00:00-05:00 and 2024-01-31T23:59:59-05:00: 30\n",
      "Number of videos found between 2024-04-16T00:00:00-05:00 and 2024-04-22T23:59:59-05:00: 26\n",
      "Number of videos found between 2024-04-23T00:00:00-05:00 and 2024-04-30T23:59:59-05:00: 27\n",
      "Number of videos found between 2024-05-16T00:00:00-05:00 and 2024-05-22T23:59:59-05:00: 12\n",
      "Number of videos found between 2024-05-23T00:00:00-05:00 and 2024-05-31T23:59:59-05:00: 38\n",
      "Number of videos found between 2024-07-01T00:00:00-05:00 and 2024-07-07T23:59:59-05:00: 28\n",
      "Number of videos found between 2024-07-08T00:00:00-05:00 and 2024-07-15T23:59:59-05:00: 30\n",
      "Number of videos found between 2024-09-16T00:00:00-05:00 and 2024-09-22T23:59:59-05:00: 22\n",
      "Number of videos found between 2024-09-23T00:00:00-05:00 and 2024-09-30T23:59:59-05:00: 42\n",
      "Number of videos found between 2024-10-01T00:00:00-05:00 and 2024-10-07T23:59:59-05:00: 35\n",
      "Number of videos found between 2024-10-08T00:00:00-05:00 and 2024-10-15T23:59:59-05:00: 37\n",
      "Number of videos found between 2024-10-16T00:00:00-05:00 and 2024-10-22T23:59:59-05:00: 32\n",
      "Number of videos found between 2024-10-23T00:00:00-05:00 and 2024-10-31T23:59:59-05:00: 30\n",
      "Number of videos found between 2024-11-16T00:00:00-05:00 and 2024-11-22T23:59:59-05:00: 17\n",
      "Number of videos found between 2024-11-23T00:00:00-05:00 and 2024-11-30T23:59:59-05:00: 34\n",
      "Number of videos found between 2024-12-01T00:00:00-05:00 and 2024-12-07T23:59:59-05:00: 27\n",
      "Number of videos found between 2024-12-08T00:00:00-05:00 and 2024-12-15T23:59:59-05:00: 32\n",
      "Number of videos found between 2025-01-01T00:00:00-05:00 and 2025-01-07T23:59:59-05:00: 19\n",
      "Number of videos found between 2025-01-08T00:00:00-05:00 and 2025-01-15T23:59:59-05:00: 37\n",
      "Number of videos found between 2025-01-16T00:00:00-05:00 and 2025-01-22T23:59:59-05:00: 40\n",
      "Number of videos found between 2025-01-23T00:00:00-05:00 and 2025-01-31T23:59:59-05:00: 34\n",
      "Number of videos found between 2025-02-01T00:00:00-05:00 and 2025-02-07T23:59:59-05:00: 22\n",
      "Number of videos found between 2025-02-08T00:00:00-05:00 and 2025-02-15T23:59:59-05:00: 29\n",
      "Number of videos found between 2025-02-16T00:00:00-05:00 and 2025-02-22T23:59:59-05:00: 34\n",
      "Number of videos found between 2025-02-23T00:00:00-05:00 and 2025-02-28T23:59:59-05:00: 31\n"
     ]
    }
   ],
   "source": [
    "# Getting the youtube videos for the weekly periods\n",
    "channel_id = \"UCYG5uXS3xdsoaXIxum1pAEw\" # ATV\n",
    "max_results = 50\n",
    "order = \"date\"\n",
    "keyword = \"robo|robó|roban|robaron|delincuentes|criminales|asalto|asaltó|asaltan|asaltaron|matan|mató|mataron|ladrón|asesinato|asesinado|asesinan|asesinaron|extorsionadores|extorsionador|extorsionan|extorsionaron|extorsionó|secuestro|secuestradores|secuestrada|secuestrado|secuestró|secuestraron|balacera|balean|balearon|balazos|sicariato|mafias|mafia|sicarios\"\n",
    "\n",
    "# Create empty dataframe for first time running it\n",
    "#df = pd.DataFrame(columns=['video_id','title','url','channel','keyword','video_date'])\n",
    "videos_list = []\n",
    "videos_count_list = []\n",
    "\n",
    "for index, row in df_weeks.iterrows():\n",
    "    published_after = row['start']\n",
    "    published_before = row['end']\n",
    "\n",
    "\n",
    "    all = get_youtube_videos(api_key, channel_id, keyword, max_results, order, published_after, published_before)\n",
    "    videos = all[0]\n",
    "    video_count = all[1]\n",
    "    videos_list.append(videos)\n",
    "    videos_count_list.append(video_count)\n"
   ]
  },
  {
   "cell_type": "code",
   "execution_count": null,
   "metadata": {
    "id": "yu6QZ262IiB0"
   },
   "outputs": [],
   "source": [
    "#creating a df with the outputs\n",
    "flattened_list = np.concatenate(videos_list).tolist()\n",
    "df4 = pd.DataFrame(flattened_list)\n",
    "df4.drop(columns=['keyword'], inplace=True)"
   ]
  },
  {
   "cell_type": "code",
   "execution_count": null,
   "metadata": {
    "id": "NafzUxKAIsWS"
   },
   "outputs": [],
   "source": [
    "#adding the video counts to the date ranges table\n",
    "df_weeks['videos_count'] = videos_count_list"
   ]
  },
  {
   "cell_type": "code",
   "execution_count": null,
   "metadata": {
    "id": "7t6WvqRcI3P4"
   },
   "outputs": [],
   "source": [
    "df_weeks.to_csv(\"date_ranges_ATV_4.csv\")\n",
    "df4.to_csv(\"ATV_weeks.csv\")"
   ]
  },
  {
   "cell_type": "markdown",
   "metadata": {
    "id": "L12W0vuhLumc"
   },
   "source": [
    "## Half-week periods (Not needed, no weeks with more than 50)"
   ]
  },
  {
   "cell_type": "code",
   "execution_count": null,
   "metadata": {
    "id": "KEwhD1z8QI03",
    "outputId": "2e190160-bbba-447e-b63f-40d67b17122f"
   },
   "outputs": [
    {
     "data": {
      "text/html": [
       "<div>\n",
       "<style scoped>\n",
       "    .dataframe tbody tr th:only-of-type {\n",
       "        vertical-align: middle;\n",
       "    }\n",
       "\n",
       "    .dataframe tbody tr th {\n",
       "        vertical-align: top;\n",
       "    }\n",
       "\n",
       "    .dataframe thead th {\n",
       "        text-align: right;\n",
       "    }\n",
       "</style>\n",
       "<table border=\"1\" class=\"dataframe\">\n",
       "  <thead>\n",
       "    <tr style=\"text-align: right;\">\n",
       "      <th></th>\n",
       "      <th>start</th>\n",
       "      <th>end</th>\n",
       "      <th>videos_count</th>\n",
       "    </tr>\n",
       "  </thead>\n",
       "  <tbody>\n",
       "    <tr>\n",
       "      <th>0</th>\n",
       "      <td>2023-04-01T00:00:00-05:00</td>\n",
       "      <td>2023-04-07T23:59:59-05:00</td>\n",
       "      <td>12</td>\n",
       "    </tr>\n",
       "    <tr>\n",
       "      <th>1</th>\n",
       "      <td>2023-04-08T00:00:00-05:00</td>\n",
       "      <td>2023-04-15T23:59:59-05:00</td>\n",
       "      <td>44</td>\n",
       "    </tr>\n",
       "    <tr>\n",
       "      <th>2</th>\n",
       "      <td>2023-04-16T00:00:00-05:00</td>\n",
       "      <td>2023-04-22T23:59:59-05:00</td>\n",
       "      <td>44</td>\n",
       "    </tr>\n",
       "    <tr>\n",
       "      <th>3</th>\n",
       "      <td>2023-04-23T00:00:00-05:00</td>\n",
       "      <td>2023-04-30T23:59:59-05:00</td>\n",
       "      <td>44</td>\n",
       "    </tr>\n",
       "    <tr>\n",
       "      <th>4</th>\n",
       "      <td>2023-05-01T00:00:00-05:00</td>\n",
       "      <td>2023-05-07T23:59:59-05:00</td>\n",
       "      <td>23</td>\n",
       "    </tr>\n",
       "    <tr>\n",
       "      <th>5</th>\n",
       "      <td>2023-05-08T00:00:00-05:00</td>\n",
       "      <td>2023-05-15T23:59:59-05:00</td>\n",
       "      <td>39</td>\n",
       "    </tr>\n",
       "    <tr>\n",
       "      <th>6</th>\n",
       "      <td>2023-05-16T00:00:00-05:00</td>\n",
       "      <td>2023-05-22T23:59:59-05:00</td>\n",
       "      <td>21</td>\n",
       "    </tr>\n",
       "    <tr>\n",
       "      <th>7</th>\n",
       "      <td>2023-05-23T00:00:00-05:00</td>\n",
       "      <td>2023-05-31T23:59:59-05:00</td>\n",
       "      <td>40</td>\n",
       "    </tr>\n",
       "    <tr>\n",
       "      <th>8</th>\n",
       "      <td>2023-06-01T00:00:00-05:00</td>\n",
       "      <td>2023-06-07T23:59:59-05:00</td>\n",
       "      <td>24</td>\n",
       "    </tr>\n",
       "    <tr>\n",
       "      <th>9</th>\n",
       "      <td>2023-06-08T00:00:00-05:00</td>\n",
       "      <td>2023-06-15T23:59:59-05:00</td>\n",
       "      <td>32</td>\n",
       "    </tr>\n",
       "    <tr>\n",
       "      <th>10</th>\n",
       "      <td>2023-06-16T00:00:00-05:00</td>\n",
       "      <td>2023-06-22T23:59:59-05:00</td>\n",
       "      <td>35</td>\n",
       "    </tr>\n",
       "    <tr>\n",
       "      <th>11</th>\n",
       "      <td>2023-06-23T00:00:00-05:00</td>\n",
       "      <td>2023-06-30T23:59:59-05:00</td>\n",
       "      <td>39</td>\n",
       "    </tr>\n",
       "    <tr>\n",
       "      <th>12</th>\n",
       "      <td>2023-07-01T00:00:00-05:00</td>\n",
       "      <td>2023-07-07T23:59:59-05:00</td>\n",
       "      <td>27</td>\n",
       "    </tr>\n",
       "    <tr>\n",
       "      <th>13</th>\n",
       "      <td>2023-07-08T00:00:00-05:00</td>\n",
       "      <td>2023-07-15T23:59:59-05:00</td>\n",
       "      <td>27</td>\n",
       "    </tr>\n",
       "    <tr>\n",
       "      <th>14</th>\n",
       "      <td>2023-07-16T00:00:00-05:00</td>\n",
       "      <td>2023-07-22T23:59:59-05:00</td>\n",
       "      <td>27</td>\n",
       "    </tr>\n",
       "    <tr>\n",
       "      <th>15</th>\n",
       "      <td>2023-07-23T00:00:00-05:00</td>\n",
       "      <td>2023-07-31T23:59:59-05:00</td>\n",
       "      <td>31</td>\n",
       "    </tr>\n",
       "    <tr>\n",
       "      <th>16</th>\n",
       "      <td>2023-08-01T00:00:00-05:00</td>\n",
       "      <td>2023-08-07T23:59:59-05:00</td>\n",
       "      <td>30</td>\n",
       "    </tr>\n",
       "    <tr>\n",
       "      <th>17</th>\n",
       "      <td>2023-08-08T00:00:00-05:00</td>\n",
       "      <td>2023-08-15T23:59:59-05:00</td>\n",
       "      <td>41</td>\n",
       "    </tr>\n",
       "    <tr>\n",
       "      <th>18</th>\n",
       "      <td>2023-08-16T00:00:00-05:00</td>\n",
       "      <td>2023-08-22T23:59:59-05:00</td>\n",
       "      <td>28</td>\n",
       "    </tr>\n",
       "    <tr>\n",
       "      <th>19</th>\n",
       "      <td>2023-08-23T00:00:00-05:00</td>\n",
       "      <td>2023-08-31T23:59:59-05:00</td>\n",
       "      <td>32</td>\n",
       "    </tr>\n",
       "    <tr>\n",
       "      <th>20</th>\n",
       "      <td>2023-10-01T00:00:00-05:00</td>\n",
       "      <td>2023-10-07T23:59:59-05:00</td>\n",
       "      <td>28</td>\n",
       "    </tr>\n",
       "    <tr>\n",
       "      <th>21</th>\n",
       "      <td>2023-10-08T00:00:00-05:00</td>\n",
       "      <td>2023-10-15T23:59:59-05:00</td>\n",
       "      <td>33</td>\n",
       "    </tr>\n",
       "    <tr>\n",
       "      <th>22</th>\n",
       "      <td>2023-10-16T00:00:00-05:00</td>\n",
       "      <td>2023-10-22T23:59:59-05:00</td>\n",
       "      <td>32</td>\n",
       "    </tr>\n",
       "    <tr>\n",
       "      <th>23</th>\n",
       "      <td>2023-10-23T00:00:00-05:00</td>\n",
       "      <td>2023-10-31T23:59:59-05:00</td>\n",
       "      <td>27</td>\n",
       "    </tr>\n",
       "    <tr>\n",
       "      <th>24</th>\n",
       "      <td>2023-11-01T00:00:00-05:00</td>\n",
       "      <td>2023-11-07T23:59:59-05:00</td>\n",
       "      <td>35</td>\n",
       "    </tr>\n",
       "    <tr>\n",
       "      <th>25</th>\n",
       "      <td>2023-11-08T00:00:00-05:00</td>\n",
       "      <td>2023-11-15T23:59:59-05:00</td>\n",
       "      <td>23</td>\n",
       "    </tr>\n",
       "    <tr>\n",
       "      <th>26</th>\n",
       "      <td>2024-01-16T00:00:00-05:00</td>\n",
       "      <td>2024-01-22T23:59:59-05:00</td>\n",
       "      <td>33</td>\n",
       "    </tr>\n",
       "    <tr>\n",
       "      <th>27</th>\n",
       "      <td>2024-01-23T00:00:00-05:00</td>\n",
       "      <td>2024-01-31T23:59:59-05:00</td>\n",
       "      <td>30</td>\n",
       "    </tr>\n",
       "    <tr>\n",
       "      <th>28</th>\n",
       "      <td>2024-04-16T00:00:00-05:00</td>\n",
       "      <td>2024-04-22T23:59:59-05:00</td>\n",
       "      <td>26</td>\n",
       "    </tr>\n",
       "    <tr>\n",
       "      <th>29</th>\n",
       "      <td>2024-04-23T00:00:00-05:00</td>\n",
       "      <td>2024-04-30T23:59:59-05:00</td>\n",
       "      <td>27</td>\n",
       "    </tr>\n",
       "    <tr>\n",
       "      <th>30</th>\n",
       "      <td>2024-05-16T00:00:00-05:00</td>\n",
       "      <td>2024-05-22T23:59:59-05:00</td>\n",
       "      <td>12</td>\n",
       "    </tr>\n",
       "    <tr>\n",
       "      <th>31</th>\n",
       "      <td>2024-05-23T00:00:00-05:00</td>\n",
       "      <td>2024-05-31T23:59:59-05:00</td>\n",
       "      <td>38</td>\n",
       "    </tr>\n",
       "    <tr>\n",
       "      <th>32</th>\n",
       "      <td>2024-07-01T00:00:00-05:00</td>\n",
       "      <td>2024-07-07T23:59:59-05:00</td>\n",
       "      <td>28</td>\n",
       "    </tr>\n",
       "    <tr>\n",
       "      <th>33</th>\n",
       "      <td>2024-07-08T00:00:00-05:00</td>\n",
       "      <td>2024-07-15T23:59:59-05:00</td>\n",
       "      <td>30</td>\n",
       "    </tr>\n",
       "    <tr>\n",
       "      <th>34</th>\n",
       "      <td>2024-09-16T00:00:00-05:00</td>\n",
       "      <td>2024-09-22T23:59:59-05:00</td>\n",
       "      <td>22</td>\n",
       "    </tr>\n",
       "    <tr>\n",
       "      <th>35</th>\n",
       "      <td>2024-09-23T00:00:00-05:00</td>\n",
       "      <td>2024-09-30T23:59:59-05:00</td>\n",
       "      <td>42</td>\n",
       "    </tr>\n",
       "    <tr>\n",
       "      <th>36</th>\n",
       "      <td>2024-10-01T00:00:00-05:00</td>\n",
       "      <td>2024-10-07T23:59:59-05:00</td>\n",
       "      <td>35</td>\n",
       "    </tr>\n",
       "    <tr>\n",
       "      <th>37</th>\n",
       "      <td>2024-10-08T00:00:00-05:00</td>\n",
       "      <td>2024-10-15T23:59:59-05:00</td>\n",
       "      <td>37</td>\n",
       "    </tr>\n",
       "    <tr>\n",
       "      <th>38</th>\n",
       "      <td>2024-10-16T00:00:00-05:00</td>\n",
       "      <td>2024-10-22T23:59:59-05:00</td>\n",
       "      <td>32</td>\n",
       "    </tr>\n",
       "    <tr>\n",
       "      <th>39</th>\n",
       "      <td>2024-10-23T00:00:00-05:00</td>\n",
       "      <td>2024-10-31T23:59:59-05:00</td>\n",
       "      <td>30</td>\n",
       "    </tr>\n",
       "    <tr>\n",
       "      <th>40</th>\n",
       "      <td>2024-11-16T00:00:00-05:00</td>\n",
       "      <td>2024-11-22T23:59:59-05:00</td>\n",
       "      <td>17</td>\n",
       "    </tr>\n",
       "    <tr>\n",
       "      <th>41</th>\n",
       "      <td>2024-11-23T00:00:00-05:00</td>\n",
       "      <td>2024-11-30T23:59:59-05:00</td>\n",
       "      <td>34</td>\n",
       "    </tr>\n",
       "    <tr>\n",
       "      <th>42</th>\n",
       "      <td>2024-12-01T00:00:00-05:00</td>\n",
       "      <td>2024-12-07T23:59:59-05:00</td>\n",
       "      <td>27</td>\n",
       "    </tr>\n",
       "    <tr>\n",
       "      <th>43</th>\n",
       "      <td>2024-12-08T00:00:00-05:00</td>\n",
       "      <td>2024-12-15T23:59:59-05:00</td>\n",
       "      <td>32</td>\n",
       "    </tr>\n",
       "    <tr>\n",
       "      <th>44</th>\n",
       "      <td>2025-01-01T00:00:00-05:00</td>\n",
       "      <td>2025-01-07T23:59:59-05:00</td>\n",
       "      <td>19</td>\n",
       "    </tr>\n",
       "    <tr>\n",
       "      <th>45</th>\n",
       "      <td>2025-01-08T00:00:00-05:00</td>\n",
       "      <td>2025-01-15T23:59:59-05:00</td>\n",
       "      <td>37</td>\n",
       "    </tr>\n",
       "    <tr>\n",
       "      <th>46</th>\n",
       "      <td>2025-01-16T00:00:00-05:00</td>\n",
       "      <td>2025-01-22T23:59:59-05:00</td>\n",
       "      <td>40</td>\n",
       "    </tr>\n",
       "    <tr>\n",
       "      <th>47</th>\n",
       "      <td>2025-01-23T00:00:00-05:00</td>\n",
       "      <td>2025-01-31T23:59:59-05:00</td>\n",
       "      <td>34</td>\n",
       "    </tr>\n",
       "    <tr>\n",
       "      <th>48</th>\n",
       "      <td>2025-02-01T00:00:00-05:00</td>\n",
       "      <td>2025-02-07T23:59:59-05:00</td>\n",
       "      <td>22</td>\n",
       "    </tr>\n",
       "    <tr>\n",
       "      <th>49</th>\n",
       "      <td>2025-02-08T00:00:00-05:00</td>\n",
       "      <td>2025-02-15T23:59:59-05:00</td>\n",
       "      <td>29</td>\n",
       "    </tr>\n",
       "    <tr>\n",
       "      <th>50</th>\n",
       "      <td>2025-02-16T00:00:00-05:00</td>\n",
       "      <td>2025-02-22T23:59:59-05:00</td>\n",
       "      <td>34</td>\n",
       "    </tr>\n",
       "    <tr>\n",
       "      <th>51</th>\n",
       "      <td>2025-02-23T00:00:00-05:00</td>\n",
       "      <td>2025-02-28T23:59:59-05:00</td>\n",
       "      <td>31</td>\n",
       "    </tr>\n",
       "  </tbody>\n",
       "</table>\n",
       "</div>"
      ],
      "text/plain": [
       "                        start                        end  videos_count\n",
       "0   2023-04-01T00:00:00-05:00  2023-04-07T23:59:59-05:00            12\n",
       "1   2023-04-08T00:00:00-05:00  2023-04-15T23:59:59-05:00            44\n",
       "2   2023-04-16T00:00:00-05:00  2023-04-22T23:59:59-05:00            44\n",
       "3   2023-04-23T00:00:00-05:00  2023-04-30T23:59:59-05:00            44\n",
       "4   2023-05-01T00:00:00-05:00  2023-05-07T23:59:59-05:00            23\n",
       "5   2023-05-08T00:00:00-05:00  2023-05-15T23:59:59-05:00            39\n",
       "6   2023-05-16T00:00:00-05:00  2023-05-22T23:59:59-05:00            21\n",
       "7   2023-05-23T00:00:00-05:00  2023-05-31T23:59:59-05:00            40\n",
       "8   2023-06-01T00:00:00-05:00  2023-06-07T23:59:59-05:00            24\n",
       "9   2023-06-08T00:00:00-05:00  2023-06-15T23:59:59-05:00            32\n",
       "10  2023-06-16T00:00:00-05:00  2023-06-22T23:59:59-05:00            35\n",
       "11  2023-06-23T00:00:00-05:00  2023-06-30T23:59:59-05:00            39\n",
       "12  2023-07-01T00:00:00-05:00  2023-07-07T23:59:59-05:00            27\n",
       "13  2023-07-08T00:00:00-05:00  2023-07-15T23:59:59-05:00            27\n",
       "14  2023-07-16T00:00:00-05:00  2023-07-22T23:59:59-05:00            27\n",
       "15  2023-07-23T00:00:00-05:00  2023-07-31T23:59:59-05:00            31\n",
       "16  2023-08-01T00:00:00-05:00  2023-08-07T23:59:59-05:00            30\n",
       "17  2023-08-08T00:00:00-05:00  2023-08-15T23:59:59-05:00            41\n",
       "18  2023-08-16T00:00:00-05:00  2023-08-22T23:59:59-05:00            28\n",
       "19  2023-08-23T00:00:00-05:00  2023-08-31T23:59:59-05:00            32\n",
       "20  2023-10-01T00:00:00-05:00  2023-10-07T23:59:59-05:00            28\n",
       "21  2023-10-08T00:00:00-05:00  2023-10-15T23:59:59-05:00            33\n",
       "22  2023-10-16T00:00:00-05:00  2023-10-22T23:59:59-05:00            32\n",
       "23  2023-10-23T00:00:00-05:00  2023-10-31T23:59:59-05:00            27\n",
       "24  2023-11-01T00:00:00-05:00  2023-11-07T23:59:59-05:00            35\n",
       "25  2023-11-08T00:00:00-05:00  2023-11-15T23:59:59-05:00            23\n",
       "26  2024-01-16T00:00:00-05:00  2024-01-22T23:59:59-05:00            33\n",
       "27  2024-01-23T00:00:00-05:00  2024-01-31T23:59:59-05:00            30\n",
       "28  2024-04-16T00:00:00-05:00  2024-04-22T23:59:59-05:00            26\n",
       "29  2024-04-23T00:00:00-05:00  2024-04-30T23:59:59-05:00            27\n",
       "30  2024-05-16T00:00:00-05:00  2024-05-22T23:59:59-05:00            12\n",
       "31  2024-05-23T00:00:00-05:00  2024-05-31T23:59:59-05:00            38\n",
       "32  2024-07-01T00:00:00-05:00  2024-07-07T23:59:59-05:00            28\n",
       "33  2024-07-08T00:00:00-05:00  2024-07-15T23:59:59-05:00            30\n",
       "34  2024-09-16T00:00:00-05:00  2024-09-22T23:59:59-05:00            22\n",
       "35  2024-09-23T00:00:00-05:00  2024-09-30T23:59:59-05:00            42\n",
       "36  2024-10-01T00:00:00-05:00  2024-10-07T23:59:59-05:00            35\n",
       "37  2024-10-08T00:00:00-05:00  2024-10-15T23:59:59-05:00            37\n",
       "38  2024-10-16T00:00:00-05:00  2024-10-22T23:59:59-05:00            32\n",
       "39  2024-10-23T00:00:00-05:00  2024-10-31T23:59:59-05:00            30\n",
       "40  2024-11-16T00:00:00-05:00  2024-11-22T23:59:59-05:00            17\n",
       "41  2024-11-23T00:00:00-05:00  2024-11-30T23:59:59-05:00            34\n",
       "42  2024-12-01T00:00:00-05:00  2024-12-07T23:59:59-05:00            27\n",
       "43  2024-12-08T00:00:00-05:00  2024-12-15T23:59:59-05:00            32\n",
       "44  2025-01-01T00:00:00-05:00  2025-01-07T23:59:59-05:00            19\n",
       "45  2025-01-08T00:00:00-05:00  2025-01-15T23:59:59-05:00            37\n",
       "46  2025-01-16T00:00:00-05:00  2025-01-22T23:59:59-05:00            40\n",
       "47  2025-01-23T00:00:00-05:00  2025-01-31T23:59:59-05:00            34\n",
       "48  2025-02-01T00:00:00-05:00  2025-02-07T23:59:59-05:00            22\n",
       "49  2025-02-08T00:00:00-05:00  2025-02-15T23:59:59-05:00            29\n",
       "50  2025-02-16T00:00:00-05:00  2025-02-22T23:59:59-05:00            34\n",
       "51  2025-02-23T00:00:00-05:00  2025-02-28T23:59:59-05:00            31"
      ]
     },
     "execution_count": 70,
     "metadata": {},
     "output_type": "execute_result"
    }
   ],
   "source": [
    "df_weeks"
   ]
  },
  {
   "cell_type": "code",
   "execution_count": null,
   "metadata": {
    "colab": {
     "base_uri": "https://localhost:8080/"
    },
    "executionInfo": {
     "elapsed": 59,
     "status": "ok",
     "timestamp": 1741544971205,
     "user": {
      "displayName": "Yana Kiprova",
      "userId": "05029747295494730402"
     },
     "user_tz": -60
    },
    "id": "busMRzZMKP6a",
    "outputId": "21f5fee6-3c82-4923-98ee-d8b17ff37a20",
    "scrolled": true
   },
   "outputs": [],
   "source": [
    "#splitting to half-weekly periods\n",
    "split_periods = []\n",
    "\n",
    "df_filtered = df_weeks[df_weeks[\"videos_count\"] == 50].copy()\n",
    "\n",
    "# Convert 'start' and 'end' to datetime\n",
    "df_filtered[\"start\"] = pd.to_datetime(df_filtered[\"start\"])\n",
    "df_filtered[\"end\"] = pd.to_datetime(df_filtered[\"end\"])\n",
    "\n",
    "# Create new DataFrame for half-month periods\n",
    "split_periods = []\n",
    "\n",
    "for _, row in df_filtered.iterrows():\n",
    "    start_date = row[\"start\"]\n",
    "    mid_date = start_date + timedelta(days=4)  # Mid-month\n",
    "    end_date = row[\"end\"]\n",
    "\n",
    "    # Ensure mid_date does not exceed end_date\n",
    "    if mid_date > end_date:\n",
    "        mid_date = end_date\n",
    "\n",
    "    # First half\n",
    "    split_periods.append({\"start\": start_date, \"end\": mid_date - timedelta(seconds=1)})\n",
    "\n",
    "    # Second half\n",
    "    split_periods.append({\"start\": mid_date, \"end\": end_date})\n",
    "\n",
    "# Create new DataFrame with split periods\n",
    "df_half_weeks = pd.DataFrame(split_periods)\n",
    "\n",
    "df_half_weeks[\"start\"] = df_half_weeks[\"start\"].dt.strftime(\"%Y-%m-%dT%H:%M:%S-05:00\")\n",
    "df_half_weeks[\"end\"] = df_half_weeks[\"end\"].dt.strftime(\"%Y-%m-%dT%H:%M:%S-05:00\")\n",
    "\n",
    "print(df_half_weeks)"
   ]
  },
  {
   "cell_type": "code",
   "execution_count": null,
   "metadata": {
    "id": "Y2AYqP95QI04",
    "outputId": "2fbfbe76-b720-467a-cfc9-4132ff647472"
   },
   "outputs": [
    {
     "name": "stdout",
     "output_type": "stream",
     "text": [
      "Empty DataFrame\n",
      "Columns: [start, end, videos_count]\n",
      "Index: []\n"
     ]
    }
   ],
   "source": [
    "print(df_filtered.head())"
   ]
  },
  {
   "cell_type": "code",
   "execution_count": null,
   "metadata": {
    "colab": {
     "base_uri": "https://localhost:8080/"
    },
    "executionInfo": {
     "elapsed": 86,
     "status": "ok",
     "timestamp": 1741545287002,
     "user": {
      "displayName": "Yana Kiprova",
      "userId": "05029747295494730402"
     },
     "user_tz": -60
    },
    "id": "KbNWBCxZLqaL",
    "outputId": "c536042d-7700-4bb0-bd8d-52261e4080e6"
   },
   "outputs": [
    {
     "data": {
      "text/plain": [
       "(40, 3)"
      ]
     },
     "execution_count": 60,
     "metadata": {},
     "output_type": "execute_result"
    }
   ],
   "source": [
    "count50 = df_weeks[df_weeks[\"videos_count\"] == 50]\n",
    "count50.shape"
   ]
  },
  {
   "cell_type": "code",
   "execution_count": null,
   "metadata": {
    "colab": {
     "base_uri": "https://localhost:8080/"
    },
    "executionInfo": {
     "elapsed": 21392,
     "status": "ok",
     "timestamp": 1741545442650,
     "user": {
      "displayName": "Yana Kiprova",
      "userId": "05029747295494730402"
     },
     "user_tz": -60
    },
    "id": "9Aya1moBMIrC",
    "outputId": "68d7b2df-c675-4a1c-b1b3-1e3c22b6e4e4"
   },
   "outputs": [
    {
     "name": "stdout",
     "output_type": "stream",
     "text": [
      "Number of videos found between 2023-05-08T00:00:00-05:00 and 2023-05-11T23:59:59-05:00: 38\n",
      "Number of videos found between 2023-05-12T00:00:00-05:00 and 2023-05-15T23:59:59-05:00: 37\n",
      "Number of videos found between 2023-05-16T00:00:00-05:00 and 2023-05-19T23:59:59-05:00: 29\n",
      "Number of videos found between 2023-05-20T00:00:00-05:00 and 2023-05-22T23:59:59-05:00: 25\n",
      "Number of videos found between 2023-05-23T00:00:00-05:00 and 2023-05-26T23:59:59-05:00: 45\n",
      "Number of videos found between 2023-05-27T00:00:00-05:00 and 2023-05-31T23:59:59-05:00: 30\n",
      "Number of videos found between 2023-06-08T00:00:00-05:00 and 2023-06-11T23:59:59-05:00: 29\n",
      "Number of videos found between 2023-06-12T00:00:00-05:00 and 2023-06-15T23:59:59-05:00: 50\n",
      "Number of videos found between 2023-06-16T00:00:00-05:00 and 2023-06-19T23:59:59-05:00: 30\n",
      "Number of videos found between 2023-06-20T00:00:00-05:00 and 2023-06-22T23:59:59-05:00: 36\n",
      "Number of videos found between 2023-06-23T00:00:00-05:00 and 2023-06-26T23:59:59-05:00: 29\n",
      "Number of videos found between 2023-06-27T00:00:00-05:00 and 2023-06-30T23:59:59-05:00: 33\n",
      "Number of videos found between 2023-07-08T00:00:00-05:00 and 2023-07-11T23:59:59-05:00: 21\n",
      "Number of videos found between 2023-07-12T00:00:00-05:00 and 2023-07-15T23:59:59-05:00: 31\n",
      "Number of videos found between 2023-07-23T00:00:00-05:00 and 2023-07-26T23:59:59-05:00: 48\n",
      "Number of videos found between 2023-07-27T00:00:00-05:00 and 2023-07-31T23:59:59-05:00: 26\n",
      "Number of videos found between 2023-08-01T00:00:00-05:00 and 2023-08-04T23:59:59-05:00: 32\n",
      "Number of videos found between 2023-08-05T00:00:00-05:00 and 2023-08-07T23:59:59-05:00: 22\n",
      "Number of videos found between 2023-08-08T00:00:00-05:00 and 2023-08-11T23:59:59-05:00: 50\n",
      "Number of videos found between 2023-08-12T00:00:00-05:00 and 2023-08-15T23:59:59-05:00: 28\n",
      "Number of videos found between 2023-08-16T00:00:00-05:00 and 2023-08-19T23:59:59-05:00: 26\n",
      "Number of videos found between 2023-08-20T00:00:00-05:00 and 2023-08-22T23:59:59-05:00: 38\n",
      "Number of videos found between 2023-08-23T00:00:00-05:00 and 2023-08-26T23:59:59-05:00: 34\n",
      "Number of videos found between 2023-08-27T00:00:00-05:00 and 2023-08-31T23:59:59-05:00: 44\n",
      "Number of videos found between 2023-10-01T00:00:00-05:00 and 2023-10-04T23:59:59-05:00: 39\n",
      "Number of videos found between 2023-10-05T00:00:00-05:00 and 2023-10-07T23:59:59-05:00: 10\n",
      "Number of videos found between 2023-10-23T00:00:00-05:00 and 2023-10-26T23:59:59-05:00: 29\n",
      "Number of videos found between 2023-10-27T00:00:00-05:00 and 2023-10-31T23:59:59-05:00: 33\n",
      "Number of videos found between 2024-01-16T00:00:00-05:00 and 2024-01-19T23:59:59-05:00: 42\n",
      "Number of videos found between 2024-01-20T00:00:00-05:00 and 2024-01-22T23:59:59-05:00: 13\n",
      "Number of videos found between 2024-04-08T00:00:00-05:00 and 2024-04-11T23:59:59-05:00: 38\n",
      "Number of videos found between 2024-04-12T00:00:00-05:00 and 2024-04-15T23:59:59-05:00: 12\n",
      "Number of videos found between 2024-06-01T00:00:00-05:00 and 2024-06-04T23:59:59-05:00: 14\n",
      "Number of videos found between 2024-06-05T00:00:00-05:00 and 2024-06-07T23:59:59-05:00: 36\n",
      "Number of videos found between 2024-06-08T00:00:00-05:00 and 2024-06-11T23:59:59-05:00: 36\n",
      "Number of videos found between 2024-06-12T00:00:00-05:00 and 2024-06-15T23:59:59-05:00: 35\n",
      "Number of videos found between 2024-06-16T00:00:00-05:00 and 2024-06-19T23:59:59-05:00: 50\n",
      "Number of videos found between 2024-06-20T00:00:00-05:00 and 2024-06-22T23:59:59-05:00: 7\n",
      "Number of videos found between 2024-08-08T00:00:00-05:00 and 2024-08-11T23:59:59-05:00: 30\n",
      "Number of videos found between 2024-08-12T00:00:00-05:00 and 2024-08-15T23:59:59-05:00: 47\n",
      "Number of videos found between 2024-08-23T00:00:00-05:00 and 2024-08-26T23:59:59-05:00: 19\n",
      "Number of videos found between 2024-08-27T00:00:00-05:00 and 2024-08-31T23:59:59-05:00: 50\n",
      "Number of videos found between 2024-09-01T00:00:00-05:00 and 2024-09-04T23:59:59-05:00: 50\n",
      "Number of videos found between 2024-09-05T00:00:00-05:00 and 2024-09-07T23:59:59-05:00: 27\n",
      "Number of videos found between 2024-09-08T00:00:00-05:00 and 2024-09-11T23:59:59-05:00: 48\n",
      "Number of videos found between 2024-09-12T00:00:00-05:00 and 2024-09-15T23:59:59-05:00: 22\n",
      "Number of videos found between 2024-09-16T00:00:00-05:00 and 2024-09-19T23:59:59-05:00: 50\n",
      "Number of videos found between 2024-09-20T00:00:00-05:00 and 2024-09-22T23:59:59-05:00: 15\n",
      "Number of videos found between 2024-09-23T00:00:00-05:00 and 2024-09-26T23:59:59-05:00: 39\n",
      "Number of videos found between 2024-09-27T00:00:00-05:00 and 2024-09-30T23:59:59-05:00: 36\n",
      "Number of videos found between 2024-10-08T00:00:00-05:00 and 2024-10-11T23:59:59-05:00: 40\n",
      "Number of videos found between 2024-10-12T00:00:00-05:00 and 2024-10-15T23:59:59-05:00: 43\n",
      "Number of videos found between 2024-10-16T00:00:00-05:00 and 2024-10-19T23:59:59-05:00: 26\n",
      "Number of videos found between 2024-10-20T00:00:00-05:00 and 2024-10-22T23:59:59-05:00: 35\n",
      "Number of videos found between 2024-10-23T00:00:00-05:00 and 2024-10-26T23:59:59-05:00: 36\n",
      "Number of videos found between 2024-10-27T00:00:00-05:00 and 2024-10-31T23:59:59-05:00: 49\n",
      "Number of videos found between 2024-11-01T00:00:00-05:00 and 2024-11-04T23:59:59-05:00: 32\n",
      "Number of videos found between 2024-11-05T00:00:00-05:00 and 2024-11-07T23:59:59-05:00: 28\n",
      "Number of videos found between 2024-11-16T00:00:00-05:00 and 2024-11-19T23:59:59-05:00: 34\n",
      "Number of videos found between 2024-11-20T00:00:00-05:00 and 2024-11-22T23:59:59-05:00: 31\n",
      "Number of videos found between 2024-11-23T00:00:00-05:00 and 2024-11-26T23:59:59-05:00: 28\n",
      "Number of videos found between 2024-11-27T00:00:00-05:00 and 2024-11-30T23:59:59-05:00: 50\n",
      "Number of videos found between 2024-12-01T00:00:00-05:00 and 2024-12-04T23:59:59-05:00: 42\n",
      "Number of videos found between 2024-12-05T00:00:00-05:00 and 2024-12-07T23:59:59-05:00: 15\n",
      "Number of videos found between 2024-12-08T00:00:00-05:00 and 2024-12-11T23:59:59-05:00: 46\n",
      "Number of videos found between 2024-12-12T00:00:00-05:00 and 2024-12-15T23:59:59-05:00: 32\n",
      "Number of videos found between 2025-01-08T00:00:00-05:00 and 2025-01-11T23:59:59-05:00: 24\n",
      "Number of videos found between 2025-01-12T00:00:00-05:00 and 2025-01-15T23:59:59-05:00: 48\n",
      "Number of videos found between 2025-01-16T00:00:00-05:00 and 2025-01-19T23:59:59-05:00: 43\n",
      "Number of videos found between 2025-01-20T00:00:00-05:00 and 2025-01-22T23:59:59-05:00: 39\n",
      "Number of videos found between 2025-01-23T00:00:00-05:00 and 2025-01-26T23:59:59-05:00: 35\n",
      "Number of videos found between 2025-01-27T00:00:00-05:00 and 2025-01-31T23:59:59-05:00: 34\n",
      "Number of videos found between 2025-02-01T00:00:00-05:00 and 2025-02-04T23:59:59-05:00: 29\n",
      "Number of videos found between 2025-02-05T00:00:00-05:00 and 2025-02-07T23:59:59-05:00: 33\n",
      "Number of videos found between 2025-02-08T00:00:00-05:00 and 2025-02-11T23:59:59-05:00: 50\n",
      "Number of videos found between 2025-02-12T00:00:00-05:00 and 2025-02-15T23:59:59-05:00: 16\n",
      "Number of videos found between 2025-02-16T00:00:00-05:00 and 2025-02-19T23:59:59-05:00: 34\n",
      "Number of videos found between 2025-02-20T00:00:00-05:00 and 2025-02-22T23:59:59-05:00: 24\n",
      "Number of videos found between 2025-02-23T00:00:00-05:00 and 2025-02-26T23:59:59-05:00: 43\n",
      "Number of videos found between 2025-02-27T00:00:00-05:00 and 2025-02-28T23:59:59-05:00: 21\n"
     ]
    }
   ],
   "source": [
    "# Getting the youtube videos for the half weekly periods\n",
    "channel_id = \"UCpSJ5fGhmAME9Kx2D3ZvN3Q\" # Latina Noticias\n",
    "max_results = 50\n",
    "order = \"date\"\n",
    "keyword = \"robo|robó|roban|robaron|delincuentes|criminales|asalto|asaltó|asaltan|asaltaron|matan|mató|mataron|ladrón|asesinato|asesinado|asesinan|asesinaron|extorsionadores|extorsionador|extorsionan|extorsionaron|extorsionó|secuestro|secuestradores|secuestrada|secuestrado|secuestró|secuestraron|balacera|balean|balearon|balazos|sicariato|mafias|mafia|sicarios\"\n",
    "\n",
    "# Create empty dataframe for first time running it\n",
    "df = pd.DataFrame(columns=['video_id','title','url','channel','keyword','video_date'])\n",
    "videos_list = []\n",
    "videos_count_list = []\n",
    "\n",
    "for index, row in df_half_weeks.iterrows():\n",
    "    published_after = row['start']\n",
    "    published_before = row['end']\n",
    "\n",
    "\n",
    "    all = get_youtube_videos(api_key, channel_id, keyword, max_results,\n",
    "                                                          order, published_after, published_before)\n",
    "    videos = all[0]\n",
    "    video_count = all[1]\n",
    "    videos_list.append(videos)\n",
    "    videos_count_list.append(video_count)"
   ]
  },
  {
   "cell_type": "code",
   "execution_count": null,
   "metadata": {
    "id": "aLCI6Yr1M6eQ"
   },
   "outputs": [],
   "source": [
    "#creating a df with the outputs\n",
    "flattened_list = np.concatenate(videos_list).tolist()\n",
    "df5 = pd.DataFrame(flattened_list)\n",
    "df5.drop(columns=['keyword'], inplace=True)"
   ]
  },
  {
   "cell_type": "code",
   "execution_count": null,
   "metadata": {
    "id": "tGwQLQ4vNPRF"
   },
   "outputs": [],
   "source": [
    "#adding the video counts to the date ranges table\n",
    "df_half_weeks['videos_count'] = videos_count_list"
   ]
  },
  {
   "cell_type": "code",
   "execution_count": null,
   "metadata": {
    "colab": {
     "base_uri": "https://localhost:8080/",
     "height": 17
    },
    "executionInfo": {
     "elapsed": 12,
     "status": "ok",
     "timestamp": 1741545966451,
     "user": {
      "displayName": "Yana Kiprova",
      "userId": "05029747295494730402"
     },
     "user_tz": -60
    },
    "id": "R9RwQuDVNYnc",
    "outputId": "51cfdc0e-14e4-40d2-feb1-9d67219d37cf"
   },
   "outputs": [],
   "source": [
    "df_half_weeks.to_csv(\"date_ranges_4.csv\")\n",
    "files.download('date_ranges_4.csv')\n",
    "#df5.to_csv(\"video_titles_03.09.3.csv\")\n",
    "#files.download('video_titles_03.09.3.csv')"
   ]
  },
  {
   "cell_type": "markdown",
   "metadata": {
    "id": "QswdLNGAN-ja"
   },
   "source": [
    "## Couple days periods (not needed)"
   ]
  },
  {
   "cell_type": "code",
   "execution_count": null,
   "metadata": {
    "colab": {
     "base_uri": "https://localhost:8080/",
     "height": 53
    },
    "executionInfo": {
     "elapsed": 67354,
     "status": "ok",
     "timestamp": 1741616053415,
     "user": {
      "displayName": "Yana Kiprova",
      "userId": "05029747295494730402"
     },
     "user_tz": -60
    },
    "id": "rB8JqfQwYbLQ",
    "outputId": "1e68eac6-faa3-4c09-bb86-c188103466f4"
   },
   "outputs": [
    {
     "data": {
      "text/html": [
       "\n",
       "     <input type=\"file\" id=\"files-69d129b6-ac40-4d40-94b0-6a2561fe372a\" name=\"files[]\" multiple disabled\n",
       "        style=\"border:none\" />\n",
       "     <output id=\"result-69d129b6-ac40-4d40-94b0-6a2561fe372a\">\n",
       "      Upload widget is only available when the cell has been executed in the\n",
       "      current browser session. Please rerun this cell to enable.\n",
       "      </output>\n",
       "      <script>// Copyright 2017 Google LLC\n",
       "//\n",
       "// Licensed under the Apache License, Version 2.0 (the \"License\");\n",
       "// you may not use this file except in compliance with the License.\n",
       "// You may obtain a copy of the License at\n",
       "//\n",
       "//      http://www.apache.org/licenses/LICENSE-2.0\n",
       "//\n",
       "// Unless required by applicable law or agreed to in writing, software\n",
       "// distributed under the License is distributed on an \"AS IS\" BASIS,\n",
       "// WITHOUT WARRANTIES OR CONDITIONS OF ANY KIND, either express or implied.\n",
       "// See the License for the specific language governing permissions and\n",
       "// limitations under the License.\n",
       "\n",
       "/**\n",
       " * @fileoverview Helpers for google.colab Python module.\n",
       " */\n",
       "(function(scope) {\n",
       "function span(text, styleAttributes = {}) {\n",
       "  const element = document.createElement('span');\n",
       "  element.textContent = text;\n",
       "  for (const key of Object.keys(styleAttributes)) {\n",
       "    element.style[key] = styleAttributes[key];\n",
       "  }\n",
       "  return element;\n",
       "}\n",
       "\n",
       "// Max number of bytes which will be uploaded at a time.\n",
       "const MAX_PAYLOAD_SIZE = 100 * 1024;\n",
       "\n",
       "function _uploadFiles(inputId, outputId) {\n",
       "  const steps = uploadFilesStep(inputId, outputId);\n",
       "  const outputElement = document.getElementById(outputId);\n",
       "  // Cache steps on the outputElement to make it available for the next call\n",
       "  // to uploadFilesContinue from Python.\n",
       "  outputElement.steps = steps;\n",
       "\n",
       "  return _uploadFilesContinue(outputId);\n",
       "}\n",
       "\n",
       "// This is roughly an async generator (not supported in the browser yet),\n",
       "// where there are multiple asynchronous steps and the Python side is going\n",
       "// to poll for completion of each step.\n",
       "// This uses a Promise to block the python side on completion of each step,\n",
       "// then passes the result of the previous step as the input to the next step.\n",
       "function _uploadFilesContinue(outputId) {\n",
       "  const outputElement = document.getElementById(outputId);\n",
       "  const steps = outputElement.steps;\n",
       "\n",
       "  const next = steps.next(outputElement.lastPromiseValue);\n",
       "  return Promise.resolve(next.value.promise).then((value) => {\n",
       "    // Cache the last promise value to make it available to the next\n",
       "    // step of the generator.\n",
       "    outputElement.lastPromiseValue = value;\n",
       "    return next.value.response;\n",
       "  });\n",
       "}\n",
       "\n",
       "/**\n",
       " * Generator function which is called between each async step of the upload\n",
       " * process.\n",
       " * @param {string} inputId Element ID of the input file picker element.\n",
       " * @param {string} outputId Element ID of the output display.\n",
       " * @return {!Iterable<!Object>} Iterable of next steps.\n",
       " */\n",
       "function* uploadFilesStep(inputId, outputId) {\n",
       "  const inputElement = document.getElementById(inputId);\n",
       "  inputElement.disabled = false;\n",
       "\n",
       "  const outputElement = document.getElementById(outputId);\n",
       "  outputElement.innerHTML = '';\n",
       "\n",
       "  const pickedPromise = new Promise((resolve) => {\n",
       "    inputElement.addEventListener('change', (e) => {\n",
       "      resolve(e.target.files);\n",
       "    });\n",
       "  });\n",
       "\n",
       "  const cancel = document.createElement('button');\n",
       "  inputElement.parentElement.appendChild(cancel);\n",
       "  cancel.textContent = 'Cancel upload';\n",
       "  const cancelPromise = new Promise((resolve) => {\n",
       "    cancel.onclick = () => {\n",
       "      resolve(null);\n",
       "    };\n",
       "  });\n",
       "\n",
       "  // Wait for the user to pick the files.\n",
       "  const files = yield {\n",
       "    promise: Promise.race([pickedPromise, cancelPromise]),\n",
       "    response: {\n",
       "      action: 'starting',\n",
       "    }\n",
       "  };\n",
       "\n",
       "  cancel.remove();\n",
       "\n",
       "  // Disable the input element since further picks are not allowed.\n",
       "  inputElement.disabled = true;\n",
       "\n",
       "  if (!files) {\n",
       "    return {\n",
       "      response: {\n",
       "        action: 'complete',\n",
       "      }\n",
       "    };\n",
       "  }\n",
       "\n",
       "  for (const file of files) {\n",
       "    const li = document.createElement('li');\n",
       "    li.append(span(file.name, {fontWeight: 'bold'}));\n",
       "    li.append(span(\n",
       "        `(${file.type || 'n/a'}) - ${file.size} bytes, ` +\n",
       "        `last modified: ${\n",
       "            file.lastModifiedDate ? file.lastModifiedDate.toLocaleDateString() :\n",
       "                                    'n/a'} - `));\n",
       "    const percent = span('0% done');\n",
       "    li.appendChild(percent);\n",
       "\n",
       "    outputElement.appendChild(li);\n",
       "\n",
       "    const fileDataPromise = new Promise((resolve) => {\n",
       "      const reader = new FileReader();\n",
       "      reader.onload = (e) => {\n",
       "        resolve(e.target.result);\n",
       "      };\n",
       "      reader.readAsArrayBuffer(file);\n",
       "    });\n",
       "    // Wait for the data to be ready.\n",
       "    let fileData = yield {\n",
       "      promise: fileDataPromise,\n",
       "      response: {\n",
       "        action: 'continue',\n",
       "      }\n",
       "    };\n",
       "\n",
       "    // Use a chunked sending to avoid message size limits. See b/62115660.\n",
       "    let position = 0;\n",
       "    do {\n",
       "      const length = Math.min(fileData.byteLength - position, MAX_PAYLOAD_SIZE);\n",
       "      const chunk = new Uint8Array(fileData, position, length);\n",
       "      position += length;\n",
       "\n",
       "      const base64 = btoa(String.fromCharCode.apply(null, chunk));\n",
       "      yield {\n",
       "        response: {\n",
       "          action: 'append',\n",
       "          file: file.name,\n",
       "          data: base64,\n",
       "        },\n",
       "      };\n",
       "\n",
       "      let percentDone = fileData.byteLength === 0 ?\n",
       "          100 :\n",
       "          Math.round((position / fileData.byteLength) * 100);\n",
       "      percent.textContent = `${percentDone}% done`;\n",
       "\n",
       "    } while (position < fileData.byteLength);\n",
       "  }\n",
       "\n",
       "  // All done.\n",
       "  yield {\n",
       "    response: {\n",
       "      action: 'complete',\n",
       "    }\n",
       "  };\n",
       "}\n",
       "\n",
       "scope.google = scope.google || {};\n",
       "scope.google.colab = scope.google.colab || {};\n",
       "scope.google.colab._files = {\n",
       "  _uploadFiles,\n",
       "  _uploadFilesContinue,\n",
       "};\n",
       "})(self);\n",
       "</script> "
      ],
      "text/plain": [
       "<IPython.core.display.HTML object>"
      ]
     },
     "metadata": {},
     "output_type": "display_data"
    },
    {
     "name": "stdout",
     "output_type": "stream",
     "text": [
      "Saving date_ranges_4.csv to date_ranges_4.csv\n"
     ]
    }
   ],
   "source": [
    "uploaded = files.upload()"
   ]
  },
  {
   "cell_type": "code",
   "execution_count": null,
   "metadata": {
    "id": "P2uymZ60aFmr"
   },
   "outputs": [],
   "source": [
    "df_half_weeks = pd.read_csv(\"date_ranges_4.csv\")"
   ]
  },
  {
   "cell_type": "code",
   "execution_count": null,
   "metadata": {
    "colab": {
     "base_uri": "https://localhost:8080/"
    },
    "executionInfo": {
     "elapsed": 37,
     "status": "ok",
     "timestamp": 1741616234727,
     "user": {
      "displayName": "Yana Kiprova",
      "userId": "05029747295494730402"
     },
     "user_tz": -60
    },
    "id": "KRrQd8AFN90C",
    "outputId": "1395769a-42e0-4362-a856-17209bd021ad"
   },
   "outputs": [
    {
     "name": "stdout",
     "output_type": "stream",
     "text": [
      "                        start                        end\n",
      "0   2023-06-12T00:00:00-05:00  2023-06-13T23:59:59-05:00\n",
      "1   2023-06-14T00:00:00-05:00  2023-06-15T23:59:59-05:00\n",
      "2   2023-08-08T00:00:00-05:00  2023-08-09T23:59:59-05:00\n",
      "3   2023-08-10T00:00:00-05:00  2023-08-11T23:59:59-05:00\n",
      "4   2024-06-16T00:00:00-05:00  2024-06-17T23:59:59-05:00\n",
      "5   2024-06-18T00:00:00-05:00  2024-06-19T23:59:59-05:00\n",
      "6   2024-08-27T00:00:00-05:00  2024-08-28T23:59:59-05:00\n",
      "7   2024-08-29T00:00:00-05:00  2024-08-31T23:59:59-05:00\n",
      "8   2024-09-01T00:00:00-05:00  2024-09-02T23:59:59-05:00\n",
      "9   2024-09-03T00:00:00-05:00  2024-09-04T23:59:59-05:00\n",
      "10  2024-09-16T00:00:00-05:00  2024-09-17T23:59:59-05:00\n",
      "11  2024-09-18T00:00:00-05:00  2024-09-19T23:59:59-05:00\n",
      "12  2024-11-27T00:00:00-05:00  2024-11-28T23:59:59-05:00\n",
      "13  2024-11-29T00:00:00-05:00  2024-11-30T23:59:59-05:00\n",
      "14  2025-02-08T00:00:00-05:00  2025-02-09T23:59:59-05:00\n",
      "15  2025-02-10T00:00:00-05:00  2025-02-11T23:59:59-05:00\n"
     ]
    }
   ],
   "source": [
    "#splitting to half-weekly periods\n",
    "split_periods = []\n",
    "\n",
    "df_filtered = df_half_weeks[df_half_weeks[\"videos_count\"] == 50].copy()\n",
    "\n",
    "# Convert 'start' and 'end' to datetime\n",
    "df_filtered[\"start\"] = pd.to_datetime(df_filtered[\"start\"])\n",
    "df_filtered[\"end\"] = pd.to_datetime(df_filtered[\"end\"])\n",
    "\n",
    "# Create new DataFrame for half-month periods\n",
    "split_periods = []\n",
    "\n",
    "for _, row in df_filtered.iterrows():\n",
    "    start_date = row[\"start\"]\n",
    "    mid_date = start_date + timedelta(days=2)\n",
    "    end_date = row[\"end\"]\n",
    "\n",
    "    # Ensure mid_date does not exceed end_date\n",
    "    if mid_date > end_date:\n",
    "        mid_date = end_date\n",
    "\n",
    "    # First half\n",
    "    split_periods.append({\"start\": start_date, \"end\": mid_date - timedelta(seconds=1)})\n",
    "\n",
    "    # Second half\n",
    "    split_periods.append({\"start\": mid_date, \"end\": end_date})\n",
    "\n",
    "# Create new DataFrame with split periods\n",
    "df_couple_days = pd.DataFrame(split_periods)\n",
    "\n",
    "df_couple_days[\"start\"] = df_couple_days[\"start\"].dt.strftime(\"%Y-%m-%dT%H:%M:%S-05:00\")\n",
    "df_couple_days[\"end\"] = df_couple_days[\"end\"].dt.strftime(\"%Y-%m-%dT%H:%M:%S-05:00\")\n",
    "\n",
    "print(df_couple_days)"
   ]
  },
  {
   "cell_type": "code",
   "execution_count": null,
   "metadata": {
    "colab": {
     "base_uri": "https://localhost:8080/"
    },
    "executionInfo": {
     "elapsed": 15,
     "status": "ok",
     "timestamp": 1741616296254,
     "user": {
      "displayName": "Yana Kiprova",
      "userId": "05029747295494730402"
     },
     "user_tz": -60
    },
    "id": "T1K538Hla1K9",
    "outputId": "961b5742-1690-4a35-9add-3404f15e6149"
   },
   "outputs": [
    {
     "data": {
      "text/plain": [
       "(8, 4)"
      ]
     },
     "execution_count": 13,
     "metadata": {},
     "output_type": "execute_result"
    }
   ],
   "source": [
    "#validating that the number of periods id correct\n",
    "count50 = df_half_weeks[df_half_weeks[\"videos_count\"] == 50]\n",
    "count50.shape"
   ]
  },
  {
   "cell_type": "code",
   "execution_count": null,
   "metadata": {
    "colab": {
     "base_uri": "https://localhost:8080/"
    },
    "executionInfo": {
     "elapsed": 5306,
     "status": "ok",
     "timestamp": 1741616461194,
     "user": {
      "displayName": "Yana Kiprova",
      "userId": "05029747295494730402"
     },
     "user_tz": -60
    },
    "id": "A2aCIsrdbEcE",
    "outputId": "34c1272f-c970-4f70-ff1c-6de54fbad525"
   },
   "outputs": [
    {
     "name": "stdout",
     "output_type": "stream",
     "text": [
      "Number of videos found between 2023-06-12T00:00:00-05:00 and 2023-06-13T23:59:59-05:00: 20\n",
      "Number of videos found between 2023-06-14T00:00:00-05:00 and 2023-06-15T23:59:59-05:00: 33\n",
      "Number of videos found between 2023-08-08T00:00:00-05:00 and 2023-08-09T23:59:59-05:00: 24\n",
      "Number of videos found between 2023-08-10T00:00:00-05:00 and 2023-08-11T23:59:59-05:00: 44\n",
      "Number of videos found between 2024-06-16T00:00:00-05:00 and 2024-06-17T23:59:59-05:00: 24\n",
      "Number of videos found between 2024-06-18T00:00:00-05:00 and 2024-06-19T23:59:59-05:00: 29\n",
      "Number of videos found between 2024-08-27T00:00:00-05:00 and 2024-08-28T23:59:59-05:00: 26\n",
      "Number of videos found between 2024-08-29T00:00:00-05:00 and 2024-08-31T23:59:59-05:00: 28\n",
      "Number of videos found between 2024-09-01T00:00:00-05:00 and 2024-09-02T23:59:59-05:00: 27\n",
      "Number of videos found between 2024-09-03T00:00:00-05:00 and 2024-09-04T23:59:59-05:00: 32\n",
      "Number of videos found between 2024-09-16T00:00:00-05:00 and 2024-09-17T23:59:59-05:00: 20\n",
      "Number of videos found between 2024-09-18T00:00:00-05:00 and 2024-09-19T23:59:59-05:00: 33\n",
      "Number of videos found between 2024-11-27T00:00:00-05:00 and 2024-11-28T23:59:59-05:00: 36\n",
      "Number of videos found between 2024-11-29T00:00:00-05:00 and 2024-11-30T23:59:59-05:00: 14\n",
      "Number of videos found between 2025-02-08T00:00:00-05:00 and 2025-02-09T23:59:59-05:00: 5\n",
      "Number of videos found between 2025-02-10T00:00:00-05:00 and 2025-02-11T23:59:59-05:00: 46\n"
     ]
    }
   ],
   "source": [
    "# Getting the youtube videos for the half weekly periods\n",
    "channel_id = \"UCpSJ5fGhmAME9Kx2D3ZvN3Q\" # Latina Noticias\n",
    "max_results = 50\n",
    "order = \"date\"\n",
    "keyword = \"robo|robó|roban|robaron|delincuentes|criminales|asalto|asaltó|asaltan|asaltaron|matan|mató|mataron|ladrón|asesinato|asesinado|asesinan|asesinaron|extorsionadores|extorsionador|extorsionan|extorsionaron|extorsionó|secuestro|secuestradores|secuestrada|secuestrado|secuestró|secuestraron|balacera|balean|balearon|balazos|sicariato|mafias|mafia|sicarios\"\n",
    "\n",
    "# Create empty dataframe for first time running it\n",
    "df = pd.DataFrame(columns=['video_id','title','url','channel','keyword','video_date'])\n",
    "videos_list = []\n",
    "videos_count_list = []\n",
    "\n",
    "for index, row in df_couple_days.iterrows():\n",
    "    published_after = row['start']\n",
    "    published_before = row['end']\n",
    "\n",
    "\n",
    "    all = get_youtube_videos(api_key, channel_id, keyword, max_results,\n",
    "                                                          order, published_after, published_before)\n",
    "    videos = all[0]\n",
    "    video_count = all[1]\n",
    "    videos_list.append(videos)\n",
    "    videos_count_list.append(video_count)"
   ]
  },
  {
   "cell_type": "code",
   "execution_count": null,
   "metadata": {
    "id": "YFnWSPOKbpX0"
   },
   "outputs": [],
   "source": [
    "#creating a df with the outputs\n",
    "flattened_list = np.concatenate(videos_list).tolist()\n",
    "df6 = pd.DataFrame(flattened_list)\n",
    "df6.drop(columns=['keyword'], inplace=True)"
   ]
  },
  {
   "cell_type": "code",
   "execution_count": null,
   "metadata": {
    "id": "SLxEz6v3bzGX"
   },
   "outputs": [],
   "source": [
    "#adding the video counts to the date ranges table\n",
    "df_couple_days['videos_count'] = videos_count_list"
   ]
  },
  {
   "cell_type": "code",
   "execution_count": null,
   "metadata": {
    "colab": {
     "base_uri": "https://localhost:8080/",
     "height": 17
    },
    "executionInfo": {
     "elapsed": 80,
     "status": "ok",
     "timestamp": 1741616646397,
     "user": {
      "displayName": "Yana Kiprova",
      "userId": "05029747295494730402"
     },
     "user_tz": -60
    },
    "id": "AFl2M34Sb7qw",
    "outputId": "5b6da2c6-ca79-4703-8c47-89a8cf85a341"
   },
   "outputs": [
    {
     "data": {
      "application/javascript": [
       "\n",
       "    async function download(id, filename, size) {\n",
       "      if (!google.colab.kernel.accessAllowed) {\n",
       "        return;\n",
       "      }\n",
       "      const div = document.createElement('div');\n",
       "      const label = document.createElement('label');\n",
       "      label.textContent = `Downloading \"${filename}\": `;\n",
       "      div.appendChild(label);\n",
       "      const progress = document.createElement('progress');\n",
       "      progress.max = size;\n",
       "      div.appendChild(progress);\n",
       "      document.body.appendChild(div);\n",
       "\n",
       "      const buffers = [];\n",
       "      let downloaded = 0;\n",
       "\n",
       "      const channel = await google.colab.kernel.comms.open(id);\n",
       "      // Send a message to notify the kernel that we're ready.\n",
       "      channel.send({})\n",
       "\n",
       "      for await (const message of channel.messages) {\n",
       "        // Send a message to notify the kernel that we're ready.\n",
       "        channel.send({})\n",
       "        if (message.buffers) {\n",
       "          for (const buffer of message.buffers) {\n",
       "            buffers.push(buffer);\n",
       "            downloaded += buffer.byteLength;\n",
       "            progress.value = downloaded;\n",
       "          }\n",
       "        }\n",
       "      }\n",
       "      const blob = new Blob(buffers, {type: 'application/binary'});\n",
       "      const a = document.createElement('a');\n",
       "      a.href = window.URL.createObjectURL(blob);\n",
       "      a.download = filename;\n",
       "      div.appendChild(a);\n",
       "      a.click();\n",
       "      div.remove();\n",
       "    }\n",
       "  "
      ],
      "text/plain": [
       "<IPython.core.display.Javascript object>"
      ]
     },
     "metadata": {},
     "output_type": "display_data"
    },
    {
     "data": {
      "application/javascript": [
       "download(\"download_6f458ccb-157c-4e57-8596-15c795e79c4d\", \"date_ranges_5.csv\", 941)"
      ],
      "text/plain": [
       "<IPython.core.display.Javascript object>"
      ]
     },
     "metadata": {},
     "output_type": "display_data"
    },
    {
     "data": {
      "application/javascript": [
       "\n",
       "    async function download(id, filename, size) {\n",
       "      if (!google.colab.kernel.accessAllowed) {\n",
       "        return;\n",
       "      }\n",
       "      const div = document.createElement('div');\n",
       "      const label = document.createElement('label');\n",
       "      label.textContent = `Downloading \"${filename}\": `;\n",
       "      div.appendChild(label);\n",
       "      const progress = document.createElement('progress');\n",
       "      progress.max = size;\n",
       "      div.appendChild(progress);\n",
       "      document.body.appendChild(div);\n",
       "\n",
       "      const buffers = [];\n",
       "      let downloaded = 0;\n",
       "\n",
       "      const channel = await google.colab.kernel.comms.open(id);\n",
       "      // Send a message to notify the kernel that we're ready.\n",
       "      channel.send({})\n",
       "\n",
       "      for await (const message of channel.messages) {\n",
       "        // Send a message to notify the kernel that we're ready.\n",
       "        channel.send({})\n",
       "        if (message.buffers) {\n",
       "          for (const buffer of message.buffers) {\n",
       "            buffers.push(buffer);\n",
       "            downloaded += buffer.byteLength;\n",
       "            progress.value = downloaded;\n",
       "          }\n",
       "        }\n",
       "      }\n",
       "      const blob = new Blob(buffers, {type: 'application/binary'});\n",
       "      const a = document.createElement('a');\n",
       "      a.href = window.URL.createObjectURL(blob);\n",
       "      a.download = filename;\n",
       "      div.appendChild(a);\n",
       "      a.click();\n",
       "      div.remove();\n",
       "    }\n",
       "  "
      ],
      "text/plain": [
       "<IPython.core.display.Javascript object>"
      ]
     },
     "metadata": {},
     "output_type": "display_data"
    },
    {
     "data": {
      "application/javascript": [
       "download(\"download_5f12dbdc-f4f6-4762-81f8-8e1c7685edeb\", \"video_titles_03.09.4.csv\", 86159)"
      ],
      "text/plain": [
       "<IPython.core.display.Javascript object>"
      ]
     },
     "metadata": {},
     "output_type": "display_data"
    }
   ],
   "source": [
    "df_couple_days.to_csv(\"date_ranges_5.csv\")\n",
    "files.download('date_ranges_5.csv')\n",
    "df6.to_csv(\"video_titles_03.09.4.csv\")\n",
    "files.download('video_titles_03.09.4.csv')"
   ]
  },
  {
   "cell_type": "markdown",
   "metadata": {
    "id": "UBj6b0SWcf1C"
   },
   "source": [
    "## Combining all the video that have not already been collected"
   ]
  },
  {
   "cell_type": "code",
   "execution_count": null,
   "metadata": {
    "id": "z4a3podtQI0_",
    "outputId": "fd76599d-71b8-4ed7-c991-f7f70e388051",
    "scrolled": false
   },
   "outputs": [],
   "source": [
    "#DFs to combine: ATV_df_1, ATV_halfmonths_2, atv_weeks\n",
    "\n",
    "ATV_df_1 = pd.read_csv(\"ATV_df_1.csv\")\n",
    "ATV_df_1= ATV_df_1.drop(columns=['Unnamed: 0'])\n",
    "ATV_df_1.head()"
   ]
  },
  {
   "cell_type": "code",
   "execution_count": null,
   "metadata": {
    "id": "G1chgfxwQI0_",
    "outputId": "c34bbba5-c0b4-4975-cfe8-38c1fb3c71c9",
    "scrolled": true
   },
   "outputs": [],
   "source": [
    "# ATV_halfmonths_2 = pd.read_csv(\"ATV_halfmonths_2.csv\")\n",
    "ATV_halfmonths_2.head()"
   ]
  },
  {
   "cell_type": "code",
   "execution_count": null,
   "metadata": {
    "id": "zXD1A8uEQI1A",
    "outputId": "b4f6177f-decf-42b9-ad7d-5a3294ca962a",
    "scrolled": true
   },
   "outputs": [],
   "source": [
    "# df4 = pd.read_csv(\"ATV_weeks.csv\")\n",
    "df4.head()"
   ]
  },
  {
   "cell_type": "code",
   "execution_count": null,
   "metadata": {
    "id": "3_MsDGjyQI1A",
    "outputId": "8a863791-b6b2-4589-84d5-46f1361842eb"
   },
   "outputs": [
    {
     "name": "stdout",
     "output_type": "stream",
     "text": [
      "(1596, 5)\n",
      "(1250, 5)\n",
      "(1851, 6)\n"
     ]
    }
   ],
   "source": [
    "print(df4.shape)\n",
    "print(ATV_halfmonths_2.shape)\n",
    "print(ATV_df_1.shape)"
   ]
  },
  {
   "cell_type": "code",
   "execution_count": null,
   "metadata": {
    "id": "1OKx6JNhgpNV",
    "outputId": "63b7be02-5cb7-4bca-a0f0-4ae90daf76ea"
   },
   "outputs": [
    {
     "data": {
      "text/plain": [
       "(4697, 5)"
      ]
     },
     "execution_count": 77,
     "metadata": {},
     "output_type": "execute_result"
    }
   ],
   "source": [
    "combined_ATV_df = pd.concat([df4, ATV_halfmonths_2, ATV_df_1])\n",
    "combined_ATV_df.shape"
   ]
  },
  {
   "cell_type": "code",
   "execution_count": null,
   "metadata": {
    "colab": {
     "base_uri": "https://localhost:8080/",
     "height": 424
    },
    "executionInfo": {
     "elapsed": 15,
     "status": "ok",
     "timestamp": 1741618208681,
     "user": {
      "displayName": "Yana Kiprova",
      "userId": "05029747295494730402"
     },
     "user_tz": -60
    },
    "id": "hJLRD59ihhHv",
    "outputId": "916e59f2-bf8a-43be-a121-e90cd06891cb"
   },
   "outputs": [],
   "source": [
    "#removing duplicates\n",
    "combined_ATV_df = combined_ATV_df.drop_duplicates(subset=\"video_id\", keep=\"first\")\n",
    "combined_ATV_df = combined_ATV_df.reset_index(drop=True)\n",
    "combined_ATV_df"
   ]
  },
  {
   "cell_type": "code",
   "execution_count": null,
   "metadata": {
    "id": "g7sCa2CBqc3-"
   },
   "outputs": [],
   "source": [
    "combined_ATV_df.to_csv(\"combined_ATV_df.csv\")"
   ]
  },
  {
   "cell_type": "markdown",
   "metadata": {
    "id": "67JEJYooQI1B"
   },
   "source": [
    "# Collecting videos from El Comercio"
   ]
  },
  {
   "cell_type": "markdown",
   "metadata": {
    "id": "mZwzjqq0kq3D"
   },
   "source": [
    "## Full month periods"
   ]
  },
  {
   "cell_type": "code",
   "execution_count": null,
   "metadata": {
    "colab": {
     "base_uri": "https://localhost:8080/",
     "height": 424
    },
    "executionInfo": {
     "elapsed": 207,
     "status": "ok",
     "timestamp": 1742503414775,
     "user": {
      "displayName": "Yana Kiprova",
      "userId": "05029747295494730402"
     },
     "user_tz": -60
    },
    "id": "hqtRq_bNkuCZ",
    "outputId": "bcac7076-2a20-451a-a585-20b8fcc12b84"
   },
   "outputs": [
    {
     "data": {
      "text/html": [
       "<div>\n",
       "<style scoped>\n",
       "    .dataframe tbody tr th:only-of-type {\n",
       "        vertical-align: middle;\n",
       "    }\n",
       "\n",
       "    .dataframe tbody tr th {\n",
       "        vertical-align: top;\n",
       "    }\n",
       "\n",
       "    .dataframe thead th {\n",
       "        text-align: right;\n",
       "    }\n",
       "</style>\n",
       "<table border=\"1\" class=\"dataframe\">\n",
       "  <thead>\n",
       "    <tr style=\"text-align: right;\">\n",
       "      <th></th>\n",
       "      <th>start</th>\n",
       "      <th>end</th>\n",
       "    </tr>\n",
       "  </thead>\n",
       "  <tbody>\n",
       "    <tr>\n",
       "      <th>0</th>\n",
       "      <td>2019-02-01T00:00:00-05:00</td>\n",
       "      <td>2019-02-28T23:59:59-05:00</td>\n",
       "    </tr>\n",
       "    <tr>\n",
       "      <th>1</th>\n",
       "      <td>2019-03-01T00:00:00-05:00</td>\n",
       "      <td>2019-03-31T23:59:59-05:00</td>\n",
       "    </tr>\n",
       "    <tr>\n",
       "      <th>2</th>\n",
       "      <td>2019-04-01T00:00:00-05:00</td>\n",
       "      <td>2019-04-30T23:59:59-05:00</td>\n",
       "    </tr>\n",
       "    <tr>\n",
       "      <th>3</th>\n",
       "      <td>2019-05-01T00:00:00-05:00</td>\n",
       "      <td>2019-05-31T23:59:59-05:00</td>\n",
       "    </tr>\n",
       "    <tr>\n",
       "      <th>4</th>\n",
       "      <td>2019-06-01T00:00:00-05:00</td>\n",
       "      <td>2019-06-30T23:59:59-05:00</td>\n",
       "    </tr>\n",
       "    <tr>\n",
       "      <th>...</th>\n",
       "      <td>...</td>\n",
       "      <td>...</td>\n",
       "    </tr>\n",
       "    <tr>\n",
       "      <th>68</th>\n",
       "      <td>2024-10-01T00:00:00-05:00</td>\n",
       "      <td>2024-10-31T23:59:59-05:00</td>\n",
       "    </tr>\n",
       "    <tr>\n",
       "      <th>69</th>\n",
       "      <td>2024-11-01T00:00:00-05:00</td>\n",
       "      <td>2024-11-30T23:59:59-05:00</td>\n",
       "    </tr>\n",
       "    <tr>\n",
       "      <th>70</th>\n",
       "      <td>2024-12-01T00:00:00-05:00</td>\n",
       "      <td>2024-12-31T23:59:59-05:00</td>\n",
       "    </tr>\n",
       "    <tr>\n",
       "      <th>71</th>\n",
       "      <td>2025-01-01T00:00:00-05:00</td>\n",
       "      <td>2025-01-31T23:59:59-05:00</td>\n",
       "    </tr>\n",
       "    <tr>\n",
       "      <th>72</th>\n",
       "      <td>2025-02-01T00:00:00-05:00</td>\n",
       "      <td>2025-02-28T23:59:59-05:00</td>\n",
       "    </tr>\n",
       "  </tbody>\n",
       "</table>\n",
       "<p>73 rows × 2 columns</p>\n",
       "</div>"
      ],
      "text/plain": [
       "                        start                        end\n",
       "0   2019-02-01T00:00:00-05:00  2019-02-28T23:59:59-05:00\n",
       "1   2019-03-01T00:00:00-05:00  2019-03-31T23:59:59-05:00\n",
       "2   2019-04-01T00:00:00-05:00  2019-04-30T23:59:59-05:00\n",
       "3   2019-05-01T00:00:00-05:00  2019-05-31T23:59:59-05:00\n",
       "4   2019-06-01T00:00:00-05:00  2019-06-30T23:59:59-05:00\n",
       "..                        ...                        ...\n",
       "68  2024-10-01T00:00:00-05:00  2024-10-31T23:59:59-05:00\n",
       "69  2024-11-01T00:00:00-05:00  2024-11-30T23:59:59-05:00\n",
       "70  2024-12-01T00:00:00-05:00  2024-12-31T23:59:59-05:00\n",
       "71  2025-01-01T00:00:00-05:00  2025-01-31T23:59:59-05:00\n",
       "72  2025-02-01T00:00:00-05:00  2025-02-28T23:59:59-05:00\n",
       "\n",
       "[73 rows x 2 columns]"
      ]
     },
     "execution_count": 6,
     "metadata": {},
     "output_type": "execute_result"
    }
   ],
   "source": [
    "#Dataframe with full month periods\n",
    "\n",
    "# Define the start and end dates\n",
    "start_date = datetime(2019, 2, 1)\n",
    "end_date = datetime(2025, 3, 1)\n",
    "\n",
    "# Create a list to hold the data\n",
    "data = []\n",
    "\n",
    "# Generate the start and end date-times for each full month period\n",
    "current_date = start_date\n",
    "while current_date < end_date:\n",
    "    # Get the start date of the current month\n",
    "    start_date_str = current_date.strftime(\"%Y-%m-%dT%H:%M:%S-05:00\")\n",
    "\n",
    "    # Calculate the next month's first day for the end date\n",
    "    next_month = current_date.replace(day=28) + timedelta(days=4)  # this gives us the next month\n",
    "    end_date_str = next_month.replace(day=1) - timedelta(seconds=1)\n",
    "    end_date_str = end_date_str.strftime(\"%Y-%m-%dT%H:%M:%S-05:00\")\n",
    "\n",
    "    # Append to the data list\n",
    "    data.append([start_date_str, end_date_str])\n",
    "\n",
    "    # Move to the first day of the next month\n",
    "    current_date = next_month.replace(day=1)\n",
    "\n",
    "date_ranges = pd.DataFrame(data, columns=[\"start\", \"end\"])\n",
    "\n",
    "date_ranges\n"
   ]
  },
  {
   "cell_type": "code",
   "execution_count": null,
   "metadata": {
    "colab": {
     "base_uri": "https://localhost:8080/"
    },
    "executionInfo": {
     "elapsed": 18896,
     "status": "ok",
     "timestamp": 1741619749363,
     "user": {
      "displayName": "Yana Kiprova",
      "userId": "05029747295494730402"
     },
     "user_tz": -60
    },
    "id": "NqVCgAvZlKW8",
    "outputId": "da769e43-58d5-4ee3-a8c3-f369151af963"
   },
   "outputs": [
    {
     "name": "stdout",
     "output_type": "stream",
     "text": [
      "Number of videos found between 2019-02-01T00:00:00-05:00 and 2019-02-28T23:59:59-05:00: 1\n",
      "Number of videos found between 2019-03-01T00:00:00-05:00 and 2019-03-31T23:59:59-05:00: 0\n",
      "Number of videos found between 2019-04-01T00:00:00-05:00 and 2019-04-30T23:59:59-05:00: 1\n",
      "Number of videos found between 2019-05-01T00:00:00-05:00 and 2019-05-31T23:59:59-05:00: 0\n",
      "Number of videos found between 2019-06-01T00:00:00-05:00 and 2019-06-30T23:59:59-05:00: 2\n",
      "Number of videos found between 2019-07-01T00:00:00-05:00 and 2019-07-31T23:59:59-05:00: 0\n",
      "Number of videos found between 2019-08-01T00:00:00-05:00 and 2019-08-31T23:59:59-05:00: 0\n",
      "Number of videos found between 2019-09-01T00:00:00-05:00 and 2019-09-30T23:59:59-05:00: 3\n",
      "Number of videos found between 2019-10-01T00:00:00-05:00 and 2019-10-31T23:59:59-05:00: 4\n",
      "Number of videos found between 2019-11-01T00:00:00-05:00 and 2019-11-30T23:59:59-05:00: 2\n",
      "Number of videos found between 2019-12-01T00:00:00-05:00 and 2019-12-31T23:59:59-05:00: 3\n",
      "Number of videos found between 2020-01-01T00:00:00-05:00 and 2020-01-31T23:59:59-05:00: 0\n",
      "Number of videos found between 2020-02-01T00:00:00-05:00 and 2020-02-29T23:59:59-05:00: 2\n",
      "Number of videos found between 2020-03-01T00:00:00-05:00 and 2020-03-31T23:59:59-05:00: 3\n",
      "Number of videos found between 2020-04-01T00:00:00-05:00 and 2020-04-30T23:59:59-05:00: 1\n",
      "Number of videos found between 2020-05-01T00:00:00-05:00 and 2020-05-31T23:59:59-05:00: 1\n",
      "Number of videos found between 2020-06-01T00:00:00-05:00 and 2020-06-30T23:59:59-05:00: 2\n",
      "Number of videos found between 2020-07-01T00:00:00-05:00 and 2020-07-31T23:59:59-05:00: 1\n",
      "Number of videos found between 2020-08-01T00:00:00-05:00 and 2020-08-31T23:59:59-05:00: 1\n",
      "Number of videos found between 2020-09-01T00:00:00-05:00 and 2020-09-30T23:59:59-05:00: 1\n",
      "Number of videos found between 2020-10-01T00:00:00-05:00 and 2020-10-31T23:59:59-05:00: 1\n",
      "Number of videos found between 2020-11-01T00:00:00-05:00 and 2020-11-30T23:59:59-05:00: 0\n",
      "Number of videos found between 2020-12-01T00:00:00-05:00 and 2020-12-31T23:59:59-05:00: 0\n",
      "Number of videos found between 2021-01-01T00:00:00-05:00 and 2021-01-31T23:59:59-05:00: 1\n",
      "Number of videos found between 2021-02-01T00:00:00-05:00 and 2021-02-28T23:59:59-05:00: 4\n",
      "Number of videos found between 2021-03-01T00:00:00-05:00 and 2021-03-31T23:59:59-05:00: 2\n",
      "Number of videos found between 2021-04-01T00:00:00-05:00 and 2021-04-30T23:59:59-05:00: 0\n",
      "Number of videos found between 2021-05-01T00:00:00-05:00 and 2021-05-31T23:59:59-05:00: 2\n",
      "Number of videos found between 2021-06-01T00:00:00-05:00 and 2021-06-30T23:59:59-05:00: 1\n",
      "Number of videos found between 2021-07-01T00:00:00-05:00 and 2021-07-31T23:59:59-05:00: 4\n",
      "Number of videos found between 2021-08-01T00:00:00-05:00 and 2021-08-31T23:59:59-05:00: 2\n",
      "Number of videos found between 2021-09-01T00:00:00-05:00 and 2021-09-30T23:59:59-05:00: 6\n",
      "Number of videos found between 2021-10-01T00:00:00-05:00 and 2021-10-31T23:59:59-05:00: 2\n",
      "Number of videos found between 2021-11-01T00:00:00-05:00 and 2021-11-30T23:59:59-05:00: 2\n",
      "Number of videos found between 2021-12-01T00:00:00-05:00 and 2021-12-31T23:59:59-05:00: 1\n",
      "Number of videos found between 2022-01-01T00:00:00-05:00 and 2022-01-31T23:59:59-05:00: 4\n",
      "Number of videos found between 2022-02-01T00:00:00-05:00 and 2022-02-28T23:59:59-05:00: 4\n",
      "Number of videos found between 2022-03-01T00:00:00-05:00 and 2022-03-31T23:59:59-05:00: 2\n",
      "Number of videos found between 2022-04-01T00:00:00-05:00 and 2022-04-30T23:59:59-05:00: 6\n",
      "Number of videos found between 2022-05-01T00:00:00-05:00 and 2022-05-31T23:59:59-05:00: 4\n",
      "Number of videos found between 2022-06-01T00:00:00-05:00 and 2022-06-30T23:59:59-05:00: 7\n",
      "Number of videos found between 2022-07-01T00:00:00-05:00 and 2022-07-31T23:59:59-05:00: 11\n",
      "Number of videos found between 2022-08-01T00:00:00-05:00 and 2022-08-31T23:59:59-05:00: 8\n",
      "Number of videos found between 2022-09-01T00:00:00-05:00 and 2022-09-30T23:59:59-05:00: 1\n",
      "Number of videos found between 2022-10-01T00:00:00-05:00 and 2022-10-31T23:59:59-05:00: 5\n",
      "Number of videos found between 2022-11-01T00:00:00-05:00 and 2022-11-30T23:59:59-05:00: 4\n",
      "Number of videos found between 2022-12-01T00:00:00-05:00 and 2022-12-31T23:59:59-05:00: 1\n",
      "Number of videos found between 2023-01-01T00:00:00-05:00 and 2023-01-31T23:59:59-05:00: 7\n",
      "Number of videos found between 2023-02-01T00:00:00-05:00 and 2023-02-28T23:59:59-05:00: 6\n",
      "Number of videos found between 2023-03-01T00:00:00-05:00 and 2023-03-31T23:59:59-05:00: 7\n",
      "Number of videos found between 2023-04-01T00:00:00-05:00 and 2023-04-30T23:59:59-05:00: 4\n",
      "Number of videos found between 2023-05-01T00:00:00-05:00 and 2023-05-31T23:59:59-05:00: 5\n",
      "Number of videos found between 2023-06-01T00:00:00-05:00 and 2023-06-30T23:59:59-05:00: 6\n",
      "Number of videos found between 2023-07-01T00:00:00-05:00 and 2023-07-31T23:59:59-05:00: 7\n",
      "Number of videos found between 2023-08-01T00:00:00-05:00 and 2023-08-31T23:59:59-05:00: 20\n",
      "Number of videos found between 2023-09-01T00:00:00-05:00 and 2023-09-30T23:59:59-05:00: 11\n",
      "Number of videos found between 2023-10-01T00:00:00-05:00 and 2023-10-31T23:59:59-05:00: 17\n",
      "Number of videos found between 2023-11-01T00:00:00-05:00 and 2023-11-30T23:59:59-05:00: 11\n",
      "Number of videos found between 2023-12-01T00:00:00-05:00 and 2023-12-31T23:59:59-05:00: 6\n",
      "Number of videos found between 2024-01-01T00:00:00-05:00 and 2024-01-31T23:59:59-05:00: 15\n",
      "Number of videos found between 2024-02-01T00:00:00-05:00 and 2024-02-29T23:59:59-05:00: 3\n",
      "Number of videos found between 2024-03-01T00:00:00-05:00 and 2024-03-31T23:59:59-05:00: 13\n",
      "Number of videos found between 2024-04-01T00:00:00-05:00 and 2024-04-30T23:59:59-05:00: 16\n",
      "Number of videos found between 2024-05-01T00:00:00-05:00 and 2024-05-31T23:59:59-05:00: 9\n",
      "Number of videos found between 2024-06-01T00:00:00-05:00 and 2024-06-30T23:59:59-05:00: 11\n",
      "Number of videos found between 2024-07-01T00:00:00-05:00 and 2024-07-31T23:59:59-05:00: 18\n",
      "Number of videos found between 2024-08-01T00:00:00-05:00 and 2024-08-31T23:59:59-05:00: 19\n",
      "Number of videos found between 2024-09-01T00:00:00-05:00 and 2024-09-30T23:59:59-05:00: 24\n",
      "Number of videos found between 2024-10-01T00:00:00-05:00 and 2024-10-31T23:59:59-05:00: 33\n",
      "Number of videos found between 2024-11-01T00:00:00-05:00 and 2024-11-30T23:59:59-05:00: 16\n",
      "Number of videos found between 2024-12-01T00:00:00-05:00 and 2024-12-31T23:59:59-05:00: 31\n",
      "Number of videos found between 2025-01-01T00:00:00-05:00 and 2025-01-31T23:59:59-05:00: 8\n",
      "Number of videos found between 2025-02-01T00:00:00-05:00 and 2025-02-28T23:59:59-05:00: 6\n"
     ]
    }
   ],
   "source": [
    "# applying new function\n",
    "# Create a for loop that goes through each time frame\n",
    "    # gets all youtube videos and store them in a dataframe\n",
    "\n",
    "channel_id = \"UCLtGUPjKLqa3zgdmhKCZONg\" # El Comercio\n",
    "max_results = 50\n",
    "order = \"date\"\n",
    "keyword = \"robo|robó|roban|robaron|delincuentes|criminales|asalto|asaltó|asaltan|asaltaron|matan|mató|mataron|ladrón|asesinato|asesinado|asesinan|asesinaron|extorsionadores|extorsionador|extorsionan|extorsionaron|extorsionó|secuestro|secuestradores|secuestrada|secuestrado|secuestró|secuestraron|balacera|balean|balearon|balazos|sicariato|mafias|mafia|sicarios\"\n",
    "\n",
    "# Create empty dataframe for first time running it\n",
    "df = pd.DataFrame(columns=['video_id','title','url','channel','keyword','video_date'])\n",
    "videos_list = []\n",
    "videos_count_list = []\n",
    "\n",
    "for index, row in date_ranges.iterrows():\n",
    "    published_after = row['start']\n",
    "    published_before = row['end']\n",
    "\n",
    "\n",
    "    all = get_youtube_videos(api_key, channel_id, keyword, max_results,\n",
    "                                                          order, published_after, published_before)\n",
    "    videos = all[0]\n",
    "    video_count = all[1]\n",
    "    videos_list.append(videos)\n",
    "    videos_count_list.append(video_count)\n"
   ]
  },
  {
   "cell_type": "code",
   "execution_count": null,
   "metadata": {
    "id": "xXhKk4Hzo2aX"
   },
   "outputs": [],
   "source": [
    "flattened_list = np.concatenate(videos_list).tolist()\n",
    "df_R_1 = pd.DataFrame(flattened_list)\n",
    "df_R_1.drop(columns=['keyword'], inplace=True)\n",
    "\n",
    "date_ranges['videos_count'] = videos_count_list"
   ]
  },
  {
   "cell_type": "code",
   "execution_count": null,
   "metadata": {
    "id": "kA3dqYNRplys"
   },
   "outputs": [],
   "source": [
    "df_R_1.to_csv(\"df_EC_1.csv\")\n",
    "date_ranges.to_csv(\"date_ranges_EC_1.csv\")"
   ]
  },
  {
   "cell_type": "markdown",
   "metadata": {
    "id": "6bGFfG880Yua"
   },
   "source": [
    "## Week periods (not needed, no month has over 50)"
   ]
  },
  {
   "cell_type": "markdown",
   "metadata": {
    "id": "NUtDVFzc3bbE"
   },
   "source": [
    "# Combining all videos"
   ]
  },
  {
   "cell_type": "code",
   "execution_count": null,
   "metadata": {
    "id": "fZ7jzoAAQI1E",
    "outputId": "2e6590d1-a6a1-4f0b-8e3d-3d0686ad22e3",
    "scrolled": true
   },
   "outputs": [],
   "source": [
    "# El Comercio\n",
    "df_EC = pd.read_csv(\"df_EC_1.csv\")\n",
    "df_EC.head()"
   ]
  },
  {
   "cell_type": "code",
   "execution_count": null,
   "metadata": {
    "id": "wnuMjYjnQI1E",
    "outputId": "51db90a0-5c66-42c5-cbac-a5b8b1ea72c8",
    "scrolled": true
   },
   "outputs": [],
   "source": [
    "# ATV\n",
    "df_ATV = pd.read_csv(\"combined_ATV_df.csv\")\n",
    "df_ATV.head()"
   ]
  },
  {
   "cell_type": "code",
   "execution_count": null,
   "metadata": {
    "id": "kBvgWnSpQI1F",
    "outputId": "ce2264f3-617f-4eae-e1ad-725cf91ee8e7"
   },
   "outputs": [
    {
     "name": "stdout",
     "output_type": "stream",
     "text": [
      "(2672, 6)\n",
      "(442, 6)\n"
     ]
    }
   ],
   "source": [
    "print(df_ATV.shape)\n",
    "print(df_EC.shape)"
   ]
  },
  {
   "cell_type": "code",
   "execution_count": null,
   "metadata": {
    "colab": {
     "base_uri": "https://localhost:8080/",
     "height": 424
    },
    "executionInfo": {
     "elapsed": 15,
     "status": "ok",
     "timestamp": 1741776206821,
     "user": {
      "displayName": "Yana Kiprova",
      "userId": "05029747295494730402"
     },
     "user_tz": -60
    },
    "id": "-8Whq9s87xaP",
    "outputId": "fef720b8-19dc-4c8b-f4d9-cf66cbad8c71"
   },
   "outputs": [],
   "source": [
    "#combining ATV and El Comercio\n",
    "combined_df = pd.concat([df_ATV, df_EC])\n",
    "combined_df= combined_df.drop(columns=['Unnamed: 0'])\n",
    "combined_df"
   ]
  },
  {
   "cell_type": "code",
   "execution_count": null,
   "metadata": {
    "colab": {
     "base_uri": "https://localhost:8080/",
     "height": 424
    },
    "executionInfo": {
     "elapsed": 57,
     "status": "ok",
     "timestamp": 1741776224725,
     "user": {
      "displayName": "Yana Kiprova",
      "userId": "05029747295494730402"
     },
     "user_tz": -60
    },
    "id": "w1tix-7a8Lnt",
    "outputId": "47dccbe7-1db0-44ad-d0cf-68d0de33794e"
   },
   "outputs": [],
   "source": [
    "#removing duplicates\n",
    "combined_df = combined_df.drop_duplicates(subset=\"video_id\", keep=\"first\")\n",
    "combined_df = combined_df.reset_index(drop=True)\n",
    "combined_df"
   ]
  },
  {
   "cell_type": "markdown",
   "metadata": {
    "id": "yN8c_Nt-7Dou"
   },
   "source": [
    "# Transripts"
   ]
  },
  {
   "cell_type": "code",
   "execution_count": null,
   "metadata": {
    "id": "TLNYZ7bH7Dou"
   },
   "outputs": [],
   "source": [
    "# for test\n",
    "video_id = # Video ID removed"
   ]
  },
  {
   "cell_type": "code",
   "execution_count": null,
   "metadata": {
    "id": "1Q8ccG-sAoNf"
   },
   "outputs": [],
   "source": [
    "# trnascript function that stores also the error messages\n",
    "\n",
    "def get_transcript(video_id, language='es'):\n",
    "    try:\n",
    "        transcript = YouTubeTranscriptApi.get_transcript(video_id, languages=[language])\n",
    "        return \" \".join([line['text'] for line in transcript])  # Join transcript into a single string\n",
    "    except Exception as e:\n",
    "        return f\"Error: {e}\"  # Return error message"
   ]
  },
  {
   "cell_type": "code",
   "execution_count": null,
   "metadata": {
    "id": "70ZWFZcbQI1H",
    "outputId": "ea8b8b43-7c3c-4e30-fc8f-b03ff931e134"
   },
   "outputs": [],
   "source": [
    "get_transcript(video_id)"
   ]
  },
  {
   "cell_type": "code",
   "execution_count": null,
   "metadata": {
    "colab": {
     "base_uri": "https://localhost:8080/",
     "height": 49,
     "referenced_widgets": [
      "bff119a263f34dc2bc160e40d2c1fc73",
      "2465b4b8d0b54f13a4395329f12a23bb",
      "ebf0612fe20040fbba9d3b815beadc14",
      "a8bfe89a89d74bf99abf95359016f0fd",
      "e4868061d2494ae9a504a78f2171386c",
      "946d258faeac45d48db894d4b7c19e7d",
      "f497f1637c2d4f2b9f98a5be37579cdb",
      "56605fbff8294b8c91304a707a61325c",
      "0d528647d4ec4159aa065f2a389ef35d",
      "75cc97ffd8184db3a329e6c448ea7376",
      "b281e2914b4949519263c97a62d1cd6b",
      "f78838c0b5154cafa0da2cded29841ab"
     ]
    },
    "executionInfo": {
     "elapsed": 1521030,
     "status": "ok",
     "timestamp": 1741776021599,
     "user": {
      "displayName": "Yana Kiprova",
      "userId": "05029747295494730402"
     },
     "user_tz": -60
    },
    "id": "eoCTbuQJ9SsI",
    "outputId": "6f9c02ad-b336-4aab-97f7-df64ecf579eb"
   },
   "outputs": [],
   "source": [
    "# getting transcripts for videos in full df\n",
    "combined_df['transcripts'] = [\n",
    "    get_transcript(video_id) if time.sleep(2) is None else None\n",
    "    for video_id in tqdm(combined_df['video_id'], desc=\"Processing transcripts\")\n",
    "]"
   ]
  },
  {
   "cell_type": "code",
   "execution_count": null,
   "metadata": {
    "id": "cgZrz7lm8QX9"
   },
   "outputs": [],
   "source": [
    "# Save to csv as backup\n",
    "combined_df.to_csv(\"ATV_EC_transcripts_1.csv\")"
   ]
  },
  {
   "cell_type": "code",
   "execution_count": null,
   "metadata": {
    "id": "3Cq2VDELQI1I",
    "outputId": "97e678ae-d9b0-49a3-db17-cfe2c54a6b5b"
   },
   "outputs": [
    {
     "data": {
      "text/plain": [
       "(3114, 7)"
      ]
     },
     "execution_count": 4,
     "metadata": {},
     "output_type": "execute_result"
    }
   ],
   "source": [
    "combined_df = pd.read_csv(\"ATV_EC_transcripts_1.csv\")\n",
    "combined_df.shape"
   ]
  },
  {
   "cell_type": "code",
   "execution_count": null,
   "metadata": {
    "id": "kDRvoZq0513N"
   },
   "outputs": [],
   "source": [
    "# Filter out rows where the transcript contains an error message\n",
    "df_errors = combined_df[combined_df['transcripts'].str.contains(\"Error:\", na=False)].copy()"
   ]
  },
  {
   "cell_type": "code",
   "execution_count": null,
   "metadata": {
    "id": "cl5Kul8cQI1I",
    "outputId": "86019af6-d704-4106-f179-d5b9e5913eca"
   },
   "outputs": [
    {
     "data": {
      "text/plain": [
       "(187, 7)"
      ]
     },
     "execution_count": 6,
     "metadata": {},
     "output_type": "execute_result"
    }
   ],
   "source": [
    "df_errors.shape"
   ]
  },
  {
   "cell_type": "code",
   "execution_count": null,
   "metadata": {
    "id": "B_JFTmi0QI1I",
    "outputId": "c6c77fe0-3e2d-4a2d-ecc6-40d25123b624"
   },
   "outputs": [
    {
     "name": "stdout",
     "output_type": "stream",
     "text": [
      "Total transcripts with errors: 187\n",
      "Total transcripts with age-restricted errors: 0\n",
      "Total transcripts with subtitles are disabled errors: 174\n",
      "Total transcripts with video is unplayable errors: 0\n",
      "Total transcripts with requested language codes: ['es'] errors: 6\n"
     ]
    }
   ],
   "source": [
    "# Check types of errors\n",
    "df_test = df_errors.copy()\n",
    "\n",
    "error_count = df_test[df_test['transcripts'].str.startswith(\"Error\", na=False)].shape[0]\n",
    "print(f\"Total transcripts with errors: {error_count}\")\n",
    "error_count = df_test[df_test['transcripts'].str.contains('age-restricted', case=False, na=False)].shape[0]\n",
    "print(f\"Total transcripts with age-restricted errors: {error_count}\")\n",
    "error_count = df_test[df_test['transcripts'].str.contains('Subtitles are disabled', case=False, na=False)].shape[0]\n",
    "print(f\"Total transcripts with subtitles are disabled errors: {error_count}\")\n",
    "error_count = df_test[df_test['transcripts'].str.contains('video is unplayable', case=False, na=False)].shape[0]\n",
    "print(f\"Total transcripts with video is unplayable errors: {error_count}\")\n",
    "error_count = df_test[df_test['transcripts'].str.contains('requested language codes:', case=False, na=False)].shape[0]\n",
    "print(f\"Total transcripts with requested language codes: ['es'] errors: {error_count}\")"
   ]
  },
  {
   "cell_type": "code",
   "execution_count": null,
   "metadata": {
    "id": "l5Xz-4eOQI1J",
    "outputId": "309d2843-7f0a-4ab8-d9b2-74d1753fe153"
   },
   "outputs": [
    {
     "data": {
      "text/plain": [
       "(2927, 7)"
      ]
     },
     "execution_count": 10,
     "metadata": {},
     "output_type": "execute_result"
    }
   ],
   "source": [
    "# Remove rows with errors\n",
    "\n",
    "combined_df = combined_df[~combined_df['transcripts'].str.startswith(\"Error:\")]\n",
    "combined_df.shape"
   ]
  },
  {
   "cell_type": "code",
   "execution_count": null,
   "metadata": {
    "id": "fUnDbf6VQI1J"
   },
   "outputs": [],
   "source": [
    "# Download to csv\n",
    "combined_df.to_csv(\"ATV_EC_transcripts_1.csv\")"
   ]
  }
 ],
 "metadata": {
  "colab": {
   "provenance": [],
   "toc_visible": true
  },
  "kernelspec": {
   "display_name": "Python 3 (ipykernel)",
   "language": "python",
   "name": "python3"
  },
  "language_info": {
   "codemirror_mode": {
    "name": "ipython",
    "version": 3
   },
   "file_extension": ".py",
   "mimetype": "text/x-python",
   "name": "python",
   "nbconvert_exporter": "python",
   "pygments_lexer": "ipython3",
   "version": "3.11.4"
  },
  "widgets": {
   "application/vnd.jupyter.widget-state+json": {
    "0d528647d4ec4159aa065f2a389ef35d": {
     "model_module": "@jupyter-widgets/controls",
     "model_module_version": "1.5.0",
     "model_name": "ProgressStyleModel",
     "state": {
      "_model_module": "@jupyter-widgets/controls",
      "_model_module_version": "1.5.0",
      "_model_name": "ProgressStyleModel",
      "_view_count": null,
      "_view_module": "@jupyter-widgets/base",
      "_view_module_version": "1.2.0",
      "_view_name": "StyleView",
      "bar_color": null,
      "description_width": ""
     }
    },
    "2465b4b8d0b54f13a4395329f12a23bb": {
     "model_module": "@jupyter-widgets/controls",
     "model_module_version": "1.5.0",
     "model_name": "HTMLModel",
     "state": {
      "_dom_classes": [],
      "_model_module": "@jupyter-widgets/controls",
      "_model_module_version": "1.5.0",
      "_model_name": "HTMLModel",
      "_view_count": null,
      "_view_module": "@jupyter-widgets/controls",
      "_view_module_version": "1.5.0",
      "_view_name": "HTMLView",
      "description": "",
      "description_tooltip": null,
      "layout": "IPY_MODEL_946d258faeac45d48db894d4b7c19e7d",
      "placeholder": "​",
      "style": "IPY_MODEL_f497f1637c2d4f2b9f98a5be37579cdb",
      "value": "100%"
     }
    },
    "56605fbff8294b8c91304a707a61325c": {
     "model_module": "@jupyter-widgets/base",
     "model_module_version": "1.2.0",
     "model_name": "LayoutModel",
     "state": {
      "_model_module": "@jupyter-widgets/base",
      "_model_module_version": "1.2.0",
      "_model_name": "LayoutModel",
      "_view_count": null,
      "_view_module": "@jupyter-widgets/base",
      "_view_module_version": "1.2.0",
      "_view_name": "LayoutView",
      "align_content": null,
      "align_items": null,
      "align_self": null,
      "border": null,
      "bottom": null,
      "display": null,
      "flex": null,
      "flex_flow": null,
      "grid_area": null,
      "grid_auto_columns": null,
      "grid_auto_flow": null,
      "grid_auto_rows": null,
      "grid_column": null,
      "grid_gap": null,
      "grid_row": null,
      "grid_template_areas": null,
      "grid_template_columns": null,
      "grid_template_rows": null,
      "height": null,
      "justify_content": null,
      "justify_items": null,
      "left": null,
      "margin": null,
      "max_height": null,
      "max_width": null,
      "min_height": null,
      "min_width": null,
      "object_fit": null,
      "object_position": null,
      "order": null,
      "overflow": null,
      "overflow_x": null,
      "overflow_y": null,
      "padding": null,
      "right": null,
      "top": null,
      "visibility": null,
      "width": null
     }
    },
    "75cc97ffd8184db3a329e6c448ea7376": {
     "model_module": "@jupyter-widgets/base",
     "model_module_version": "1.2.0",
     "model_name": "LayoutModel",
     "state": {
      "_model_module": "@jupyter-widgets/base",
      "_model_module_version": "1.2.0",
      "_model_name": "LayoutModel",
      "_view_count": null,
      "_view_module": "@jupyter-widgets/base",
      "_view_module_version": "1.2.0",
      "_view_name": "LayoutView",
      "align_content": null,
      "align_items": null,
      "align_self": null,
      "border": null,
      "bottom": null,
      "display": null,
      "flex": null,
      "flex_flow": null,
      "grid_area": null,
      "grid_auto_columns": null,
      "grid_auto_flow": null,
      "grid_auto_rows": null,
      "grid_column": null,
      "grid_gap": null,
      "grid_row": null,
      "grid_template_areas": null,
      "grid_template_columns": null,
      "grid_template_rows": null,
      "height": null,
      "justify_content": null,
      "justify_items": null,
      "left": null,
      "margin": null,
      "max_height": null,
      "max_width": null,
      "min_height": null,
      "min_width": null,
      "object_fit": null,
      "object_position": null,
      "order": null,
      "overflow": null,
      "overflow_x": null,
      "overflow_y": null,
      "padding": null,
      "right": null,
      "top": null,
      "visibility": null,
      "width": null
     }
    },
    "946d258faeac45d48db894d4b7c19e7d": {
     "model_module": "@jupyter-widgets/base",
     "model_module_version": "1.2.0",
     "model_name": "LayoutModel",
     "state": {
      "_model_module": "@jupyter-widgets/base",
      "_model_module_version": "1.2.0",
      "_model_name": "LayoutModel",
      "_view_count": null,
      "_view_module": "@jupyter-widgets/base",
      "_view_module_version": "1.2.0",
      "_view_name": "LayoutView",
      "align_content": null,
      "align_items": null,
      "align_self": null,
      "border": null,
      "bottom": null,
      "display": null,
      "flex": null,
      "flex_flow": null,
      "grid_area": null,
      "grid_auto_columns": null,
      "grid_auto_flow": null,
      "grid_auto_rows": null,
      "grid_column": null,
      "grid_gap": null,
      "grid_row": null,
      "grid_template_areas": null,
      "grid_template_columns": null,
      "grid_template_rows": null,
      "height": null,
      "justify_content": null,
      "justify_items": null,
      "left": null,
      "margin": null,
      "max_height": null,
      "max_width": null,
      "min_height": null,
      "min_width": null,
      "object_fit": null,
      "object_position": null,
      "order": null,
      "overflow": null,
      "overflow_x": null,
      "overflow_y": null,
      "padding": null,
      "right": null,
      "top": null,
      "visibility": null,
      "width": null
     }
    },
    "a8bfe89a89d74bf99abf95359016f0fd": {
     "model_module": "@jupyter-widgets/controls",
     "model_module_version": "1.5.0",
     "model_name": "HTMLModel",
     "state": {
      "_dom_classes": [],
      "_model_module": "@jupyter-widgets/controls",
      "_model_module_version": "1.5.0",
      "_model_name": "HTMLModel",
      "_view_count": null,
      "_view_module": "@jupyter-widgets/controls",
      "_view_module_version": "1.5.0",
      "_view_name": "HTMLView",
      "description": "",
      "description_tooltip": null,
      "layout": "IPY_MODEL_75cc97ffd8184db3a329e6c448ea7376",
      "placeholder": "​",
      "style": "IPY_MODEL_b281e2914b4949519263c97a62d1cd6b",
      "value": " 5296/5296 [56:59&lt;00:00,  1.29it/s]"
     }
    },
    "b281e2914b4949519263c97a62d1cd6b": {
     "model_module": "@jupyter-widgets/controls",
     "model_module_version": "1.5.0",
     "model_name": "DescriptionStyleModel",
     "state": {
      "_model_module": "@jupyter-widgets/controls",
      "_model_module_version": "1.5.0",
      "_model_name": "DescriptionStyleModel",
      "_view_count": null,
      "_view_module": "@jupyter-widgets/base",
      "_view_module_version": "1.2.0",
      "_view_name": "StyleView",
      "description_width": ""
     }
    },
    "bff119a263f34dc2bc160e40d2c1fc73": {
     "model_module": "@jupyter-widgets/controls",
     "model_module_version": "1.5.0",
     "model_name": "HBoxModel",
     "state": {
      "_dom_classes": [],
      "_model_module": "@jupyter-widgets/controls",
      "_model_module_version": "1.5.0",
      "_model_name": "HBoxModel",
      "_view_count": null,
      "_view_module": "@jupyter-widgets/controls",
      "_view_module_version": "1.5.0",
      "_view_name": "HBoxView",
      "box_style": "",
      "children": [
       "IPY_MODEL_2465b4b8d0b54f13a4395329f12a23bb",
       "IPY_MODEL_ebf0612fe20040fbba9d3b815beadc14",
       "IPY_MODEL_a8bfe89a89d74bf99abf95359016f0fd"
      ],
      "layout": "IPY_MODEL_e4868061d2494ae9a504a78f2171386c"
     }
    },
    "e4868061d2494ae9a504a78f2171386c": {
     "model_module": "@jupyter-widgets/base",
     "model_module_version": "1.2.0",
     "model_name": "LayoutModel",
     "state": {
      "_model_module": "@jupyter-widgets/base",
      "_model_module_version": "1.2.0",
      "_model_name": "LayoutModel",
      "_view_count": null,
      "_view_module": "@jupyter-widgets/base",
      "_view_module_version": "1.2.0",
      "_view_name": "LayoutView",
      "align_content": null,
      "align_items": null,
      "align_self": null,
      "border": null,
      "bottom": null,
      "display": null,
      "flex": null,
      "flex_flow": null,
      "grid_area": null,
      "grid_auto_columns": null,
      "grid_auto_flow": null,
      "grid_auto_rows": null,
      "grid_column": null,
      "grid_gap": null,
      "grid_row": null,
      "grid_template_areas": null,
      "grid_template_columns": null,
      "grid_template_rows": null,
      "height": null,
      "justify_content": null,
      "justify_items": null,
      "left": null,
      "margin": null,
      "max_height": null,
      "max_width": null,
      "min_height": null,
      "min_width": null,
      "object_fit": null,
      "object_position": null,
      "order": null,
      "overflow": null,
      "overflow_x": null,
      "overflow_y": null,
      "padding": null,
      "right": null,
      "top": null,
      "visibility": null,
      "width": null
     }
    },
    "ebf0612fe20040fbba9d3b815beadc14": {
     "model_module": "@jupyter-widgets/controls",
     "model_module_version": "1.5.0",
     "model_name": "FloatProgressModel",
     "state": {
      "_dom_classes": [],
      "_model_module": "@jupyter-widgets/controls",
      "_model_module_version": "1.5.0",
      "_model_name": "FloatProgressModel",
      "_view_count": null,
      "_view_module": "@jupyter-widgets/controls",
      "_view_module_version": "1.5.0",
      "_view_name": "ProgressView",
      "bar_style": "success",
      "description": "",
      "description_tooltip": null,
      "layout": "IPY_MODEL_56605fbff8294b8c91304a707a61325c",
      "max": 5296,
      "min": 0,
      "orientation": "horizontal",
      "style": "IPY_MODEL_0d528647d4ec4159aa065f2a389ef35d",
      "value": 5296
     }
    },
    "f497f1637c2d4f2b9f98a5be37579cdb": {
     "model_module": "@jupyter-widgets/controls",
     "model_module_version": "1.5.0",
     "model_name": "DescriptionStyleModel",
     "state": {
      "_model_module": "@jupyter-widgets/controls",
      "_model_module_version": "1.5.0",
      "_model_name": "DescriptionStyleModel",
      "_view_count": null,
      "_view_module": "@jupyter-widgets/base",
      "_view_module_version": "1.2.0",
      "_view_name": "StyleView",
      "description_width": ""
     }
    }
   }
  }
 },
 "nbformat": 4,
 "nbformat_minor": 1
}
