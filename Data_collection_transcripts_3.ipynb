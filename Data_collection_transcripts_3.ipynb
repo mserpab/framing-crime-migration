{
 "cells": [
  {
   "cell_type": "code",
   "execution_count": null,
   "metadata": {
    "colab": {
     "base_uri": "https://localhost:8080/"
    },
    "executionInfo": {
     "elapsed": 9094,
     "status": "ok",
     "timestamp": 1742503390670,
     "user": {
      "displayName": "Yana Kiprova",
      "userId": "05029747295494730402"
     },
     "user_tz": -60
    },
    "id": "Au3ZB8dSXtG-",
    "outputId": "ad88e42b-cf91-4e9b-d7a0-9fe6e40f8c57",
    "scrolled": true
   },
   "outputs": [],
   "source": [
    "!pip install youtube-transcript-api"
   ]
  },
  {
   "cell_type": "code",
   "execution_count": null,
   "metadata": {
    "id": "092ulVr_7Doi"
   },
   "outputs": [],
   "source": [
    "import requests\n",
    "import pandas as pd\n",
    "import deepl\n",
    "from datetime import datetime, timedelta\n",
    "import numpy as np\n",
    "from google.colab import files\n",
    "from tqdm.notebook import tqdm\n",
    "import time\n",
    "\n",
    "tqdm.pandas()"
   ]
  },
  {
   "cell_type": "code",
   "execution_count": null,
   "metadata": {
    "id": "BzDWKVrS7Doj"
   },
   "outputs": [],
   "source": [
    "from googleapiclient.discovery import build\n",
    "\n",
    "from youtube_transcript_api import YouTubeTranscriptApi"
   ]
  },
  {
   "cell_type": "code",
   "execution_count": null,
   "metadata": {
    "id": "0-maQ1W97Dok"
   },
   "outputs": [],
   "source": [
    "# API Key was removed"
   ]
  },
  {
   "cell_type": "code",
   "execution_count": null,
   "metadata": {
    "id": "MExzYsdV7Doq"
   },
   "outputs": [],
   "source": [
    "youtube = build(\"youtube\", \"v3\", developerKey=api_key)"
   ]
  },
  {
   "cell_type": "markdown",
   "metadata": {
    "id": "E4InoaNe7Dol"
   },
   "source": [
    "# Channel ID finder"
   ]
  },
  {
   "cell_type": "code",
   "execution_count": null,
   "metadata": {
    "colab": {
     "base_uri": "https://localhost:8080/"
    },
    "executionInfo": {
     "elapsed": 995,
     "status": "ok",
     "timestamp": 1741619643576,
     "user": {
      "displayName": "Yana Kiprova",
      "userId": "05029747295494730402"
     },
     "user_tz": -60
    },
    "id": "R9GM3RXC7Dom",
    "outputId": "1f562ef7-0fc0-4573-d623-9fc91552a380"
   },
   "outputs": [],
   "source": [
    "CHANNEL_NAMES = [\"@DiarioElComercio\", \"@atvnoticias\"]\n",
    "\n",
    "\n",
    "# Defining function that fetches channel IDs\n",
    "def get_channel_ids(api_key, channel_names):\n",
    "\n",
    "    base_url = \"https://www.googleapis.com/youtube/v3/search\"\n",
    "    results = {}\n",
    "\n",
    "    for name in channel_names:\n",
    "        params = {\n",
    "            \"part\": \"snippet\",\n",
    "            \"q\": name,\n",
    "            \"type\": \"channel\",\n",
    "            \"key\": api_key\n",
    "        }\n",
    "\n",
    "        response = requests.get(base_url, params=params).json()\n",
    "\n",
    "        if \"items\" in response and response[\"items\"]:\n",
    "            channel_id = response[\"items\"][0][\"id\"][\"channelId\"]\n",
    "            results[name] = channel_id\n",
    "        else:\n",
    "            results[name] = \"Not Found\"\n",
    "\n",
    "    return results\n",
    "\n",
    "\n",
    "\n",
    "# Fetch Channel IDs\n",
    "channel_ids = get_channel_ids(api_key, CHANNEL_NAMES)\n",
    "\n",
    "for name, channel_id in channel_ids.items():\n",
    "    print(f\"{name} - Channel ID: {channel_id}\")\n"
   ]
  },
  {
   "cell_type": "code",
   "execution_count": null,
   "metadata": {
    "id": "KIoPmi8zQI0d"
   },
   "outputs": [],
   "source": [
    "# Channel id ATV Noticias: UCYG5uXS3xdsoaXIxum1pAEw\n",
    "# Channel id El Comercio: UCLtGUPjKLqa3zgdmhKCZONg"
   ]
  },
  {
   "cell_type": "markdown",
   "metadata": {
    "id": "3YO3FIrW7Doo"
   },
   "source": [
    "# Collecting videos IDs for ATV Noticias\n",
    "\n",
    "\n",
    "\n"
   ]
  },
  {
   "cell_type": "markdown",
   "metadata": {
    "id": "uv7IsfPXefOd"
   },
   "source": [
    "## Full month periods"
   ]
  },
  {
   "cell_type": "code",
   "execution_count": null,
   "metadata": {
    "colab": {
     "base_uri": "https://localhost:8080/",
     "height": 424
    },
    "executionInfo": {
     "elapsed": 105,
     "status": "ok",
     "timestamp": 1741465652369,
     "user": {
      "displayName": "Yana Kiprova",
      "userId": "05029747295494730402"
     },
     "user_tz": -60
    },
    "id": "fEAODZKTS8kB",
    "outputId": "6e93b4b6-86c3-467a-bec6-db401b19a6bb"
   },
   "outputs": [],
   "source": [
    "#Dataframe with full month periods\n",
    "\n",
    "# Define the start and end dates\n",
    "start_date = datetime(2019, 2, 1)\n",
    "end_date = datetime(2025, 3, 1)\n",
    "\n",
    "data = []\n",
    "\n",
    "# Generate the start and end date-times for each full month period\n",
    "current_date = start_date\n",
    "while current_date < end_date:\n",
    "    # Get the start date of the current month\n",
    "    start_date_str = current_date.strftime(\"%Y-%m-%dT%H:%M:%S-05:00\")\n",
    "\n",
    "    # Calculate the next month's first day for the end date\n",
    "    next_month = current_date.replace(day=28) + timedelta(days=4)  # this gives us the next month\n",
    "    end_date_str = next_month.replace(day=1) - timedelta(seconds=1)\n",
    "    end_date_str = end_date_str.strftime(\"%Y-%m-%dT%H:%M:%S-05:00\")\n",
    "\n",
    "    # Append to the data list\n",
    "    data.append([start_date_str, end_date_str])\n",
    "\n",
    "    # Move to the first day of the next month\n",
    "    current_date = next_month.replace(day=1)\n",
    "\n",
    "date_ranges = pd.DataFrame(data, columns=[\"start\", \"end\"])\n",
    "\n",
    "date_ranges\n"
   ]
  },
  {
   "cell_type": "code",
   "execution_count": null,
   "metadata": {
    "id": "P20t6hqg7Dor"
   },
   "outputs": [],
   "source": [
    "# Initial test\n",
    "channel_id = \"UCYG5uXS3xdsoaXIxum1pAEw\" # ATV\n",
    "\n",
    "# Defined keywords\n",
    "keyword = \"robo|robó|roban|robaron|delincuentes|criminales|asalto|asaltó|asaltan|asaltaron|matan|mató|mataron|ladrón|asesinato|asesinado|asesinan|asesinaron|extorsionadores|extorsionador|extorsionan|extorsionaron|extorsionó|secuestro|secuestradores|secuestrada|secuestrado|secuestró|secuestraron|balacera|balean|balearon|balazos|sicariato|mafias|mafia|sicarios\""
   ]
  },
  {
   "cell_type": "code",
   "execution_count": null,
   "metadata": {
    "id": "8RwC7U_86-1z"
   },
   "outputs": [],
   "source": [
    "# Function used for the first sample\n",
    "#Function for getting video info for one channel id, one keyword, one time frame\n",
    "# Returns dictionary of all videos found, and prints number\n",
    "\n",
    "def get_youtube_videos(api_key, channel_id, keyword, max_results=50, order=\"date\",\n",
    "                       published_after=None, published_before=None):\n",
    "\n",
    "    videos = []\n",
    "    # Prepare API request parameters\n",
    "    params = {\n",
    "        \"part\": \"snippet\",\n",
    "        \"channelId\": channel_id,\n",
    "        \"q\": keyword,\n",
    "        \"type\": \"video\",\n",
    "        \"maxResults\": max_results,\n",
    "        \"order\": order,\n",
    "    }\n",
    "\n",
    "    if published_after:\n",
    "        params[\"publishedAfter\"] = published_after\n",
    "\n",
    "    if published_before:\n",
    "        params[\"publishedBefore\"] = published_before\n",
    "\n",
    "    # Execute API request\n",
    "    request = youtube.search().list(**params)\n",
    "    response = request.execute()\n",
    "\n",
    "    # Extract video details\n",
    "    for item in response.get(\"items\", []):\n",
    "        video_id = item[\"id\"][\"videoId\"]\n",
    "        video_title = item[\"snippet\"][\"title\"]\n",
    "        video_url = f\"https://www.youtube.com/watch?v={video_id}\"\n",
    "        video_date = item[\"snippet\"][\"publishedAt\"]\n",
    "\n",
    "        videos.append({\n",
    "            \"video_id\": video_id,\n",
    "            \"title\": video_title,\n",
    "            \"url\": video_url,\n",
    "            \"channel\": channel_id,\n",
    "            \"keyword\": keyword,\n",
    "            \"video_date\": video_date})\n",
    "\n",
    "    print(\"Number of videos found between \" + published_after + \" and \" + published_before + \": \" + str(len(videos)))\n",
    "\n",
    "    return videos"
   ]
  },
  {
   "cell_type": "code",
   "execution_count": null,
   "metadata": {
    "id": "LLjTn6cn7Dos",
    "outputId": "36659d61-4bf2-4422-e60a-83462d2897b8"
   },
   "outputs": [],
   "source": [
    "# First saample creation\n",
    "# Create a for loop that goes through each time frame\n",
    "    # gets all youtube videos and store them in a dataframe\n",
    "\n",
    "channel_id = \"UCYG5uXS3xdsoaXIxum1pAEw\" # ATV\n",
    "max_results = 50\n",
    "order = \"date\"\n",
    "keyword = \"robo|robó|roban|robaron|delincuentes|criminales|asalto|asaltó|asaltan|asaltaron|matan|mató|mataron|ladrón|asesinato|asesinado|asesinan|asesinaron|extorsionadores|extorsionador|extorsionan|extorsionaron|extorsionó|secuestro|secuestradores|secuestrada|secuestrado|secuestró|secuestraron|balacera|balean|balearon|balazos|sicariato|mafias|mafia|sicarios\"\n",
    "\n",
    "# Create empty dataframe for first time running it\n",
    "df = pd.DataFrame(columns=['video_id','title','url','channel','keyword','video_date'])\n",
    "\n",
    "for index, row in date_ranges.iterrows():\n",
    "    published_after = row['start']\n",
    "    published_before = row['end']\n",
    "\n",
    "    df_new = pd.DataFrame.from_records(get_youtube_videos(api_key, channel_id, keyword, max_results,\n",
    "                                                          order, published_after, published_before))\n",
    "    df = pd.concat([df, df_new], ignore_index=True)"
   ]
  },
  {
   "cell_type": "code",
   "execution_count": null,
   "metadata": {
    "id": "Z0pvTGGZ7Dot",
    "outputId": "8995f8a7-8b14-4a09-eb23-89190c217b03"
   },
   "outputs": [],
   "source": [
    "df.shape"
   ]
  },
  {
   "cell_type": "code",
   "execution_count": null,
   "metadata": {
    "id": "9Ng_t5NY7Dot"
   },
   "outputs": [],
   "source": [
    "# Save df as csv\n",
    "df.to_csv(\"video_titles.csv\")"
   ]
  },
  {
   "cell_type": "code",
   "execution_count": null,
   "metadata": {
    "id": "Bdnz0pR87Dor"
   },
   "outputs": [],
   "source": [
    "\n",
    "# new function\n",
    "#Function for getting video info for one channel id, one keyword, one time frame\n",
    "# Returns dictionary of all videos found and number of videos, and prints number\n",
    "#\n",
    "\n",
    "def get_youtube_videos(api_key, channel_id, keyword, max_results=50, order=\"date\",\n",
    "                       published_after=None, published_before=None):\n",
    "\n",
    "    videos = []\n",
    "\n",
    "    # Prepare API request parameters\n",
    "    params = {\n",
    "        \"part\": \"snippet\",\n",
    "        \"channelId\": channel_id,\n",
    "        \"q\": keyword,\n",
    "        \"type\": \"video\",\n",
    "        \"maxResults\": max_results,\n",
    "        \"order\": order,\n",
    "    }\n",
    "\n",
    "    if published_after:\n",
    "        params[\"publishedAfter\"] = published_after\n",
    "\n",
    "    if published_before:\n",
    "        params[\"publishedBefore\"] = published_before\n",
    "\n",
    "    # Execute API request\n",
    "    request = youtube.search().list(**params)\n",
    "    response = request.execute()\n",
    "\n",
    "    # Extract video details\n",
    "    for item in response.get(\"items\", []):\n",
    "        video_id = item[\"id\"][\"videoId\"]\n",
    "        video_title = item[\"snippet\"][\"title\"]\n",
    "        video_url = f\"https://www.youtube.com/watch?v={video_id}\"\n",
    "        video_date = item[\"snippet\"][\"publishedAt\"]\n",
    "\n",
    "        videos.append({\n",
    "            \"video_id\": video_id,\n",
    "            \"title\": video_title,\n",
    "            \"url\": video_url,\n",
    "            \"channel\": channel_id,\n",
    "            \"keyword\": keyword,\n",
    "            \"video_date\": video_date})\n",
    "\n",
    "\n",
    "    print(\"Number of videos found between \" + published_after + \" and \" + published_before + \": \" + str(len(videos)))\n",
    "\n",
    "\n",
    "\n",
    "    return videos, len(videos)"
   ]
  },
  {
   "cell_type": "code",
   "execution_count": null,
   "metadata": {
    "colab": {
     "base_uri": "https://localhost:8080/"
    },
    "executionInfo": {
     "elapsed": 12324,
     "status": "ok",
     "timestamp": 1741467854545,
     "user": {
      "displayName": "Yana Kiprova",
      "userId": "05029747295494730402"
     },
     "user_tz": -60
    },
    "id": "zrDSvFfn5N8O",
    "outputId": "206deea9-0441-4034-9146-4fa0bb9fea78"
   },
   "outputs": [],
   "source": [
    "\n",
    "# applying new function\n",
    "# Create a for loop that goes through each time frame\n",
    "    # gets all youtube videos and store them in a dataframe\n",
    "\n",
    "channel_id = \"UCYG5uXS3xdsoaXIxum1pAEw\" # ATV\n",
    "max_results = 50\n",
    "order = \"date\"\n",
    "keyword = \"robo|robó|roban|robaron|delincuentes|criminales|asalto|asaltó|asaltan|asaltaron|matan|mató|mataron|ladrón|asesinato|asesinado|asesinan|asesinaron|extorsionadores|extorsionador|extorsionan|extorsionaron|extorsionó|secuestro|secuestradores|secuestrada|secuestrado|secuestró|secuestraron|balacera|balean|balearon|balazos|sicariato|mafias|mafia|sicarios\"\n",
    "\n",
    "# Create empty dataframe for first time running it\n",
    "df = pd.DataFrame(columns=['video_id','title','url','channel','keyword','video_date'])\n",
    "videos_list = []\n",
    "videos_count_list = []\n",
    "\n",
    "for index, row in date_ranges.iterrows():\n",
    "    published_after = row['start']\n",
    "    published_before = row['end']\n",
    "\n",
    "\n",
    "    all = get_youtube_videos(api_key, channel_id, keyword, max_results,\n",
    "                                                          order, published_after, published_before)\n",
    "    videos = all[0]\n",
    "    video_count = all[1]\n",
    "    videos_list.append(videos)\n",
    "    videos_count_list.append(video_count)\n"
   ]
  },
  {
   "cell_type": "code",
   "execution_count": null,
   "metadata": {
    "id": "QESYOJYbZF4I"
   },
   "outputs": [],
   "source": [
    "flattened_list = np.concatenate(videos_list).tolist()\n",
    "df1 = pd.DataFrame(flattened_list)\n",
    "df1.drop(columns=['keyword'], inplace=True)"
   ]
  },
  {
   "cell_type": "code",
   "execution_count": null,
   "metadata": {
    "id": "OJ0eCt1GQI0j",
    "outputId": "0a8c2a58-ccc1-41d8-ee32-470d9eed2c5e"
   },
   "outputs": [],
   "source": [
    "df1.head()"
   ]
  },
  {
   "cell_type": "code",
   "execution_count": null,
   "metadata": {
    "id": "K2nYELKsauA-"
   },
   "outputs": [],
   "source": [
    "df1.to_csv(\"videos_ATV_1.csv\")"
   ]
  },
  {
   "cell_type": "code",
   "execution_count": null,
   "metadata": {
    "id": "aWLStJC4bULY"
   },
   "outputs": [],
   "source": [
    "date_ranges['videos_count'] = videos_count_list"
   ]
  },
  {
   "cell_type": "code",
   "execution_count": null,
   "metadata": {
    "id": "5vIwmOnmbdmA"
   },
   "outputs": [],
   "source": [
    "date_ranges.to_csv(\"date_ranges_ATV_1.csv\")"
   ]
  },
  {
   "cell_type": "code",
   "execution_count": null,
   "metadata": {
    "id": "d0Ekv1VkQI0k",
    "outputId": "061b60c7-4b37-49e9-a8d7-ae2f8b30e884"
   },
   "outputs": [],
   "source": [
    "date_ranges.tail()"
   ]
  },
  {
   "cell_type": "markdown",
   "metadata": {
    "id": "qryYCJJ9ZgXY"
   },
   "source": [
    "## Half-month periods"
   ]
  },
  {
   "cell_type": "code",
   "execution_count": null,
   "metadata": {
    "colab": {
     "base_uri": "https://localhost:8080/"
    },
    "executionInfo": {
     "elapsed": 30,
     "status": "ok",
     "timestamp": 1741540013162,
     "user": {
      "displayName": "Yana Kiprova",
      "userId": "05029747295494730402"
     },
     "user_tz": -60
    },
    "id": "iLgoCXyU1e3u",
    "outputId": "0e8d9493-3d9f-4e2b-fda7-4c4114a59e61"
   },
   "outputs": [],
   "source": [
    "#creating a new df where the time ranges of those that have vidoe count == 50 are split in half\n",
    "\n",
    "# Convert start and end columns to datetime\n",
    "date_ranges[\"start\"] = pd.to_datetime(date_ranges[\"start\"])\n",
    "date_ranges[\"end\"] = pd.to_datetime(date_ranges[\"end\"])\n",
    "\n",
    "df_filtered = date_ranges[date_ranges[\"videos_count\"] == 50].copy()\n",
    "\n",
    "# Create new df\n",
    "split_periods = []\n",
    "\n",
    "for _, row in df_filtered.iterrows():\n",
    "    start_date = row[\"start\"]\n",
    "    mid_date = start_date + timedelta(days=15)\n",
    "    end_date = row[\"end\"]\n",
    "\n",
    "    # Ensure mid_date does not exceed end_date\n",
    "    if mid_date > end_date:\n",
    "        mid_date = end_date\n",
    "\n",
    "    # First half\n",
    "    split_periods.append({\"start\": start_date, \"end\": mid_date - timedelta(seconds=1)})\n",
    "\n",
    "    # Second half\n",
    "    split_periods.append({\"start\": mid_date, \"end\": end_date})\n",
    "\n",
    "# Create new DataFrame with split periods\n",
    "df_half_months = pd.DataFrame(split_periods)\n",
    "\n",
    "# required format\n",
    "df_half_months[\"start\"] = df_half_months[\"start\"].dt.strftime(\"%Y-%m-%dT%H:%M:%S-05:00\")\n",
    "df_half_months[\"end\"] = df_half_months[\"end\"].dt.strftime(\"%Y-%m-%dT%H:%M:%S-05:00\")\n",
    "\n",
    "print(df_half_months)"
   ]
  },
  {
   "cell_type": "code",
   "execution_count": null,
   "metadata": {
    "colab": {
     "base_uri": "https://localhost:8080/"
    },
    "executionInfo": {
     "elapsed": 18788,
     "status": "ok",
     "timestamp": 1741540732710,
     "user": {
      "displayName": "Yana Kiprova",
      "userId": "05029747295494730402"
     },
     "user_tz": -60
    },
    "id": "M6HJEtku4FIq",
    "outputId": "53936e46-6013-470b-cbde-3fb77f1a6f7b"
   },
   "outputs": [],
   "source": [
    "# Getting the youtube videos for the split periods\n",
    "\n",
    "channel_id = \"UCYG5uXS3xdsoaXIxum1pAEw\" # ATV\n",
    "max_results = 50\n",
    "order = \"date\"\n",
    "keyword = \"robo|robó|roban|robaron|delincuentes|criminales|asalto|asaltó|asaltan|asaltaron|matan|mató|mataron|ladrón|asesinato|asesinado|asesinan|asesinaron|extorsionadores|extorsionador|extorsionan|extorsionaron|extorsionó|secuestro|secuestradores|secuestrada|secuestrado|secuestró|secuestraron|balacera|balean|balearon|balazos|sicariato|mafias|mafia|sicarios\"\n",
    "\n",
    "# Create empty dataframe for first time running it\n",
    "df = pd.DataFrame(columns=['video_id','title','url','channel','keyword','video_date'])\n",
    "videos_list = []\n",
    "videos_count_list = []\n",
    "\n",
    "for index, row in df_half_months.iterrows():\n",
    "    published_after = row['start']\n",
    "    published_before = row['end']\n",
    "\n",
    "\n",
    "    all = get_youtube_videos(api_key, channel_id, keyword, max_results,\n",
    "                                                          order, published_after, published_before)\n",
    "    videos = all[0]\n",
    "    video_count = all[1]\n",
    "    videos_list.append(videos)\n",
    "    videos_count_list.append(video_count)"
   ]
  },
  {
   "cell_type": "code",
   "execution_count": null,
   "metadata": {
    "id": "AYnO--yJQI0l",
    "outputId": "0286357d-a993-4646-9942-ab75d1e6197f"
   },
   "outputs": [],
   "source": [
    "videos_list"
   ]
  },
  {
   "cell_type": "code",
   "execution_count": null,
   "metadata": {
    "id": "qsPpYmhN-l-D"
   },
   "outputs": [],
   "source": [
    "#creating a df with the outputs\n",
    "flattened_list = np.concatenate(videos_list).tolist()\n",
    "df3 = pd.DataFrame(flattened_list)\n",
    "df3.drop(columns=['keyword'], inplace=True)"
   ]
  },
  {
   "cell_type": "code",
   "execution_count": null,
   "metadata": {
    "id": "YsT-ouugQI0m",
    "outputId": "9322569c-9146-484a-cfb5-a4cd640b3e59"
   },
   "outputs": [],
   "source": [
    "df3.tail()"
   ]
  },
  {
   "cell_type": "code",
   "execution_count": null,
   "metadata": {
    "id": "9J9MVsOBQI0m",
    "outputId": "87c2cc26-a58b-41e3-b385-030f9093db94"
   },
   "outputs": [],
   "source": [
    "# Creating new df_half_months only from feb 2024 and on\n",
    "\n",
    "subset_df_half_months = df_half_months.iloc[26:]\n",
    "\n",
    "subset_df_half_months"
   ]
  },
  {
   "cell_type": "code",
   "execution_count": null,
   "metadata": {
    "id": "zR2vnMDyQI0m"
   },
   "outputs": [],
   "source": [
    "# Merge monthly and partial half monthly df for ATV: df1 and df3"
   ]
  },
  {
   "cell_type": "code",
   "execution_count": null,
   "metadata": {
    "id": "ndrESU8kQI0m",
    "outputId": "17e08b70-d906-4507-b099-9a4e1a9fc362"
   },
   "outputs": [],
   "source": [
    "df1.shape"
   ]
  },
  {
   "cell_type": "code",
   "execution_count": null,
   "metadata": {
    "id": "WBlvFkPiQI0n",
    "outputId": "721f6a79-712b-450d-b618-983fbd1d8fc3",
    "scrolled": true
   },
   "outputs": [],
   "source": [
    "df3.shape"
   ]
  },
  {
   "cell_type": "code",
   "execution_count": null,
   "metadata": {
    "id": "HZ5EfZ5bQI0n",
    "outputId": "7d7927f5-542f-421e-a6b7-f8f8526b32cc"
   },
   "outputs": [],
   "source": [
    "ATV_df_1 = pd.concat([df1, df3], ignore_index=True).drop_duplicates()\n",
    "\n",
    "ATV_df_1.shape"
   ]
  },
  {
   "cell_type": "code",
   "execution_count": null,
   "metadata": {
    "id": "Prh56b75QI0n"
   },
   "outputs": [],
   "source": [
    "# Save to continue tomorrow with more request\n",
    "\n",
    "ATV_df_1.to_csv(\"ATV_df_1.csv\")"
   ]
  },
  {
   "cell_type": "code",
   "execution_count": null,
   "metadata": {
    "id": "Hb0i2IpMQI0o"
   },
   "outputs": [],
   "source": [
    "# Save number of videos per month period and half month period, to know which ones to iterate again\n",
    "\n",
    "# Months\n",
    "# monthly_videos = pd.read_csv(\"date_ranges_ATV_1.csv\")\n",
    "\n",
    "# Half months\n",
    "df_half_months['videos_count'] = videos_count_list + [0] * (len(df_half_months) - len(videos_count_list))\n",
    "df_half_months.to_csv(\"date_ranges_ATV_2.csv\")"
   ]
  },
  {
   "cell_type": "code",
   "execution_count": null,
   "metadata": {
    "id": "HlNWicDFQI0o",
    "outputId": "b5bc7411-6c07-4b22-b579-9855a7d0f585"
   },
   "outputs": [],
   "source": [
    "df_half_months.shape"
   ]
  },
  {
   "cell_type": "code",
   "execution_count": null,
   "metadata": {
    "id": "B46WNXWNQI0w",
    "outputId": "cef523a1-7f7e-42d7-d9e1-fc69d9d6ad04"
   },
   "outputs": [],
   "source": [
    "# Get previous date ranges\n",
    "\n",
    "# Months\n",
    "monthly_videos = pd.read_csv(\"date_ranges_ATV_1.csv\")\n",
    "\n",
    "# Half months\n",
    "df_half_months = pd.read_csv(\"date_ranges_ATV_2.csv\")\n",
    "df_half_months.head()"
   ]
  },
  {
   "cell_type": "code",
   "execution_count": null,
   "metadata": {
    "id": "GX6HF3ffQI0w",
    "outputId": "69e637db-d099-4398-8a36-c9b288988409"
   },
   "outputs": [],
   "source": [
    "subset_df_half_months = df_half_months[df_half_months[\"videos_count\"] == -0].copy()\n",
    "subset_df_half_months.head()"
   ]
  },
  {
   "cell_type": "code",
   "execution_count": null,
   "metadata": {
    "id": "JAlAIsjOQI0x",
    "outputId": "f28d7322-5751-4e8f-d9af-86ca3deb3236"
   },
   "outputs": [],
   "source": [
    "# Running the function again from Jan 2024\n",
    "\n",
    "# Getting the youtube videos for the split periods\n",
    "\n",
    "channel_id = \"UCYG5uXS3xdsoaXIxum1pAEw\" # ATV\n",
    "max_results = 50\n",
    "order = \"date\"\n",
    "keyword = \"robo|robó|roban|robaron|delincuentes|criminales|asalto|asaltó|asaltan|asaltaron|matan|mató|mataron|ladrón|asesinato|asesinado|asesinan|asesinaron|extorsionadores|extorsionador|extorsionan|extorsionaron|extorsionó|secuestro|secuestradores|secuestrada|secuestrado|secuestró|secuestraron|balacera|balean|balearon|balazos|sicariato|mafias|mafia|sicarios\"\n",
    "\n",
    "# Create empty dataframe for first time running it\n",
    "#df = pd.DataFrame(columns=['video_id','title','url','channel','keyword','video_date'])\n",
    "videos_list = []\n",
    "videos_count_list = []\n",
    "\n",
    "for index, row in subset_df_half_months.iterrows():\n",
    "    published_after = row['start']\n",
    "    published_before = row['end']\n",
    "\n",
    "\n",
    "    all = get_youtube_videos(api_key, channel_id, keyword, max_results,\n",
    "                                                          order, published_after, published_before)\n",
    "    videos = all[0]\n",
    "    video_count = all[1]\n",
    "    videos_list.append(videos)\n",
    "    videos_count_list.append(video_count)"
   ]
  },
  {
   "cell_type": "code",
   "execution_count": null,
   "metadata": {
    "id": "cOby4x11QI0x",
    "outputId": "2eed33db-d055-4db9-a59c-f54eeaa6ceab"
   },
   "outputs": [],
   "source": [
    "print(len(videos_count_list))\n",
    "print(subset_df_half_months.shape)"
   ]
  },
  {
   "cell_type": "code",
   "execution_count": null,
   "metadata": {
    "id": "0LgGodue-4Oc",
    "scrolled": true
   },
   "outputs": [],
   "source": [
    "#adding the video counts to the date ranges table\n",
    "subset_df_half_months['videos_count'] = videos_count_list"
   ]
  },
  {
   "cell_type": "code",
   "execution_count": null,
   "metadata": {
    "id": "BiU_adPtQI0y",
    "outputId": "46cc4924-9225-45df-a042-39a7cf03a028",
    "scrolled": true
   },
   "outputs": [],
   "source": [
    "# Create dataframe with newly collected videos\n",
    "\n",
    "flattened_list = np.concatenate(videos_list).tolist()\n",
    "ATV_halfmonths_2 = pd.DataFrame(flattened_list)\n",
    "ATV_halfmonths_2.drop(columns=['keyword'], inplace=True)\n",
    "ATV_halfmonths_2.head()"
   ]
  },
  {
   "cell_type": "code",
   "execution_count": null,
   "metadata": {
    "id": "B5Xz85gSQI0y",
    "outputId": "5adf2803-14c9-4a2f-8825-efa003df4bef"
   },
   "outputs": [],
   "source": [
    "ATV_halfmonths_2.shape"
   ]
  },
  {
   "cell_type": "code",
   "execution_count": null,
   "metadata": {
    "id": "-UM7R4BmFeOl"
   },
   "outputs": [],
   "source": [
    "ATV_halfmonths_2.to_csv(\"ATV_halfmonths_2.csv\")"
   ]
  },
  {
   "cell_type": "code",
   "execution_count": null,
   "metadata": {
    "id": "w19tk4YMFrsD"
   },
   "outputs": [],
   "source": [
    "subset_df_half_months.to_csv(\"date_ranges_ATV_3.csv\")"
   ]
  },
  {
   "cell_type": "code",
   "execution_count": null,
   "metadata": {
    "colab": {
     "base_uri": "https://localhost:8080/",
     "height": 424
    },
    "executionInfo": {
     "elapsed": 108,
     "status": "ok",
     "timestamp": 1741543904874,
     "user": {
      "displayName": "Yana Kiprova",
      "userId": "05029747295494730402"
     },
     "user_tz": -60
    },
    "id": "OcKMLKlUCP9u",
    "outputId": "ba74c619-243e-4e49-867c-aae3f261a2a6",
    "scrolled": false
   },
   "outputs": [],
   "source": [
    "#Create df that combines initial half months list, with new subset\n",
    "\n",
    "combined_half_months = pd.concat([df_half_months.iloc[:25], subset_df_half_months], ignore_index=True)\n",
    "combined_half_months.head()"
   ]
  },
  {
   "cell_type": "code",
   "execution_count": null,
   "metadata": {
    "id": "GdmWuLpOQI0z",
    "outputId": "8dbcf90c-665f-47b5-c4fb-da4b5125e6b5"
   },
   "outputs": [],
   "source": [
    "print(combined_half_months.shape)\n",
    "print(df_half_months.shape)"
   ]
  },
  {
   "cell_type": "code",
   "execution_count": null,
   "metadata": {
    "colab": {
     "base_uri": "https://localhost:8080/"
    },
    "executionInfo": {
     "elapsed": 36,
     "status": "ok",
     "timestamp": 1741543878511,
     "user": {
      "displayName": "Yana Kiprova",
      "userId": "05029747295494730402"
     },
     "user_tz": -60
    },
    "id": "_6T2dSHj_f10",
    "outputId": "9fb125a6-5b2b-4ad9-9d8e-7c1b717ecebe"
   },
   "outputs": [],
   "source": [
    "count50 = combined_half_months[combined_half_months[\"videos_count\"] == 50]\n",
    "count50.shape"
   ]
  },
  {
   "cell_type": "code",
   "execution_count": null,
   "metadata": {
    "id": "C-n3VF7aQI00",
    "outputId": "56a76b7c-ba7b-4504-f371-c7eb1f23574c"
   },
   "outputs": [],
   "source": [
    "count50.tail()"
   ]
  },
  {
   "cell_type": "markdown",
   "metadata": {
    "id": "8UK1joU5Zp3h"
   },
   "source": [
    "## Week periods"
   ]
  },
  {
   "cell_type": "code",
   "execution_count": null,
   "metadata": {
    "colab": {
     "base_uri": "https://localhost:8080/"
    },
    "executionInfo": {
     "elapsed": 44,
     "status": "ok",
     "timestamp": 1741544038441,
     "user": {
      "displayName": "Yana Kiprova",
      "userId": "05029747295494730402"
     },
     "user_tz": -60
    },
    "id": "AgzXtgZkF9nf",
    "outputId": "3e6ee901-ed26-44ee-eb0f-90bd24d135ac",
    "scrolled": true
   },
   "outputs": [],
   "source": [
    "#splitting to weekly periods\n",
    "split_periods = []\n",
    "\n",
    "df_filtered = combined_half_months[combined_half_months[\"videos_count\"] == 50].copy()\n",
    "\n",
    "# Convert start and end columns to datetime\n",
    "df_filtered[\"start\"] = pd.to_datetime(df_filtered[\"start\"])\n",
    "df_filtered[\"end\"] = pd.to_datetime(df_filtered[\"end\"])\n",
    "\n",
    "# Create new DataFrame for half-month periods\n",
    "split_periods = []\n",
    "\n",
    "for _, row in df_filtered.iterrows():\n",
    "    start_date = row[\"start\"]\n",
    "    mid_date = start_date + timedelta(days=7)\n",
    "    end_date = row[\"end\"]\n",
    "\n",
    "    # Ensure mid_date does not exceed end_date\n",
    "    if mid_date > end_date:\n",
    "        mid_date = end_date\n",
    "\n",
    "    # First half\n",
    "    split_periods.append({\"start\": start_date, \"end\": mid_date - timedelta(seconds=1)})\n",
    "\n",
    "    # Second half\n",
    "    split_periods.append({\"start\": mid_date, \"end\": end_date})\n",
    "\n",
    "# Create new DataFrame with split periods\n",
    "df_weeks = pd.DataFrame(split_periods)\n",
    "\n",
    "# Convert back to the required format\n",
    "df_weeks[\"start\"] = df_weeks[\"start\"].dt.strftime(\"%Y-%m-%dT%H:%M:%S-05:00\")\n",
    "df_weeks[\"end\"] = df_weeks[\"end\"].dt.strftime(\"%Y-%m-%dT%H:%M:%S-05:00\")\n",
    "\n",
    "print(df_weeks)"
   ]
  },
  {
   "cell_type": "code",
   "execution_count": null,
   "metadata": {
    "id": "vIIHi69iQI01",
    "outputId": "38b04f7b-e99c-4700-e46f-0d4210536765"
   },
   "outputs": [],
   "source": [
    "df_weeks.head()"
   ]
  },
  {
   "cell_type": "code",
   "execution_count": null,
   "metadata": {
    "colab": {
     "base_uri": "https://localhost:8080/"
    },
    "executionInfo": {
     "elapsed": 25377,
     "status": "ok",
     "timestamp": 1741544328499,
     "user": {
      "displayName": "Yana Kiprova",
      "userId": "05029747295494730402"
     },
     "user_tz": -60
    },
    "id": "qoAHWm5sHwyf",
    "outputId": "e2024849-7141-4c82-ce3b-51671d965065"
   },
   "outputs": [],
   "source": [
    "# Getting the youtube videos for the weekly periods\n",
    "channel_id = \"UCYG5uXS3xdsoaXIxum1pAEw\" # ATV\n",
    "max_results = 50\n",
    "order = \"date\"\n",
    "keyword = \"robo|robó|roban|robaron|delincuentes|criminales|asalto|asaltó|asaltan|asaltaron|matan|mató|mataron|ladrón|asesinato|asesinado|asesinan|asesinaron|extorsionadores|extorsionador|extorsionan|extorsionaron|extorsionó|secuestro|secuestradores|secuestrada|secuestrado|secuestró|secuestraron|balacera|balean|balearon|balazos|sicariato|mafias|mafia|sicarios\"\n",
    "\n",
    "# Create empty dataframe for first time running it\n",
    "#df = pd.DataFrame(columns=['video_id','title','url','channel','keyword','video_date'])\n",
    "videos_list = []\n",
    "videos_count_list = []\n",
    "\n",
    "for index, row in df_weeks.iterrows():\n",
    "    published_after = row['start']\n",
    "    published_before = row['end']\n",
    "\n",
    "\n",
    "    all = get_youtube_videos(api_key, channel_id, keyword, max_results, order, published_after, published_before)\n",
    "    videos = all[0]\n",
    "    video_count = all[1]\n",
    "    videos_list.append(videos)\n",
    "    videos_count_list.append(video_count)\n"
   ]
  },
  {
   "cell_type": "code",
   "execution_count": null,
   "metadata": {
    "id": "yu6QZ262IiB0"
   },
   "outputs": [],
   "source": [
    "#creating a df with the outputs\n",
    "flattened_list = np.concatenate(videos_list).tolist()\n",
    "df4 = pd.DataFrame(flattened_list)\n",
    "df4.drop(columns=['keyword'], inplace=True)"
   ]
  },
  {
   "cell_type": "code",
   "execution_count": null,
   "metadata": {
    "id": "NafzUxKAIsWS"
   },
   "outputs": [],
   "source": [
    "#adding the video counts to the date ranges table\n",
    "df_weeks['videos_count'] = videos_count_list"
   ]
  },
  {
   "cell_type": "code",
   "execution_count": null,
   "metadata": {
    "id": "7t6WvqRcI3P4"
   },
   "outputs": [],
   "source": [
    "df_weeks.to_csv(\"date_ranges_ATV_4.csv\")\n",
    "df4.to_csv(\"ATV_weeks.csv\")"
   ]
  },
  {
   "cell_type": "markdown",
   "metadata": {
    "id": "L12W0vuhLumc"
   },
   "source": [
    "## Half-week periods (Not needed, no weeks with more than 50)"
   ]
  },
  {
   "cell_type": "code",
   "execution_count": null,
   "metadata": {
    "id": "KEwhD1z8QI03",
    "outputId": "2e190160-bbba-447e-b63f-40d67b17122f"
   },
   "outputs": [],
   "source": [
    "df_weeks"
   ]
  },
  {
   "cell_type": "code",
   "execution_count": null,
   "metadata": {
    "colab": {
     "base_uri": "https://localhost:8080/"
    },
    "executionInfo": {
     "elapsed": 59,
     "status": "ok",
     "timestamp": 1741544971205,
     "user": {
      "displayName": "Yana Kiprova",
      "userId": "05029747295494730402"
     },
     "user_tz": -60
    },
    "id": "busMRzZMKP6a",
    "outputId": "21f5fee6-3c82-4923-98ee-d8b17ff37a20",
    "scrolled": true
   },
   "outputs": [],
   "source": [
    "#splitting to half-weekly periods\n",
    "split_periods = []\n",
    "\n",
    "df_filtered = df_weeks[df_weeks[\"videos_count\"] == 50].copy()\n",
    "\n",
    "# Convert 'start' and 'end' to datetime\n",
    "df_filtered[\"start\"] = pd.to_datetime(df_filtered[\"start\"])\n",
    "df_filtered[\"end\"] = pd.to_datetime(df_filtered[\"end\"])\n",
    "\n",
    "# Create new DataFrame for half-month periods\n",
    "split_periods = []\n",
    "\n",
    "for _, row in df_filtered.iterrows():\n",
    "    start_date = row[\"start\"]\n",
    "    mid_date = start_date + timedelta(days=4)  # Mid-month\n",
    "    end_date = row[\"end\"]\n",
    "\n",
    "    # Ensure mid_date does not exceed end_date\n",
    "    if mid_date > end_date:\n",
    "        mid_date = end_date\n",
    "\n",
    "    # First half\n",
    "    split_periods.append({\"start\": start_date, \"end\": mid_date - timedelta(seconds=1)})\n",
    "\n",
    "    # Second half\n",
    "    split_periods.append({\"start\": mid_date, \"end\": end_date})\n",
    "\n",
    "# Create new DataFrame with split periods\n",
    "df_half_weeks = pd.DataFrame(split_periods)\n",
    "\n",
    "df_half_weeks[\"start\"] = df_half_weeks[\"start\"].dt.strftime(\"%Y-%m-%dT%H:%M:%S-05:00\")\n",
    "df_half_weeks[\"end\"] = df_half_weeks[\"end\"].dt.strftime(\"%Y-%m-%dT%H:%M:%S-05:00\")\n",
    "\n",
    "print(df_half_weeks)"
   ]
  },
  {
   "cell_type": "code",
   "execution_count": null,
   "metadata": {
    "id": "Y2AYqP95QI04",
    "outputId": "2fbfbe76-b720-467a-cfc9-4132ff647472"
   },
   "outputs": [],
   "source": [
    "print(df_filtered.head())"
   ]
  },
  {
   "cell_type": "code",
   "execution_count": null,
   "metadata": {
    "colab": {
     "base_uri": "https://localhost:8080/"
    },
    "executionInfo": {
     "elapsed": 86,
     "status": "ok",
     "timestamp": 1741545287002,
     "user": {
      "displayName": "Yana Kiprova",
      "userId": "05029747295494730402"
     },
     "user_tz": -60
    },
    "id": "KbNWBCxZLqaL",
    "outputId": "c536042d-7700-4bb0-bd8d-52261e4080e6"
   },
   "outputs": [],
   "source": [
    "count50 = df_weeks[df_weeks[\"videos_count\"] == 50]\n",
    "count50.shape"
   ]
  },
  {
   "cell_type": "code",
   "execution_count": null,
   "metadata": {
    "colab": {
     "base_uri": "https://localhost:8080/"
    },
    "executionInfo": {
     "elapsed": 21392,
     "status": "ok",
     "timestamp": 1741545442650,
     "user": {
      "displayName": "Yana Kiprova",
      "userId": "05029747295494730402"
     },
     "user_tz": -60
    },
    "id": "9Aya1moBMIrC",
    "outputId": "68d7b2df-c675-4a1c-b1b3-1e3c22b6e4e4"
   },
   "outputs": [],
   "source": [
    "# Getting the youtube videos for the half weekly periods\n",
    "channel_id = \"UCpSJ5fGhmAME9Kx2D3ZvN3Q\" # Latina Noticias\n",
    "max_results = 50\n",
    "order = \"date\"\n",
    "keyword = \"robo|robó|roban|robaron|delincuentes|criminales|asalto|asaltó|asaltan|asaltaron|matan|mató|mataron|ladrón|asesinato|asesinado|asesinan|asesinaron|extorsionadores|extorsionador|extorsionan|extorsionaron|extorsionó|secuestro|secuestradores|secuestrada|secuestrado|secuestró|secuestraron|balacera|balean|balearon|balazos|sicariato|mafias|mafia|sicarios\"\n",
    "\n",
    "# Create empty dataframe for first time running it\n",
    "df = pd.DataFrame(columns=['video_id','title','url','channel','keyword','video_date'])\n",
    "videos_list = []\n",
    "videos_count_list = []\n",
    "\n",
    "for index, row in df_half_weeks.iterrows():\n",
    "    published_after = row['start']\n",
    "    published_before = row['end']\n",
    "\n",
    "\n",
    "    all = get_youtube_videos(api_key, channel_id, keyword, max_results,\n",
    "                                                          order, published_after, published_before)\n",
    "    videos = all[0]\n",
    "    video_count = all[1]\n",
    "    videos_list.append(videos)\n",
    "    videos_count_list.append(video_count)"
   ]
  },
  {
   "cell_type": "code",
   "execution_count": null,
   "metadata": {
    "id": "aLCI6Yr1M6eQ"
   },
   "outputs": [],
   "source": [
    "#creating a df with the outputs\n",
    "flattened_list = np.concatenate(videos_list).tolist()\n",
    "df5 = pd.DataFrame(flattened_list)\n",
    "df5.drop(columns=['keyword'], inplace=True)"
   ]
  },
  {
   "cell_type": "code",
   "execution_count": null,
   "metadata": {
    "id": "tGwQLQ4vNPRF"
   },
   "outputs": [],
   "source": [
    "#adding the video counts to the date ranges table\n",
    "df_half_weeks['videos_count'] = videos_count_list"
   ]
  },
  {
   "cell_type": "code",
   "execution_count": null,
   "metadata": {
    "colab": {
     "base_uri": "https://localhost:8080/",
     "height": 17
    },
    "executionInfo": {
     "elapsed": 12,
     "status": "ok",
     "timestamp": 1741545966451,
     "user": {
      "displayName": "Yana Kiprova",
      "userId": "05029747295494730402"
     },
     "user_tz": -60
    },
    "id": "R9RwQuDVNYnc",
    "outputId": "51cfdc0e-14e4-40d2-feb1-9d67219d37cf"
   },
   "outputs": [],
   "source": [
    "df_half_weeks.to_csv(\"date_ranges_4.csv\")\n",
    "files.download('date_ranges_4.csv')\n",
    "#df5.to_csv(\"video_titles_03.09.3.csv\")\n",
    "#files.download('video_titles_03.09.3.csv')"
   ]
  },
  {
   "cell_type": "markdown",
   "metadata": {
    "id": "QswdLNGAN-ja"
   },
   "source": [
    "## Couple days periods (not needed)"
   ]
  },
  {
   "cell_type": "code",
   "execution_count": null,
   "metadata": {
    "colab": {
     "base_uri": "https://localhost:8080/",
     "height": 53
    },
    "executionInfo": {
     "elapsed": 67354,
     "status": "ok",
     "timestamp": 1741616053415,
     "user": {
      "displayName": "Yana Kiprova",
      "userId": "05029747295494730402"
     },
     "user_tz": -60
    },
    "id": "rB8JqfQwYbLQ",
    "outputId": "1e68eac6-faa3-4c09-bb86-c188103466f4"
   },
   "outputs": [],
   "source": [
    "uploaded = files.upload()"
   ]
  },
  {
   "cell_type": "code",
   "execution_count": null,
   "metadata": {
    "id": "P2uymZ60aFmr"
   },
   "outputs": [],
   "source": [
    "df_half_weeks = pd.read_csv(\"date_ranges_4.csv\")"
   ]
  },
  {
   "cell_type": "code",
   "execution_count": null,
   "metadata": {
    "colab": {
     "base_uri": "https://localhost:8080/"
    },
    "executionInfo": {
     "elapsed": 37,
     "status": "ok",
     "timestamp": 1741616234727,
     "user": {
      "displayName": "Yana Kiprova",
      "userId": "05029747295494730402"
     },
     "user_tz": -60
    },
    "id": "KRrQd8AFN90C",
    "outputId": "1395769a-42e0-4362-a856-17209bd021ad"
   },
   "outputs": [],
   "source": [
    "#splitting to half-weekly periods\n",
    "split_periods = []\n",
    "\n",
    "df_filtered = df_half_weeks[df_half_weeks[\"videos_count\"] == 50].copy()\n",
    "\n",
    "# Convert 'start' and 'end' to datetime\n",
    "df_filtered[\"start\"] = pd.to_datetime(df_filtered[\"start\"])\n",
    "df_filtered[\"end\"] = pd.to_datetime(df_filtered[\"end\"])\n",
    "\n",
    "# Create new DataFrame for half-month periods\n",
    "split_periods = []\n",
    "\n",
    "for _, row in df_filtered.iterrows():\n",
    "    start_date = row[\"start\"]\n",
    "    mid_date = start_date + timedelta(days=2)\n",
    "    end_date = row[\"end\"]\n",
    "\n",
    "    # Ensure mid_date does not exceed end_date\n",
    "    if mid_date > end_date:\n",
    "        mid_date = end_date\n",
    "\n",
    "    # First half\n",
    "    split_periods.append({\"start\": start_date, \"end\": mid_date - timedelta(seconds=1)})\n",
    "\n",
    "    # Second half\n",
    "    split_periods.append({\"start\": mid_date, \"end\": end_date})\n",
    "\n",
    "# Create new DataFrame with split periods\n",
    "df_couple_days = pd.DataFrame(split_periods)\n",
    "\n",
    "df_couple_days[\"start\"] = df_couple_days[\"start\"].dt.strftime(\"%Y-%m-%dT%H:%M:%S-05:00\")\n",
    "df_couple_days[\"end\"] = df_couple_days[\"end\"].dt.strftime(\"%Y-%m-%dT%H:%M:%S-05:00\")\n",
    "\n",
    "print(df_couple_days)"
   ]
  },
  {
   "cell_type": "code",
   "execution_count": null,
   "metadata": {
    "colab": {
     "base_uri": "https://localhost:8080/"
    },
    "executionInfo": {
     "elapsed": 15,
     "status": "ok",
     "timestamp": 1741616296254,
     "user": {
      "displayName": "Yana Kiprova",
      "userId": "05029747295494730402"
     },
     "user_tz": -60
    },
    "id": "T1K538Hla1K9",
    "outputId": "961b5742-1690-4a35-9add-3404f15e6149"
   },
   "outputs": [],
   "source": [
    "#validating that the number of periods id correct\n",
    "count50 = df_half_weeks[df_half_weeks[\"videos_count\"] == 50]\n",
    "count50.shape"
   ]
  },
  {
   "cell_type": "code",
   "execution_count": null,
   "metadata": {
    "colab": {
     "base_uri": "https://localhost:8080/"
    },
    "executionInfo": {
     "elapsed": 5306,
     "status": "ok",
     "timestamp": 1741616461194,
     "user": {
      "displayName": "Yana Kiprova",
      "userId": "05029747295494730402"
     },
     "user_tz": -60
    },
    "id": "A2aCIsrdbEcE",
    "outputId": "34c1272f-c970-4f70-ff1c-6de54fbad525"
   },
   "outputs": [],
   "source": [
    "# Getting the youtube videos for the half weekly periods\n",
    "channel_id = \"UCpSJ5fGhmAME9Kx2D3ZvN3Q\" # Latina Noticias\n",
    "max_results = 50\n",
    "order = \"date\"\n",
    "keyword = \"robo|robó|roban|robaron|delincuentes|criminales|asalto|asaltó|asaltan|asaltaron|matan|mató|mataron|ladrón|asesinato|asesinado|asesinan|asesinaron|extorsionadores|extorsionador|extorsionan|extorsionaron|extorsionó|secuestro|secuestradores|secuestrada|secuestrado|secuestró|secuestraron|balacera|balean|balearon|balazos|sicariato|mafias|mafia|sicarios\"\n",
    "\n",
    "# Create empty dataframe for first time running it\n",
    "df = pd.DataFrame(columns=['video_id','title','url','channel','keyword','video_date'])\n",
    "videos_list = []\n",
    "videos_count_list = []\n",
    "\n",
    "for index, row in df_couple_days.iterrows():\n",
    "    published_after = row['start']\n",
    "    published_before = row['end']\n",
    "\n",
    "\n",
    "    all = get_youtube_videos(api_key, channel_id, keyword, max_results,\n",
    "                                                          order, published_after, published_before)\n",
    "    videos = all[0]\n",
    "    video_count = all[1]\n",
    "    videos_list.append(videos)\n",
    "    videos_count_list.append(video_count)"
   ]
  },
  {
   "cell_type": "code",
   "execution_count": null,
   "metadata": {
    "id": "YFnWSPOKbpX0"
   },
   "outputs": [],
   "source": [
    "#creating a df with the outputs\n",
    "flattened_list = np.concatenate(videos_list).tolist()\n",
    "df6 = pd.DataFrame(flattened_list)\n",
    "df6.drop(columns=['keyword'], inplace=True)"
   ]
  },
  {
   "cell_type": "code",
   "execution_count": null,
   "metadata": {
    "id": "SLxEz6v3bzGX"
   },
   "outputs": [],
   "source": [
    "#adding the video counts to the date ranges table\n",
    "df_couple_days['videos_count'] = videos_count_list"
   ]
  },
  {
   "cell_type": "code",
   "execution_count": null,
   "metadata": {
    "colab": {
     "base_uri": "https://localhost:8080/",
     "height": 17
    },
    "executionInfo": {
     "elapsed": 80,
     "status": "ok",
     "timestamp": 1741616646397,
     "user": {
      "displayName": "Yana Kiprova",
      "userId": "05029747295494730402"
     },
     "user_tz": -60
    },
    "id": "AFl2M34Sb7qw",
    "outputId": "5b6da2c6-ca79-4703-8c47-89a8cf85a341"
   },
   "outputs": [],
   "source": [
    "df_couple_days.to_csv(\"date_ranges_5.csv\")\n",
    "files.download('date_ranges_5.csv')\n",
    "df6.to_csv(\"video_titles_03.09.4.csv\")\n",
    "files.download('video_titles_03.09.4.csv')"
   ]
  },
  {
   "cell_type": "markdown",
   "metadata": {
    "id": "UBj6b0SWcf1C"
   },
   "source": [
    "## Combining all the video that have not already been collected"
   ]
  },
  {
   "cell_type": "code",
   "execution_count": null,
   "metadata": {
    "id": "z4a3podtQI0_",
    "outputId": "fd76599d-71b8-4ed7-c991-f7f70e388051",
    "scrolled": false
   },
   "outputs": [],
   "source": [
    "#DFs to combine: ATV_df_1, ATV_halfmonths_2, atv_weeks\n",
    "\n",
    "ATV_df_1 = pd.read_csv(\"ATV_df_1.csv\")\n",
    "ATV_df_1= ATV_df_1.drop(columns=['Unnamed: 0'])\n",
    "ATV_df_1.head()"
   ]
  },
  {
   "cell_type": "code",
   "execution_count": null,
   "metadata": {
    "id": "G1chgfxwQI0_",
    "outputId": "c34bbba5-c0b4-4975-cfe8-38c1fb3c71c9",
    "scrolled": true
   },
   "outputs": [],
   "source": [
    "# ATV_halfmonths_2 = pd.read_csv(\"ATV_halfmonths_2.csv\")\n",
    "ATV_halfmonths_2.head()"
   ]
  },
  {
   "cell_type": "code",
   "execution_count": null,
   "metadata": {
    "id": "zXD1A8uEQI1A",
    "outputId": "b4f6177f-decf-42b9-ad7d-5a3294ca962a",
    "scrolled": true
   },
   "outputs": [],
   "source": [
    "# df4 = pd.read_csv(\"ATV_weeks.csv\")\n",
    "df4.head()"
   ]
  },
  {
   "cell_type": "code",
   "execution_count": null,
   "metadata": {
    "id": "3_MsDGjyQI1A",
    "outputId": "8a863791-b6b2-4589-84d5-46f1361842eb"
   },
   "outputs": [],
   "source": [
    "print(df4.shape)\n",
    "print(ATV_halfmonths_2.shape)\n",
    "print(ATV_df_1.shape)"
   ]
  },
  {
   "cell_type": "code",
   "execution_count": null,
   "metadata": {
    "id": "1OKx6JNhgpNV",
    "outputId": "63b7be02-5cb7-4bca-a0f0-4ae90daf76ea"
   },
   "outputs": [],
   "source": [
    "combined_ATV_df = pd.concat([df4, ATV_halfmonths_2, ATV_df_1])\n",
    "combined_ATV_df.shape"
   ]
  },
  {
   "cell_type": "code",
   "execution_count": null,
   "metadata": {
    "colab": {
     "base_uri": "https://localhost:8080/",
     "height": 424
    },
    "executionInfo": {
     "elapsed": 15,
     "status": "ok",
     "timestamp": 1741618208681,
     "user": {
      "displayName": "Yana Kiprova",
      "userId": "05029747295494730402"
     },
     "user_tz": -60
    },
    "id": "hJLRD59ihhHv",
    "outputId": "916e59f2-bf8a-43be-a121-e90cd06891cb"
   },
   "outputs": [],
   "source": [
    "#removing duplicates\n",
    "combined_ATV_df = combined_ATV_df.drop_duplicates(subset=\"video_id\", keep=\"first\")\n",
    "combined_ATV_df = combined_ATV_df.reset_index(drop=True)\n",
    "combined_ATV_df"
   ]
  },
  {
   "cell_type": "code",
   "execution_count": null,
   "metadata": {
    "id": "g7sCa2CBqc3-"
   },
   "outputs": [],
   "source": [
    "combined_ATV_df.to_csv(\"combined_ATV_df.csv\")"
   ]
  },
  {
   "cell_type": "markdown",
   "metadata": {
    "id": "67JEJYooQI1B"
   },
   "source": [
    "# Collecting videos from El Comercio"
   ]
  },
  {
   "cell_type": "markdown",
   "metadata": {
    "id": "mZwzjqq0kq3D"
   },
   "source": [
    "## Full month periods"
   ]
  },
  {
   "cell_type": "code",
   "execution_count": null,
   "metadata": {
    "colab": {
     "base_uri": "https://localhost:8080/",
     "height": 424
    },
    "executionInfo": {
     "elapsed": 207,
     "status": "ok",
     "timestamp": 1742503414775,
     "user": {
      "displayName": "Yana Kiprova",
      "userId": "05029747295494730402"
     },
     "user_tz": -60
    },
    "id": "hqtRq_bNkuCZ",
    "outputId": "bcac7076-2a20-451a-a585-20b8fcc12b84"
   },
   "outputs": [],
   "source": [
    "#Dataframe with full month periods\n",
    "\n",
    "# Define the start and end dates\n",
    "start_date = datetime(2019, 2, 1)\n",
    "end_date = datetime(2025, 3, 1)\n",
    "\n",
    "# Create a list to hold the data\n",
    "data = []\n",
    "\n",
    "# Generate the start and end date-times for each full month period\n",
    "current_date = start_date\n",
    "while current_date < end_date:\n",
    "    # Get the start date of the current month\n",
    "    start_date_str = current_date.strftime(\"%Y-%m-%dT%H:%M:%S-05:00\")\n",
    "\n",
    "    # Calculate the next month's first day for the end date\n",
    "    next_month = current_date.replace(day=28) + timedelta(days=4)  # this gives us the next month\n",
    "    end_date_str = next_month.replace(day=1) - timedelta(seconds=1)\n",
    "    end_date_str = end_date_str.strftime(\"%Y-%m-%dT%H:%M:%S-05:00\")\n",
    "\n",
    "    # Append to the data list\n",
    "    data.append([start_date_str, end_date_str])\n",
    "\n",
    "    # Move to the first day of the next month\n",
    "    current_date = next_month.replace(day=1)\n",
    "\n",
    "date_ranges = pd.DataFrame(data, columns=[\"start\", \"end\"])\n",
    "\n",
    "date_ranges\n"
   ]
  },
  {
   "cell_type": "code",
   "execution_count": null,
   "metadata": {
    "colab": {
     "base_uri": "https://localhost:8080/"
    },
    "executionInfo": {
     "elapsed": 18896,
     "status": "ok",
     "timestamp": 1741619749363,
     "user": {
      "displayName": "Yana Kiprova",
      "userId": "05029747295494730402"
     },
     "user_tz": -60
    },
    "id": "NqVCgAvZlKW8",
    "outputId": "da769e43-58d5-4ee3-a8c3-f369151af963"
   },
   "outputs": [],
   "source": [
    "# applying new function\n",
    "# Create a for loop that goes through each time frame\n",
    "    # gets all youtube videos and store them in a dataframe\n",
    "\n",
    "channel_id = \"UCLtGUPjKLqa3zgdmhKCZONg\" # El Comercio\n",
    "max_results = 50\n",
    "order = \"date\"\n",
    "keyword = \"robo|robó|roban|robaron|delincuentes|criminales|asalto|asaltó|asaltan|asaltaron|matan|mató|mataron|ladrón|asesinato|asesinado|asesinan|asesinaron|extorsionadores|extorsionador|extorsionan|extorsionaron|extorsionó|secuestro|secuestradores|secuestrada|secuestrado|secuestró|secuestraron|balacera|balean|balearon|balazos|sicariato|mafias|mafia|sicarios\"\n",
    "\n",
    "# Create empty dataframe for first time running it\n",
    "df = pd.DataFrame(columns=['video_id','title','url','channel','keyword','video_date'])\n",
    "videos_list = []\n",
    "videos_count_list = []\n",
    "\n",
    "for index, row in date_ranges.iterrows():\n",
    "    published_after = row['start']\n",
    "    published_before = row['end']\n",
    "\n",
    "\n",
    "    all = get_youtube_videos(api_key, channel_id, keyword, max_results,\n",
    "                                                          order, published_after, published_before)\n",
    "    videos = all[0]\n",
    "    video_count = all[1]\n",
    "    videos_list.append(videos)\n",
    "    videos_count_list.append(video_count)\n"
   ]
  },
  {
   "cell_type": "code",
   "execution_count": null,
   "metadata": {
    "id": "xXhKk4Hzo2aX"
   },
   "outputs": [],
   "source": [
    "flattened_list = np.concatenate(videos_list).tolist()\n",
    "df_R_1 = pd.DataFrame(flattened_list)\n",
    "df_R_1.drop(columns=['keyword'], inplace=True)\n",
    "\n",
    "date_ranges['videos_count'] = videos_count_list"
   ]
  },
  {
   "cell_type": "code",
   "execution_count": null,
   "metadata": {
    "id": "kA3dqYNRplys"
   },
   "outputs": [],
   "source": [
    "df_R_1.to_csv(\"df_EC_1.csv\")\n",
    "date_ranges.to_csv(\"date_ranges_EC_1.csv\")"
   ]
  },
  {
   "cell_type": "markdown",
   "metadata": {
    "id": "6bGFfG880Yua"
   },
   "source": [
    "## Week periods (not needed, no month has over 50)"
   ]
  },
  {
   "cell_type": "markdown",
   "metadata": {
    "id": "NUtDVFzc3bbE"
   },
   "source": [
    "# Combining all videos"
   ]
  },
  {
   "cell_type": "code",
   "execution_count": null,
   "metadata": {
    "id": "fZ7jzoAAQI1E",
    "outputId": "2e6590d1-a6a1-4f0b-8e3d-3d0686ad22e3",
    "scrolled": true
   },
   "outputs": [],
   "source": [
    "# El Comercio\n",
    "df_EC = pd.read_csv(\"df_EC_1.csv\")\n",
    "df_EC.head()"
   ]
  },
  {
   "cell_type": "code",
   "execution_count": null,
   "metadata": {
    "id": "wnuMjYjnQI1E",
    "outputId": "51db90a0-5c66-42c5-cbac-a5b8b1ea72c8",
    "scrolled": true
   },
   "outputs": [],
   "source": [
    "# ATV\n",
    "df_ATV = pd.read_csv(\"combined_ATV_df.csv\")\n",
    "df_ATV.head()"
   ]
  },
  {
   "cell_type": "code",
   "execution_count": null,
   "metadata": {
    "id": "kBvgWnSpQI1F",
    "outputId": "ce2264f3-617f-4eae-e1ad-725cf91ee8e7"
   },
   "outputs": [],
   "source": [
    "print(df_ATV.shape)\n",
    "print(df_EC.shape)"
   ]
  },
  {
   "cell_type": "code",
   "execution_count": null,
   "metadata": {
    "colab": {
     "base_uri": "https://localhost:8080/",
     "height": 424
    },
    "executionInfo": {
     "elapsed": 15,
     "status": "ok",
     "timestamp": 1741776206821,
     "user": {
      "displayName": "Yana Kiprova",
      "userId": "05029747295494730402"
     },
     "user_tz": -60
    },
    "id": "-8Whq9s87xaP",
    "outputId": "fef720b8-19dc-4c8b-f4d9-cf66cbad8c71"
   },
   "outputs": [],
   "source": [
    "#combining ATV and El Comercio\n",
    "combined_df = pd.concat([df_ATV, df_EC])\n",
    "combined_df= combined_df.drop(columns=['Unnamed: 0'])\n",
    "combined_df"
   ]
  },
  {
   "cell_type": "code",
   "execution_count": null,
   "metadata": {
    "colab": {
     "base_uri": "https://localhost:8080/",
     "height": 424
    },
    "executionInfo": {
     "elapsed": 57,
     "status": "ok",
     "timestamp": 1741776224725,
     "user": {
      "displayName": "Yana Kiprova",
      "userId": "05029747295494730402"
     },
     "user_tz": -60
    },
    "id": "w1tix-7a8Lnt",
    "outputId": "47dccbe7-1db0-44ad-d0cf-68d0de33794e"
   },
   "outputs": [],
   "source": [
    "#removing duplicates\n",
    "combined_df = combined_df.drop_duplicates(subset=\"video_id\", keep=\"first\")\n",
    "combined_df = combined_df.reset_index(drop=True)\n",
    "combined_df"
   ]
  },
  {
   "cell_type": "markdown",
   "metadata": {
    "id": "yN8c_Nt-7Dou"
   },
   "source": [
    "# Transripts"
   ]
  },
  {
   "cell_type": "code",
   "execution_count": null,
   "metadata": {
    "id": "TLNYZ7bH7Dou"
   },
   "outputs": [],
   "source": [
    "# for test\n",
    "video_id = # Video ID removed"
   ]
  },
  {
   "cell_type": "code",
   "execution_count": null,
   "metadata": {
    "id": "1Q8ccG-sAoNf"
   },
   "outputs": [],
   "source": [
    "# trnascript function that stores also the error messages\n",
    "\n",
    "def get_transcript(video_id, language='es'):\n",
    "    try:\n",
    "        transcript = YouTubeTranscriptApi.get_transcript(video_id, languages=[language])\n",
    "        return \" \".join([line['text'] for line in transcript])  # Join transcript into a single string\n",
    "    except Exception as e:\n",
    "        return f\"Error: {e}\"  # Return error message"
   ]
  },
  {
   "cell_type": "code",
   "execution_count": null,
   "metadata": {
    "id": "70ZWFZcbQI1H",
    "outputId": "ea8b8b43-7c3c-4e30-fc8f-b03ff931e134"
   },
   "outputs": [],
   "source": [
    "get_transcript(video_id)"
   ]
  },
  {
   "cell_type": "code",
   "execution_count": null,
   "metadata": {
    "colab": {
     "base_uri": "https://localhost:8080/",
     "height": 49,
     "referenced_widgets": [
      "bff119a263f34dc2bc160e40d2c1fc73",
      "2465b4b8d0b54f13a4395329f12a23bb",
      "ebf0612fe20040fbba9d3b815beadc14",
      "a8bfe89a89d74bf99abf95359016f0fd",
      "e4868061d2494ae9a504a78f2171386c",
      "946d258faeac45d48db894d4b7c19e7d",
      "f497f1637c2d4f2b9f98a5be37579cdb",
      "56605fbff8294b8c91304a707a61325c",
      "0d528647d4ec4159aa065f2a389ef35d",
      "75cc97ffd8184db3a329e6c448ea7376",
      "b281e2914b4949519263c97a62d1cd6b",
      "f78838c0b5154cafa0da2cded29841ab"
     ]
    },
    "executionInfo": {
     "elapsed": 1521030,
     "status": "ok",
     "timestamp": 1741776021599,
     "user": {
      "displayName": "Yana Kiprova",
      "userId": "05029747295494730402"
     },
     "user_tz": -60
    },
    "id": "eoCTbuQJ9SsI",
    "outputId": "6f9c02ad-b336-4aab-97f7-df64ecf579eb"
   },
   "outputs": [],
   "source": [
    "# getting transcripts for videos in full df\n",
    "combined_df['transcripts'] = [\n",
    "    get_transcript(video_id) if time.sleep(2) is None else None\n",
    "    for video_id in tqdm(combined_df['video_id'], desc=\"Processing transcripts\")\n",
    "]"
   ]
  },
  {
   "cell_type": "code",
   "execution_count": null,
   "metadata": {
    "id": "cgZrz7lm8QX9"
   },
   "outputs": [],
   "source": [
    "# Save to csv as backup\n",
    "combined_df.to_csv(\"ATV_EC_transcripts_1.csv\")"
   ]
  },
  {
   "cell_type": "code",
   "execution_count": null,
   "metadata": {
    "id": "3Cq2VDELQI1I",
    "outputId": "97e678ae-d9b0-49a3-db17-cfe2c54a6b5b"
   },
   "outputs": [],
   "source": [
    "combined_df = pd.read_csv(\"ATV_EC_transcripts_1.csv\")\n",
    "combined_df.shape"
   ]
  },
  {
   "cell_type": "code",
   "execution_count": null,
   "metadata": {
    "id": "kDRvoZq0513N"
   },
   "outputs": [],
   "source": [
    "# Filter out rows where the transcript contains an error message\n",
    "df_errors = combined_df[combined_df['transcripts'].str.contains(\"Error:\", na=False)].copy()"
   ]
  },
  {
   "cell_type": "code",
   "execution_count": null,
   "metadata": {
    "id": "cl5Kul8cQI1I",
    "outputId": "86019af6-d704-4106-f179-d5b9e5913eca"
   },
   "outputs": [],
   "source": [
    "df_errors.shape"
   ]
  },
  {
   "cell_type": "code",
   "execution_count": null,
   "metadata": {
    "id": "B_JFTmi0QI1I",
    "outputId": "c6c77fe0-3e2d-4a2d-ecc6-40d25123b624"
   },
   "outputs": [],
   "source": [
    "# Check types of errors\n",
    "df_test = df_errors.copy()\n",
    "\n",
    "error_count = df_test[df_test['transcripts'].str.startswith(\"Error\", na=False)].shape[0]\n",
    "print(f\"Total transcripts with errors: {error_count}\")\n",
    "error_count = df_test[df_test['transcripts'].str.contains('age-restricted', case=False, na=False)].shape[0]\n",
    "print(f\"Total transcripts with age-restricted errors: {error_count}\")\n",
    "error_count = df_test[df_test['transcripts'].str.contains('Subtitles are disabled', case=False, na=False)].shape[0]\n",
    "print(f\"Total transcripts with subtitles are disabled errors: {error_count}\")\n",
    "error_count = df_test[df_test['transcripts'].str.contains('video is unplayable', case=False, na=False)].shape[0]\n",
    "print(f\"Total transcripts with video is unplayable errors: {error_count}\")\n",
    "error_count = df_test[df_test['transcripts'].str.contains('requested language codes:', case=False, na=False)].shape[0]\n",
    "print(f\"Total transcripts with requested language codes: ['es'] errors: {error_count}\")"
   ]
  },
  {
   "cell_type": "code",
   "execution_count": null,
   "metadata": {
    "id": "l5Xz-4eOQI1J",
    "outputId": "309d2843-7f0a-4ab8-d9b2-74d1753fe153"
   },
   "outputs": [],
   "source": [
    "# Remove rows with errors\n",
    "\n",
    "combined_df = combined_df[~combined_df['transcripts'].str.startswith(\"Error:\")]\n",
    "combined_df.shape"
   ]
  },
  {
   "cell_type": "code",
   "execution_count": null,
   "metadata": {
    "id": "fUnDbf6VQI1J"
   },
   "outputs": [],
   "source": [
    "# Download to csv\n",
    "combined_df.to_csv(\"ATV_EC_transcripts_1.csv\")"
   ]
  }
 ],
 "metadata": {
  "colab": {
   "provenance": [],
   "toc_visible": true
  },
  "kernelspec": {
   "display_name": "Python 3 (ipykernel)",
   "language": "python",
   "name": "python3"
  },
  "language_info": {
   "codemirror_mode": {
    "name": "ipython",
    "version": 3
   },
   "file_extension": ".py",
   "mimetype": "text/x-python",
   "name": "python",
   "nbconvert_exporter": "python",
   "pygments_lexer": "ipython3",
   "version": "3.11.4"
  },
  "widgets": {
   "application/vnd.jupyter.widget-state+json": {
    "0d528647d4ec4159aa065f2a389ef35d": {
     "model_module": "@jupyter-widgets/controls",
     "model_module_version": "1.5.0",
     "model_name": "ProgressStyleModel",
     "state": {
      "_model_module": "@jupyter-widgets/controls",
      "_model_module_version": "1.5.0",
      "_model_name": "ProgressStyleModel",
      "_view_count": null,
      "_view_module": "@jupyter-widgets/base",
      "_view_module_version": "1.2.0",
      "_view_name": "StyleView",
      "bar_color": null,
      "description_width": ""
     }
    },
    "2465b4b8d0b54f13a4395329f12a23bb": {
     "model_module": "@jupyter-widgets/controls",
     "model_module_version": "1.5.0",
     "model_name": "HTMLModel",
     "state": {
      "_dom_classes": [],
      "_model_module": "@jupyter-widgets/controls",
      "_model_module_version": "1.5.0",
      "_model_name": "HTMLModel",
      "_view_count": null,
      "_view_module": "@jupyter-widgets/controls",
      "_view_module_version": "1.5.0",
      "_view_name": "HTMLView",
      "description": "",
      "description_tooltip": null,
      "layout": "IPY_MODEL_946d258faeac45d48db894d4b7c19e7d",
      "placeholder": "​",
      "style": "IPY_MODEL_f497f1637c2d4f2b9f98a5be37579cdb",
      "value": "100%"
     }
    },
    "56605fbff8294b8c91304a707a61325c": {
     "model_module": "@jupyter-widgets/base",
     "model_module_version": "1.2.0",
     "model_name": "LayoutModel",
     "state": {
      "_model_module": "@jupyter-widgets/base",
      "_model_module_version": "1.2.0",
      "_model_name": "LayoutModel",
      "_view_count": null,
      "_view_module": "@jupyter-widgets/base",
      "_view_module_version": "1.2.0",
      "_view_name": "LayoutView",
      "align_content": null,
      "align_items": null,
      "align_self": null,
      "border": null,
      "bottom": null,
      "display": null,
      "flex": null,
      "flex_flow": null,
      "grid_area": null,
      "grid_auto_columns": null,
      "grid_auto_flow": null,
      "grid_auto_rows": null,
      "grid_column": null,
      "grid_gap": null,
      "grid_row": null,
      "grid_template_areas": null,
      "grid_template_columns": null,
      "grid_template_rows": null,
      "height": null,
      "justify_content": null,
      "justify_items": null,
      "left": null,
      "margin": null,
      "max_height": null,
      "max_width": null,
      "min_height": null,
      "min_width": null,
      "object_fit": null,
      "object_position": null,
      "order": null,
      "overflow": null,
      "overflow_x": null,
      "overflow_y": null,
      "padding": null,
      "right": null,
      "top": null,
      "visibility": null,
      "width": null
     }
    },
    "75cc97ffd8184db3a329e6c448ea7376": {
     "model_module": "@jupyter-widgets/base",
     "model_module_version": "1.2.0",
     "model_name": "LayoutModel",
     "state": {
      "_model_module": "@jupyter-widgets/base",
      "_model_module_version": "1.2.0",
      "_model_name": "LayoutModel",
      "_view_count": null,
      "_view_module": "@jupyter-widgets/base",
      "_view_module_version": "1.2.0",
      "_view_name": "LayoutView",
      "align_content": null,
      "align_items": null,
      "align_self": null,
      "border": null,
      "bottom": null,
      "display": null,
      "flex": null,
      "flex_flow": null,
      "grid_area": null,
      "grid_auto_columns": null,
      "grid_auto_flow": null,
      "grid_auto_rows": null,
      "grid_column": null,
      "grid_gap": null,
      "grid_row": null,
      "grid_template_areas": null,
      "grid_template_columns": null,
      "grid_template_rows": null,
      "height": null,
      "justify_content": null,
      "justify_items": null,
      "left": null,
      "margin": null,
      "max_height": null,
      "max_width": null,
      "min_height": null,
      "min_width": null,
      "object_fit": null,
      "object_position": null,
      "order": null,
      "overflow": null,
      "overflow_x": null,
      "overflow_y": null,
      "padding": null,
      "right": null,
      "top": null,
      "visibility": null,
      "width": null
     }
    },
    "946d258faeac45d48db894d4b7c19e7d": {
     "model_module": "@jupyter-widgets/base",
     "model_module_version": "1.2.0",
     "model_name": "LayoutModel",
     "state": {
      "_model_module": "@jupyter-widgets/base",
      "_model_module_version": "1.2.0",
      "_model_name": "LayoutModel",
      "_view_count": null,
      "_view_module": "@jupyter-widgets/base",
      "_view_module_version": "1.2.0",
      "_view_name": "LayoutView",
      "align_content": null,
      "align_items": null,
      "align_self": null,
      "border": null,
      "bottom": null,
      "display": null,
      "flex": null,
      "flex_flow": null,
      "grid_area": null,
      "grid_auto_columns": null,
      "grid_auto_flow": null,
      "grid_auto_rows": null,
      "grid_column": null,
      "grid_gap": null,
      "grid_row": null,
      "grid_template_areas": null,
      "grid_template_columns": null,
      "grid_template_rows": null,
      "height": null,
      "justify_content": null,
      "justify_items": null,
      "left": null,
      "margin": null,
      "max_height": null,
      "max_width": null,
      "min_height": null,
      "min_width": null,
      "object_fit": null,
      "object_position": null,
      "order": null,
      "overflow": null,
      "overflow_x": null,
      "overflow_y": null,
      "padding": null,
      "right": null,
      "top": null,
      "visibility": null,
      "width": null
     }
    },
    "a8bfe89a89d74bf99abf95359016f0fd": {
     "model_module": "@jupyter-widgets/controls",
     "model_module_version": "1.5.0",
     "model_name": "HTMLModel",
     "state": {
      "_dom_classes": [],
      "_model_module": "@jupyter-widgets/controls",
      "_model_module_version": "1.5.0",
      "_model_name": "HTMLModel",
      "_view_count": null,
      "_view_module": "@jupyter-widgets/controls",
      "_view_module_version": "1.5.0",
      "_view_name": "HTMLView",
      "description": "",
      "description_tooltip": null,
      "layout": "IPY_MODEL_75cc97ffd8184db3a329e6c448ea7376",
      "placeholder": "​",
      "style": "IPY_MODEL_b281e2914b4949519263c97a62d1cd6b",
      "value": " 5296/5296 [56:59&lt;00:00,  1.29it/s]"
     }
    },
    "b281e2914b4949519263c97a62d1cd6b": {
     "model_module": "@jupyter-widgets/controls",
     "model_module_version": "1.5.0",
     "model_name": "DescriptionStyleModel",
     "state": {
      "_model_module": "@jupyter-widgets/controls",
      "_model_module_version": "1.5.0",
      "_model_name": "DescriptionStyleModel",
      "_view_count": null,
      "_view_module": "@jupyter-widgets/base",
      "_view_module_version": "1.2.0",
      "_view_name": "StyleView",
      "description_width": ""
     }
    },
    "bff119a263f34dc2bc160e40d2c1fc73": {
     "model_module": "@jupyter-widgets/controls",
     "model_module_version": "1.5.0",
     "model_name": "HBoxModel",
     "state": {
      "_dom_classes": [],
      "_model_module": "@jupyter-widgets/controls",
      "_model_module_version": "1.5.0",
      "_model_name": "HBoxModel",
      "_view_count": null,
      "_view_module": "@jupyter-widgets/controls",
      "_view_module_version": "1.5.0",
      "_view_name": "HBoxView",
      "box_style": "",
      "children": [
       "IPY_MODEL_2465b4b8d0b54f13a4395329f12a23bb",
       "IPY_MODEL_ebf0612fe20040fbba9d3b815beadc14",
       "IPY_MODEL_a8bfe89a89d74bf99abf95359016f0fd"
      ],
      "layout": "IPY_MODEL_e4868061d2494ae9a504a78f2171386c"
     }
    },
    "e4868061d2494ae9a504a78f2171386c": {
     "model_module": "@jupyter-widgets/base",
     "model_module_version": "1.2.0",
     "model_name": "LayoutModel",
     "state": {
      "_model_module": "@jupyter-widgets/base",
      "_model_module_version": "1.2.0",
      "_model_name": "LayoutModel",
      "_view_count": null,
      "_view_module": "@jupyter-widgets/base",
      "_view_module_version": "1.2.0",
      "_view_name": "LayoutView",
      "align_content": null,
      "align_items": null,
      "align_self": null,
      "border": null,
      "bottom": null,
      "display": null,
      "flex": null,
      "flex_flow": null,
      "grid_area": null,
      "grid_auto_columns": null,
      "grid_auto_flow": null,
      "grid_auto_rows": null,
      "grid_column": null,
      "grid_gap": null,
      "grid_row": null,
      "grid_template_areas": null,
      "grid_template_columns": null,
      "grid_template_rows": null,
      "height": null,
      "justify_content": null,
      "justify_items": null,
      "left": null,
      "margin": null,
      "max_height": null,
      "max_width": null,
      "min_height": null,
      "min_width": null,
      "object_fit": null,
      "object_position": null,
      "order": null,
      "overflow": null,
      "overflow_x": null,
      "overflow_y": null,
      "padding": null,
      "right": null,
      "top": null,
      "visibility": null,
      "width": null
     }
    },
    "ebf0612fe20040fbba9d3b815beadc14": {
     "model_module": "@jupyter-widgets/controls",
     "model_module_version": "1.5.0",
     "model_name": "FloatProgressModel",
     "state": {
      "_dom_classes": [],
      "_model_module": "@jupyter-widgets/controls",
      "_model_module_version": "1.5.0",
      "_model_name": "FloatProgressModel",
      "_view_count": null,
      "_view_module": "@jupyter-widgets/controls",
      "_view_module_version": "1.5.0",
      "_view_name": "ProgressView",
      "bar_style": "success",
      "description": "",
      "description_tooltip": null,
      "layout": "IPY_MODEL_56605fbff8294b8c91304a707a61325c",
      "max": 5296,
      "min": 0,
      "orientation": "horizontal",
      "style": "IPY_MODEL_0d528647d4ec4159aa065f2a389ef35d",
      "value": 5296
     }
    },
    "f497f1637c2d4f2b9f98a5be37579cdb": {
     "model_module": "@jupyter-widgets/controls",
     "model_module_version": "1.5.0",
     "model_name": "DescriptionStyleModel",
     "state": {
      "_model_module": "@jupyter-widgets/controls",
      "_model_module_version": "1.5.0",
      "_model_name": "DescriptionStyleModel",
      "_view_count": null,
      "_view_module": "@jupyter-widgets/base",
      "_view_module_version": "1.2.0",
      "_view_name": "StyleView",
      "description_width": ""
     }
    }
   }
  }
 },
 "nbformat": 4,
 "nbformat_minor": 1
}
